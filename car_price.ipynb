{
 "cells": [
  {
   "cell_type": "markdown",
   "metadata": {},
   "source": [
    "# Определение стоимости автомобилей"
   ]
  },
  {
   "cell_type": "markdown",
   "metadata": {},
   "source": [
    "# Введение"
   ]
  },
  {
   "cell_type": "markdown",
   "metadata": {},
   "source": [
    "### Описание проекта \n",
    "Проект нацелен на оптимизацию приложения по продаже автомобилей с пробегом, в котором можно быстро узнать рыночную стоимость автомобиля по заданным параметрам.\n",
    "### Цель проекта\n",
    "Используя данные с параметрами и ценами автомобилей, создать модель предсказания цены машины по заданным параметрам.\n",
    "### Описание данных\n",
    "**Нам предоставлены исторические данные: технические характеристики, комплектации и цены автомобилей.**   \n",
    "\n",
    "\n",
    "**Признаки:**\n",
    "- DateCrawled — дата скачивания анкеты из базы\n",
    "- VehicleType — тип автомобильного кузова\n",
    "- RegistrationYear — год регистрации автомобиля\n",
    "- Gearbox — тип коробки передач\n",
    "- Power — мощность (л. с.)\n",
    "- Model — модель автомобиля\n",
    "- Kilometer — пробег (км)\n",
    "- RegistrationMonth — месяц регистрации автомобиля\n",
    "- FuelType — тип топлива\n",
    "- Brand — марка автомобиля\n",
    "- Repaired — была машина в ремонте или нет\n",
    "- DateCreated — дата создания анкеты\n",
    "- NumberOfPictures — количество фотографий автомобиля\n",
    "- PostalCode — почтовый индекс владельца анкеты (пользователя)\n",
    "- LastSeen — дата последней активности пользователя\n",
    "\n",
    "**Целевой признак:**\n",
    "- Price — цена (евро)\n",
    "\n",
    "**Заказчику важны:**\n",
    "\n",
    "- качество предсказания (RMSE не более 2500);\n",
    "- скорость предсказания;\n",
    "- время обучения.\n",
    "\n",
    "### План работы\n",
    "1. [Загрузка и подготовка данных](#section_1)  \n",
    "2. [Обучение моделей](#section_2)  \n",
    "3. [Анализ результатов моделей](#section_3)\n",
    "4. [Общий вывод](#section_4)"
   ]
  },
  {
   "cell_type": "markdown",
   "metadata": {},
   "source": [
    "<a id='section_1'></a>\n",
    "## Загрузка и подготовка данных"
   ]
  },
  {
   "cell_type": "markdown",
   "metadata": {},
   "source": [
    "Произведём загрузку необходимых библиотек."
   ]
  },
  {
   "cell_type": "code",
   "execution_count": 1,
   "metadata": {},
   "outputs": [],
   "source": [
    "# анализ данных\n",
    "import pandas as pd\n",
    "import numpy as np\n",
    "#from pandas_profiling import ProfileReport\n",
    "\n",
    "# модели машинного обучения\n",
    "from sklearn.linear_model import LinearRegression\n",
    "from sklearn.ensemble import RandomForestRegressor\n",
    "from sklearn.tree import DecisionTreeRegressor\n",
    "from lightgbm import LGBMRegressor\n",
    "from catboost import CatBoostRegressor\n",
    "\n",
    "# вспомогательные средства \n",
    "import time\n",
    "from sklearn.metrics import mean_squared_error, mean_absolute_error, r2_score\n",
    "from sklearn.model_selection import train_test_split\n",
    "from sklearn.dummy import DummyRegressor\n",
    "from sklearn.preprocessing import StandardScaler\n",
    "from sklearn.preprocessing import OneHotEncoder, OrdinalEncoder\n",
    "from sklearn.model_selection import GridSearchCV\n",
    "from sklearn.compose import make_column_transformer\n",
    "from sklearn.model_selection import cross_val_score\n",
    "from sklearn.pipeline import make_pipeline\n",
    "from sklearn.experimental import enable_halving_search_cv\n",
    "from sklearn.model_selection import HalvingRandomSearchCV, HalvingGridSearchCV"
   ]
  },
  {
   "cell_type": "markdown",
   "metadata": {},
   "source": [
    "Загрузим файл с данными."
   ]
  },
  {
   "cell_type": "code",
   "execution_count": 2,
   "metadata": {},
   "outputs": [],
   "source": [
    "try:\n",
    "    data = pd.read_csv(r'D:\\projects_data\\autos.csv')\n",
    "except:\n",
    "    data = pd.read_csv('autos.csv')"
   ]
  },
  {
   "cell_type": "markdown",
   "metadata": {},
   "source": [
    "### Изучение общей информации"
   ]
  },
  {
   "cell_type": "code",
   "execution_count": 3,
   "metadata": {
    "scrolled": false
   },
   "outputs": [],
   "source": [
    "#data.profile_report(title='Отчёт по стоимости автомобилей')"
   ]
  },
  {
   "cell_type": "markdown",
   "metadata": {},
   "source": [
    "Переименуем столбцы."
   ]
  },
  {
   "cell_type": "code",
   "execution_count": 4,
   "metadata": {},
   "outputs": [],
   "source": [
    "data.columns = data.columns.str.replace('(?<=[a-z])(?=[A-Z])', '_', regex=True).str.lower()"
   ]
  },
  {
   "cell_type": "code",
   "execution_count": 5,
   "metadata": {
    "scrolled": true
   },
   "outputs": [
    {
     "data": {
      "text/html": [
       "<div>\n",
       "<style scoped>\n",
       "    .dataframe tbody tr th:only-of-type {\n",
       "        vertical-align: middle;\n",
       "    }\n",
       "\n",
       "    .dataframe tbody tr th {\n",
       "        vertical-align: top;\n",
       "    }\n",
       "\n",
       "    .dataframe thead th {\n",
       "        text-align: right;\n",
       "    }\n",
       "</style>\n",
       "<table border=\"1\" class=\"dataframe\">\n",
       "  <thead>\n",
       "    <tr style=\"text-align: right;\">\n",
       "      <th></th>\n",
       "      <th>date_crawled</th>\n",
       "      <th>price</th>\n",
       "      <th>vehicle_type</th>\n",
       "      <th>registration_year</th>\n",
       "      <th>gearbox</th>\n",
       "      <th>power</th>\n",
       "      <th>model</th>\n",
       "      <th>kilometer</th>\n",
       "      <th>registration_month</th>\n",
       "      <th>fuel_type</th>\n",
       "      <th>brand</th>\n",
       "      <th>repaired</th>\n",
       "      <th>date_created</th>\n",
       "      <th>number_of_pictures</th>\n",
       "      <th>postal_code</th>\n",
       "      <th>last_seen</th>\n",
       "    </tr>\n",
       "  </thead>\n",
       "  <tbody>\n",
       "    <tr>\n",
       "      <th>0</th>\n",
       "      <td>2016-03-24 11:52:17</td>\n",
       "      <td>480</td>\n",
       "      <td>NaN</td>\n",
       "      <td>1993</td>\n",
       "      <td>manual</td>\n",
       "      <td>0</td>\n",
       "      <td>golf</td>\n",
       "      <td>150000</td>\n",
       "      <td>0</td>\n",
       "      <td>petrol</td>\n",
       "      <td>volkswagen</td>\n",
       "      <td>NaN</td>\n",
       "      <td>2016-03-24 00:00:00</td>\n",
       "      <td>0</td>\n",
       "      <td>70435</td>\n",
       "      <td>2016-04-07 03:16:57</td>\n",
       "    </tr>\n",
       "    <tr>\n",
       "      <th>1</th>\n",
       "      <td>2016-03-24 10:58:45</td>\n",
       "      <td>18300</td>\n",
       "      <td>coupe</td>\n",
       "      <td>2011</td>\n",
       "      <td>manual</td>\n",
       "      <td>190</td>\n",
       "      <td>NaN</td>\n",
       "      <td>125000</td>\n",
       "      <td>5</td>\n",
       "      <td>gasoline</td>\n",
       "      <td>audi</td>\n",
       "      <td>yes</td>\n",
       "      <td>2016-03-24 00:00:00</td>\n",
       "      <td>0</td>\n",
       "      <td>66954</td>\n",
       "      <td>2016-04-07 01:46:50</td>\n",
       "    </tr>\n",
       "    <tr>\n",
       "      <th>2</th>\n",
       "      <td>2016-03-14 12:52:21</td>\n",
       "      <td>9800</td>\n",
       "      <td>suv</td>\n",
       "      <td>2004</td>\n",
       "      <td>auto</td>\n",
       "      <td>163</td>\n",
       "      <td>grand</td>\n",
       "      <td>125000</td>\n",
       "      <td>8</td>\n",
       "      <td>gasoline</td>\n",
       "      <td>jeep</td>\n",
       "      <td>NaN</td>\n",
       "      <td>2016-03-14 00:00:00</td>\n",
       "      <td>0</td>\n",
       "      <td>90480</td>\n",
       "      <td>2016-04-05 12:47:46</td>\n",
       "    </tr>\n",
       "    <tr>\n",
       "      <th>3</th>\n",
       "      <td>2016-03-17 16:54:04</td>\n",
       "      <td>1500</td>\n",
       "      <td>small</td>\n",
       "      <td>2001</td>\n",
       "      <td>manual</td>\n",
       "      <td>75</td>\n",
       "      <td>golf</td>\n",
       "      <td>150000</td>\n",
       "      <td>6</td>\n",
       "      <td>petrol</td>\n",
       "      <td>volkswagen</td>\n",
       "      <td>no</td>\n",
       "      <td>2016-03-17 00:00:00</td>\n",
       "      <td>0</td>\n",
       "      <td>91074</td>\n",
       "      <td>2016-03-17 17:40:17</td>\n",
       "    </tr>\n",
       "    <tr>\n",
       "      <th>4</th>\n",
       "      <td>2016-03-31 17:25:20</td>\n",
       "      <td>3600</td>\n",
       "      <td>small</td>\n",
       "      <td>2008</td>\n",
       "      <td>manual</td>\n",
       "      <td>69</td>\n",
       "      <td>fabia</td>\n",
       "      <td>90000</td>\n",
       "      <td>7</td>\n",
       "      <td>gasoline</td>\n",
       "      <td>skoda</td>\n",
       "      <td>no</td>\n",
       "      <td>2016-03-31 00:00:00</td>\n",
       "      <td>0</td>\n",
       "      <td>60437</td>\n",
       "      <td>2016-04-06 10:17:21</td>\n",
       "    </tr>\n",
       "  </tbody>\n",
       "</table>\n",
       "</div>"
      ],
      "text/plain": [
       "          date_crawled  price vehicle_type  registration_year gearbox  power  \\\n",
       "0  2016-03-24 11:52:17    480          NaN               1993  manual      0   \n",
       "1  2016-03-24 10:58:45  18300        coupe               2011  manual    190   \n",
       "2  2016-03-14 12:52:21   9800          suv               2004    auto    163   \n",
       "3  2016-03-17 16:54:04   1500        small               2001  manual     75   \n",
       "4  2016-03-31 17:25:20   3600        small               2008  manual     69   \n",
       "\n",
       "   model  kilometer  registration_month fuel_type       brand repaired  \\\n",
       "0   golf     150000                   0    petrol  volkswagen      NaN   \n",
       "1    NaN     125000                   5  gasoline        audi      yes   \n",
       "2  grand     125000                   8  gasoline        jeep      NaN   \n",
       "3   golf     150000                   6    petrol  volkswagen       no   \n",
       "4  fabia      90000                   7  gasoline       skoda       no   \n",
       "\n",
       "          date_created  number_of_pictures  postal_code            last_seen  \n",
       "0  2016-03-24 00:00:00                   0        70435  2016-04-07 03:16:57  \n",
       "1  2016-03-24 00:00:00                   0        66954  2016-04-07 01:46:50  \n",
       "2  2016-03-14 00:00:00                   0        90480  2016-04-05 12:47:46  \n",
       "3  2016-03-17 00:00:00                   0        91074  2016-03-17 17:40:17  \n",
       "4  2016-03-31 00:00:00                   0        60437  2016-04-06 10:17:21  "
      ]
     },
     "execution_count": 5,
     "metadata": {},
     "output_type": "execute_result"
    }
   ],
   "source": [
    "data.head()"
   ]
  },
  {
   "cell_type": "markdown",
   "metadata": {},
   "source": [
    "### Дубликаты"
   ]
  },
  {
   "cell_type": "code",
   "execution_count": 6,
   "metadata": {},
   "outputs": [
    {
     "data": {
      "text/plain": [
       "4"
      ]
     },
     "execution_count": 6,
     "metadata": {},
     "output_type": "execute_result"
    }
   ],
   "source": [
    "data.duplicated().sum()"
   ]
  },
  {
   "cell_type": "code",
   "execution_count": 7,
   "metadata": {},
   "outputs": [],
   "source": [
    "data.drop_duplicates(inplace=True)"
   ]
  },
  {
   "cell_type": "markdown",
   "metadata": {},
   "source": [
    "### Аномальные значения"
   ]
  },
  {
   "cell_type": "markdown",
   "metadata": {},
   "source": [
    "Избавимся от аномальных значений в столбцах `price`, `registration_year`, `power`."
   ]
  },
  {
   "cell_type": "code",
   "execution_count": 8,
   "metadata": {},
   "outputs": [],
   "source": [
    "data = data[data['price'] > 100]\n",
    "data = data[(data['registration_year'] > 1980) & (data['registration_year'] < 2017)]\n",
    "data = data[(data['power'] > 40) & (data['power'] < 350)]"
   ]
  },
  {
   "cell_type": "code",
   "execution_count": 9,
   "metadata": {},
   "outputs": [
    {
     "data": {
      "text/plain": [
       "Timestamp('2016-04-07 14:36:58')"
      ]
     },
     "execution_count": 9,
     "metadata": {},
     "output_type": "execute_result"
    }
   ],
   "source": [
    "data['date_crawled'].astype('datetime64').max()"
   ]
  },
  {
   "cell_type": "markdown",
   "metadata": {},
   "source": [
    "### Лишние столбцы"
   ]
  },
  {
   "cell_type": "markdown",
   "metadata": {},
   "source": [
    "В данных присутствует столбец `number_of_pictures`, который имеет только одно значение для всех объектов. Удалим данный признак."
   ]
  },
  {
   "cell_type": "code",
   "execution_count": 10,
   "metadata": {},
   "outputs": [
    {
     "data": {
      "text/html": [
       "<div>\n",
       "<style scoped>\n",
       "    .dataframe tbody tr th:only-of-type {\n",
       "        vertical-align: middle;\n",
       "    }\n",
       "\n",
       "    .dataframe tbody tr th {\n",
       "        vertical-align: top;\n",
       "    }\n",
       "\n",
       "    .dataframe thead th {\n",
       "        text-align: right;\n",
       "    }\n",
       "</style>\n",
       "<table border=\"1\" class=\"dataframe\">\n",
       "  <thead>\n",
       "    <tr style=\"text-align: right;\">\n",
       "      <th></th>\n",
       "      <th>date_crawled</th>\n",
       "      <th>date_created</th>\n",
       "    </tr>\n",
       "  </thead>\n",
       "  <tbody>\n",
       "    <tr>\n",
       "      <th>1</th>\n",
       "      <td>2016-03-24 10:58:45</td>\n",
       "      <td>2016-03-24 00:00:00</td>\n",
       "    </tr>\n",
       "    <tr>\n",
       "      <th>2</th>\n",
       "      <td>2016-03-14 12:52:21</td>\n",
       "      <td>2016-03-14 00:00:00</td>\n",
       "    </tr>\n",
       "    <tr>\n",
       "      <th>3</th>\n",
       "      <td>2016-03-17 16:54:04</td>\n",
       "      <td>2016-03-17 00:00:00</td>\n",
       "    </tr>\n",
       "    <tr>\n",
       "      <th>4</th>\n",
       "      <td>2016-03-31 17:25:20</td>\n",
       "      <td>2016-03-31 00:00:00</td>\n",
       "    </tr>\n",
       "    <tr>\n",
       "      <th>5</th>\n",
       "      <td>2016-04-04 17:36:23</td>\n",
       "      <td>2016-04-04 00:00:00</td>\n",
       "    </tr>\n",
       "  </tbody>\n",
       "</table>\n",
       "</div>"
      ],
      "text/plain": [
       "          date_crawled         date_created\n",
       "1  2016-03-24 10:58:45  2016-03-24 00:00:00\n",
       "2  2016-03-14 12:52:21  2016-03-14 00:00:00\n",
       "3  2016-03-17 16:54:04  2016-03-17 00:00:00\n",
       "4  2016-03-31 17:25:20  2016-03-31 00:00:00\n",
       "5  2016-04-04 17:36:23  2016-04-04 00:00:00"
      ]
     },
     "execution_count": 10,
     "metadata": {},
     "output_type": "execute_result"
    }
   ],
   "source": [
    "data[['date_crawled', 'date_created']].head()"
   ]
  },
  {
   "cell_type": "code",
   "execution_count": 11,
   "metadata": {
    "scrolled": false
   },
   "outputs": [
    {
     "data": {
      "text/plain": [
       "0.9663690178968066"
      ]
     },
     "execution_count": 11,
     "metadata": {},
     "output_type": "execute_result"
    }
   ],
   "source": [
    "(pd.to_datetime(data['date_crawled']).dt.date == pd.to_datetime(data['date_created']).dt.date).mean()"
   ]
  },
  {
   "cell_type": "code",
   "execution_count": 12,
   "metadata": {},
   "outputs": [],
   "source": [
    "drop_list = ['number_of_pictures', 'date_crawled', 'registration_month', 'postal_code', 'date_created', 'last_seen']"
   ]
  },
  {
   "cell_type": "code",
   "execution_count": 13,
   "metadata": {},
   "outputs": [],
   "source": [
    "data.drop(drop_list, axis=1, inplace=True)"
   ]
  },
  {
   "cell_type": "markdown",
   "metadata": {},
   "source": [
    "### Пропуски "
   ]
  },
  {
   "cell_type": "markdown",
   "metadata": {},
   "source": [
    "Наблюдается значительное количество пропусков в столбцах `vehicle_type`, `gearbox`, `model`, `fuel_type` и `repaired`. Так как алгоритмы градиентного бустинга показывают хорошие результаты на данных с пропусками, замени отсутствуующие данные `'NaN'`."
   ]
  },
  {
   "cell_type": "code",
   "execution_count": 14,
   "metadata": {},
   "outputs": [],
   "source": [
    "data_ready = data.fillna('NaN')"
   ]
  },
  {
   "cell_type": "markdown",
   "metadata": {},
   "source": [
    "### Промежуточный вывод"
   ]
  },
  {
   "cell_type": "markdown",
   "metadata": {},
   "source": [
    "1. Были преобразованы данные с датами, чтобы в дальнейшем использовать их для обучения моделей.\n",
    "2. Удалены дубликаты.\n",
    "3. Обработаны аномальные значнеия в столбцах с данными о цене, дате регистрации и мощности автомобилей.\n",
    "4. Удалены лишние признаки.\n",
    "5. Обнаруженные пропуски в категориальных признаках заменены значнеием `NaN` для дальнейшего использования в алгоритмах градиентного бустинга без потери значительного количества строк."
   ]
  },
  {
   "cell_type": "markdown",
   "metadata": {},
   "source": [
    "<a id='section_2'></a>\n",
    "## Обучение моделей"
   ]
  },
  {
   "cell_type": "markdown",
   "metadata": {},
   "source": [
    "Создадим функцию, которая будет выдавать оценку скорости работы алгоритма и RMSE. В ней будет происходить обучение модели, выдача предсказаний и запись требуемых патаметров."
   ]
  },
  {
   "cell_type": "code",
   "execution_count": 15,
   "metadata": {},
   "outputs": [],
   "source": [
    "def model_score(model, X_train, X_valid, y_train, y_valid):\n",
    "    \n",
    "    start = time.time()    \n",
    "    model.fit(X_train, y_train)\n",
    "    training_time = time.time() - start\n",
    "    \n",
    "    start = time.time()  \n",
    "    y_pred = model.predict(X_valid)\n",
    "    predict_time = time.time() - start\n",
    "     \n",
    "    total_time = training_time + predict_time\n",
    "\n",
    "    return training_time, predict_time, total_time, mean_squared_error(y_valid, y_pred, squared=False)"
   ]
  },
  {
   "cell_type": "code",
   "execution_count": 16,
   "metadata": {},
   "outputs": [],
   "source": [
    "# переменная для записи результатов моделей\n",
    "results = []"
   ]
  },
  {
   "cell_type": "markdown",
   "metadata": {},
   "source": [
    "### Деление на выборки"
   ]
  },
  {
   "cell_type": "markdown",
   "metadata": {},
   "source": [
    "Разделим данные на 3 выборки."
   ]
  },
  {
   "cell_type": "code",
   "execution_count": 17,
   "metadata": {},
   "outputs": [],
   "source": [
    "X = data_ready.drop('price', axis=1)\n",
    "y = data_ready['price']\n",
    "\n",
    "X_train, X_0, y_train, y_0 = train_test_split(X, y, test_size=0.25, random_state=12345)\n",
    "X_valid, X_test, y_valid, y_test = train_test_split(X_0, y_0, test_size=0.5, random_state=12345)"
   ]
  },
  {
   "cell_type": "code",
   "execution_count": 18,
   "metadata": {},
   "outputs": [
    {
     "data": {
      "text/plain": [
       "((217790, 9), (36298, 9), (36299, 9))"
      ]
     },
     "execution_count": 18,
     "metadata": {},
     "output_type": "execute_result"
    }
   ],
   "source": [
    "X_train.shape, X_valid.shape, X_test.shape"
   ]
  },
  {
   "cell_type": "code",
   "execution_count": 19,
   "metadata": {},
   "outputs": [],
   "source": [
    "cat_features = ['vehicle_type', 'gearbox', 'model', 'fuel_type', 'brand', 'repaired']\n",
    "num_features = X_train.columns.difference(cat_features).tolist()"
   ]
  },
  {
   "cell_type": "markdown",
   "metadata": {},
   "source": [
    "### CatBoost"
   ]
  },
  {
   "cell_type": "code",
   "execution_count": 20,
   "metadata": {},
   "outputs": [
    {
     "name": "stdout",
     "output_type": "stream",
     "text": [
      "CPU times: total: 59.8 s\n",
      "Wall time: 3min 18s\n"
     ]
    },
    {
     "data": {
      "text/plain": [
       "{'depth': 10, 'iterations': 100, 'learning_rate': 0.5}"
      ]
     },
     "execution_count": 20,
     "metadata": {},
     "output_type": "execute_result"
    }
   ],
   "source": [
    "%%time\n",
    "model = CatBoostRegressor(loss_function='RMSE', \n",
    "                          cat_features=cat_features, \n",
    "                          verbose=0,\n",
    "                          random_state=12345)\n",
    "\n",
    "params = {'learning_rate': [0.1, 0.3, 0.5],\n",
    "          'iterations': [50, 100],\n",
    "          'depth': [1, 5, 7, 10],\n",
    "         }\n",
    "\n",
    "cb_gs = GridSearchCV(model,\n",
    "                      params,\n",
    "                      cv=3,\n",
    "                      scoring='neg_root_mean_squared_error',\n",
    "                      verbose=0,\n",
    "                      n_jobs=-1)\n",
    "cb_gs.fit(X_train, y_train)\n",
    "cb_gs.best_params_"
   ]
  },
  {
   "cell_type": "code",
   "execution_count": 21,
   "metadata": {},
   "outputs": [
    {
     "name": "stdout",
     "output_type": "stream",
     "text": [
      "CPU times: total: 49.4 s\n",
      "Wall time: 10.7 s\n"
     ]
    }
   ],
   "source": [
    "%%time\n",
    "results.append(model_score(cb_gs.best_estimator_, X_train, X_valid, y_train, y_valid))"
   ]
  },
  {
   "cell_type": "markdown",
   "metadata": {},
   "source": [
    "### LightGBM"
   ]
  },
  {
   "cell_type": "markdown",
   "metadata": {},
   "source": [
    "Переведём категориальные признаки в тип данных `category`."
   ]
  },
  {
   "cell_type": "code",
   "execution_count": 22,
   "metadata": {},
   "outputs": [],
   "source": [
    "X_train_lgbm = X_train.copy()\n",
    "X_valid_lgbm = X_valid.copy()\n",
    "X_test_lgbm = X_test.copy()\n",
    "for c in cat_features:\n",
    "    X_train_lgbm[c] = X_train_lgbm[c].astype('category')\n",
    "    X_valid_lgbm[c] = X_valid_lgbm[c].astype('category')\n",
    "    X_test_lgbm[c] = X_test_lgbm[c].astype('category')"
   ]
  },
  {
   "cell_type": "code",
   "execution_count": 23,
   "metadata": {},
   "outputs": [
    {
     "name": "stdout",
     "output_type": "stream",
     "text": [
      "CPU times: total: 6.7 s\n",
      "Wall time: 23.5 s\n"
     ]
    },
    {
     "data": {
      "text/plain": [
       "{'learning_rate': 0.3, 'max_depth': 10, 'n_estimators': 100}"
      ]
     },
     "execution_count": 23,
     "metadata": {},
     "output_type": "execute_result"
    }
   ],
   "source": [
    "%%time\n",
    "model = LGBMRegressor(metric='RMSE', random_state=12345)\n",
    "\n",
    "params = {'learning_rate': [0.1, 0.3, 0.5],\n",
    "          'n_estimators': [50, 100],\n",
    "          'max_depth': [1, 5, 7, 10],\n",
    "         }\n",
    "\n",
    "lgbm_gs = GridSearchCV(model,\n",
    "                      params,\n",
    "                      cv=3,\n",
    "                      scoring='neg_root_mean_squared_error',\n",
    "                      verbose=0,\n",
    "                      n_jobs=-1)\n",
    "\n",
    "lgbm_gs.fit(X_train_lgbm, y_train)\n",
    "lgbm_gs.best_params_"
   ]
  },
  {
   "cell_type": "code",
   "execution_count": 24,
   "metadata": {},
   "outputs": [
    {
     "name": "stdout",
     "output_type": "stream",
     "text": [
      "CPU times: total: 5.83 s\n",
      "Wall time: 780 ms\n"
     ]
    }
   ],
   "source": [
    "%%time\n",
    "results.append(model_score(lgbm_gs.best_estimator_, X_train_lgbm, X_valid_lgbm, y_train, y_valid))"
   ]
  },
  {
   "cell_type": "markdown",
   "metadata": {},
   "source": [
    "### LinearRegresson"
   ]
  },
  {
   "cell_type": "code",
   "execution_count": 25,
   "metadata": {},
   "outputs": [],
   "source": [
    "X_train_lr = X_train.copy()\n",
    "X_valid_lr = X_valid.copy()"
   ]
  },
  {
   "cell_type": "code",
   "execution_count": 26,
   "metadata": {},
   "outputs": [],
   "source": [
    "col_transformer_lr = make_column_transformer(\n",
    "    (\n",
    "        OneHotEncoder(drop='first', handle_unknown='ignore'),\n",
    "        cat_features\n",
    "    ),\n",
    "    (\n",
    "        StandardScaler(), \n",
    "        num_features\n",
    "    ),\n",
    "    remainder='passthrough',\n",
    "    verbose_feature_names_out=False\n",
    ")\n",
    "\n",
    "\n",
    "X_train_lr = pd.DataFrame.sparse.from_spmatrix(\n",
    "    col_transformer_lr.fit_transform(X_train_lr),\n",
    "    columns=col_transformer_lr.get_feature_names_out()\n",
    ")"
   ]
  },
  {
   "cell_type": "code",
   "execution_count": 27,
   "metadata": {},
   "outputs": [],
   "source": [
    "X_valid_lr = pd.DataFrame.sparse.from_spmatrix(\n",
    "    col_transformer_lr.transform(X_valid_lr),\n",
    "    columns=col_transformer_lr.get_feature_names_out()\n",
    ")"
   ]
  },
  {
   "cell_type": "code",
   "execution_count": 28,
   "metadata": {},
   "outputs": [],
   "source": [
    "lr = LinearRegression()"
   ]
  },
  {
   "cell_type": "code",
   "execution_count": 29,
   "metadata": {},
   "outputs": [
    {
     "name": "stdout",
     "output_type": "stream",
     "text": [
      "CPU times: total: 25 s\n",
      "Wall time: 6.36 s\n"
     ]
    }
   ],
   "source": [
    "%%time\n",
    "results.append(model_score(lr, X_train_lr, X_valid_lr, y_train, y_valid))"
   ]
  },
  {
   "cell_type": "markdown",
   "metadata": {},
   "source": [
    "### RandomForest"
   ]
  },
  {
   "cell_type": "code",
   "execution_count": 30,
   "metadata": {},
   "outputs": [],
   "source": [
    "X_train_rf = X_train.copy()\n",
    "X_valid_rf = X_valid.copy()"
   ]
  },
  {
   "cell_type": "code",
   "execution_count": 31,
   "metadata": {},
   "outputs": [],
   "source": [
    "col_transformer_rf= make_column_transformer(\n",
    "    (\n",
    "        OrdinalEncoder(handle_unknown='use_encoded_value', unknown_value=-1), \n",
    "        cat_features\n",
    "    ),\n",
    "    (\n",
    "        StandardScaler(), \n",
    "        num_features\n",
    "    ),\n",
    "    remainder='passthrough'\n",
    ")\n",
    "\n",
    "model_rf = RandomForestRegressor(random_state=12345)\n",
    "\n",
    "pipline_rf = make_pipeline(col_transformer_rf, model_rf)"
   ]
  },
  {
   "cell_type": "code",
   "execution_count": 32,
   "metadata": {
    "scrolled": true
   },
   "outputs": [
    {
     "name": "stderr",
     "output_type": "stream",
     "text": [
      "C:\\Anaconda\\lib\\site-packages\\sklearn\\model_selection\\_search.py:292: UserWarning: The total space of parameters 108 is smaller than n_iter=36298. Running 108 iterations. For exhaustive searches, use GridSearchCV.\n",
      "  warnings.warn(\n"
     ]
    },
    {
     "data": {
      "text/plain": [
       "{'randomforestregressor__n_estimators': 50,\n",
       " 'randomforestregressor__min_samples_split': 2,\n",
       " 'randomforestregressor__min_samples_leaf': 1,\n",
       " 'randomforestregressor__max_depth': 10}"
      ]
     },
     "execution_count": 32,
     "metadata": {},
     "output_type": "execute_result"
    }
   ],
   "source": [
    "params = {'randomforestregressor__max_depth': [1, 5, 10, 15],\n",
    "          'randomforestregressor__n_estimators': [10, 50, 100],\n",
    "          'randomforestregressor__min_samples_split': [2, 5, 7],\n",
    "          'randomforestregressor__min_samples_leaf': [1, 5, 7],\n",
    "         }\n",
    "\n",
    "rf_hrs = HalvingRandomSearchCV(pipline_rf,\n",
    "                               params,\n",
    "                               cv=3,\n",
    "                               scoring='neg_root_mean_squared_error',\n",
    "                               verbose=0,\n",
    "                               n_jobs=-1,\n",
    "                               random_state=12345)\n",
    "\n",
    "rf_hrs.fit(X_train_rf, y_train)\n",
    "rf_hrs.best_params_"
   ]
  },
  {
   "cell_type": "code",
   "execution_count": 33,
   "metadata": {
    "scrolled": true
   },
   "outputs": [
    {
     "name": "stdout",
     "output_type": "stream",
     "text": [
      "CPU times: total: 17 s\n",
      "Wall time: 17.1 s\n"
     ]
    }
   ],
   "source": [
    "%%time\n",
    "results.append(model_score(rf_hrs.best_estimator_, X_train_rf, X_valid_rf, y_train, y_valid))"
   ]
  },
  {
   "cell_type": "code",
   "execution_count": 34,
   "metadata": {},
   "outputs": [],
   "source": [
    "X_train_rf = X_train.copy()\n",
    "\n",
    "col_transformer_rf= make_column_transformer(\n",
    "    (\n",
    "        OrdinalEncoder(handle_unknown='use_encoded_value', unknown_value=-1), \n",
    "        cat_features\n",
    "    ),\n",
    "    (\n",
    "        StandardScaler(), \n",
    "        num_features\n",
    "    ),\n",
    "    remainder='passthrough'\n",
    ")"
   ]
  },
  {
   "cell_type": "code",
   "execution_count": 35,
   "metadata": {},
   "outputs": [],
   "source": [
    "X_train_rf = pd.DataFrame(\n",
    "    col_transformer_rf.fit_transform(X_train_rf), \n",
    "    columns= cat_features + num_features\n",
    ")"
   ]
  },
  {
   "cell_type": "code",
   "execution_count": 36,
   "metadata": {},
   "outputs": [
    {
     "data": {
      "text/html": [
       "<div>\n",
       "<style scoped>\n",
       "    .dataframe tbody tr th:only-of-type {\n",
       "        vertical-align: middle;\n",
       "    }\n",
       "\n",
       "    .dataframe tbody tr th {\n",
       "        vertical-align: top;\n",
       "    }\n",
       "\n",
       "    .dataframe thead th {\n",
       "        text-align: right;\n",
       "    }\n",
       "</style>\n",
       "<table border=\"1\" class=\"dataframe\">\n",
       "  <thead>\n",
       "    <tr style=\"text-align: right;\">\n",
       "      <th></th>\n",
       "      <th>vehicle_type</th>\n",
       "      <th>gearbox</th>\n",
       "      <th>model</th>\n",
       "      <th>fuel_type</th>\n",
       "      <th>brand</th>\n",
       "      <th>repaired</th>\n",
       "      <th>kilometer</th>\n",
       "      <th>power</th>\n",
       "      <th>registration_year</th>\n",
       "    </tr>\n",
       "  </thead>\n",
       "  <tbody>\n",
       "    <tr>\n",
       "      <th>0</th>\n",
       "      <td>6.0</td>\n",
       "      <td>2.0</td>\n",
       "      <td>243.0</td>\n",
       "      <td>3.0</td>\n",
       "      <td>36.0</td>\n",
       "      <td>1.0</td>\n",
       "      <td>-0.102476</td>\n",
       "      <td>-0.595044</td>\n",
       "      <td>1.349351</td>\n",
       "    </tr>\n",
       "    <tr>\n",
       "      <th>1</th>\n",
       "      <td>5.0</td>\n",
       "      <td>2.0</td>\n",
       "      <td>117.0</td>\n",
       "      <td>7.0</td>\n",
       "      <td>38.0</td>\n",
       "      <td>1.0</td>\n",
       "      <td>0.585498</td>\n",
       "      <td>-0.887703</td>\n",
       "      <td>-0.877269</td>\n",
       "    </tr>\n",
       "    <tr>\n",
       "      <th>2</th>\n",
       "      <td>6.0</td>\n",
       "      <td>2.0</td>\n",
       "      <td>121.0</td>\n",
       "      <td>7.0</td>\n",
       "      <td>30.0</td>\n",
       "      <td>2.0</td>\n",
       "      <td>-0.102476</td>\n",
       "      <td>-1.180362</td>\n",
       "      <td>0.835515</td>\n",
       "    </tr>\n",
       "    <tr>\n",
       "      <th>3</th>\n",
       "      <td>7.0</td>\n",
       "      <td>1.0</td>\n",
       "      <td>210.0</td>\n",
       "      <td>3.0</td>\n",
       "      <td>15.0</td>\n",
       "      <td>1.0</td>\n",
       "      <td>0.585498</td>\n",
       "      <td>-0.146300</td>\n",
       "      <td>0.321680</td>\n",
       "    </tr>\n",
       "    <tr>\n",
       "      <th>4</th>\n",
       "      <td>3.0</td>\n",
       "      <td>2.0</td>\n",
       "      <td>11.0</td>\n",
       "      <td>7.0</td>\n",
       "      <td>2.0</td>\n",
       "      <td>1.0</td>\n",
       "      <td>0.585498</td>\n",
       "      <td>3.619245</td>\n",
       "      <td>0.664237</td>\n",
       "    </tr>\n",
       "  </tbody>\n",
       "</table>\n",
       "</div>"
      ],
      "text/plain": [
       "   vehicle_type  gearbox  model  fuel_type  brand  repaired  kilometer  \\\n",
       "0           6.0      2.0  243.0        3.0   36.0       1.0  -0.102476   \n",
       "1           5.0      2.0  117.0        7.0   38.0       1.0   0.585498   \n",
       "2           6.0      2.0  121.0        7.0   30.0       2.0  -0.102476   \n",
       "3           7.0      1.0  210.0        3.0   15.0       1.0   0.585498   \n",
       "4           3.0      2.0   11.0        7.0    2.0       1.0   0.585498   \n",
       "\n",
       "      power  registration_year  \n",
       "0 -0.595044           1.349351  \n",
       "1 -0.887703          -0.877269  \n",
       "2 -1.180362           0.835515  \n",
       "3 -0.146300           0.321680  \n",
       "4  3.619245           0.664237  "
      ]
     },
     "execution_count": 36,
     "metadata": {},
     "output_type": "execute_result"
    }
   ],
   "source": [
    "X_train_rf.head()"
   ]
  },
  {
   "cell_type": "markdown",
   "metadata": {},
   "source": [
    "<a id='section_3'></a>\n",
    "## Анализ моделей"
   ]
  },
  {
   "cell_type": "markdown",
   "metadata": {},
   "source": [
    "### Результаты"
   ]
  },
  {
   "cell_type": "code",
   "execution_count": 37,
   "metadata": {},
   "outputs": [
    {
     "data": {
      "text/html": [
       "<style type=\"text/css\">\n",
       "#T_5e377_row0_col3, #T_5e377_row1_col0, #T_5e377_row1_col2, #T_5e377_row2_col1 {\n",
       "  font-weight: bold;\n",
       "}\n",
       "</style>\n",
       "<table id=\"T_5e377\">\n",
       "  <thead>\n",
       "    <tr>\n",
       "      <th class=\"blank level0\" >&nbsp;</th>\n",
       "      <th id=\"T_5e377_level0_col0\" class=\"col_heading level0 col0\" >training_time</th>\n",
       "      <th id=\"T_5e377_level0_col1\" class=\"col_heading level0 col1\" >predict_time</th>\n",
       "      <th id=\"T_5e377_level0_col2\" class=\"col_heading level0 col2\" >total_time</th>\n",
       "      <th id=\"T_5e377_level0_col3\" class=\"col_heading level0 col3\" >RMSE</th>\n",
       "    </tr>\n",
       "  </thead>\n",
       "  <tbody>\n",
       "    <tr>\n",
       "      <th id=\"T_5e377_level0_row0\" class=\"row_heading level0 row0\" >CatBoost</th>\n",
       "      <td id=\"T_5e377_row0_col0\" class=\"data row0 col0\" >10.61</td>\n",
       "      <td id=\"T_5e377_row0_col1\" class=\"data row0 col1\" >0.12</td>\n",
       "      <td id=\"T_5e377_row0_col2\" class=\"data row0 col2\" >10.73</td>\n",
       "      <td id=\"T_5e377_row0_col3\" class=\"data row0 col3\" >1495.62</td>\n",
       "    </tr>\n",
       "    <tr>\n",
       "      <th id=\"T_5e377_level0_row1\" class=\"row_heading level0 row1\" >LightGBM</th>\n",
       "      <td id=\"T_5e377_row1_col0\" class=\"data row1 col0\" >0.72</td>\n",
       "      <td id=\"T_5e377_row1_col1\" class=\"data row1 col1\" >0.05</td>\n",
       "      <td id=\"T_5e377_row1_col2\" class=\"data row1 col2\" >0.76</td>\n",
       "      <td id=\"T_5e377_row1_col3\" class=\"data row1 col3\" >1498.11</td>\n",
       "    </tr>\n",
       "    <tr>\n",
       "      <th id=\"T_5e377_level0_row2\" class=\"row_heading level0 row2\" >LinearRegression</th>\n",
       "      <td id=\"T_5e377_row2_col0\" class=\"data row2 col0\" >6.34</td>\n",
       "      <td id=\"T_5e377_row2_col1\" class=\"data row2 col1\" >0.02</td>\n",
       "      <td id=\"T_5e377_row2_col2\" class=\"data row2 col2\" >6.36</td>\n",
       "      <td id=\"T_5e377_row2_col3\" class=\"data row2 col3\" >2363.61</td>\n",
       "    </tr>\n",
       "    <tr>\n",
       "      <th id=\"T_5e377_level0_row3\" class=\"row_heading level0 row3\" >RandomForest</th>\n",
       "      <td id=\"T_5e377_row3_col0\" class=\"data row3 col0\" >16.82</td>\n",
       "      <td id=\"T_5e377_row3_col1\" class=\"data row3 col1\" >0.26</td>\n",
       "      <td id=\"T_5e377_row3_col2\" class=\"data row3 col2\" >17.09</td>\n",
       "      <td id=\"T_5e377_row3_col3\" class=\"data row3 col3\" >1806.40</td>\n",
       "    </tr>\n",
       "  </tbody>\n",
       "</table>\n"
      ],
      "text/plain": [
       "<pandas.io.formats.style.Styler at 0x2a28728c8b0>"
      ]
     },
     "execution_count": 37,
     "metadata": {},
     "output_type": "execute_result"
    }
   ],
   "source": [
    "index=['CatBoost', 'LightGBM', 'LinearRegression', 'RandomForest']\n",
    "columns=['training_time', 'predict_time', 'total_time', 'RMSE']\n",
    "model_comparison = pd.DataFrame(results, index=index, columns=columns)\n",
    "model_comparison.style.apply(lambda col: ['font-weight:bold' if x==col.min() else '' for x in col]).format('{:.2f}')"
   ]
  },
  {
   "cell_type": "markdown",
   "metadata": {},
   "source": [
    "Catboost показал наилучший результат среди моделей, представленных в исследовании. LightGBM незначительно уступил в качестве (0.2%), но оказался более чем в 13 раз быстрее. Линейная регрессия попала в допустимый диапазон качества, но значительно уступила алгоритмам градиентного бустинга, а так же случайному лесу. Случайный лес оказался лучше регресси по качеству и уступил только LightGBM по времени обучения. Таким образом из-за лучшего быстродействия, к проверке на тестовой выборке проходит модель LightGBM."
   ]
  },
  {
   "cell_type": "markdown",
   "metadata": {},
   "source": [
    "### Проверка на тестовой выборке"
   ]
  },
  {
   "cell_type": "code",
   "execution_count": 38,
   "metadata": {},
   "outputs": [
    {
     "name": "stdout",
     "output_type": "stream",
     "text": [
      "Финальный RMSE: 1503.2856289983238\n"
     ]
    }
   ],
   "source": [
    "y_pred = lgbm_gs.best_estimator_.predict(X_test_lgbm)\n",
    "print('Финальный RMSE:', mean_squared_error(y_test, y_pred, squared=False))"
   ]
  },
  {
   "cell_type": "markdown",
   "metadata": {},
   "source": [
    "### Проверка на адекватность"
   ]
  },
  {
   "cell_type": "markdown",
   "metadata": {},
   "source": [
    "Сделаем проверку моделей на адекватность с помощью простейшей модели предсказания."
   ]
  },
  {
   "cell_type": "code",
   "execution_count": 39,
   "metadata": {},
   "outputs": [
    {
     "name": "stdout",
     "output_type": "stream",
     "text": [
      "Dummy RMSE: 4595.698866257342\n"
     ]
    }
   ],
   "source": [
    "dummy = DummyRegressor(strategy='mean')\n",
    "dummy.fit(X_train_lgbm, y_train)\n",
    "y_pred = dummy.predict(X_test_lgbm)\n",
    "print('Dummy RMSE:', mean_squared_error(y_test, y_pred, squared=False))"
   ]
  },
  {
   "cell_type": "markdown",
   "metadata": {},
   "source": [
    "Модель прошла тест на адекватность."
   ]
  },
  {
   "cell_type": "markdown",
   "metadata": {},
   "source": [
    "<a id='section_4'></a>\n",
    "## Общий вывод"
   ]
  },
  {
   "cell_type": "markdown",
   "metadata": {},
   "source": [
    "В ходе исследования были обработаны и проанализированы данные о стоимости автомобилей, созданы модели предсказания стоимости, а также сделаны выводы и рекомендации.   \n",
    "После проделанной работы можно выделить алгоритм LightGBM, который по совокупности результатов занимает первое место в списке моделей машинного обучения. Но так же стоит отметить результаты CatBoost, который продемонстрировал практически идентичное качество, но в 13 раз меньшую скорость выдачи предсказаний, которая очень важна для быстродействия сервиса. \n",
    "\n",
    "**После проделанного исследования можно сделать следующие выводы:**\n",
    "\n",
    "1. Выявлена средняя корреляция стоимости автомобиля с мощностью и годом регистрации.\n",
    "2. Выявлена средняя обратная корреляция стоимости автомобиля с пройденными километрами.\n",
    "3. Алгоритм градиентного бустинга LightGBM показал лучшие результаты.\n",
    "4. CatBoost продемнстрировал качество на уровне LightGBM, но с меньшим в 13 раз быстродействием.\n",
    "\n",
    "**Рекомендации:**\n",
    "1. Обратить внимание на наличие аномальных значений в столбцах, связанных с годом выпуска, мощности и цены.\n",
    "2. Обратить внимание на большое количество пропусков в столбцах с категориальными переменными.\n",
    "3. Обратить внимание на наличие столбца с данными о количестве фотографий. У всех автомобилей указано нулевое значение."
   ]
  }
 ],
 "metadata": {
  "ExecuteTimeLog": [
   {
    "duration": 24143,
    "start_time": "2023-03-08T14:45:55.443Z"
   },
   {
    "duration": 515,
    "start_time": "2023-03-08T14:46:19.590Z"
   },
   {
    "duration": 0,
    "start_time": "2023-03-08T14:46:20.108Z"
   },
   {
    "duration": 0,
    "start_time": "2023-03-08T14:46:20.110Z"
   },
   {
    "duration": 0,
    "start_time": "2023-03-08T14:46:20.111Z"
   },
   {
    "duration": 0,
    "start_time": "2023-03-08T14:46:20.112Z"
   },
   {
    "duration": 0,
    "start_time": "2023-03-08T14:46:20.113Z"
   },
   {
    "duration": 0,
    "start_time": "2023-03-08T14:46:20.115Z"
   },
   {
    "duration": 0,
    "start_time": "2023-03-08T14:46:20.116Z"
   },
   {
    "duration": 0,
    "start_time": "2023-03-08T14:46:20.117Z"
   },
   {
    "duration": 0,
    "start_time": "2023-03-08T14:46:20.118Z"
   },
   {
    "duration": 0,
    "start_time": "2023-03-08T14:46:20.124Z"
   },
   {
    "duration": 0,
    "start_time": "2023-03-08T14:46:20.127Z"
   },
   {
    "duration": 0,
    "start_time": "2023-03-08T14:46:20.128Z"
   },
   {
    "duration": 0,
    "start_time": "2023-03-08T14:46:20.130Z"
   },
   {
    "duration": 0,
    "start_time": "2023-03-08T14:46:20.131Z"
   },
   {
    "duration": 1,
    "start_time": "2023-03-08T14:46:20.132Z"
   },
   {
    "duration": 0,
    "start_time": "2023-03-08T14:46:20.134Z"
   },
   {
    "duration": 0,
    "start_time": "2023-03-08T14:46:20.135Z"
   },
   {
    "duration": 0,
    "start_time": "2023-03-08T14:46:20.137Z"
   },
   {
    "duration": 0,
    "start_time": "2023-03-08T14:46:20.138Z"
   },
   {
    "duration": 0,
    "start_time": "2023-03-08T14:46:20.140Z"
   },
   {
    "duration": 0,
    "start_time": "2023-03-08T14:46:20.141Z"
   },
   {
    "duration": 0,
    "start_time": "2023-03-08T14:46:20.143Z"
   },
   {
    "duration": 0,
    "start_time": "2023-03-08T14:46:20.145Z"
   },
   {
    "duration": 0,
    "start_time": "2023-03-08T14:46:20.146Z"
   },
   {
    "duration": 0,
    "start_time": "2023-03-08T14:46:20.147Z"
   },
   {
    "duration": 0,
    "start_time": "2023-03-08T14:46:20.148Z"
   },
   {
    "duration": 0,
    "start_time": "2023-03-08T14:46:20.149Z"
   },
   {
    "duration": 0,
    "start_time": "2023-03-08T14:46:20.151Z"
   },
   {
    "duration": 0,
    "start_time": "2023-03-08T14:46:20.152Z"
   },
   {
    "duration": 0,
    "start_time": "2023-03-08T14:46:20.153Z"
   },
   {
    "duration": 0,
    "start_time": "2023-03-08T14:46:20.154Z"
   },
   {
    "duration": 0,
    "start_time": "2023-03-08T14:46:20.155Z"
   },
   {
    "duration": 0,
    "start_time": "2023-03-08T14:46:20.157Z"
   },
   {
    "duration": 0,
    "start_time": "2023-03-08T14:46:20.158Z"
   },
   {
    "duration": 0,
    "start_time": "2023-03-08T14:46:20.159Z"
   },
   {
    "duration": 0,
    "start_time": "2023-03-08T14:46:20.160Z"
   },
   {
    "duration": 0,
    "start_time": "2023-03-08T14:46:20.162Z"
   },
   {
    "duration": 0,
    "start_time": "2023-03-08T14:46:20.162Z"
   },
   {
    "duration": 0,
    "start_time": "2023-03-08T14:46:20.164Z"
   },
   {
    "duration": 1599,
    "start_time": "2023-03-08T14:46:36.274Z"
   },
   {
    "duration": 3479,
    "start_time": "2023-03-08T14:46:37.875Z"
   },
   {
    "duration": 58,
    "start_time": "2023-03-08T14:46:41.356Z"
   },
   {
    "duration": 0,
    "start_time": "2023-03-08T14:46:41.417Z"
   },
   {
    "duration": 0,
    "start_time": "2023-03-08T14:46:41.419Z"
   },
   {
    "duration": 0,
    "start_time": "2023-03-08T14:46:41.425Z"
   },
   {
    "duration": 0,
    "start_time": "2023-03-08T14:46:41.428Z"
   },
   {
    "duration": 0,
    "start_time": "2023-03-08T14:46:41.429Z"
   },
   {
    "duration": 0,
    "start_time": "2023-03-08T14:46:41.431Z"
   },
   {
    "duration": 0,
    "start_time": "2023-03-08T14:46:41.433Z"
   },
   {
    "duration": 0,
    "start_time": "2023-03-08T14:46:41.435Z"
   },
   {
    "duration": 0,
    "start_time": "2023-03-08T14:46:41.438Z"
   },
   {
    "duration": 0,
    "start_time": "2023-03-08T14:46:41.439Z"
   },
   {
    "duration": 0,
    "start_time": "2023-03-08T14:46:41.441Z"
   },
   {
    "duration": 0,
    "start_time": "2023-03-08T14:46:41.443Z"
   },
   {
    "duration": 0,
    "start_time": "2023-03-08T14:46:41.445Z"
   },
   {
    "duration": 0,
    "start_time": "2023-03-08T14:46:41.447Z"
   },
   {
    "duration": 0,
    "start_time": "2023-03-08T14:46:41.451Z"
   },
   {
    "duration": 0,
    "start_time": "2023-03-08T14:46:41.453Z"
   },
   {
    "duration": 0,
    "start_time": "2023-03-08T14:46:41.454Z"
   },
   {
    "duration": 0,
    "start_time": "2023-03-08T14:46:41.456Z"
   },
   {
    "duration": 0,
    "start_time": "2023-03-08T14:46:41.457Z"
   },
   {
    "duration": 0,
    "start_time": "2023-03-08T14:46:41.459Z"
   },
   {
    "duration": 0,
    "start_time": "2023-03-08T14:46:41.460Z"
   },
   {
    "duration": 0,
    "start_time": "2023-03-08T14:46:41.461Z"
   },
   {
    "duration": 0,
    "start_time": "2023-03-08T14:46:41.462Z"
   },
   {
    "duration": 0,
    "start_time": "2023-03-08T14:46:41.463Z"
   },
   {
    "duration": 0,
    "start_time": "2023-03-08T14:46:41.464Z"
   },
   {
    "duration": 0,
    "start_time": "2023-03-08T14:46:41.466Z"
   },
   {
    "duration": 0,
    "start_time": "2023-03-08T14:46:41.467Z"
   },
   {
    "duration": 0,
    "start_time": "2023-03-08T14:46:41.469Z"
   },
   {
    "duration": 0,
    "start_time": "2023-03-08T14:46:41.470Z"
   },
   {
    "duration": 0,
    "start_time": "2023-03-08T14:46:41.471Z"
   },
   {
    "duration": 0,
    "start_time": "2023-03-08T14:46:41.473Z"
   },
   {
    "duration": 0,
    "start_time": "2023-03-08T14:46:41.474Z"
   },
   {
    "duration": 0,
    "start_time": "2023-03-08T14:46:41.529Z"
   },
   {
    "duration": 0,
    "start_time": "2023-03-08T14:46:41.530Z"
   },
   {
    "duration": 0,
    "start_time": "2023-03-08T14:46:41.531Z"
   },
   {
    "duration": 0,
    "start_time": "2023-03-08T14:46:41.533Z"
   },
   {
    "duration": 0,
    "start_time": "2023-03-08T14:46:41.535Z"
   },
   {
    "duration": 8877,
    "start_time": "2023-03-08T14:47:13.905Z"
   },
   {
    "duration": 3102,
    "start_time": "2023-03-08T14:47:22.784Z"
   },
   {
    "duration": 1150,
    "start_time": "2023-03-08T14:47:25.888Z"
   },
   {
    "duration": 46381,
    "start_time": "2023-03-08T14:47:27.041Z"
   },
   {
    "duration": 6,
    "start_time": "2023-03-08T14:48:13.426Z"
   },
   {
    "duration": 31,
    "start_time": "2023-03-08T14:48:13.434Z"
   },
   {
    "duration": 679,
    "start_time": "2023-03-08T14:48:13.468Z"
   },
   {
    "duration": 570,
    "start_time": "2023-03-08T14:48:14.149Z"
   },
   {
    "duration": 160,
    "start_time": "2023-03-08T14:48:14.723Z"
   },
   {
    "duration": 56,
    "start_time": "2023-03-08T14:48:14.885Z"
   },
   {
    "duration": 20,
    "start_time": "2023-03-08T14:48:14.945Z"
   },
   {
    "duration": 312,
    "start_time": "2023-03-08T14:48:14.967Z"
   },
   {
    "duration": 27,
    "start_time": "2023-03-08T14:48:15.281Z"
   },
   {
    "duration": 155,
    "start_time": "2023-03-08T14:48:15.311Z"
   },
   {
    "duration": 18,
    "start_time": "2023-03-08T14:48:15.468Z"
   },
   {
    "duration": 144,
    "start_time": "2023-03-08T14:48:15.489Z"
   },
   {
    "duration": 6,
    "start_time": "2023-03-08T14:48:15.636Z"
   },
   {
    "duration": 5,
    "start_time": "2023-03-08T14:48:15.644Z"
   },
   {
    "duration": 176,
    "start_time": "2023-03-08T14:48:15.652Z"
   },
   {
    "duration": 12,
    "start_time": "2023-03-08T14:48:15.834Z"
   },
   {
    "duration": 6,
    "start_time": "2023-03-08T14:48:15.848Z"
   },
   {
    "duration": 10041,
    "start_time": "2023-03-08T14:48:15.856Z"
   },
   {
    "duration": 0,
    "start_time": "2023-03-08T14:48:25.899Z"
   },
   {
    "duration": 0,
    "start_time": "2023-03-08T14:48:25.901Z"
   },
   {
    "duration": 0,
    "start_time": "2023-03-08T14:48:25.902Z"
   },
   {
    "duration": 0,
    "start_time": "2023-03-08T14:48:25.904Z"
   },
   {
    "duration": 0,
    "start_time": "2023-03-08T14:48:25.905Z"
   },
   {
    "duration": 0,
    "start_time": "2023-03-08T14:48:25.906Z"
   },
   {
    "duration": 0,
    "start_time": "2023-03-08T14:48:25.907Z"
   },
   {
    "duration": 0,
    "start_time": "2023-03-08T14:48:25.908Z"
   },
   {
    "duration": 0,
    "start_time": "2023-03-08T14:48:25.910Z"
   },
   {
    "duration": 0,
    "start_time": "2023-03-08T14:48:25.911Z"
   },
   {
    "duration": 0,
    "start_time": "2023-03-08T14:48:25.912Z"
   },
   {
    "duration": 0,
    "start_time": "2023-03-08T14:48:25.914Z"
   },
   {
    "duration": 0,
    "start_time": "2023-03-08T14:48:25.915Z"
   },
   {
    "duration": 0,
    "start_time": "2023-03-08T14:48:25.916Z"
   },
   {
    "duration": 0,
    "start_time": "2023-03-08T14:48:25.917Z"
   },
   {
    "duration": 0,
    "start_time": "2023-03-08T14:48:25.919Z"
   },
   {
    "duration": 0,
    "start_time": "2023-03-08T14:48:25.920Z"
   },
   {
    "duration": 0,
    "start_time": "2023-03-08T14:48:25.921Z"
   },
   {
    "duration": 0,
    "start_time": "2023-03-08T14:48:25.922Z"
   },
   {
    "duration": 1955,
    "start_time": "2023-03-08T14:48:45.440Z"
   },
   {
    "duration": 1013,
    "start_time": "2023-03-08T14:48:47.397Z"
   },
   {
    "duration": 3,
    "start_time": "2023-03-08T14:48:48.412Z"
   },
   {
    "duration": 4,
    "start_time": "2023-03-08T14:48:48.423Z"
   },
   {
    "duration": 23,
    "start_time": "2023-03-08T14:48:48.429Z"
   },
   {
    "duration": 556,
    "start_time": "2023-03-08T14:48:48.453Z"
   },
   {
    "duration": 665,
    "start_time": "2023-03-08T14:48:49.010Z"
   },
   {
    "duration": 180,
    "start_time": "2023-03-08T14:48:49.678Z"
   },
   {
    "duration": 55,
    "start_time": "2023-03-08T14:48:49.860Z"
   },
   {
    "duration": 15,
    "start_time": "2023-03-08T14:48:49.924Z"
   },
   {
    "duration": 287,
    "start_time": "2023-03-08T14:48:49.941Z"
   },
   {
    "duration": 30,
    "start_time": "2023-03-08T14:48:50.230Z"
   },
   {
    "duration": 22,
    "start_time": "2023-03-08T14:48:53.798Z"
   },
   {
    "duration": 117,
    "start_time": "2023-03-08T14:49:54.117Z"
   },
   {
    "duration": 74,
    "start_time": "2023-03-08T14:50:02.554Z"
   },
   {
    "duration": 80,
    "start_time": "2023-03-08T14:50:10.621Z"
   },
   {
    "duration": 25,
    "start_time": "2023-03-08T14:53:37.504Z"
   },
   {
    "duration": 1920,
    "start_time": "2023-03-08T14:57:23.109Z"
   },
   {
    "duration": 1060,
    "start_time": "2023-03-08T14:57:25.033Z"
   },
   {
    "duration": 3,
    "start_time": "2023-03-08T14:57:26.095Z"
   },
   {
    "duration": 14,
    "start_time": "2023-03-08T14:57:26.100Z"
   },
   {
    "duration": 36,
    "start_time": "2023-03-08T14:57:26.117Z"
   },
   {
    "duration": 640,
    "start_time": "2023-03-08T14:57:26.155Z"
   },
   {
    "duration": 659,
    "start_time": "2023-03-08T14:57:26.797Z"
   },
   {
    "duration": 202,
    "start_time": "2023-03-08T14:57:27.458Z"
   },
   {
    "duration": 53,
    "start_time": "2023-03-08T14:57:27.662Z"
   },
   {
    "duration": 21,
    "start_time": "2023-03-08T14:57:27.725Z"
   },
   {
    "duration": 312,
    "start_time": "2023-03-08T14:57:27.747Z"
   },
   {
    "duration": 31,
    "start_time": "2023-03-08T14:57:28.061Z"
   },
   {
    "duration": 96,
    "start_time": "2023-03-08T14:57:28.093Z"
   },
   {
    "duration": 173,
    "start_time": "2023-03-08T14:57:28.193Z"
   },
   {
    "duration": 17,
    "start_time": "2023-03-08T14:57:28.368Z"
   },
   {
    "duration": 118,
    "start_time": "2023-03-08T14:57:28.386Z"
   },
   {
    "duration": 4,
    "start_time": "2023-03-08T14:57:28.506Z"
   },
   {
    "duration": 6,
    "start_time": "2023-03-08T14:57:28.523Z"
   },
   {
    "duration": 189,
    "start_time": "2023-03-08T14:57:28.531Z"
   },
   {
    "duration": 10,
    "start_time": "2023-03-08T14:57:28.724Z"
   },
   {
    "duration": 10,
    "start_time": "2023-03-08T14:57:28.737Z"
   },
   {
    "duration": 521977,
    "start_time": "2023-03-08T14:57:28.749Z"
   },
   {
    "duration": 20248,
    "start_time": "2023-03-08T15:06:10.729Z"
   },
   {
    "duration": 2,
    "start_time": "2023-03-08T15:06:30.980Z"
   },
   {
    "duration": 224,
    "start_time": "2023-03-08T15:06:30.984Z"
   },
   {
    "duration": 406203,
    "start_time": "2023-03-08T15:06:31.210Z"
   },
   {
    "duration": 98,
    "start_time": "2023-03-08T15:13:17.415Z"
   },
   {
    "duration": 33,
    "start_time": "2023-03-08T15:13:17.514Z"
   },
   {
    "duration": 12,
    "start_time": "2023-03-08T15:13:17.549Z"
   },
   {
    "duration": 0,
    "start_time": "2023-03-08T15:13:17.563Z"
   },
   {
    "duration": 0,
    "start_time": "2023-03-08T15:13:17.564Z"
   },
   {
    "duration": 0,
    "start_time": "2023-03-08T15:13:17.565Z"
   },
   {
    "duration": 0,
    "start_time": "2023-03-08T15:13:17.566Z"
   },
   {
    "duration": 0,
    "start_time": "2023-03-08T15:13:17.567Z"
   },
   {
    "duration": 0,
    "start_time": "2023-03-08T15:13:17.569Z"
   },
   {
    "duration": 0,
    "start_time": "2023-03-08T15:13:17.570Z"
   },
   {
    "duration": 0,
    "start_time": "2023-03-08T15:13:17.571Z"
   },
   {
    "duration": 0,
    "start_time": "2023-03-08T15:13:17.573Z"
   },
   {
    "duration": 0,
    "start_time": "2023-03-08T15:13:17.573Z"
   },
   {
    "duration": 0,
    "start_time": "2023-03-08T15:13:17.575Z"
   },
   {
    "duration": 0,
    "start_time": "2023-03-08T15:13:17.576Z"
   },
   {
    "duration": 10,
    "start_time": "2023-03-08T15:13:27.672Z"
   },
   {
    "duration": 10,
    "start_time": "2023-03-08T15:13:30.999Z"
   },
   {
    "duration": 25,
    "start_time": "2023-03-08T15:14:03.657Z"
   },
   {
    "duration": 6,
    "start_time": "2023-03-08T15:14:06.197Z"
   },
   {
    "duration": 70,
    "start_time": "2023-03-08T15:14:34.637Z"
   }
  ],
  "kernelspec": {
   "display_name": "Python 3 (ipykernel)",
   "language": "python",
   "name": "python3"
  },
  "language_info": {
   "codemirror_mode": {
    "name": "ipython",
    "version": 3
   },
   "file_extension": ".py",
   "mimetype": "text/x-python",
   "name": "python",
   "nbconvert_exporter": "python",
   "pygments_lexer": "ipython3",
   "version": "3.9.12"
  },
  "toc": {
   "base_numbering": 1,
   "nav_menu": {},
   "number_sections": true,
   "sideBar": true,
   "skip_h1_title": true,
   "title_cell": "Table of Contents",
   "title_sidebar": "Contents",
   "toc_cell": false,
   "toc_position": {
    "height": "calc(100% - 180px)",
    "left": "10px",
    "top": "150px",
    "width": "349.091px"
   },
   "toc_section_display": true,
   "toc_window_display": true
  }
 },
 "nbformat": 4,
 "nbformat_minor": 2
}
