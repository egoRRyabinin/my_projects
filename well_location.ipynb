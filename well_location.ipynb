{
 "cells": [
  {
   "cell_type": "markdown",
   "metadata": {},
   "source": [
    "# Выбор локации для скважины"
   ]
  },
  {
   "cell_type": "markdown",
   "metadata": {},
   "source": [
    "# Введение"
   ]
  },
  {
   "cell_type": "markdown",
   "metadata": {},
   "source": [
    "### Описание проекта \n",
    "Проект нацелен на определение места бурения новой скважины добывающей компании «ГлавРосГосНефть».\n",
    "### Цель проекта\n",
    "Построить модель для определения региона, где добыча принесёт наибольшую прибыль. Проанализировать возможную прибыль и риски.\n",
    "### Описание данных\n",
    "**Нам предоставили данные геологоразведки трёх регионов.**   \n",
    "\n",
    "\n",
    "В таблицах данных представлены следующие значения:  \n",
    "\n",
    "**Признаки:**\n",
    "- id — уникальный идентификатор скважины;\n",
    "- f0, f1, f2 — три признака точек (неважно, что они означают, но сами признаки значимы);\n",
    "\n",
    "**Целевой признак:**\n",
    "- product — объём запасов в скважине (тыс. баррелей).\n",
    "\n",
    "### Условия задачи \n",
    "\n",
    "\n",
    "- Для обучения модели подходит только линейная регрессия (остальные — недостаточно предсказуемые).\n",
    "- При разведке региона исследуют 500 точек, из которых с помощью машинного обучения выбирают 200 лучших для разработки.\n",
    "- Бюджет на разработку скважин в регионе — 10 млрд рублей.\n",
    "- При нынешних ценах один баррель сырья приносит 450 рублей дохода. Доход с каждой единицы продукта составляет 450 тыс. рублей, поскольку объём указан в тысячах баррелей.\n",
    "- После оценки рисков нужно оставить лишь те регионы, в которых вероятность убытков меньше 2.5%. Среди них выбирают регион с наибольшей средней прибылью.\n",
    "\n",
    "### План работы\n",
    "1. [Загрузка и подготовка данных](#section_1)\n",
    "2. [Обучение и проверка модели](#section_2)  \n",
    "3. [Подготовка к расчёту прибыли](#section_3)  \n",
    "4. [Рассчёт прибыли и рисков](#section_4)\n",
    "5. [Общий вывод](#section_5)"
   ]
  },
  {
   "cell_type": "markdown",
   "metadata": {},
   "source": [
    "<a id='section_1'></a>\n",
    "## Загрузка и подготовка данных"
   ]
  },
  {
   "cell_type": "markdown",
   "metadata": {},
   "source": [
    "### Изучение общей информации о данных"
   ]
  },
  {
   "cell_type": "markdown",
   "metadata": {},
   "source": [
    "Загрузим необходимые библиотеки."
   ]
  },
  {
   "cell_type": "code",
   "execution_count": 1,
   "metadata": {},
   "outputs": [],
   "source": [
    "#!pip install pandas-profiling"
   ]
  },
  {
   "cell_type": "code",
   "execution_count": 2,
   "metadata": {},
   "outputs": [],
   "source": [
    "# анализ данных\n",
    "import pandas as pd\n",
    "import numpy as np\n",
    "from scipy import stats as st\n",
    "#from pandas_profiling import ProfileReport\n",
    "\n",
    "# визуализация\n",
    "import seaborn as sns\n",
    "import matplotlib.pyplot as plt\n",
    "\n",
    "# модель машинного обучения\n",
    "from sklearn.linear_model import LinearRegression\n",
    "\n",
    "# вспомогательные средства \n",
    "from sklearn.metrics import mean_squared_error, mean_absolute_error, r2_score\n",
    "from sklearn.model_selection import train_test_split\n",
    "from sklearn.dummy import DummyRegressor\n",
    "from sklearn.preprocessing import StandardScaler"
   ]
  },
  {
   "cell_type": "markdown",
   "metadata": {},
   "source": [
    "Загрузим данные."
   ]
  },
  {
   "cell_type": "code",
   "execution_count": 3,
   "metadata": {},
   "outputs": [],
   "source": [
    "try:\n",
    "    geo_data_0 = pd.read_csv(r'D:\\projects_data\\well_location\\geo_data_0.csv')\n",
    "    geo_data_1 = pd.read_csv(r'D:\\projects_data\\well_location\\geo_data_1.csv')\n",
    "    geo_data_2 = pd.read_csv(r'D:\\projects_data\\well_location\\geo_data_2.csv')\n",
    "except:\n",
    "    geo_data_0 = pd.read_csv('/datasets/geo_data_0.csv')\n",
    "    geo_data_1 = pd.read_csv('/datasets/geo_data_1.csv')\n",
    "    geo_data_2 = pd.read_csv('/datasets/geo_data_2.csv')"
   ]
  },
  {
   "cell_type": "code",
   "execution_count": 4,
   "metadata": {},
   "outputs": [],
   "source": [
    "# настройка отображения графиков\n",
    "sns.set(rc={'figure.figsize': (15,5)})"
   ]
  },
  {
   "cell_type": "code",
   "execution_count": 5,
   "metadata": {},
   "outputs": [],
   "source": [
    "#geo_data_0.profile_report(title='Отчёт по данным скважин региона №0')"
   ]
  },
  {
   "cell_type": "code",
   "execution_count": 6,
   "metadata": {
    "scrolled": false
   },
   "outputs": [],
   "source": [
    "#geo_data_1.profile_report(title='Отчёт по данным скважин региона №1')"
   ]
  },
  {
   "cell_type": "code",
   "execution_count": 7,
   "metadata": {},
   "outputs": [],
   "source": [
    "#geo_data_2.profile_report(title='Отчёт по данным скважин региона №2')"
   ]
  },
  {
   "cell_type": "markdown",
   "metadata": {},
   "source": [
    "### Обработка дубликатов"
   ]
  },
  {
   "cell_type": "code",
   "execution_count": 8,
   "metadata": {},
   "outputs": [
    {
     "data": {
      "text/plain": [
       "99990"
      ]
     },
     "metadata": {},
     "output_type": "display_data"
    },
    {
     "data": {
      "text/html": [
       "<div>\n",
       "<style scoped>\n",
       "    .dataframe tbody tr th:only-of-type {\n",
       "        vertical-align: middle;\n",
       "    }\n",
       "\n",
       "    .dataframe tbody tr th {\n",
       "        vertical-align: top;\n",
       "    }\n",
       "\n",
       "    .dataframe thead th {\n",
       "        text-align: right;\n",
       "    }\n",
       "</style>\n",
       "<table border=\"1\" class=\"dataframe\">\n",
       "  <thead>\n",
       "    <tr style=\"text-align: right;\">\n",
       "      <th></th>\n",
       "      <th>id</th>\n",
       "      <th>f0</th>\n",
       "      <th>f1</th>\n",
       "      <th>f2</th>\n",
       "      <th>product</th>\n",
       "    </tr>\n",
       "  </thead>\n",
       "  <tbody>\n",
       "    <tr>\n",
       "      <th>7530</th>\n",
       "      <td>HZww2</td>\n",
       "      <td>1.061194</td>\n",
       "      <td>-0.373969</td>\n",
       "      <td>10.430210</td>\n",
       "      <td>158.828695</td>\n",
       "    </tr>\n",
       "    <tr>\n",
       "      <th>41724</th>\n",
       "      <td>bxg6G</td>\n",
       "      <td>-0.823752</td>\n",
       "      <td>0.546319</td>\n",
       "      <td>3.630479</td>\n",
       "      <td>93.007798</td>\n",
       "    </tr>\n",
       "    <tr>\n",
       "      <th>51970</th>\n",
       "      <td>A5aEY</td>\n",
       "      <td>-0.180335</td>\n",
       "      <td>0.935548</td>\n",
       "      <td>-2.094773</td>\n",
       "      <td>33.020205</td>\n",
       "    </tr>\n",
       "    <tr>\n",
       "      <th>63593</th>\n",
       "      <td>QcMuo</td>\n",
       "      <td>0.635635</td>\n",
       "      <td>-0.473422</td>\n",
       "      <td>0.862670</td>\n",
       "      <td>64.578675</td>\n",
       "    </tr>\n",
       "    <tr>\n",
       "      <th>66136</th>\n",
       "      <td>74z30</td>\n",
       "      <td>1.084962</td>\n",
       "      <td>-0.312358</td>\n",
       "      <td>6.990771</td>\n",
       "      <td>127.643327</td>\n",
       "    </tr>\n",
       "    <tr>\n",
       "      <th>69163</th>\n",
       "      <td>AGS9W</td>\n",
       "      <td>-0.933795</td>\n",
       "      <td>0.116194</td>\n",
       "      <td>-3.655896</td>\n",
       "      <td>19.230453</td>\n",
       "    </tr>\n",
       "    <tr>\n",
       "      <th>75715</th>\n",
       "      <td>Tdehs</td>\n",
       "      <td>0.112079</td>\n",
       "      <td>0.430296</td>\n",
       "      <td>3.218993</td>\n",
       "      <td>60.964018</td>\n",
       "    </tr>\n",
       "    <tr>\n",
       "      <th>90815</th>\n",
       "      <td>fiKDv</td>\n",
       "      <td>0.049883</td>\n",
       "      <td>0.841313</td>\n",
       "      <td>6.394613</td>\n",
       "      <td>137.346586</td>\n",
       "    </tr>\n",
       "    <tr>\n",
       "      <th>92341</th>\n",
       "      <td>TtcGQ</td>\n",
       "      <td>0.110711</td>\n",
       "      <td>1.022689</td>\n",
       "      <td>0.911381</td>\n",
       "      <td>101.318008</td>\n",
       "    </tr>\n",
       "    <tr>\n",
       "      <th>97785</th>\n",
       "      <td>bsk9y</td>\n",
       "      <td>0.378429</td>\n",
       "      <td>0.005837</td>\n",
       "      <td>0.160827</td>\n",
       "      <td>160.637302</td>\n",
       "    </tr>\n",
       "  </tbody>\n",
       "</table>\n",
       "</div>"
      ],
      "text/plain": [
       "          id        f0        f1         f2     product\n",
       "7530   HZww2  1.061194 -0.373969  10.430210  158.828695\n",
       "41724  bxg6G -0.823752  0.546319   3.630479   93.007798\n",
       "51970  A5aEY -0.180335  0.935548  -2.094773   33.020205\n",
       "63593  QcMuo  0.635635 -0.473422   0.862670   64.578675\n",
       "66136  74z30  1.084962 -0.312358   6.990771  127.643327\n",
       "69163  AGS9W -0.933795  0.116194  -3.655896   19.230453\n",
       "75715  Tdehs  0.112079  0.430296   3.218993   60.964018\n",
       "90815  fiKDv  0.049883  0.841313   6.394613  137.346586\n",
       "92341  TtcGQ  0.110711  1.022689   0.911381  101.318008\n",
       "97785  bsk9y  0.378429  0.005837   0.160827  160.637302"
      ]
     },
     "execution_count": 8,
     "metadata": {},
     "output_type": "execute_result"
    }
   ],
   "source": [
    "display(geo_data_0['id'].nunique())\n",
    "geo_data_0[geo_data_0['id'].duplicated()]"
   ]
  },
  {
   "cell_type": "markdown",
   "metadata": {},
   "source": [
    "В данных присутствуют дубликаты, от которых стоит избавиться."
   ]
  },
  {
   "cell_type": "code",
   "execution_count": 9,
   "metadata": {},
   "outputs": [],
   "source": [
    "geo_data_0 = geo_data_0[~geo_data_0['id'].duplicated()]\n",
    "geo_data_1 = geo_data_1[~geo_data_1['id'].duplicated()]\n",
    "geo_data_2 = geo_data_2[~geo_data_2['id'].duplicated()]"
   ]
  },
  {
   "cell_type": "markdown",
   "metadata": {},
   "source": [
    "### Подготовка признаков"
   ]
  },
  {
   "cell_type": "markdown",
   "metadata": {},
   "source": [
    "ID точки добычи не несёт необходимой информации для модели, поэтому отбросим этот столбец."
   ]
  },
  {
   "cell_type": "code",
   "execution_count": 10,
   "metadata": {},
   "outputs": [],
   "source": [
    "features_0 = geo_data_0.drop(['id','product'], axis=1)\n",
    "target_0 = geo_data_0['product']\n",
    "\n",
    "features_1 = geo_data_1.drop(['id','product'], axis=1)\n",
    "target_1 = geo_data_1['product']\n",
    "\n",
    "features_2 = geo_data_2.drop(['id','product'], axis=1)\n",
    "target_2 = geo_data_2['product']"
   ]
  },
  {
   "cell_type": "markdown",
   "metadata": {},
   "source": [
    "### Деление данных на выборки"
   ]
  },
  {
   "cell_type": "code",
   "execution_count": 11,
   "metadata": {},
   "outputs": [],
   "source": [
    "X_0_train, X_0_valid, y_0_train, y_0_valid = train_test_split(features_0, target_0, test_size=0.25, random_state=0)\n",
    "X_1_train, X_1_valid, y_1_train, y_1_valid = train_test_split(features_1, target_1, test_size=0.25, random_state=0)\n",
    "X_2_train, X_2_valid, y_2_train, y_2_valid = train_test_split(features_2, target_2, test_size=0.25, random_state=0)"
   ]
  },
  {
   "cell_type": "markdown",
   "metadata": {},
   "source": [
    "### Масштабирование признаков"
   ]
  },
  {
   "cell_type": "code",
   "execution_count": 12,
   "metadata": {},
   "outputs": [],
   "source": [
    "scaler = StandardScaler()\n",
    "\n",
    "# первый регион\n",
    "scaler.fit(X_0_train)\n",
    "X_0_train = pd.DataFrame(scaler.transform(X_0_train), columns=X_0_train.columns)\n",
    "X_0_valid = pd.DataFrame(scaler.transform(X_0_valid), columns=X_0_valid.columns)\n",
    "\n",
    "# второй регион\n",
    "scaler.fit(X_1_train)\n",
    "X_1_train = pd.DataFrame(scaler.transform(X_1_train), columns=X_1_train.columns)\n",
    "X_1_valid = pd.DataFrame(scaler.transform(X_1_valid), columns=X_1_valid.columns)\n",
    "\n",
    "# третий регион\n",
    "scaler.fit(X_2_train)\n",
    "X_2_train = pd.DataFrame(scaler.transform(X_2_train), columns=X_2_train.columns)\n",
    "X_2_valid = pd.DataFrame(scaler.transform(X_2_valid), columns=X_2_valid.columns)"
   ]
  },
  {
   "cell_type": "markdown",
   "metadata": {},
   "source": [
    "<a id='section_2'></a>\n",
    "## Обучение и проверка моделей"
   ]
  },
  {
   "cell_type": "code",
   "execution_count": 13,
   "metadata": {},
   "outputs": [],
   "source": [
    "def scores(target, predicted):\n",
    "    return (f'Средний запас сырья: {round(pd.Series(predicted).mean(), 2)} \\\n",
    "            \\nRMSE: {mean_squared_error(target, predicted, squared=False).round(2)}')"
   ]
  },
  {
   "cell_type": "markdown",
   "metadata": {},
   "source": [
    "Для решение данной задачи будет использоваться модель линейной регрессии."
   ]
  },
  {
   "cell_type": "code",
   "execution_count": 14,
   "metadata": {},
   "outputs": [
    {
     "name": "stdout",
     "output_type": "stream",
     "text": [
      "Средний запас сырья: 92.7             \n",
      "RMSE: 37.73\n"
     ]
    }
   ],
   "source": [
    "model_0 = LinearRegression()\n",
    "\n",
    "model_0.fit(X_0_train, y_0_train)\n",
    "\n",
    "predicted_0_valid = model_0.predict(X_0_valid)\n",
    "print(scores(y_0_valid, predicted_0_valid))"
   ]
  },
  {
   "cell_type": "code",
   "execution_count": 15,
   "metadata": {},
   "outputs": [
    {
     "name": "stdout",
     "output_type": "stream",
     "text": [
      "Средний запас сырья: 69.29             \n",
      "RMSE: 0.89\n"
     ]
    }
   ],
   "source": [
    "model_1 = LinearRegression()\n",
    "\n",
    "model_1.fit(X_1_train, y_1_train)\n",
    "\n",
    "predicted_1_valid = model_1.predict(X_1_valid)\n",
    "print(scores(y_1_valid, predicted_1_valid))"
   ]
  },
  {
   "cell_type": "code",
   "execution_count": 16,
   "metadata": {},
   "outputs": [
    {
     "name": "stdout",
     "output_type": "stream",
     "text": [
      "Средний запас сырья: 95.14             \n",
      "RMSE: 40.19\n"
     ]
    }
   ],
   "source": [
    "model_2 = LinearRegression()\n",
    "\n",
    "model_2.fit(X_2_train, y_2_train)\n",
    "\n",
    "predicted_2_valid = model_2.predict(X_2_valid)\n",
    "print(scores(y_2_valid, predicted_2_valid))"
   ]
  },
  {
   "cell_type": "code",
   "execution_count": 17,
   "metadata": {},
   "outputs": [
    {
     "data": {
      "text/html": [
       "<div>\n",
       "<style scoped>\n",
       "    .dataframe tbody tr th:only-of-type {\n",
       "        vertical-align: middle;\n",
       "    }\n",
       "\n",
       "    .dataframe tbody tr th {\n",
       "        vertical-align: top;\n",
       "    }\n",
       "\n",
       "    .dataframe thead th {\n",
       "        text-align: right;\n",
       "    }\n",
       "</style>\n",
       "<table border=\"1\" class=\"dataframe\">\n",
       "  <thead>\n",
       "    <tr style=\"text-align: right;\">\n",
       "      <th></th>\n",
       "      <th>f0</th>\n",
       "      <th>f1</th>\n",
       "      <th>f2</th>\n",
       "      <th>product</th>\n",
       "    </tr>\n",
       "  </thead>\n",
       "  <tbody>\n",
       "    <tr>\n",
       "      <th>f0</th>\n",
       "      <td>1.000000</td>\n",
       "      <td>0.182279</td>\n",
       "      <td>-0.001810</td>\n",
       "      <td>-0.030523</td>\n",
       "    </tr>\n",
       "    <tr>\n",
       "      <th>f1</th>\n",
       "      <td>0.182279</td>\n",
       "      <td>1.000000</td>\n",
       "      <td>-0.002594</td>\n",
       "      <td>-0.010154</td>\n",
       "    </tr>\n",
       "    <tr>\n",
       "      <th>f2</th>\n",
       "      <td>-0.001810</td>\n",
       "      <td>-0.002594</td>\n",
       "      <td>1.000000</td>\n",
       "      <td>0.999397</td>\n",
       "    </tr>\n",
       "    <tr>\n",
       "      <th>product</th>\n",
       "      <td>-0.030523</td>\n",
       "      <td>-0.010154</td>\n",
       "      <td>0.999397</td>\n",
       "      <td>1.000000</td>\n",
       "    </tr>\n",
       "  </tbody>\n",
       "</table>\n",
       "</div>"
      ],
      "text/plain": [
       "               f0        f1        f2   product\n",
       "f0       1.000000  0.182279 -0.001810 -0.030523\n",
       "f1       0.182279  1.000000 -0.002594 -0.010154\n",
       "f2      -0.001810 -0.002594  1.000000  0.999397\n",
       "product -0.030523 -0.010154  0.999397  1.000000"
      ]
     },
     "execution_count": 17,
     "metadata": {},
     "output_type": "execute_result"
    }
   ],
   "source": [
    "geo_data_1.corr()"
   ]
  },
  {
   "cell_type": "markdown",
   "metadata": {},
   "source": [
    "После обучения трёх моделей заметно выделяется модель, обученная по данным региона №1. Её высокая точность обусловлена очень высокой корреляцией параметра `f2` и целевым признаком `product`. Так же у второго региона значительно ниже средний запас сырья. Показатели первого и третьего региона различаются не сильно."
   ]
  },
  {
   "cell_type": "markdown",
   "metadata": {},
   "source": [
    "<a id='section_3'></a>\n",
    "## Подготовка к расчёту прибыли"
   ]
  },
  {
   "cell_type": "markdown",
   "metadata": {},
   "source": [
    "Запишем средний запас нефти по регионам в отдельные переменные."
   ]
  },
  {
   "cell_type": "code",
   "execution_count": 18,
   "metadata": {},
   "outputs": [],
   "source": [
    "# mor - mean oil reserve\n",
    "mor_0 = round(pd.Series(predicted_0_valid).mean(), 2)\n",
    "mor_1 = round(pd.Series(predicted_1_valid).mean(), 2)\n",
    "mor_2 = round(pd.Series(predicted_2_valid).mean(), 2)"
   ]
  },
  {
   "cell_type": "markdown",
   "metadata": {},
   "source": [
    "Рассчитаем достаточный объём сырья для безубыточной разработки новой скважины. "
   ]
  },
  {
   "cell_type": "code",
   "execution_count": 19,
   "metadata": {},
   "outputs": [
    {
     "name": "stdout",
     "output_type": "stream",
     "text": [
      "Необходимое количество запасов: 111.11 тыс. баррелей в среднем.\n",
      "Среднее количество запасов в скважинах нулевого региона: 92.7 тыс. баррелей.\n",
      "Среднее количество запасов в скважинах первого региона: 69.29 тыс. баррелей.\n",
      "Среднее количество запасов в скважинах второго региона: 95.14 тыс. баррелей.\n"
     ]
    }
   ],
   "source": [
    "# количество скважин\n",
    "QUANTITY = 200\n",
    "# цена бурения скважин\n",
    "PRICE = 10 * 10**9 \n",
    "# цена тысячи баррелей\n",
    "VALUE = 450 * 10**3\n",
    "\n",
    "print('Необходимое количество запасов:', round(PRICE/(VALUE*QUANTITY), 2), 'тыс. баррелей в среднем.')\n",
    "print('Среднее количество запасов в скважинах нулевого региона:', mor_0, 'тыс. баррелей.')\n",
    "print('Среднее количество запасов в скважинах первого региона:', mor_1, 'тыс. баррелей.')\n",
    "print('Среднее количество запасов в скважинах второго региона:', mor_2, 'тыс. баррелей.')"
   ]
  },
  {
   "cell_type": "markdown",
   "metadata": {},
   "source": [
    "Как мы видим, среднее количество нефти в скважинах всех регионов значительно ниже требуемого для окупаемости проекта, следовательно, необходимо произвести отбор лучших скважин с рассчётом потенциальной прибыли и рисков."
   ]
  },
  {
   "cell_type": "markdown",
   "metadata": {},
   "source": [
    "<a id='section_4'></a>\n",
    "## Рассчёт прибыли и рисков "
   ]
  },
  {
   "cell_type": "markdown",
   "metadata": {},
   "source": [
    "Запишем новые переменные."
   ]
  },
  {
   "cell_type": "code",
   "execution_count": 20,
   "metadata": {},
   "outputs": [],
   "source": [
    "predicted_0 = pd.Series(predicted_0_valid)\n",
    "predicted_1 = pd.Series(predicted_1_valid)\n",
    "predicted_2 = pd.Series(predicted_2_valid)"
   ]
  },
  {
   "cell_type": "markdown",
   "metadata": {},
   "source": [
    "Сбросим индексы для корректной работы функций."
   ]
  },
  {
   "cell_type": "code",
   "execution_count": 21,
   "metadata": {},
   "outputs": [],
   "source": [
    "y_0_valid = pd.Series(y_0_valid).reset_index(drop=True)\n",
    "y_1_valid = pd.Series(y_1_valid).reset_index(drop=True)\n",
    "y_2_valid = pd.Series(y_2_valid).reset_index(drop=True)"
   ]
  },
  {
   "cell_type": "markdown",
   "metadata": {},
   "source": [
    "Рассчитаем потенциальную прибыль с 200 лучших скважин, которые были предварительно выбраны из 500 случайных по региону."
   ]
  },
  {
   "cell_type": "code",
   "execution_count": 22,
   "metadata": {},
   "outputs": [
    {
     "name": "stdout",
     "output_type": "stream",
     "text": [
      "Потенциальная прибыль нулевого региона: 0.34 млрд. руб.\n",
      "Потенциальная прибыль первого региона: 0.35 млрд. руб.\n",
      "Потенциальная прибыль второго региона: 0.29 млрд. руб.\n"
     ]
    }
   ],
   "source": [
    "state = np.random.RandomState(12345)\n",
    "\n",
    "best_0 = predicted_0.sample(n=500, replace=False, random_state=state).sort_values(ascending=False).head(200).sum()\n",
    "best_1 = predicted_1.sample(n=500, replace=False, random_state=state).sort_values(ascending=False).head(200).sum()\n",
    "best_2 = predicted_2.sample(n=500, replace=False, random_state=state).sort_values(ascending=False).head(200).sum()\n",
    "\n",
    "print('Потенциальная прибыль нулевого региона:', round((best_0 * VALUE - PRICE)/10**9, 2), 'млрд. руб.')\n",
    "print('Потенциальная прибыль первого региона:', round((best_1 * VALUE - PRICE)/10**9, 2), 'млрд. руб.')\n",
    "print('Потенциальная прибыль второго региона:', round((best_2 * VALUE - PRICE)/10**9, 2), 'млрд. руб.')"
   ]
  },
  {
   "cell_type": "markdown",
   "metadata": {},
   "source": [
    "Создадим функцию для получения средних значений через симуляцию 1000 экспериментов с помощью техники Bootstrap."
   ]
  },
  {
   "cell_type": "code",
   "execution_count": 23,
   "metadata": {},
   "outputs": [],
   "source": [
    "def bootstrap_profit_simulation(valid, predicted):\n",
    "    state = np.random.RandomState(12345)\n",
    "    PRICE = 10 * 10**9 \n",
    "    VALUE = 450 * 10**3\n",
    "    values = []\n",
    "    for i in range(1000):\n",
    "        best_predicted = predicted.sample(n=500, replace=True, random_state=state) \\\n",
    "                                           .sort_values(ascending=False) \\\n",
    "                                           .head(200) \\\n",
    "                                           .index\n",
    "        prod = valid.iloc[best_predicted].sum()\n",
    "        total_profit = (prod * VALUE - PRICE)/10 ** 6\n",
    "        values.append(total_profit)\n",
    "    values = pd.Series(values)\n",
    "    \n",
    "    return(values)"
   ]
  },
  {
   "cell_type": "code",
   "execution_count": 24,
   "metadata": {},
   "outputs": [
    {
     "data": {
      "image/png": "[encoded data removed]",
      "text/plain": [
       "<Figure size 1080x360 with 1 Axes>"
      ]
     },
     "metadata": {},
     "output_type": "display_data"
    },
    {
     "name": "stdout",
     "output_type": "stream",
     "text": [
      "Средний потенциальный запас нулевого региона: 92.7 тыс. баррелей\n",
      "Средний потенциальный запас первого региона: 69.29 тыс. баррелей\n",
      "Средний потенциальный запас второго региона: 95.14 тыс. баррелей\n"
     ]
    }
   ],
   "source": [
    "sns.boxplot(data=[predicted_0, predicted_1, predicted_2], palette=\"vlag\")\n",
    "\n",
    "sns.set_style(\"darkgrid\")\n",
    "\n",
    "plt.title('Распределение среднего количества предсказанных запасов по регионам', size=16)\n",
    "plt.xlabel('Регион', size=16)\n",
    "plt.ylabel('Среднее количество запасов', size=16)\n",
    "\n",
    "plt.show()\n",
    "\n",
    "print('Средний потенциальный запас нулевого региона:', round(predicted_0.mean(),2), 'тыс. баррелей')\n",
    "print('Средний потенциальный запас первого региона:', round(predicted_1.mean(),2), 'тыс. баррелей')\n",
    "print('Средний потенциальный запас второго региона:', round(predicted_2.mean(),2), 'тыс. баррелей')"
   ]
  },
  {
   "cell_type": "code",
   "execution_count": 25,
   "metadata": {},
   "outputs": [],
   "source": [
    "df_0 = pd.DataFrame(predicted_0)\n",
    "df_1 = pd.DataFrame(predicted_1)\n",
    "df_2 = pd.DataFrame(predicted_2)\n",
    "df_0['region'] = 0\n",
    "df_1['region'] = 1\n",
    "df_2['region'] = 2\n",
    "df = pd.concat([df_0, df_1, df_2]).reset_index(drop=True)\n",
    "df.columns = ['reserve', 'region']"
   ]
  },
  {
   "cell_type": "code",
   "execution_count": 26,
   "metadata": {},
   "outputs": [
    {
     "data": {
      "image/png": "[encoded data removed]",
      "text/plain": [
       "<Figure size 1080x360 with 1 Axes>"
      ]
     },
     "metadata": {},
     "output_type": "display_data"
    }
   ],
   "source": [
    "sns.histplot(df, x='reserve', hue='region', palette=['red', 'green', 'blue'])\n",
    "\n",
    "plt.title('Распределение предсказанных запасов нефти по регионам', size=16)\n",
    "plt.xlabel('Запас, тыс. баррелей', size=16)\n",
    "plt.ylabel('Количество скважин', size=16)\n",
    "plt.legend(['Регион №0', 'Регион №1', 'Регион №2'])\n",
    "\n",
    "plt.show()"
   ]
  },
  {
   "cell_type": "code",
   "execution_count": 27,
   "metadata": {},
   "outputs": [],
   "source": [
    "profit_0 = bootstrap_profit_simulation(y_0_valid, predicted_0)\n",
    "profit_1 = bootstrap_profit_simulation(y_1_valid, predicted_1)\n",
    "profit_2 = bootstrap_profit_simulation(y_2_valid, predicted_2)"
   ]
  },
  {
   "cell_type": "code",
   "execution_count": 28,
   "metadata": {},
   "outputs": [
    {
     "data": {
      "image/png": "[encoded data removed]",
      "text/plain": [
       "<Figure size 1080x360 with 1 Axes>"
      ]
     },
     "metadata": {},
     "output_type": "display_data"
    },
    {
     "name": "stdout",
     "output_type": "stream",
     "text": [
      "Средняя потенциальная прибыль нулевого региона: 448.59 (млн. руб.)\n",
      "Средняя потенциальная прибыль первого региона: 498.14 (млн. руб.)\n",
      "Средняя потенциальная прибыль второго региона: 339.33 (млн. руб.)\n"
     ]
    }
   ],
   "source": [
    "sns.boxplot(data=[profit_0, profit_1, profit_2], palette=\"vlag\")\n",
    "\n",
    "sns.set_style(\"darkgrid\")\n",
    "\n",
    "plt.title('Распределение средней потенциальной прибыли по регионам', size=16)\n",
    "plt.xlabel('Регион', size=16)\n",
    "plt.ylabel('Средняя потенциальная прибыль, (млн. руб.)', size=16)\n",
    "\n",
    "plt.show()\n",
    "\n",
    "print('Средняя потенциальная прибыль нулевого региона:', round(profit_0.mean(),2), '(млн. руб.)')\n",
    "print('Средняя потенциальная прибыль первого региона:', round(profit_1.mean(),2), '(млн. руб.)')\n",
    "print('Средняя потенциальная прибыль второго региона:', round(profit_2.mean(),2), '(млн. руб.)')"
   ]
  },
  {
   "cell_type": "markdown",
   "metadata": {},
   "source": [
    "Второгой регион имеет меньший средний запас нефти в скважинах, но при этом алгоритм отбора 200 лучших скважин из 500 случайно выбранных продемонстрировал неоходимость определения наиболее прибыльных скважин региона. Таким образом, потенциальная прибыль второго региона значительно превосходит другие два, при этом риски убытка не превышают пороговое значение."
   ]
  },
  {
   "cell_type": "markdown",
   "metadata": {},
   "source": [
    "### Расчёт средней прибыли, доверительных интервалов и рисков"
   ]
  },
  {
   "cell_type": "markdown",
   "metadata": {},
   "source": [
    "Создадим функцию, которая будет выводить всю необходимую информацию."
   ]
  },
  {
   "cell_type": "code",
   "execution_count": 29,
   "metadata": {},
   "outputs": [],
   "source": [
    "def show_info(region, profits_mean, conf_int_left, conf_int_right, loss_rate):\n",
    "    print(region.center(40, '-'))\n",
    "    print(f'Средняя прибыль: {profits_mean:.2f} (млн. руб.)')\n",
    "    print(f'95% доверительный интервал: {conf_int_left:.2f} : {conf_int_right:.2f} (млн. руб.)')\n",
    "    print(f'Вероятность получить убыток: {loss_rate:.2f} %')"
   ]
  },
  {
   "cell_type": "markdown",
   "metadata": {},
   "source": [
    "А так же функцию расчёта требуемых параметров."
   ]
  },
  {
   "cell_type": "code",
   "execution_count": 30,
   "metadata": {},
   "outputs": [],
   "source": [
    "def stats_calc(profit_simulation, region): \n",
    "    \"\"\"Функция принимает серию со значениями прибыли и название региона в формате строки.\n",
    "    \n",
    "    Рассчитывает 95% доверительный интервал\n",
    "    Рассчитывает вероятность убытка\n",
    "    Активирует функцию вывода статистики на экран\n",
    "    \n",
    "    \"\"\"\n",
    "    alpha = 0.05\n",
    "\n",
    "    profits = pd.Series(profit_simulation)\n",
    "    profits_mean = profits.mean()\n",
    "    \n",
    "    conf_int_left = profits.quantile(alpha/2)\n",
    "    conf_int_right = profits.quantile(1 - alpha/2)\n",
    "    \n",
    "    loss_rate = (profits < 0).mean() * 100\n",
    "    \n",
    "    show_info(region, profits_mean, conf_int_left, conf_int_right, loss_rate)"
   ]
  },
  {
   "cell_type": "code",
   "execution_count": 31,
   "metadata": {},
   "outputs": [
    {
     "name": "stdout",
     "output_type": "stream",
     "text": [
      "---------------Регион №0----------------\n",
      "Средняя прибыль: 448.59 (млн. руб.)\n",
      "95% доверительный интервал: -59.16 : 931.84 (млн. руб.)\n",
      "Вероятность получить убыток: 3.70 %\n"
     ]
    }
   ],
   "source": [
    "stats_calc(profit_0, 'Регион №0')"
   ]
  },
  {
   "cell_type": "code",
   "execution_count": 32,
   "metadata": {},
   "outputs": [
    {
     "name": "stdout",
     "output_type": "stream",
     "text": [
      "---------------Регион №1----------------\n",
      "Средняя прибыль: 498.14 (млн. руб.)\n",
      "95% доверительный интервал: 74.49 : 902.29 (млн. руб.)\n",
      "Вероятность получить убыток: 0.70 %\n"
     ]
    }
   ],
   "source": [
    "stats_calc(profit_1, 'Регион №1')"
   ]
  },
  {
   "cell_type": "code",
   "execution_count": 33,
   "metadata": {},
   "outputs": [
    {
     "name": "stdout",
     "output_type": "stream",
     "text": [
      "---------------Регион №2----------------\n",
      "Средняя прибыль: 339.33 (млн. руб.)\n",
      "95% доверительный интервал: -202.40 : 857.48 (млн. руб.)\n",
      "Вероятность получить убыток: 11.30 %\n"
     ]
    }
   ],
   "source": [
    "stats_calc(profit_2, 'Регион №2')"
   ]
  },
  {
   "cell_type": "markdown",
   "metadata": {},
   "source": [
    "Вероятность получить убыток не превышает 2.5% только для региона №1, а также он обладает наибольшей потенциальной средней прибылью, следовательно, для разработки целесообразно взять именно его."
   ]
  },
  {
   "cell_type": "markdown",
   "metadata": {},
   "source": [
    "<a id='section_5'></a>\n",
    "## Общий вывод"
   ]
  },
  {
   "cell_type": "markdown",
   "metadata": {},
   "source": [
    "В ходе исследования были обработаны и проанализированы данные о регионах бурения скважин для добычи нефти. \n",
    "Были изучены данные о качетсве содержимого скважин, созданы модели предсказания объёма запасов нефти и рассчитаны потенциальная прибыль с рисками убытка, а также сделаны выводы и рекомендации. \n",
    "\n",
    "**После проделанного исследования можно сделать следующие выводы:**\n",
    "1. Выявлена высокая корреляция праметра `f2` и целевого признакак `product` в регионе №1.\n",
    "2. Создана модель, способная с высокой точностью определять запасы нефти в месторождениях региона №1.\n",
    "3. Средний запас сырья в регионе №1 ниже, но за счёт использования алгоритма отбора лучших скважин выяснено, что он является наиболее перспективным с точки зрения потенциальной прибыли:\n",
    "    - Средняя потенциальная прибыль первого региона: 448.59 (млн. руб.)\n",
    "    - Средняя потенциальная прибыль второго региона: 498.14 (млн. руб.)\n",
    "    - Средняя потенциальная прибыль третьего региона: 339.33 (млн. руб.)\n",
    "4. Риски убытков от разработки месторождений не превышают 2.5% только в регионе №1:\n",
    "    - Вероятность получить убыток для первого региона: 3.70 %\n",
    "    - Вероятность получить убыток для второго региона: 0.70 %\n",
    "    - Вероятность получить убыток для третьего региона: 11.30 %\n",
    "**Рекомендации:**\n",
    "1. Обратить внимание на наличие дубликатов скважин в данных.\n",
    "2. Начинать разработку скважин в регионе №1.\n",
    "3. Использовать модель предсказания объёма запасов нефти."
   ]
  }
 ],
 "metadata": {
  "ExecuteTimeLog": [
   {
    "duration": 6206,
    "start_time": "2023-01-21T09:50:48.079Z"
   },
   {
    "duration": 1445,
    "start_time": "2023-01-21T09:50:54.287Z"
   },
   {
    "duration": 4,
    "start_time": "2023-01-21T09:50:55.733Z"
   },
   {
    "duration": 27,
    "start_time": "2023-01-21T09:50:55.739Z"
   },
   {
    "duration": 14,
    "start_time": "2023-01-21T09:50:55.767Z"
   },
   {
    "duration": 13,
    "start_time": "2023-01-21T09:50:55.782Z"
   },
   {
    "duration": 13,
    "start_time": "2023-01-21T09:50:55.796Z"
   },
   {
    "duration": 67,
    "start_time": "2023-01-21T09:50:55.810Z"
   },
   {
    "duration": 16,
    "start_time": "2023-01-21T09:50:55.878Z"
   },
   {
    "duration": 13,
    "start_time": "2023-01-21T09:50:55.896Z"
   },
   {
    "duration": 42,
    "start_time": "2023-01-21T09:50:55.910Z"
   },
   {
    "duration": 29,
    "start_time": "2023-01-21T09:50:55.954Z"
   },
   {
    "duration": 3,
    "start_time": "2023-01-21T09:50:55.984Z"
   },
   {
    "duration": 165,
    "start_time": "2023-01-21T09:50:55.989Z"
   },
   {
    "duration": 104,
    "start_time": "2023-01-21T09:50:56.157Z"
   },
   {
    "duration": 199,
    "start_time": "2023-01-21T09:50:56.263Z"
   },
   {
    "duration": 187,
    "start_time": "2023-01-21T09:50:56.464Z"
   },
   {
    "duration": 5,
    "start_time": "2023-01-21T09:50:56.653Z"
   },
   {
    "duration": 21,
    "start_time": "2023-01-21T09:50:56.659Z"
   },
   {
    "duration": 24,
    "start_time": "2023-01-21T09:50:56.682Z"
   },
   {
    "duration": 18,
    "start_time": "2023-01-21T09:50:56.707Z"
   },
   {
    "duration": 12,
    "start_time": "2023-01-21T09:50:56.726Z"
   },
   {
    "duration": 188,
    "start_time": "2023-01-21T09:50:56.739Z"
   },
   {
    "duration": 7,
    "start_time": "2023-01-21T09:50:56.929Z"
   },
   {
    "duration": 703,
    "start_time": "2023-01-21T09:50:56.947Z"
   },
   {
    "duration": 2226,
    "start_time": "2023-01-21T09:50:57.652Z"
   },
   {
    "duration": 189,
    "start_time": "2023-01-21T09:50:59.880Z"
   },
   {
    "duration": 9,
    "start_time": "2023-01-21T09:51:00.072Z"
   },
   {
    "duration": 18,
    "start_time": "2023-01-21T09:51:00.082Z"
   }
  ],
  "kernelspec": {
   "display_name": "Python 3 (ipykernel)",
   "language": "python",
   "name": "python3"
  },
  "language_info": {
   "codemirror_mode": {
    "name": "ipython",
    "version": 3
   },
   "file_extension": ".py",
   "mimetype": "text/x-python",
   "name": "python",
   "nbconvert_exporter": "python",
   "pygments_lexer": "ipython3",
   "version": "3.9.12"
  },
  "toc": {
   "base_numbering": 1,
   "nav_menu": {},
   "number_sections": true,
   "sideBar": true,
   "skip_h1_title": true,
   "title_cell": "Table of Contents",
   "title_sidebar": "Contents",
   "toc_cell": false,
   "toc_position": {
    "height": "789px",
    "left": "277px",
    "top": "323.125px",
    "width": "384px"
   },
   "toc_section_display": true,
   "toc_window_display": true
  }
 },
 "nbformat": 4,
 "nbformat_minor": 2
}
