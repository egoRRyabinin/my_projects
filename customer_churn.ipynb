{
 "cells": [
  {
   "cell_type": "markdown",
   "id": "4cdbed33",
   "metadata": {},
   "source": [
    "# Отток клиентов"
   ]
  },
  {
   "cell_type": "markdown",
   "id": "0e8f7498",
   "metadata": {},
   "source": [
    "# Введение"
   ]
  },
  {
   "cell_type": "markdown",
   "id": "c021731a",
   "metadata": {},
   "source": [
    "### Описание проекта \n",
    "Проект нацелен на анализ данных о клиентах «Бета-Банка» в связи со значительным ежемесячным оттоком. Банковские маркетологи провели оценку и выбрали стратегию удержания старых клиентов, так как она более выгодна, чем стратегия привлечения новых.\n",
    "### Цель проекта\n",
    "Целью является прогнозирование, уйдёт клиент из банка в ближайшее время или нет.\n",
    "### Описание данных\n",
    "**Нам предоставили доступ к историческим данным о поведении клиентов и расторжении договоров с банком.**   \n",
    "Источник данных: https://www.kaggle.com/barelydedicated/bank-customer-churn-modeling\n",
    "\n",
    "В таблице данных представлены следующие значения:  \n",
    "\n",
    "**Признаки:**\n",
    "- RowNumber — индекс строки в данных\n",
    "- CustomerId — уникальный идентификатор клиента\n",
    "- Surname — фамилия\n",
    "- CreditScore — кредитный рейтинг\n",
    "- Geography — страна проживания\n",
    "- Gender — пол\n",
    "- Age — возраст\n",
    "- Tenure — сколько лет человек является клиентом банка\n",
    "- Balance — баланс на счёте\n",
    "- NumOfProducts — количество продуктов банка, используемых клиентом\n",
    "- HasCrCard — наличие кредитной карты\n",
    "- IsActiveMember — активность клиента\n",
    "- EstimatedSalary — предполагаемая зарплата  \n",
    "\n",
    "**Целевой признак:**\n",
    "- Exited — факт ухода клиента\n",
    "\n",
    "### План работы\n",
    "1. [Подготовка данных](#section_1)\n",
    "2. [Исследовательский анализ](#section_2)  \n",
    "3. [Исследование задачи](#section_3)  \n",
    "4. [Борьба с дисбалансом классов](#section_4)\n",
    "5. [Тестирование модели](#section_5)\n",
    "6. [Общий вывод](#section_6)"
   ]
  },
  {
   "cell_type": "markdown",
   "id": "d1d1c214",
   "metadata": {},
   "source": [
    "<a id='section_1'></a>\n",
    "## Подготовка данных"
   ]
  },
  {
   "cell_type": "markdown",
   "id": "4d7113c4",
   "metadata": {},
   "source": [
    "### Изучение общей информации о данных"
   ]
  },
  {
   "cell_type": "markdown",
   "id": "7b173643",
   "metadata": {},
   "source": [
    "Загрузим необходимые библиотеки."
   ]
  },
  {
   "cell_type": "code",
   "execution_count": 1,
   "id": "5ad57124",
   "metadata": {},
   "outputs": [],
   "source": [
    "# анализ данных\n",
    "import pandas as pd\n",
    "import numpy as np\n",
    "\n",
    "# визуализация\n",
    "import seaborn as sns\n",
    "import matplotlib.pyplot as plt\n",
    "\n",
    "# модели машинного обучения\n",
    "from sklearn.linear_model import LogisticRegression\n",
    "from sklearn.ensemble import RandomForestClassifier\n",
    "from sklearn.tree import DecisionTreeClassifier\n",
    "\n",
    "# вспомогательные средства \n",
    "from sklearn.metrics import accuracy_score\n",
    "from sklearn.metrics import precision_score\n",
    "from sklearn.metrics import recall_score\n",
    "from sklearn.metrics import f1_score\n",
    "from sklearn.metrics import roc_auc_score\n",
    "from sklearn.model_selection import train_test_split\n",
    "from sklearn.preprocessing import OrdinalEncoder\n",
    "from sklearn.preprocessing import StandardScaler\n",
    "from sklearn.experimental import enable_halving_search_cv\n",
    "from sklearn.model_selection import HalvingGridSearchCV\n",
    "from sklearn.experimental import enable_halving_search_cv\n",
    "from sklearn.model_selection import HalvingRandomSearchCV\n",
    "from sklearn.utils import shuffle\n",
    "from sklearn.dummy import DummyClassifier"
   ]
  },
  {
   "cell_type": "markdown",
   "id": "b901cc11",
   "metadata": {},
   "source": [
    "Загрузим данные."
   ]
  },
  {
   "cell_type": "code",
   "execution_count": 2,
   "id": "1045c83b",
   "metadata": {},
   "outputs": [],
   "source": [
    "try:\n",
    "    data = pd.read_csv(r'D:\\projects_data\\tariffs\\Churn.csv')\n",
    "except:\n",
    "    data = pd.read_csv('/datasets/Churn.csv')\n",
    "    \n",
    "data.drop('RowNumber', axis=True, inplace=True)"
   ]
  },
  {
   "cell_type": "code",
   "execution_count": 3,
   "id": "9752702e",
   "metadata": {},
   "outputs": [],
   "source": [
    "# настройка отображения всех столбцов таблицы\n",
    "pd.set_option('display.max_columns', None)\n",
    "# настройка отображения графиков\n",
    "sns.set(rc={'figure.figsize': (10,5)})"
   ]
  },
  {
   "cell_type": "markdown",
   "id": "96c9985c",
   "metadata": {},
   "source": [
    "Посмотрим на содержимое предоставленной таблицы."
   ]
  },
  {
   "cell_type": "code",
   "execution_count": 4,
   "id": "ed1f36f5",
   "metadata": {},
   "outputs": [
    {
     "data": {
      "text/html": [
       "<div>\n",
       "<style scoped>\n",
       "    .dataframe tbody tr th:only-of-type {\n",
       "        vertical-align: middle;\n",
       "    }\n",
       "\n",
       "    .dataframe tbody tr th {\n",
       "        vertical-align: top;\n",
       "    }\n",
       "\n",
       "    .dataframe thead th {\n",
       "        text-align: right;\n",
       "    }\n",
       "</style>\n",
       "<table border=\"1\" class=\"dataframe\">\n",
       "  <thead>\n",
       "    <tr style=\"text-align: right;\">\n",
       "      <th></th>\n",
       "      <th>CustomerId</th>\n",
       "      <th>Surname</th>\n",
       "      <th>CreditScore</th>\n",
       "      <th>Geography</th>\n",
       "      <th>Gender</th>\n",
       "      <th>Age</th>\n",
       "      <th>Tenure</th>\n",
       "      <th>Balance</th>\n",
       "      <th>NumOfProducts</th>\n",
       "      <th>HasCrCard</th>\n",
       "      <th>IsActiveMember</th>\n",
       "      <th>EstimatedSalary</th>\n",
       "      <th>Exited</th>\n",
       "    </tr>\n",
       "  </thead>\n",
       "  <tbody>\n",
       "    <tr>\n",
       "      <th>0</th>\n",
       "      <td>15634602</td>\n",
       "      <td>Hargrave</td>\n",
       "      <td>619</td>\n",
       "      <td>France</td>\n",
       "      <td>Female</td>\n",
       "      <td>42</td>\n",
       "      <td>2.0</td>\n",
       "      <td>0.00</td>\n",
       "      <td>1</td>\n",
       "      <td>1</td>\n",
       "      <td>1</td>\n",
       "      <td>101348.88</td>\n",
       "      <td>1</td>\n",
       "    </tr>\n",
       "    <tr>\n",
       "      <th>1</th>\n",
       "      <td>15647311</td>\n",
       "      <td>Hill</td>\n",
       "      <td>608</td>\n",
       "      <td>Spain</td>\n",
       "      <td>Female</td>\n",
       "      <td>41</td>\n",
       "      <td>1.0</td>\n",
       "      <td>83807.86</td>\n",
       "      <td>1</td>\n",
       "      <td>0</td>\n",
       "      <td>1</td>\n",
       "      <td>112542.58</td>\n",
       "      <td>0</td>\n",
       "    </tr>\n",
       "    <tr>\n",
       "      <th>2</th>\n",
       "      <td>15619304</td>\n",
       "      <td>Onio</td>\n",
       "      <td>502</td>\n",
       "      <td>France</td>\n",
       "      <td>Female</td>\n",
       "      <td>42</td>\n",
       "      <td>8.0</td>\n",
       "      <td>159660.80</td>\n",
       "      <td>3</td>\n",
       "      <td>1</td>\n",
       "      <td>0</td>\n",
       "      <td>113931.57</td>\n",
       "      <td>1</td>\n",
       "    </tr>\n",
       "    <tr>\n",
       "      <th>3</th>\n",
       "      <td>15701354</td>\n",
       "      <td>Boni</td>\n",
       "      <td>699</td>\n",
       "      <td>France</td>\n",
       "      <td>Female</td>\n",
       "      <td>39</td>\n",
       "      <td>1.0</td>\n",
       "      <td>0.00</td>\n",
       "      <td>2</td>\n",
       "      <td>0</td>\n",
       "      <td>0</td>\n",
       "      <td>93826.63</td>\n",
       "      <td>0</td>\n",
       "    </tr>\n",
       "    <tr>\n",
       "      <th>4</th>\n",
       "      <td>15737888</td>\n",
       "      <td>Mitchell</td>\n",
       "      <td>850</td>\n",
       "      <td>Spain</td>\n",
       "      <td>Female</td>\n",
       "      <td>43</td>\n",
       "      <td>2.0</td>\n",
       "      <td>125510.82</td>\n",
       "      <td>1</td>\n",
       "      <td>1</td>\n",
       "      <td>1</td>\n",
       "      <td>79084.10</td>\n",
       "      <td>0</td>\n",
       "    </tr>\n",
       "    <tr>\n",
       "      <th>5</th>\n",
       "      <td>15574012</td>\n",
       "      <td>Chu</td>\n",
       "      <td>645</td>\n",
       "      <td>Spain</td>\n",
       "      <td>Male</td>\n",
       "      <td>44</td>\n",
       "      <td>8.0</td>\n",
       "      <td>113755.78</td>\n",
       "      <td>2</td>\n",
       "      <td>1</td>\n",
       "      <td>0</td>\n",
       "      <td>149756.71</td>\n",
       "      <td>1</td>\n",
       "    </tr>\n",
       "    <tr>\n",
       "      <th>6</th>\n",
       "      <td>15592531</td>\n",
       "      <td>Bartlett</td>\n",
       "      <td>822</td>\n",
       "      <td>France</td>\n",
       "      <td>Male</td>\n",
       "      <td>50</td>\n",
       "      <td>7.0</td>\n",
       "      <td>0.00</td>\n",
       "      <td>2</td>\n",
       "      <td>1</td>\n",
       "      <td>1</td>\n",
       "      <td>10062.80</td>\n",
       "      <td>0</td>\n",
       "    </tr>\n",
       "    <tr>\n",
       "      <th>7</th>\n",
       "      <td>15656148</td>\n",
       "      <td>Obinna</td>\n",
       "      <td>376</td>\n",
       "      <td>Germany</td>\n",
       "      <td>Female</td>\n",
       "      <td>29</td>\n",
       "      <td>4.0</td>\n",
       "      <td>115046.74</td>\n",
       "      <td>4</td>\n",
       "      <td>1</td>\n",
       "      <td>0</td>\n",
       "      <td>119346.88</td>\n",
       "      <td>1</td>\n",
       "    </tr>\n",
       "    <tr>\n",
       "      <th>8</th>\n",
       "      <td>15792365</td>\n",
       "      <td>He</td>\n",
       "      <td>501</td>\n",
       "      <td>France</td>\n",
       "      <td>Male</td>\n",
       "      <td>44</td>\n",
       "      <td>4.0</td>\n",
       "      <td>142051.07</td>\n",
       "      <td>2</td>\n",
       "      <td>0</td>\n",
       "      <td>1</td>\n",
       "      <td>74940.50</td>\n",
       "      <td>0</td>\n",
       "    </tr>\n",
       "    <tr>\n",
       "      <th>9</th>\n",
       "      <td>15592389</td>\n",
       "      <td>H?</td>\n",
       "      <td>684</td>\n",
       "      <td>France</td>\n",
       "      <td>Male</td>\n",
       "      <td>27</td>\n",
       "      <td>2.0</td>\n",
       "      <td>134603.88</td>\n",
       "      <td>1</td>\n",
       "      <td>1</td>\n",
       "      <td>1</td>\n",
       "      <td>71725.73</td>\n",
       "      <td>0</td>\n",
       "    </tr>\n",
       "  </tbody>\n",
       "</table>\n",
       "</div>"
      ],
      "text/plain": [
       "   CustomerId   Surname  CreditScore Geography  Gender  Age  Tenure  \\\n",
       "0    15634602  Hargrave          619    France  Female   42     2.0   \n",
       "1    15647311      Hill          608     Spain  Female   41     1.0   \n",
       "2    15619304      Onio          502    France  Female   42     8.0   \n",
       "3    15701354      Boni          699    France  Female   39     1.0   \n",
       "4    15737888  Mitchell          850     Spain  Female   43     2.0   \n",
       "5    15574012       Chu          645     Spain    Male   44     8.0   \n",
       "6    15592531  Bartlett          822    France    Male   50     7.0   \n",
       "7    15656148    Obinna          376   Germany  Female   29     4.0   \n",
       "8    15792365        He          501    France    Male   44     4.0   \n",
       "9    15592389        H?          684    France    Male   27     2.0   \n",
       "\n",
       "     Balance  NumOfProducts  HasCrCard  IsActiveMember  EstimatedSalary  \\\n",
       "0       0.00              1          1               1        101348.88   \n",
       "1   83807.86              1          0               1        112542.58   \n",
       "2  159660.80              3          1               0        113931.57   \n",
       "3       0.00              2          0               0         93826.63   \n",
       "4  125510.82              1          1               1         79084.10   \n",
       "5  113755.78              2          1               0        149756.71   \n",
       "6       0.00              2          1               1         10062.80   \n",
       "7  115046.74              4          1               0        119346.88   \n",
       "8  142051.07              2          0               1         74940.50   \n",
       "9  134603.88              1          1               1         71725.73   \n",
       "\n",
       "   Exited  \n",
       "0       1  \n",
       "1       0  \n",
       "2       1  \n",
       "3       0  \n",
       "4       0  \n",
       "5       1  \n",
       "6       0  \n",
       "7       1  \n",
       "8       0  \n",
       "9       0  "
      ]
     },
     "execution_count": 4,
     "metadata": {},
     "output_type": "execute_result"
    }
   ],
   "source": [
    "data.head(10)"
   ]
  },
  {
   "cell_type": "code",
   "execution_count": 5,
   "id": "dcc08acb",
   "metadata": {},
   "outputs": [
    {
     "name": "stdout",
     "output_type": "stream",
     "text": [
      "<class 'pandas.core.frame.DataFrame'>\n",
      "RangeIndex: 10000 entries, 0 to 9999\n",
      "Data columns (total 13 columns):\n",
      " #   Column           Non-Null Count  Dtype  \n",
      "---  ------           --------------  -----  \n",
      " 0   CustomerId       10000 non-null  int64  \n",
      " 1   Surname          10000 non-null  object \n",
      " 2   CreditScore      10000 non-null  int64  \n",
      " 3   Geography        10000 non-null  object \n",
      " 4   Gender           10000 non-null  object \n",
      " 5   Age              10000 non-null  int64  \n",
      " 6   Tenure           9091 non-null   float64\n",
      " 7   Balance          10000 non-null  float64\n",
      " 8   NumOfProducts    10000 non-null  int64  \n",
      " 9   HasCrCard        10000 non-null  int64  \n",
      " 10  IsActiveMember   10000 non-null  int64  \n",
      " 11  EstimatedSalary  10000 non-null  float64\n",
      " 12  Exited           10000 non-null  int64  \n",
      "dtypes: float64(3), int64(7), object(3)\n",
      "memory usage: 1015.8+ KB\n"
     ]
    }
   ],
   "source": [
    "data.info()"
   ]
  },
  {
   "cell_type": "markdown",
   "id": "d1618a60",
   "metadata": {},
   "source": [
    "### Предобработка данных"
   ]
  },
  {
   "cell_type": "markdown",
   "id": "bf8d1976",
   "metadata": {},
   "source": [
    "#### Переименование столбцов"
   ]
  },
  {
   "cell_type": "code",
   "execution_count": 6,
   "id": "ef6dda00",
   "metadata": {},
   "outputs": [],
   "source": [
    "data.columns = data.columns.str.replace(r\"([A-Z])\", r\" \\1\", regex=True).str.lower().str.replace(r\" \", r\"_\").str[1:]"
   ]
  },
  {
   "cell_type": "code",
   "execution_count": 7,
   "id": "affef734",
   "metadata": {
    "scrolled": true
   },
   "outputs": [
    {
     "data": {
      "text/html": [
       "<div>\n",
       "<style scoped>\n",
       "    .dataframe tbody tr th:only-of-type {\n",
       "        vertical-align: middle;\n",
       "    }\n",
       "\n",
       "    .dataframe tbody tr th {\n",
       "        vertical-align: top;\n",
       "    }\n",
       "\n",
       "    .dataframe thead th {\n",
       "        text-align: right;\n",
       "    }\n",
       "</style>\n",
       "<table border=\"1\" class=\"dataframe\">\n",
       "  <thead>\n",
       "    <tr style=\"text-align: right;\">\n",
       "      <th></th>\n",
       "      <th>customer_id</th>\n",
       "      <th>surname</th>\n",
       "      <th>credit_score</th>\n",
       "      <th>geography</th>\n",
       "      <th>gender</th>\n",
       "      <th>age</th>\n",
       "      <th>tenure</th>\n",
       "      <th>balance</th>\n",
       "      <th>num_of_products</th>\n",
       "      <th>has_cr_card</th>\n",
       "      <th>is_active_member</th>\n",
       "      <th>estimated_salary</th>\n",
       "      <th>exited</th>\n",
       "    </tr>\n",
       "  </thead>\n",
       "  <tbody>\n",
       "    <tr>\n",
       "      <th>0</th>\n",
       "      <td>15634602</td>\n",
       "      <td>Hargrave</td>\n",
       "      <td>619</td>\n",
       "      <td>France</td>\n",
       "      <td>Female</td>\n",
       "      <td>42</td>\n",
       "      <td>2.0</td>\n",
       "      <td>0.00</td>\n",
       "      <td>1</td>\n",
       "      <td>1</td>\n",
       "      <td>1</td>\n",
       "      <td>101348.88</td>\n",
       "      <td>1</td>\n",
       "    </tr>\n",
       "    <tr>\n",
       "      <th>1</th>\n",
       "      <td>15647311</td>\n",
       "      <td>Hill</td>\n",
       "      <td>608</td>\n",
       "      <td>Spain</td>\n",
       "      <td>Female</td>\n",
       "      <td>41</td>\n",
       "      <td>1.0</td>\n",
       "      <td>83807.86</td>\n",
       "      <td>1</td>\n",
       "      <td>0</td>\n",
       "      <td>1</td>\n",
       "      <td>112542.58</td>\n",
       "      <td>0</td>\n",
       "    </tr>\n",
       "    <tr>\n",
       "      <th>2</th>\n",
       "      <td>15619304</td>\n",
       "      <td>Onio</td>\n",
       "      <td>502</td>\n",
       "      <td>France</td>\n",
       "      <td>Female</td>\n",
       "      <td>42</td>\n",
       "      <td>8.0</td>\n",
       "      <td>159660.80</td>\n",
       "      <td>3</td>\n",
       "      <td>1</td>\n",
       "      <td>0</td>\n",
       "      <td>113931.57</td>\n",
       "      <td>1</td>\n",
       "    </tr>\n",
       "    <tr>\n",
       "      <th>3</th>\n",
       "      <td>15701354</td>\n",
       "      <td>Boni</td>\n",
       "      <td>699</td>\n",
       "      <td>France</td>\n",
       "      <td>Female</td>\n",
       "      <td>39</td>\n",
       "      <td>1.0</td>\n",
       "      <td>0.00</td>\n",
       "      <td>2</td>\n",
       "      <td>0</td>\n",
       "      <td>0</td>\n",
       "      <td>93826.63</td>\n",
       "      <td>0</td>\n",
       "    </tr>\n",
       "    <tr>\n",
       "      <th>4</th>\n",
       "      <td>15737888</td>\n",
       "      <td>Mitchell</td>\n",
       "      <td>850</td>\n",
       "      <td>Spain</td>\n",
       "      <td>Female</td>\n",
       "      <td>43</td>\n",
       "      <td>2.0</td>\n",
       "      <td>125510.82</td>\n",
       "      <td>1</td>\n",
       "      <td>1</td>\n",
       "      <td>1</td>\n",
       "      <td>79084.10</td>\n",
       "      <td>0</td>\n",
       "    </tr>\n",
       "  </tbody>\n",
       "</table>\n",
       "</div>"
      ],
      "text/plain": [
       "   customer_id   surname  credit_score geography  gender  age  tenure  \\\n",
       "0     15634602  Hargrave           619    France  Female   42     2.0   \n",
       "1     15647311      Hill           608     Spain  Female   41     1.0   \n",
       "2     15619304      Onio           502    France  Female   42     8.0   \n",
       "3     15701354      Boni           699    France  Female   39     1.0   \n",
       "4     15737888  Mitchell           850     Spain  Female   43     2.0   \n",
       "\n",
       "     balance  num_of_products  has_cr_card  is_active_member  \\\n",
       "0       0.00                1            1                 1   \n",
       "1   83807.86                1            0                 1   \n",
       "2  159660.80                3            1                 0   \n",
       "3       0.00                2            0                 0   \n",
       "4  125510.82                1            1                 1   \n",
       "\n",
       "   estimated_salary  exited  \n",
       "0         101348.88       1  \n",
       "1         112542.58       0  \n",
       "2         113931.57       1  \n",
       "3          93826.63       0  \n",
       "4          79084.10       0  "
      ]
     },
     "execution_count": 7,
     "metadata": {},
     "output_type": "execute_result"
    }
   ],
   "source": [
    "data.head()"
   ]
  },
  {
   "cell_type": "markdown",
   "id": "6c4ec8f1",
   "metadata": {},
   "source": [
    "#### Обработка пропусков"
   ]
  },
  {
   "cell_type": "code",
   "execution_count": 8,
   "id": "26bebb63",
   "metadata": {},
   "outputs": [
    {
     "data": {
      "text/plain": [
       "customer_id           0\n",
       "surname               0\n",
       "credit_score          0\n",
       "geography             0\n",
       "gender                0\n",
       "age                   0\n",
       "tenure              909\n",
       "balance               0\n",
       "num_of_products       0\n",
       "has_cr_card           0\n",
       "is_active_member      0\n",
       "estimated_salary      0\n",
       "exited                0\n",
       "dtype: int64"
      ]
     },
     "execution_count": 8,
     "metadata": {},
     "output_type": "execute_result"
    }
   ],
   "source": [
    "data.isna().sum()"
   ]
  },
  {
   "cell_type": "markdown",
   "id": "9996eafb",
   "metadata": {},
   "source": [
    "Как мы видим, в столбце со сроком сотрудничества клиентов с банком присутствуют пропуски в 9% записей."
   ]
  },
  {
   "cell_type": "code",
   "execution_count": 9,
   "id": "ff42b3a9",
   "metadata": {},
   "outputs": [
    {
     "data": {
      "text/html": [
       "<div>\n",
       "<style scoped>\n",
       "    .dataframe tbody tr th:only-of-type {\n",
       "        vertical-align: middle;\n",
       "    }\n",
       "\n",
       "    .dataframe tbody tr th {\n",
       "        vertical-align: top;\n",
       "    }\n",
       "\n",
       "    .dataframe thead th {\n",
       "        text-align: right;\n",
       "    }\n",
       "</style>\n",
       "<table border=\"1\" class=\"dataframe\">\n",
       "  <thead>\n",
       "    <tr style=\"text-align: right;\">\n",
       "      <th></th>\n",
       "      <th>customer_id</th>\n",
       "      <th>surname</th>\n",
       "      <th>credit_score</th>\n",
       "      <th>geography</th>\n",
       "      <th>gender</th>\n",
       "      <th>age</th>\n",
       "      <th>tenure</th>\n",
       "      <th>balance</th>\n",
       "      <th>num_of_products</th>\n",
       "      <th>has_cr_card</th>\n",
       "      <th>is_active_member</th>\n",
       "      <th>estimated_salary</th>\n",
       "      <th>exited</th>\n",
       "    </tr>\n",
       "  </thead>\n",
       "  <tbody>\n",
       "    <tr>\n",
       "      <th>30</th>\n",
       "      <td>15589475</td>\n",
       "      <td>Azikiwe</td>\n",
       "      <td>591</td>\n",
       "      <td>Spain</td>\n",
       "      <td>Female</td>\n",
       "      <td>39</td>\n",
       "      <td>NaN</td>\n",
       "      <td>0.00</td>\n",
       "      <td>3</td>\n",
       "      <td>1</td>\n",
       "      <td>0</td>\n",
       "      <td>140469.38</td>\n",
       "      <td>1</td>\n",
       "    </tr>\n",
       "    <tr>\n",
       "      <th>48</th>\n",
       "      <td>15766205</td>\n",
       "      <td>Yin</td>\n",
       "      <td>550</td>\n",
       "      <td>Germany</td>\n",
       "      <td>Male</td>\n",
       "      <td>38</td>\n",
       "      <td>NaN</td>\n",
       "      <td>103391.38</td>\n",
       "      <td>1</td>\n",
       "      <td>0</td>\n",
       "      <td>1</td>\n",
       "      <td>90878.13</td>\n",
       "      <td>0</td>\n",
       "    </tr>\n",
       "    <tr>\n",
       "      <th>51</th>\n",
       "      <td>15768193</td>\n",
       "      <td>Trevisani</td>\n",
       "      <td>585</td>\n",
       "      <td>Germany</td>\n",
       "      <td>Male</td>\n",
       "      <td>36</td>\n",
       "      <td>NaN</td>\n",
       "      <td>146050.97</td>\n",
       "      <td>2</td>\n",
       "      <td>0</td>\n",
       "      <td>0</td>\n",
       "      <td>86424.57</td>\n",
       "      <td>0</td>\n",
       "    </tr>\n",
       "    <tr>\n",
       "      <th>53</th>\n",
       "      <td>15702298</td>\n",
       "      <td>Parkhill</td>\n",
       "      <td>655</td>\n",
       "      <td>Germany</td>\n",
       "      <td>Male</td>\n",
       "      <td>41</td>\n",
       "      <td>NaN</td>\n",
       "      <td>125561.97</td>\n",
       "      <td>1</td>\n",
       "      <td>0</td>\n",
       "      <td>0</td>\n",
       "      <td>164040.94</td>\n",
       "      <td>1</td>\n",
       "    </tr>\n",
       "    <tr>\n",
       "      <th>60</th>\n",
       "      <td>15651280</td>\n",
       "      <td>Hunter</td>\n",
       "      <td>742</td>\n",
       "      <td>Germany</td>\n",
       "      <td>Male</td>\n",
       "      <td>35</td>\n",
       "      <td>NaN</td>\n",
       "      <td>136857.00</td>\n",
       "      <td>1</td>\n",
       "      <td>0</td>\n",
       "      <td>0</td>\n",
       "      <td>84509.57</td>\n",
       "      <td>0</td>\n",
       "    </tr>\n",
       "    <tr>\n",
       "      <th>82</th>\n",
       "      <td>15641732</td>\n",
       "      <td>Mills</td>\n",
       "      <td>543</td>\n",
       "      <td>France</td>\n",
       "      <td>Female</td>\n",
       "      <td>36</td>\n",
       "      <td>NaN</td>\n",
       "      <td>0.00</td>\n",
       "      <td>2</td>\n",
       "      <td>0</td>\n",
       "      <td>0</td>\n",
       "      <td>26019.59</td>\n",
       "      <td>0</td>\n",
       "    </tr>\n",
       "    <tr>\n",
       "      <th>85</th>\n",
       "      <td>15805254</td>\n",
       "      <td>Ndukaku</td>\n",
       "      <td>652</td>\n",
       "      <td>Spain</td>\n",
       "      <td>Female</td>\n",
       "      <td>75</td>\n",
       "      <td>NaN</td>\n",
       "      <td>0.00</td>\n",
       "      <td>2</td>\n",
       "      <td>1</td>\n",
       "      <td>1</td>\n",
       "      <td>114675.75</td>\n",
       "      <td>0</td>\n",
       "    </tr>\n",
       "    <tr>\n",
       "      <th>94</th>\n",
       "      <td>15676966</td>\n",
       "      <td>Capon</td>\n",
       "      <td>730</td>\n",
       "      <td>Spain</td>\n",
       "      <td>Male</td>\n",
       "      <td>42</td>\n",
       "      <td>NaN</td>\n",
       "      <td>0.00</td>\n",
       "      <td>2</td>\n",
       "      <td>0</td>\n",
       "      <td>1</td>\n",
       "      <td>85982.47</td>\n",
       "      <td>0</td>\n",
       "    </tr>\n",
       "    <tr>\n",
       "      <th>99</th>\n",
       "      <td>15633059</td>\n",
       "      <td>Fanucci</td>\n",
       "      <td>413</td>\n",
       "      <td>France</td>\n",
       "      <td>Male</td>\n",
       "      <td>34</td>\n",
       "      <td>NaN</td>\n",
       "      <td>0.00</td>\n",
       "      <td>2</td>\n",
       "      <td>0</td>\n",
       "      <td>0</td>\n",
       "      <td>6534.18</td>\n",
       "      <td>0</td>\n",
       "    </tr>\n",
       "    <tr>\n",
       "      <th>111</th>\n",
       "      <td>15665790</td>\n",
       "      <td>Rowntree</td>\n",
       "      <td>538</td>\n",
       "      <td>Germany</td>\n",
       "      <td>Male</td>\n",
       "      <td>39</td>\n",
       "      <td>NaN</td>\n",
       "      <td>108055.10</td>\n",
       "      <td>2</td>\n",
       "      <td>1</td>\n",
       "      <td>0</td>\n",
       "      <td>27231.26</td>\n",
       "      <td>0</td>\n",
       "    </tr>\n",
       "  </tbody>\n",
       "</table>\n",
       "</div>"
      ],
      "text/plain": [
       "     customer_id    surname  credit_score geography  gender  age  tenure  \\\n",
       "30      15589475    Azikiwe           591     Spain  Female   39     NaN   \n",
       "48      15766205        Yin           550   Germany    Male   38     NaN   \n",
       "51      15768193  Trevisani           585   Germany    Male   36     NaN   \n",
       "53      15702298   Parkhill           655   Germany    Male   41     NaN   \n",
       "60      15651280     Hunter           742   Germany    Male   35     NaN   \n",
       "82      15641732      Mills           543    France  Female   36     NaN   \n",
       "85      15805254    Ndukaku           652     Spain  Female   75     NaN   \n",
       "94      15676966      Capon           730     Spain    Male   42     NaN   \n",
       "99      15633059    Fanucci           413    France    Male   34     NaN   \n",
       "111     15665790   Rowntree           538   Germany    Male   39     NaN   \n",
       "\n",
       "       balance  num_of_products  has_cr_card  is_active_member  \\\n",
       "30        0.00                3            1                 0   \n",
       "48   103391.38                1            0                 1   \n",
       "51   146050.97                2            0                 0   \n",
       "53   125561.97                1            0                 0   \n",
       "60   136857.00                1            0                 0   \n",
       "82        0.00                2            0                 0   \n",
       "85        0.00                2            1                 1   \n",
       "94        0.00                2            0                 1   \n",
       "99        0.00                2            0                 0   \n",
       "111  108055.10                2            1                 0   \n",
       "\n",
       "     estimated_salary  exited  \n",
       "30          140469.38       1  \n",
       "48           90878.13       0  \n",
       "51           86424.57       0  \n",
       "53          164040.94       1  \n",
       "60           84509.57       0  \n",
       "82           26019.59       0  \n",
       "85          114675.75       0  \n",
       "94           85982.47       0  \n",
       "99            6534.18       0  \n",
       "111          27231.26       0  "
      ]
     },
     "execution_count": 9,
     "metadata": {},
     "output_type": "execute_result"
    }
   ],
   "source": [
    "data[data['tenure'].isna()].head(10)"
   ]
  },
  {
   "cell_type": "code",
   "execution_count": 10,
   "id": "a8b225a0",
   "metadata": {},
   "outputs": [
    {
     "data": {
      "text/plain": [
       "<AxesSubplot:>"
      ]
     },
     "execution_count": 10,
     "metadata": {},
     "output_type": "execute_result"
    },
    {
     "data": {
      "image/png": "[encoded data removed]",
      "text/plain": [
       "<Figure size 864x360 with 1 Axes>"
      ]
     },
     "metadata": {},
     "output_type": "display_data"
    }
   ],
   "source": [
    "data['tenure'].sort_values().hist(bins=21, figsize=(12,5))"
   ]
  },
  {
   "cell_type": "code",
   "execution_count": 11,
   "id": "a18d0f0b",
   "metadata": {},
   "outputs": [
    {
     "data": {
      "text/plain": [
       "<AxesSubplot:>"
      ]
     },
     "execution_count": 11,
     "metadata": {},
     "output_type": "execute_result"
    },
    {
     "data": {
      "image/png": "[encoded data removed]",
      "text/plain": [
       "<Figure size 720x576 with 2 Axes>"
      ]
     },
     "metadata": {},
     "output_type": "display_data"
    }
   ],
   "source": [
    "fig, ax = plt.subplots(figsize=(10, 8))\n",
    "sns.heatmap(data.corr(), annot=True)"
   ]
  },
  {
   "cell_type": "markdown",
   "id": "abd103d3",
   "metadata": {},
   "source": [
    "Из преведённой выше информации можно сделать вывод, что данные из столбца `tenure` не имеют зависимости с другими признаками и носят случайный характер, следовательно, для избежания потери 9% наблюдейний целесообразно заполнить пропуски случайными значениями. Для этого сгенерируем случайные числа из диапазона значений столбца, а затем заменим ими пропуски."
   ]
  },
  {
   "cell_type": "code",
   "execution_count": 12,
   "id": "418d61e2",
   "metadata": {},
   "outputs": [],
   "source": [
    "fill_values = np.random.randint(0, 11, data['tenure'].isna().sum())"
   ]
  },
  {
   "cell_type": "code",
   "execution_count": 13,
   "id": "c0710227",
   "metadata": {},
   "outputs": [],
   "source": [
    "data.loc[data['tenure'].isna(), 'tenure'] = fill_values"
   ]
  },
  {
   "cell_type": "code",
   "execution_count": 14,
   "id": "01eeeb62",
   "metadata": {},
   "outputs": [
    {
     "data": {
      "text/plain": [
       "<AxesSubplot:>"
      ]
     },
     "execution_count": 14,
     "metadata": {},
     "output_type": "execute_result"
    },
    {
     "data": {
      "image/png": "[encoded data removed]",
      "text/plain": [
       "<Figure size 864x360 with 1 Axes>"
      ]
     },
     "metadata": {},
     "output_type": "display_data"
    }
   ],
   "source": [
    "data['tenure'].sort_values().hist(bins=21, figsize=(12,5))"
   ]
  },
  {
   "cell_type": "markdown",
   "id": "c9f25a94",
   "metadata": {},
   "source": [
    "Как мы видим, заметных изменений распределения нет."
   ]
  },
  {
   "cell_type": "code",
   "execution_count": 15,
   "id": "781255ad",
   "metadata": {},
   "outputs": [
    {
     "data": {
      "text/plain": [
       "0"
      ]
     },
     "execution_count": 15,
     "metadata": {},
     "output_type": "execute_result"
    }
   ],
   "source": [
    "# проверка\n",
    "data['tenure'].isna().sum()"
   ]
  },
  {
   "cell_type": "markdown",
   "id": "cca2b859",
   "metadata": {},
   "source": [
    "<a id='section_2'></a>\n",
    "## Исследовательский анализ"
   ]
  },
  {
   "cell_type": "markdown",
   "id": "90d1b46f",
   "metadata": {},
   "source": [
    "Определим долю ушедших клиентов."
   ]
  },
  {
   "cell_type": "code",
   "execution_count": 16,
   "id": "20426e0b",
   "metadata": {},
   "outputs": [
    {
     "data": {
      "image/png": "[encoded data removed]",
      "text/plain": [
       "<Figure size 720x360 with 1 Axes>"
      ]
     },
     "metadata": {},
     "output_type": "display_data"
    },
    {
     "name": "stdout",
     "output_type": "stream",
     "text": [
      "Доля ушедших клиентов: 0.2\n"
     ]
    }
   ],
   "source": [
    "data.groupby('exited')['customer_id'].count().plot(kind='bar')\n",
    "plt.xticks(rotation=0)\n",
    "plt.show()\n",
    "print('Доля ушедших клиентов:', round(data['exited'].mean(), 2))"
   ]
  },
  {
   "cell_type": "markdown",
   "id": "12b9381e",
   "metadata": {},
   "source": [
    "### Отток в зависимости от кредитного рейтинга"
   ]
  },
  {
   "cell_type": "code",
   "execution_count": 17,
   "id": "e5cc2d57",
   "metadata": {},
   "outputs": [
    {
     "data": {
      "image/png": "[encoded data removed]",
      "text/plain": [
       "<Figure size 720x360 with 1 Axes>"
      ]
     },
     "metadata": {},
     "output_type": "display_data"
    }
   ],
   "source": [
    "sns.histplot(data=data, x='credit_score', hue='exited')\n",
    "\n",
    "plt.title('Распределение оттока клиентов в зависимости от рейтинга', size=16)\n",
    "plt.legend(['Ушёл', 'Не ушёл'])\n",
    "plt.xlabel('Кредитный рейтинг', size=16)\n",
    "plt.ylabel('Количество клиентов', size=16)\n",
    "\n",
    "plt.show()"
   ]
  },
  {
   "cell_type": "markdown",
   "id": "8c1cf3a5",
   "metadata": {},
   "source": [
    "Распределения повторяют друг друга, следовательно, нельзя сказать о завсисмости оттока от кредитного рейтинга."
   ]
  },
  {
   "cell_type": "markdown",
   "id": "a68aceda",
   "metadata": {},
   "source": [
    "### Отток в зависимости от региона"
   ]
  },
  {
   "cell_type": "code",
   "execution_count": 18,
   "id": "2e7f7544",
   "metadata": {
    "scrolled": false
   },
   "outputs": [
    {
     "data": {
      "image/png": "[encoded data removed]",
      "text/plain": [
       "<Figure size 720x360 with 1 Axes>"
      ]
     },
     "metadata": {},
     "output_type": "display_data"
    }
   ],
   "source": [
    "sns.countplot(data=data, x='geography', hue='exited')\n",
    "\n",
    "plt.title('Распределение оттока клиентов по странам', size=16)\n",
    "plt.legend(['Не ушёл', 'Ушёл'])\n",
    "plt.xlabel('Страна', size=16)\n",
    "plt.ylabel('Количество клиентов', size=16)\n",
    "\n",
    "plt.show()"
   ]
  },
  {
   "cell_type": "code",
   "execution_count": 19,
   "id": "03b1d334",
   "metadata": {},
   "outputs": [
    {
     "data": {
      "text/plain": [
       "geography\n",
       "France     0.161548\n",
       "Germany    0.324432\n",
       "Spain      0.166734\n",
       "Name: exited, dtype: float64"
      ]
     },
     "execution_count": 19,
     "metadata": {},
     "output_type": "execute_result"
    }
   ],
   "source": [
    "data.groupby('geography')['exited'].mean()"
   ]
  },
  {
   "cell_type": "markdown",
   "id": "8c69b93a",
   "metadata": {},
   "source": [
    "По графику видно, что в регионе `Germany` наблюдается самый большой относительный отток пользователей."
   ]
  },
  {
   "cell_type": "markdown",
   "id": "6a10c3d6",
   "metadata": {},
   "source": [
    "### Отток в зависимости от пола клиента"
   ]
  },
  {
   "cell_type": "code",
   "execution_count": 20,
   "id": "b57bd942",
   "metadata": {},
   "outputs": [
    {
     "data": {
      "image/png": "[encoded data removed]",
      "text/plain": [
       "<Figure size 720x360 with 1 Axes>"
      ]
     },
     "metadata": {},
     "output_type": "display_data"
    }
   ],
   "source": [
    "sns.countplot(data=data, x='gender', hue='exited')\n",
    "\n",
    "plt.title('Распределение оттока клиентов по полу', size=16)\n",
    "plt.legend(['Не ушёл', 'Ушёл'])\n",
    "plt.xlabel('Пол клиента', size=16)\n",
    "plt.ylabel('Количество клиентов', size=16)\n",
    "\n",
    "plt.show()"
   ]
  },
  {
   "cell_type": "code",
   "execution_count": 21,
   "id": "6984f7d1",
   "metadata": {},
   "outputs": [
    {
     "data": {
      "text/plain": [
       "gender\n",
       "Female    0.250715\n",
       "Male      0.164559\n",
       "Name: exited, dtype: float64"
      ]
     },
     "execution_count": 21,
     "metadata": {},
     "output_type": "execute_result"
    }
   ],
   "source": [
    "data.groupby('gender')['exited'].mean()"
   ]
  },
  {
   "cell_type": "markdown",
   "id": "5858b7a8",
   "metadata": {},
   "source": [
    "Женщины уходят чаще."
   ]
  },
  {
   "cell_type": "markdown",
   "id": "5d0bc30c",
   "metadata": {},
   "source": [
    "### Отток в зависимости от возраста клиента"
   ]
  },
  {
   "cell_type": "code",
   "execution_count": 22,
   "id": "76e3260c",
   "metadata": {
    "scrolled": true
   },
   "outputs": [
    {
     "data": {
      "image/png": "[encoded data removed]",
      "text/plain": [
       "<Figure size 720x360 with 1 Axes>"
      ]
     },
     "metadata": {},
     "output_type": "display_data"
    }
   ],
   "source": [
    "sns.histplot(data=data, x='age', hue='exited')\n",
    "\n",
    "plt.title('Распределение оттока клиентов в зависимости от возраста', size=16)\n",
    "plt.legend(['Ушёл', 'Не ушёл'])\n",
    "plt.xlabel('Возраст клиента', size=16)\n",
    "plt.ylabel('Количество клиентов', size=16)\n",
    "\n",
    "plt.show()"
   ]
  },
  {
   "cell_type": "code",
   "execution_count": 23,
   "id": "dc9db4dc",
   "metadata": {},
   "outputs": [
    {
     "name": "stdout",
     "output_type": "stream",
     "text": [
      "Средний возраст лояльных клиентов: 37.41\n",
      "Средний возраст ушедших клиентов: 44.84\n"
     ]
    }
   ],
   "source": [
    "age_dist = data.groupby('exited')['age'].mean()\n",
    "print('Средний возраст лояльных клиентов:', age_dist[0].round(2))\n",
    "print('Средний возраст ушедших клиентов:', age_dist[1].round(2))"
   ]
  },
  {
   "cell_type": "markdown",
   "id": "10d497b0",
   "metadata": {},
   "source": [
    "Наблюдается значительное смещение распределения ушедших клинтов. Средний возраст ушедших клиентов больше на 7.43 лет."
   ]
  },
  {
   "cell_type": "markdown",
   "id": "04efc791",
   "metadata": {},
   "source": [
    "### Отток в зависимости от времени сотрудничества с банком"
   ]
  },
  {
   "cell_type": "code",
   "execution_count": 24,
   "id": "40b23122",
   "metadata": {},
   "outputs": [
    {
     "data": {
      "image/png": "[encoded data removed]",
      "text/plain": [
       "<Figure size 720x360 with 1 Axes>"
      ]
     },
     "metadata": {},
     "output_type": "display_data"
    }
   ],
   "source": [
    "sns.countplot(data=data, x='tenure', hue='exited')\n",
    "\n",
    "plt.title('Распределение оттока клиентов по количеству лет в роли клиента', size=16)\n",
    "plt.legend(['Не ушёл', 'Ушёл'])\n",
    "plt.xlabel('Количество лет', size=16)\n",
    "plt.ylabel('Количество клиентов', size=16)\n",
    "\n",
    "plt.show()"
   ]
  },
  {
   "cell_type": "markdown",
   "id": "278c8b88",
   "metadata": {},
   "source": [
    "Распредения в общем повторяют друг друга. Увеличеие количества клиентов со сроком в 5 лет обусловлено заполнением пропусков данным значением. Следовательно, нельзя сделать выводов о связи отттока со сроком клиентства."
   ]
  },
  {
   "cell_type": "markdown",
   "id": "4d411097",
   "metadata": {},
   "source": [
    "### Отток в зависимости от количества денег на счёте"
   ]
  },
  {
   "cell_type": "code",
   "execution_count": 25,
   "id": "2a4ff9fa",
   "metadata": {
    "scrolled": true
   },
   "outputs": [
    {
     "data": {
      "image/png": "[encoded data removed]",
      "text/plain": [
       "<Figure size 720x360 with 1 Axes>"
      ]
     },
     "metadata": {},
     "output_type": "display_data"
    }
   ],
   "source": [
    "sns.histplot(data=data, x='balance', hue='exited')\n",
    "\n",
    "plt.title('Распределение оттока клиентов в зависимости от от количества денег на счёте', size=16)\n",
    "plt.legend(['Ушёл', 'Не ушёл'])\n",
    "plt.xlabel('Возраст клиента', size=16)\n",
    "plt.ylabel('Количество клиентов', size=16)\n",
    "\n",
    "plt.show()"
   ]
  },
  {
   "cell_type": "markdown",
   "id": "525c94c2",
   "metadata": {},
   "source": [
    "На графике заметен выброс в районе нулевого значения."
   ]
  },
  {
   "cell_type": "code",
   "execution_count": 26,
   "id": "51feaae4",
   "metadata": {},
   "outputs": [
    {
     "name": "stdout",
     "output_type": "stream",
     "text": [
      "Доля ушедших клиентов с нулевым балансом 0.14\n",
      "Доля ушедших клиентов с ненулевым балансом 0.24\n"
     ]
    }
   ],
   "source": [
    "print('Доля ушедших клиентов с нулевым балансом', round(data[data['balance'] == 0]['exited'].mean(),2))\n",
    "print('Доля ушедших клиентов с ненулевым балансом', round(data[data['balance'] != 0]['exited'].mean(),2))"
   ]
  },
  {
   "cell_type": "markdown",
   "id": "ebe830f8",
   "metadata": {},
   "source": [
    "Клиенты с нулевым балансом уходят реже."
   ]
  },
  {
   "cell_type": "markdown",
   "id": "f5275aba",
   "metadata": {},
   "source": [
    "### Отток в зависимости от количества продуктов банка"
   ]
  },
  {
   "cell_type": "code",
   "execution_count": 27,
   "id": "dfbaf4ec",
   "metadata": {},
   "outputs": [
    {
     "data": {
      "image/png": "[encoded data removed]",
      "text/plain": [
       "<Figure size 720x360 with 1 Axes>"
      ]
     },
     "metadata": {},
     "output_type": "display_data"
    }
   ],
   "source": [
    "sns.countplot(data=data, x='num_of_products', hue='exited')\n",
    "\n",
    "plt.title('Распределение оттока клиентов по количеству продуктов банка', size=16)\n",
    "plt.legend(['Не ушёл', 'Ушёл'])\n",
    "plt.xlabel('Количество продуктов', size=16)\n",
    "plt.ylabel('Количество клиентов', size=16)\n",
    "\n",
    "plt.show()"
   ]
  },
  {
   "cell_type": "markdown",
   "id": "c1c9e171",
   "metadata": {},
   "source": [
    "На графике видно, что большинство клиентов уходит при наличии одного продукта, но в относительном измерении самый большой процент ушедших клиентов имеет категория с 3-4 продуктами банка."
   ]
  },
  {
   "cell_type": "markdown",
   "id": "cb95370f",
   "metadata": {},
   "source": [
    "### Отток в зависимости от наличия карты банка"
   ]
  },
  {
   "cell_type": "code",
   "execution_count": 28,
   "id": "63c6f9bb",
   "metadata": {
    "scrolled": true
   },
   "outputs": [
    {
     "data": {
      "image/png": "[encoded data removed]",
      "text/plain": [
       "<Figure size 720x360 with 1 Axes>"
      ]
     },
     "metadata": {},
     "output_type": "display_data"
    }
   ],
   "source": [
    "sns.countplot(data=data, x='has_cr_card', hue='exited')\n",
    "\n",
    "plt.title('Распределение оттока клиентов в зависимости от наличия карты', size=16)\n",
    "plt.legend(['Не ушёл', 'Ушёл'])\n",
    "plt.xlabel('Наличие карты', size=16)\n",
    "plt.ylabel('Количество клиентов', size=16)\n",
    "\n",
    "plt.show()"
   ]
  },
  {
   "cell_type": "code",
   "execution_count": 29,
   "id": "651a1c25",
   "metadata": {
    "scrolled": true
   },
   "outputs": [
    {
     "data": {
      "text/plain": [
       "has_cr_card\n",
       "0    0.208149\n",
       "1    0.201843\n",
       "Name: exited, dtype: float64"
      ]
     },
     "execution_count": 29,
     "metadata": {},
     "output_type": "execute_result"
    }
   ],
   "source": [
    "data.groupby('has_cr_card')['exited'].mean()"
   ]
  },
  {
   "cell_type": "markdown",
   "id": "9e781b33",
   "metadata": {},
   "source": [
    "Видно, что отток не зависит от того, есть ли у клиента карта или нет."
   ]
  },
  {
   "cell_type": "markdown",
   "id": "71a9c2a1",
   "metadata": {},
   "source": [
    "### Отток в зависимости от активности клиента"
   ]
  },
  {
   "cell_type": "code",
   "execution_count": 30,
   "id": "c1993a0b",
   "metadata": {
    "scrolled": false
   },
   "outputs": [
    {
     "data": {
      "image/png": "[encoded data removed]",
      "text/plain": [
       "<Figure size 720x360 with 1 Axes>"
      ]
     },
     "metadata": {},
     "output_type": "display_data"
    }
   ],
   "source": [
    "sns.countplot(data=data, x='is_active_member', hue='exited')\n",
    "\n",
    "plt.title('Распределение оттока клиентов в зависимости от активности', size=16)\n",
    "plt.legend(['Не ушёл', 'Ушёл'])\n",
    "plt.xlabel('Активность клиента', size=16)\n",
    "plt.ylabel('Количество клиентов', size=16)\n",
    "\n",
    "plt.show()"
   ]
  },
  {
   "cell_type": "code",
   "execution_count": 31,
   "id": "7958ddfe",
   "metadata": {
    "scrolled": true
   },
   "outputs": [
    {
     "data": {
      "text/plain": [
       "is_active_member\n",
       "0    0.268509\n",
       "1    0.142691\n",
       "Name: exited, dtype: float64"
      ]
     },
     "execution_count": 31,
     "metadata": {},
     "output_type": "execute_result"
    }
   ],
   "source": [
    "data.groupby('is_active_member')['exited'].mean()"
   ]
  },
  {
   "cell_type": "markdown",
   "id": "84e4e08d",
   "metadata": {},
   "source": [
    "Неактивные клиенты уходят значительно чаще активных."
   ]
  },
  {
   "cell_type": "markdown",
   "id": "bae223c1",
   "metadata": {},
   "source": [
    "### Отток в зависимости от зарплаты клиента"
   ]
  },
  {
   "cell_type": "code",
   "execution_count": 32,
   "id": "91827ff1",
   "metadata": {
    "scrolled": false
   },
   "outputs": [
    {
     "data": {
      "image/png": "[encoded data removed]",
      "text/plain": [
       "<Figure size 720x360 with 1 Axes>"
      ]
     },
     "metadata": {},
     "output_type": "display_data"
    }
   ],
   "source": [
    "sns.histplot(data=data, x='estimated_salary', hue='exited')\n",
    "\n",
    "plt.title('Распределение оттока клиентов в зависимости от зарплаты', size=16)\n",
    "plt.legend(['Ушёл', 'Не ушёл'])\n",
    "plt.xlabel('Зарплата клиента', size=16)\n",
    "plt.ylabel('Количество клиентов', size=16)\n",
    "\n",
    "plt.show()"
   ]
  },
  {
   "cell_type": "code",
   "execution_count": 33,
   "id": "c0ca26c9",
   "metadata": {
    "scrolled": true
   },
   "outputs": [
    {
     "data": {
      "text/plain": [
       "exited\n",
       "0     99738.391772\n",
       "1    101465.677531\n",
       "Name: estimated_salary, dtype: float64"
      ]
     },
     "execution_count": 33,
     "metadata": {},
     "output_type": "execute_result"
    }
   ],
   "source": [
    "data.groupby('exited')['estimated_salary'].mean()"
   ]
  },
  {
   "cell_type": "markdown",
   "id": "85d16724",
   "metadata": {},
   "source": [
    "Отток не зависит от размера зарплаты."
   ]
  },
  {
   "cell_type": "markdown",
   "id": "bec10042",
   "metadata": {},
   "source": [
    "### Промежуточный вывод"
   ]
  },
  {
   "cell_type": "markdown",
   "id": "3024ca51",
   "metadata": {},
   "source": [
    "Исследовательский анализ данных выявил зависимости оттока пользователей от:\n",
    "- региона\n",
    "- пола\n",
    "- возраста\n",
    "- количества продуктов банка \n",
    "- активности клиента"
   ]
  },
  {
   "cell_type": "markdown",
   "id": "c0d61322",
   "metadata": {},
   "source": [
    "<a id='section_3'></a>\n",
    "## Исследование задачи"
   ]
  },
  {
   "cell_type": "markdown",
   "id": "dd305871",
   "metadata": {},
   "source": [
    "### Подготовка признаков для машинного обучения"
   ]
  },
  {
   "cell_type": "markdown",
   "id": "28645e4a",
   "metadata": {},
   "source": [
    "Использование `customer_id` и `surname` не дают никакой информации, поэтому избавимся от них."
   ]
  },
  {
   "cell_type": "code",
   "execution_count": 34,
   "id": "2221165c",
   "metadata": {},
   "outputs": [],
   "source": [
    "data.drop(['customer_id', 'surname'], axis=1, inplace=True)"
   ]
  },
  {
   "cell_type": "markdown",
   "id": "f2e24318",
   "metadata": {},
   "source": [
    "### Разделение датасета на тренировочную и валидационную выборки"
   ]
  },
  {
   "cell_type": "code",
   "execution_count": 35,
   "id": "328d392c",
   "metadata": {},
   "outputs": [],
   "source": [
    "target = data['exited']\n",
    "features = data.drop('exited', axis=1)\n",
    "\n",
    "\n",
    "features_train, f_test, target_train, t_test = \\\n",
    "train_test_split(features, target, test_size=0.5, random_state=12345)\n",
    "\n",
    "features_valid, features_test, target_valid, target_test = \\\n",
    "train_test_split(f_test, t_test, test_size=0.5, random_state=12345)"
   ]
  },
  {
   "cell_type": "code",
   "execution_count": 36,
   "id": "f2ba62b9",
   "metadata": {},
   "outputs": [
    {
     "data": {
      "text/plain": [
       "(5000, 10)"
      ]
     },
     "metadata": {},
     "output_type": "display_data"
    },
    {
     "data": {
      "text/plain": [
       "(2500, 10)"
      ]
     },
     "metadata": {},
     "output_type": "display_data"
    },
    {
     "data": {
      "text/plain": [
       "(2500, 10)"
      ]
     },
     "metadata": {},
     "output_type": "display_data"
    }
   ],
   "source": [
    "# проверка\n",
    "display(features_train.shape)\n",
    "display(features_valid.shape)\n",
    "display(features_test.shape)"
   ]
  },
  {
   "cell_type": "markdown",
   "id": "c489c0f9",
   "metadata": {},
   "source": [
    "### Перекодировка категориальных признаков"
   ]
  },
  {
   "cell_type": "markdown",
   "id": "8f933f6b",
   "metadata": {},
   "source": [
    "Воспользуемся методом прямого кодирования для перекодирования категориальных переменных."
   ]
  },
  {
   "cell_type": "code",
   "execution_count": 37,
   "id": "f1ec93ef",
   "metadata": {},
   "outputs": [],
   "source": [
    "features_train = pd.get_dummies(features_train, drop_first=True)\n",
    "features_valid = pd.get_dummies(features_valid, drop_first=True)\n",
    "features_test = pd.get_dummies(features_test, drop_first=True)"
   ]
  },
  {
   "cell_type": "code",
   "execution_count": 38,
   "id": "574a7b6e",
   "metadata": {},
   "outputs": [],
   "source": [
    "features_train.reset_index(drop=True, inplace=True)\n",
    "features_valid.reset_index(drop=True, inplace=True)\n",
    "features_test.reset_index(drop=True, inplace=True)\n",
    "target_train.reset_index(drop=True, inplace=True)\n",
    "target_valid.reset_index(drop=True, inplace=True)\n",
    "target_test.reset_index(drop=True, inplace=True)"
   ]
  },
  {
   "cell_type": "markdown",
   "id": "69bb8781",
   "metadata": {},
   "source": [
    "### Масштабирование численных признаков "
   ]
  },
  {
   "cell_type": "markdown",
   "id": "3480ad0c",
   "metadata": {},
   "source": [
    "Создаём список столбцов, содержащих чсленные значения."
   ]
  },
  {
   "cell_type": "code",
   "execution_count": 39,
   "id": "232761c5",
   "metadata": {},
   "outputs": [],
   "source": [
    "numeric_params = ['credit_score', 'age', 'tenure', 'balance', 'estimated_salary']"
   ]
  },
  {
   "cell_type": "code",
   "execution_count": 40,
   "id": "039d9622",
   "metadata": {},
   "outputs": [],
   "source": [
    "features_train_num = features_train[numeric_params]\n",
    "features_valid_num = features_valid[numeric_params]\n",
    "features_test_num = features_test[numeric_params]"
   ]
  },
  {
   "cell_type": "code",
   "execution_count": 41,
   "id": "49029117",
   "metadata": {},
   "outputs": [],
   "source": [
    "scaler = StandardScaler()\n",
    "\n",
    "scaler.fit(features_train_num)\n",
    "\n",
    "features_train_num = pd.DataFrame(scaler.transform(features_train_num), columns=features_train_num.columns)\n",
    "features_valid_num = pd.DataFrame(scaler.transform(features_valid_num), columns=features_valid_num.columns)\n",
    "features_test_num = pd.DataFrame(scaler.transform(features_test_num), columns=features_test_num.columns)"
   ]
  },
  {
   "cell_type": "markdown",
   "id": "be639ebc",
   "metadata": {},
   "source": [
    "Соединяем признаки выборок обратно."
   ]
  },
  {
   "cell_type": "code",
   "execution_count": 42,
   "id": "2d65a479",
   "metadata": {},
   "outputs": [],
   "source": [
    "features_train.drop(numeric_params, axis=1, inplace=True)\n",
    "features_valid.drop(numeric_params, axis=1, inplace=True)\n",
    "features_test.drop(numeric_params, axis=1, inplace=True)"
   ]
  },
  {
   "cell_type": "code",
   "execution_count": 43,
   "id": "abef9087",
   "metadata": {},
   "outputs": [],
   "source": [
    "features_train = features_train_num.join(features_train)\n",
    "features_valid = features_valid_num.join(features_valid)\n",
    "features_test = features_test_num.join(features_test)"
   ]
  },
  {
   "cell_type": "markdown",
   "id": "936c1170",
   "metadata": {},
   "source": [
    "### Построение модели прогнозирования оттока клиентов банка без учёта дисбаланса классов"
   ]
  },
  {
   "cell_type": "markdown",
   "id": "b08a77e6",
   "metadata": {},
   "source": [
    "Для оценок моделей будем использовать параметры:\n",
    "- Accuracy\n",
    "- Precision\n",
    "- Recall\n",
    "- F1\n",
    "- ROC AUC"
   ]
  },
  {
   "cell_type": "code",
   "execution_count": 44,
   "id": "2772b381",
   "metadata": {},
   "outputs": [],
   "source": [
    "def scores(target, predicted):\n",
    "    print('Accuracy:', accuracy_score(target, predicted).round(2))\n",
    "    print('Precision:', precision_score(target, predicted).round(2))\n",
    "    print('Recall:', recall_score(target, predicted).round(2))\n",
    "    print('F1:', f1_score(target, predicted).round(2))\n",
    "    print('ROC AUC:', roc_auc_score(target, predicted).round(2))"
   ]
  },
  {
   "cell_type": "markdown",
   "id": "4af08dd7",
   "metadata": {},
   "source": [
    "#### LogisticRegression"
   ]
  },
  {
   "cell_type": "code",
   "execution_count": 45,
   "id": "d7320984",
   "metadata": {},
   "outputs": [
    {
     "name": "stdout",
     "output_type": "stream",
     "text": [
      "Accuracy: 0.8\n",
      "Precision: 0.51\n",
      "Recall: 0.22\n",
      "F1: 0.31\n",
      "ROC AUC: 0.58\n"
     ]
    }
   ],
   "source": [
    "log_reg = LogisticRegression(random_state=12345, solver='liblinear')\n",
    "log_reg.fit(features_train, target_train)\n",
    "predicted_valid = log_reg.predict(features_valid)\n",
    "scores(target_valid, predicted_valid)"
   ]
  },
  {
   "cell_type": "markdown",
   "id": "32450be5",
   "metadata": {},
   "source": [
    "#### DecisionTreeClassifier"
   ]
  },
  {
   "cell_type": "code",
   "execution_count": 46,
   "id": "2cc3ecae",
   "metadata": {},
   "outputs": [
    {
     "name": "stdout",
     "output_type": "stream",
     "text": [
      "Accuracy: 0.85\n",
      "Precision: 0.7\n",
      "Recall: 0.42\n",
      "F1: 0.53\n",
      "ROC AUC: 0.69\n"
     ]
    }
   ],
   "source": [
    "tree = DecisionTreeClassifier(max_depth=5, random_state=12345)\n",
    "tree.fit(features_train, target_train)\n",
    "predicted_valid = tree.predict(features_valid)\n",
    "scores(target_valid, predicted_valid)"
   ]
  },
  {
   "cell_type": "markdown",
   "id": "866b84a1",
   "metadata": {},
   "source": [
    "#### RandomForestClassifier с использованием HalvingGridSearchCV"
   ]
  },
  {
   "cell_type": "code",
   "execution_count": 47,
   "id": "d64a60ec",
   "metadata": {
    "scrolled": true
   },
   "outputs": [
    {
     "name": "stdout",
     "output_type": "stream",
     "text": [
      "{'max_depth': 22, 'max_features': 'sqrt', 'min_samples_leaf': 1, 'min_samples_split': 2, 'n_estimators': 13}\n",
      "CPU times: total: 1min 9s\n",
      "Wall time: 11min 16s\n"
     ]
    }
   ],
   "source": [
    "%%time\n",
    "rfc_hgs_grid = {'n_estimators': [int(x) for x in np.linspace(start = 1, stop = 60, num = 25)],\n",
    "           'max_features': ['auto', 'sqrt'],\n",
    "           'max_depth': [int(x) for x in np.linspace(1, 35, num = 20)],\n",
    "           'min_samples_split': [2, 3, 5],\n",
    "           'min_samples_leaf': [1, 3, 5]}\n",
    "\n",
    "rfc_hgs = HalvingGridSearchCV(RandomForestClassifier(random_state=12345), \n",
    "                            rfc_hgs_grid, \n",
    "                            scoring=\"f1\", \n",
    "                            n_jobs=-1, \n",
    "                            min_resources=\"exhaust\", \n",
    "                            factor=3)\n",
    "\n",
    "rfc_hgs.fit(features_train, target_train)\n",
    "print(rfc_hgs.best_params_)"
   ]
  },
  {
   "cell_type": "code",
   "execution_count": 48,
   "id": "0b7bf210",
   "metadata": {
    "scrolled": true
   },
   "outputs": [
    {
     "name": "stdout",
     "output_type": "stream",
     "text": [
      "Accuracy: 0.85\n",
      "Precision: 0.7\n",
      "Recall: 0.45\n",
      "F1: 0.55\n",
      "ROC AUC: 0.7\n"
     ]
    }
   ],
   "source": [
    "predicted_valid = rfc_hgs.predict(features_valid)\n",
    "scores(target_valid, predicted_valid)"
   ]
  },
  {
   "cell_type": "markdown",
   "id": "f654155c",
   "metadata": {},
   "source": [
    "#### RandomForestClassifier с использованием HalvingRandomSearchCV"
   ]
  },
  {
   "cell_type": "code",
   "execution_count": 49,
   "id": "0088d2a8",
   "metadata": {},
   "outputs": [
    {
     "name": "stdout",
     "output_type": "stream",
     "text": [
      "{'n_estimators': 97, 'min_samples_split': 4, 'min_samples_leaf': 5, 'max_features': 'sqrt', 'max_depth': 24}\n",
      "CPU times: total: 2min 9s\n",
      "Wall time: 2min 9s\n"
     ]
    }
   ],
   "source": [
    "%%time\n",
    "rfc_hrs_grid = {'n_estimators': [int(x) for x in np.linspace(start = 1, stop = 100, num = 100)],\n",
    "           'max_features': ['auto', 'sqrt'],\n",
    "           'max_depth': [int(x) for x in np.linspace(1, 35, num = 35)],\n",
    "           'min_samples_split': [2,3,4,5,7],\n",
    "           'min_samples_leaf': [1,2,3,5,7]}\n",
    "\n",
    "rfc_hrs = HalvingRandomSearchCV(RandomForestClassifier(random_state=12345), \n",
    "                               rfc_hrs_grid,\n",
    "                               random_state=12345)\n",
    "\n",
    "rfc_hrs.fit(features_train, target_train)\n",
    "print(rfc_hrs.best_params_)"
   ]
  },
  {
   "cell_type": "code",
   "execution_count": 50,
   "id": "62ea8bc9",
   "metadata": {},
   "outputs": [
    {
     "name": "stdout",
     "output_type": "stream",
     "text": [
      "Accuracy: 0.86\n",
      "Precision: 0.78\n",
      "Recall: 0.43\n",
      "F1: 0.55\n",
      "ROC AUC: 0.7\n"
     ]
    }
   ],
   "source": [
    "predicted_valid = rfc_hrs.predict(features_valid)\n",
    "scores(target_valid, predicted_valid)"
   ]
  },
  {
   "cell_type": "markdown",
   "id": "f7390b6f",
   "metadata": {},
   "source": [
    "Наилучший результат показала модель случайного леса с агоритмом подбора гиперпараметров HalvingRandomSearchCV. Она будет использователься в дальнейшем тестировании."
   ]
  },
  {
   "cell_type": "markdown",
   "id": "31898325",
   "metadata": {},
   "source": [
    "<a id='section_4'></a>\n",
    "## Борьба с дисбалансом классов"
   ]
  },
  {
   "cell_type": "markdown",
   "id": "83b49d5c",
   "metadata": {},
   "source": [
    "### Upsampling"
   ]
  },
  {
   "cell_type": "markdown",
   "id": "5bf8e990",
   "metadata": {},
   "source": [
    "Для уравновешивания калссов воспользуемся методом увеличения выборки."
   ]
  },
  {
   "cell_type": "code",
   "execution_count": 51,
   "id": "3d4463a6",
   "metadata": {},
   "outputs": [],
   "source": [
    "def upsample(features, target, repeat):\n",
    "    features_zeros = features[target == 0]\n",
    "    features_ones = features[target == 1]\n",
    "    target_zeros = target[target == 0]\n",
    "    target_ones = target[target == 1]\n",
    "\n",
    "    features_upsampled = pd.concat([features_zeros] + [features_ones] * repeat)\n",
    "    target_upsampled = pd.concat([target_zeros] + [target_ones] * repeat)\n",
    "    \n",
    "    features_upsampled, target_upsampled = shuffle(features_upsampled, target_upsampled, random_state=12345)\n",
    "    \n",
    "    return features_upsampled, target_upsampled"
   ]
  },
  {
   "cell_type": "code",
   "execution_count": 52,
   "id": "aa211efd",
   "metadata": {},
   "outputs": [],
   "source": [
    "features_upsampled, target_upsampled = upsample(features_train, target_train, 4)"
   ]
  },
  {
   "cell_type": "code",
   "execution_count": 53,
   "id": "71dc06de",
   "metadata": {},
   "outputs": [
    {
     "data": {
      "text/plain": [
       "0.5049701789264414"
      ]
     },
     "execution_count": 53,
     "metadata": {},
     "output_type": "execute_result"
    }
   ],
   "source": [
    "# проверка\n",
    "target_upsampled.mean()"
   ]
  },
  {
   "cell_type": "code",
   "execution_count": 54,
   "id": "41fe6be5",
   "metadata": {},
   "outputs": [
    {
     "name": "stdout",
     "output_type": "stream",
     "text": [
      "{'n_estimators': 70, 'min_samples_split': 5, 'min_samples_leaf': 5, 'max_features': 'sqrt', 'max_depth': 24}\n",
      "CPU times: total: 3min 13s\n",
      "Wall time: 3min 13s\n"
     ]
    }
   ],
   "source": [
    "%%time\n",
    "grid = {'n_estimators': [int(x) for x in np.linspace(start = 1, stop = 100, num = 100)],\n",
    "           'max_features': ['auto', 'sqrt'],\n",
    "           'max_depth': [int(x) for x in np.linspace(1, 35, num = 35)],\n",
    "           'min_samples_split': [2,3,4,5,7],\n",
    "           'min_samples_leaf': [1,2,3,5,7]}\n",
    "\n",
    "best_model_up = HalvingRandomSearchCV(RandomForestClassifier(random_state=12345), \n",
    "                               grid, \n",
    "                               random_state=12345)\n",
    "\n",
    "best_model_up.fit(features_upsampled, target_upsampled)\n",
    "\n",
    "print(best_model_up.best_params_)"
   ]
  },
  {
   "cell_type": "code",
   "execution_count": 55,
   "id": "3ebafa71",
   "metadata": {},
   "outputs": [
    {
     "name": "stdout",
     "output_type": "stream",
     "text": [
      "Accuracy: 0.82\n",
      "Precision: 0.55\n",
      "Recall: 0.63\n",
      "F1: 0.59\n",
      "ROC AUC: 0.75\n"
     ]
    }
   ],
   "source": [
    "predicted_valid = best_model_up.predict(features_valid)\n",
    "scores(target_valid, predicted_valid)"
   ]
  },
  {
   "cell_type": "markdown",
   "id": "da9629e5",
   "metadata": {},
   "source": [
    "### Downsampling"
   ]
  },
  {
   "cell_type": "code",
   "execution_count": 56,
   "id": "5276d316",
   "metadata": {},
   "outputs": [],
   "source": [
    "def downsample(features, target, fraction):\n",
    "    features_zeros = features[target == 0]\n",
    "    features_ones = features[target == 1]\n",
    "    target_zeros = target[target == 0]\n",
    "    target_ones = target[target == 1]\n",
    "\n",
    "    features_downsampled = pd.concat([features_zeros.sample(frac=fraction, random_state=12345)] + [features_ones])\n",
    "    target_downsampled = pd.concat([target_zeros.sample(frac=fraction, random_state=12345)] + [target_ones])\n",
    "    \n",
    "    features_downsampled, target_downsampled = shuffle(features_downsampled, target_downsampled, random_state=12345)\n",
    "    \n",
    "    return features_downsampled, target_downsampled"
   ]
  },
  {
   "cell_type": "code",
   "execution_count": 57,
   "id": "cd5ea206",
   "metadata": {},
   "outputs": [],
   "source": [
    "features_downsampled, target_downsampled = downsample(features_train, target_train, 0.25)"
   ]
  },
  {
   "cell_type": "code",
   "execution_count": 58,
   "id": "f376b3c6",
   "metadata": {},
   "outputs": [
    {
     "data": {
      "text/plain": [
       "0.5049701789264414"
      ]
     },
     "execution_count": 58,
     "metadata": {},
     "output_type": "execute_result"
    }
   ],
   "source": [
    "target_downsampled.mean()"
   ]
  },
  {
   "cell_type": "code",
   "execution_count": 59,
   "id": "3897e6f2",
   "metadata": {},
   "outputs": [
    {
     "name": "stdout",
     "output_type": "stream",
     "text": [
      "{'n_estimators': 70, 'min_samples_split': 5, 'min_samples_leaf': 5, 'max_features': 'sqrt', 'max_depth': 24}\n",
      "CPU times: total: 3min 10s\n",
      "Wall time: 3min 10s\n"
     ]
    }
   ],
   "source": [
    "%%time\n",
    "grid = {'n_estimators': [int(x) for x in np.linspace(start = 1, stop = 100, num = 100)],\n",
    "           'max_features': ['auto', 'sqrt'],\n",
    "           'max_depth': [int(x) for x in np.linspace(1, 35, num = 35)],\n",
    "           'min_samples_split': [2,3,4,5,7],\n",
    "           'min_samples_leaf': [1,2,3,5,7]}\n",
    "\n",
    "best_model_dn = HalvingRandomSearchCV(RandomForestClassifier(random_state=12345), \n",
    "                               grid, \n",
    "                               random_state=12345)\n",
    "\n",
    "best_model_dn.fit(features_upsampled, target_upsampled)\n",
    "\n",
    "print(best_model_dn.best_params_)"
   ]
  },
  {
   "cell_type": "code",
   "execution_count": 60,
   "id": "abe9ca62",
   "metadata": {},
   "outputs": [
    {
     "name": "stdout",
     "output_type": "stream",
     "text": [
      "Accuracy: 0.82\n",
      "Precision: 0.55\n",
      "Recall: 0.63\n",
      "F1: 0.59\n",
      "ROC AUC: 0.75\n"
     ]
    }
   ],
   "source": [
    "predicted_valid = best_model_dn.predict(features_valid)\n",
    "scores(target_valid, predicted_valid)"
   ]
  },
  {
   "cell_type": "markdown",
   "id": "23b22ab4",
   "metadata": {},
   "source": [
    "### Проверка"
   ]
  },
  {
   "cell_type": "markdown",
   "id": "fa49f350",
   "metadata": {},
   "source": [
    "Чтобы удостовериться в нормальной работе модели сравним результаты с простейшей наивной моделью, которая будет предсказывать самый частый класс."
   ]
  },
  {
   "cell_type": "code",
   "execution_count": 61,
   "id": "9d4a60dc",
   "metadata": {},
   "outputs": [
    {
     "name": "stdout",
     "output_type": "stream",
     "text": [
      "Accuracy: 0.2\n",
      "Precision: 0.2\n",
      "Recall: 1.0\n",
      "F1: 0.34\n",
      "ROC AUC: 0.5\n"
     ]
    }
   ],
   "source": [
    "dummy = DummyClassifier(strategy='most_frequent', random_state=12345)\n",
    "dummy.fit(features_upsampled, target_upsampled)\n",
    "predicted_valid = dummy.predict(features_valid)\n",
    "scores(target_valid, predicted_valid)"
   ]
  },
  {
   "cell_type": "markdown",
   "id": "c96b57b5",
   "metadata": {},
   "source": [
    "Устранение дисбаланса классов с помощью увеличения и с помощью уменьшения выборки в одинаковой степени улучшило качество модели по всем критериям оценки. На валидационной выборке обоих методов она продемонстрировала значение F1 = 0.59 , что соответствует заданному порогу. Для проверки на тестовой выборке будет использоваться модель случайного леса с устранённым дисбалансом классов с помощью метода увеличения выборки."
   ]
  },
  {
   "cell_type": "markdown",
   "id": "30c3c675",
   "metadata": {},
   "source": [
    "<a id='section_5'></a>\n",
    "## Тестирование модели"
   ]
  },
  {
   "cell_type": "code",
   "execution_count": 62,
   "id": "07ea6442",
   "metadata": {},
   "outputs": [
    {
     "name": "stdout",
     "output_type": "stream",
     "text": [
      "Accuracy: 0.84\n",
      "Precision: 0.59\n",
      "Recall: 0.68\n",
      "F1: 0.63\n",
      "ROC AUC: 0.78\n"
     ]
    }
   ],
   "source": [
    "predicted_test = best_model_up.predict(features_test)\n",
    "scores(target_test, predicted_test)"
   ]
  },
  {
   "cell_type": "markdown",
   "id": "fac9c80e",
   "metadata": {},
   "source": [
    "На тостовой выборке модель показала F1 = 0.63 , что значительно лучше результатов модели на валидационной выборке."
   ]
  },
  {
   "cell_type": "markdown",
   "id": "807fad8d",
   "metadata": {},
   "source": [
    "<a id='section_6'></a>\n",
    "## Общий вывод"
   ]
  },
  {
   "cell_type": "markdown",
   "id": "9380a52b",
   "metadata": {},
   "source": [
    "В ходе исследования были обработаны и проанализированы данные о клиентах «Бета-Банка». \n",
    "На этапе подготовки данных были заменены названия столбцов и обработаны пропуски.  \n",
    "Затем было проведено исследование зависимостей, которые могут сообщить о причинах оттока клиентов, составлен портрет чаще всего прекращающих пользование услугами банка клиентов, построена модель предсказания оттока пользователей, а также сделаны выводы и рекомендации. \n",
    "\n",
    "**После проделанного исследования можно сделать следующие выводы:**\n",
    "1. Наблюдается значительный отток клинтов из региона Germany.  \n",
    "   Доля оттока по регионам:\n",
    " - France:     16%\n",
    " - Germany:    32%\n",
    " - Spain:      17%\n",
    "2. Женщины в среднем чаще прекращают пользоваться услугами.\n",
    " - Отток среди мужчин: 16.5%\n",
    " - Отток среди женщин: 25%\n",
    "3. Средний возраст лояльных клиентов: 37.41 лет  \n",
    "   Средний возраст ушедших клиентов:  44.84 лет\n",
    "4. Пользователи с количеством продуктов банка от 3 до 4 уходят значительно чаще.\n",
    "5. Неактивные пользователи уходят в 26% случаев, а активные в 14%.\n",
    "6. Удалось достичь качетсва модели машинного обучения F1 = 0.63\n",
    "**Рекомендации:**\n",
    "1. Обратить внимание на причину возникновения пропусков столбца `Tenure`.\n",
    "2. Скорректировать стратегию удержания клинтов с учётом выводов работы.\n",
    "3. Использовать модель предсказания оттока с учётом её точности"
   ]
  }
 ],
 "metadata": {
  "ExecuteTimeLog": [
   {
    "duration": 47,
    "start_time": "2023-01-04T08:09:26.372Z"
   }
  ],
  "kernelspec": {
   "display_name": "Python 3 (ipykernel)",
   "language": "python",
   "name": "python3"
  },
  "language_info": {
   "codemirror_mode": {
    "name": "ipython",
    "version": 3
   },
   "file_extension": ".py",
   "mimetype": "text/x-python",
   "name": "python",
   "nbconvert_exporter": "python",
   "pygments_lexer": "ipython3",
   "version": "3.9.12"
  },
  "toc": {
   "base_numbering": 1,
   "nav_menu": {},
   "number_sections": true,
   "sideBar": true,
   "skip_h1_title": true,
   "title_cell": "Table of Contents",
   "title_sidebar": "Contents",
   "toc_cell": false,
   "toc_position": {
    "height": "calc(100% - 180px)",
    "left": "10px",
    "top": "150px",
    "width": "332px"
   },
   "toc_section_display": true,
   "toc_window_display": true
  }
 },
 "nbformat": 4,
 "nbformat_minor": 5
}
