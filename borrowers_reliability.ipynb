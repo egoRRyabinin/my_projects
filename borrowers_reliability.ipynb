{
 "cells": [
  {
   "cell_type": "markdown",
   "id": "71695676",
   "metadata": {
    "deletable": false,
    "editable": false,
    "id": "c81daeeb"
   },
   "source": [
    "# Исследование надежности заемщиков\n"
   ]
  },
  {
   "cell_type": "markdown",
   "id": "e7a5c63e",
   "metadata": {},
   "source": [
    "## Введение"
   ]
  },
  {
   "cell_type": "markdown",
   "id": "7677a080",
   "metadata": {},
   "source": [
    "### Описание проекта \n",
    "Проект нацелен на анализ платежеспособности клиентов банка для построения модели кредитного скоринга, которая оценивает способность потенциального заёмщика вернуть кредит банку.\n",
    "### Цель проекта\n",
    "Изучить влияние семейного положения, среднего дохода, предназначения кредита и количества детей клиента на факт погашения кредита в срок. \n",
    "### Описание данных\n",
    "**Входные данные от банка — статистика о платёжеспособности клиентов.**  \n",
    "\n",
    "В таблице представлены следующие значения:\n",
    "- children — количество детей в семье\n",
    "- days_employed — общий трудовой стаж в днях\n",
    "- dob_years — возраст клиента в годах\n",
    "- education — уровень образования клиента\n",
    "- education_id — идентификатор уровня образования\n",
    "- family_status — семейное положение\n",
    "- family_status_id — идентификатор семейного положения\n",
    "- gender — пол клиента\n",
    "- income_type — тип занятости\n",
    "- debt — имел ли задолженность по возврату кредитов\n",
    "- total_income — ежемесячный доход\n",
    "- purpose — цель получения кредита\n",
    "\n",
    "### План работы\n",
    "1. Изучение общей информации о данных\n",
    "2. Предобработка данных\n",
    "  - Удаление пропусков\n",
    "  - Обработка аномальных значений\n",
    "  - Изменение типов данных\n",
    "  - Поиск и удаление дубликатов\n",
    "  - Категоризация данных\n",
    "3. Проверка наличия закономерностей\n",
    "  - Есть ли зависимость между количеством детей и возвратом кредита в срок\n",
    "  - Есть ли зависимость между уровнем дохода и возвратом кредита в срок\n",
    "  - Есть ли зависимость между семейным положением и возвратом кредита в срок\n",
    "  - Есть ли зависимость между целью кредита и возвратом кредита в срок\n",
    "4. Общий вывод"
   ]
  },
  {
   "cell_type": "markdown",
   "id": "89d9cdd7",
   "metadata": {
    "deletable": false,
    "editable": false,
    "id": "827c20bf"
   },
   "source": [
    "Во второй части проекта вы выполните шаги 3 и 4. Их вручную проверит ревьюер.\n",
    "Чтобы вам не пришлось писать код заново для шагов 1 и 2, мы добавили авторские решения в ячейки с кодом. \n",
    "\n"
   ]
  },
  {
   "cell_type": "markdown",
   "id": "7f728e4e",
   "metadata": {
    "deletable": false,
    "editable": false,
    "id": "744d7639"
   },
   "source": [
    "## Откройте таблицу и изучите общую информацию о данных"
   ]
  },
  {
   "cell_type": "markdown",
   "id": "f165f8eb",
   "metadata": {
    "deletable": false,
    "editable": false,
    "id": "e7a14c31"
   },
   "source": [
    "**Задание 1. Импортируйте библиотеку pandas. Считайте данные из csv-файла в датафрейм и сохраните в переменную `data`. Путь к файлу:**\n",
    "\n",
    "`/datasets/data.csv`"
   ]
  },
  {
   "cell_type": "code",
   "execution_count": 1,
   "id": "87d4c934",
   "metadata": {
    "deletable": false,
    "id": "7bcf75c9"
   },
   "outputs": [],
   "source": [
    "import pandas as pd\n",
    "\n",
    "try:\n",
    "    data = pd.read_csv('/datasets/data.csv')\n",
    "except:\n",
    "    data = pd.read_csv('https://code.s3.yandex.net/datasets/data.csv')"
   ]
  },
  {
   "cell_type": "markdown",
   "id": "ce788ae1",
   "metadata": {
    "deletable": false,
    "editable": false,
    "id": "b8038fe3"
   },
   "source": [
    "**Задание 2. Выведите первые 20 строчек датафрейма `data` на экран.**"
   ]
  },
  {
   "cell_type": "code",
   "execution_count": 2,
   "id": "f35d06f7",
   "metadata": {
    "deletable": false,
    "id": "2a7cab99",
    "outputId": "1a8f3ef2-d323-4ec2-ddf7-89670b5944c4"
   },
   "outputs": [
    {
     "data": {
      "text/html": [
       "<div>\n",
       "<style scoped>\n",
       "    .dataframe tbody tr th:only-of-type {\n",
       "        vertical-align: middle;\n",
       "    }\n",
       "\n",
       "    .dataframe tbody tr th {\n",
       "        vertical-align: top;\n",
       "    }\n",
       "\n",
       "    .dataframe thead th {\n",
       "        text-align: right;\n",
       "    }\n",
       "</style>\n",
       "<table border=\"1\" class=\"dataframe\">\n",
       "  <thead>\n",
       "    <tr style=\"text-align: right;\">\n",
       "      <th></th>\n",
       "      <th>children</th>\n",
       "      <th>days_employed</th>\n",
       "      <th>dob_years</th>\n",
       "      <th>education</th>\n",
       "      <th>education_id</th>\n",
       "      <th>family_status</th>\n",
       "      <th>family_status_id</th>\n",
       "      <th>gender</th>\n",
       "      <th>income_type</th>\n",
       "      <th>debt</th>\n",
       "      <th>total_income</th>\n",
       "      <th>purpose</th>\n",
       "    </tr>\n",
       "  </thead>\n",
       "  <tbody>\n",
       "    <tr>\n",
       "      <th>0</th>\n",
       "      <td>1</td>\n",
       "      <td>-8437.673028</td>\n",
       "      <td>42</td>\n",
       "      <td>высшее</td>\n",
       "      <td>0</td>\n",
       "      <td>женат / замужем</td>\n",
       "      <td>0</td>\n",
       "      <td>F</td>\n",
       "      <td>сотрудник</td>\n",
       "      <td>0</td>\n",
       "      <td>253875.639453</td>\n",
       "      <td>покупка жилья</td>\n",
       "    </tr>\n",
       "    <tr>\n",
       "      <th>1</th>\n",
       "      <td>1</td>\n",
       "      <td>-4024.803754</td>\n",
       "      <td>36</td>\n",
       "      <td>среднее</td>\n",
       "      <td>1</td>\n",
       "      <td>женат / замужем</td>\n",
       "      <td>0</td>\n",
       "      <td>F</td>\n",
       "      <td>сотрудник</td>\n",
       "      <td>0</td>\n",
       "      <td>112080.014102</td>\n",
       "      <td>приобретение автомобиля</td>\n",
       "    </tr>\n",
       "    <tr>\n",
       "      <th>2</th>\n",
       "      <td>0</td>\n",
       "      <td>-5623.422610</td>\n",
       "      <td>33</td>\n",
       "      <td>Среднее</td>\n",
       "      <td>1</td>\n",
       "      <td>женат / замужем</td>\n",
       "      <td>0</td>\n",
       "      <td>M</td>\n",
       "      <td>сотрудник</td>\n",
       "      <td>0</td>\n",
       "      <td>145885.952297</td>\n",
       "      <td>покупка жилья</td>\n",
       "    </tr>\n",
       "    <tr>\n",
       "      <th>3</th>\n",
       "      <td>3</td>\n",
       "      <td>-4124.747207</td>\n",
       "      <td>32</td>\n",
       "      <td>среднее</td>\n",
       "      <td>1</td>\n",
       "      <td>женат / замужем</td>\n",
       "      <td>0</td>\n",
       "      <td>M</td>\n",
       "      <td>сотрудник</td>\n",
       "      <td>0</td>\n",
       "      <td>267628.550329</td>\n",
       "      <td>дополнительное образование</td>\n",
       "    </tr>\n",
       "    <tr>\n",
       "      <th>4</th>\n",
       "      <td>0</td>\n",
       "      <td>340266.072047</td>\n",
       "      <td>53</td>\n",
       "      <td>среднее</td>\n",
       "      <td>1</td>\n",
       "      <td>гражданский брак</td>\n",
       "      <td>1</td>\n",
       "      <td>F</td>\n",
       "      <td>пенсионер</td>\n",
       "      <td>0</td>\n",
       "      <td>158616.077870</td>\n",
       "      <td>сыграть свадьбу</td>\n",
       "    </tr>\n",
       "    <tr>\n",
       "      <th>5</th>\n",
       "      <td>0</td>\n",
       "      <td>-926.185831</td>\n",
       "      <td>27</td>\n",
       "      <td>высшее</td>\n",
       "      <td>0</td>\n",
       "      <td>гражданский брак</td>\n",
       "      <td>1</td>\n",
       "      <td>M</td>\n",
       "      <td>компаньон</td>\n",
       "      <td>0</td>\n",
       "      <td>255763.565419</td>\n",
       "      <td>покупка жилья</td>\n",
       "    </tr>\n",
       "    <tr>\n",
       "      <th>6</th>\n",
       "      <td>0</td>\n",
       "      <td>-2879.202052</td>\n",
       "      <td>43</td>\n",
       "      <td>высшее</td>\n",
       "      <td>0</td>\n",
       "      <td>женат / замужем</td>\n",
       "      <td>0</td>\n",
       "      <td>F</td>\n",
       "      <td>компаньон</td>\n",
       "      <td>0</td>\n",
       "      <td>240525.971920</td>\n",
       "      <td>операции с жильем</td>\n",
       "    </tr>\n",
       "    <tr>\n",
       "      <th>7</th>\n",
       "      <td>0</td>\n",
       "      <td>-152.779569</td>\n",
       "      <td>50</td>\n",
       "      <td>СРЕДНЕЕ</td>\n",
       "      <td>1</td>\n",
       "      <td>женат / замужем</td>\n",
       "      <td>0</td>\n",
       "      <td>M</td>\n",
       "      <td>сотрудник</td>\n",
       "      <td>0</td>\n",
       "      <td>135823.934197</td>\n",
       "      <td>образование</td>\n",
       "    </tr>\n",
       "    <tr>\n",
       "      <th>8</th>\n",
       "      <td>2</td>\n",
       "      <td>-6929.865299</td>\n",
       "      <td>35</td>\n",
       "      <td>ВЫСШЕЕ</td>\n",
       "      <td>0</td>\n",
       "      <td>гражданский брак</td>\n",
       "      <td>1</td>\n",
       "      <td>F</td>\n",
       "      <td>сотрудник</td>\n",
       "      <td>0</td>\n",
       "      <td>95856.832424</td>\n",
       "      <td>на проведение свадьбы</td>\n",
       "    </tr>\n",
       "    <tr>\n",
       "      <th>9</th>\n",
       "      <td>0</td>\n",
       "      <td>-2188.756445</td>\n",
       "      <td>41</td>\n",
       "      <td>среднее</td>\n",
       "      <td>1</td>\n",
       "      <td>женат / замужем</td>\n",
       "      <td>0</td>\n",
       "      <td>M</td>\n",
       "      <td>сотрудник</td>\n",
       "      <td>0</td>\n",
       "      <td>144425.938277</td>\n",
       "      <td>покупка жилья для семьи</td>\n",
       "    </tr>\n",
       "    <tr>\n",
       "      <th>10</th>\n",
       "      <td>2</td>\n",
       "      <td>-4171.483647</td>\n",
       "      <td>36</td>\n",
       "      <td>высшее</td>\n",
       "      <td>0</td>\n",
       "      <td>женат / замужем</td>\n",
       "      <td>0</td>\n",
       "      <td>M</td>\n",
       "      <td>компаньон</td>\n",
       "      <td>0</td>\n",
       "      <td>113943.491460</td>\n",
       "      <td>покупка недвижимости</td>\n",
       "    </tr>\n",
       "    <tr>\n",
       "      <th>11</th>\n",
       "      <td>0</td>\n",
       "      <td>-792.701887</td>\n",
       "      <td>40</td>\n",
       "      <td>среднее</td>\n",
       "      <td>1</td>\n",
       "      <td>женат / замужем</td>\n",
       "      <td>0</td>\n",
       "      <td>F</td>\n",
       "      <td>сотрудник</td>\n",
       "      <td>0</td>\n",
       "      <td>77069.234271</td>\n",
       "      <td>покупка коммерческой недвижимости</td>\n",
       "    </tr>\n",
       "    <tr>\n",
       "      <th>12</th>\n",
       "      <td>0</td>\n",
       "      <td>NaN</td>\n",
       "      <td>65</td>\n",
       "      <td>среднее</td>\n",
       "      <td>1</td>\n",
       "      <td>гражданский брак</td>\n",
       "      <td>1</td>\n",
       "      <td>M</td>\n",
       "      <td>пенсионер</td>\n",
       "      <td>0</td>\n",
       "      <td>NaN</td>\n",
       "      <td>сыграть свадьбу</td>\n",
       "    </tr>\n",
       "    <tr>\n",
       "      <th>13</th>\n",
       "      <td>0</td>\n",
       "      <td>-1846.641941</td>\n",
       "      <td>54</td>\n",
       "      <td>неоконченное высшее</td>\n",
       "      <td>2</td>\n",
       "      <td>женат / замужем</td>\n",
       "      <td>0</td>\n",
       "      <td>F</td>\n",
       "      <td>сотрудник</td>\n",
       "      <td>0</td>\n",
       "      <td>130458.228857</td>\n",
       "      <td>приобретение автомобиля</td>\n",
       "    </tr>\n",
       "    <tr>\n",
       "      <th>14</th>\n",
       "      <td>0</td>\n",
       "      <td>-1844.956182</td>\n",
       "      <td>56</td>\n",
       "      <td>высшее</td>\n",
       "      <td>0</td>\n",
       "      <td>гражданский брак</td>\n",
       "      <td>1</td>\n",
       "      <td>F</td>\n",
       "      <td>компаньон</td>\n",
       "      <td>1</td>\n",
       "      <td>165127.911772</td>\n",
       "      <td>покупка жилой недвижимости</td>\n",
       "    </tr>\n",
       "    <tr>\n",
       "      <th>15</th>\n",
       "      <td>1</td>\n",
       "      <td>-972.364419</td>\n",
       "      <td>26</td>\n",
       "      <td>среднее</td>\n",
       "      <td>1</td>\n",
       "      <td>женат / замужем</td>\n",
       "      <td>0</td>\n",
       "      <td>F</td>\n",
       "      <td>сотрудник</td>\n",
       "      <td>0</td>\n",
       "      <td>116820.904450</td>\n",
       "      <td>строительство собственной недвижимости</td>\n",
       "    </tr>\n",
       "    <tr>\n",
       "      <th>16</th>\n",
       "      <td>0</td>\n",
       "      <td>-1719.934226</td>\n",
       "      <td>35</td>\n",
       "      <td>среднее</td>\n",
       "      <td>1</td>\n",
       "      <td>женат / замужем</td>\n",
       "      <td>0</td>\n",
       "      <td>F</td>\n",
       "      <td>сотрудник</td>\n",
       "      <td>0</td>\n",
       "      <td>289202.704229</td>\n",
       "      <td>недвижимость</td>\n",
       "    </tr>\n",
       "    <tr>\n",
       "      <th>17</th>\n",
       "      <td>0</td>\n",
       "      <td>-2369.999720</td>\n",
       "      <td>33</td>\n",
       "      <td>высшее</td>\n",
       "      <td>0</td>\n",
       "      <td>гражданский брак</td>\n",
       "      <td>1</td>\n",
       "      <td>M</td>\n",
       "      <td>сотрудник</td>\n",
       "      <td>0</td>\n",
       "      <td>90410.586745</td>\n",
       "      <td>строительство недвижимости</td>\n",
       "    </tr>\n",
       "    <tr>\n",
       "      <th>18</th>\n",
       "      <td>0</td>\n",
       "      <td>400281.136913</td>\n",
       "      <td>53</td>\n",
       "      <td>среднее</td>\n",
       "      <td>1</td>\n",
       "      <td>вдовец / вдова</td>\n",
       "      <td>2</td>\n",
       "      <td>F</td>\n",
       "      <td>пенсионер</td>\n",
       "      <td>0</td>\n",
       "      <td>56823.777243</td>\n",
       "      <td>на покупку подержанного автомобиля</td>\n",
       "    </tr>\n",
       "    <tr>\n",
       "      <th>19</th>\n",
       "      <td>0</td>\n",
       "      <td>-10038.818549</td>\n",
       "      <td>48</td>\n",
       "      <td>СРЕДНЕЕ</td>\n",
       "      <td>1</td>\n",
       "      <td>в разводе</td>\n",
       "      <td>3</td>\n",
       "      <td>F</td>\n",
       "      <td>сотрудник</td>\n",
       "      <td>0</td>\n",
       "      <td>242831.107982</td>\n",
       "      <td>на покупку своего автомобиля</td>\n",
       "    </tr>\n",
       "  </tbody>\n",
       "</table>\n",
       "</div>"
      ],
      "text/plain": [
       "    children  days_employed  dob_years            education  education_id  \\\n",
       "0          1   -8437.673028         42               высшее             0   \n",
       "1          1   -4024.803754         36              среднее             1   \n",
       "2          0   -5623.422610         33              Среднее             1   \n",
       "3          3   -4124.747207         32              среднее             1   \n",
       "4          0  340266.072047         53              среднее             1   \n",
       "5          0    -926.185831         27               высшее             0   \n",
       "6          0   -2879.202052         43               высшее             0   \n",
       "7          0    -152.779569         50              СРЕДНЕЕ             1   \n",
       "8          2   -6929.865299         35               ВЫСШЕЕ             0   \n",
       "9          0   -2188.756445         41              среднее             1   \n",
       "10         2   -4171.483647         36               высшее             0   \n",
       "11         0    -792.701887         40              среднее             1   \n",
       "12         0            NaN         65              среднее             1   \n",
       "13         0   -1846.641941         54  неоконченное высшее             2   \n",
       "14         0   -1844.956182         56               высшее             0   \n",
       "15         1    -972.364419         26              среднее             1   \n",
       "16         0   -1719.934226         35              среднее             1   \n",
       "17         0   -2369.999720         33               высшее             0   \n",
       "18         0  400281.136913         53              среднее             1   \n",
       "19         0  -10038.818549         48              СРЕДНЕЕ             1   \n",
       "\n",
       "       family_status  family_status_id gender income_type  debt  \\\n",
       "0    женат / замужем                 0      F   сотрудник     0   \n",
       "1    женат / замужем                 0      F   сотрудник     0   \n",
       "2    женат / замужем                 0      M   сотрудник     0   \n",
       "3    женат / замужем                 0      M   сотрудник     0   \n",
       "4   гражданский брак                 1      F   пенсионер     0   \n",
       "5   гражданский брак                 1      M   компаньон     0   \n",
       "6    женат / замужем                 0      F   компаньон     0   \n",
       "7    женат / замужем                 0      M   сотрудник     0   \n",
       "8   гражданский брак                 1      F   сотрудник     0   \n",
       "9    женат / замужем                 0      M   сотрудник     0   \n",
       "10   женат / замужем                 0      M   компаньон     0   \n",
       "11   женат / замужем                 0      F   сотрудник     0   \n",
       "12  гражданский брак                 1      M   пенсионер     0   \n",
       "13   женат / замужем                 0      F   сотрудник     0   \n",
       "14  гражданский брак                 1      F   компаньон     1   \n",
       "15   женат / замужем                 0      F   сотрудник     0   \n",
       "16   женат / замужем                 0      F   сотрудник     0   \n",
       "17  гражданский брак                 1      M   сотрудник     0   \n",
       "18    вдовец / вдова                 2      F   пенсионер     0   \n",
       "19         в разводе                 3      F   сотрудник     0   \n",
       "\n",
       "     total_income                                 purpose  \n",
       "0   253875.639453                           покупка жилья  \n",
       "1   112080.014102                 приобретение автомобиля  \n",
       "2   145885.952297                           покупка жилья  \n",
       "3   267628.550329              дополнительное образование  \n",
       "4   158616.077870                         сыграть свадьбу  \n",
       "5   255763.565419                           покупка жилья  \n",
       "6   240525.971920                       операции с жильем  \n",
       "7   135823.934197                             образование  \n",
       "8    95856.832424                   на проведение свадьбы  \n",
       "9   144425.938277                 покупка жилья для семьи  \n",
       "10  113943.491460                    покупка недвижимости  \n",
       "11   77069.234271       покупка коммерческой недвижимости  \n",
       "12            NaN                         сыграть свадьбу  \n",
       "13  130458.228857                 приобретение автомобиля  \n",
       "14  165127.911772              покупка жилой недвижимости  \n",
       "15  116820.904450  строительство собственной недвижимости  \n",
       "16  289202.704229                            недвижимость  \n",
       "17   90410.586745              строительство недвижимости  \n",
       "18   56823.777243      на покупку подержанного автомобиля  \n",
       "19  242831.107982            на покупку своего автомобиля  "
      ]
     },
     "execution_count": 2,
     "metadata": {},
     "output_type": "execute_result"
    }
   ],
   "source": [
    "data.head(20)"
   ]
  },
  {
   "cell_type": "markdown",
   "id": "c79ae652",
   "metadata": {
    "deletable": false,
    "editable": false,
    "id": "1c12e233"
   },
   "source": [
    "**Задание 3. Выведите основную информацию о датафрейме с помощью метода `info()`.**"
   ]
  },
  {
   "cell_type": "code",
   "execution_count": 3,
   "id": "90e23e43",
   "metadata": {
    "deletable": false,
    "id": "2b757bca",
    "outputId": "15376089-8dad-46c9-b520-c05248d43158"
   },
   "outputs": [
    {
     "name": "stdout",
     "output_type": "stream",
     "text": [
      "<class 'pandas.core.frame.DataFrame'>\n",
      "RangeIndex: 21525 entries, 0 to 21524\n",
      "Data columns (total 12 columns):\n",
      " #   Column            Non-Null Count  Dtype  \n",
      "---  ------            --------------  -----  \n",
      " 0   children          21525 non-null  int64  \n",
      " 1   days_employed     19351 non-null  float64\n",
      " 2   dob_years         21525 non-null  int64  \n",
      " 3   education         21525 non-null  object \n",
      " 4   education_id      21525 non-null  int64  \n",
      " 5   family_status     21525 non-null  object \n",
      " 6   family_status_id  21525 non-null  int64  \n",
      " 7   gender            21525 non-null  object \n",
      " 8   income_type       21525 non-null  object \n",
      " 9   debt              21525 non-null  int64  \n",
      " 10  total_income      19351 non-null  float64\n",
      " 11  purpose           21525 non-null  object \n",
      "dtypes: float64(2), int64(5), object(5)\n",
      "memory usage: 2.0+ MB\n"
     ]
    }
   ],
   "source": [
    "data.info()"
   ]
  },
  {
   "cell_type": "markdown",
   "id": "1ebb22ee",
   "metadata": {
    "deletable": false,
    "editable": false,
    "id": "333ec665"
   },
   "source": [
    "## Предобработка данных"
   ]
  },
  {
   "cell_type": "markdown",
   "id": "e96feac8",
   "metadata": {
    "deletable": false,
    "editable": false,
    "id": "02d92d53"
   },
   "source": [
    "### Удаление пропусков"
   ]
  },
  {
   "cell_type": "markdown",
   "id": "56df0c07",
   "metadata": {
    "deletable": false,
    "editable": false,
    "id": "cd84967c"
   },
   "source": [
    "**Задание 4. Выведите количество пропущенных значений для каждого столбца. Используйте комбинацию двух методов.**"
   ]
  },
  {
   "cell_type": "code",
   "execution_count": 4,
   "id": "547d3958",
   "metadata": {
    "deletable": false,
    "id": "7f9b2309",
    "outputId": "81f4d817-781c-465c-ed15-91ce4446810d"
   },
   "outputs": [
    {
     "data": {
      "text/plain": [
       "children               0\n",
       "days_employed       2174\n",
       "dob_years              0\n",
       "education              0\n",
       "education_id           0\n",
       "family_status          0\n",
       "family_status_id       0\n",
       "gender                 0\n",
       "income_type            0\n",
       "debt                   0\n",
       "total_income        2174\n",
       "purpose                0\n",
       "dtype: int64"
      ]
     },
     "execution_count": 4,
     "metadata": {},
     "output_type": "execute_result"
    }
   ],
   "source": [
    "data.isna().sum()"
   ]
  },
  {
   "cell_type": "markdown",
   "id": "95ef8ef2",
   "metadata": {
    "deletable": false,
    "editable": false,
    "id": "db86e27b"
   },
   "source": [
    "**Задание 5. В двух столбцах есть пропущенные значения. Один из них — `days_employed`. Пропуски в этом столбце вы обработаете на следующем этапе. Другой столбец с пропущенными значениями — `total_income` — хранит данные о доходах. На сумму дохода сильнее всего влияет тип занятости, поэтому заполнить пропуски в этом столбце нужно медианным значением по каждому типу из столбца `income_type`. Например, у человека с типом занятости `сотрудник` пропуск в столбце `total_income` должен быть заполнен медианным доходом среди всех записей с тем же типом.**"
   ]
  },
  {
   "cell_type": "code",
   "execution_count": 5,
   "id": "68ba0757",
   "metadata": {
    "deletable": false,
    "id": "42006a93"
   },
   "outputs": [],
   "source": [
    "for t in data['income_type'].unique():\n",
    "    data.loc[(data['income_type'] == t) & (data['total_income'].isna()), 'total_income'] = \\\n",
    "    data.loc[(data['income_type'] == t), 'total_income'].median()"
   ]
  },
  {
   "cell_type": "markdown",
   "id": "6f96114f",
   "metadata": {
    "deletable": false,
    "editable": false,
    "id": "89da5ece"
   },
   "source": [
    "### Обработка аномальных значений"
   ]
  },
  {
   "cell_type": "markdown",
   "id": "90a905b0",
   "metadata": {
    "deletable": false,
    "editable": false,
    "id": "57964554"
   },
   "source": [
    "**Задание 6. В данных могут встречаться артефакты (аномалии) — значения, которые не отражают действительность и появились по какой-то ошибке. таким артефактом будет отрицательное количество дней трудового стажа в столбце `days_employed`. Для реальных данных это нормально. Обработайте значения в этом столбце: замените все отрицательные значения положительными с помощью метода `abs()`.**"
   ]
  },
  {
   "cell_type": "code",
   "execution_count": 6,
   "id": "35a69063",
   "metadata": {
    "deletable": false,
    "id": "f6f055bf"
   },
   "outputs": [],
   "source": [
    "data['days_employed'] = data['days_employed'].abs()"
   ]
  },
  {
   "cell_type": "markdown",
   "id": "9f246a0c",
   "metadata": {
    "deletable": false,
    "editable": false,
    "id": "6107dd2f"
   },
   "source": [
    "**Задание 7. Для каждого типа занятости выведите медианное значение трудового стажа `days_employed` в днях.**"
   ]
  },
  {
   "cell_type": "code",
   "execution_count": 7,
   "id": "e61829c3",
   "metadata": {
    "deletable": false,
    "id": "85a5faf6",
    "outputId": "801ef80e-522b-4668-f34e-565af7432bcf"
   },
   "outputs": [
    {
     "data": {
      "text/plain": [
       "income_type\n",
       "безработный        366413.652744\n",
       "в декрете            3296.759962\n",
       "госслужащий          2689.368353\n",
       "компаньон            1547.382223\n",
       "пенсионер          365213.306266\n",
       "предприниматель       520.848083\n",
       "сотрудник            1574.202821\n",
       "студент               578.751554\n",
       "Name: days_employed, dtype: float64"
      ]
     },
     "execution_count": 7,
     "metadata": {},
     "output_type": "execute_result"
    }
   ],
   "source": [
    "data.groupby('income_type')['days_employed'].agg('median')"
   ]
  },
  {
   "cell_type": "markdown",
   "id": "60d1c4d0",
   "metadata": {
    "deletable": false,
    "editable": false,
    "id": "38d1a030"
   },
   "source": [
    "У двух типов (безработные и пенсионеры) получатся аномально большие значения. Исправить такие значения сложно, поэтому оставьте их как есть. Тем более этот столбец не понадобится вам для исследования."
   ]
  },
  {
   "cell_type": "markdown",
   "id": "a37acca2",
   "metadata": {
    "deletable": false,
    "editable": false,
    "id": "d8a9f147"
   },
   "source": [
    "**Задание 8. Выведите перечень уникальных значений столбца `children`.**"
   ]
  },
  {
   "cell_type": "code",
   "execution_count": 8,
   "id": "35823ea7",
   "metadata": {
    "deletable": false,
    "id": "ef5056eb",
    "outputId": "6975b15c-7f95-4697-d16d-a0c79b657b03"
   },
   "outputs": [
    {
     "data": {
      "text/plain": [
       "array([ 1,  0,  3,  2, -1,  4, 20,  5], dtype=int64)"
      ]
     },
     "execution_count": 8,
     "metadata": {},
     "output_type": "execute_result"
    }
   ],
   "source": [
    "data['children'].unique()"
   ]
  },
  {
   "cell_type": "markdown",
   "id": "ff272392",
   "metadata": {
    "deletable": false,
    "editable": false,
    "id": "40b9ebf2"
   },
   "source": [
    "**Задание 9. В столбце `children` есть два аномальных значения. Удалите строки, в которых встречаются такие аномальные значения из датафрейма `data`.**"
   ]
  },
  {
   "cell_type": "code",
   "execution_count": 9,
   "id": "bb0ac55c",
   "metadata": {
    "deletable": false,
    "id": "3ff9801d"
   },
   "outputs": [],
   "source": [
    "data = data[(data['children'] != -1) & (data['children'] != 20)]"
   ]
  },
  {
   "cell_type": "markdown",
   "id": "b520ec96",
   "metadata": {
    "deletable": false,
    "editable": false,
    "id": "bbc4d0ce"
   },
   "source": [
    "**Задание 10. Ещё раз выведите перечень уникальных значений столбца `children`, чтобы убедиться, что артефакты удалены.**"
   ]
  },
  {
   "cell_type": "code",
   "execution_count": 10,
   "id": "72aa225a",
   "metadata": {
    "deletable": false,
    "id": "ad4fa8b7",
    "outputId": "b2097101-d49d-44d9-901b-32a65c9463d1"
   },
   "outputs": [
    {
     "data": {
      "text/plain": [
       "array([1, 0, 3, 2, 4, 5], dtype=int64)"
      ]
     },
     "execution_count": 10,
     "metadata": {},
     "output_type": "execute_result"
    }
   ],
   "source": [
    "data['children'].unique()"
   ]
  },
  {
   "cell_type": "markdown",
   "id": "9199d5de",
   "metadata": {
    "deletable": false,
    "editable": false,
    "id": "75440b63"
   },
   "source": [
    "### Удаление пропусков (продолжение)"
   ]
  },
  {
   "cell_type": "markdown",
   "id": "4dc6c968",
   "metadata": {
    "deletable": false,
    "editable": false,
    "id": "f4ea573f"
   },
   "source": [
    "**Задание 11. Заполните пропуски в столбце `days_employed` медианными значениями по каждого типа занятости `income_type`.**"
   ]
  },
  {
   "cell_type": "code",
   "execution_count": 11,
   "id": "177d9a24",
   "metadata": {
    "deletable": false,
    "id": "af6b1a7e"
   },
   "outputs": [],
   "source": [
    "for t in data['income_type'].unique():\n",
    "    data.loc[(data['income_type'] == t) & (data['days_employed'].isna()), 'days_employed'] = \\\n",
    "    data.loc[(data['income_type'] == t), 'days_employed'].median()"
   ]
  },
  {
   "cell_type": "markdown",
   "id": "57f8001c",
   "metadata": {
    "deletable": false,
    "editable": false,
    "id": "2753f40d"
   },
   "source": [
    "**Задание 12. Убедитесь, что все пропуски заполнены. Проверьте себя и ещё раз выведите количество пропущенных значений для каждого столбца с помощью двух методов.**"
   ]
  },
  {
   "cell_type": "code",
   "execution_count": 12,
   "id": "e652f022",
   "metadata": {
    "deletable": false,
    "id": "55f78bc2",
    "outputId": "8da1e4e1-358e-4e87-98c9-f261bce0a7b2"
   },
   "outputs": [
    {
     "data": {
      "text/plain": [
       "children            0\n",
       "days_employed       0\n",
       "dob_years           0\n",
       "education           0\n",
       "education_id        0\n",
       "family_status       0\n",
       "family_status_id    0\n",
       "gender              0\n",
       "income_type         0\n",
       "debt                0\n",
       "total_income        0\n",
       "purpose             0\n",
       "dtype: int64"
      ]
     },
     "execution_count": 12,
     "metadata": {},
     "output_type": "execute_result"
    }
   ],
   "source": [
    "data.isna().sum()"
   ]
  },
  {
   "cell_type": "markdown",
   "id": "8db46ed9",
   "metadata": {
    "deletable": false,
    "editable": false,
    "id": "ddc81e43"
   },
   "source": [
    "### Изменение типов данных"
   ]
  },
  {
   "cell_type": "markdown",
   "id": "7a517800",
   "metadata": {
    "deletable": false,
    "editable": false,
    "id": "42d19d24"
   },
   "source": [
    "**Задание 13. Замените вещественный тип данных в столбце `total_income` на целочисленный с помощью метода `astype()`.**"
   ]
  },
  {
   "cell_type": "code",
   "execution_count": 13,
   "id": "44174cbc",
   "metadata": {
    "deletable": false,
    "id": "920b65ad"
   },
   "outputs": [],
   "source": [
    "data['total_income'] = data['total_income'].astype(int)"
   ]
  },
  {
   "cell_type": "markdown",
   "id": "0352a92a",
   "metadata": {
    "deletable": false,
    "editable": false,
    "id": "80c420ba"
   },
   "source": [
    "### Обработка дубликатов"
   ]
  },
  {
   "cell_type": "markdown",
   "id": "ff678412",
   "metadata": {
    "deletable": false,
    "editable": false
   },
   "source": [
    "**Задание 14. Обработайте неявные дубликаты в столбце `education`. В этом столбце есть одни и те же значения, но записанные по-разному: с использованием заглавных и строчных букв. Приведите их к нижнему регистру. Проверьте остальные столбцы.**"
   ]
  },
  {
   "cell_type": "code",
   "execution_count": 14,
   "id": "fa481da0",
   "metadata": {
    "deletable": false
   },
   "outputs": [],
   "source": [
    "data['education'] = data['education'].str.lower()"
   ]
  },
  {
   "cell_type": "markdown",
   "id": "3c818a48",
   "metadata": {
    "deletable": false,
    "editable": false,
    "id": "dc587695"
   },
   "source": [
    "**Задание 15. Выведите на экран количество строк-дубликатов в данных. Если такие строки присутствуют, удалите их.**"
   ]
  },
  {
   "cell_type": "code",
   "execution_count": 15,
   "id": "caf1a40d",
   "metadata": {
    "deletable": false,
    "id": "3ee445e4",
    "outputId": "9684deba-1934-42d1-99e1-cda61740f822"
   },
   "outputs": [
    {
     "data": {
      "text/plain": [
       "71"
      ]
     },
     "execution_count": 15,
     "metadata": {},
     "output_type": "execute_result"
    }
   ],
   "source": [
    "data.duplicated().sum()"
   ]
  },
  {
   "cell_type": "code",
   "execution_count": 16,
   "id": "df0b3aa9",
   "metadata": {
    "deletable": false,
    "id": "8575fe05"
   },
   "outputs": [],
   "source": [
    "data = data.drop_duplicates()"
   ]
  },
  {
   "cell_type": "markdown",
   "id": "3ae44bf1",
   "metadata": {
    "deletable": false,
    "editable": false,
    "id": "9904cf55"
   },
   "source": [
    "### Категоризация данных"
   ]
  },
  {
   "cell_type": "markdown",
   "id": "8e7b6d5f",
   "metadata": {
    "deletable": false,
    "editable": false,
    "id": "72fcc8a2"
   },
   "source": [
    "**Задание 16. На основании диапазонов, указанных ниже, создайте в датафрейме `data` столбец `total_income_category` с категориями:**\n",
    "\n",
    "- 0–30000 — `'E'`;\n",
    "- 30001–50000 — `'D'`;\n",
    "- 50001–200000 — `'C'`;\n",
    "- 200001–1000000 — `'B'`;\n",
    "- 1000001 и выше — `'A'`.\n",
    "\n",
    "\n",
    "**Например, кредитополучателю с доходом 25000 нужно назначить категорию `'E'`, а клиенту, получающему 235000, — `'B'`. Используйте собственную функцию с именем `categorize_income()` и метод `apply()`.**"
   ]
  },
  {
   "cell_type": "code",
   "execution_count": 17,
   "id": "3eb97075",
   "metadata": {
    "deletable": false,
    "id": "e1771346"
   },
   "outputs": [],
   "source": [
    "def categorize_income(income):\n",
    "    try:\n",
    "        if 0 <= income <= 30000:\n",
    "            return 'E'\n",
    "        elif 30001 <= income <= 50000:\n",
    "            return 'D'\n",
    "        elif 50001 <= income <= 200000:\n",
    "            return 'C'\n",
    "        elif 200001 <= income <= 1000000:\n",
    "            return 'B'\n",
    "        elif income >= 1000001:\n",
    "            return 'A'\n",
    "    except:\n",
    "        pass"
   ]
  },
  {
   "cell_type": "code",
   "execution_count": 18,
   "id": "c4d2ec57",
   "metadata": {
    "deletable": false,
    "id": "d5f3586d"
   },
   "outputs": [],
   "source": [
    "data['total_income_category'] = data['total_income'].apply(categorize_income)"
   ]
  },
  {
   "cell_type": "markdown",
   "id": "80c30179",
   "metadata": {
    "deletable": false,
    "editable": false,
    "id": "dde49b5c"
   },
   "source": [
    "**Задание 17. Выведите на экран перечень уникальных целей взятия кредита из столбца `purpose`.**"
   ]
  },
  {
   "cell_type": "code",
   "execution_count": 19,
   "id": "592b59fe",
   "metadata": {
    "deletable": false,
    "id": "f67ce9b3",
    "outputId": "673c12d9-7d7e-4ae0-9812-c622c89dd244"
   },
   "outputs": [
    {
     "data": {
      "text/plain": [
       "array(['покупка жилья', 'приобретение автомобиля',\n",
       "       'дополнительное образование', 'сыграть свадьбу',\n",
       "       'операции с жильем', 'образование', 'на проведение свадьбы',\n",
       "       'покупка жилья для семьи', 'покупка недвижимости',\n",
       "       'покупка коммерческой недвижимости', 'покупка жилой недвижимости',\n",
       "       'строительство собственной недвижимости', 'недвижимость',\n",
       "       'строительство недвижимости', 'на покупку подержанного автомобиля',\n",
       "       'на покупку своего автомобиля',\n",
       "       'операции с коммерческой недвижимостью',\n",
       "       'строительство жилой недвижимости', 'жилье',\n",
       "       'операции со своей недвижимостью', 'автомобили',\n",
       "       'заняться образованием', 'сделка с подержанным автомобилем',\n",
       "       'получение образования', 'автомобиль', 'свадьба',\n",
       "       'получение дополнительного образования', 'покупка своего жилья',\n",
       "       'операции с недвижимостью', 'получение высшего образования',\n",
       "       'свой автомобиль', 'сделка с автомобилем',\n",
       "       'профильное образование', 'высшее образование',\n",
       "       'покупка жилья для сдачи', 'на покупку автомобиля', 'ремонт жилью',\n",
       "       'заняться высшим образованием'], dtype=object)"
      ]
     },
     "execution_count": 19,
     "metadata": {},
     "output_type": "execute_result"
    }
   ],
   "source": [
    "data['purpose'].unique()"
   ]
  },
  {
   "cell_type": "markdown",
   "id": "b636ec47",
   "metadata": {
    "deletable": false,
    "editable": false,
    "id": "85d0aef0"
   },
   "source": [
    "**Задание 18. Создайте функцию, которая на основании данных из столбца `purpose` сформирует новый столбец `purpose_category`, в который войдут следующие категории:**\n",
    "\n",
    "- `'операции с автомобилем'`,\n",
    "- `'операции с недвижимостью'`,\n",
    "- `'проведение свадьбы'`,\n",
    "- `'получение образования'`.\n",
    "\n",
    "**Например, если в столбце `purpose` находится подстрока `'на покупку автомобиля'`, то в столбце `purpose_category` должна появиться строка `'операции с автомобилем'`.**\n",
    "\n",
    "**Используйте собственную функцию с именем `categorize_purpose()` и метод `apply()`. Изучите данные в столбце `purpose` и определите, какие подстроки помогут вам правильно определить категорию.**"
   ]
  },
  {
   "cell_type": "code",
   "execution_count": 20,
   "id": "9ba41433",
   "metadata": {
    "deletable": false,
    "id": "e149fab4"
   },
   "outputs": [],
   "source": [
    "def categorize_purpose(row):\n",
    "    try:\n",
    "        if 'автом' in row:\n",
    "            return 'операции с автомобилем'\n",
    "        elif 'жил' in row or 'недвиж' in row:\n",
    "            return 'операции с недвижимостью'\n",
    "        elif 'свад' in row:\n",
    "            return 'проведение свадьбы'\n",
    "        elif 'образов' in row:\n",
    "            return 'получение образования'\n",
    "    except:\n",
    "        return 'нет категории'"
   ]
  },
  {
   "cell_type": "code",
   "execution_count": 21,
   "id": "9aebec15",
   "metadata": {
    "deletable": false,
    "id": "bf36e69b"
   },
   "outputs": [],
   "source": [
    "data['purpose_category'] = data['purpose'].apply(categorize_purpose)"
   ]
  },
  {
   "cell_type": "markdown",
   "id": "7f2fc991",
   "metadata": {
    "deletable": false,
    "editable": false,
    "id": "09b242bf"
   },
   "source": [
    "### Шаг 3. Исследуйте данные и ответьте на вопросы"
   ]
  },
  {
   "cell_type": "markdown",
   "id": "0ee72352",
   "metadata": {
    "deletable": false,
    "editable": false,
    "id": "c5d66278"
   },
   "source": [
    "#### 3.1 Есть ли зависимость между количеством детей и возвратом кредита в срок?"
   ]
  },
  {
   "cell_type": "markdown",
   "id": "5ad5e1b1",
   "metadata": {},
   "source": [
    "**Создадим функцию которая будет представлять количество ненадёжных заёмщиков, общее количество заёмщиков и `параметр надёжности` для каждой категории людей. Испольование этого параметра необходимо, так как с его помощью возможно предсказать `надёжность конкретного заёмщика` в отрыве от общей массы клиентов.**"
   ]
  },
  {
   "cell_type": "code",
   "execution_count": 22,
   "id": "0892b5fa",
   "metadata": {
    "deletable": false,
    "id": "2cacfc4a"
   },
   "outputs": [],
   "source": [
    "def reliablity_coefficient(i): # создаём функцию\n",
    "    try:\n",
    "        df_reliability = pd.DataFrame() # создаём пустой DataFrame в который добавим три столбца с необходимой информацией\n",
    "        df_reliability['Ненадёжные заёмщики'] = data.groupby(i)['debt'].sum() # первый столбец с кол-вом ненадёжных заёмщиков\n",
    "        df_reliability['Всего заёмщиков'] = data.groupby(i)['debt'].count() # второй столбец с общим кол-вом заёсщиков\n",
    "        df_reliability['Доля невозвратов, %'] = round(df_reliability['Ненадёжные заёмщики'] / \\\n",
    "                                                df_reliability['Всего заёмщиков'] * 100, 1) # третий столбец с долей невозвратов в %\n",
    "        df_reliability = df_reliability.sort_values(by=['Доля невозвратов, %']) # сортируем значения по убыванию\n",
    "        return df_reliability # на выходе получаем DataFrame\n",
    "    except:\n",
    "        return 'Что-то пошло не так...'"
   ]
  },
  {
   "cell_type": "markdown",
   "id": "6359e21c",
   "metadata": {},
   "source": [
    "**Применим функцию для почсчёта надежности заёмщиков, категоризированных по количсеству детей.**"
   ]
  },
  {
   "cell_type": "code",
   "execution_count": 23,
   "id": "6fec50bb",
   "metadata": {},
   "outputs": [
    {
     "data": {
      "text/html": [
       "<div>\n",
       "<style scoped>\n",
       "    .dataframe tbody tr th:only-of-type {\n",
       "        vertical-align: middle;\n",
       "    }\n",
       "\n",
       "    .dataframe tbody tr th {\n",
       "        vertical-align: top;\n",
       "    }\n",
       "\n",
       "    .dataframe thead th {\n",
       "        text-align: right;\n",
       "    }\n",
       "</style>\n",
       "<table border=\"1\" class=\"dataframe\">\n",
       "  <thead>\n",
       "    <tr style=\"text-align: right;\">\n",
       "      <th></th>\n",
       "      <th>Ненадёжные заёмщики</th>\n",
       "      <th>Всего заёмщиков</th>\n",
       "      <th>Доля невозвратов, %</th>\n",
       "    </tr>\n",
       "    <tr>\n",
       "      <th>children</th>\n",
       "      <th></th>\n",
       "      <th></th>\n",
       "      <th></th>\n",
       "    </tr>\n",
       "  </thead>\n",
       "  <tbody>\n",
       "    <tr>\n",
       "      <th>5</th>\n",
       "      <td>0</td>\n",
       "      <td>9</td>\n",
       "      <td>0.0</td>\n",
       "    </tr>\n",
       "    <tr>\n",
       "      <th>0</th>\n",
       "      <td>1063</td>\n",
       "      <td>14091</td>\n",
       "      <td>7.5</td>\n",
       "    </tr>\n",
       "    <tr>\n",
       "      <th>3</th>\n",
       "      <td>27</td>\n",
       "      <td>330</td>\n",
       "      <td>8.2</td>\n",
       "    </tr>\n",
       "    <tr>\n",
       "      <th>1</th>\n",
       "      <td>444</td>\n",
       "      <td>4808</td>\n",
       "      <td>9.2</td>\n",
       "    </tr>\n",
       "    <tr>\n",
       "      <th>2</th>\n",
       "      <td>194</td>\n",
       "      <td>2052</td>\n",
       "      <td>9.5</td>\n",
       "    </tr>\n",
       "    <tr>\n",
       "      <th>4</th>\n",
       "      <td>4</td>\n",
       "      <td>41</td>\n",
       "      <td>9.8</td>\n",
       "    </tr>\n",
       "  </tbody>\n",
       "</table>\n",
       "</div>"
      ],
      "text/plain": [
       "          Ненадёжные заёмщики  Всего заёмщиков  Доля невозвратов, %\n",
       "children                                                           \n",
       "5                           0                9                  0.0\n",
       "0                        1063            14091                  7.5\n",
       "3                          27              330                  8.2\n",
       "1                         444             4808                  9.2\n",
       "2                         194             2052                  9.5\n",
       "4                           4               41                  9.8"
      ]
     },
     "execution_count": 23,
     "metadata": {},
     "output_type": "execute_result"
    }
   ],
   "source": [
    "reliablity_coefficient('children')"
   ]
  },
  {
   "cell_type": "markdown",
   "id": "7ed38e18",
   "metadata": {
    "deletable": false,
    "id": "3a6b99ec"
   },
   "source": [
    "**Вывод: Так как заёмщиков с тремя, четырьмя и пятью детьми значительно меньше, чем всех остальных, для более точного анализа будем использовать категории с количсеством детей от 0 до 3. Из таблицы видно, что надежность заёмщика уменьшается с увеличением количества детей.** "
   ]
  },
  {
   "cell_type": "markdown",
   "id": "0f819bae",
   "metadata": {
    "deletable": false,
    "editable": false,
    "id": "97be82ca"
   },
   "source": [
    "#### 3.2 Есть ли зависимость между семейным положением и возвратом кредита в срок?"
   ]
  },
  {
   "cell_type": "code",
   "execution_count": 24,
   "id": "c1fd63ff",
   "metadata": {
    "deletable": false,
    "id": "dc3f7ee8"
   },
   "outputs": [
    {
     "data": {
      "text/html": [
       "<div>\n",
       "<style scoped>\n",
       "    .dataframe tbody tr th:only-of-type {\n",
       "        vertical-align: middle;\n",
       "    }\n",
       "\n",
       "    .dataframe tbody tr th {\n",
       "        vertical-align: top;\n",
       "    }\n",
       "\n",
       "    .dataframe thead th {\n",
       "        text-align: right;\n",
       "    }\n",
       "</style>\n",
       "<table border=\"1\" class=\"dataframe\">\n",
       "  <thead>\n",
       "    <tr style=\"text-align: right;\">\n",
       "      <th></th>\n",
       "      <th>Ненадёжные заёмщики</th>\n",
       "      <th>Всего заёмщиков</th>\n",
       "      <th>Доля невозвратов, %</th>\n",
       "    </tr>\n",
       "    <tr>\n",
       "      <th>family_status</th>\n",
       "      <th></th>\n",
       "      <th></th>\n",
       "      <th></th>\n",
       "    </tr>\n",
       "  </thead>\n",
       "  <tbody>\n",
       "    <tr>\n",
       "      <th>вдовец / вдова</th>\n",
       "      <td>63</td>\n",
       "      <td>951</td>\n",
       "      <td>6.6</td>\n",
       "    </tr>\n",
       "    <tr>\n",
       "      <th>в разводе</th>\n",
       "      <td>84</td>\n",
       "      <td>1189</td>\n",
       "      <td>7.1</td>\n",
       "    </tr>\n",
       "    <tr>\n",
       "      <th>женат / замужем</th>\n",
       "      <td>927</td>\n",
       "      <td>12261</td>\n",
       "      <td>7.6</td>\n",
       "    </tr>\n",
       "    <tr>\n",
       "      <th>гражданский брак</th>\n",
       "      <td>385</td>\n",
       "      <td>4134</td>\n",
       "      <td>9.3</td>\n",
       "    </tr>\n",
       "    <tr>\n",
       "      <th>Не женат / не замужем</th>\n",
       "      <td>273</td>\n",
       "      <td>2796</td>\n",
       "      <td>9.8</td>\n",
       "    </tr>\n",
       "  </tbody>\n",
       "</table>\n",
       "</div>"
      ],
      "text/plain": [
       "                       Ненадёжные заёмщики  Всего заёмщиков  \\\n",
       "family_status                                                 \n",
       "вдовец / вдова                          63              951   \n",
       "в разводе                               84             1189   \n",
       "женат / замужем                        927            12261   \n",
       "гражданский брак                       385             4134   \n",
       "Не женат / не замужем                  273             2796   \n",
       "\n",
       "                       Доля невозвратов, %  \n",
       "family_status                               \n",
       "вдовец / вдова                         6.6  \n",
       "в разводе                              7.1  \n",
       "женат / замужем                        7.6  \n",
       "гражданский брак                       9.3  \n",
       "Не женат / не замужем                  9.8  "
      ]
     },
     "execution_count": 24,
     "metadata": {},
     "output_type": "execute_result"
    }
   ],
   "source": [
    "reliablity_coefficient('family_status')"
   ]
  },
  {
   "cell_type": "markdown",
   "id": "2056ef8a",
   "metadata": {
    "deletable": false,
    "id": "1cef7837"
   },
   "source": [
    "**Вывод: Если рассматривать параметр надёжности, то показатели находятся примерно на одном уровне, при этом самая низкая надежность у людей в категории `\"Не женат / не замужем\"`, а самая высокая в категории `\"вдовец/вдова\"`** "
   ]
  },
  {
   "cell_type": "markdown",
   "id": "a3014444",
   "metadata": {
    "deletable": false,
    "editable": false,
    "id": "1e8b2fca"
   },
   "source": [
    "#### 3.3 Есть ли зависимость между уровнем дохода и возвратом кредита в срок?"
   ]
  },
  {
   "cell_type": "code",
   "execution_count": 25,
   "id": "f15e2379",
   "metadata": {
    "deletable": false,
    "id": "cd7e3720"
   },
   "outputs": [
    {
     "data": {
      "text/html": [
       "<div>\n",
       "<style scoped>\n",
       "    .dataframe tbody tr th:only-of-type {\n",
       "        vertical-align: middle;\n",
       "    }\n",
       "\n",
       "    .dataframe tbody tr th {\n",
       "        vertical-align: top;\n",
       "    }\n",
       "\n",
       "    .dataframe thead th {\n",
       "        text-align: right;\n",
       "    }\n",
       "</style>\n",
       "<table border=\"1\" class=\"dataframe\">\n",
       "  <thead>\n",
       "    <tr style=\"text-align: right;\">\n",
       "      <th></th>\n",
       "      <th>Ненадёжные заёмщики</th>\n",
       "      <th>Всего заёмщиков</th>\n",
       "      <th>Доля невозвратов, %</th>\n",
       "    </tr>\n",
       "    <tr>\n",
       "      <th>total_income_category</th>\n",
       "      <th></th>\n",
       "      <th></th>\n",
       "      <th></th>\n",
       "    </tr>\n",
       "  </thead>\n",
       "  <tbody>\n",
       "    <tr>\n",
       "      <th>D</th>\n",
       "      <td>21</td>\n",
       "      <td>349</td>\n",
       "      <td>6.0</td>\n",
       "    </tr>\n",
       "    <tr>\n",
       "      <th>B</th>\n",
       "      <td>354</td>\n",
       "      <td>5014</td>\n",
       "      <td>7.1</td>\n",
       "    </tr>\n",
       "    <tr>\n",
       "      <th>A</th>\n",
       "      <td>2</td>\n",
       "      <td>25</td>\n",
       "      <td>8.0</td>\n",
       "    </tr>\n",
       "    <tr>\n",
       "      <th>C</th>\n",
       "      <td>1353</td>\n",
       "      <td>15921</td>\n",
       "      <td>8.5</td>\n",
       "    </tr>\n",
       "    <tr>\n",
       "      <th>E</th>\n",
       "      <td>2</td>\n",
       "      <td>22</td>\n",
       "      <td>9.1</td>\n",
       "    </tr>\n",
       "  </tbody>\n",
       "</table>\n",
       "</div>"
      ],
      "text/plain": [
       "                       Ненадёжные заёмщики  Всего заёмщиков  \\\n",
       "total_income_category                                         \n",
       "D                                       21              349   \n",
       "B                                      354             5014   \n",
       "A                                        2               25   \n",
       "C                                     1353            15921   \n",
       "E                                        2               22   \n",
       "\n",
       "                       Доля невозвратов, %  \n",
       "total_income_category                       \n",
       "D                                      6.0  \n",
       "B                                      7.1  \n",
       "A                                      8.0  \n",
       "C                                      8.5  \n",
       "E                                      9.1  "
      ]
     },
     "execution_count": 25,
     "metadata": {},
     "output_type": "execute_result"
    }
   ],
   "source": [
    "reliablity_coefficient('total_income_category')"
   ]
  },
  {
   "cell_type": "markdown",
   "id": "6a74a0d4",
   "metadata": {
    "deletable": false,
    "id": "e8593def"
   },
   "source": [
    "**Вывод: Так как количество заемщиков во всех категориях кроме `B` и `C` несопоставимо меньше, для анализа они использоваться не будут. Из таблицы видно, что при росте доходов растёт и надёжность заёмщика.** "
   ]
  },
  {
   "cell_type": "markdown",
   "id": "c05c2f79",
   "metadata": {
    "deletable": false,
    "editable": false,
    "id": "99ecbd1f"
   },
   "source": [
    "#### 3.4 Как разные цели кредита влияют на его возврат в срок?"
   ]
  },
  {
   "cell_type": "code",
   "execution_count": 26,
   "id": "24eee931",
   "metadata": {
    "deletable": false,
    "id": "2b687290"
   },
   "outputs": [
    {
     "data": {
      "text/html": [
       "<div>\n",
       "<style scoped>\n",
       "    .dataframe tbody tr th:only-of-type {\n",
       "        vertical-align: middle;\n",
       "    }\n",
       "\n",
       "    .dataframe tbody tr th {\n",
       "        vertical-align: top;\n",
       "    }\n",
       "\n",
       "    .dataframe thead th {\n",
       "        text-align: right;\n",
       "    }\n",
       "</style>\n",
       "<table border=\"1\" class=\"dataframe\">\n",
       "  <thead>\n",
       "    <tr style=\"text-align: right;\">\n",
       "      <th></th>\n",
       "      <th>Ненадёжные заёмщики</th>\n",
       "      <th>Всего заёмщиков</th>\n",
       "      <th>Доля невозвратов, %</th>\n",
       "    </tr>\n",
       "    <tr>\n",
       "      <th>purpose_category</th>\n",
       "      <th></th>\n",
       "      <th></th>\n",
       "      <th></th>\n",
       "    </tr>\n",
       "  </thead>\n",
       "  <tbody>\n",
       "    <tr>\n",
       "      <th>операции с недвижимостью</th>\n",
       "      <td>780</td>\n",
       "      <td>10751</td>\n",
       "      <td>7.3</td>\n",
       "    </tr>\n",
       "    <tr>\n",
       "      <th>проведение свадьбы</th>\n",
       "      <td>183</td>\n",
       "      <td>2313</td>\n",
       "      <td>7.9</td>\n",
       "    </tr>\n",
       "    <tr>\n",
       "      <th>операции с автомобилем</th>\n",
       "      <td>400</td>\n",
       "      <td>4279</td>\n",
       "      <td>9.3</td>\n",
       "    </tr>\n",
       "    <tr>\n",
       "      <th>получение образования</th>\n",
       "      <td>369</td>\n",
       "      <td>3988</td>\n",
       "      <td>9.3</td>\n",
       "    </tr>\n",
       "  </tbody>\n",
       "</table>\n",
       "</div>"
      ],
      "text/plain": [
       "                          Ненадёжные заёмщики  Всего заёмщиков  \\\n",
       "purpose_category                                                 \n",
       "операции с недвижимостью                  780            10751   \n",
       "проведение свадьбы                        183             2313   \n",
       "операции с автомобилем                    400             4279   \n",
       "получение образования                     369             3988   \n",
       "\n",
       "                          Доля невозвратов, %  \n",
       "purpose_category                               \n",
       "операции с недвижимостью                  7.3  \n",
       "проведение свадьбы                        7.9  \n",
       "операции с автомобилем                    9.3  \n",
       "получение образования                     9.3  "
      ]
     },
     "execution_count": 26,
     "metadata": {},
     "output_type": "execute_result"
    }
   ],
   "source": [
    "reliablity_coefficient('purpose_category')"
   ]
  },
  {
   "cell_type": "markdown",
   "id": "7c1498e7",
   "metadata": {
    "deletable": false,
    "id": "b4bb2ce6"
   },
   "source": [
    "**Вывод: Самые надёжные - кредиты в категории`\"операции с недвижимостью\"`, самые ненадёжные в категориях`\"получение образования\"`и`\"операции с автомобилем\"`.** "
   ]
  },
  {
   "cell_type": "markdown",
   "id": "45c9a198",
   "metadata": {
    "deletable": false,
    "editable": false,
    "id": "09c3ac4c"
   },
   "source": [
    "#### 3.5 Приведите возможные причины появления пропусков в исходных данных."
   ]
  },
  {
   "cell_type": "markdown",
   "id": "97505b30",
   "metadata": {
    "deletable": false,
    "id": "9da2ceda"
   },
   "source": [
    "*Ответ: Пропуски имеют три типа: полностью случайные, случайные и неслучайные. Пример неслучайного пропуска: человек регистрируется на сайте с помощью номера телефона, при этом указывать email не требуется. Случайный пропуск: попытка присвоить несуществующую категорию чему-либо. Полностью случайный пропуск: при заполнении ячейки произошёл сбой, который помешал корректной записи информации.* "
   ]
  },
  {
   "cell_type": "markdown",
   "id": "acd66094",
   "metadata": {
    "deletable": false,
    "editable": false,
    "id": "7b0487d6"
   },
   "source": [
    "#### 3.6 Объясните, почему заполнить пропуски медианным значением — лучшее решение для количественных переменных."
   ]
  },
  {
   "cell_type": "markdown",
   "id": "e3c5d313",
   "metadata": {
    "deletable": false,
    "id": "7ecf2b8e"
   },
   "source": [
    "*Ответ: Пропуски в количественных переменных лучше заполнять медианным значением потому что единичные значения могут значительно выбиваться из общего распределения значений и искажать результат анализа при использовании среднего.* "
   ]
  },
  {
   "cell_type": "markdown",
   "id": "0a038f70",
   "metadata": {
    "deletable": false,
    "editable": false,
    "id": "6db5255a"
   },
   "source": [
    "### Шаг 4: общий вывод."
   ]
  },
  {
   "cell_type": "markdown",
   "id": "6f1fd81e",
   "metadata": {
    "deletable": false,
    "id": "bad65432"
   },
   "source": [
    "В ходе исследования были проанализирована и обработана статистика о платёжеспособности клиентов банка.   \n",
    "На этапе предобработки удалены пропуски, обработаны аномальные значения, изменены соответствующие типы данных, обработаны дубликаты и категоризированы данные.  \n",
    "Затем было проведено исследование зависимотей в соответствии с целью проекта, а также сделаны выводы и рекомендации. \n",
    "\n",
    "**После проделанного исследования можно сделать следующие выводы:**\n",
    "1. Прослеживается обратная зависимоть между количеством детей и надёжностью заёмщика\n",
    "2. Самая низкая надежность у людей в категории \"Не женат / не замужем\", а самая высокая в категории \"вдовец/вдова\"\n",
    "3. Прослеживается прямая зависимость между уровнем среднего дохода и надёжностью заёмщика\n",
    "4. Кредиты с целью \"операции с недвижимостью\" - самые надёжные. Самые ненадёжные в категориях \"получение образования\" и \"операции с автомобилем\"\n",
    "**Рекомендации:**  \n",
    "1. Рекомендована проверка методов сбора информации об общем трудовом стаже и среднем доходе клиентов\n",
    "2. Рекомендовано использование параметров надёжности, использованных в исследовании для кредитного скоринга заёмщика \n",
    "3. Рекомендован более тщательный анализ платежеспособности при кредитном скоринге клиентов из категорий с недостаточным для анализа объёмом данных, а именно:\n",
    " - с количеством детей от трёх\n",
    " - со средним доходом менее 50 тыс. и более 1 млн."
   ]
  }
 ],
 "metadata": {
  "ExecuteTimeLog": [
   {
    "duration": 46,
    "start_time": "2022-10-20T11:17:02.282Z"
   },
   {
    "duration": 437,
    "start_time": "2022-10-20T11:17:33.848Z"
   },
   {
    "duration": 26,
    "start_time": "2022-10-20T11:17:34.459Z"
   },
   {
    "duration": 16,
    "start_time": "2022-10-20T11:17:34.730Z"
   },
   {
    "duration": 12,
    "start_time": "2022-10-20T11:17:35.601Z"
   },
   {
    "duration": 34,
    "start_time": "2022-10-20T11:17:36.165Z"
   },
   {
    "duration": 5,
    "start_time": "2022-10-20T11:17:36.276Z"
   },
   {
    "duration": 8,
    "start_time": "2022-10-20T11:17:36.352Z"
   },
   {
    "duration": 6,
    "start_time": "2022-10-20T11:17:36.464Z"
   },
   {
    "duration": 11,
    "start_time": "2022-10-20T11:17:36.541Z"
   },
   {
    "duration": 6,
    "start_time": "2022-10-20T11:17:36.611Z"
   },
   {
    "duration": 32,
    "start_time": "2022-10-20T11:17:36.723Z"
   },
   {
    "duration": 11,
    "start_time": "2022-10-20T11:17:36.798Z"
   },
   {
    "duration": 4,
    "start_time": "2022-10-20T11:17:36.909Z"
   },
   {
    "duration": 11,
    "start_time": "2022-10-20T11:17:38.037Z"
   },
   {
    "duration": 19,
    "start_time": "2022-10-20T11:17:38.456Z"
   },
   {
    "duration": 16,
    "start_time": "2022-10-20T11:17:38.708Z"
   },
   {
    "duration": 4,
    "start_time": "2022-10-20T11:17:39.425Z"
   },
   {
    "duration": 11,
    "start_time": "2022-10-20T11:17:39.590Z"
   },
   {
    "duration": 6,
    "start_time": "2022-10-20T11:17:40.429Z"
   },
   {
    "duration": 4,
    "start_time": "2022-10-20T11:17:42.237Z"
   },
   {
    "duration": 8,
    "start_time": "2022-10-20T11:17:42.642Z"
   },
   {
    "duration": 6,
    "start_time": "2022-10-20T11:17:45.210Z"
   },
   {
    "duration": 8,
    "start_time": "2022-10-20T11:19:42.357Z"
   },
   {
    "duration": 12,
    "start_time": "2022-10-20T11:20:51.844Z"
   },
   {
    "duration": 5,
    "start_time": "2022-10-20T11:21:02.234Z"
   },
   {
    "duration": 10,
    "start_time": "2022-10-20T11:21:05.554Z"
   },
   {
    "duration": 11,
    "start_time": "2022-10-20T11:21:26.249Z"
   },
   {
    "duration": 11,
    "start_time": "2022-10-20T11:21:40.885Z"
   },
   {
    "duration": 9,
    "start_time": "2022-10-20T11:21:49.503Z"
   },
   {
    "duration": 11,
    "start_time": "2022-10-20T11:21:57.975Z"
   },
   {
    "duration": 8,
    "start_time": "2022-10-20T11:22:04.664Z"
   },
   {
    "duration": 29,
    "start_time": "2022-10-20T11:22:46.559Z"
   },
   {
    "duration": 9,
    "start_time": "2022-10-20T11:23:11.681Z"
   },
   {
    "duration": 9,
    "start_time": "2022-10-20T11:23:24.179Z"
   },
   {
    "duration": 12,
    "start_time": "2022-10-20T11:23:50.420Z"
   },
   {
    "duration": 7,
    "start_time": "2022-10-20T11:24:00.974Z"
   },
   {
    "duration": 6,
    "start_time": "2022-10-20T11:24:18.547Z"
   },
   {
    "duration": 7,
    "start_time": "2022-10-20T11:24:23.153Z"
   },
   {
    "duration": 8,
    "start_time": "2022-10-20T11:24:31.847Z"
   },
   {
    "duration": 5,
    "start_time": "2022-10-20T11:24:58.589Z"
   },
   {
    "duration": 9,
    "start_time": "2022-10-20T11:27:18.564Z"
   },
   {
    "duration": 64,
    "start_time": "2022-10-20T11:29:05.112Z"
   },
   {
    "duration": 8,
    "start_time": "2022-10-20T11:30:25.540Z"
   },
   {
    "duration": 12,
    "start_time": "2022-10-20T11:39:47.095Z"
   },
   {
    "duration": 17,
    "start_time": "2022-10-20T11:41:35.944Z"
   },
   {
    "duration": 20,
    "start_time": "2022-10-20T11:41:51.659Z"
   },
   {
    "duration": 9,
    "start_time": "2022-10-20T11:42:14.148Z"
   },
   {
    "duration": 8,
    "start_time": "2022-10-20T11:42:48.239Z"
   },
   {
    "duration": 15,
    "start_time": "2022-10-20T11:43:06.651Z"
   },
   {
    "duration": 12,
    "start_time": "2022-10-20T11:43:09.346Z"
   },
   {
    "duration": 14,
    "start_time": "2022-10-20T11:43:17.524Z"
   },
   {
    "duration": 16,
    "start_time": "2022-10-20T11:43:35.912Z"
   },
   {
    "duration": 50,
    "start_time": "2022-10-20T11:47:08.441Z"
   },
   {
    "duration": 11,
    "start_time": "2022-10-20T11:47:31.461Z"
   },
   {
    "duration": 14,
    "start_time": "2022-10-20T11:47:58.109Z"
   },
   {
    "duration": 10,
    "start_time": "2022-10-20T11:48:41.053Z"
   },
   {
    "duration": 12,
    "start_time": "2022-10-20T11:48:53.943Z"
   },
   {
    "duration": 20,
    "start_time": "2022-10-20T11:49:32.261Z"
   },
   {
    "duration": 972,
    "start_time": "2022-10-20T11:50:30.511Z"
   },
   {
    "duration": 381,
    "start_time": "2022-10-20T11:50:50.374Z"
   },
   {
    "duration": 21,
    "start_time": "2022-10-20T11:51:04.188Z"
   },
   {
    "duration": 901,
    "start_time": "2022-10-20T11:51:13.408Z"
   },
   {
    "duration": 13,
    "start_time": "2022-10-20T11:51:24.897Z"
   },
   {
    "duration": 23,
    "start_time": "2022-10-20T11:52:38.690Z"
   },
   {
    "duration": 11,
    "start_time": "2022-10-20T11:53:45.994Z"
   },
   {
    "duration": 16,
    "start_time": "2022-10-20T11:54:15.965Z"
   },
   {
    "duration": 17,
    "start_time": "2022-10-20T11:54:30.976Z"
   },
   {
    "duration": 13,
    "start_time": "2022-10-20T11:54:49.673Z"
   },
   {
    "duration": 20,
    "start_time": "2022-10-20T11:56:26.277Z"
   },
   {
    "duration": 12,
    "start_time": "2022-10-20T11:57:16.171Z"
   },
   {
    "duration": 16,
    "start_time": "2022-10-20T12:06:24.893Z"
   },
   {
    "duration": 11,
    "start_time": "2022-10-20T12:06:32.058Z"
   },
   {
    "duration": 12,
    "start_time": "2022-10-20T12:06:55.664Z"
   },
   {
    "duration": 16,
    "start_time": "2022-10-20T12:07:13.086Z"
   },
   {
    "duration": 7,
    "start_time": "2022-10-20T12:08:41.434Z"
   },
   {
    "duration": 16,
    "start_time": "2022-10-20T12:12:15.010Z"
   },
   {
    "duration": 10,
    "start_time": "2022-10-20T12:13:17.611Z"
   },
   {
    "duration": 8,
    "start_time": "2022-10-20T12:13:37.680Z"
   },
   {
    "duration": 8,
    "start_time": "2022-10-20T12:15:25.623Z"
   },
   {
    "duration": 9,
    "start_time": "2022-10-20T12:25:02.180Z"
   },
   {
    "duration": 8,
    "start_time": "2022-10-20T12:25:40.667Z"
   },
   {
    "duration": 8,
    "start_time": "2022-10-20T12:25:55.089Z"
   },
   {
    "duration": 18,
    "start_time": "2022-10-20T12:28:50.814Z"
   },
   {
    "duration": 16,
    "start_time": "2022-10-20T12:50:19.394Z"
   },
   {
    "duration": 13,
    "start_time": "2022-10-20T13:04:58.902Z"
   },
   {
    "duration": 5,
    "start_time": "2022-10-20T13:09:14.335Z"
   },
   {
    "duration": 108,
    "start_time": "2022-10-20T13:10:10.212Z"
   },
   {
    "duration": 3,
    "start_time": "2022-10-20T13:10:47.712Z"
   },
   {
    "duration": 48,
    "start_time": "2022-10-20T13:10:49.809Z"
   },
   {
    "duration": 4,
    "start_time": "2022-10-20T13:11:26.339Z"
   },
   {
    "duration": 316,
    "start_time": "2022-10-20T13:11:27.853Z"
   },
   {
    "duration": 290,
    "start_time": "2022-10-20T13:12:17.740Z"
   },
   {
    "duration": 18,
    "start_time": "2022-10-20T13:13:57.263Z"
   },
   {
    "duration": 16,
    "start_time": "2022-10-20T13:14:15.616Z"
   },
   {
    "duration": 342,
    "start_time": "2022-10-20T13:14:44.187Z"
   },
   {
    "duration": 300,
    "start_time": "2022-10-20T13:14:51.112Z"
   },
   {
    "duration": 366,
    "start_time": "2022-10-20T13:15:16.215Z"
   },
   {
    "duration": 17,
    "start_time": "2022-10-20T13:16:21.512Z"
   },
   {
    "duration": 12,
    "start_time": "2022-10-20T13:16:31.381Z"
   },
   {
    "duration": 390,
    "start_time": "2022-10-20T13:16:40.888Z"
   },
   {
    "duration": 12,
    "start_time": "2022-10-20T13:16:53.099Z"
   },
   {
    "duration": 3,
    "start_time": "2022-10-20T13:17:15.924Z"
   },
   {
    "duration": 4,
    "start_time": "2022-10-20T13:17:32.192Z"
   },
   {
    "duration": 16,
    "start_time": "2022-10-20T13:17:32.686Z"
   },
   {
    "duration": 4,
    "start_time": "2022-10-20T13:18:31.619Z"
   },
   {
    "duration": 4,
    "start_time": "2022-10-20T13:22:53.110Z"
   },
   {
    "duration": 25,
    "start_time": "2022-10-20T13:22:57.268Z"
   },
   {
    "duration": 4,
    "start_time": "2022-10-20T13:23:16.210Z"
   },
   {
    "duration": 4,
    "start_time": "2022-10-20T13:23:51.029Z"
   },
   {
    "duration": 1045,
    "start_time": "2022-10-20T13:23:52.834Z"
   },
   {
    "duration": 3,
    "start_time": "2022-10-20T13:24:33.070Z"
   },
   {
    "duration": 17,
    "start_time": "2022-10-20T13:24:33.788Z"
   },
   {
    "duration": 84,
    "start_time": "2022-10-20T13:25:52.050Z"
   },
   {
    "duration": 19,
    "start_time": "2022-10-20T13:25:52.711Z"
   },
   {
    "duration": 7,
    "start_time": "2022-10-20T13:26:24.949Z"
   },
   {
    "duration": 4,
    "start_time": "2022-10-20T13:27:04.144Z"
   },
   {
    "duration": 13,
    "start_time": "2022-10-20T13:27:04.639Z"
   },
   {
    "duration": 4,
    "start_time": "2022-10-20T13:27:30.424Z"
   },
   {
    "duration": 14,
    "start_time": "2022-10-20T13:27:31.055Z"
   },
   {
    "duration": 3,
    "start_time": "2022-10-20T13:28:09.479Z"
   },
   {
    "duration": 12,
    "start_time": "2022-10-20T13:28:10.037Z"
   },
   {
    "duration": 4,
    "start_time": "2022-10-20T13:28:24.224Z"
   },
   {
    "duration": 13,
    "start_time": "2022-10-20T13:28:24.483Z"
   },
   {
    "duration": 4,
    "start_time": "2022-10-20T13:28:49.902Z"
   },
   {
    "duration": 12,
    "start_time": "2022-10-20T13:28:50.339Z"
   },
   {
    "duration": 3,
    "start_time": "2022-10-20T13:28:57.933Z"
   },
   {
    "duration": 11,
    "start_time": "2022-10-20T13:28:58.252Z"
   },
   {
    "duration": 3,
    "start_time": "2022-10-20T13:30:18.466Z"
   },
   {
    "duration": 5,
    "start_time": "2022-10-20T13:30:19.461Z"
   },
   {
    "duration": 3,
    "start_time": "2022-10-20T13:31:09.164Z"
   },
   {
    "duration": 1445,
    "start_time": "2022-10-20T13:31:09.561Z"
   },
   {
    "duration": 1710,
    "start_time": "2022-10-20T13:32:13.958Z"
   },
   {
    "duration": 3,
    "start_time": "2022-10-20T13:32:44.365Z"
   },
   {
    "duration": 8,
    "start_time": "2022-10-20T13:33:26.907Z"
   },
   {
    "duration": 44,
    "start_time": "2022-10-20T13:33:31.260Z"
   },
   {
    "duration": 694,
    "start_time": "2022-10-20T13:33:47.987Z"
   },
   {
    "duration": 23,
    "start_time": "2022-10-20T13:33:48.682Z"
   },
   {
    "duration": 15,
    "start_time": "2022-10-20T13:33:48.706Z"
   },
   {
    "duration": 10,
    "start_time": "2022-10-20T13:33:48.774Z"
   },
   {
    "duration": 45,
    "start_time": "2022-10-20T13:33:48.853Z"
   },
   {
    "duration": 4,
    "start_time": "2022-10-20T13:33:48.964Z"
   },
   {
    "duration": 8,
    "start_time": "2022-10-20T13:33:49.036Z"
   },
   {
    "duration": 5,
    "start_time": "2022-10-20T13:33:49.146Z"
   },
   {
    "duration": 8,
    "start_time": "2022-10-20T13:33:49.224Z"
   },
   {
    "duration": 5,
    "start_time": "2022-10-20T13:33:49.296Z"
   },
   {
    "duration": 32,
    "start_time": "2022-10-20T13:33:49.411Z"
   },
   {
    "duration": 12,
    "start_time": "2022-10-20T13:33:50.039Z"
   },
   {
    "duration": 5,
    "start_time": "2022-10-20T13:33:50.763Z"
   },
   {
    "duration": 11,
    "start_time": "2022-10-20T13:33:51.626Z"
   },
   {
    "duration": 23,
    "start_time": "2022-10-20T13:33:52.182Z"
   },
   {
    "duration": 20,
    "start_time": "2022-10-20T13:33:52.390Z"
   },
   {
    "duration": 4,
    "start_time": "2022-10-20T13:33:53.140Z"
   },
   {
    "duration": 10,
    "start_time": "2022-10-20T13:33:53.566Z"
   },
   {
    "duration": 7,
    "start_time": "2022-10-20T13:33:54.224Z"
   },
   {
    "duration": 3,
    "start_time": "2022-10-20T13:33:54.874Z"
   },
   {
    "duration": 9,
    "start_time": "2022-10-20T13:33:55.263Z"
   },
   {
    "duration": 3,
    "start_time": "2022-10-20T13:33:57.442Z"
   },
   {
    "duration": 717,
    "start_time": "2022-10-20T13:34:42.995Z"
   },
   {
    "duration": 24,
    "start_time": "2022-10-20T13:34:43.714Z"
   },
   {
    "duration": 15,
    "start_time": "2022-10-20T13:34:43.740Z"
   },
   {
    "duration": 11,
    "start_time": "2022-10-20T13:34:43.757Z"
   },
   {
    "duration": 51,
    "start_time": "2022-10-20T13:34:43.769Z"
   },
   {
    "duration": 3,
    "start_time": "2022-10-20T13:34:43.821Z"
   },
   {
    "duration": 11,
    "start_time": "2022-10-20T13:34:43.826Z"
   },
   {
    "duration": 5,
    "start_time": "2022-10-20T13:34:43.838Z"
   },
   {
    "duration": 8,
    "start_time": "2022-10-20T13:34:43.844Z"
   },
   {
    "duration": 37,
    "start_time": "2022-10-20T13:34:43.854Z"
   },
   {
    "duration": 33,
    "start_time": "2022-10-20T13:34:43.924Z"
   },
   {
    "duration": 10,
    "start_time": "2022-10-20T13:34:44.003Z"
   },
   {
    "duration": 4,
    "start_time": "2022-10-20T13:34:44.112Z"
   },
   {
    "duration": 11,
    "start_time": "2022-10-20T13:34:44.226Z"
   },
   {
    "duration": 20,
    "start_time": "2022-10-20T13:34:44.297Z"
   },
   {
    "duration": 18,
    "start_time": "2022-10-20T13:34:44.333Z"
   },
   {
    "duration": 4,
    "start_time": "2022-10-20T13:34:45.526Z"
   },
   {
    "duration": 11,
    "start_time": "2022-10-20T13:34:45.701Z"
   },
   {
    "duration": 6,
    "start_time": "2022-10-20T13:34:46.270Z"
   },
   {
    "duration": 3,
    "start_time": "2022-10-20T13:34:47.489Z"
   },
   {
    "duration": 8,
    "start_time": "2022-10-20T13:34:47.680Z"
   },
   {
    "duration": 3,
    "start_time": "2022-10-20T13:34:49.785Z"
   },
   {
    "duration": 525,
    "start_time": "2022-10-20T13:34:50.325Z"
   },
   {
    "duration": 3,
    "start_time": "2022-10-20T13:35:18.005Z"
   },
   {
    "duration": 20966,
    "start_time": "2022-10-20T13:35:18.610Z"
   },
   {
    "duration": 5,
    "start_time": "2022-10-20T13:37:42.747Z"
   },
   {
    "duration": 9,
    "start_time": "2022-10-20T13:38:10.654Z"
   },
   {
    "duration": 2,
    "start_time": "2022-10-20T13:38:12.960Z"
   },
   {
    "duration": 8,
    "start_time": "2022-10-20T13:38:19.953Z"
   },
   {
    "duration": 7,
    "start_time": "2022-10-20T13:38:47.925Z"
   },
   {
    "duration": 9,
    "start_time": "2022-10-20T13:39:17.845Z"
   },
   {
    "duration": 16,
    "start_time": "2022-10-20T13:39:50.452Z"
   },
   {
    "duration": 12,
    "start_time": "2022-10-20T13:40:12.585Z"
   },
   {
    "duration": 9,
    "start_time": "2022-10-20T13:40:58.812Z"
   },
   {
    "duration": 14,
    "start_time": "2022-10-20T13:41:08.856Z"
   },
   {
    "duration": 12,
    "start_time": "2022-10-20T13:41:24.992Z"
   },
   {
    "duration": 69,
    "start_time": "2022-10-20T13:42:42.364Z"
   },
   {
    "duration": 16,
    "start_time": "2022-10-20T13:43:03.781Z"
   },
   {
    "duration": 4,
    "start_time": "2022-10-20T13:44:07.354Z"
   },
   {
    "duration": 353,
    "start_time": "2022-10-20T13:44:25.335Z"
   },
   {
    "duration": 3,
    "start_time": "2022-10-20T13:44:40.070Z"
   },
   {
    "duration": 9,
    "start_time": "2022-10-20T13:45:20.247Z"
   },
   {
    "duration": 11,
    "start_time": "2022-10-20T13:45:34.330Z"
   },
   {
    "duration": 14,
    "start_time": "2022-10-20T13:45:44.012Z"
   },
   {
    "duration": 18,
    "start_time": "2022-10-20T13:45:54.483Z"
   },
   {
    "duration": 20,
    "start_time": "2022-10-20T13:46:44.347Z"
   },
   {
    "duration": 21,
    "start_time": "2022-10-20T13:47:23.310Z"
   },
   {
    "duration": 17,
    "start_time": "2022-10-20T13:47:42.734Z"
   },
   {
    "duration": 22,
    "start_time": "2022-10-20T13:47:53.322Z"
   },
   {
    "duration": 4,
    "start_time": "2022-10-20T13:48:56.915Z"
   },
   {
    "duration": 337,
    "start_time": "2022-10-20T13:49:01.755Z"
   },
   {
    "duration": 15,
    "start_time": "2022-10-20T13:49:58.665Z"
   },
   {
    "duration": 7,
    "start_time": "2022-10-20T13:53:41.633Z"
   },
   {
    "duration": 138,
    "start_time": "2022-10-20T13:53:55.402Z"
   },
   {
    "duration": 12,
    "start_time": "2022-10-21T03:46:44.169Z"
   },
   {
    "duration": 45,
    "start_time": "2022-10-21T03:47:03.059Z"
   },
   {
    "duration": 5,
    "start_time": "2022-10-21T03:47:16.708Z"
   },
   {
    "duration": 12,
    "start_time": "2022-10-21T03:47:17.225Z"
   },
   {
    "duration": 77,
    "start_time": "2022-10-21T03:48:02.568Z"
   },
   {
    "duration": 5,
    "start_time": "2022-10-21T03:48:08.572Z"
   },
   {
    "duration": 857,
    "start_time": "2022-10-21T03:49:36.300Z"
   },
   {
    "duration": 26,
    "start_time": "2022-10-21T03:49:37.159Z"
   },
   {
    "duration": 20,
    "start_time": "2022-10-21T03:49:37.187Z"
   },
   {
    "duration": 22,
    "start_time": "2022-10-21T03:49:37.210Z"
   },
   {
    "duration": 44,
    "start_time": "2022-10-21T03:49:37.234Z"
   },
   {
    "duration": 5,
    "start_time": "2022-10-21T03:49:37.280Z"
   },
   {
    "duration": 38,
    "start_time": "2022-10-21T03:49:37.287Z"
   },
   {
    "duration": 7,
    "start_time": "2022-10-21T03:49:37.328Z"
   },
   {
    "duration": 17,
    "start_time": "2022-10-21T03:49:37.338Z"
   },
   {
    "duration": 6,
    "start_time": "2022-10-21T03:49:37.359Z"
   },
   {
    "duration": 36,
    "start_time": "2022-10-21T03:49:38.282Z"
   },
   {
    "duration": 18,
    "start_time": "2022-10-21T03:49:38.751Z"
   },
   {
    "duration": 6,
    "start_time": "2022-10-21T03:49:39.866Z"
   },
   {
    "duration": 14,
    "start_time": "2022-10-21T03:49:40.425Z"
   },
   {
    "duration": 32,
    "start_time": "2022-10-21T03:49:40.835Z"
   },
   {
    "duration": 27,
    "start_time": "2022-10-21T03:49:41.132Z"
   },
   {
    "duration": 4,
    "start_time": "2022-10-21T03:49:43.211Z"
   },
   {
    "duration": 18,
    "start_time": "2022-10-21T03:49:43.642Z"
   },
   {
    "duration": 6,
    "start_time": "2022-10-21T03:49:45.869Z"
   },
   {
    "duration": 4,
    "start_time": "2022-10-21T03:49:47.534Z"
   },
   {
    "duration": 12,
    "start_time": "2022-10-21T03:49:48.837Z"
   },
   {
    "duration": 6,
    "start_time": "2022-10-21T03:50:02.022Z"
   },
   {
    "duration": 18,
    "start_time": "2022-10-21T03:50:02.685Z"
   },
   {
    "duration": 16,
    "start_time": "2022-10-21T03:50:09.500Z"
   },
   {
    "duration": 6,
    "start_time": "2022-10-21T03:51:00.448Z"
   },
   {
    "duration": 17,
    "start_time": "2022-10-21T03:51:00.974Z"
   },
   {
    "duration": 4,
    "start_time": "2022-10-21T03:55:23.883Z"
   },
   {
    "duration": 18,
    "start_time": "2022-10-21T03:55:26.089Z"
   },
   {
    "duration": 4,
    "start_time": "2022-10-21T03:55:46.914Z"
   },
   {
    "duration": 18,
    "start_time": "2022-10-21T03:55:47.318Z"
   },
   {
    "duration": 4,
    "start_time": "2022-10-21T03:55:55.611Z"
   },
   {
    "duration": 25,
    "start_time": "2022-10-21T03:55:55.983Z"
   },
   {
    "duration": 6,
    "start_time": "2022-10-21T03:56:20.363Z"
   },
   {
    "duration": 18,
    "start_time": "2022-10-21T03:56:20.666Z"
   },
   {
    "duration": 14,
    "start_time": "2022-10-21T04:01:32.732Z"
   },
   {
    "duration": 4,
    "start_time": "2022-10-21T04:13:48.572Z"
   },
   {
    "duration": 16,
    "start_time": "2022-10-21T04:13:50.038Z"
   },
   {
    "duration": 15,
    "start_time": "2022-10-21T04:17:17.768Z"
   },
   {
    "duration": 14,
    "start_time": "2022-10-21T04:23:37.963Z"
   },
   {
    "duration": 15,
    "start_time": "2022-10-21T04:27:22.793Z"
   },
   {
    "duration": 8,
    "start_time": "2022-10-21T04:32:10.394Z"
   },
   {
    "duration": 10,
    "start_time": "2022-10-21T04:34:25.482Z"
   },
   {
    "duration": 438,
    "start_time": "2022-10-21T04:36:02.857Z"
   },
   {
    "duration": 23,
    "start_time": "2022-10-21T04:36:03.297Z"
   },
   {
    "duration": 16,
    "start_time": "2022-10-21T04:36:03.321Z"
   },
   {
    "duration": 9,
    "start_time": "2022-10-21T04:36:03.339Z"
   },
   {
    "duration": 32,
    "start_time": "2022-10-21T04:36:03.350Z"
   },
   {
    "duration": 4,
    "start_time": "2022-10-21T04:36:03.383Z"
   },
   {
    "duration": 10,
    "start_time": "2022-10-21T04:36:03.388Z"
   },
   {
    "duration": 25,
    "start_time": "2022-10-21T04:36:03.400Z"
   },
   {
    "duration": 9,
    "start_time": "2022-10-21T04:36:03.428Z"
   },
   {
    "duration": 4,
    "start_time": "2022-10-21T04:36:03.440Z"
   },
   {
    "duration": 34,
    "start_time": "2022-10-21T04:36:03.446Z"
   },
   {
    "duration": 42,
    "start_time": "2022-10-21T04:36:03.482Z"
   },
   {
    "duration": 4,
    "start_time": "2022-10-21T04:36:03.525Z"
   },
   {
    "duration": 13,
    "start_time": "2022-10-21T04:36:03.530Z"
   },
   {
    "duration": 20,
    "start_time": "2022-10-21T04:36:03.544Z"
   },
   {
    "duration": 18,
    "start_time": "2022-10-21T04:36:03.565Z"
   },
   {
    "duration": 3,
    "start_time": "2022-10-21T04:36:03.585Z"
   },
   {
    "duration": 36,
    "start_time": "2022-10-21T04:36:03.589Z"
   },
   {
    "duration": 6,
    "start_time": "2022-10-21T04:36:03.627Z"
   },
   {
    "duration": 3,
    "start_time": "2022-10-21T04:36:03.635Z"
   },
   {
    "duration": 10,
    "start_time": "2022-10-21T04:36:03.639Z"
   },
   {
    "duration": 4,
    "start_time": "2022-10-21T04:36:03.650Z"
   },
   {
    "duration": 15,
    "start_time": "2022-10-21T04:36:03.655Z"
   },
   {
    "duration": 13,
    "start_time": "2022-10-21T04:36:03.671Z"
   },
   {
    "duration": 47,
    "start_time": "2022-10-21T04:36:03.685Z"
   },
   {
    "duration": 16,
    "start_time": "2022-10-21T04:36:03.734Z"
   },
   {
    "duration": 483,
    "start_time": "2022-10-21T04:41:31.119Z"
   },
   {
    "duration": 20,
    "start_time": "2022-10-21T04:41:31.604Z"
   },
   {
    "duration": 14,
    "start_time": "2022-10-21T04:41:31.626Z"
   },
   {
    "duration": 16,
    "start_time": "2022-10-21T04:41:31.644Z"
   },
   {
    "duration": 32,
    "start_time": "2022-10-21T04:41:31.662Z"
   },
   {
    "duration": 4,
    "start_time": "2022-10-21T04:41:31.695Z"
   },
   {
    "duration": 8,
    "start_time": "2022-10-21T04:41:31.723Z"
   },
   {
    "duration": 4,
    "start_time": "2022-10-21T04:41:31.732Z"
   },
   {
    "duration": 9,
    "start_time": "2022-10-21T04:41:31.738Z"
   },
   {
    "duration": 4,
    "start_time": "2022-10-21T04:41:31.750Z"
   },
   {
    "duration": 37,
    "start_time": "2022-10-21T04:41:31.755Z"
   },
   {
    "duration": 43,
    "start_time": "2022-10-21T04:41:31.795Z"
   },
   {
    "duration": 4,
    "start_time": "2022-10-21T04:41:31.840Z"
   },
   {
    "duration": 14,
    "start_time": "2022-10-21T04:41:31.846Z"
   },
   {
    "duration": 26,
    "start_time": "2022-10-21T04:41:31.862Z"
   },
   {
    "duration": 50,
    "start_time": "2022-10-21T04:41:31.890Z"
   },
   {
    "duration": 5,
    "start_time": "2022-10-21T04:41:31.942Z"
   },
   {
    "duration": 20,
    "start_time": "2022-10-21T04:41:31.949Z"
   },
   {
    "duration": 13,
    "start_time": "2022-10-21T04:41:31.972Z"
   },
   {
    "duration": 4,
    "start_time": "2022-10-21T04:41:31.987Z"
   },
   {
    "duration": 34,
    "start_time": "2022-10-21T04:41:31.993Z"
   },
   {
    "duration": 5,
    "start_time": "2022-10-21T04:41:32.029Z"
   },
   {
    "duration": 18,
    "start_time": "2022-10-21T04:41:32.036Z"
   },
   {
    "duration": 20,
    "start_time": "2022-10-21T04:41:32.056Z"
   },
   {
    "duration": 46,
    "start_time": "2022-10-21T04:41:32.078Z"
   },
   {
    "duration": 16,
    "start_time": "2022-10-21T04:41:32.126Z"
   },
   {
    "duration": 445,
    "start_time": "2022-10-21T06:22:20.974Z"
   },
   {
    "duration": 22,
    "start_time": "2022-10-21T06:22:21.420Z"
   },
   {
    "duration": 16,
    "start_time": "2022-10-21T06:22:21.443Z"
   },
   {
    "duration": 9,
    "start_time": "2022-10-21T06:22:21.461Z"
   },
   {
    "duration": 55,
    "start_time": "2022-10-21T06:22:21.472Z"
   },
   {
    "duration": 3,
    "start_time": "2022-10-21T06:22:21.529Z"
   },
   {
    "duration": 13,
    "start_time": "2022-10-21T06:22:21.535Z"
   },
   {
    "duration": 8,
    "start_time": "2022-10-21T06:22:21.549Z"
   },
   {
    "duration": 8,
    "start_time": "2022-10-21T06:22:21.558Z"
   },
   {
    "duration": 15,
    "start_time": "2022-10-21T06:22:21.569Z"
   },
   {
    "duration": 58,
    "start_time": "2022-10-21T06:22:21.586Z"
   },
   {
    "duration": 11,
    "start_time": "2022-10-21T06:22:21.645Z"
   },
   {
    "duration": 6,
    "start_time": "2022-10-21T06:22:21.657Z"
   },
   {
    "duration": 25,
    "start_time": "2022-10-21T06:22:21.664Z"
   },
   {
    "duration": 25,
    "start_time": "2022-10-21T06:22:21.691Z"
   },
   {
    "duration": 26,
    "start_time": "2022-10-21T06:22:21.717Z"
   },
   {
    "duration": 4,
    "start_time": "2022-10-21T06:22:21.745Z"
   },
   {
    "duration": 28,
    "start_time": "2022-10-21T06:22:21.751Z"
   },
   {
    "duration": 13,
    "start_time": "2022-10-21T06:22:21.780Z"
   },
   {
    "duration": 7,
    "start_time": "2022-10-21T06:22:21.794Z"
   },
   {
    "duration": 10,
    "start_time": "2022-10-21T06:22:21.803Z"
   },
   {
    "duration": 7,
    "start_time": "2022-10-21T06:22:21.815Z"
   },
   {
    "duration": 30,
    "start_time": "2022-10-21T06:22:21.824Z"
   },
   {
    "duration": 28,
    "start_time": "2022-10-21T06:22:21.855Z"
   },
   {
    "duration": 16,
    "start_time": "2022-10-21T06:22:21.885Z"
   },
   {
    "duration": 16,
    "start_time": "2022-10-21T06:22:21.902Z"
   },
   {
    "duration": 10,
    "start_time": "2022-10-21T08:47:10.670Z"
   },
   {
    "duration": 8,
    "start_time": "2022-10-21T08:47:13.206Z"
   },
   {
    "duration": 4,
    "start_time": "2022-10-21T08:47:31.442Z"
   },
   {
    "duration": 4,
    "start_time": "2022-10-21T08:47:32.653Z"
   },
   {
    "duration": 473,
    "start_time": "2022-10-21T08:47:57.355Z"
   },
   {
    "duration": 21,
    "start_time": "2022-10-21T08:47:57.830Z"
   },
   {
    "duration": 14,
    "start_time": "2022-10-21T08:47:57.853Z"
   },
   {
    "duration": 9,
    "start_time": "2022-10-21T08:47:57.869Z"
   },
   {
    "duration": 44,
    "start_time": "2022-10-21T08:47:57.879Z"
   },
   {
    "duration": 3,
    "start_time": "2022-10-21T08:47:57.925Z"
   },
   {
    "duration": 10,
    "start_time": "2022-10-21T08:47:57.930Z"
   },
   {
    "duration": 5,
    "start_time": "2022-10-21T08:47:57.941Z"
   },
   {
    "duration": 10,
    "start_time": "2022-10-21T08:47:57.947Z"
   },
   {
    "duration": 3,
    "start_time": "2022-10-21T08:47:57.960Z"
   },
   {
    "duration": 55,
    "start_time": "2022-10-21T08:47:57.965Z"
   },
   {
    "duration": 12,
    "start_time": "2022-10-21T08:47:58.022Z"
   },
   {
    "duration": 8,
    "start_time": "2022-10-21T08:47:58.036Z"
   },
   {
    "duration": 19,
    "start_time": "2022-10-21T08:47:58.045Z"
   },
   {
    "duration": 44,
    "start_time": "2022-10-21T08:47:58.066Z"
   },
   {
    "duration": 17,
    "start_time": "2022-10-21T08:47:58.111Z"
   },
   {
    "duration": 4,
    "start_time": "2022-10-21T08:47:58.129Z"
   },
   {
    "duration": 20,
    "start_time": "2022-10-21T08:47:58.134Z"
   },
   {
    "duration": 8,
    "start_time": "2022-10-21T08:47:58.156Z"
   },
   {
    "duration": 4,
    "start_time": "2022-10-21T08:47:58.165Z"
   },
   {
    "duration": 10,
    "start_time": "2022-10-21T08:47:58.171Z"
   },
   {
    "duration": 4,
    "start_time": "2022-10-21T08:47:58.182Z"
   },
   {
    "duration": 35,
    "start_time": "2022-10-21T08:47:58.187Z"
   },
   {
    "duration": 15,
    "start_time": "2022-10-21T08:47:58.223Z"
   },
   {
    "duration": 12,
    "start_time": "2022-10-21T08:47:58.239Z"
   },
   {
    "duration": 14,
    "start_time": "2022-10-21T08:47:58.253Z"
   },
   {
    "duration": 427,
    "start_time": "2022-10-21T08:48:28.665Z"
   },
   {
    "duration": 21,
    "start_time": "2022-10-21T08:48:29.094Z"
   },
   {
    "duration": 40,
    "start_time": "2022-10-21T08:48:29.117Z"
   },
   {
    "duration": 25,
    "start_time": "2022-10-21T08:48:29.159Z"
   },
   {
    "duration": 56,
    "start_time": "2022-10-21T08:48:29.185Z"
   },
   {
    "duration": 3,
    "start_time": "2022-10-21T08:48:29.243Z"
   },
   {
    "duration": 38,
    "start_time": "2022-10-21T08:48:29.247Z"
   },
   {
    "duration": 26,
    "start_time": "2022-10-21T08:48:29.286Z"
   },
   {
    "duration": 40,
    "start_time": "2022-10-21T08:48:29.314Z"
   },
   {
    "duration": 26,
    "start_time": "2022-10-21T08:48:29.357Z"
   },
   {
    "duration": 58,
    "start_time": "2022-10-21T08:48:29.385Z"
   },
   {
    "duration": 10,
    "start_time": "2022-10-21T08:48:29.444Z"
   },
   {
    "duration": 4,
    "start_time": "2022-10-21T08:48:29.456Z"
   },
   {
    "duration": 12,
    "start_time": "2022-10-21T08:48:29.462Z"
   },
   {
    "duration": 36,
    "start_time": "2022-10-21T08:48:29.475Z"
   },
   {
    "duration": 18,
    "start_time": "2022-10-21T08:48:29.513Z"
   },
   {
    "duration": 5,
    "start_time": "2022-10-21T08:48:29.532Z"
   },
   {
    "duration": 10,
    "start_time": "2022-10-21T08:48:29.538Z"
   },
   {
    "duration": 5,
    "start_time": "2022-10-21T08:48:29.550Z"
   },
   {
    "duration": 3,
    "start_time": "2022-10-21T08:48:29.557Z"
   },
   {
    "duration": 18,
    "start_time": "2022-10-21T08:48:29.561Z"
   },
   {
    "duration": 28,
    "start_time": "2022-10-21T08:48:29.581Z"
   },
   {
    "duration": 16,
    "start_time": "2022-10-21T08:48:29.611Z"
   },
   {
    "duration": 15,
    "start_time": "2022-10-21T08:48:29.628Z"
   },
   {
    "duration": 12,
    "start_time": "2022-10-21T08:48:29.644Z"
   },
   {
    "duration": 14,
    "start_time": "2022-10-21T08:48:29.658Z"
   },
   {
    "duration": 498,
    "start_time": "2022-10-21T10:26:47.587Z"
   },
   {
    "duration": 23,
    "start_time": "2022-10-21T10:26:48.087Z"
   },
   {
    "duration": 50,
    "start_time": "2022-10-21T10:26:48.112Z"
   },
   {
    "duration": 54,
    "start_time": "2022-10-21T10:26:48.164Z"
   },
   {
    "duration": 76,
    "start_time": "2022-10-21T10:26:48.222Z"
   },
   {
    "duration": 4,
    "start_time": "2022-10-21T10:26:48.300Z"
   },
   {
    "duration": 63,
    "start_time": "2022-10-21T10:26:48.306Z"
   },
   {
    "duration": 46,
    "start_time": "2022-10-21T10:26:48.371Z"
   },
   {
    "duration": 71,
    "start_time": "2022-10-21T10:26:48.419Z"
   },
   {
    "duration": 40,
    "start_time": "2022-10-21T10:26:48.492Z"
   },
   {
    "duration": 66,
    "start_time": "2022-10-21T10:26:48.533Z"
   },
   {
    "duration": 57,
    "start_time": "2022-10-21T10:26:48.601Z"
   },
   {
    "duration": 40,
    "start_time": "2022-10-21T10:26:48.660Z"
   },
   {
    "duration": 39,
    "start_time": "2022-10-21T10:26:48.703Z"
   },
   {
    "duration": 64,
    "start_time": "2022-10-21T10:26:48.744Z"
   },
   {
    "duration": 27,
    "start_time": "2022-10-21T10:26:48.810Z"
   },
   {
    "duration": 42,
    "start_time": "2022-10-21T10:26:48.839Z"
   },
   {
    "duration": 50,
    "start_time": "2022-10-21T10:26:48.882Z"
   },
   {
    "duration": 25,
    "start_time": "2022-10-21T10:26:48.934Z"
   },
   {
    "duration": 37,
    "start_time": "2022-10-21T10:26:48.961Z"
   },
   {
    "duration": 31,
    "start_time": "2022-10-21T10:26:49.000Z"
   },
   {
    "duration": 23,
    "start_time": "2022-10-21T10:26:49.033Z"
   },
   {
    "duration": 63,
    "start_time": "2022-10-21T10:26:49.058Z"
   },
   {
    "duration": 57,
    "start_time": "2022-10-21T10:26:49.123Z"
   },
   {
    "duration": 49,
    "start_time": "2022-10-21T10:26:49.181Z"
   },
   {
    "duration": 26,
    "start_time": "2022-10-21T10:26:49.232Z"
   },
   {
    "duration": 784,
    "start_time": "2022-10-22T07:35:45.271Z"
   }
  ],
  "colab": {
   "name": "dpp_template_part2.ipynb",
   "provenance": []
  },
  "kernelspec": {
   "display_name": "Python 3 (ipykernel)",
   "language": "python",
   "name": "python3"
  },
  "language_info": {
   "codemirror_mode": {
    "name": "ipython",
    "version": 3
   },
   "file_extension": ".py",
   "mimetype": "text/x-python",
   "name": "python",
   "nbconvert_exporter": "python",
   "pygments_lexer": "ipython3",
   "version": "3.9.12"
  },
  "toc": {
   "base_numbering": 1,
   "nav_menu": {},
   "number_sections": true,
   "sideBar": true,
   "skip_h1_title": true,
   "title_cell": "Table of Contents",
   "title_sidebar": "Contents",
   "toc_cell": false,
   "toc_position": {},
   "toc_section_display": true,
   "toc_window_display": true
  }
 },
 "nbformat": 4,
 "nbformat_minor": 5
}
