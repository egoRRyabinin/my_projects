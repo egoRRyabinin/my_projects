{
 "cells": [
  {
   "cell_type": "markdown",
   "metadata": {},
   "source": [
    "# Исследование рынка недвижимости"
   ]
  },
  {
   "cell_type": "markdown",
   "metadata": {},
   "source": [
    "# Введение"
   ]
  },
  {
   "cell_type": "markdown",
   "metadata": {},
   "source": [
    "### Описание проекта \n",
    "Проект нацелен на анализ данных от сервиса Яндекс Недвижимость для того, чтобы установить параметры, которые позволят построить автоматизированную систему, позволяющую отслеживать аномалии и мошенническую деятельность.\n",
    "### Цель проекта\n",
    "Найти особенности и зависимости, которые существуют на рынке недвижимости.\n",
    "### Описание данных\n",
    "**Входные данные от сервиса Яндекс.Недвижимость — архив объявлений о продаже квартир в Санкт-Петербурге и соседних населённых пунктов за несколько лет.**  \n",
    "\n",
    "В таблице представлены следующие значения:\n",
    "- airports_nearest — расстояние до ближайшего аэропорта в метрах (м)\n",
    "- balcony — число балконов\n",
    "- ceiling_height — высота потолков (м)\n",
    "- cityCenters_nearest — расстояние до центра города (м)\n",
    "- days_exposition — сколько дней было размещено объявление (от публикации до снятия)\n",
    "- first_day_exposition — дата публикации\n",
    "- floor — этаж\n",
    "- floors_total — всего этажей в доме\n",
    "- is_apartment — апартаменты (булев тип)\n",
    "- kitchen_area — площадь кухни в квадратных метрах (м²)\n",
    "- last_price — цена на момент снятия с публикации\n",
    "- living_area — жилая площадь в квадратных метрах (м²)\n",
    "- locality_name — название населённого пункта\n",
    "- open_plan — свободная планировка (булев тип)\n",
    "- parks_around3000 — число парков в радиусе 3 км\n",
    "- parks_nearest — расстояние до ближайшего парка (м)\n",
    "- ponds_around3000 — число водоёмов в радиусе 3 км\n",
    "- ponds_nearest — расстояние до ближайшего водоёма (м)\n",
    "- rooms — число комнат\n",
    "- studio — квартира-студия (булев тип)\n",
    "- total_area — общая площадь квартиры в квадратных метрах (м²)\n",
    "- total_images — число фотографий квартиры в объявлении\n",
    "\n",
    "### План работы\n",
    "1. Изучение общей информации о данных\n",
    "2. Предобработка данных\n",
    "  - Обработка пропусков\n",
    "  - Обработка аномальных значений\n",
    "  - Изменение типов данных\n",
    "  - Поиск и удаление дубликатов\n",
    "  - Категоризация данных\n",
    "3. Исследовательский анализ данных\n",
    "  - общая площадь\n",
    "  - жилая площадь\n",
    "  - площадь кухни\n",
    "  - цена объекта\n",
    "  - количество комнат\n",
    "  - высота потолков\n",
    "  - этаж квартиры\n",
    "  - тип этажа квартиры («первый», «последний», «другой»)\n",
    "  - общее количество этажей в доме\n",
    "  - расстояние до центра города в метрах\n",
    "  - расстояние до ближайшего аэропорта\n",
    "  - расстояние до ближайшего парка\n",
    "  - день и месяц публикации объявления\n",
    "4. Проведение исследовательского анализа\n",
    "  - Изучение параметров объявления\n",
    "  - Исследование быстроты продажи квартиры\n",
    "  - Определение факторов, влияющих на стоимость квартиры\n",
    "  - Расчёт средней цены одного квадратного метра в 10 населённых пунктах с наибольшим числом объявлений\n",
    "  - Расчёт стоимости удаления квартиры от центра Санкт-Петербурга на 1 километр\n",
    "5. Общий вывод"
   ]
  },
  {
   "cell_type": "markdown",
   "metadata": {},
   "source": [
    "## Изучение общей информации о данных "
   ]
  },
  {
   "cell_type": "markdown",
   "metadata": {},
   "source": [
    "### Импортируем необходимые библиотеки и изучим основную информацию о предоставленных данных"
   ]
  },
  {
   "cell_type": "code",
   "execution_count": 1,
   "metadata": {},
   "outputs": [],
   "source": [
    "import pandas as pd\n",
    "import matplotlib.pyplot as plt"
   ]
  },
  {
   "cell_type": "code",
   "execution_count": 2,
   "metadata": {
    "scrolled": true
   },
   "outputs": [],
   "source": [
    "try:\n",
    "    data = pd.read_csv(r'D:\\projects_data\\real_estate_data.csv', sep='\\t')\n",
    "except:\n",
    "    data = pd.read_csv('/datasets/real_estate_data.csv', sep='\\t')\n",
    "\n",
    "pd.set_option('display.max_columns', None)\n",
    "\n",
    "raw_data = data.copy(deep=True)"
   ]
  },
  {
   "cell_type": "code",
   "execution_count": 3,
   "metadata": {},
   "outputs": [
    {
     "name": "stdout",
     "output_type": "stream",
     "text": [
      "<class 'pandas.core.frame.DataFrame'>\n",
      "RangeIndex: 23699 entries, 0 to 23698\n",
      "Data columns (total 22 columns):\n",
      " #   Column                Non-Null Count  Dtype  \n",
      "---  ------                --------------  -----  \n",
      " 0   total_images          23699 non-null  int64  \n",
      " 1   last_price            23699 non-null  float64\n",
      " 2   total_area            23699 non-null  float64\n",
      " 3   first_day_exposition  23699 non-null  object \n",
      " 4   rooms                 23699 non-null  int64  \n",
      " 5   ceiling_height        14504 non-null  float64\n",
      " 6   floors_total          23613 non-null  float64\n",
      " 7   living_area           21796 non-null  float64\n",
      " 8   floor                 23699 non-null  int64  \n",
      " 9   is_apartment          2775 non-null   object \n",
      " 10  studio                23699 non-null  bool   \n",
      " 11  open_plan             23699 non-null  bool   \n",
      " 12  kitchen_area          21421 non-null  float64\n",
      " 13  balcony               12180 non-null  float64\n",
      " 14  locality_name         23650 non-null  object \n",
      " 15  airports_nearest      18157 non-null  float64\n",
      " 16  cityCenters_nearest   18180 non-null  float64\n",
      " 17  parks_around3000      18181 non-null  float64\n",
      " 18  parks_nearest         8079 non-null   float64\n",
      " 19  ponds_around3000      18181 non-null  float64\n",
      " 20  ponds_nearest         9110 non-null   float64\n",
      " 21  days_exposition       20518 non-null  float64\n",
      "dtypes: bool(2), float64(14), int64(3), object(3)\n",
      "memory usage: 3.7+ MB\n"
     ]
    }
   ],
   "source": [
    "data.info()"
   ]
  },
  {
   "cell_type": "code",
   "execution_count": 4,
   "metadata": {},
   "outputs": [
    {
     "data": {
      "text/html": [
       "<div>\n",
       "<style scoped>\n",
       "    .dataframe tbody tr th:only-of-type {\n",
       "        vertical-align: middle;\n",
       "    }\n",
       "\n",
       "    .dataframe tbody tr th {\n",
       "        vertical-align: top;\n",
       "    }\n",
       "\n",
       "    .dataframe thead th {\n",
       "        text-align: right;\n",
       "    }\n",
       "</style>\n",
       "<table border=\"1\" class=\"dataframe\">\n",
       "  <thead>\n",
       "    <tr style=\"text-align: right;\">\n",
       "      <th></th>\n",
       "      <th>total_images</th>\n",
       "      <th>last_price</th>\n",
       "      <th>total_area</th>\n",
       "      <th>first_day_exposition</th>\n",
       "      <th>rooms</th>\n",
       "      <th>ceiling_height</th>\n",
       "      <th>floors_total</th>\n",
       "      <th>living_area</th>\n",
       "      <th>floor</th>\n",
       "      <th>is_apartment</th>\n",
       "      <th>studio</th>\n",
       "      <th>open_plan</th>\n",
       "      <th>kitchen_area</th>\n",
       "      <th>balcony</th>\n",
       "      <th>locality_name</th>\n",
       "      <th>airports_nearest</th>\n",
       "      <th>cityCenters_nearest</th>\n",
       "      <th>parks_around3000</th>\n",
       "      <th>parks_nearest</th>\n",
       "      <th>ponds_around3000</th>\n",
       "      <th>ponds_nearest</th>\n",
       "      <th>days_exposition</th>\n",
       "    </tr>\n",
       "  </thead>\n",
       "  <tbody>\n",
       "    <tr>\n",
       "      <th>0</th>\n",
       "      <td>20</td>\n",
       "      <td>13000000.0</td>\n",
       "      <td>108.00</td>\n",
       "      <td>2019-03-07T00:00:00</td>\n",
       "      <td>3</td>\n",
       "      <td>2.70</td>\n",
       "      <td>16.0</td>\n",
       "      <td>51.00</td>\n",
       "      <td>8</td>\n",
       "      <td>NaN</td>\n",
       "      <td>False</td>\n",
       "      <td>False</td>\n",
       "      <td>25.00</td>\n",
       "      <td>NaN</td>\n",
       "      <td>Санкт-Петербург</td>\n",
       "      <td>18863.0</td>\n",
       "      <td>16028.0</td>\n",
       "      <td>1.0</td>\n",
       "      <td>482.0</td>\n",
       "      <td>2.0</td>\n",
       "      <td>755.0</td>\n",
       "      <td>NaN</td>\n",
       "    </tr>\n",
       "    <tr>\n",
       "      <th>1</th>\n",
       "      <td>7</td>\n",
       "      <td>3350000.0</td>\n",
       "      <td>40.40</td>\n",
       "      <td>2018-12-04T00:00:00</td>\n",
       "      <td>1</td>\n",
       "      <td>NaN</td>\n",
       "      <td>11.0</td>\n",
       "      <td>18.60</td>\n",
       "      <td>1</td>\n",
       "      <td>NaN</td>\n",
       "      <td>False</td>\n",
       "      <td>False</td>\n",
       "      <td>11.00</td>\n",
       "      <td>2.0</td>\n",
       "      <td>посёлок Шушары</td>\n",
       "      <td>12817.0</td>\n",
       "      <td>18603.0</td>\n",
       "      <td>0.0</td>\n",
       "      <td>NaN</td>\n",
       "      <td>0.0</td>\n",
       "      <td>NaN</td>\n",
       "      <td>81.0</td>\n",
       "    </tr>\n",
       "    <tr>\n",
       "      <th>2</th>\n",
       "      <td>10</td>\n",
       "      <td>5196000.0</td>\n",
       "      <td>56.00</td>\n",
       "      <td>2015-08-20T00:00:00</td>\n",
       "      <td>2</td>\n",
       "      <td>NaN</td>\n",
       "      <td>5.0</td>\n",
       "      <td>34.30</td>\n",
       "      <td>4</td>\n",
       "      <td>NaN</td>\n",
       "      <td>False</td>\n",
       "      <td>False</td>\n",
       "      <td>8.30</td>\n",
       "      <td>0.0</td>\n",
       "      <td>Санкт-Петербург</td>\n",
       "      <td>21741.0</td>\n",
       "      <td>13933.0</td>\n",
       "      <td>1.0</td>\n",
       "      <td>90.0</td>\n",
       "      <td>2.0</td>\n",
       "      <td>574.0</td>\n",
       "      <td>558.0</td>\n",
       "    </tr>\n",
       "    <tr>\n",
       "      <th>3</th>\n",
       "      <td>0</td>\n",
       "      <td>64900000.0</td>\n",
       "      <td>159.00</td>\n",
       "      <td>2015-07-24T00:00:00</td>\n",
       "      <td>3</td>\n",
       "      <td>NaN</td>\n",
       "      <td>14.0</td>\n",
       "      <td>NaN</td>\n",
       "      <td>9</td>\n",
       "      <td>NaN</td>\n",
       "      <td>False</td>\n",
       "      <td>False</td>\n",
       "      <td>NaN</td>\n",
       "      <td>0.0</td>\n",
       "      <td>Санкт-Петербург</td>\n",
       "      <td>28098.0</td>\n",
       "      <td>6800.0</td>\n",
       "      <td>2.0</td>\n",
       "      <td>84.0</td>\n",
       "      <td>3.0</td>\n",
       "      <td>234.0</td>\n",
       "      <td>424.0</td>\n",
       "    </tr>\n",
       "    <tr>\n",
       "      <th>4</th>\n",
       "      <td>2</td>\n",
       "      <td>10000000.0</td>\n",
       "      <td>100.00</td>\n",
       "      <td>2018-06-19T00:00:00</td>\n",
       "      <td>2</td>\n",
       "      <td>3.03</td>\n",
       "      <td>14.0</td>\n",
       "      <td>32.00</td>\n",
       "      <td>13</td>\n",
       "      <td>NaN</td>\n",
       "      <td>False</td>\n",
       "      <td>False</td>\n",
       "      <td>41.00</td>\n",
       "      <td>NaN</td>\n",
       "      <td>Санкт-Петербург</td>\n",
       "      <td>31856.0</td>\n",
       "      <td>8098.0</td>\n",
       "      <td>2.0</td>\n",
       "      <td>112.0</td>\n",
       "      <td>1.0</td>\n",
       "      <td>48.0</td>\n",
       "      <td>121.0</td>\n",
       "    </tr>\n",
       "    <tr>\n",
       "      <th>5</th>\n",
       "      <td>10</td>\n",
       "      <td>2890000.0</td>\n",
       "      <td>30.40</td>\n",
       "      <td>2018-09-10T00:00:00</td>\n",
       "      <td>1</td>\n",
       "      <td>NaN</td>\n",
       "      <td>12.0</td>\n",
       "      <td>14.40</td>\n",
       "      <td>5</td>\n",
       "      <td>NaN</td>\n",
       "      <td>False</td>\n",
       "      <td>False</td>\n",
       "      <td>9.10</td>\n",
       "      <td>NaN</td>\n",
       "      <td>городской посёлок Янино-1</td>\n",
       "      <td>NaN</td>\n",
       "      <td>NaN</td>\n",
       "      <td>NaN</td>\n",
       "      <td>NaN</td>\n",
       "      <td>NaN</td>\n",
       "      <td>NaN</td>\n",
       "      <td>55.0</td>\n",
       "    </tr>\n",
       "    <tr>\n",
       "      <th>6</th>\n",
       "      <td>6</td>\n",
       "      <td>3700000.0</td>\n",
       "      <td>37.30</td>\n",
       "      <td>2017-11-02T00:00:00</td>\n",
       "      <td>1</td>\n",
       "      <td>NaN</td>\n",
       "      <td>26.0</td>\n",
       "      <td>10.60</td>\n",
       "      <td>6</td>\n",
       "      <td>NaN</td>\n",
       "      <td>False</td>\n",
       "      <td>False</td>\n",
       "      <td>14.40</td>\n",
       "      <td>1.0</td>\n",
       "      <td>посёлок Парголово</td>\n",
       "      <td>52996.0</td>\n",
       "      <td>19143.0</td>\n",
       "      <td>0.0</td>\n",
       "      <td>NaN</td>\n",
       "      <td>0.0</td>\n",
       "      <td>NaN</td>\n",
       "      <td>155.0</td>\n",
       "    </tr>\n",
       "    <tr>\n",
       "      <th>7</th>\n",
       "      <td>5</td>\n",
       "      <td>7915000.0</td>\n",
       "      <td>71.60</td>\n",
       "      <td>2019-04-18T00:00:00</td>\n",
       "      <td>2</td>\n",
       "      <td>NaN</td>\n",
       "      <td>24.0</td>\n",
       "      <td>NaN</td>\n",
       "      <td>22</td>\n",
       "      <td>NaN</td>\n",
       "      <td>False</td>\n",
       "      <td>False</td>\n",
       "      <td>18.90</td>\n",
       "      <td>2.0</td>\n",
       "      <td>Санкт-Петербург</td>\n",
       "      <td>23982.0</td>\n",
       "      <td>11634.0</td>\n",
       "      <td>0.0</td>\n",
       "      <td>NaN</td>\n",
       "      <td>0.0</td>\n",
       "      <td>NaN</td>\n",
       "      <td>NaN</td>\n",
       "    </tr>\n",
       "    <tr>\n",
       "      <th>8</th>\n",
       "      <td>20</td>\n",
       "      <td>2900000.0</td>\n",
       "      <td>33.16</td>\n",
       "      <td>2018-05-23T00:00:00</td>\n",
       "      <td>1</td>\n",
       "      <td>NaN</td>\n",
       "      <td>27.0</td>\n",
       "      <td>15.43</td>\n",
       "      <td>26</td>\n",
       "      <td>NaN</td>\n",
       "      <td>False</td>\n",
       "      <td>False</td>\n",
       "      <td>8.81</td>\n",
       "      <td>NaN</td>\n",
       "      <td>посёлок Мурино</td>\n",
       "      <td>NaN</td>\n",
       "      <td>NaN</td>\n",
       "      <td>NaN</td>\n",
       "      <td>NaN</td>\n",
       "      <td>NaN</td>\n",
       "      <td>NaN</td>\n",
       "      <td>189.0</td>\n",
       "    </tr>\n",
       "    <tr>\n",
       "      <th>9</th>\n",
       "      <td>18</td>\n",
       "      <td>5400000.0</td>\n",
       "      <td>61.00</td>\n",
       "      <td>2017-02-26T00:00:00</td>\n",
       "      <td>3</td>\n",
       "      <td>2.50</td>\n",
       "      <td>9.0</td>\n",
       "      <td>43.60</td>\n",
       "      <td>7</td>\n",
       "      <td>NaN</td>\n",
       "      <td>False</td>\n",
       "      <td>False</td>\n",
       "      <td>6.50</td>\n",
       "      <td>2.0</td>\n",
       "      <td>Санкт-Петербург</td>\n",
       "      <td>50898.0</td>\n",
       "      <td>15008.0</td>\n",
       "      <td>0.0</td>\n",
       "      <td>NaN</td>\n",
       "      <td>0.0</td>\n",
       "      <td>NaN</td>\n",
       "      <td>289.0</td>\n",
       "    </tr>\n",
       "  </tbody>\n",
       "</table>\n",
       "</div>"
      ],
      "text/plain": [
       "   total_images  last_price  total_area first_day_exposition  rooms  \\\n",
       "0            20  13000000.0      108.00  2019-03-07T00:00:00      3   \n",
       "1             7   3350000.0       40.40  2018-12-04T00:00:00      1   \n",
       "2            10   5196000.0       56.00  2015-08-20T00:00:00      2   \n",
       "3             0  64900000.0      159.00  2015-07-24T00:00:00      3   \n",
       "4             2  10000000.0      100.00  2018-06-19T00:00:00      2   \n",
       "5            10   2890000.0       30.40  2018-09-10T00:00:00      1   \n",
       "6             6   3700000.0       37.30  2017-11-02T00:00:00      1   \n",
       "7             5   7915000.0       71.60  2019-04-18T00:00:00      2   \n",
       "8            20   2900000.0       33.16  2018-05-23T00:00:00      1   \n",
       "9            18   5400000.0       61.00  2017-02-26T00:00:00      3   \n",
       "\n",
       "   ceiling_height  floors_total  living_area  floor is_apartment  studio  \\\n",
       "0            2.70          16.0        51.00      8          NaN   False   \n",
       "1             NaN          11.0        18.60      1          NaN   False   \n",
       "2             NaN           5.0        34.30      4          NaN   False   \n",
       "3             NaN          14.0          NaN      9          NaN   False   \n",
       "4            3.03          14.0        32.00     13          NaN   False   \n",
       "5             NaN          12.0        14.40      5          NaN   False   \n",
       "6             NaN          26.0        10.60      6          NaN   False   \n",
       "7             NaN          24.0          NaN     22          NaN   False   \n",
       "8             NaN          27.0        15.43     26          NaN   False   \n",
       "9            2.50           9.0        43.60      7          NaN   False   \n",
       "\n",
       "   open_plan  kitchen_area  balcony              locality_name  \\\n",
       "0      False         25.00      NaN            Санкт-Петербург   \n",
       "1      False         11.00      2.0             посёлок Шушары   \n",
       "2      False          8.30      0.0            Санкт-Петербург   \n",
       "3      False           NaN      0.0            Санкт-Петербург   \n",
       "4      False         41.00      NaN            Санкт-Петербург   \n",
       "5      False          9.10      NaN  городской посёлок Янино-1   \n",
       "6      False         14.40      1.0          посёлок Парголово   \n",
       "7      False         18.90      2.0            Санкт-Петербург   \n",
       "8      False          8.81      NaN             посёлок Мурино   \n",
       "9      False          6.50      2.0            Санкт-Петербург   \n",
       "\n",
       "   airports_nearest  cityCenters_nearest  parks_around3000  parks_nearest  \\\n",
       "0           18863.0              16028.0               1.0          482.0   \n",
       "1           12817.0              18603.0               0.0            NaN   \n",
       "2           21741.0              13933.0               1.0           90.0   \n",
       "3           28098.0               6800.0               2.0           84.0   \n",
       "4           31856.0               8098.0               2.0          112.0   \n",
       "5               NaN                  NaN               NaN            NaN   \n",
       "6           52996.0              19143.0               0.0            NaN   \n",
       "7           23982.0              11634.0               0.0            NaN   \n",
       "8               NaN                  NaN               NaN            NaN   \n",
       "9           50898.0              15008.0               0.0            NaN   \n",
       "\n",
       "   ponds_around3000  ponds_nearest  days_exposition  \n",
       "0               2.0          755.0              NaN  \n",
       "1               0.0            NaN             81.0  \n",
       "2               2.0          574.0            558.0  \n",
       "3               3.0          234.0            424.0  \n",
       "4               1.0           48.0            121.0  \n",
       "5               NaN            NaN             55.0  \n",
       "6               0.0            NaN            155.0  \n",
       "7               0.0            NaN              NaN  \n",
       "8               NaN            NaN            189.0  \n",
       "9               0.0            NaN            289.0  "
      ]
     },
     "execution_count": 4,
     "metadata": {},
     "output_type": "execute_result"
    }
   ],
   "source": [
    "data.head(10)"
   ]
  },
  {
   "cell_type": "markdown",
   "metadata": {},
   "source": [
    "### Построим гистограммы для солбцов датафрейма"
   ]
  },
  {
   "cell_type": "code",
   "execution_count": 5,
   "metadata": {},
   "outputs": [
    {
     "data": {
      "image/png": "[encoded data removed]",
      "text/plain": [
       "<Figure size 1080x1440 with 20 Axes>"
      ]
     },
     "metadata": {
      "needs_background": "light"
     },
     "output_type": "display_data"
    }
   ],
   "source": [
    "data.hist(figsize=(15,20))\n",
    "plt.show()"
   ]
  },
  {
   "cell_type": "markdown",
   "metadata": {},
   "source": [
    "## Предобработка данных"
   ]
  },
  {
   "cell_type": "markdown",
   "metadata": {},
   "source": [
    "### Обработка пропусков"
   ]
  },
  {
   "cell_type": "markdown",
   "metadata": {},
   "source": [
    "#### Выведем количество пропущенных значений для каждого столбца"
   ]
  },
  {
   "cell_type": "code",
   "execution_count": 6,
   "metadata": {
    "scrolled": false
   },
   "outputs": [
    {
     "data": {
      "text/plain": [
       "total_images                0\n",
       "last_price                  0\n",
       "total_area                  0\n",
       "first_day_exposition        0\n",
       "rooms                       0\n",
       "ceiling_height           9195\n",
       "floors_total               86\n",
       "living_area              1903\n",
       "floor                       0\n",
       "is_apartment            20924\n",
       "studio                      0\n",
       "open_plan                   0\n",
       "kitchen_area             2278\n",
       "balcony                 11519\n",
       "locality_name              49\n",
       "airports_nearest         5542\n",
       "cityCenters_nearest      5519\n",
       "parks_around3000         5518\n",
       "parks_nearest           15620\n",
       "ponds_around3000         5518\n",
       "ponds_nearest           14589\n",
       "days_exposition          3181\n",
       "dtype: int64"
      ]
     },
     "execution_count": 6,
     "metadata": {},
     "output_type": "execute_result"
    }
   ],
   "source": [
    "data.isna().sum()"
   ]
  },
  {
   "cell_type": "markdown",
   "metadata": {},
   "source": [
    "**Пропуски в некоторых столбцах необходмо заменить на соответствующие значения.**  "
   ]
  },
  {
   "cell_type": "code",
   "execution_count": 7,
   "metadata": {},
   "outputs": [],
   "source": [
    "def pass_value_barh(df):\n",
    "    try:\n",
    "        (\n",
    "            (df.isna().mean()*100)\n",
    "            .to_frame()\n",
    "            .rename(columns = {0:'space'})\n",
    "            .query('space > 0')\n",
    "            .sort_values(by = 'space', ascending = True)\n",
    "            .plot(kind = 'barh', figsize = (19,6), legend = False, fontsize = 16)\n",
    "            .set_title('Количество пропусков в %'+\"\\n\", fontsize = 22, color = 'SteelBlue')    \n",
    "        );    \n",
    "    except:\n",
    "        print('пропусков не осталось :) ')"
   ]
  },
  {
   "cell_type": "code",
   "execution_count": 8,
   "metadata": {
    "scrolled": true
   },
   "outputs": [
    {
     "data": {
      "image/png": "[encoded data removed]",
      "text/plain": [
       "<Figure size 1368x432 with 1 Axes>"
      ]
     },
     "metadata": {
      "needs_background": "light"
     },
     "output_type": "display_data"
    }
   ],
   "source": [
    "pass_value_barh(data)"
   ]
  },
  {
   "cell_type": "markdown",
   "metadata": {},
   "source": [
    "#### Обработка значений в столбце `ceiling_height`"
   ]
  },
  {
   "cell_type": "markdown",
   "metadata": {},
   "source": [
    "**Взглянем на информацию о столбце с высотой потолков.**"
   ]
  },
  {
   "cell_type": "code",
   "execution_count": 9,
   "metadata": {},
   "outputs": [
    {
     "data": {
      "text/plain": [
       "array([  1.  ,   1.2 ,   1.75,   2.  ,   2.2 ,   2.25,   2.3 ,   2.34,\n",
       "         2.4 ,   2.45,   2.46,   2.47,   2.48,   2.49,   2.5 ,   2.51,\n",
       "         2.52,   2.53,   2.54,   2.55,   2.56,   2.57,   2.58,   2.59,\n",
       "         2.6 ,   2.61,   2.62,   2.63,   2.64,   2.65,   2.66,   2.67,\n",
       "         2.68,   2.69,   2.7 ,   2.71,   2.72,   2.73,   2.74,   2.75,\n",
       "         2.76,   2.77,   2.78,   2.79,   2.8 ,   2.81,   2.82,   2.83,\n",
       "         2.84,   2.85,   2.86,   2.87,   2.88,   2.89,   2.9 ,   2.91,\n",
       "         2.92,   2.93,   2.94,   2.95,   2.96,   2.97,   2.98,   2.99,\n",
       "         3.  ,   3.01,   3.02,   3.03,   3.04,   3.05,   3.06,   3.07,\n",
       "         3.08,   3.09,   3.1 ,   3.11,   3.12,   3.13,   3.14,   3.15,\n",
       "         3.16,   3.17,   3.18,   3.2 ,   3.21,   3.22,   3.23,   3.24,\n",
       "         3.25,   3.26,   3.27,   3.28,   3.29,   3.3 ,   3.31,   3.32,\n",
       "         3.33,   3.34,   3.35,   3.36,   3.37,   3.38,   3.39,   3.4 ,\n",
       "         3.42,   3.43,   3.44,   3.45,   3.46,   3.47,   3.48,   3.49,\n",
       "         3.5 ,   3.51,   3.52,   3.53,   3.54,   3.55,   3.56,   3.57,\n",
       "         3.58,   3.59,   3.6 ,   3.62,   3.63,   3.65,   3.66,   3.67,\n",
       "         3.68,   3.69,   3.7 ,   3.75,   3.76,   3.78,   3.8 ,   3.82,\n",
       "         3.83,   3.84,   3.85,   3.86,   3.87,   3.88,   3.9 ,   3.93,\n",
       "         3.95,   3.98,   4.  ,   4.06,   4.1 ,   4.14,   4.15,   4.19,\n",
       "         4.2 ,   4.25,   4.3 ,   4.37,   4.4 ,   4.45,   4.5 ,   4.65,\n",
       "         4.7 ,   4.8 ,   4.9 ,   5.  ,   5.2 ,   5.3 ,   5.5 ,   5.6 ,\n",
       "         5.8 ,   6.  ,   8.  ,   8.3 ,  10.3 ,  14.  ,  20.  ,  22.6 ,\n",
       "        24.  ,  25.  ,  26.  ,  27.  ,  27.5 ,  32.  , 100.  ,    nan])"
      ]
     },
     "execution_count": 9,
     "metadata": {},
     "output_type": "execute_result"
    }
   ],
   "source": [
    "data['ceiling_height'].sort_values().unique()"
   ]
  },
  {
   "cell_type": "code",
   "execution_count": 10,
   "metadata": {},
   "outputs": [
    {
     "data": {
      "text/plain": [
       "count    14504.000000\n",
       "mean         2.771499\n",
       "std          1.261056\n",
       "min          1.000000\n",
       "25%          2.520000\n",
       "50%          2.650000\n",
       "75%          2.800000\n",
       "max        100.000000\n",
       "Name: ceiling_height, dtype: float64"
      ]
     },
     "execution_count": 10,
     "metadata": {},
     "output_type": "execute_result"
    }
   ],
   "source": [
    "data['ceiling_height'].describe()"
   ]
  },
  {
   "cell_type": "markdown",
   "metadata": {},
   "source": [
    "**Как мы видим, в данных присутствуют неправдоподобные значения. Для исследования возьмём диапазон значений от 2.2 до 5.0 метров. Допустим, что некоторые люди ошибочно поставили запятую в высоте потолка и разделим аномально большие значения на 10, а остальные значения примем за аномалии и заменим их средним значением.**"
   ]
  },
  {
   "cell_type": "code",
   "execution_count": 11,
   "metadata": {},
   "outputs": [],
   "source": [
    "# Задаём диапазон значений высоты потолка\n",
    "height_filter = (data['ceiling_height'] >= 2.2) & (data['ceiling_height'] <= 5)\n",
    "# Заменяем аномальные значения столбца, которые могли быть введены по ошибке\n",
    "data['ceiling_height'] = data['ceiling_height'].where(data['ceiling_height'] <= 5, data['ceiling_height']/10)"
   ]
  },
  {
   "cell_type": "markdown",
   "metadata": {},
   "source": [
    "**Для аномальных значений в `ceiling_height` возьмём медианную высоту потолков в квартирах.**"
   ]
  },
  {
   "cell_type": "code",
   "execution_count": 12,
   "metadata": {},
   "outputs": [],
   "source": [
    "data['ceiling_height'].where(height_filter, -1, inplace=True)"
   ]
  },
  {
   "cell_type": "markdown",
   "metadata": {},
   "source": [
    "**Пропуски в столбце с высотой потолка необходимо оставить, так как их заполнение с помощью ad-hoc методов может привести к искажению выводов.**"
   ]
  },
  {
   "cell_type": "markdown",
   "metadata": {},
   "source": [
    "#### Обработка пропусков столбца `floors_total`"
   ]
  },
  {
   "cell_type": "code",
   "execution_count": 13,
   "metadata": {},
   "outputs": [
    {
     "data": {
      "text/plain": [
       "count    23613.000000\n",
       "mean        10.673824\n",
       "std          6.597173\n",
       "min          1.000000\n",
       "25%          5.000000\n",
       "50%          9.000000\n",
       "75%         16.000000\n",
       "max         60.000000\n",
       "Name: floors_total, dtype: float64"
      ]
     },
     "execution_count": 13,
     "metadata": {},
     "output_type": "execute_result"
    }
   ],
   "source": [
    "data['floors_total'].describe()"
   ]
  },
  {
   "cell_type": "markdown",
   "metadata": {},
   "source": [
    "**Заменим пропущенные значения маркером \"-1\".**"
   ]
  },
  {
   "cell_type": "code",
   "execution_count": 14,
   "metadata": {},
   "outputs": [],
   "source": [
    "data['floors_total'] = data['floors_total'].fillna(-1) #marker"
   ]
  },
  {
   "cell_type": "code",
   "execution_count": 15,
   "metadata": {},
   "outputs": [
    {
     "ename": "NumExprClobberingError",
     "evalue": "Variables in expression \"((floors_total) != (-(1))) & ((floors_total) < (floor))\" overlap with builtins: ('floor')",
     "output_type": "error",
     "traceback": [
      "\u001b[1;31m---------------------------------------------------------------------------\u001b[0m",
      "\u001b[1;31mNumExprClobberingError\u001b[0m                    Traceback (most recent call last)",
      "Input \u001b[1;32mIn [15]\u001b[0m, in \u001b[0;36m<cell line: 1>\u001b[1;34m()\u001b[0m\n\u001b[1;32m----> 1\u001b[0m \u001b[43mdata\u001b[49m\u001b[38;5;241;43m.\u001b[39;49m\u001b[43mquery\u001b[49m\u001b[43m(\u001b[49m\u001b[38;5;124;43m'\u001b[39;49m\u001b[38;5;124;43mfloors_total != -1 and floors_total < floor\u001b[39;49m\u001b[38;5;124;43m'\u001b[39;49m\u001b[43m)\u001b[49m\n",
      "File \u001b[1;32mC:\\Anaconda\\lib\\site-packages\\pandas\\core\\frame.py:4111\u001b[0m, in \u001b[0;36mDataFrame.query\u001b[1;34m(self, expr, inplace, **kwargs)\u001b[0m\n\u001b[0;32m   4109\u001b[0m kwargs[\u001b[38;5;124m\"\u001b[39m\u001b[38;5;124mlevel\u001b[39m\u001b[38;5;124m\"\u001b[39m] \u001b[38;5;241m=\u001b[39m kwargs\u001b[38;5;241m.\u001b[39mpop(\u001b[38;5;124m\"\u001b[39m\u001b[38;5;124mlevel\u001b[39m\u001b[38;5;124m\"\u001b[39m, \u001b[38;5;241m0\u001b[39m) \u001b[38;5;241m+\u001b[39m \u001b[38;5;241m1\u001b[39m\n\u001b[0;32m   4110\u001b[0m kwargs[\u001b[38;5;124m\"\u001b[39m\u001b[38;5;124mtarget\u001b[39m\u001b[38;5;124m\"\u001b[39m] \u001b[38;5;241m=\u001b[39m \u001b[38;5;28;01mNone\u001b[39;00m\n\u001b[1;32m-> 4111\u001b[0m res \u001b[38;5;241m=\u001b[39m \u001b[38;5;28mself\u001b[39m\u001b[38;5;241m.\u001b[39meval(expr, \u001b[38;5;241m*\u001b[39m\u001b[38;5;241m*\u001b[39mkwargs)\n\u001b[0;32m   4113\u001b[0m \u001b[38;5;28;01mtry\u001b[39;00m:\n\u001b[0;32m   4114\u001b[0m     result \u001b[38;5;241m=\u001b[39m \u001b[38;5;28mself\u001b[39m\u001b[38;5;241m.\u001b[39mloc[res]\n",
      "File \u001b[1;32mC:\\Anaconda\\lib\\site-packages\\pandas\\core\\frame.py:4240\u001b[0m, in \u001b[0;36mDataFrame.eval\u001b[1;34m(self, expr, inplace, **kwargs)\u001b[0m\n\u001b[0;32m   4237\u001b[0m     kwargs[\u001b[38;5;124m\"\u001b[39m\u001b[38;5;124mtarget\u001b[39m\u001b[38;5;124m\"\u001b[39m] \u001b[38;5;241m=\u001b[39m \u001b[38;5;28mself\u001b[39m\n\u001b[0;32m   4238\u001b[0m kwargs[\u001b[38;5;124m\"\u001b[39m\u001b[38;5;124mresolvers\u001b[39m\u001b[38;5;124m\"\u001b[39m] \u001b[38;5;241m=\u001b[39m \u001b[38;5;28mtuple\u001b[39m(kwargs\u001b[38;5;241m.\u001b[39mget(\u001b[38;5;124m\"\u001b[39m\u001b[38;5;124mresolvers\u001b[39m\u001b[38;5;124m\"\u001b[39m, ())) \u001b[38;5;241m+\u001b[39m resolvers\n\u001b[1;32m-> 4240\u001b[0m \u001b[38;5;28;01mreturn\u001b[39;00m _eval(expr, inplace\u001b[38;5;241m=\u001b[39minplace, \u001b[38;5;241m*\u001b[39m\u001b[38;5;241m*\u001b[39mkwargs)\n",
      "File \u001b[1;32mC:\\Anaconda\\lib\\site-packages\\pandas\\core\\computation\\eval.py:355\u001b[0m, in \u001b[0;36meval\u001b[1;34m(expr, parser, engine, truediv, local_dict, global_dict, resolvers, level, target, inplace)\u001b[0m\n\u001b[0;32m    353\u001b[0m eng \u001b[38;5;241m=\u001b[39m ENGINES[engine]\n\u001b[0;32m    354\u001b[0m eng_inst \u001b[38;5;241m=\u001b[39m eng(parsed_expr)\n\u001b[1;32m--> 355\u001b[0m ret \u001b[38;5;241m=\u001b[39m \u001b[43meng_inst\u001b[49m\u001b[38;5;241;43m.\u001b[39;49m\u001b[43mevaluate\u001b[49m\u001b[43m(\u001b[49m\u001b[43m)\u001b[49m\n\u001b[0;32m    357\u001b[0m \u001b[38;5;28;01mif\u001b[39;00m parsed_expr\u001b[38;5;241m.\u001b[39massigner \u001b[38;5;129;01mis\u001b[39;00m \u001b[38;5;28;01mNone\u001b[39;00m:\n\u001b[0;32m    358\u001b[0m     \u001b[38;5;28;01mif\u001b[39;00m multi_line:\n",
      "File \u001b[1;32mC:\\Anaconda\\lib\\site-packages\\pandas\\core\\computation\\engines.py:80\u001b[0m, in \u001b[0;36mAbstractEngine.evaluate\u001b[1;34m(self)\u001b[0m\n\u001b[0;32m     77\u001b[0m     \u001b[38;5;28mself\u001b[39m\u001b[38;5;241m.\u001b[39mresult_type, \u001b[38;5;28mself\u001b[39m\u001b[38;5;241m.\u001b[39maligned_axes \u001b[38;5;241m=\u001b[39m align_terms(\u001b[38;5;28mself\u001b[39m\u001b[38;5;241m.\u001b[39mexpr\u001b[38;5;241m.\u001b[39mterms)\n\u001b[0;32m     79\u001b[0m \u001b[38;5;66;03m# make sure no names in resolvers and locals/globals clash\u001b[39;00m\n\u001b[1;32m---> 80\u001b[0m res \u001b[38;5;241m=\u001b[39m \u001b[38;5;28;43mself\u001b[39;49m\u001b[38;5;241;43m.\u001b[39;49m\u001b[43m_evaluate\u001b[49m\u001b[43m(\u001b[49m\u001b[43m)\u001b[49m\n\u001b[0;32m     81\u001b[0m \u001b[38;5;28;01mreturn\u001b[39;00m reconstruct_object(\n\u001b[0;32m     82\u001b[0m     \u001b[38;5;28mself\u001b[39m\u001b[38;5;241m.\u001b[39mresult_type, res, \u001b[38;5;28mself\u001b[39m\u001b[38;5;241m.\u001b[39maligned_axes, \u001b[38;5;28mself\u001b[39m\u001b[38;5;241m.\u001b[39mexpr\u001b[38;5;241m.\u001b[39mterms\u001b[38;5;241m.\u001b[39mreturn_type\n\u001b[0;32m     83\u001b[0m )\n",
      "File \u001b[1;32mC:\\Anaconda\\lib\\site-packages\\pandas\\core\\computation\\engines.py:120\u001b[0m, in \u001b[0;36mNumExprEngine._evaluate\u001b[1;34m(self)\u001b[0m\n\u001b[0;32m    118\u001b[0m env \u001b[38;5;241m=\u001b[39m \u001b[38;5;28mself\u001b[39m\u001b[38;5;241m.\u001b[39mexpr\u001b[38;5;241m.\u001b[39menv\n\u001b[0;32m    119\u001b[0m scope \u001b[38;5;241m=\u001b[39m env\u001b[38;5;241m.\u001b[39mfull_scope\n\u001b[1;32m--> 120\u001b[0m \u001b[43m_check_ne_builtin_clash\u001b[49m\u001b[43m(\u001b[49m\u001b[38;5;28;43mself\u001b[39;49m\u001b[38;5;241;43m.\u001b[39;49m\u001b[43mexpr\u001b[49m\u001b[43m)\u001b[49m\n\u001b[0;32m    121\u001b[0m \u001b[38;5;28;01mreturn\u001b[39;00m ne\u001b[38;5;241m.\u001b[39mevaluate(s, local_dict\u001b[38;5;241m=\u001b[39mscope)\n",
      "File \u001b[1;32mC:\\Anaconda\\lib\\site-packages\\pandas\\core\\computation\\engines.py:41\u001b[0m, in \u001b[0;36m_check_ne_builtin_clash\u001b[1;34m(expr)\u001b[0m\n\u001b[0;32m     39\u001b[0m \u001b[38;5;28;01mif\u001b[39;00m overlap:\n\u001b[0;32m     40\u001b[0m     s \u001b[38;5;241m=\u001b[39m \u001b[38;5;124m\"\u001b[39m\u001b[38;5;124m, \u001b[39m\u001b[38;5;124m\"\u001b[39m\u001b[38;5;241m.\u001b[39mjoin([\u001b[38;5;28mrepr\u001b[39m(x) \u001b[38;5;28;01mfor\u001b[39;00m x \u001b[38;5;129;01min\u001b[39;00m overlap])\n\u001b[1;32m---> 41\u001b[0m     \u001b[38;5;28;01mraise\u001b[39;00m NumExprClobberingError(\n\u001b[0;32m     42\u001b[0m         \u001b[38;5;124mf\u001b[39m\u001b[38;5;124m'\u001b[39m\u001b[38;5;124mVariables in expression \u001b[39m\u001b[38;5;124m\"\u001b[39m\u001b[38;5;132;01m{\u001b[39;00mexpr\u001b[38;5;132;01m}\u001b[39;00m\u001b[38;5;124m\"\u001b[39m\u001b[38;5;124m overlap with builtins: (\u001b[39m\u001b[38;5;132;01m{\u001b[39;00ms\u001b[38;5;132;01m}\u001b[39;00m\u001b[38;5;124m)\u001b[39m\u001b[38;5;124m'\u001b[39m\n\u001b[0;32m     43\u001b[0m     )\n",
      "\u001b[1;31mNumExprClobberingError\u001b[0m: Variables in expression \"((floors_total) != (-(1))) & ((floors_total) < (floor))\" overlap with builtins: ('floor')"
     ]
    }
   ],
   "source": [
    "data.query('floors_total != -1 and floors_total < floor')"
   ]
  },
  {
   "cell_type": "markdown",
   "metadata": {},
   "source": [
    "#### Обработка пропусков столбца `living_area`"
   ]
  },
  {
   "cell_type": "code",
   "execution_count": null,
   "metadata": {},
   "outputs": [],
   "source": [
    "data['living_area'].describe()"
   ]
  },
  {
   "cell_type": "markdown",
   "metadata": {},
   "source": [
    "**Заменим пропуски маркером \"-1\".**"
   ]
  },
  {
   "cell_type": "code",
   "execution_count": null,
   "metadata": {},
   "outputs": [],
   "source": [
    "data['living_area'] = data['living_area'].fillna(-1)"
   ]
  },
  {
   "cell_type": "markdown",
   "metadata": {},
   "source": [
    "#### Обработка пропусков столбца `is_apartment`"
   ]
  },
  {
   "cell_type": "code",
   "execution_count": null,
   "metadata": {},
   "outputs": [],
   "source": [
    "data['is_apartment'].unique()"
   ]
  },
  {
   "cell_type": "markdown",
   "metadata": {},
   "source": [
    "**Допустим, что пропущенные значения в столбце говорят о том, что данная квартира не входит в категорию апартаментов. Заменим все пропущенные значения на `False`.**"
   ]
  },
  {
   "cell_type": "code",
   "execution_count": null,
   "metadata": {},
   "outputs": [],
   "source": [
    "data['is_apartment'] = data['is_apartment'].fillna(False)"
   ]
  },
  {
   "cell_type": "markdown",
   "metadata": {},
   "source": [
    "#### Обработка пропусков столбца `kitchen_area`"
   ]
  },
  {
   "cell_type": "code",
   "execution_count": null,
   "metadata": {},
   "outputs": [],
   "source": [
    "data['kitchen_area'].describe()"
   ]
  },
  {
   "cell_type": "markdown",
   "metadata": {},
   "source": [
    "**Заполним пропуски медианным значением площади кухни.**"
   ]
  },
  {
   "cell_type": "code",
   "execution_count": null,
   "metadata": {},
   "outputs": [],
   "source": [
    "data['kitchen_area'] = data['kitchen_area'].fillna(-1)"
   ]
  },
  {
   "cell_type": "markdown",
   "metadata": {},
   "source": [
    "**Отфильтруем аномальные значения.**"
   ]
  },
  {
   "cell_type": "code",
   "execution_count": null,
   "metadata": {},
   "outputs": [],
   "source": [
    "#data = data.query('(living_area + kitchen_area) <= total_area*0.9')\n",
    "data.query('(living_area + kitchen_area) >= total_area*0.9')"
   ]
  },
  {
   "cell_type": "markdown",
   "metadata": {},
   "source": [
    "#### Обработка пропусков столбца `balcony`"
   ]
  },
  {
   "cell_type": "code",
   "execution_count": null,
   "metadata": {},
   "outputs": [],
   "source": [
    "data['balcony'].describe()"
   ]
  },
  {
   "cell_type": "markdown",
   "metadata": {},
   "source": [
    "**Допустим, что пропуск говорит нам о том, что в данной квартире нет балкона.**"
   ]
  },
  {
   "cell_type": "code",
   "execution_count": null,
   "metadata": {},
   "outputs": [],
   "source": [
    "data['balcony'] = data['balcony'].fillna(0)"
   ]
  },
  {
   "cell_type": "markdown",
   "metadata": {},
   "source": [
    "#### Обработка пропусков столбца `locality_name`"
   ]
  },
  {
   "cell_type": "markdown",
   "metadata": {},
   "source": [
    "**Удалим строки с пропущенными значениями, так как восстановить их невозможно.**"
   ]
  },
  {
   "cell_type": "code",
   "execution_count": null,
   "metadata": {},
   "outputs": [],
   "source": [
    "data = data.loc[~ data['locality_name'].isna()].reset_index(drop=True)"
   ]
  },
  {
   "cell_type": "code",
   "execution_count": null,
   "metadata": {},
   "outputs": [],
   "source": [
    "data['locality_name'].value_counts()"
   ]
  },
  {
   "cell_type": "markdown",
   "metadata": {},
   "source": [
    "#### Обработка пропусков столбца `airports_nearest`"
   ]
  },
  {
   "cell_type": "code",
   "execution_count": null,
   "metadata": {},
   "outputs": [],
   "source": [
    "data['airports_nearest'].describe()"
   ]
  },
  {
   "cell_type": "markdown",
   "metadata": {},
   "source": [
    "**Заменим пропуски маркером \"-1\".**"
   ]
  },
  {
   "cell_type": "code",
   "execution_count": null,
   "metadata": {},
   "outputs": [],
   "source": [
    "data['airports_nearest'] = data['airports_nearest'].fillna(-1)"
   ]
  },
  {
   "cell_type": "markdown",
   "metadata": {},
   "source": [
    "#### Обработка пропусков столбца `cityCenters_nearest`"
   ]
  },
  {
   "cell_type": "code",
   "execution_count": null,
   "metadata": {},
   "outputs": [],
   "source": [
    "data['cityCenters_nearest'].describe()"
   ]
  },
  {
   "cell_type": "markdown",
   "metadata": {},
   "source": [
    "**Заменим пропуски маркером \"-1\", чтобы можно было конвертировать столбец в целочисленный тип.**"
   ]
  },
  {
   "cell_type": "code",
   "execution_count": null,
   "metadata": {},
   "outputs": [],
   "source": [
    "data['cityCenters_nearest'] = data['cityCenters_nearest'].fillna(-1)"
   ]
  },
  {
   "cell_type": "markdown",
   "metadata": {},
   "source": [
    "#### Обработка пропусков столбца `parks_around3000`"
   ]
  },
  {
   "cell_type": "markdown",
   "metadata": {},
   "source": [
    "**Скорее всего пропуски связаны с отсутствием парков в радиусе 3 км. Зменим пропуски на значение 0.**"
   ]
  },
  {
   "cell_type": "code",
   "execution_count": null,
   "metadata": {},
   "outputs": [],
   "source": [
    "data['parks_around3000'] = data['parks_around3000'].fillna(0)"
   ]
  },
  {
   "cell_type": "markdown",
   "metadata": {},
   "source": [
    "#### Обработка пропусков столбца `parks_nearest`"
   ]
  },
  {
   "cell_type": "code",
   "execution_count": null,
   "metadata": {},
   "outputs": [],
   "source": [
    "data['parks_nearest'].describe()"
   ]
  },
  {
   "cell_type": "markdown",
   "metadata": {},
   "source": [
    "**Заполним пропуски маркером \"-1\".**"
   ]
  },
  {
   "cell_type": "code",
   "execution_count": null,
   "metadata": {},
   "outputs": [],
   "source": [
    "data['parks_nearest'] = data['parks_nearest'].fillna(-1)"
   ]
  },
  {
   "cell_type": "markdown",
   "metadata": {},
   "source": [
    "#### Обработка пропусков столбца `ponds_around3000`"
   ]
  },
  {
   "cell_type": "markdown",
   "metadata": {},
   "source": [
    "**Скорее всего пропуски связаны с отсутствием водоёмов в радиусе 3 км.\n",
    "Зменим пропуски на значение 0.**"
   ]
  },
  {
   "cell_type": "code",
   "execution_count": null,
   "metadata": {},
   "outputs": [],
   "source": [
    "data['ponds_around3000'] = data['ponds_around3000'].fillna(0)"
   ]
  },
  {
   "cell_type": "markdown",
   "metadata": {},
   "source": [
    "#### Обработка пропусков столбца `ponds_nearest`"
   ]
  },
  {
   "cell_type": "code",
   "execution_count": null,
   "metadata": {},
   "outputs": [],
   "source": [
    "data['ponds_nearest'].describe()"
   ]
  },
  {
   "cell_type": "markdown",
   "metadata": {},
   "source": [
    "**Заполним пропуски маркером \"-1\".**"
   ]
  },
  {
   "cell_type": "code",
   "execution_count": null,
   "metadata": {},
   "outputs": [],
   "source": [
    "data['ponds_nearest'] = data['ponds_nearest'].fillna(-1)"
   ]
  },
  {
   "cell_type": "markdown",
   "metadata": {},
   "source": [
    "#### Обработка пропусков столбца `days_exposition`"
   ]
  },
  {
   "cell_type": "code",
   "execution_count": null,
   "metadata": {},
   "outputs": [],
   "source": [
    "data['days_exposition'].describe()"
   ]
  },
  {
   "cell_type": "markdown",
   "metadata": {},
   "source": [
    "**Так как некоторые квартиры находятся на продаже, заменим пропуски маркером \"-1\".**"
   ]
  },
  {
   "cell_type": "code",
   "execution_count": null,
   "metadata": {},
   "outputs": [],
   "source": [
    "data['days_exposition'] = data['days_exposition'].fillna(-1)"
   ]
  },
  {
   "cell_type": "markdown",
   "metadata": {},
   "source": [
    "#### Проверка после обработки пропусков"
   ]
  },
  {
   "cell_type": "code",
   "execution_count": null,
   "metadata": {},
   "outputs": [],
   "source": [
    "pass_value_barh(data)"
   ]
  },
  {
   "cell_type": "markdown",
   "metadata": {},
   "source": [
    "#### Промежуточный вывод"
   ]
  },
  {
   "cell_type": "markdown",
   "metadata": {},
   "source": [
    "**В данных присутствовало большое количество пропусков связанных с тем, что продавцы зачастую не указывают количество отсутствующих параметров квартиры, таких как балкон или объект в определённом радиусе от квартиры.**"
   ]
  },
  {
   "cell_type": "markdown",
   "metadata": {},
   "source": [
    "### Преобразование типов данных"
   ]
  },
  {
   "cell_type": "markdown",
   "metadata": {},
   "source": [
    "**Для дальнейшего анализа необходимо преобразовать тип столбца данных `first_day_exposition` из `object` в `datetime`. Столбец `is_apartment` в булев тип данных, а столбцы `floors_total`, `balcony parks_around3000`, `ponds_around3000` в `int`, так как они содержат целочисленные данные.**"
   ]
  },
  {
   "cell_type": "code",
   "execution_count": null,
   "metadata": {},
   "outputs": [],
   "source": [
    "data['first_day_exposition'] = pd.to_datetime(data['first_day_exposition'], format='%Y-%m-%dT%H:%M:%S')\n",
    "data['is_apartment'] = data['is_apartment'].astype(bool)\n",
    "\n",
    "int_list = ['floors_total', 'balcony', 'parks_around3000', 'ponds_around3000', 'cityCenters_nearest']\n",
    "\n",
    "for i in int_list:\n",
    "    data[i] = data[i].astype(int)"
   ]
  },
  {
   "cell_type": "markdown",
   "metadata": {},
   "source": [
    "### Обработка дубликатов"
   ]
  },
  {
   "cell_type": "code",
   "execution_count": null,
   "metadata": {},
   "outputs": [],
   "source": [
    "data.duplicated().sum()"
   ]
  },
  {
   "cell_type": "markdown",
   "metadata": {},
   "source": [
    "**Явных дубликатов в датафрейме не было обнаружено, но в списке названий есть дубликаты с неправильным написанием буквы \"Ё\". Заменим их на правильные и тем самым избавимся от неявных дубликатов. Попытаемся найти неявные.**"
   ]
  },
  {
   "cell_type": "code",
   "execution_count": null,
   "metadata": {},
   "outputs": [],
   "source": [
    "data['locality_name'].value_counts()"
   ]
  },
  {
   "cell_type": "code",
   "execution_count": null,
   "metadata": {},
   "outputs": [],
   "source": [
    "data['locality_name'].sort_values().unique()"
   ]
  },
  {
   "cell_type": "markdown",
   "metadata": {},
   "source": [
    "**Заменим букву \"е\" на \"ё\".**"
   ]
  },
  {
   "cell_type": "code",
   "execution_count": null,
   "metadata": {},
   "outputs": [],
   "source": [
    "data['locality_name'] = data['locality_name'].str.replace('поселок', 'посёлок')"
   ]
  },
  {
   "cell_type": "code",
   "execution_count": null,
   "metadata": {},
   "outputs": [],
   "source": [
    "data['locality_name'].nunique()"
   ]
  },
  {
   "cell_type": "markdown",
   "metadata": {},
   "source": [
    "### Обработка редких и выбивающихся значений"
   ]
  },
  {
   "cell_type": "markdown",
   "metadata": {},
   "source": [
    "**Отфильтруем редкие и выбивающиеся значения.**"
   ]
  },
  {
   "cell_type": "code",
   "execution_count": null,
   "metadata": {},
   "outputs": [],
   "source": [
    "data = (\n",
    "        data\n",
    "            .query('5 * 10**5 < last_price < 30 * 10**6')\n",
    "            .query('rooms <= 7')\n",
    "            .query('total_area < 250')\n",
    "            .query('ceiling_height <= 4')\n",
    "            .query('not(0 <= living_area < 10 or living_area >= 140)')\n",
    "            .query('not(0 <= kitchen_area < 4 or kitchen_area >= 30)')\n",
    "            .query('floors_total < 35')    \n",
    "            .query('airports_nearest < 70000')\n",
    "        )"
   ]
  },
  {
   "cell_type": "markdown",
   "metadata": {},
   "source": [
    "**Проверим процент оставшихся данных.**"
   ]
  },
  {
   "cell_type": "code",
   "execution_count": null,
   "metadata": {
    "scrolled": true
   },
   "outputs": [],
   "source": [
    "print('Отфильтровано:',(len(raw_data) - len(data))/len(raw_data)*100 , '%')"
   ]
  },
  {
   "cell_type": "markdown",
   "metadata": {},
   "source": [
    "### Промежуточный вывод"
   ]
  },
  {
   "cell_type": "markdown",
   "metadata": {},
   "source": [
    "**В данных были выявлены неявные дубликаты, которые были вызваны некорректным вводом информации пользователями, а именно ошибка в напсании буквы \"ё\", а также отфильтрованы выбивающиеся и редкие значения.**"
   ]
  },
  {
   "cell_type": "code",
   "execution_count": null,
   "metadata": {
    "scrolled": true
   },
   "outputs": [],
   "source": [
    "# check\n",
    "data.info()"
   ]
  },
  {
   "cell_type": "markdown",
   "metadata": {},
   "source": [
    "**Статистика по сырым данным.**"
   ]
  },
  {
   "cell_type": "code",
   "execution_count": null,
   "metadata": {
    "scrolled": true
   },
   "outputs": [],
   "source": [
    "(\n",
    "    raw_data[['rooms', 'total_area', 'ceiling_height', 'days_exposition', 'last_price', 'living_area',  'kitchen_area',\n",
    "          'floor', 'floors_total']]\n",
    "    .apply (['count', 'min', 'max'])   \n",
    "    .style.format(\"{:,.2f}\")\n",
    ")"
   ]
  },
  {
   "cell_type": "markdown",
   "metadata": {},
   "source": [
    "**Проверка по отфильтрованным данным.**"
   ]
  },
  {
   "cell_type": "code",
   "execution_count": null,
   "metadata": {},
   "outputs": [],
   "source": [
    "(\n",
    "    data\n",
    "    .query('rooms != -1 & ceiling_height != -1 & days_exposition != -1 \\\n",
    "    & living_area != -1 & kitchen_area != -1 & floors_total != -1')\n",
    "            [['rooms', 'total_area', 'ceiling_height', 'days_exposition', \n",
    "              'last_price', 'living_area',  'kitchen_area','floor', 'floors_total']]\n",
    "    .apply (['count', 'min', 'max'])   \n",
    "    .style.format(\"{:,.2f}\")\n",
    ")"
   ]
  },
  {
   "cell_type": "code",
   "execution_count": null,
   "metadata": {},
   "outputs": [],
   "source": [
    "(\n",
    "    data\n",
    "#     .query('rooms != -1 & ceiling_height != -1 & days_exposition != -1')\n",
    "#     .query('living_area != -1 & kitchen_area != -1 & floors_total != -1')\n",
    "            [['rooms', 'total_area', 'ceiling_height', 'days_exposition', \n",
    "              'last_price', 'living_area',  'kitchen_area','floor', 'floors_total']]\n",
    "    .apply (['count', 'min', 'max'])   \n",
    "    .style.format(\"{:,.2f}\")\n",
    ")"
   ]
  },
  {
   "cell_type": "code",
   "execution_count": null,
   "metadata": {},
   "outputs": [],
   "source": [
    "# check\n",
    "data.hist(column = 'days_exposition', bins = 50, figsize = (15,3), range = (0,5));"
   ]
  },
  {
   "cell_type": "code",
   "execution_count": null,
   "metadata": {},
   "outputs": [],
   "source": [
    "# check\n",
    "data.rooms.value_counts().to_frame()"
   ]
  },
  {
   "cell_type": "code",
   "execution_count": null,
   "metadata": {
    "scrolled": false
   },
   "outputs": [],
   "source": [
    "# check\n",
    "data.total_area.hist(bins = 150, figsize = (15,3));"
   ]
  },
  {
   "cell_type": "code",
   "execution_count": null,
   "metadata": {
    "scrolled": true
   },
   "outputs": [],
   "source": [
    "# check\n",
    "data.total_area.hist(bins = 150, figsize = (15,3), range = (180,500));"
   ]
  },
  {
   "cell_type": "markdown",
   "metadata": {},
   "source": [
    "Значения параметров объектов недвижимости на разных квантилях"
   ]
  },
  {
   "cell_type": "code",
   "execution_count": null,
   "metadata": {},
   "outputs": [],
   "source": [
    "(\n",
    "    data[['rooms', 'total_area', 'ceiling_height', 'days_exposition', 'last_price', 'living_area',  \n",
    "        'kitchen_area', 'floor',   'floors_total']]\n",
    "    .quantile([0.01, .5, .90, .9976])  \n",
    "    .style.format(\"{:,.2f}\")\n",
    ")"
   ]
  },
  {
   "cell_type": "markdown",
   "metadata": {},
   "source": [
    "## Посчитайте и добавьте в таблицу новые столбцы"
   ]
  },
  {
   "cell_type": "markdown",
   "metadata": {},
   "source": [
    "### Рассчитаем цену одного квадратного метра"
   ]
  },
  {
   "cell_type": "code",
   "execution_count": null,
   "metadata": {},
   "outputs": [],
   "source": [
    "data['square_meter_price'] = (data['last_price'] / data['total_area']).round()"
   ]
  },
  {
   "cell_type": "markdown",
   "metadata": {},
   "source": [
    "### Категоризируем по времени публикации"
   ]
  },
  {
   "cell_type": "markdown",
   "metadata": {},
   "source": [
    "#### По дню недели."
   ]
  },
  {
   "cell_type": "code",
   "execution_count": null,
   "metadata": {},
   "outputs": [],
   "source": [
    "data['day_of_week'] = data['first_day_exposition'].dt.weekday"
   ]
  },
  {
   "cell_type": "markdown",
   "metadata": {},
   "source": [
    "#### По месяцу публикации."
   ]
  },
  {
   "cell_type": "code",
   "execution_count": null,
   "metadata": {},
   "outputs": [],
   "source": [
    "data['month'] = data['first_day_exposition'].dt.month"
   ]
  },
  {
   "cell_type": "markdown",
   "metadata": {},
   "source": [
    "#### По году публикации."
   ]
  },
  {
   "cell_type": "code",
   "execution_count": null,
   "metadata": {},
   "outputs": [],
   "source": [
    "data['year'] = data['first_day_exposition'].dt.year"
   ]
  },
  {
   "cell_type": "code",
   "execution_count": null,
   "metadata": {},
   "outputs": [],
   "source": [
    "data[['first_day_exposition','square_meter_price', 'day_of_week', 'month', 'year']].head()"
   ]
  },
  {
   "cell_type": "markdown",
   "metadata": {},
   "source": [
    "### Категоризируем квартиры по этажу"
   ]
  },
  {
   "cell_type": "markdown",
   "metadata": {},
   "source": [
    "**Создадим функцию, которая присваивает категорию по этажу.**"
   ]
  },
  {
   "cell_type": "code",
   "execution_count": null,
   "metadata": {},
   "outputs": [],
   "source": [
    "data['floor_category'] = 'other'\n",
    "data.loc[data['floors_total'] == data['floor'], 'floor_category'] = 'last'\n",
    "data.loc[data['floors_total'] == -1, 'floor_category'] = 'unknown'\n",
    "# часть квартир с неизвестным количеством этажей будут переименованы, \n",
    "# так как категория первых этажей не зависит от общего количества этажей\n",
    "data.loc[data['floor'] == 1, 'floor_category'] = 'first'"
   ]
  },
  {
   "cell_type": "code",
   "execution_count": null,
   "metadata": {},
   "outputs": [],
   "source": [
    "data['floor_category'].value_counts()"
   ]
  },
  {
   "cell_type": "markdown",
   "metadata": {},
   "source": [
    "**И функцию которая присвоит численные категории для определения зависимостей в дальнейшем.**\n",
    "  - 1 - первый  \n",
    "  - 2 - другой  \n",
    "  - 3 - последний  \n",
    "  - 0 - неизвестный"
   ]
  },
  {
   "cell_type": "code",
   "execution_count": null,
   "metadata": {},
   "outputs": [],
   "source": [
    "# check\n",
    "def floor_status(row):\n",
    "    if row['floor'] == 1:\n",
    "        return 'первый'\n",
    "    \n",
    "data['floor_status'] = data.apply(floor_status, axis=1)"
   ]
  },
  {
   "cell_type": "code",
   "execution_count": null,
   "metadata": {},
   "outputs": [],
   "source": [
    "def floor(row):\n",
    "    for i in range(len(data)):\n",
    "        if row == 'first':\n",
    "            return 1\n",
    "        elif row == 'last':\n",
    "            return 3\n",
    "        elif row == 'other':\n",
    "            return 2        \n",
    "        else:\n",
    "            return 0"
   ]
  },
  {
   "cell_type": "code",
   "execution_count": null,
   "metadata": {},
   "outputs": [],
   "source": [
    "data['floor_category_num'] = data['floor_category'].apply(floor)"
   ]
  },
  {
   "cell_type": "code",
   "execution_count": null,
   "metadata": {},
   "outputs": [],
   "source": [
    "data['floor_category_num'].value_counts()"
   ]
  },
  {
   "cell_type": "code",
   "execution_count": null,
   "metadata": {},
   "outputs": [],
   "source": [
    "data[['floor', 'floors_total', 'floor_category', 'floor_category_num']].head()"
   ]
  },
  {
   "cell_type": "markdown",
   "metadata": {},
   "source": [
    "### Запишем расстояние до центра города в километрах"
   ]
  },
  {
   "cell_type": "code",
   "execution_count": null,
   "metadata": {},
   "outputs": [],
   "source": [
    "data['cityCenters_nearest_km'] = (data['cityCenters_nearest'] / 1000).round()\n",
    "data['cityCenters_nearest_km'] = data['cityCenters_nearest_km'].astype(int)"
   ]
  },
  {
   "cell_type": "code",
   "execution_count": null,
   "metadata": {},
   "outputs": [],
   "source": [
    "data['cityCenters_nearest_km'].head(3)"
   ]
  },
  {
   "cell_type": "markdown",
   "metadata": {},
   "source": [
    "### Промежуточный вывод"
   ]
  },
  {
   "cell_type": "markdown",
   "metadata": {},
   "source": [
    "**В таблицу были внесены дополнительные параметры, по которым будет проводиться исследование в следующих этапах.**"
   ]
  },
  {
   "cell_type": "markdown",
   "metadata": {},
   "source": [
    "## Проведите исследовательский анализ данных"
   ]
  },
  {
   "cell_type": "markdown",
   "metadata": {},
   "source": [
    "### Изучение параметров"
   ]
  },
  {
   "cell_type": "markdown",
   "metadata": {},
   "source": [
    "#### Общая площадь"
   ]
  },
  {
   "cell_type": "code",
   "execution_count": null,
   "metadata": {},
   "outputs": [],
   "source": [
    "data['total_area'].describe()"
   ]
  },
  {
   "cell_type": "code",
   "execution_count": null,
   "metadata": {},
   "outputs": [],
   "source": [
    "fig, ax = plt.subplots()\n",
    "\n",
    "data['total_area'].plot(kind='hist', bins=100, grid=True, figsize=(10,4))\n",
    "\n",
    "ax.set_title('Распределение общей площади'+\"\\n\", fontsize=14)\n",
    "\n",
    "ax.set_xlabel(\"\\n\"'Общая площадь, м.', fontsize=12)\n",
    "ax.set_ylabel('Количество', fontsize=12)\n",
    "\n",
    "ax.locator_params(axis='x', nbins=20)\n",
    "\n",
    "plt.show()"
   ]
  },
  {
   "cell_type": "markdown",
   "metadata": {},
   "source": [
    "**Наиболее распространеными явялются квартиры с площадью от 30 до 80 квадратных метров. Дальнейше увеличение площади связано с уменьшением количества квартир.**"
   ]
  },
  {
   "cell_type": "markdown",
   "metadata": {},
   "source": [
    "#### Жилая площадь"
   ]
  },
  {
   "cell_type": "code",
   "execution_count": null,
   "metadata": {},
   "outputs": [],
   "source": [
    "data['living_area'].describe()"
   ]
  },
  {
   "cell_type": "code",
   "execution_count": null,
   "metadata": {},
   "outputs": [],
   "source": [
    "fig, ax = plt.subplots()\n",
    "\n",
    "(\n",
    "    data\n",
    "    .query('living_area != -1')['living_area']\n",
    "    .plot(kind='hist', bins=200, grid=True, figsize=(10,4))\n",
    ")\n",
    "\n",
    "ax.set_title('Распределение жилой площади'+\"\\n\", fontsize=14)\n",
    "\n",
    "ax.set_xlabel('Жилая площадь, м.', fontsize=12)\n",
    "ax.set_ylabel('Количество', fontsize=12)\n",
    "\n",
    "ax.locator_params(axis='x', nbins=20)\n",
    "\n",
    "plt.show()"
   ]
  },
  {
   "cell_type": "markdown",
   "metadata": {},
   "source": [
    "**На графике видно, что первый пик количества квартир по жилой площади приходится на 16-18 квадратных метров, а второй на 30 квадратных метров.**"
   ]
  },
  {
   "cell_type": "markdown",
   "metadata": {},
   "source": [
    "#### Площадь кухни"
   ]
  },
  {
   "cell_type": "code",
   "execution_count": null,
   "metadata": {},
   "outputs": [],
   "source": [
    "data['kitchen_area'].describe()"
   ]
  },
  {
   "cell_type": "code",
   "execution_count": null,
   "metadata": {},
   "outputs": [],
   "source": [
    "fig, ax = plt.subplots()\n",
    "\n",
    "(\n",
    "    data\n",
    "    .query('kitchen_area != -1')['kitchen_area']\n",
    "    .plot(kind='hist', bins=40, grid=True, figsize=(10,4))\n",
    ")\n",
    "\n",
    "ax.set_title('Распределение площади кухни'+\"\\n\", fontsize=14)\n",
    "\n",
    "ax.set_xlabel('Площадь кухни, м.', fontsize=12)\n",
    "ax.set_ylabel('Количество', fontsize=12)\n",
    "\n",
    "ax.locator_params(axis='x', nbins=20)\n",
    "\n",
    "plt.show()"
   ]
  },
  {
   "cell_type": "markdown",
   "metadata": {},
   "source": [
    "**Чаще всего встречаются квартиры с площадью кухни в 5-11 квадратных метров.**"
   ]
  },
  {
   "cell_type": "markdown",
   "metadata": {},
   "source": [
    "#### Цена объекта"
   ]
  },
  {
   "cell_type": "code",
   "execution_count": null,
   "metadata": {},
   "outputs": [],
   "source": [
    "data['last_price'].describe()"
   ]
  },
  {
   "cell_type": "code",
   "execution_count": null,
   "metadata": {},
   "outputs": [],
   "source": [
    "fig, ax = plt.subplots()\n",
    "\n",
    "(data['last_price']/10**6).plot(kind='hist', bins=150, grid=True, figsize=(10,4))\n",
    "\n",
    "ax.set_title('Распределение цен'+\"\\n\", fontsize=14)\n",
    "\n",
    "ax.set_xlabel('Цена, млн.', fontsize=12)\n",
    "ax.set_ylabel('Количество', fontsize=12)\n",
    "\n",
    "ax.locator_params(axis='x', nbins=35)\n",
    "\n",
    "plt.show()"
   ]
  },
  {
   "cell_type": "markdown",
   "metadata": {},
   "source": [
    "**Чаще всего встречаются квартиры стоимостью 2-7 млн.**"
   ]
  },
  {
   "cell_type": "markdown",
   "metadata": {},
   "source": [
    "#### Количество комнат"
   ]
  },
  {
   "cell_type": "code",
   "execution_count": null,
   "metadata": {},
   "outputs": [],
   "source": [
    "fig, ax = plt.subplots()\n",
    "\n",
    "(\n",
    "    data['rooms']\n",
    "                 .value_counts(sort=False)\n",
    "                 .plot(kind='bar', grid=True, figsize=(8,4))\n",
    ")\n",
    "\n",
    "ax.set_title('Распределение по числу комнат'+\"\\n\", fontsize=14)\n",
    "\n",
    "ax.set_xlabel('Число комнат', fontsize=12)\n",
    "ax.set_ylabel('Количество квартир', fontsize=12)\n",
    "\n",
    "plt.xticks(rotation=0)\n",
    "\n",
    "plt.show()"
   ]
  },
  {
   "cell_type": "markdown",
   "metadata": {},
   "source": [
    "**Больше всего распространены квартиры с 1, 2, 3 комнатами.**"
   ]
  },
  {
   "cell_type": "markdown",
   "metadata": {},
   "source": [
    "#### Высота потолков"
   ]
  },
  {
   "cell_type": "code",
   "execution_count": null,
   "metadata": {},
   "outputs": [],
   "source": [
    "fig, ax = plt.subplots()\n",
    "\n",
    "(\n",
    "    data\n",
    "        .query('ceiling_height != -1')['ceiling_height']\n",
    "        .plot(kind='hist', bins=50, grid=True, figsize=(10,4))\n",
    ")\n",
    "\n",
    "ax.set_title('Распределение высот потолка'+\"\\n\", fontsize=14)\n",
    "\n",
    "ax.locator_params(axis='x', nbins=20)\n",
    "\n",
    "plt.xlabel('Высота потолка, м.', fontsize=12)\n",
    "plt.ylabel('Количество', fontsize=12)\n",
    "\n",
    "plt.show()"
   ]
  },
  {
   "cell_type": "markdown",
   "metadata": {},
   "source": [
    "**2.5 метра - самая распространёная высота потолков.**"
   ]
  },
  {
   "cell_type": "markdown",
   "metadata": {},
   "source": [
    "#### Этаж квартиры"
   ]
  },
  {
   "cell_type": "code",
   "execution_count": null,
   "metadata": {},
   "outputs": [],
   "source": [
    "fig, ax = plt.subplots()\n",
    "\n",
    "data['floor'].plot(kind='hist', bins=32, grid=True, figsize=(10,4))\n",
    "\n",
    "plt.suptitle('Распределение этажей квартир'+\"\\n\", fontsize=16)\n",
    "\n",
    "ax.locator_params(axis='x', nbins=60)\n",
    "\n",
    "plt.xlabel('Этаж', fontsize=14)\n",
    "plt.ylabel('Количество', fontsize=14)\n",
    "\n",
    "plt.show()"
   ]
  },
  {
   "cell_type": "markdown",
   "metadata": {},
   "source": [
    "**Чаще продают квартиры на нижних этажах.**"
   ]
  },
  {
   "cell_type": "markdown",
   "metadata": {},
   "source": [
    "#### Тип этажа квартиры"
   ]
  },
  {
   "cell_type": "code",
   "execution_count": null,
   "metadata": {},
   "outputs": [],
   "source": [
    "data['floor_category'].value_counts()"
   ]
  },
  {
   "cell_type": "code",
   "execution_count": null,
   "metadata": {},
   "outputs": [],
   "source": [
    "fig, ax = plt.subplots()\n",
    "\n",
    "(\n",
    "    data['floor_category']\n",
    "                          .value_counts()\n",
    "                          .plot(kind='bar', grid=True, figsize=(8,4))\n",
    ")\n",
    "\n",
    "ax.set_title('Распределение по типам этажа квартиры'+\"\\n\", fontsize=14)\n",
    "\n",
    "ax.set_xlabel(\"\\n\"+'Тип этажа', fontsize=12)\n",
    "ax.set_ylabel('Количество', fontsize=12)\n",
    "\n",
    "ax.set_xticklabels(['Другой','Последний','Первый','Неизвестный'], rotation=0)\n",
    "\n",
    "plt.show()"
   ]
  },
  {
   "cell_type": "markdown",
   "metadata": {},
   "source": [
    "**Квартиры на последнем этаже продаются реже, чем на первом.**"
   ]
  },
  {
   "cell_type": "markdown",
   "metadata": {},
   "source": [
    "#### Общее количество этажей в доме"
   ]
  },
  {
   "cell_type": "code",
   "execution_count": null,
   "metadata": {},
   "outputs": [],
   "source": [
    "fig, ax = plt.subplots()\n",
    "\n",
    "(\n",
    "    data\n",
    "        .query('floors_total >=1')['floors_total']\n",
    "        .plot(kind='hist', bins=100, grid=True, figsize=(10,4))\n",
    ")\n",
    "\n",
    "ax.set_title('Распределение по количеству этажей в доме'+\"\\n\", fontsize=14)\n",
    "\n",
    "ax.set_xlabel('Всего этажей', fontsize=12)\n",
    "ax.set_ylabel('Количество', fontsize=12)\n",
    "\n",
    "ax.locator_params(axis='x', nbins=40)\n",
    "\n",
    "plt.show()"
   ]
  },
  {
   "cell_type": "markdown",
   "metadata": {},
   "source": [
    "**Чаще всего продаются квартиры в пятиэтажных домах и в девятиэтажных.**"
   ]
  },
  {
   "cell_type": "markdown",
   "metadata": {},
   "source": [
    "#### Расстояние до центра города в метрах"
   ]
  },
  {
   "cell_type": "code",
   "execution_count": null,
   "metadata": {},
   "outputs": [],
   "source": [
    "fig, ax = plt.subplots()\n",
    "\n",
    "(\n",
    "    data\n",
    "        .query('cityCenters_nearest >= 0')['cityCenters_nearest']\n",
    "        .plot(kind='hist', bins=120, grid=True, figsize=(10,4))\n",
    ")\n",
    "\n",
    "ax.set_title('Распределение удаления от центра'+\"\\n\", fontsize=16)\n",
    "\n",
    "ax.set_xlabel('Расстояние до центра', fontsize=14)\n",
    "ax.set_ylabel('Количество', fontsize=14)\n",
    "\n",
    "plt.show()"
   ]
  },
  {
   "cell_type": "markdown",
   "metadata": {},
   "source": [
    "**Большинство квартир располагаются в пределах 20 километров от центра населённого пункта.**"
   ]
  },
  {
   "cell_type": "markdown",
   "metadata": {},
   "source": [
    "#### Расстояние до ближайшего аэропорта"
   ]
  },
  {
   "cell_type": "code",
   "execution_count": null,
   "metadata": {},
   "outputs": [],
   "source": [
    "fig, ax = plt.subplots()\n",
    "\n",
    "(\n",
    "    data\n",
    "        .query('airports_nearest >= 0')['airports_nearest']\n",
    "        .plot(kind='hist', bins=120, grid=True, figsize=(10,4))\n",
    ")\n",
    "\n",
    "ax.set_title('Распределение удаления от аэропорта'+\"\\n\", fontsize=16)\n",
    "\n",
    "ax.set_xlabel('Расстояние до аэропорта, м.', fontsize=14)\n",
    "ax.set_ylabel('Количество', fontsize=14)\n",
    "\n",
    "plt.show()"
   ]
  },
  {
   "cell_type": "markdown",
   "metadata": {},
   "source": [
    "**Практически все квартиры расположены в пределах 55 км от аэропорта.**"
   ]
  },
  {
   "cell_type": "markdown",
   "metadata": {},
   "source": [
    "#### Расстояние до ближайшего парка"
   ]
  },
  {
   "cell_type": "code",
   "execution_count": null,
   "metadata": {},
   "outputs": [],
   "source": [
    "fig, ax = plt.subplots()\n",
    "\n",
    "(\n",
    "    data\n",
    "        .query('parks_nearest >= 0')['parks_nearest']\n",
    "        .plot(kind='hist', bins=120, grid=True, figsize=(10,4))\n",
    ")\n",
    "\n",
    "ax.set_title('Распределение удаления от парка'+\"\\n\", fontsize=16)\n",
    "\n",
    "ax.set_xlabel('Расстояние до парка', fontsize=14)\n",
    "ax.set_ylabel('Количество', fontsize=14)\n",
    "\n",
    "plt.show()"
   ]
  },
  {
   "cell_type": "markdown",
   "metadata": {},
   "source": [
    "**Большинство квартир располагаются менее чем в 1 километре от парка.**"
   ]
  },
  {
   "cell_type": "markdown",
   "metadata": {},
   "source": [
    "#### День, месяц и год публикации объявления"
   ]
  },
  {
   "cell_type": "code",
   "execution_count": null,
   "metadata": {},
   "outputs": [],
   "source": [
    "fig, ax = plt.subplots()\n",
    "\n",
    "ax.plot( data.groupby('year').count(), color = 'blue')\n",
    "\n",
    "ax.set_title('Распределение объявлений по времени от публикации до снятия'+\"\\n\", size=14)\n",
    "\n",
    "ax.set_xlabel('Год', size=12)\n",
    "ax.set_ylabel('Количество объявлений', size=12)\n",
    "\n",
    "fig.set_figwidth(10)\n",
    "fig.set_figheight(4)\n",
    "\n",
    "ax.grid()\n",
    "\n",
    "plt.show()"
   ]
  },
  {
   "cell_type": "code",
   "execution_count": null,
   "metadata": {},
   "outputs": [],
   "source": [
    "data.sort_values(by='first_day_exposition')['first_day_exposition']"
   ]
  },
  {
   "cell_type": "markdown",
   "metadata": {},
   "source": [
    "**На графике распределения объявлений по годам видно, что идёт рост до 2018 года, а в 2019 спад. Спад связан с тем, что крайняя маркировка даты в датасете заканчивается в мае.** "
   ]
  },
  {
   "cell_type": "code",
   "execution_count": null,
   "metadata": {},
   "outputs": [],
   "source": [
    "fig, ax = plt.subplots()\n",
    "\n",
    "(\n",
    "    data['day_of_week']\n",
    "                       .value_counts(sort=False)\n",
    "                       .plot(kind='bar', grid=True, figsize=(10,4))\n",
    ")\n",
    "\n",
    "ax.set_title('Распределение публикаций объявлений по дням недели'+\"\\n\", fontsize=14)\n",
    "\n",
    "ax.set_xlabel('День недели', fontsize=12)\n",
    "ax.set_ylabel('Количество', fontsize=12)\n",
    "\n",
    "ax.set_xticklabels(['Пн', 'Вт', 'Ср', 'Чт', 'Пт', 'Сб','Вс'], rotation=0)\n",
    "\n",
    "plt.show()"
   ]
  },
  {
   "cell_type": "code",
   "execution_count": null,
   "metadata": {
    "scrolled": true
   },
   "outputs": [],
   "source": [
    "fig, ax = plt.subplots()\n",
    "\n",
    "(\n",
    "    data['month']\n",
    "                 .value_counts(sort=False)\n",
    "                 .plot(kind='bar', grid=True, figsize=(10,4))\n",
    ")\n",
    "\n",
    "ax.set_title('Распределение публикаций объявлений по месяцам'+\"\\n\", fontsize=14)\n",
    "\n",
    "ax.set_xlabel('Месяц', fontsize=12)\n",
    "ax.set_ylabel('Количество', fontsize=12)\n",
    "\n",
    "ax.set_xticklabels(['Январь', 'Февраль', 'Март',\n",
    "                    'Апрель', 'Май', 'Июнь', \n",
    "                    'Июль', 'Август', 'Сентябрь', \n",
    "                    'Октябрь', 'Ноябрь', 'Декабрь'], \n",
    "                    rotation=0,\n",
    "                    size=9)\n",
    "\n",
    "plt.show()"
   ]
  },
  {
   "cell_type": "markdown",
   "metadata": {},
   "source": [
    "**По данным графикам можно сделать выводы о том, что по выходным пользователи публикуют объявления реже, чем в будние дни, а также, что пик публикаций приходится на конец зимы - начало весны и конец осени.**"
   ]
  },
  {
   "cell_type": "markdown",
   "metadata": {},
   "source": [
    "### Изучение факторов быстроты продажи квартир"
   ]
  },
  {
   "cell_type": "code",
   "execution_count": null,
   "metadata": {},
   "outputs": [],
   "source": [
    "fig, ax = plt.subplots()\n",
    "\n",
    "(\n",
    "    data\n",
    "        .query('days_exposition > 0')['days_exposition']\n",
    "        .plot(kind='hist', bins=120, grid=True, figsize=(10,4))\n",
    ")\n",
    "\n",
    "ax.set_title('Распределение объявлений по времени от публикации до снятия'+\"\\n\", fontsize=16)\n",
    "\n",
    "ax.set_xlabel('Общее время', fontsize=14)\n",
    "ax.set_ylabel('Количество', fontsize=14)\n",
    "\n",
    "plt.show()"
   ]
  },
  {
   "cell_type": "code",
   "execution_count": null,
   "metadata": {},
   "outputs": [],
   "source": [
    "data.query('days_exposition != -1')['days_exposition'].describe()"
   ]
  },
  {
   "cell_type": "markdown",
   "metadata": {},
   "source": [
    "**В среднем квартиры продаются за 178 дней, но на этот результат оказывают влияние слишком долгие и слишком быстрые продажи, чтобы получить более объективное значение возьмём самое распространенное время продажи в 94 дня. Быстрой продажей можно считать продажу за менее, чем 44 дня. Слишком долгой продажей можно считать продажу более чем за 227 дня.**"
   ]
  },
  {
   "cell_type": "markdown",
   "metadata": {},
   "source": [
    "#### Средняя скорость продаж по годам"
   ]
  },
  {
   "cell_type": "code",
   "execution_count": null,
   "metadata": {},
   "outputs": [],
   "source": [
    "data.query('days_exposition != -1 and year == 2019')['days_exposition'].describe()"
   ]
  },
  {
   "cell_type": "code",
   "execution_count": null,
   "metadata": {},
   "outputs": [],
   "source": [
    "fig, ax = plt.subplots()\n",
    "(\n",
    "    data\n",
    "        .query('days_exposition != -1')\n",
    "        .groupby('year')['days_exposition']\n",
    "        .mean()\n",
    "        .plot(kind='line', style='o-' ,grid=True, figsize=(10,4))\n",
    ")\n",
    "\n",
    "ax.set_title('Распределение объявлений по времени от публикации до продажи'+\"\\n\", size=14)\n",
    "\n",
    "ax.set_xlabel('Год', size=12)\n",
    "ax.set_ylabel('Время продажи', size=12)\n",
    "\n",
    "plt.show()"
   ]
  },
  {
   "cell_type": "markdown",
   "metadata": {},
   "source": [
    "**На графике видно, что время продажи уменьшается, следовательно, средняя скорость продажи с годами увеличивается.**"
   ]
  },
  {
   "cell_type": "markdown",
   "metadata": {},
   "source": [
    "#### Средняя скорость продаж от количетсва комнат"
   ]
  },
  {
   "cell_type": "code",
   "execution_count": null,
   "metadata": {},
   "outputs": [],
   "source": [
    "fig, ax = plt.subplots()\n",
    "(\n",
    "    data\n",
    "        .query('days_exposition != -1')\n",
    "        .groupby('rooms')['days_exposition']\n",
    "        .mean()\n",
    "        .plot(kind='bar' ,grid=True, figsize=(10,4))\n",
    ")\n",
    "\n",
    "ax.set_title('Распределение объявлений по времени продажи от количества комнат'+\"\\n\", size=14)\n",
    "\n",
    "ax.set_xlabel('Количество комнат', size=12)\n",
    "ax.set_ylabel('Время продажи', size=12)\n",
    "\n",
    "plt.ylim(0,350)\n",
    "plt.xticks(rotation=0)\n",
    "plt.show()"
   ]
  },
  {
   "cell_type": "markdown",
   "metadata": {},
   "source": [
    "#### Средняя скорость продаж от количетсва фотографий"
   ]
  },
  {
   "cell_type": "code",
   "execution_count": null,
   "metadata": {},
   "outputs": [],
   "source": [
    "fig, ax = plt.subplots()\n",
    "(\n",
    "    data\n",
    "        .query('days_exposition != -1')\n",
    "        .groupby('total_images')['days_exposition']\n",
    "        .mean()\n",
    "        .plot(kind='line', style='o-' ,grid=True, figsize=(10,4))\n",
    ")\n",
    "\n",
    "ax.set_title('Распределение объявлений по времени продажи от количества фотографий'+\"\\n\", size=14)\n",
    "\n",
    "ax.set_xlabel('Количество фотографий', size=12)\n",
    "ax.set_ylabel('Время продажи', size=12)\n",
    "\n",
    "plt.ylim(0,350)\n",
    "\n",
    "plt.show()"
   ]
  },
  {
   "cell_type": "markdown",
   "metadata": {},
   "source": [
    "#### Средняя скорость продаж от этажа"
   ]
  },
  {
   "cell_type": "code",
   "execution_count": null,
   "metadata": {},
   "outputs": [],
   "source": [
    "fig, ax = plt.subplots()\n",
    "(\n",
    "    data\n",
    "        .query('days_exposition != -1')\n",
    "        .groupby('floor')['days_exposition']\n",
    "        .mean()\n",
    "        .plot(kind='bar', style='o-' ,grid=True, figsize=(10,4))\n",
    ")\n",
    "\n",
    "ax.set_title('Распределение объявлений по времени продажи от этажа'+\"\\n\", size=14)\n",
    "\n",
    "ax.set_xlabel('Этаж', size=12)\n",
    "ax.set_ylabel('Время продажи', size=12)\n",
    "\n",
    "plt.ylim(0,250)\n",
    "plt.xticks(rotation=0)\n",
    "plt.show()"
   ]
  },
  {
   "cell_type": "markdown",
   "metadata": {},
   "source": [
    "#### Средняя скорость продаж от цены"
   ]
  },
  {
   "cell_type": "code",
   "execution_count": null,
   "metadata": {},
   "outputs": [],
   "source": [
    "data['price_range'] = pd.qcut((data['last_price']/10**6),q=20) # поделил на равные доли по ценам"
   ]
  },
  {
   "cell_type": "code",
   "execution_count": null,
   "metadata": {
    "scrolled": true
   },
   "outputs": [],
   "source": [
    "fig, ax = plt.subplots()\n",
    "\n",
    "data.groupby(by='price_range')['days_exposition'].mean().plot(grid=True, figsize=(10,4))\n",
    "\n",
    "ax.set_title('Зависимость скорости продажи от цены'+\"\\n\", fontsize=14)\n",
    "\n",
    "\n",
    "ax.set_xlabel('Цена, млн.', fontsize=14)\n",
    "ax.set_ylabel('Среднее время продажи', fontsize=14)\n",
    "\n",
    "ax.locator_params(axis='x', nbins=50)\n",
    "\n",
    "plt.show()"
   ]
  },
  {
   "cell_type": "markdown",
   "metadata": {},
   "source": [
    "Моды на реальных данных"
   ]
  },
  {
   "cell_type": "code",
   "execution_count": null,
   "metadata": {},
   "outputs": [],
   "source": [
    "df_check = pd.read_csv('/datasets/real_estate_data.csv', sep = '\\t')\n",
    "    \n",
    "df_check['days_exposition'].value_counts().to_frame().head(20).plot(kind = 'barh', figsize = (15,6), rot = 0);"
   ]
  },
  {
   "cell_type": "markdown",
   "metadata": {},
   "source": [
    "### Изучение факторов, оказывающих наибольшее влияния на цену квартиры"
   ]
  },
  {
   "cell_type": "markdown",
   "metadata": {},
   "source": [
    "**Создадим датафрейм полностью очищенный от пропусков и аномальных значений.**"
   ]
  },
  {
   "cell_type": "code",
   "execution_count": null,
   "metadata": {},
   "outputs": [],
   "source": [
    "good_data = (\n",
    "        data\n",
    "            .query('5 * 10**5 < last_price < 30 * 10**6')\n",
    "            .query('0 <= rooms <= 7')\n",
    "            .query('0 <= total_area < 250')\n",
    "            .query('0 <= ceiling_height <= 4')\n",
    "            .query('0 <= living_area <= 140')\n",
    "            .query('0 <=  kitchen_area <= 30')\n",
    "            .query('0 <= floors_total < 35')    \n",
    "            .query('0 <= airports_nearest < 70000')\n",
    "        )"
   ]
  },
  {
   "cell_type": "code",
   "execution_count": null,
   "metadata": {},
   "outputs": [],
   "source": [
    "print('Отфильтровано:',(len(raw_data) - len(good_data))/len(raw_data)*100 , '%')"
   ]
  },
  {
   "cell_type": "markdown",
   "metadata": {},
   "source": [
    "**Как мы видим, больше половины записей утрачены, зато оставшиеся даные оптимальны для подсчёта зависимостей.**"
   ]
  },
  {
   "cell_type": "markdown",
   "metadata": {},
   "source": [
    "**Посмотрим на кореляцию цены квартиры с другими параметрами.**"
   ]
  },
  {
   "cell_type": "code",
   "execution_count": null,
   "metadata": {},
   "outputs": [],
   "source": [
    "data.corr()['last_price'].sort_values(ascending=False)"
   ]
  },
  {
   "cell_type": "code",
   "execution_count": null,
   "metadata": {},
   "outputs": [],
   "source": [
    "good_data.corr()['last_price'].sort_values(ascending=False)"
   ]
  },
  {
   "cell_type": "markdown",
   "metadata": {},
   "source": [
    "**Видна значительная корреляция цены с ценой квадратного метра, площадью квартиры, жилой площадью, а также незначительная корреляция с площадью кухни, количеством комнат, высотой потолков, наличием водоёмов и парков в пределах 3 км. и удалением от центра населённого пункта.\n",
    "При этом цена практически не зависит от этажа и времени публикации объявления.**"
   ]
  },
  {
   "cell_type": "markdown",
   "metadata": {},
   "source": [
    "#### Зависимость от площади"
   ]
  },
  {
   "cell_type": "code",
   "execution_count": null,
   "metadata": {},
   "outputs": [],
   "source": [
    "fig, ax = plt.subplots(1,3)\n",
    "\n",
    "x = (good_data['last_price']/10**6).tolist()\n",
    "y_1 = good_data['total_area'].tolist()\n",
    "y_2 = good_data['living_area'].tolist()\n",
    "y_3 = good_data['kitchen_area'].tolist()\n",
    "\n",
    "ax[0].scatter(x=x, y=y_1, data=good_data, alpha=0.2)\n",
    "ax[1].scatter(x=x, y=y_2, data=good_data, alpha=0.2)\n",
    "ax[2].scatter(x=x, y=y_3, data=good_data, alpha=0.2)\n",
    "\n",
    "ax[0].set_title('Зависимость цены от площади'+\"\\n\", fontsize=14)\n",
    "ax[1].set_title('Зависимость цены от жилой площади'+\"\\n\", fontsize=14)\n",
    "ax[2].set_title('Зависимость цены от площади кухни'+\"\\n\", fontsize=14)\n",
    "\n",
    "ax[0].set_xlabel('Цена, млн.', fontsize=14)\n",
    "ax[0].set_ylabel('Общая площадь', fontsize=14)\n",
    "ax[1].set_xlabel('Цена, млн.', fontsize=14)\n",
    "ax[1].set_ylabel('Жилая площадь', fontsize=14)\n",
    "ax[2].set_xlabel('Цена, млн.', fontsize=14)\n",
    "ax[2].set_ylabel('Площадь кухни', fontsize=14)\n",
    "\n",
    "fig.set_figwidth(16)\n",
    "fig.set_figheight(5)\n",
    "\n",
    "plt.show()"
   ]
  },
  {
   "cell_type": "code",
   "execution_count": null,
   "metadata": {
    "scrolled": false
   },
   "outputs": [],
   "source": [
    "data_1 = data.query('total_area != -1 and living_area != -1 and kitchen_area != -1')\n",
    "fig, ax = plt.subplots(1,3)\n",
    "\n",
    "x = (data_1['last_price']/10**6).tolist()\n",
    "y_1 = data_1['total_area'].tolist()\n",
    "y_2 = data_1['living_area'].tolist()\n",
    "y_3 = data_1['kitchen_area'].tolist()\n",
    "\n",
    "ax[0].scatter(x=x, y=y_1, data=data_1, alpha=0.2)\n",
    "ax[1].scatter(x=x, y=y_2, data=data_1, alpha=0.2)\n",
    "ax[2].scatter(x=x, y=y_3, data=data_1, alpha=0.2)\n",
    "\n",
    "ax[0].set_title('Зависимость цены от площади'+\"\\n\", fontsize=14)\n",
    "ax[1].set_title('Зависимость цены от жилой площади'+\"\\n\", fontsize=14)\n",
    "ax[2].set_title('Зависимость цены от площади кухни'+\"\\n\", fontsize=14)\n",
    "\n",
    "ax[0].set_xlabel('Цена, млн.', fontsize=14)\n",
    "ax[0].set_ylabel('Общая площадь', fontsize=14)\n",
    "ax[1].set_xlabel('Цена, млн.', fontsize=14)\n",
    "ax[1].set_ylabel('Жилая площадь', fontsize=14)\n",
    "ax[2].set_xlabel('Цена, млн.', fontsize=14)\n",
    "ax[2].set_ylabel('Площадь кухни', fontsize=14)\n",
    "\n",
    "fig.set_figwidth(16)\n",
    "fig.set_figheight(5)\n",
    "\n",
    "plt.show()"
   ]
  },
  {
   "cell_type": "markdown",
   "metadata": {},
   "source": [
    "**Наблюдается увеличение цены при увеличении различных площадей квартиры.**"
   ]
  },
  {
   "cell_type": "markdown",
   "metadata": {},
   "source": [
    "#### Зависимость от количества комнат"
   ]
  },
  {
   "cell_type": "code",
   "execution_count": null,
   "metadata": {},
   "outputs": [],
   "source": [
    "fig, ax = plt.subplots()\n",
    "(\n",
    "    (data\n",
    "         .groupby('rooms')['last_price']\n",
    "         .mean()/10**6)\n",
    "         .plot(kind='bar',grid=True, figsize=(10,4))\n",
    ")\n",
    "\n",
    "ax.set_title('Средняя цена квартир по количеству комнат'+\"\\n\", size=14)\n",
    "\n",
    "ax.set_xlabel(\"\\n\"+'Количество комнат', size=12)\n",
    "ax.set_ylabel('Средняя цена, млн.', size=12)\n",
    "\n",
    "plt.xticks(rotation=0)\n",
    "\n",
    "plt.show()"
   ]
  },
  {
   "cell_type": "markdown",
   "metadata": {},
   "source": [
    "**С увеличением количества комнат цена растёт.**"
   ]
  },
  {
   "cell_type": "markdown",
   "metadata": {},
   "source": [
    "#### Зависимость от этажа"
   ]
  },
  {
   "cell_type": "code",
   "execution_count": null,
   "metadata": {},
   "outputs": [],
   "source": [
    "fig, ax = plt.subplots()\n",
    "(\n",
    "    (data\n",
    "         .query('floor_category != \"unknown\"')\n",
    "         .groupby('floor_category')['last_price']\n",
    "         .mean()/10**6)\n",
    "         .plot(kind='bar',grid=True, figsize=(10,4))\n",
    ")\n",
    "\n",
    "ax.set_title('Средняя цена квартир по типу этажа'+\"\\n\", size=14)\n",
    "\n",
    "ax.set_xlabel(\"\\n\"+'Тип этажа', size=12)\n",
    "ax.set_ylabel('Средняя цена, млн.', size=12)\n",
    "\n",
    "ax.set_xticklabels(['Первый', 'Последний', 'Другой'], rotation=0)\n",
    "\n",
    "plt.show()"
   ]
  },
  {
   "cell_type": "markdown",
   "metadata": {},
   "source": [
    "**Квартиры на первом этаже в среднем стоят заметно дешевле.**"
   ]
  },
  {
   "cell_type": "markdown",
   "metadata": {},
   "source": [
    "#### Зависимость от даты размещения"
   ]
  },
  {
   "cell_type": "markdown",
   "metadata": {},
   "source": [
    "**Зависимость от года размещения.**"
   ]
  },
  {
   "cell_type": "code",
   "execution_count": null,
   "metadata": {
    "scrolled": false
   },
   "outputs": [],
   "source": [
    "fig, ax = plt.subplots()\n",
    "(\n",
    "    (data\n",
    "             .groupby('year')['last_price']\n",
    "             .mean()/10**6)\n",
    "             .plot(kind='line', style='o-', grid=True, figsize=(10,4))\n",
    ")\n",
    "\n",
    "ax.set_title('Средняя цена квартир по годам'+\"\\n\", size=14)\n",
    "\n",
    "ax.set_xlabel('Год', size=12)\n",
    "ax.set_ylabel('Средняя цена, млн.', size=12)\n",
    "plt.ylim(0,10)\n",
    "plt.show()"
   ]
  },
  {
   "cell_type": "markdown",
   "metadata": {},
   "source": [
    "**Зависимость от месяца размещения.**"
   ]
  },
  {
   "cell_type": "code",
   "execution_count": null,
   "metadata": {},
   "outputs": [],
   "source": [
    "fig, ax = plt.subplots()\n",
    "(\n",
    "    (data\n",
    "             .groupby('month')['last_price']\n",
    "             .mean()/10**6)\n",
    "             .plot(kind='bar',grid=True, figsize=(10,4))\n",
    ")\n",
    "\n",
    "ax.set_title('Средняя цена квартир по месяцам'+\"\\n\", size=14)\n",
    "\n",
    "ax.set_xlabel('Месяц', size=12)\n",
    "ax.set_ylabel('Средняя цена, млн.', size=12)\n",
    "\n",
    "ax.set_xticklabels(['Январь', 'Февраль', 'Март',\n",
    "                    'Апрель', 'Май', 'Июнь', \n",
    "                    'Июль', 'Август', 'Сентябрь', \n",
    "                    'Октябрь', 'Ноябрь', 'Декабрь'], \n",
    "                    rotation=0,\n",
    "                    size=9)\n",
    "plt.show()"
   ]
  },
  {
   "cell_type": "markdown",
   "metadata": {},
   "source": [
    "**Зависимость от дня недели размещения.**"
   ]
  },
  {
   "cell_type": "code",
   "execution_count": null,
   "metadata": {},
   "outputs": [],
   "source": [
    "fig, ax = plt.subplots()\n",
    "(\n",
    "    (data\n",
    "             .groupby('day_of_week')['last_price']\n",
    "             .mean()/10**6)\n",
    "             .plot(kind='bar',grid=True, figsize=(10,4))\n",
    ")\n",
    "\n",
    "ax.set_title('Средняя цена квартир по дням недели'+\"\\n\", size=14)\n",
    "\n",
    "ax.set_xlabel('День недели', size=12)\n",
    "ax.set_ylabel('Средняя цена, млн.', size=12)\n",
    "\n",
    "ax.set_xticklabels(['Пн', 'Вт', 'Ср', 'Чт', 'Пт', 'Сб','Вс'], rotation=0)\n",
    "\n",
    "plt.show()"
   ]
  },
  {
   "cell_type": "code",
   "execution_count": null,
   "metadata": {},
   "outputs": [],
   "source": [
    "fig, ax = plt.subplots()\n",
    "(\n",
    "    (data\n",
    "         .groupby('first_day_exposition')['last_price']\n",
    "         .mean()/10**6)\n",
    "         .plot(kind='line', style='o', grid=True, figsize=(16,4), alpha=0.4)\n",
    ")\n",
    "\n",
    "ax.set_title('Средняя цена квартир на всём врмененном промежутке'+\"\\n\", size=14)\n",
    "\n",
    "ax.set_xlabel('Дата', size=12)\n",
    "ax.set_ylabel('Средняя цена, млн.', size=12)\n",
    "\n",
    "plt.show()"
   ]
  },
  {
   "cell_type": "markdown",
   "metadata": {},
   "source": [
    "**По графикам видно, что с годами средняя цена квартир уменьшается до 2018, а в 2019 растёт. По месяцам и дням недели находится примерно на одном уровне. При этом со временм разброс цен значительно уменьшился.**"
   ]
  },
  {
   "cell_type": "markdown",
   "metadata": {},
   "source": [
    "### Расчёт средней стоимости квадратного метра в десяти самых распространёных населённых пунктах"
   ]
  },
  {
   "cell_type": "code",
   "execution_count": null,
   "metadata": {},
   "outputs": [],
   "source": [
    "data['locality_name'] = data['locality_name'].str.replace('посёлок','')\n",
    "data['locality_name'] = data['locality_name'].str.replace('деревня','')"
   ]
  },
  {
   "cell_type": "code",
   "execution_count": null,
   "metadata": {},
   "outputs": [],
   "source": [
    "value_by_locality = (\n",
    "                        data\n",
    "                            .pivot_table(index='locality_name', values='square_meter_price', aggfunc=('mean','count'))\n",
    "                            .sort_values(by='count', ascending=False)\n",
    "                            .head(10)\n",
    "                     )\n",
    "value_by_locality['mean'] = value_by_locality['mean'].astype(int)\n",
    "value_by_locality"
   ]
  },
  {
   "cell_type": "code",
   "execution_count": null,
   "metadata": {},
   "outputs": [],
   "source": [
    "fig, ax = plt.subplots()\n",
    "\n",
    "(\n",
    "    value_by_locality['mean']\n",
    "                             .sort_values(ascending=False)\n",
    "                             .plot(kind='barh', grid=True, figsize=(10,4))\n",
    ")\n",
    "\n",
    "ax.set_title('Средняя цена квадратного метра'+\"\\n\", fontsize=14)\n",
    "\n",
    "ax.set_ylabel('Населённый пункт', fontsize=12)\n",
    "ax.set_xlabel(\"\\n\"+'Цена', fontsize=12)\n",
    "\n",
    "plt.xticks(rotation=0, size=8)\n",
    "\n",
    "plt.show()"
   ]
  },
  {
   "cell_type": "markdown",
   "metadata": {},
   "source": [
    "**Топ-5 пунктов с самымой большой стоимостью квадратного метра**"
   ]
  },
  {
   "cell_type": "code",
   "execution_count": null,
   "metadata": {},
   "outputs": [],
   "source": [
    "value_by_locality.sort_values(by='mean', ascending=False).head()"
   ]
  },
  {
   "cell_type": "code",
   "execution_count": null,
   "metadata": {},
   "outputs": [],
   "source": [
    "fig, ax = plt.subplots()\n",
    "\n",
    "(\n",
    "    value_by_locality\n",
    "                     .sort_values(by='mean', ascending=False)['mean']\n",
    "                     .head()\n",
    "                     .plot(kind='bar', grid=True, figsize=(8,4))\n",
    ")\n",
    "\n",
    "ax.set_title('Топ-5 пунктов с самымой большой стоимостью квадратного метра'+\"\\n\", fontsize=14)\n",
    "\n",
    "ax.set_xlabel(\"\\n\"+'Населённый пункт', fontsize=12)\n",
    "ax.set_ylabel('Цена', fontsize=12)\n",
    "\n",
    "plt.xticks(rotation=0)\n",
    "\n",
    "plt.show()"
   ]
  },
  {
   "cell_type": "markdown",
   "metadata": {},
   "source": [
    "**Топ 5 пунктов с самой маленькой стоимостью квадратного метра.**"
   ]
  },
  {
   "cell_type": "code",
   "execution_count": null,
   "metadata": {},
   "outputs": [],
   "source": [
    "value_by_locality.sort_values(by='mean').head()"
   ]
  },
  {
   "cell_type": "code",
   "execution_count": null,
   "metadata": {},
   "outputs": [],
   "source": [
    "fig, ax = plt.subplots()\n",
    "\n",
    "(\n",
    "    value_by_locality\n",
    "                     .sort_values(by='mean')['mean']\n",
    "                     .head()\n",
    "                     .plot(kind='bar', grid=True, figsize=(8,4))\n",
    ")\n",
    "\n",
    "ax.set_title('Топ-5 пунктов с самымой маленькой стоимостью квадратного метра'+\"\\n\", fontsize=14)\n",
    "\n",
    "ax.set_xlabel(\"\\n\"+'Населённый пункт', fontsize=12)\n",
    "ax.set_ylabel('Цена', fontsize=12)\n",
    "\n",
    "plt.xticks(rotation=0)\n",
    "\n",
    "plt.show()"
   ]
  },
  {
   "cell_type": "markdown",
   "metadata": {},
   "source": [
    "### Средняя цена километра удаления от центра в Санкт-Петербурге"
   ]
  },
  {
   "cell_type": "code",
   "execution_count": null,
   "metadata": {},
   "outputs": [],
   "source": [
    "fig, ax = plt.subplots()\n",
    "\n",
    "(\n",
    "    (data\n",
    "         .query('locality_name == \"Санкт-Петербург\" and cityCenters_nearest_km != -1')\n",
    "         .groupby('cityCenters_nearest_km')['last_price']\n",
    "         .mean()/10**6)\n",
    "         .plot(kind='line', style='-', grid=True, figsize=(10,4))\n",
    ")\n",
    "\n",
    "ax.set_title('Средняя цена квартир по удалению от центра в Санкт-Петербурге'+\"\\n\", size=14)\n",
    "\n",
    "ax.set_xlabel('Удаление от центра', size=12)\n",
    "ax.set_ylabel('Цена, млн.', size=12)\n",
    "\n",
    "ax.locator_params(axis='x', nbins=40)\n",
    "\n",
    "plt.xticks(rotation=0)\n",
    "\n",
    "plt.xlim(-0.5, 29.5)\n",
    "plt.ylim(0,12)\n",
    "\n",
    "plt.show()"
   ]
  },
  {
   "cell_type": "code",
   "execution_count": null,
   "metadata": {},
   "outputs": [],
   "source": [
    "fig, ax = plt.subplots()\n",
    "\n",
    "(\n",
    "    data\n",
    "        .query('locality_name == \"Санкт-Петербург\" and cityCenters_nearest_km != -1')\n",
    "        .groupby('cityCenters_nearest_km')['total_area']\n",
    "        .mean()\n",
    "        .plot(kind='line', style='-', grid=True, figsize=(10,4))\n",
    ")\n",
    "\n",
    "ax.set_title('Средняя площадь квартир по удалению от центра в Санкт-Петербурге'+\"\\n\", size=14)\n",
    "\n",
    "ax.set_xlabel('Удаление от центра', size=12)\n",
    "ax.set_ylabel('Средняя площадь', size=12)\n",
    "\n",
    "ax.locator_params(axis='x', nbins=40)\n",
    "\n",
    "plt.xticks(rotation=0)\n",
    "\n",
    "plt.xlim(-0.5,29.5)\n",
    "plt.ylim(0,90)\n",
    "\n",
    "plt.show()"
   ]
  },
  {
   "cell_type": "code",
   "execution_count": null,
   "metadata": {},
   "outputs": [],
   "source": [
    "fig, ax = plt.subplots()\n",
    "\n",
    "(\n",
    "    data\n",
    "        .query('locality_name == \"Санкт-Петербург\" and cityCenters_nearest_km != -1')\n",
    "        .groupby('cityCenters_nearest_km')['kitchen_area']\n",
    "        .mean()\n",
    "        .plot(kind='line', style='-', grid=True, figsize=(10,4))\n",
    ")\n",
    "\n",
    "ax.set_title('Средняя площадь кухни по удалению от центра в Санкт-Петербурге'+\"\\n\", size=14)\n",
    "\n",
    "ax.set_xlabel('Удаление от центра', size=12)\n",
    "ax.set_ylabel('Площадь кухни', size=12)\n",
    "\n",
    "ax.locator_params(axis='x', nbins=40)\n",
    "\n",
    "plt.xticks(rotation=0)\n",
    "\n",
    "plt.xlim(-0.5,29.5)\n",
    "plt.ylim(0,25)\n",
    "\n",
    "plt.show()"
   ]
  },
  {
   "cell_type": "code",
   "execution_count": null,
   "metadata": {},
   "outputs": [],
   "source": [
    "fig, ax = plt.subplots()\n",
    "\n",
    "(\n",
    "    data\n",
    "        .query('locality_name == \"Санкт-Петербург\" and cityCenters_nearest_km != -1')\n",
    "        .groupby('cityCenters_nearest_km')['last_price']\n",
    "        .count()\n",
    "        .plot(kind='line', style='-', grid=True, figsize=(10,4))\n",
    ")\n",
    "\n",
    "ax.set_title('Количество объявлений по удалению от центра в Санкт-Петербурге'+\"\\n\", size=14)\n",
    "\n",
    "ax.set_xlabel('Удаление от центра', size=12)\n",
    "ax.set_ylabel('Количество объявлений', size=12)\n",
    "\n",
    "ax.locator_params(axis='x', nbins=5)\n",
    "\n",
    "plt.xticks(rotation=0)\n",
    "\n",
    "plt.xlim(25,30)\n",
    "plt.ylim(0,60)\n",
    "\n",
    "plt.show()"
   ]
  },
  {
   "cell_type": "code",
   "execution_count": null,
   "metadata": {},
   "outputs": [],
   "source": [
    "(\n",
    "    data\n",
    "     .query('locality_name == \"Санкт-Петербург\" and 3 <= cityCenters_nearest_km <=5 ')\n",
    "     .groupby(['cityCenters_nearest_km', 'floor_category'])['last_price']\n",
    "     .agg(['count', 'mean'])\n",
    "     .style.format(\"{:,.0f}\")\n",
    ")"
   ]
  },
  {
   "cell_type": "markdown",
   "metadata": {},
   "source": [
    "## Общий вывод"
   ]
  },
  {
   "cell_type": "markdown",
   "metadata": {},
   "source": [
    "В ходе исследования были проанализированы и обработаны данные из архива объявлений за несколько лет о продаже квартир в Санкт-Петербурге и соседних населённых пунктах от сервиса Яндекс.Недвижимость.  \n",
    "На этапе предобработки удалены пропуски, обработаны аномальные значения, изменены соответствующие типы данных, обработаны дубликаты и категоризированы данные.  \n",
    "Затем было проведено исследование зависимотей в соответствии с целью проекта, а также сделаны выводы и рекомендации. \n",
    "\n",
    "**После проделанного исследования можно сделать следующие выводы:**\n",
    "1. Скорость продажи зависит от:\n",
    "  - от количества комнат\n",
    "  - от количества фотографий\n",
    "  - от цены\n",
    "2. Цена квартиры зависит от:\n",
    "  - общей площади\n",
    "  - количетсва комнат\n",
    "  - высоты потолков\n",
    "  - населённого пункта и расположения в нём\n",
    "3. Цена практически не зависит от:\n",
    "  - этажа\n",
    "  - количетсва этажей в доме\n",
    "  - от месяца и дня публикации\n",
    "4. Пользователи публикуют объявления в два раза больше в будний день, чем в выходной\n",
    "5. Среднее время продажи квартиры с 2014 по 2019 год сократилась с 94 до 31 дня\n",
    "6. Средняя стоимость квадратного метра зависит от размера населённого пункта\n",
    "7. Квартиры, расположенные ближе к центру, стоят дороже\n",
    "8. Средняя стоимость квартир с 2014 года снизилась на 3 млн.\n",
    "**Рекомендации:**\n",
    "1. Доработать систему сбора информации, сделав её более жесткой при вводе информации пользователем"
   ]
  }
 ],
 "metadata": {
  "ExecuteTimeLog": [
   {
    "duration": 557,
    "start_time": "2022-11-03T08:39:37.980Z"
   },
   {
    "duration": 487,
    "start_time": "2022-11-03T08:40:57.557Z"
   },
   {
    "duration": 85,
    "start_time": "2022-11-03T08:41:13.102Z"
   },
   {
    "duration": 82,
    "start_time": "2022-11-03T08:41:23.231Z"
   },
   {
    "duration": 93,
    "start_time": "2022-11-03T08:41:37.929Z"
   },
   {
    "duration": 105,
    "start_time": "2022-11-03T08:42:02.259Z"
   },
   {
    "duration": 67,
    "start_time": "2022-11-03T08:42:42.891Z"
   },
   {
    "duration": 67,
    "start_time": "2022-11-03T08:43:22.235Z"
   },
   {
    "duration": 100,
    "start_time": "2022-11-03T08:43:28.099Z"
   },
   {
    "duration": 76,
    "start_time": "2022-11-03T08:43:42.120Z"
   },
   {
    "duration": 75,
    "start_time": "2022-11-03T08:43:47.170Z"
   },
   {
    "duration": 85,
    "start_time": "2022-11-03T08:44:11.458Z"
   },
   {
    "duration": 69,
    "start_time": "2022-11-03T08:44:26.526Z"
   },
   {
    "duration": 93,
    "start_time": "2022-11-03T08:44:50.603Z"
   },
   {
    "duration": 106,
    "start_time": "2022-11-03T08:45:04.489Z"
   },
   {
    "duration": 69,
    "start_time": "2022-11-03T08:45:09.063Z"
   },
   {
    "duration": 79,
    "start_time": "2022-11-03T08:46:11.706Z"
   },
   {
    "duration": 79,
    "start_time": "2022-11-03T08:46:16.657Z"
   },
   {
    "duration": 70,
    "start_time": "2022-11-03T08:46:27.513Z"
   },
   {
    "duration": 84,
    "start_time": "2022-11-03T08:47:31.835Z"
   },
   {
    "duration": 327,
    "start_time": "2022-11-03T08:54:28.995Z"
   },
   {
    "duration": 75,
    "start_time": "2022-11-03T08:54:34.022Z"
   },
   {
    "duration": 94,
    "start_time": "2022-11-03T08:54:37.367Z"
   },
   {
    "duration": 82,
    "start_time": "2022-11-03T08:54:42.449Z"
   },
   {
    "duration": 74,
    "start_time": "2022-11-03T08:54:53.479Z"
   },
   {
    "duration": 73,
    "start_time": "2022-11-03T08:58:49.207Z"
   },
   {
    "duration": 93,
    "start_time": "2022-11-03T08:58:57.125Z"
   },
   {
    "duration": 113,
    "start_time": "2022-11-03T08:59:08.762Z"
   },
   {
    "duration": 287,
    "start_time": "2022-11-03T09:01:02.887Z"
   },
   {
    "duration": 126,
    "start_time": "2022-11-03T09:01:06.140Z"
   },
   {
    "duration": 90,
    "start_time": "2022-11-03T09:01:22.168Z"
   },
   {
    "duration": 2080,
    "start_time": "2022-11-03T09:01:46.587Z"
   },
   {
    "duration": 96,
    "start_time": "2022-11-03T09:02:05.484Z"
   },
   {
    "duration": 1677,
    "start_time": "2022-11-03T09:02:13.679Z"
   },
   {
    "duration": 9,
    "start_time": "2022-11-03T09:05:14.744Z"
   },
   {
    "duration": 53,
    "start_time": "2022-11-03T09:06:21.944Z"
   },
   {
    "duration": 38,
    "start_time": "2022-11-03T09:07:00.109Z"
   },
   {
    "duration": 24,
    "start_time": "2022-11-03T09:07:07.225Z"
   },
   {
    "duration": 51,
    "start_time": "2022-11-03T09:07:29.368Z"
   },
   {
    "duration": 31,
    "start_time": "2022-11-03T09:07:45.332Z"
   },
   {
    "duration": 9,
    "start_time": "2022-11-03T09:08:29.875Z"
   },
   {
    "duration": 9,
    "start_time": "2022-11-03T09:10:05.520Z"
   },
   {
    "duration": 10,
    "start_time": "2022-11-03T09:10:13.654Z"
   },
   {
    "duration": 9,
    "start_time": "2022-11-03T09:10:28.920Z"
   },
   {
    "duration": 8,
    "start_time": "2022-11-03T09:10:42.035Z"
   },
   {
    "duration": 114,
    "start_time": "2022-11-03T09:24:22.369Z"
   },
   {
    "duration": 113,
    "start_time": "2022-11-03T09:25:41.630Z"
   },
   {
    "duration": 1860,
    "start_time": "2022-11-03T09:25:42.581Z"
   },
   {
    "duration": 1916,
    "start_time": "2022-11-03T09:25:56.955Z"
   },
   {
    "duration": 127,
    "start_time": "2022-11-03T09:26:41.875Z"
   },
   {
    "duration": 1964,
    "start_time": "2022-11-03T09:26:42.554Z"
   },
   {
    "duration": 1818,
    "start_time": "2022-11-03T09:26:54.891Z"
   },
   {
    "duration": 1610,
    "start_time": "2022-11-03T09:26:58.163Z"
   },
   {
    "duration": 128,
    "start_time": "2022-11-03T09:29:34.002Z"
   },
   {
    "duration": 1157,
    "start_time": "2022-11-03T09:50:25.136Z"
   },
   {
    "duration": 5,
    "start_time": "2022-11-03T09:50:40.465Z"
   },
   {
    "duration": 5,
    "start_time": "2022-11-03T09:50:57.289Z"
   },
   {
    "duration": 123,
    "start_time": "2022-11-03T09:51:13.337Z"
   },
   {
    "duration": 295,
    "start_time": "2022-11-03T09:51:34.689Z"
   },
   {
    "duration": 129,
    "start_time": "2022-11-03T09:51:48.554Z"
   },
   {
    "duration": 11,
    "start_time": "2022-11-03T09:52:44.447Z"
   },
   {
    "duration": 10,
    "start_time": "2022-11-03T09:53:06.112Z"
   },
   {
    "duration": 10,
    "start_time": "2022-11-03T09:53:13.981Z"
   },
   {
    "duration": 30,
    "start_time": "2022-11-03T09:53:33.401Z"
   },
   {
    "duration": 24,
    "start_time": "2022-11-03T09:53:40.994Z"
   },
   {
    "duration": 47,
    "start_time": "2022-11-03T09:53:54.442Z"
   },
   {
    "duration": 7,
    "start_time": "2022-11-03T09:57:40.282Z"
   },
   {
    "duration": 6,
    "start_time": "2022-11-03T09:57:56.051Z"
   },
   {
    "duration": 14,
    "start_time": "2022-11-03T09:58:21.151Z"
   },
   {
    "duration": 25,
    "start_time": "2022-11-03T09:58:26.122Z"
   },
   {
    "duration": 35,
    "start_time": "2022-11-03T09:58:56.825Z"
   },
   {
    "duration": 17,
    "start_time": "2022-11-03T10:00:27.333Z"
   },
   {
    "duration": 37,
    "start_time": "2022-11-03T10:00:32.991Z"
   },
   {
    "duration": 39,
    "start_time": "2022-11-03T10:03:08.605Z"
   },
   {
    "duration": 38,
    "start_time": "2022-11-03T10:03:29.886Z"
   },
   {
    "duration": 35,
    "start_time": "2022-11-03T10:03:42.235Z"
   },
   {
    "duration": 36,
    "start_time": "2022-11-03T10:03:51.075Z"
   },
   {
    "duration": 41,
    "start_time": "2022-11-03T10:03:59.022Z"
   },
   {
    "duration": 6,
    "start_time": "2022-11-03T10:06:11.438Z"
   },
   {
    "duration": 19,
    "start_time": "2022-11-03T10:06:22.621Z"
   },
   {
    "duration": 692,
    "start_time": "2022-11-03T10:06:54.825Z"
   },
   {
    "duration": 1894,
    "start_time": "2022-11-03T10:06:55.518Z"
   },
   {
    "duration": 9,
    "start_time": "2022-11-03T10:06:58.593Z"
   },
   {
    "duration": 6,
    "start_time": "2022-11-03T10:07:21.676Z"
   },
   {
    "duration": 7,
    "start_time": "2022-11-03T10:07:42.476Z"
   },
   {
    "duration": 61,
    "start_time": "2022-11-03T10:07:59.765Z"
   },
   {
    "duration": 7,
    "start_time": "2022-11-03T10:08:14.915Z"
   },
   {
    "duration": 125,
    "start_time": "2022-11-03T10:09:11.122Z"
   },
   {
    "duration": 196,
    "start_time": "2022-11-03T10:10:36.636Z"
   },
   {
    "duration": 7,
    "start_time": "2022-11-03T10:12:18.588Z"
   },
   {
    "duration": 117,
    "start_time": "2022-11-03T10:12:28.020Z"
   },
   {
    "duration": 147,
    "start_time": "2022-11-03T10:12:38.032Z"
   },
   {
    "duration": 115,
    "start_time": "2022-11-03T10:12:45.314Z"
   },
   {
    "duration": 210,
    "start_time": "2022-11-03T10:12:52.595Z"
   },
   {
    "duration": 184,
    "start_time": "2022-11-03T10:13:04.614Z"
   },
   {
    "duration": 134,
    "start_time": "2022-11-03T10:13:10.063Z"
   },
   {
    "duration": 138,
    "start_time": "2022-11-03T10:13:20.012Z"
   },
   {
    "duration": 140,
    "start_time": "2022-11-03T10:13:24.479Z"
   },
   {
    "duration": 212,
    "start_time": "2022-11-03T10:22:45.311Z"
   },
   {
    "duration": 8,
    "start_time": "2022-11-03T10:22:59.412Z"
   },
   {
    "duration": 8,
    "start_time": "2022-11-03T10:23:40.778Z"
   },
   {
    "duration": 8,
    "start_time": "2022-11-03T10:24:13.579Z"
   },
   {
    "duration": 14,
    "start_time": "2022-11-03T10:31:58.858Z"
   },
   {
    "duration": 13,
    "start_time": "2022-11-03T10:32:11.131Z"
   },
   {
    "duration": 10,
    "start_time": "2022-11-03T10:32:59.294Z"
   },
   {
    "duration": 11,
    "start_time": "2022-11-03T10:33:20.672Z"
   },
   {
    "duration": 13,
    "start_time": "2022-11-03T10:33:34.120Z"
   },
   {
    "duration": 54,
    "start_time": "2022-11-03T10:33:45.404Z"
   },
   {
    "duration": 54,
    "start_time": "2022-11-03T10:33:52.384Z"
   },
   {
    "duration": 25,
    "start_time": "2022-11-03T10:34:07.404Z"
   },
   {
    "duration": 1199,
    "start_time": "2022-11-03T10:34:38.928Z"
   },
   {
    "duration": 12,
    "start_time": "2022-11-03T10:34:44.590Z"
   },
   {
    "duration": 731,
    "start_time": "2022-11-03T10:35:21.175Z"
   },
   {
    "duration": 1755,
    "start_time": "2022-11-03T10:35:21.908Z"
   },
   {
    "duration": 8,
    "start_time": "2022-11-03T10:35:23.665Z"
   },
   {
    "duration": 7,
    "start_time": "2022-11-03T10:35:23.706Z"
   },
   {
    "duration": 9,
    "start_time": "2022-11-03T10:35:23.972Z"
   },
   {
    "duration": 13,
    "start_time": "2022-11-03T10:35:25.875Z"
   },
   {
    "duration": 35,
    "start_time": "2022-11-03T10:35:34.591Z"
   },
   {
    "duration": 10,
    "start_time": "2022-11-03T10:35:57.429Z"
   },
   {
    "duration": 9,
    "start_time": "2022-11-03T10:36:08.143Z"
   },
   {
    "duration": 7,
    "start_time": "2022-11-03T10:37:15.532Z"
   },
   {
    "duration": 11,
    "start_time": "2022-11-03T10:37:30.326Z"
   },
   {
    "duration": 7,
    "start_time": "2022-11-03T10:38:11.455Z"
   },
   {
    "duration": 76,
    "start_time": "2022-11-03T10:38:18.368Z"
   },
   {
    "duration": 8,
    "start_time": "2022-11-03T10:38:31.657Z"
   },
   {
    "duration": 729,
    "start_time": "2022-11-03T10:38:45.282Z"
   },
   {
    "duration": 1743,
    "start_time": "2022-11-03T10:38:46.013Z"
   },
   {
    "duration": 11,
    "start_time": "2022-11-03T10:38:47.757Z"
   },
   {
    "duration": 10,
    "start_time": "2022-11-03T10:38:47.771Z"
   },
   {
    "duration": 12,
    "start_time": "2022-11-03T10:38:47.782Z"
   },
   {
    "duration": 12,
    "start_time": "2022-11-03T10:38:47.795Z"
   },
   {
    "duration": 7,
    "start_time": "2022-11-03T10:41:24.931Z"
   },
   {
    "duration": 687,
    "start_time": "2022-11-03T10:42:57.840Z"
   },
   {
    "duration": 1703,
    "start_time": "2022-11-03T10:42:58.528Z"
   },
   {
    "duration": 9,
    "start_time": "2022-11-03T10:43:00.233Z"
   },
   {
    "duration": 7,
    "start_time": "2022-11-03T10:43:02.035Z"
   },
   {
    "duration": 9,
    "start_time": "2022-11-03T10:43:05.404Z"
   },
   {
    "duration": 1000,
    "start_time": "2022-11-03T10:44:10.191Z"
   },
   {
    "duration": 10,
    "start_time": "2022-11-03T10:44:28.429Z"
   },
   {
    "duration": 895,
    "start_time": "2022-11-03T10:46:46.977Z"
   },
   {
    "duration": 902,
    "start_time": "2022-11-03T10:48:12.333Z"
   },
   {
    "duration": 709,
    "start_time": "2022-11-03T10:48:29.318Z"
   },
   {
    "duration": 1826,
    "start_time": "2022-11-03T10:48:30.029Z"
   },
   {
    "duration": 8,
    "start_time": "2022-11-03T10:48:31.857Z"
   },
   {
    "duration": 8,
    "start_time": "2022-11-03T10:48:32.232Z"
   },
   {
    "duration": 10,
    "start_time": "2022-11-03T10:48:33.194Z"
   },
   {
    "duration": 7,
    "start_time": "2022-11-03T10:48:35.949Z"
   },
   {
    "duration": 6,
    "start_time": "2022-11-03T10:49:04.197Z"
   },
   {
    "duration": 6,
    "start_time": "2022-11-03T10:49:16.844Z"
   },
   {
    "duration": 5,
    "start_time": "2022-11-03T10:49:41.915Z"
   },
   {
    "duration": 6,
    "start_time": "2022-11-03T10:49:51.706Z"
   },
   {
    "duration": 7,
    "start_time": "2022-11-03T10:50:17.962Z"
   },
   {
    "duration": 7,
    "start_time": "2022-11-03T10:51:02.295Z"
   },
   {
    "duration": 8,
    "start_time": "2022-11-03T10:51:28.181Z"
   },
   {
    "duration": 8,
    "start_time": "2022-11-03T10:51:50.169Z"
   },
   {
    "duration": 699,
    "start_time": "2022-11-03T10:52:20.833Z"
   },
   {
    "duration": 1745,
    "start_time": "2022-11-03T10:52:21.534Z"
   },
   {
    "duration": 9,
    "start_time": "2022-11-03T10:52:23.281Z"
   },
   {
    "duration": 7,
    "start_time": "2022-11-03T10:52:23.292Z"
   },
   {
    "duration": 8,
    "start_time": "2022-11-03T10:52:23.301Z"
   },
   {
    "duration": 5,
    "start_time": "2022-11-03T10:52:23.310Z"
   },
   {
    "duration": 10,
    "start_time": "2022-11-03T10:53:41.944Z"
   },
   {
    "duration": 5,
    "start_time": "2022-11-03T10:54:10.180Z"
   },
   {
    "duration": 40,
    "start_time": "2022-11-03T11:02:16.927Z"
   },
   {
    "duration": 40,
    "start_time": "2022-11-03T11:02:23.697Z"
   },
   {
    "duration": 77,
    "start_time": "2022-11-03T11:02:50.693Z"
   },
   {
    "duration": 6,
    "start_time": "2022-11-03T11:03:18.155Z"
   },
   {
    "duration": 10,
    "start_time": "2022-11-03T11:03:34.182Z"
   },
   {
    "duration": 8,
    "start_time": "2022-11-03T11:03:53.707Z"
   },
   {
    "duration": 733,
    "start_time": "2022-11-03T11:04:02.387Z"
   },
   {
    "duration": 1706,
    "start_time": "2022-11-03T11:04:03.121Z"
   },
   {
    "duration": 10,
    "start_time": "2022-11-03T11:04:04.829Z"
   },
   {
    "duration": 8,
    "start_time": "2022-11-03T11:04:06.524Z"
   },
   {
    "duration": 9,
    "start_time": "2022-11-03T11:04:07.854Z"
   },
   {
    "duration": 23,
    "start_time": "2022-11-03T11:04:09.879Z"
   },
   {
    "duration": 15,
    "start_time": "2022-11-03T11:04:24.916Z"
   },
   {
    "duration": 16,
    "start_time": "2022-11-03T11:04:29.339Z"
   },
   {
    "duration": 65,
    "start_time": "2022-11-03T11:04:58.879Z"
   },
   {
    "duration": 55,
    "start_time": "2022-11-03T11:05:47.439Z"
   },
   {
    "duration": 688,
    "start_time": "2022-11-03T11:05:54.071Z"
   },
   {
    "duration": 1710,
    "start_time": "2022-11-03T11:05:54.761Z"
   },
   {
    "duration": 8,
    "start_time": "2022-11-03T11:05:56.473Z"
   },
   {
    "duration": 6,
    "start_time": "2022-11-03T11:05:56.784Z"
   },
   {
    "duration": 10,
    "start_time": "2022-11-03T11:05:57.368Z"
   },
   {
    "duration": 7,
    "start_time": "2022-11-03T11:05:58.793Z"
   },
   {
    "duration": 8,
    "start_time": "2022-11-03T11:06:05.707Z"
   },
   {
    "duration": 40,
    "start_time": "2022-11-03T11:07:22.349Z"
   },
   {
    "duration": 6,
    "start_time": "2022-11-03T11:07:42.854Z"
   },
   {
    "duration": 71,
    "start_time": "2022-11-03T11:09:34.745Z"
   },
   {
    "duration": 26,
    "start_time": "2022-11-03T11:10:05.560Z"
   },
   {
    "duration": 38,
    "start_time": "2022-11-03T11:10:27.066Z"
   },
   {
    "duration": 13,
    "start_time": "2022-11-03T11:10:32.457Z"
   },
   {
    "duration": 13,
    "start_time": "2022-11-03T11:10:55.292Z"
   },
   {
    "duration": 699,
    "start_time": "2022-11-03T11:45:02.536Z"
   },
   {
    "duration": 1730,
    "start_time": "2022-11-03T11:45:03.301Z"
   },
   {
    "duration": 10,
    "start_time": "2022-11-03T11:45:07.495Z"
   },
   {
    "duration": 6,
    "start_time": "2022-11-03T11:45:10.531Z"
   },
   {
    "duration": 9,
    "start_time": "2022-11-03T11:45:10.759Z"
   },
   {
    "duration": 4,
    "start_time": "2022-11-03T11:45:36.857Z"
   },
   {
    "duration": 4,
    "start_time": "2022-11-03T11:45:40.694Z"
   },
   {
    "duration": 4,
    "start_time": "2022-11-03T11:45:45.326Z"
   },
   {
    "duration": 3,
    "start_time": "2022-11-03T11:45:50.813Z"
   },
   {
    "duration": 3,
    "start_time": "2022-11-03T11:46:06.371Z"
   },
   {
    "duration": 3,
    "start_time": "2022-11-03T11:46:09.165Z"
   },
   {
    "duration": 67,
    "start_time": "2022-11-03T11:50:27.593Z"
   },
   {
    "duration": 9,
    "start_time": "2022-11-03T11:50:51.053Z"
   },
   {
    "duration": 6,
    "start_time": "2022-11-03T12:06:14.721Z"
   },
   {
    "duration": 8,
    "start_time": "2022-11-03T12:06:15.353Z"
   },
   {
    "duration": 9,
    "start_time": "2022-11-03T12:13:41.029Z"
   },
   {
    "duration": 5,
    "start_time": "2022-11-03T12:14:03.624Z"
   },
   {
    "duration": 7,
    "start_time": "2022-11-03T12:14:06.118Z"
   },
   {
    "duration": 5,
    "start_time": "2022-11-03T12:14:51.859Z"
   },
   {
    "duration": 7,
    "start_time": "2022-11-03T12:14:52.650Z"
   },
   {
    "duration": 7,
    "start_time": "2022-11-03T12:20:18.304Z"
   },
   {
    "duration": 8,
    "start_time": "2022-11-03T12:20:18.696Z"
   },
   {
    "duration": 8,
    "start_time": "2022-11-03T12:35:30.661Z"
   },
   {
    "duration": 204,
    "start_time": "2022-11-03T12:35:51.267Z"
   },
   {
    "duration": 9,
    "start_time": "2022-11-03T12:36:33.170Z"
   },
   {
    "duration": 46,
    "start_time": "2022-11-03T12:56:38.902Z"
   },
   {
    "duration": 781,
    "start_time": "2022-11-03T12:56:42.504Z"
   },
   {
    "duration": 1769,
    "start_time": "2022-11-03T12:56:43.286Z"
   },
   {
    "duration": 8,
    "start_time": "2022-11-03T12:56:45.057Z"
   },
   {
    "duration": 6,
    "start_time": "2022-11-03T12:56:45.121Z"
   },
   {
    "duration": 12,
    "start_time": "2022-11-03T12:56:45.386Z"
   },
   {
    "duration": 7,
    "start_time": "2022-11-03T12:56:48.609Z"
   },
   {
    "duration": 9,
    "start_time": "2022-11-03T12:56:50.314Z"
   },
   {
    "duration": 40,
    "start_time": "2022-11-03T12:56:54.078Z"
   },
   {
    "duration": 7,
    "start_time": "2022-11-03T12:57:27.952Z"
   },
   {
    "duration": 40,
    "start_time": "2022-11-03T12:58:38.540Z"
   },
   {
    "duration": 32,
    "start_time": "2022-11-03T13:00:09.645Z"
   },
   {
    "duration": 6,
    "start_time": "2022-11-03T13:00:15.608Z"
   },
   {
    "duration": 10,
    "start_time": "2022-11-03T13:00:47.162Z"
   },
   {
    "duration": 9,
    "start_time": "2022-11-03T13:01:28.157Z"
   },
   {
    "duration": 9,
    "start_time": "2022-11-03T13:01:38.319Z"
   },
   {
    "duration": 6,
    "start_time": "2022-11-03T13:01:48.504Z"
   },
   {
    "duration": 9,
    "start_time": "2022-11-03T13:02:02.248Z"
   },
   {
    "duration": 6,
    "start_time": "2022-11-03T13:02:26.679Z"
   },
   {
    "duration": 6,
    "start_time": "2022-11-03T13:03:47.282Z"
   },
   {
    "duration": 5,
    "start_time": "2022-11-03T13:04:21.618Z"
   },
   {
    "duration": 7,
    "start_time": "2022-11-03T13:09:00.979Z"
   },
   {
    "duration": 286,
    "start_time": "2022-11-03T13:09:07.285Z"
   },
   {
    "duration": 7,
    "start_time": "2022-11-03T13:09:30.498Z"
   },
   {
    "duration": 8,
    "start_time": "2022-11-03T13:09:33.917Z"
   },
   {
    "duration": 11,
    "start_time": "2022-11-03T13:10:11.318Z"
   },
   {
    "duration": 9,
    "start_time": "2022-11-03T13:10:44.001Z"
   },
   {
    "duration": 7,
    "start_time": "2022-11-03T13:10:50.893Z"
   },
   {
    "duration": 11,
    "start_time": "2022-11-03T13:10:54.463Z"
   },
   {
    "duration": 669,
    "start_time": "2022-11-03T13:14:04.446Z"
   },
   {
    "duration": 1750,
    "start_time": "2022-11-03T13:14:05.117Z"
   },
   {
    "duration": 9,
    "start_time": "2022-11-03T13:14:06.869Z"
   },
   {
    "duration": 8,
    "start_time": "2022-11-03T13:14:07.206Z"
   },
   {
    "duration": 8,
    "start_time": "2022-11-03T13:14:08.306Z"
   },
   {
    "duration": 7,
    "start_time": "2022-11-03T13:14:12.605Z"
   },
   {
    "duration": 5,
    "start_time": "2022-11-03T13:14:13.815Z"
   },
   {
    "duration": 10,
    "start_time": "2022-11-03T13:14:34.534Z"
   },
   {
    "duration": 9,
    "start_time": "2022-11-03T13:14:36.054Z"
   },
   {
    "duration": 6,
    "start_time": "2022-11-03T13:14:36.968Z"
   },
   {
    "duration": 10,
    "start_time": "2022-11-03T13:15:20.748Z"
   },
   {
    "duration": 4,
    "start_time": "2022-11-03T13:15:21.371Z"
   },
   {
    "duration": 10,
    "start_time": "2022-11-03T13:16:31.518Z"
   },
   {
    "duration": 5,
    "start_time": "2022-11-03T13:16:32.252Z"
   },
   {
    "duration": 7,
    "start_time": "2022-11-03T13:17:06.514Z"
   },
   {
    "duration": 6,
    "start_time": "2022-11-03T13:17:08.014Z"
   },
   {
    "duration": 5,
    "start_time": "2022-11-03T13:18:48.914Z"
   },
   {
    "duration": 4,
    "start_time": "2022-11-03T13:18:50.196Z"
   },
   {
    "duration": 10,
    "start_time": "2022-11-03T13:18:56.444Z"
   },
   {
    "duration": 8,
    "start_time": "2022-11-03T13:18:57.868Z"
   },
   {
    "duration": 4,
    "start_time": "2022-11-03T13:18:59.092Z"
   },
   {
    "duration": 656,
    "start_time": "2022-11-03T13:19:20.653Z"
   },
   {
    "duration": 1744,
    "start_time": "2022-11-03T13:19:21.311Z"
   },
   {
    "duration": 9,
    "start_time": "2022-11-03T13:19:23.057Z"
   },
   {
    "duration": 6,
    "start_time": "2022-11-03T13:19:23.067Z"
   },
   {
    "duration": 8,
    "start_time": "2022-11-03T13:19:23.248Z"
   },
   {
    "duration": 6,
    "start_time": "2022-11-03T13:19:23.929Z"
   },
   {
    "duration": 6,
    "start_time": "2022-11-03T13:19:27.247Z"
   },
   {
    "duration": 9,
    "start_time": "2022-11-03T13:19:27.794Z"
   },
   {
    "duration": 8,
    "start_time": "2022-11-03T13:19:37.891Z"
   },
   {
    "duration": 5,
    "start_time": "2022-11-03T13:19:41.360Z"
   },
   {
    "duration": 4,
    "start_time": "2022-11-03T13:19:50.467Z"
   },
   {
    "duration": 5,
    "start_time": "2022-11-03T13:20:23.353Z"
   },
   {
    "duration": 5,
    "start_time": "2022-11-03T13:20:35.546Z"
   },
   {
    "duration": 5,
    "start_time": "2022-11-03T13:21:27.625Z"
   },
   {
    "duration": 4,
    "start_time": "2022-11-03T13:21:28.332Z"
   },
   {
    "duration": 5,
    "start_time": "2022-11-03T13:21:42.901Z"
   },
   {
    "duration": 6,
    "start_time": "2022-11-03T13:21:43.305Z"
   },
   {
    "duration": 9,
    "start_time": "2022-11-03T13:22:14.701Z"
   },
   {
    "duration": 4,
    "start_time": "2022-11-03T13:22:48.695Z"
   },
   {
    "duration": 4,
    "start_time": "2022-11-03T13:22:49.887Z"
   },
   {
    "duration": 9,
    "start_time": "2022-11-03T13:22:50.603Z"
   },
   {
    "duration": 9,
    "start_time": "2022-11-03T13:23:36.173Z"
   },
   {
    "duration": 8,
    "start_time": "2022-11-03T13:25:41.587Z"
   },
   {
    "duration": 5,
    "start_time": "2022-11-03T13:25:42.352Z"
   },
   {
    "duration": 5,
    "start_time": "2022-11-03T13:25:44.869Z"
   },
   {
    "duration": 7,
    "start_time": "2022-11-03T13:27:48.895Z"
   },
   {
    "duration": 7,
    "start_time": "2022-11-03T13:29:04.285Z"
   },
   {
    "duration": 8,
    "start_time": "2022-11-03T13:29:14.057Z"
   },
   {
    "duration": 8,
    "start_time": "2022-11-03T13:29:39.542Z"
   },
   {
    "duration": 4,
    "start_time": "2022-11-03T13:29:52.979Z"
   },
   {
    "duration": 9,
    "start_time": "2022-11-03T13:29:53.674Z"
   },
   {
    "duration": 15,
    "start_time": "2022-11-03T13:29:58.241Z"
   },
   {
    "duration": 677,
    "start_time": "2022-11-03T13:30:18.835Z"
   },
   {
    "duration": 1721,
    "start_time": "2022-11-03T13:30:19.514Z"
   },
   {
    "duration": 8,
    "start_time": "2022-11-03T13:30:21.237Z"
   },
   {
    "duration": 7,
    "start_time": "2022-11-03T13:30:21.246Z"
   },
   {
    "duration": 9,
    "start_time": "2022-11-03T13:30:21.255Z"
   },
   {
    "duration": 6,
    "start_time": "2022-11-03T13:30:22.541Z"
   },
   {
    "duration": 8,
    "start_time": "2022-11-03T13:30:24.146Z"
   },
   {
    "duration": 4,
    "start_time": "2022-11-03T13:30:24.981Z"
   },
   {
    "duration": 4,
    "start_time": "2022-11-03T13:30:27.209Z"
   },
   {
    "duration": 8,
    "start_time": "2022-11-03T13:30:28.998Z"
   },
   {
    "duration": 4,
    "start_time": "2022-11-03T13:30:30.087Z"
   },
   {
    "duration": 8,
    "start_time": "2022-11-03T13:30:32.421Z"
   },
   {
    "duration": 4,
    "start_time": "2022-11-03T13:32:13.939Z"
   },
   {
    "duration": 5,
    "start_time": "2022-11-03T13:32:34.998Z"
   },
   {
    "duration": 11,
    "start_time": "2022-11-03T13:33:47.398Z"
   },
   {
    "duration": 213,
    "start_time": "2022-11-03T13:34:35.941Z"
   },
   {
    "duration": 219,
    "start_time": "2022-11-03T13:34:55.903Z"
   },
   {
    "duration": 276,
    "start_time": "2022-11-03T13:35:48.092Z"
   },
   {
    "duration": 310,
    "start_time": "2022-11-03T13:35:53.010Z"
   },
   {
    "duration": 217,
    "start_time": "2022-11-03T13:36:00.399Z"
   },
   {
    "duration": 8,
    "start_time": "2022-11-03T13:39:42.440Z"
   },
   {
    "duration": 8,
    "start_time": "2022-11-03T13:40:08.745Z"
   },
   {
    "duration": 6,
    "start_time": "2022-11-03T13:40:38.813Z"
   },
   {
    "duration": 88,
    "start_time": "2022-11-03T13:40:55.751Z"
   },
   {
    "duration": 5,
    "start_time": "2022-11-03T13:41:00.042Z"
   },
   {
    "duration": 4,
    "start_time": "2022-11-03T13:41:31.128Z"
   },
   {
    "duration": 44,
    "start_time": "2022-11-04T04:21:52.704Z"
   },
   {
    "duration": 1124,
    "start_time": "2022-11-04T04:22:07.416Z"
   },
   {
    "duration": 1927,
    "start_time": "2022-11-04T04:22:08.542Z"
   },
   {
    "duration": 13,
    "start_time": "2022-11-04T04:22:10.474Z"
   },
   {
    "duration": 10,
    "start_time": "2022-11-04T04:22:10.489Z"
   },
   {
    "duration": 10,
    "start_time": "2022-11-04T04:22:10.501Z"
   },
   {
    "duration": 9,
    "start_time": "2022-11-04T04:22:10.513Z"
   },
   {
    "duration": 12,
    "start_time": "2022-11-04T04:22:10.524Z"
   },
   {
    "duration": 4,
    "start_time": "2022-11-04T04:22:10.538Z"
   },
   {
    "duration": 4,
    "start_time": "2022-11-04T04:22:10.545Z"
   },
   {
    "duration": 13,
    "start_time": "2022-11-04T04:22:10.551Z"
   },
   {
    "duration": 4,
    "start_time": "2022-11-04T04:22:10.565Z"
   },
   {
    "duration": 10,
    "start_time": "2022-11-04T04:22:10.570Z"
   },
   {
    "duration": 8,
    "start_time": "2022-11-04T04:22:10.582Z"
   },
   {
    "duration": 233,
    "start_time": "2022-11-04T04:22:10.622Z"
   },
   {
    "duration": 7,
    "start_time": "2022-11-04T04:22:10.856Z"
   },
   {
    "duration": 5,
    "start_time": "2022-11-04T04:22:10.864Z"
   },
   {
    "duration": 10,
    "start_time": "2022-11-04T04:22:10.870Z"
   },
   {
    "duration": 7,
    "start_time": "2022-11-04T04:22:18.951Z"
   },
   {
    "duration": 67,
    "start_time": "2022-11-04T04:22:37.346Z"
   },
   {
    "duration": 8,
    "start_time": "2022-11-04T04:22:53.972Z"
   },
   {
    "duration": 14,
    "start_time": "2022-11-04T04:23:34.546Z"
   },
   {
    "duration": 12,
    "start_time": "2022-11-04T04:24:14.805Z"
   },
   {
    "duration": 12,
    "start_time": "2022-11-04T04:26:03.836Z"
   },
   {
    "duration": 10,
    "start_time": "2022-11-04T04:26:47.048Z"
   },
   {
    "duration": 11,
    "start_time": "2022-11-04T04:29:43.380Z"
   },
   {
    "duration": 8,
    "start_time": "2022-11-04T04:29:48.386Z"
   },
   {
    "duration": 11,
    "start_time": "2022-11-04T04:30:01.909Z"
   },
   {
    "duration": 24,
    "start_time": "2022-11-04T04:30:19.111Z"
   },
   {
    "duration": 21,
    "start_time": "2022-11-04T04:30:38.023Z"
   },
   {
    "duration": 8,
    "start_time": "2022-11-04T04:31:07.825Z"
   },
   {
    "duration": 10,
    "start_time": "2022-11-04T04:31:21.381Z"
   },
   {
    "duration": 6,
    "start_time": "2022-11-04T04:31:45.232Z"
   },
   {
    "duration": 8,
    "start_time": "2022-11-04T04:32:00.157Z"
   },
   {
    "duration": 8,
    "start_time": "2022-11-04T04:32:07.925Z"
   },
   {
    "duration": 8,
    "start_time": "2022-11-04T04:32:53.141Z"
   },
   {
    "duration": 6,
    "start_time": "2022-11-04T04:35:51.412Z"
   },
   {
    "duration": 5,
    "start_time": "2022-11-04T04:36:06.989Z"
   },
   {
    "duration": 161,
    "start_time": "2022-11-04T04:36:43.054Z"
   },
   {
    "duration": 6,
    "start_time": "2022-11-04T04:36:58.855Z"
   },
   {
    "duration": 11,
    "start_time": "2022-11-04T04:37:58.429Z"
   },
   {
    "duration": 11,
    "start_time": "2022-11-04T04:38:39.852Z"
   },
   {
    "duration": 42,
    "start_time": "2022-11-04T04:38:51.200Z"
   },
   {
    "duration": 8,
    "start_time": "2022-11-04T04:38:55.387Z"
   },
   {
    "duration": 12,
    "start_time": "2022-11-04T04:39:02.239Z"
   },
   {
    "duration": 234,
    "start_time": "2022-11-04T04:39:42.232Z"
   },
   {
    "duration": 319,
    "start_time": "2022-11-04T04:40:30.725Z"
   },
   {
    "duration": 232,
    "start_time": "2022-11-04T04:42:46.639Z"
   },
   {
    "duration": 227,
    "start_time": "2022-11-04T04:43:00.974Z"
   },
   {
    "duration": 15,
    "start_time": "2022-11-04T04:45:07.036Z"
   },
   {
    "duration": 55,
    "start_time": "2022-11-04T04:45:13.504Z"
   },
   {
    "duration": 217,
    "start_time": "2022-11-04T04:47:45.689Z"
   },
   {
    "duration": 5,
    "start_time": "2022-11-04T04:48:11.059Z"
   },
   {
    "duration": 7,
    "start_time": "2022-11-04T04:48:26.313Z"
   },
   {
    "duration": 57,
    "start_time": "2022-11-04T04:54:45.818Z"
   },
   {
    "duration": 35,
    "start_time": "2022-11-04T04:55:07.728Z"
   },
   {
    "duration": 44,
    "start_time": "2022-11-04T04:55:16.123Z"
   },
   {
    "duration": 4,
    "start_time": "2022-11-04T04:57:05.221Z"
   },
   {
    "duration": 122,
    "start_time": "2022-11-04T04:57:23.427Z"
   },
   {
    "duration": 7,
    "start_time": "2022-11-04T04:57:39.337Z"
   },
   {
    "duration": 5,
    "start_time": "2022-11-04T04:57:53.217Z"
   },
   {
    "duration": 10,
    "start_time": "2022-11-04T04:58:07.103Z"
   },
   {
    "duration": 4,
    "start_time": "2022-11-04T04:59:05.853Z"
   },
   {
    "duration": 6,
    "start_time": "2022-11-04T04:59:19.801Z"
   },
   {
    "duration": 6,
    "start_time": "2022-11-04T05:00:53.227Z"
   },
   {
    "duration": 49,
    "start_time": "2022-11-04T05:05:27.777Z"
   },
   {
    "duration": 27,
    "start_time": "2022-11-04T05:05:32.375Z"
   },
   {
    "duration": 3,
    "start_time": "2022-11-04T05:13:24.800Z"
   },
   {
    "duration": 11,
    "start_time": "2022-11-04T05:13:25.561Z"
   },
   {
    "duration": 19,
    "start_time": "2022-11-04T05:13:41.105Z"
   },
   {
    "duration": 10,
    "start_time": "2022-11-04T05:16:01.546Z"
   },
   {
    "duration": 28,
    "start_time": "2022-11-04T05:16:21.739Z"
   },
   {
    "duration": 6,
    "start_time": "2022-11-04T05:16:57.585Z"
   },
   {
    "duration": 5,
    "start_time": "2022-11-04T05:17:01.772Z"
   },
   {
    "duration": 55,
    "start_time": "2022-11-04T05:17:29.266Z"
   },
   {
    "duration": 7,
    "start_time": "2022-11-04T05:18:51.893Z"
   },
   {
    "duration": 52,
    "start_time": "2022-11-04T05:18:53.207Z"
   },
   {
    "duration": 9,
    "start_time": "2022-11-04T05:19:35.578Z"
   },
   {
    "duration": 15,
    "start_time": "2022-11-04T05:19:36.638Z"
   },
   {
    "duration": 5,
    "start_time": "2022-11-04T05:20:14.504Z"
   },
   {
    "duration": 20,
    "start_time": "2022-11-04T05:20:15.174Z"
   },
   {
    "duration": 739,
    "start_time": "2022-11-04T05:23:40.109Z"
   },
   {
    "duration": 1807,
    "start_time": "2022-11-04T05:23:40.850Z"
   },
   {
    "duration": 9,
    "start_time": "2022-11-04T05:23:42.659Z"
   },
   {
    "duration": 10,
    "start_time": "2022-11-04T05:23:42.669Z"
   },
   {
    "duration": 22,
    "start_time": "2022-11-04T05:23:42.681Z"
   },
   {
    "duration": 9,
    "start_time": "2022-11-04T05:23:42.705Z"
   },
   {
    "duration": 9,
    "start_time": "2022-11-04T05:23:43.559Z"
   },
   {
    "duration": 5,
    "start_time": "2022-11-04T05:23:43.878Z"
   },
   {
    "duration": 5,
    "start_time": "2022-11-04T05:23:44.201Z"
   },
   {
    "duration": 9,
    "start_time": "2022-11-04T05:23:44.925Z"
   },
   {
    "duration": 5,
    "start_time": "2022-11-04T05:23:45.883Z"
   },
   {
    "duration": 5,
    "start_time": "2022-11-04T05:23:46.483Z"
   },
   {
    "duration": 10,
    "start_time": "2022-11-04T05:23:47.308Z"
   },
   {
    "duration": 228,
    "start_time": "2022-11-04T05:23:47.616Z"
   },
   {
    "duration": 8,
    "start_time": "2022-11-04T05:23:48.823Z"
   },
   {
    "duration": 5,
    "start_time": "2022-11-04T05:23:49.945Z"
   },
   {
    "duration": 6,
    "start_time": "2022-11-04T05:23:50.560Z"
   },
   {
    "duration": 5,
    "start_time": "2022-11-04T05:23:51.358Z"
   },
   {
    "duration": 9,
    "start_time": "2022-11-04T05:23:51.906Z"
   },
   {
    "duration": 208,
    "start_time": "2022-11-04T05:23:52.667Z"
   },
   {
    "duration": 206,
    "start_time": "2022-11-04T05:24:06.283Z"
   },
   {
    "duration": 4,
    "start_time": "2022-11-04T05:24:09.846Z"
   },
   {
    "duration": 5,
    "start_time": "2022-11-04T05:24:10.145Z"
   },
   {
    "duration": 10,
    "start_time": "2022-11-04T05:24:12.127Z"
   },
   {
    "duration": 5,
    "start_time": "2022-11-04T05:24:12.786Z"
   },
   {
    "duration": 5,
    "start_time": "2022-11-04T05:24:13.015Z"
   },
   {
    "duration": 77,
    "start_time": "2022-11-04T05:24:34.796Z"
   },
   {
    "duration": 2,
    "start_time": "2022-11-04T05:27:42.084Z"
   },
   {
    "duration": 45,
    "start_time": "2022-11-04T05:27:42.483Z"
   },
   {
    "duration": 3,
    "start_time": "2022-11-04T05:27:48.345Z"
   },
   {
    "duration": 182,
    "start_time": "2022-11-04T05:28:09.784Z"
   },
   {
    "duration": 9,
    "start_time": "2022-11-04T05:30:40.819Z"
   },
   {
    "duration": 23,
    "start_time": "2022-11-04T05:30:52.742Z"
   },
   {
    "duration": 19,
    "start_time": "2022-11-04T05:31:24.250Z"
   },
   {
    "duration": 720,
    "start_time": "2022-11-04T05:31:42.279Z"
   },
   {
    "duration": 1868,
    "start_time": "2022-11-04T05:31:43.001Z"
   },
   {
    "duration": 10,
    "start_time": "2022-11-04T05:31:44.871Z"
   },
   {
    "duration": 7,
    "start_time": "2022-11-04T05:31:44.882Z"
   },
   {
    "duration": 11,
    "start_time": "2022-11-04T05:31:44.891Z"
   },
   {
    "duration": 6,
    "start_time": "2022-11-04T05:31:44.904Z"
   },
   {
    "duration": 12,
    "start_time": "2022-11-04T05:31:44.911Z"
   },
   {
    "duration": 6,
    "start_time": "2022-11-04T05:31:44.924Z"
   },
   {
    "duration": 6,
    "start_time": "2022-11-04T05:31:44.933Z"
   },
   {
    "duration": 12,
    "start_time": "2022-11-04T05:31:45.187Z"
   },
   {
    "duration": 5,
    "start_time": "2022-11-04T05:31:45.990Z"
   },
   {
    "duration": 6,
    "start_time": "2022-11-04T05:31:46.362Z"
   },
   {
    "duration": 9,
    "start_time": "2022-11-04T05:31:47.016Z"
   },
   {
    "duration": 215,
    "start_time": "2022-11-04T05:31:47.160Z"
   },
   {
    "duration": 6,
    "start_time": "2022-11-04T05:31:47.740Z"
   },
   {
    "duration": 5,
    "start_time": "2022-11-04T05:31:48.382Z"
   },
   {
    "duration": 6,
    "start_time": "2022-11-04T05:31:49.015Z"
   },
   {
    "duration": 5,
    "start_time": "2022-11-04T05:31:49.419Z"
   },
   {
    "duration": 10,
    "start_time": "2022-11-04T05:31:51.998Z"
   },
   {
    "duration": 228,
    "start_time": "2022-11-04T05:31:52.717Z"
   },
   {
    "duration": 5,
    "start_time": "2022-11-04T05:31:53.816Z"
   },
   {
    "duration": 5,
    "start_time": "2022-11-04T05:31:54.167Z"
   },
   {
    "duration": 8,
    "start_time": "2022-11-04T05:31:55.562Z"
   },
   {
    "duration": 5,
    "start_time": "2022-11-04T05:31:56.561Z"
   },
   {
    "duration": 5,
    "start_time": "2022-11-04T05:31:56.890Z"
   },
   {
    "duration": 17,
    "start_time": "2022-11-04T05:31:59.937Z"
   },
   {
    "duration": 4,
    "start_time": "2022-11-04T05:32:00.990Z"
   },
   {
    "duration": 86,
    "start_time": "2022-11-04T05:32:13.551Z"
   },
   {
    "duration": 18,
    "start_time": "2022-11-04T05:32:27.944Z"
   },
   {
    "duration": 3,
    "start_time": "2022-11-04T05:32:43.315Z"
   },
   {
    "duration": 4,
    "start_time": "2022-11-04T05:32:49.500Z"
   },
   {
    "duration": 6,
    "start_time": "2022-11-04T05:33:11.013Z"
   },
   {
    "duration": 6,
    "start_time": "2022-11-04T05:34:02.542Z"
   },
   {
    "duration": 31,
    "start_time": "2022-11-04T05:34:19.126Z"
   },
   {
    "duration": 12,
    "start_time": "2022-11-04T05:34:26.897Z"
   },
   {
    "duration": 8,
    "start_time": "2022-11-04T05:34:44.022Z"
   },
   {
    "duration": 12,
    "start_time": "2022-11-04T05:34:49.786Z"
   },
   {
    "duration": 11,
    "start_time": "2022-11-04T05:35:05.746Z"
   },
   {
    "duration": 4,
    "start_time": "2022-11-04T05:36:45.907Z"
   },
   {
    "duration": 7,
    "start_time": "2022-11-04T05:36:59.966Z"
   },
   {
    "duration": 11,
    "start_time": "2022-11-04T05:38:13.710Z"
   },
   {
    "duration": 24,
    "start_time": "2022-11-04T05:38:20.101Z"
   },
   {
    "duration": 10,
    "start_time": "2022-11-04T05:38:22.746Z"
   },
   {
    "duration": 28,
    "start_time": "2022-11-04T05:39:45.772Z"
   },
   {
    "duration": 11,
    "start_time": "2022-11-04T05:39:54.872Z"
   },
   {
    "duration": 66,
    "start_time": "2022-11-04T05:39:59.287Z"
   },
   {
    "duration": 5,
    "start_time": "2022-11-04T05:39:59.397Z"
   },
   {
    "duration": 15,
    "start_time": "2022-11-04T05:42:02.049Z"
   },
   {
    "duration": 62,
    "start_time": "2022-11-04T05:45:00.545Z"
   },
   {
    "duration": 8,
    "start_time": "2022-11-04T05:45:32.104Z"
   },
   {
    "duration": 8,
    "start_time": "2022-11-04T05:45:45.589Z"
   },
   {
    "duration": 7,
    "start_time": "2022-11-04T05:46:27.112Z"
   },
   {
    "duration": 3,
    "start_time": "2022-11-04T05:46:44.234Z"
   },
   {
    "duration": 11,
    "start_time": "2022-11-04T05:46:50.522Z"
   },
   {
    "duration": 8,
    "start_time": "2022-11-04T05:47:40.280Z"
   },
   {
    "duration": 37,
    "start_time": "2022-11-04T05:47:52.956Z"
   },
   {
    "duration": 9,
    "start_time": "2022-11-04T05:48:10.646Z"
   },
   {
    "duration": 15,
    "start_time": "2022-11-04T05:49:23.195Z"
   },
   {
    "duration": 6,
    "start_time": "2022-11-04T05:49:29.244Z"
   },
   {
    "duration": 736,
    "start_time": "2022-11-04T05:49:53.944Z"
   },
   {
    "duration": 10,
    "start_time": "2022-11-04T05:50:04.032Z"
   },
   {
    "duration": 4,
    "start_time": "2022-11-04T05:50:05.569Z"
   },
   {
    "duration": 11,
    "start_time": "2022-11-04T05:50:06.186Z"
   },
   {
    "duration": 6,
    "start_time": "2022-11-04T05:50:07.063Z"
   },
   {
    "duration": 9,
    "start_time": "2022-11-04T05:51:11.464Z"
   },
   {
    "duration": 11,
    "start_time": "2022-11-04T05:57:22.617Z"
   },
   {
    "duration": 69,
    "start_time": "2022-11-04T05:57:44.328Z"
   },
   {
    "duration": 10,
    "start_time": "2022-11-04T05:58:03.102Z"
   },
   {
    "duration": 145,
    "start_time": "2022-11-04T05:58:19.345Z"
   },
   {
    "duration": 9,
    "start_time": "2022-11-04T05:58:27.819Z"
   },
   {
    "duration": 10,
    "start_time": "2022-11-04T05:58:48.704Z"
   },
   {
    "duration": 11,
    "start_time": "2022-11-04T05:59:00.454Z"
   },
   {
    "duration": 15,
    "start_time": "2022-11-04T05:59:35.857Z"
   },
   {
    "duration": 6,
    "start_time": "2022-11-04T06:00:54.851Z"
   },
   {
    "duration": 37,
    "start_time": "2022-11-04T06:01:05.325Z"
   },
   {
    "duration": 9,
    "start_time": "2022-11-04T06:01:48.503Z"
   },
   {
    "duration": 17,
    "start_time": "2022-11-04T06:02:05.505Z"
   },
   {
    "duration": 435,
    "start_time": "2022-11-04T06:02:13.634Z"
   },
   {
    "duration": 15,
    "start_time": "2022-11-04T06:02:25.336Z"
   },
   {
    "duration": 7,
    "start_time": "2022-11-04T06:02:39.403Z"
   },
   {
    "duration": 10,
    "start_time": "2022-11-04T06:03:42.911Z"
   },
   {
    "duration": 18,
    "start_time": "2022-11-04T06:03:51.722Z"
   },
   {
    "duration": 35,
    "start_time": "2022-11-04T06:04:17.454Z"
   },
   {
    "duration": 816,
    "start_time": "2022-11-04T06:05:00.231Z"
   },
   {
    "duration": 11,
    "start_time": "2022-11-04T06:05:05.235Z"
   },
   {
    "duration": 20,
    "start_time": "2022-11-04T06:05:21.879Z"
   },
   {
    "duration": 21,
    "start_time": "2022-11-04T06:05:41.864Z"
   },
   {
    "duration": 14,
    "start_time": "2022-11-04T06:05:58.515Z"
   },
   {
    "duration": 13,
    "start_time": "2022-11-04T06:06:40.239Z"
   },
   {
    "duration": 4,
    "start_time": "2022-11-04T06:08:38.348Z"
   },
   {
    "duration": 183,
    "start_time": "2022-11-04T06:09:03.834Z"
   },
   {
    "duration": 3,
    "start_time": "2022-11-04T06:09:21.990Z"
   },
   {
    "duration": 339,
    "start_time": "2022-11-04T06:09:22.419Z"
   },
   {
    "duration": 3,
    "start_time": "2022-11-04T06:09:39.626Z"
   },
   {
    "duration": 9,
    "start_time": "2022-11-04T06:09:39.834Z"
   },
   {
    "duration": 7,
    "start_time": "2022-11-04T06:10:03.489Z"
   },
   {
    "duration": 7,
    "start_time": "2022-11-04T06:10:20.451Z"
   },
   {
    "duration": 7,
    "start_time": "2022-11-04T06:10:25.449Z"
   },
   {
    "duration": 8,
    "start_time": "2022-11-04T06:11:18.993Z"
   },
   {
    "duration": 34,
    "start_time": "2022-11-04T06:11:32.025Z"
   },
   {
    "duration": 15,
    "start_time": "2022-11-04T06:15:13.835Z"
   },
   {
    "duration": 13,
    "start_time": "2022-11-04T06:15:22.050Z"
   },
   {
    "duration": 20,
    "start_time": "2022-11-04T06:15:34.195Z"
   },
   {
    "duration": 3,
    "start_time": "2022-11-04T06:16:04.219Z"
   },
   {
    "duration": 8,
    "start_time": "2022-11-04T06:16:05.666Z"
   },
   {
    "duration": 5,
    "start_time": "2022-11-04T06:16:06.303Z"
   },
   {
    "duration": 20,
    "start_time": "2022-11-04T06:19:50.975Z"
   },
   {
    "duration": 12,
    "start_time": "2022-11-04T06:20:07.394Z"
   },
   {
    "duration": 16,
    "start_time": "2022-11-04T06:20:22.497Z"
   },
   {
    "duration": 29,
    "start_time": "2022-11-04T06:20:48.557Z"
   },
   {
    "duration": 41,
    "start_time": "2022-11-04T06:21:05.135Z"
   },
   {
    "duration": 52,
    "start_time": "2022-11-04T06:22:07.794Z"
   },
   {
    "duration": 30,
    "start_time": "2022-11-04T06:23:10.884Z"
   },
   {
    "duration": 18,
    "start_time": "2022-11-04T06:23:16.014Z"
   },
   {
    "duration": 39,
    "start_time": "2022-11-04T06:26:51.083Z"
   },
   {
    "duration": 49,
    "start_time": "2022-11-04T06:27:03.129Z"
   },
   {
    "duration": 76,
    "start_time": "2022-11-04T06:27:33.610Z"
   },
   {
    "duration": 27,
    "start_time": "2022-11-04T06:27:56.850Z"
   },
   {
    "duration": 46,
    "start_time": "2022-11-04T06:28:18.789Z"
   },
   {
    "duration": 49,
    "start_time": "2022-11-04T06:28:59.718Z"
   },
   {
    "duration": 92,
    "start_time": "2022-11-04T06:29:08.542Z"
   },
   {
    "duration": 68,
    "start_time": "2022-11-04T06:29:55.111Z"
   },
   {
    "duration": 6,
    "start_time": "2022-11-04T06:33:10.238Z"
   },
   {
    "duration": 6,
    "start_time": "2022-11-04T06:33:20.639Z"
   },
   {
    "duration": 13,
    "start_time": "2022-11-04T06:33:53.441Z"
   },
   {
    "duration": 39,
    "start_time": "2022-11-04T06:34:20.864Z"
   },
   {
    "duration": 12,
    "start_time": "2022-11-04T06:34:44.153Z"
   },
   {
    "duration": 17,
    "start_time": "2022-11-04T06:34:58.038Z"
   },
   {
    "duration": 12,
    "start_time": "2022-11-04T06:35:05.488Z"
   },
   {
    "duration": 22,
    "start_time": "2022-11-04T06:35:29.324Z"
   },
   {
    "duration": 16,
    "start_time": "2022-11-04T06:35:42.741Z"
   },
   {
    "duration": 3,
    "start_time": "2022-11-04T06:41:33.632Z"
   },
   {
    "duration": 210,
    "start_time": "2022-11-04T06:41:56.476Z"
   },
   {
    "duration": 3,
    "start_time": "2022-11-04T06:42:07.907Z"
   },
   {
    "duration": 9,
    "start_time": "2022-11-04T06:42:08.747Z"
   },
   {
    "duration": 7,
    "start_time": "2022-11-04T06:42:24.150Z"
   },
   {
    "duration": 10,
    "start_time": "2022-11-04T06:42:40.384Z"
   },
   {
    "duration": 59,
    "start_time": "2022-11-04T06:43:54.490Z"
   },
   {
    "duration": 60,
    "start_time": "2022-11-04T06:44:13.517Z"
   },
   {
    "duration": 59,
    "start_time": "2022-11-04T06:44:20.370Z"
   },
   {
    "duration": 55,
    "start_time": "2022-11-04T06:44:46.313Z"
   },
   {
    "duration": 13,
    "start_time": "2022-11-04T06:48:29.439Z"
   },
   {
    "duration": 15,
    "start_time": "2022-11-04T06:48:54.414Z"
   },
   {
    "duration": 19,
    "start_time": "2022-11-04T06:49:02.523Z"
   },
   {
    "duration": 778,
    "start_time": "2022-11-04T06:49:25.447Z"
   },
   {
    "duration": 11,
    "start_time": "2022-11-04T06:49:37.255Z"
   },
   {
    "duration": 7,
    "start_time": "2022-11-04T06:49:38.506Z"
   },
   {
    "duration": 26,
    "start_time": "2022-11-04T06:49:38.814Z"
   },
   {
    "duration": 22,
    "start_time": "2022-11-04T06:49:42.321Z"
   },
   {
    "duration": 14,
    "start_time": "2022-11-04T06:50:39.790Z"
   },
   {
    "duration": 19,
    "start_time": "2022-11-04T06:51:17.366Z"
   },
   {
    "duration": 28,
    "start_time": "2022-11-04T06:51:34.874Z"
   },
   {
    "duration": 14,
    "start_time": "2022-11-04T06:52:02.351Z"
   },
   {
    "duration": 13,
    "start_time": "2022-11-04T06:52:49.900Z"
   },
   {
    "duration": 9,
    "start_time": "2022-11-04T06:53:20.385Z"
   },
   {
    "duration": 9,
    "start_time": "2022-11-04T06:53:51.845Z"
   },
   {
    "duration": 245,
    "start_time": "2022-11-04T06:54:44.401Z"
   },
   {
    "duration": 227,
    "start_time": "2022-11-04T06:55:06.769Z"
   },
   {
    "duration": 157,
    "start_time": "2022-11-04T06:56:10.616Z"
   },
   {
    "duration": 5,
    "start_time": "2022-11-04T06:56:49.020Z"
   },
   {
    "duration": 41,
    "start_time": "2022-11-04T06:57:02.998Z"
   },
   {
    "duration": 5,
    "start_time": "2022-11-04T06:57:07.186Z"
   },
   {
    "duration": 9,
    "start_time": "2022-11-04T06:57:54.644Z"
   },
   {
    "duration": 121,
    "start_time": "2022-11-04T06:58:12.793Z"
   },
   {
    "duration": 215,
    "start_time": "2022-11-04T06:58:26.628Z"
   },
   {
    "duration": 5,
    "start_time": "2022-11-04T06:59:03.196Z"
   },
   {
    "duration": 5,
    "start_time": "2022-11-04T06:59:32.920Z"
   },
   {
    "duration": 9,
    "start_time": "2022-11-04T07:00:59.358Z"
   },
   {
    "duration": 135,
    "start_time": "2022-11-04T07:01:17.421Z"
   },
   {
    "duration": 4,
    "start_time": "2022-11-04T07:02:33.548Z"
   },
   {
    "duration": 7,
    "start_time": "2022-11-04T07:02:47.902Z"
   },
   {
    "duration": 5,
    "start_time": "2022-11-04T07:02:52.953Z"
   },
   {
    "duration": 1800,
    "start_time": "2022-11-04T07:04:36.064Z"
   },
   {
    "duration": 785,
    "start_time": "2022-11-04T07:05:44.985Z"
   },
   {
    "duration": 3,
    "start_time": "2022-11-04T07:05:53.720Z"
   },
   {
    "duration": 10,
    "start_time": "2022-11-04T07:06:32.770Z"
   },
   {
    "duration": 7,
    "start_time": "2022-11-04T07:07:40.662Z"
   },
   {
    "duration": 4,
    "start_time": "2022-11-04T07:07:56.554Z"
   },
   {
    "duration": 8,
    "start_time": "2022-11-04T07:09:33.961Z"
   },
   {
    "duration": 131,
    "start_time": "2022-11-04T07:09:54.744Z"
   },
   {
    "duration": 4,
    "start_time": "2022-11-04T07:10:46.507Z"
   },
   {
    "duration": 690,
    "start_time": "2022-11-04T07:10:56.263Z"
   },
   {
    "duration": 1795,
    "start_time": "2022-11-04T07:10:56.954Z"
   },
   {
    "duration": 9,
    "start_time": "2022-11-04T07:10:58.750Z"
   },
   {
    "duration": 7,
    "start_time": "2022-11-04T07:10:58.761Z"
   },
   {
    "duration": 8,
    "start_time": "2022-11-04T07:10:58.769Z"
   },
   {
    "duration": 8,
    "start_time": "2022-11-04T07:10:58.778Z"
   },
   {
    "duration": 10,
    "start_time": "2022-11-04T07:10:58.787Z"
   },
   {
    "duration": 4,
    "start_time": "2022-11-04T07:10:58.798Z"
   },
   {
    "duration": 20,
    "start_time": "2022-11-04T07:10:58.803Z"
   },
   {
    "duration": 10,
    "start_time": "2022-11-04T07:10:58.825Z"
   },
   {
    "duration": 5,
    "start_time": "2022-11-04T07:10:58.837Z"
   },
   {
    "duration": 18,
    "start_time": "2022-11-04T07:10:58.844Z"
   },
   {
    "duration": 38,
    "start_time": "2022-11-04T07:10:58.864Z"
   },
   {
    "duration": 305,
    "start_time": "2022-11-04T07:10:58.904Z"
   },
   {
    "duration": 13,
    "start_time": "2022-11-04T07:10:59.210Z"
   },
   {
    "duration": 5,
    "start_time": "2022-11-04T07:10:59.224Z"
   },
   {
    "duration": 9,
    "start_time": "2022-11-04T07:10:59.230Z"
   },
   {
    "duration": 10,
    "start_time": "2022-11-04T07:10:59.241Z"
   },
   {
    "duration": 12,
    "start_time": "2022-11-04T07:10:59.253Z"
   },
   {
    "duration": 224,
    "start_time": "2022-11-04T07:10:59.266Z"
   },
   {
    "duration": 5,
    "start_time": "2022-11-04T07:10:59.491Z"
   },
   {
    "duration": 6,
    "start_time": "2022-11-04T07:10:59.498Z"
   },
   {
    "duration": 21,
    "start_time": "2022-11-04T07:10:59.506Z"
   },
   {
    "duration": 4,
    "start_time": "2022-11-04T07:10:59.529Z"
   },
   {
    "duration": 15,
    "start_time": "2022-11-04T07:10:59.534Z"
   },
   {
    "duration": 13,
    "start_time": "2022-11-04T07:10:59.550Z"
   },
   {
    "duration": 8,
    "start_time": "2022-11-04T07:10:59.564Z"
   },
   {
    "duration": 20,
    "start_time": "2022-11-04T07:10:59.575Z"
   },
   {
    "duration": 29,
    "start_time": "2022-11-04T07:10:59.597Z"
   },
   {
    "duration": 9,
    "start_time": "2022-11-04T07:10:59.628Z"
   },
   {
    "duration": 3,
    "start_time": "2022-11-04T07:10:59.639Z"
   },
   {
    "duration": 5,
    "start_time": "2022-11-04T07:10:59.644Z"
   },
   {
    "duration": 10,
    "start_time": "2022-11-04T07:10:59.651Z"
   },
   {
    "duration": 4,
    "start_time": "2022-11-04T07:10:59.663Z"
   },
   {
    "duration": 5,
    "start_time": "2022-11-04T07:10:59.669Z"
   },
   {
    "duration": 5,
    "start_time": "2022-11-04T07:10:59.676Z"
   },
   {
    "duration": 46,
    "start_time": "2022-11-04T07:10:59.682Z"
   },
   {
    "duration": 4,
    "start_time": "2022-11-04T07:10:59.730Z"
   },
   {
    "duration": 10,
    "start_time": "2022-11-04T07:10:59.736Z"
   },
   {
    "duration": 4,
    "start_time": "2022-11-04T07:10:59.748Z"
   },
   {
    "duration": 9,
    "start_time": "2022-11-04T07:11:14.185Z"
   },
   {
    "duration": 10,
    "start_time": "2022-11-04T07:12:20.552Z"
   },
   {
    "duration": 100,
    "start_time": "2022-11-04T07:13:37.288Z"
   },
   {
    "duration": 7,
    "start_time": "2022-11-04T07:13:48.845Z"
   },
   {
    "duration": 749,
    "start_time": "2022-11-04T07:13:56.959Z"
   },
   {
    "duration": 1986,
    "start_time": "2022-11-04T07:13:57.711Z"
   },
   {
    "duration": 10,
    "start_time": "2022-11-04T07:13:59.699Z"
   },
   {
    "duration": 8,
    "start_time": "2022-11-04T07:13:59.711Z"
   },
   {
    "duration": 11,
    "start_time": "2022-11-04T07:13:59.722Z"
   },
   {
    "duration": 9,
    "start_time": "2022-11-04T07:13:59.736Z"
   },
   {
    "duration": 12,
    "start_time": "2022-11-04T07:13:59.747Z"
   },
   {
    "duration": 40,
    "start_time": "2022-11-04T07:13:59.761Z"
   },
   {
    "duration": 19,
    "start_time": "2022-11-04T07:13:59.802Z"
   },
   {
    "duration": 13,
    "start_time": "2022-11-04T07:13:59.825Z"
   },
   {
    "duration": 5,
    "start_time": "2022-11-04T07:13:59.839Z"
   },
   {
    "duration": 7,
    "start_time": "2022-11-04T07:13:59.846Z"
   },
   {
    "duration": 14,
    "start_time": "2022-11-04T07:13:59.855Z"
   },
   {
    "duration": 286,
    "start_time": "2022-11-04T07:13:59.870Z"
   },
   {
    "duration": 7,
    "start_time": "2022-11-04T07:14:00.158Z"
   },
   {
    "duration": 12,
    "start_time": "2022-11-04T07:14:00.166Z"
   },
   {
    "duration": 12,
    "start_time": "2022-11-04T07:14:00.180Z"
   },
   {
    "duration": 10,
    "start_time": "2022-11-04T07:14:00.194Z"
   },
   {
    "duration": 17,
    "start_time": "2022-11-04T07:14:00.206Z"
   },
   {
    "duration": 226,
    "start_time": "2022-11-04T07:14:00.224Z"
   },
   {
    "duration": 4,
    "start_time": "2022-11-04T07:14:00.452Z"
   },
   {
    "duration": 9,
    "start_time": "2022-11-04T07:14:00.457Z"
   },
   {
    "duration": 17,
    "start_time": "2022-11-04T07:14:00.468Z"
   },
   {
    "duration": 5,
    "start_time": "2022-11-04T07:14:00.486Z"
   },
   {
    "duration": 11,
    "start_time": "2022-11-04T07:14:00.492Z"
   },
   {
    "duration": 23,
    "start_time": "2022-11-04T07:14:00.505Z"
   },
   {
    "duration": 11,
    "start_time": "2022-11-04T07:14:00.529Z"
   },
   {
    "duration": 23,
    "start_time": "2022-11-04T07:14:00.542Z"
   },
   {
    "duration": 24,
    "start_time": "2022-11-04T07:14:00.566Z"
   },
   {
    "duration": 13,
    "start_time": "2022-11-04T07:14:00.591Z"
   },
   {
    "duration": 16,
    "start_time": "2022-11-04T07:14:00.606Z"
   },
   {
    "duration": 18,
    "start_time": "2022-11-04T07:14:00.624Z"
   },
   {
    "duration": 14,
    "start_time": "2022-11-04T07:14:00.644Z"
   },
   {
    "duration": 4,
    "start_time": "2022-11-04T07:14:00.660Z"
   },
   {
    "duration": 16,
    "start_time": "2022-11-04T07:14:00.665Z"
   },
   {
    "duration": 15,
    "start_time": "2022-11-04T07:14:00.683Z"
   },
   {
    "duration": 7,
    "start_time": "2022-11-04T07:14:00.700Z"
   },
   {
    "duration": 16,
    "start_time": "2022-11-04T07:14:00.709Z"
   },
   {
    "duration": 13,
    "start_time": "2022-11-04T07:14:00.726Z"
   },
   {
    "duration": 4,
    "start_time": "2022-11-04T07:14:00.740Z"
   },
   {
    "duration": 12,
    "start_time": "2022-11-04T07:14:00.745Z"
   },
   {
    "duration": 4,
    "start_time": "2022-11-04T07:14:00.759Z"
   },
   {
    "duration": 18,
    "start_time": "2022-11-04T07:14:00.764Z"
   },
   {
    "duration": 15,
    "start_time": "2022-11-04T07:14:11.603Z"
   },
   {
    "duration": 901,
    "start_time": "2022-11-04T07:15:19.009Z"
   },
   {
    "duration": 687,
    "start_time": "2022-11-04T07:15:33.202Z"
   },
   {
    "duration": 5,
    "start_time": "2022-11-04T07:15:40.593Z"
   },
   {
    "duration": 6,
    "start_time": "2022-11-04T07:15:51.461Z"
   },
   {
    "duration": 33,
    "start_time": "2022-11-04T07:21:48.562Z"
   },
   {
    "duration": 9,
    "start_time": "2022-11-04T07:24:27.781Z"
   },
   {
    "duration": 12,
    "start_time": "2022-11-04T07:24:28.394Z"
   },
   {
    "duration": 24,
    "start_time": "2022-11-04T07:24:41.977Z"
   },
   {
    "duration": 22,
    "start_time": "2022-11-04T07:26:41.461Z"
   },
   {
    "duration": 108,
    "start_time": "2022-11-04T07:27:51.266Z"
   },
   {
    "duration": 9,
    "start_time": "2022-11-04T07:28:05.151Z"
   },
   {
    "duration": 22,
    "start_time": "2022-11-04T07:28:11.535Z"
   },
   {
    "duration": 10,
    "start_time": "2022-11-04T07:28:51.766Z"
   },
   {
    "duration": 18,
    "start_time": "2022-11-04T09:17:29.305Z"
   },
   {
    "duration": 19,
    "start_time": "2022-11-04T09:17:48.097Z"
   },
   {
    "duration": 15,
    "start_time": "2022-11-04T09:19:21.028Z"
   },
   {
    "duration": 14,
    "start_time": "2022-11-04T09:19:22.329Z"
   },
   {
    "duration": 53,
    "start_time": "2022-11-04T09:19:34.818Z"
   },
   {
    "duration": 13,
    "start_time": "2022-11-04T09:22:36.693Z"
   },
   {
    "duration": 9,
    "start_time": "2022-11-04T09:23:49.116Z"
   },
   {
    "duration": 7,
    "start_time": "2022-11-04T09:24:04.680Z"
   },
   {
    "duration": 7,
    "start_time": "2022-11-04T09:24:13.468Z"
   },
   {
    "duration": 7,
    "start_time": "2022-11-04T09:24:17.318Z"
   },
   {
    "duration": 11,
    "start_time": "2022-11-04T09:24:55.114Z"
   },
   {
    "duration": 10,
    "start_time": "2022-11-04T09:25:00.620Z"
   },
   {
    "duration": 11,
    "start_time": "2022-11-04T09:25:03.542Z"
   },
   {
    "duration": 10,
    "start_time": "2022-11-04T09:25:13.995Z"
   },
   {
    "duration": 26,
    "start_time": "2022-11-04T09:25:35.736Z"
   },
   {
    "duration": 716,
    "start_time": "2022-11-04T09:25:50.004Z"
   },
   {
    "duration": 1766,
    "start_time": "2022-11-04T09:25:50.722Z"
   },
   {
    "duration": 8,
    "start_time": "2022-11-04T09:25:52.490Z"
   },
   {
    "duration": 6,
    "start_time": "2022-11-04T09:25:52.500Z"
   },
   {
    "duration": 9,
    "start_time": "2022-11-04T09:25:52.507Z"
   },
   {
    "duration": 6,
    "start_time": "2022-11-04T09:25:52.517Z"
   },
   {
    "duration": 10,
    "start_time": "2022-11-04T09:25:52.524Z"
   },
   {
    "duration": 4,
    "start_time": "2022-11-04T09:25:52.535Z"
   },
   {
    "duration": 8,
    "start_time": "2022-11-04T09:25:52.540Z"
   },
   {
    "duration": 10,
    "start_time": "2022-11-04T09:25:52.551Z"
   },
   {
    "duration": 4,
    "start_time": "2022-11-04T09:25:52.562Z"
   },
   {
    "duration": 7,
    "start_time": "2022-11-04T09:25:52.568Z"
   },
   {
    "duration": 9,
    "start_time": "2022-11-04T09:25:52.577Z"
   },
   {
    "duration": 241,
    "start_time": "2022-11-04T09:25:52.587Z"
   },
   {
    "duration": 6,
    "start_time": "2022-11-04T09:25:52.830Z"
   },
   {
    "duration": 6,
    "start_time": "2022-11-04T09:25:52.838Z"
   },
   {
    "duration": 12,
    "start_time": "2022-11-04T09:25:52.845Z"
   },
   {
    "duration": 8,
    "start_time": "2022-11-04T09:25:52.858Z"
   },
   {
    "duration": 12,
    "start_time": "2022-11-04T09:25:52.868Z"
   },
   {
    "duration": 241,
    "start_time": "2022-11-04T09:25:52.881Z"
   },
   {
    "duration": 5,
    "start_time": "2022-11-04T09:25:53.123Z"
   },
   {
    "duration": 8,
    "start_time": "2022-11-04T09:25:53.129Z"
   },
   {
    "duration": 13,
    "start_time": "2022-11-04T09:25:53.138Z"
   },
   {
    "duration": 5,
    "start_time": "2022-11-04T09:25:53.152Z"
   },
   {
    "duration": 9,
    "start_time": "2022-11-04T09:25:53.158Z"
   },
   {
    "duration": 14,
    "start_time": "2022-11-04T09:25:53.168Z"
   },
   {
    "duration": 7,
    "start_time": "2022-11-04T09:25:53.184Z"
   },
   {
    "duration": 42,
    "start_time": "2022-11-04T09:25:53.194Z"
   },
   {
    "duration": 14,
    "start_time": "2022-11-04T09:25:53.238Z"
   },
   {
    "duration": 11,
    "start_time": "2022-11-04T09:25:53.253Z"
   },
   {
    "duration": 3,
    "start_time": "2022-11-04T09:25:53.266Z"
   },
   {
    "duration": 6,
    "start_time": "2022-11-04T09:25:53.270Z"
   },
   {
    "duration": 10,
    "start_time": "2022-11-04T09:25:53.278Z"
   },
   {
    "duration": 4,
    "start_time": "2022-11-04T09:25:53.289Z"
   },
   {
    "duration": 28,
    "start_time": "2022-11-04T09:25:53.294Z"
   },
   {
    "duration": 8,
    "start_time": "2022-11-04T09:25:53.323Z"
   },
   {
    "duration": 4,
    "start_time": "2022-11-04T09:25:53.333Z"
   },
   {
    "duration": 9,
    "start_time": "2022-11-04T09:25:53.338Z"
   },
   {
    "duration": 10,
    "start_time": "2022-11-04T09:25:53.348Z"
   },
   {
    "duration": 3,
    "start_time": "2022-11-04T09:25:53.359Z"
   },
   {
    "duration": 8,
    "start_time": "2022-11-04T09:25:53.364Z"
   },
   {
    "duration": 4,
    "start_time": "2022-11-04T09:25:53.373Z"
   },
   {
    "duration": 9,
    "start_time": "2022-11-04T09:25:53.378Z"
   },
   {
    "duration": 43,
    "start_time": "2022-11-04T09:25:53.389Z"
   },
   {
    "duration": 27,
    "start_time": "2022-11-04T09:25:53.433Z"
   },
   {
    "duration": 7,
    "start_time": "2022-11-04T09:25:53.462Z"
   },
   {
    "duration": 17,
    "start_time": "2022-11-04T09:25:53.471Z"
   },
   {
    "duration": 36,
    "start_time": "2022-11-04T09:25:53.489Z"
   },
   {
    "duration": 11,
    "start_time": "2022-11-04T09:26:40.453Z"
   },
   {
    "duration": 4,
    "start_time": "2022-11-04T09:27:23.117Z"
   },
   {
    "duration": 8,
    "start_time": "2022-11-04T09:27:47.071Z"
   },
   {
    "duration": 722,
    "start_time": "2022-11-04T09:29:01.354Z"
   },
   {
    "duration": 1816,
    "start_time": "2022-11-04T09:29:02.077Z"
   },
   {
    "duration": 11,
    "start_time": "2022-11-04T09:29:03.894Z"
   },
   {
    "duration": 8,
    "start_time": "2022-11-04T09:29:03.907Z"
   },
   {
    "duration": 13,
    "start_time": "2022-11-04T09:29:03.917Z"
   },
   {
    "duration": 7,
    "start_time": "2022-11-04T09:29:03.932Z"
   },
   {
    "duration": 10,
    "start_time": "2022-11-04T09:29:03.941Z"
   },
   {
    "duration": 5,
    "start_time": "2022-11-04T09:29:03.952Z"
   },
   {
    "duration": 7,
    "start_time": "2022-11-04T09:29:03.959Z"
   },
   {
    "duration": 9,
    "start_time": "2022-11-04T09:29:03.969Z"
   },
   {
    "duration": 43,
    "start_time": "2022-11-04T09:29:03.980Z"
   },
   {
    "duration": 6,
    "start_time": "2022-11-04T09:29:04.024Z"
   },
   {
    "duration": 15,
    "start_time": "2022-11-04T09:29:04.031Z"
   },
   {
    "duration": 10,
    "start_time": "2022-11-04T09:29:04.047Z"
   },
   {
    "duration": 5,
    "start_time": "2022-11-04T09:29:04.059Z"
   },
   {
    "duration": 7,
    "start_time": "2022-11-04T09:29:04.065Z"
   },
   {
    "duration": 10,
    "start_time": "2022-11-04T09:29:04.074Z"
   },
   {
    "duration": 10,
    "start_time": "2022-11-04T09:29:04.086Z"
   },
   {
    "duration": 25,
    "start_time": "2022-11-04T09:29:04.097Z"
   },
   {
    "duration": 4,
    "start_time": "2022-11-04T09:29:04.124Z"
   },
   {
    "duration": 12,
    "start_time": "2022-11-04T09:29:04.130Z"
   },
   {
    "duration": 4,
    "start_time": "2022-11-04T09:29:04.144Z"
   },
   {
    "duration": 8,
    "start_time": "2022-11-04T09:29:04.149Z"
   },
   {
    "duration": 33,
    "start_time": "2022-11-04T09:29:04.158Z"
   },
   {
    "duration": 8,
    "start_time": "2022-11-04T09:29:04.192Z"
   },
   {
    "duration": 40,
    "start_time": "2022-11-04T09:29:04.201Z"
   },
   {
    "duration": 42,
    "start_time": "2022-11-04T09:29:04.243Z"
   },
   {
    "duration": 12,
    "start_time": "2022-11-04T09:29:04.288Z"
   },
   {
    "duration": 18,
    "start_time": "2022-11-04T09:29:04.301Z"
   },
   {
    "duration": 21,
    "start_time": "2022-11-04T09:29:04.321Z"
   },
   {
    "duration": 23,
    "start_time": "2022-11-04T09:29:04.344Z"
   },
   {
    "duration": 19,
    "start_time": "2022-11-04T09:29:04.368Z"
   },
   {
    "duration": 32,
    "start_time": "2022-11-04T09:29:04.389Z"
   },
   {
    "duration": 18,
    "start_time": "2022-11-04T09:29:04.423Z"
   },
   {
    "duration": 11,
    "start_time": "2022-11-04T09:29:04.442Z"
   },
   {
    "duration": 15,
    "start_time": "2022-11-04T09:29:04.454Z"
   },
   {
    "duration": 23,
    "start_time": "2022-11-04T09:29:04.471Z"
   },
   {
    "duration": 4,
    "start_time": "2022-11-04T09:29:04.495Z"
   },
   {
    "duration": 11,
    "start_time": "2022-11-04T09:29:04.501Z"
   },
   {
    "duration": 5,
    "start_time": "2022-11-04T09:29:04.514Z"
   },
   {
    "duration": 12,
    "start_time": "2022-11-04T09:29:04.520Z"
   },
   {
    "duration": 11,
    "start_time": "2022-11-04T09:29:04.534Z"
   },
   {
    "duration": 29,
    "start_time": "2022-11-04T09:29:04.547Z"
   },
   {
    "duration": 10,
    "start_time": "2022-11-04T09:29:04.578Z"
   },
   {
    "duration": 39,
    "start_time": "2022-11-04T09:29:04.590Z"
   },
   {
    "duration": 15,
    "start_time": "2022-11-04T09:29:04.630Z"
   },
   {
    "duration": 682,
    "start_time": "2022-11-04T09:30:06.868Z"
   },
   {
    "duration": 1817,
    "start_time": "2022-11-04T09:30:07.551Z"
   },
   {
    "duration": 9,
    "start_time": "2022-11-04T09:30:09.370Z"
   },
   {
    "duration": 6,
    "start_time": "2022-11-04T09:30:09.381Z"
   },
   {
    "duration": 8,
    "start_time": "2022-11-04T09:30:09.388Z"
   },
   {
    "duration": 5,
    "start_time": "2022-11-04T09:30:09.397Z"
   },
   {
    "duration": 8,
    "start_time": "2022-11-04T09:30:09.404Z"
   },
   {
    "duration": 10,
    "start_time": "2022-11-04T09:30:09.414Z"
   },
   {
    "duration": 5,
    "start_time": "2022-11-04T09:30:09.425Z"
   },
   {
    "duration": 8,
    "start_time": "2022-11-04T09:30:09.432Z"
   },
   {
    "duration": 5,
    "start_time": "2022-11-04T09:30:09.441Z"
   },
   {
    "duration": 8,
    "start_time": "2022-11-04T09:30:09.447Z"
   },
   {
    "duration": 10,
    "start_time": "2022-11-04T09:30:09.456Z"
   },
   {
    "duration": 5,
    "start_time": "2022-11-04T09:30:09.468Z"
   },
   {
    "duration": 8,
    "start_time": "2022-11-04T09:30:09.474Z"
   },
   {
    "duration": 14,
    "start_time": "2022-11-04T09:30:09.483Z"
   },
   {
    "duration": 26,
    "start_time": "2022-11-04T09:30:09.498Z"
   },
   {
    "duration": 8,
    "start_time": "2022-11-04T09:30:09.525Z"
   },
   {
    "duration": 4,
    "start_time": "2022-11-04T09:30:09.534Z"
   },
   {
    "duration": 6,
    "start_time": "2022-11-04T09:30:09.539Z"
   },
   {
    "duration": 11,
    "start_time": "2022-11-04T09:30:09.546Z"
   },
   {
    "duration": 3,
    "start_time": "2022-11-04T09:30:09.558Z"
   },
   {
    "duration": 4,
    "start_time": "2022-11-04T09:30:09.563Z"
   },
   {
    "duration": 12,
    "start_time": "2022-11-04T09:30:09.569Z"
   },
   {
    "duration": 42,
    "start_time": "2022-11-04T09:30:09.583Z"
   },
   {
    "duration": 18,
    "start_time": "2022-11-04T09:30:09.627Z"
   },
   {
    "duration": 14,
    "start_time": "2022-11-04T09:30:09.647Z"
   },
   {
    "duration": 9,
    "start_time": "2022-11-04T09:30:09.664Z"
   },
   {
    "duration": 3,
    "start_time": "2022-11-04T09:30:09.675Z"
   },
   {
    "duration": 12,
    "start_time": "2022-11-04T09:30:09.679Z"
   },
   {
    "duration": 32,
    "start_time": "2022-11-04T09:30:09.692Z"
   },
   {
    "duration": 3,
    "start_time": "2022-11-04T09:30:09.726Z"
   },
   {
    "duration": 11,
    "start_time": "2022-11-04T09:30:09.730Z"
   },
   {
    "duration": 4,
    "start_time": "2022-11-04T09:30:09.742Z"
   },
   {
    "duration": 4,
    "start_time": "2022-11-04T09:30:09.747Z"
   },
   {
    "duration": 12,
    "start_time": "2022-11-04T09:30:09.752Z"
   },
   {
    "duration": 3,
    "start_time": "2022-11-04T09:30:09.766Z"
   },
   {
    "duration": 9,
    "start_time": "2022-11-04T09:30:09.770Z"
   },
   {
    "duration": 4,
    "start_time": "2022-11-04T09:30:09.780Z"
   },
   {
    "duration": 38,
    "start_time": "2022-11-04T09:30:09.785Z"
   },
   {
    "duration": 13,
    "start_time": "2022-11-04T09:30:09.824Z"
   },
   {
    "duration": 27,
    "start_time": "2022-11-04T09:30:09.838Z"
   },
   {
    "duration": 7,
    "start_time": "2022-11-04T09:30:09.866Z"
   },
   {
    "duration": 21,
    "start_time": "2022-11-04T09:30:09.874Z"
   },
   {
    "duration": 14,
    "start_time": "2022-11-04T09:30:09.922Z"
   },
   {
    "duration": 5,
    "start_time": "2022-11-04T09:31:31.842Z"
   },
   {
    "duration": 9,
    "start_time": "2022-11-04T09:31:32.825Z"
   },
   {
    "duration": 12,
    "start_time": "2022-11-04T09:31:34.740Z"
   },
   {
    "duration": 25,
    "start_time": "2022-11-04T09:31:35.506Z"
   },
   {
    "duration": 5,
    "start_time": "2022-11-04T09:32:24.991Z"
   },
   {
    "duration": 9,
    "start_time": "2022-11-04T09:32:25.571Z"
   },
   {
    "duration": 13,
    "start_time": "2022-11-04T09:32:26.693Z"
   },
   {
    "duration": 26,
    "start_time": "2022-11-04T09:32:27.136Z"
   },
   {
    "duration": 74,
    "start_time": "2022-11-04T09:33:26.101Z"
   },
   {
    "duration": 64,
    "start_time": "2022-11-04T09:33:56.533Z"
   },
   {
    "duration": 16,
    "start_time": "2022-11-04T09:34:02.245Z"
   },
   {
    "duration": 788,
    "start_time": "2022-11-04T09:34:08.521Z"
   },
   {
    "duration": 1826,
    "start_time": "2022-11-04T09:34:09.310Z"
   },
   {
    "duration": 10,
    "start_time": "2022-11-04T09:34:11.139Z"
   },
   {
    "duration": 36,
    "start_time": "2022-11-04T09:34:11.151Z"
   },
   {
    "duration": 40,
    "start_time": "2022-11-04T09:34:11.189Z"
   },
   {
    "duration": 9,
    "start_time": "2022-11-04T09:34:11.232Z"
   },
   {
    "duration": 19,
    "start_time": "2022-11-04T09:34:11.243Z"
   },
   {
    "duration": 23,
    "start_time": "2022-11-04T09:34:11.263Z"
   },
   {
    "duration": 20,
    "start_time": "2022-11-04T09:34:11.288Z"
   },
   {
    "duration": 16,
    "start_time": "2022-11-04T09:34:11.311Z"
   },
   {
    "duration": 20,
    "start_time": "2022-11-04T09:34:11.329Z"
   },
   {
    "duration": 20,
    "start_time": "2022-11-04T09:34:11.350Z"
   },
   {
    "duration": 36,
    "start_time": "2022-11-04T09:34:11.371Z"
   },
   {
    "duration": 14,
    "start_time": "2022-11-04T09:34:11.408Z"
   },
   {
    "duration": 28,
    "start_time": "2022-11-04T09:34:11.423Z"
   },
   {
    "duration": 25,
    "start_time": "2022-11-04T09:34:11.452Z"
   },
   {
    "duration": 22,
    "start_time": "2022-11-04T09:34:11.479Z"
   },
   {
    "duration": 21,
    "start_time": "2022-11-04T09:34:11.502Z"
   },
   {
    "duration": 13,
    "start_time": "2022-11-04T09:34:11.525Z"
   },
   {
    "duration": 28,
    "start_time": "2022-11-04T09:34:11.539Z"
   },
   {
    "duration": 28,
    "start_time": "2022-11-04T09:34:11.569Z"
   },
   {
    "duration": 16,
    "start_time": "2022-11-04T09:34:11.599Z"
   },
   {
    "duration": 29,
    "start_time": "2022-11-04T09:34:11.616Z"
   },
   {
    "duration": 19,
    "start_time": "2022-11-04T09:34:11.646Z"
   },
   {
    "duration": 8,
    "start_time": "2022-11-04T09:34:11.667Z"
   },
   {
    "duration": 27,
    "start_time": "2022-11-04T09:34:11.676Z"
   },
   {
    "duration": 18,
    "start_time": "2022-11-04T09:34:11.705Z"
   },
   {
    "duration": 8,
    "start_time": "2022-11-04T09:34:11.727Z"
   },
   {
    "duration": 13,
    "start_time": "2022-11-04T09:34:11.737Z"
   },
   {
    "duration": 36,
    "start_time": "2022-11-04T09:34:11.751Z"
   },
   {
    "duration": 12,
    "start_time": "2022-11-04T09:34:11.789Z"
   },
   {
    "duration": 24,
    "start_time": "2022-11-04T09:34:11.802Z"
   },
   {
    "duration": 19,
    "start_time": "2022-11-04T09:34:11.827Z"
   },
   {
    "duration": 24,
    "start_time": "2022-11-04T09:34:11.848Z"
   },
   {
    "duration": 10,
    "start_time": "2022-11-04T09:34:11.874Z"
   },
   {
    "duration": 29,
    "start_time": "2022-11-04T09:34:11.885Z"
   },
   {
    "duration": 6,
    "start_time": "2022-11-04T09:34:11.915Z"
   },
   {
    "duration": 15,
    "start_time": "2022-11-04T09:34:11.923Z"
   },
   {
    "duration": 19,
    "start_time": "2022-11-04T09:34:11.940Z"
   },
   {
    "duration": 17,
    "start_time": "2022-11-04T09:34:11.960Z"
   },
   {
    "duration": 45,
    "start_time": "2022-11-04T09:34:11.978Z"
   },
   {
    "duration": 46,
    "start_time": "2022-11-04T09:34:12.025Z"
   },
   {
    "duration": 19,
    "start_time": "2022-11-04T09:34:12.072Z"
   },
   {
    "duration": 21,
    "start_time": "2022-11-04T09:34:12.092Z"
   },
   {
    "duration": 13,
    "start_time": "2022-11-04T09:34:12.115Z"
   },
   {
    "duration": 5,
    "start_time": "2022-11-04T09:34:41.000Z"
   },
   {
    "duration": 10,
    "start_time": "2022-11-04T09:34:41.527Z"
   },
   {
    "duration": 13,
    "start_time": "2022-11-04T09:34:42.892Z"
   },
   {
    "duration": 26,
    "start_time": "2022-11-04T09:34:43.335Z"
   },
   {
    "duration": 4,
    "start_time": "2022-11-04T09:34:53.507Z"
   },
   {
    "duration": 7,
    "start_time": "2022-11-04T09:34:54.187Z"
   },
   {
    "duration": 13,
    "start_time": "2022-11-04T09:34:55.011Z"
   },
   {
    "duration": 26,
    "start_time": "2022-11-04T09:34:55.500Z"
   },
   {
    "duration": 774,
    "start_time": "2022-11-04T09:39:14.849Z"
   },
   {
    "duration": 1866,
    "start_time": "2022-11-04T09:39:15.626Z"
   },
   {
    "duration": 10,
    "start_time": "2022-11-04T09:39:17.495Z"
   },
   {
    "duration": 10,
    "start_time": "2022-11-04T09:39:17.506Z"
   },
   {
    "duration": 11,
    "start_time": "2022-11-04T09:39:17.518Z"
   },
   {
    "duration": 7,
    "start_time": "2022-11-04T09:39:17.531Z"
   },
   {
    "duration": 17,
    "start_time": "2022-11-04T09:39:17.539Z"
   },
   {
    "duration": 5,
    "start_time": "2022-11-04T09:39:17.559Z"
   },
   {
    "duration": 9,
    "start_time": "2022-11-04T09:39:17.566Z"
   },
   {
    "duration": 4,
    "start_time": "2022-11-04T09:39:17.576Z"
   },
   {
    "duration": 11,
    "start_time": "2022-11-04T09:39:17.581Z"
   },
   {
    "duration": 5,
    "start_time": "2022-11-04T09:39:17.593Z"
   },
   {
    "duration": 25,
    "start_time": "2022-11-04T09:39:17.600Z"
   },
   {
    "duration": 6,
    "start_time": "2022-11-04T09:39:17.628Z"
   },
   {
    "duration": 11,
    "start_time": "2022-11-04T09:39:17.635Z"
   },
   {
    "duration": 3,
    "start_time": "2022-11-04T09:39:17.648Z"
   },
   {
    "duration": 12,
    "start_time": "2022-11-04T09:39:17.652Z"
   },
   {
    "duration": 4,
    "start_time": "2022-11-04T09:39:17.665Z"
   },
   {
    "duration": 5,
    "start_time": "2022-11-04T09:39:17.670Z"
   },
   {
    "duration": 12,
    "start_time": "2022-11-04T09:39:17.676Z"
   },
   {
    "duration": 35,
    "start_time": "2022-11-04T09:39:17.690Z"
   },
   {
    "duration": 21,
    "start_time": "2022-11-04T09:39:17.726Z"
   },
   {
    "duration": 15,
    "start_time": "2022-11-04T09:39:17.749Z"
   },
   {
    "duration": 7,
    "start_time": "2022-11-04T09:39:17.765Z"
   },
   {
    "duration": 3,
    "start_time": "2022-11-04T09:39:17.774Z"
   },
   {
    "duration": 13,
    "start_time": "2022-11-04T09:39:17.778Z"
   },
   {
    "duration": 4,
    "start_time": "2022-11-04T09:39:17.792Z"
   },
   {
    "duration": 26,
    "start_time": "2022-11-04T09:39:17.797Z"
   },
   {
    "duration": 10,
    "start_time": "2022-11-04T09:39:17.824Z"
   },
   {
    "duration": 3,
    "start_time": "2022-11-04T09:39:17.836Z"
   },
   {
    "duration": 5,
    "start_time": "2022-11-04T09:39:17.840Z"
   },
   {
    "duration": 10,
    "start_time": "2022-11-04T09:39:17.846Z"
   },
   {
    "duration": 4,
    "start_time": "2022-11-04T09:39:17.857Z"
   },
   {
    "duration": 9,
    "start_time": "2022-11-04T09:39:17.862Z"
   },
   {
    "duration": 4,
    "start_time": "2022-11-04T09:39:17.873Z"
   },
   {
    "duration": 9,
    "start_time": "2022-11-04T09:39:17.878Z"
   },
   {
    "duration": 42,
    "start_time": "2022-11-04T09:39:17.889Z"
   },
   {
    "duration": 7,
    "start_time": "2022-11-04T09:39:17.933Z"
   },
   {
    "duration": 20,
    "start_time": "2022-11-04T09:39:17.942Z"
   },
   {
    "duration": 75,
    "start_time": "2022-11-04T09:39:17.963Z"
   },
   {
    "duration": 22,
    "start_time": "2022-11-04T09:40:50.098Z"
   },
   {
    "duration": 16,
    "start_time": "2022-11-04T09:41:20.203Z"
   },
   {
    "duration": 25,
    "start_time": "2022-11-04T09:48:17.371Z"
   },
   {
    "duration": 4,
    "start_time": "2022-11-04T09:49:01.753Z"
   },
   {
    "duration": 24,
    "start_time": "2022-11-04T09:49:12.115Z"
   },
   {
    "duration": 7,
    "start_time": "2022-11-04T10:36:34.796Z"
   },
   {
    "duration": 32,
    "start_time": "2022-11-04T10:36:38.152Z"
   },
   {
    "duration": 6,
    "start_time": "2022-11-04T10:36:53.083Z"
   },
   {
    "duration": 29,
    "start_time": "2022-11-04T10:36:56.333Z"
   },
   {
    "duration": 6,
    "start_time": "2022-11-04T10:37:09.763Z"
   },
   {
    "duration": 36,
    "start_time": "2022-11-04T10:37:11.613Z"
   },
   {
    "duration": 6,
    "start_time": "2022-11-04T10:37:18.799Z"
   },
   {
    "duration": 29,
    "start_time": "2022-11-04T10:37:21.063Z"
   },
   {
    "duration": 5,
    "start_time": "2022-11-04T10:37:40.758Z"
   },
   {
    "duration": 35,
    "start_time": "2022-11-04T10:37:45.590Z"
   },
   {
    "duration": 6,
    "start_time": "2022-11-04T10:39:36.579Z"
   },
   {
    "duration": 6,
    "start_time": "2022-11-04T10:39:37.364Z"
   },
   {
    "duration": 4,
    "start_time": "2022-11-04T10:51:02.900Z"
   },
   {
    "duration": 88,
    "start_time": "2022-11-04T10:51:20.079Z"
   },
   {
    "duration": 210,
    "start_time": "2022-11-04T10:51:37.814Z"
   },
   {
    "duration": 3,
    "start_time": "2022-11-04T10:51:52.075Z"
   },
   {
    "duration": 8,
    "start_time": "2022-11-04T10:51:52.729Z"
   },
   {
    "duration": 3,
    "start_time": "2022-11-04T10:52:04.648Z"
   },
   {
    "duration": 9,
    "start_time": "2022-11-04T10:52:06.046Z"
   },
   {
    "duration": 3,
    "start_time": "2022-11-04T10:52:27.408Z"
   },
   {
    "duration": 192,
    "start_time": "2022-11-04T10:52:28.061Z"
   },
   {
    "duration": 2,
    "start_time": "2022-11-04T10:52:41.622Z"
   },
   {
    "duration": 154,
    "start_time": "2022-11-04T10:52:42.275Z"
   },
   {
    "duration": 3,
    "start_time": "2022-11-04T10:53:28.061Z"
   },
   {
    "duration": 173,
    "start_time": "2022-11-04T10:53:28.610Z"
   },
   {
    "duration": 3,
    "start_time": "2022-11-04T10:53:36.482Z"
   },
   {
    "duration": 13,
    "start_time": "2022-11-04T10:53:37.190Z"
   },
   {
    "duration": 12,
    "start_time": "2022-11-04T10:53:48.564Z"
   },
   {
    "duration": 11,
    "start_time": "2022-11-04T10:54:30.021Z"
   },
   {
    "duration": 24,
    "start_time": "2022-11-04T10:54:33.764Z"
   },
   {
    "duration": 13,
    "start_time": "2022-11-04T10:57:20.796Z"
   },
   {
    "duration": 10,
    "start_time": "2022-11-04T10:58:25.473Z"
   },
   {
    "duration": 65,
    "start_time": "2022-11-04T10:59:04.190Z"
   },
   {
    "duration": 4,
    "start_time": "2022-11-04T10:59:16.873Z"
   },
   {
    "duration": 3128,
    "start_time": "2022-11-04T10:59:29.512Z"
   },
   {
    "duration": 2422,
    "start_time": "2022-11-04T11:00:03.869Z"
   },
   {
    "duration": 24,
    "start_time": "2022-11-04T11:00:10.173Z"
   },
   {
    "duration": 679,
    "start_time": "2022-11-04T11:02:55.870Z"
   },
   {
    "duration": 14,
    "start_time": "2022-11-04T11:03:48.620Z"
   },
   {
    "duration": 3,
    "start_time": "2022-11-04T11:04:17.438Z"
   },
   {
    "duration": 14,
    "start_time": "2022-11-04T11:04:26.248Z"
   },
   {
    "duration": 13,
    "start_time": "2022-11-04T11:05:32.551Z"
   },
   {
    "duration": 3,
    "start_time": "2022-11-04T11:06:01.867Z"
   },
   {
    "duration": 7,
    "start_time": "2022-11-04T11:06:11.579Z"
   },
   {
    "duration": 8,
    "start_time": "2022-11-04T11:07:20.164Z"
   },
   {
    "duration": 24,
    "start_time": "2022-11-04T11:07:23.872Z"
   },
   {
    "duration": 4,
    "start_time": "2022-11-04T11:07:55.016Z"
   },
   {
    "duration": 880,
    "start_time": "2022-11-04T11:08:32.372Z"
   },
   {
    "duration": 22,
    "start_time": "2022-11-04T11:08:52.915Z"
   },
   {
    "duration": 9,
    "start_time": "2022-11-04T11:08:57.787Z"
   },
   {
    "duration": 913,
    "start_time": "2022-11-04T11:09:02.973Z"
   },
   {
    "duration": 9,
    "start_time": "2022-11-04T11:09:07.193Z"
   },
   {
    "duration": 6,
    "start_time": "2022-11-04T11:10:07.568Z"
   },
   {
    "duration": 4,
    "start_time": "2022-11-04T11:10:31.761Z"
   },
   {
    "duration": 747,
    "start_time": "2022-11-04T11:11:08.035Z"
   },
   {
    "duration": 6,
    "start_time": "2022-11-04T11:11:17.102Z"
   },
   {
    "duration": 14,
    "start_time": "2022-11-04T11:11:32.191Z"
   },
   {
    "duration": 909,
    "start_time": "2022-11-04T11:11:41.073Z"
   },
   {
    "duration": 7,
    "start_time": "2022-11-04T11:11:49.163Z"
   },
   {
    "duration": 373,
    "start_time": "2022-11-04T11:12:17.435Z"
   },
   {
    "duration": 424,
    "start_time": "2022-11-04T11:12:25.772Z"
   },
   {
    "duration": 759,
    "start_time": "2022-11-04T11:14:07.712Z"
   },
   {
    "duration": 6,
    "start_time": "2022-11-04T11:14:12.664Z"
   },
   {
    "duration": 5,
    "start_time": "2022-11-04T11:14:23.776Z"
   },
   {
    "duration": 8,
    "start_time": "2022-11-04T11:16:32.574Z"
   },
   {
    "duration": 188,
    "start_time": "2022-11-04T11:16:45.238Z"
   },
   {
    "duration": 3,
    "start_time": "2022-11-04T11:18:43.839Z"
   },
   {
    "duration": 4,
    "start_time": "2022-11-04T11:18:57.102Z"
   },
   {
    "duration": 3,
    "start_time": "2022-11-04T11:19:00.184Z"
   },
   {
    "duration": 146,
    "start_time": "2022-11-04T11:19:03.140Z"
   },
   {
    "duration": 27,
    "start_time": "2022-11-04T11:19:06.264Z"
   },
   {
    "duration": 30,
    "start_time": "2022-11-04T11:19:15.088Z"
   },
   {
    "duration": 5,
    "start_time": "2022-11-04T11:19:45.172Z"
   },
   {
    "duration": 36,
    "start_time": "2022-11-04T11:20:22.017Z"
   },
   {
    "duration": 48,
    "start_time": "2022-11-04T11:20:41.561Z"
   },
   {
    "duration": 22,
    "start_time": "2022-11-04T11:22:04.638Z"
   },
   {
    "duration": 19,
    "start_time": "2022-11-04T11:22:31.661Z"
   },
   {
    "duration": 4,
    "start_time": "2022-11-04T11:23:11.970Z"
   },
   {
    "duration": 35,
    "start_time": "2022-11-04T11:23:19.062Z"
   },
   {
    "duration": 26103,
    "start_time": "2022-11-04T11:31:47.805Z"
   },
   {
    "duration": 11,
    "start_time": "2022-11-04T11:38:20.027Z"
   },
   {
    "duration": 30,
    "start_time": "2022-11-04T11:38:33.465Z"
   },
   {
    "duration": 5,
    "start_time": "2022-11-04T11:41:04.429Z"
   },
   {
    "duration": 26,
    "start_time": "2022-11-04T11:41:05.509Z"
   },
   {
    "duration": 104,
    "start_time": "2022-11-04T11:43:40.649Z"
   },
   {
    "duration": 210,
    "start_time": "2022-11-04T11:43:49.405Z"
   },
   {
    "duration": 222,
    "start_time": "2022-11-04T11:44:00.908Z"
   },
   {
    "duration": 9,
    "start_time": "2022-11-04T11:44:27.653Z"
   },
   {
    "duration": 243,
    "start_time": "2022-11-04T11:44:28.236Z"
   },
   {
    "duration": 46,
    "start_time": "2022-11-04T11:45:26.658Z"
   },
   {
    "duration": 220,
    "start_time": "2022-11-04T11:46:16.782Z"
   },
   {
    "duration": 62,
    "start_time": "2022-11-04T11:47:55.847Z"
   },
   {
    "duration": 1173,
    "start_time": "2022-11-04T11:51:30.633Z"
   },
   {
    "duration": 1129,
    "start_time": "2022-11-04T11:51:42.025Z"
   },
   {
    "duration": 342,
    "start_time": "2022-11-04T11:52:47.524Z"
   },
   {
    "duration": 9,
    "start_time": "2022-11-04T11:56:24.728Z"
   },
   {
    "duration": 343,
    "start_time": "2022-11-04T11:56:25.321Z"
   },
   {
    "duration": 313,
    "start_time": "2022-11-04T11:56:54.066Z"
   },
   {
    "duration": 253,
    "start_time": "2022-11-04T11:57:06.094Z"
   },
   {
    "duration": 8,
    "start_time": "2022-11-04T11:58:59.962Z"
   },
   {
    "duration": 271,
    "start_time": "2022-11-04T11:59:00.163Z"
   },
   {
    "duration": 713,
    "start_time": "2022-11-04T12:01:18.332Z"
   },
   {
    "duration": 0,
    "start_time": "2022-11-04T12:01:19.047Z"
   },
   {
    "duration": 9,
    "start_time": "2022-11-04T12:01:39.369Z"
   },
   {
    "duration": 269,
    "start_time": "2022-11-04T12:01:39.731Z"
   },
   {
    "duration": 150,
    "start_time": "2022-11-04T12:01:59.437Z"
   },
   {
    "duration": 282,
    "start_time": "2022-11-04T12:02:04.030Z"
   },
   {
    "duration": 302,
    "start_time": "2022-11-04T12:02:59.966Z"
   },
   {
    "duration": 311,
    "start_time": "2022-11-04T12:03:11.642Z"
   },
   {
    "duration": 292,
    "start_time": "2022-11-04T12:04:08.568Z"
   },
   {
    "duration": 274,
    "start_time": "2022-11-04T12:04:13.028Z"
   },
   {
    "duration": 283,
    "start_time": "2022-11-04T12:04:24.798Z"
   },
   {
    "duration": 786,
    "start_time": "2022-11-04T12:04:29.393Z"
   },
   {
    "duration": 294,
    "start_time": "2022-11-04T12:04:35.663Z"
   },
   {
    "duration": 269,
    "start_time": "2022-11-04T12:07:00.785Z"
   },
   {
    "duration": 262,
    "start_time": "2022-11-04T12:07:08.288Z"
   },
   {
    "duration": 122,
    "start_time": "2022-11-04T12:07:15.294Z"
   },
   {
    "duration": 26897,
    "start_time": "2022-11-04T12:09:04.050Z"
   },
   {
    "duration": 28310,
    "start_time": "2022-11-04T12:09:52.127Z"
   },
   {
    "duration": 9,
    "start_time": "2022-11-04T12:12:11.983Z"
   },
   {
    "duration": 778,
    "start_time": "2022-11-04T12:13:25.482Z"
   },
   {
    "duration": 893,
    "start_time": "2022-11-04T12:13:37.368Z"
   },
   {
    "duration": 239,
    "start_time": "2022-11-04T12:14:32.831Z"
   },
   {
    "duration": 220,
    "start_time": "2022-11-04T12:14:46.820Z"
   },
   {
    "duration": 9,
    "start_time": "2022-11-04T12:14:52.273Z"
   },
   {
    "duration": 212,
    "start_time": "2022-11-04T12:15:02.211Z"
   },
   {
    "duration": 164,
    "start_time": "2022-11-04T12:15:09.374Z"
   },
   {
    "duration": 132,
    "start_time": "2022-11-04T12:15:14.564Z"
   },
   {
    "duration": 119,
    "start_time": "2022-11-04T12:16:21.599Z"
   },
   {
    "duration": 207,
    "start_time": "2022-11-04T12:16:25.938Z"
   },
   {
    "duration": 209,
    "start_time": "2022-11-04T12:16:34.426Z"
   },
   {
    "duration": 237,
    "start_time": "2022-11-04T12:16:41.565Z"
   },
   {
    "duration": 227,
    "start_time": "2022-11-04T12:16:45.520Z"
   },
   {
    "duration": 220,
    "start_time": "2022-11-04T12:16:57.684Z"
   },
   {
    "duration": 218,
    "start_time": "2022-11-04T12:17:04.665Z"
   },
   {
    "duration": 1927,
    "start_time": "2022-11-04T12:17:15.059Z"
   },
   {
    "duration": 122,
    "start_time": "2022-11-04T12:17:26.123Z"
   },
   {
    "duration": 145,
    "start_time": "2022-11-04T12:17:31.522Z"
   },
   {
    "duration": 127,
    "start_time": "2022-11-04T12:17:35.219Z"
   },
   {
    "duration": 129,
    "start_time": "2022-11-04T12:17:38.564Z"
   },
   {
    "duration": 152,
    "start_time": "2022-11-04T12:17:42.482Z"
   },
   {
    "duration": 164,
    "start_time": "2022-11-04T12:19:01.721Z"
   },
   {
    "duration": 116,
    "start_time": "2022-11-04T12:19:10.201Z"
   },
   {
    "duration": 225,
    "start_time": "2022-11-04T12:19:23.005Z"
   },
   {
    "duration": 128,
    "start_time": "2022-11-04T12:19:28.270Z"
   },
   {
    "duration": 135,
    "start_time": "2022-11-04T12:20:28.619Z"
   },
   {
    "duration": 114,
    "start_time": "2022-11-04T12:20:35.031Z"
   },
   {
    "duration": 109,
    "start_time": "2022-11-04T12:21:42.219Z"
   },
   {
    "duration": 125,
    "start_time": "2022-11-04T12:23:02.165Z"
   },
   {
    "duration": 118,
    "start_time": "2022-11-04T12:24:42.452Z"
   },
   {
    "duration": 121,
    "start_time": "2022-11-04T12:25:51.960Z"
   },
   {
    "duration": 229,
    "start_time": "2022-11-04T12:27:59.781Z"
   },
   {
    "duration": 195,
    "start_time": "2022-11-04T12:28:21.180Z"
   },
   {
    "duration": 176,
    "start_time": "2022-11-04T12:28:36.723Z"
   },
   {
    "duration": 171,
    "start_time": "2022-11-04T12:28:50.524Z"
   },
   {
    "duration": 180,
    "start_time": "2022-11-04T12:28:54.552Z"
   },
   {
    "duration": 223,
    "start_time": "2022-11-04T12:28:59.280Z"
   },
   {
    "duration": 775,
    "start_time": "2022-11-04T12:32:13.725Z"
   },
   {
    "duration": 160,
    "start_time": "2022-11-04T12:32:36.322Z"
   },
   {
    "duration": 128,
    "start_time": "2022-11-04T12:32:47.879Z"
   },
   {
    "duration": 114,
    "start_time": "2022-11-04T12:33:00.464Z"
   },
   {
    "duration": 116,
    "start_time": "2022-11-04T12:33:22.866Z"
   },
   {
    "duration": 123,
    "start_time": "2022-11-04T12:33:33.064Z"
   },
   {
    "duration": 145,
    "start_time": "2022-11-04T12:36:22.422Z"
   },
   {
    "duration": 101,
    "start_time": "2022-11-04T12:36:40.806Z"
   },
   {
    "duration": 109,
    "start_time": "2022-11-04T12:36:48.985Z"
   },
   {
    "duration": 225,
    "start_time": "2022-11-04T12:37:00.360Z"
   },
   {
    "duration": 8,
    "start_time": "2022-11-04T12:37:55.260Z"
   },
   {
    "duration": 141,
    "start_time": "2022-11-04T12:38:15.800Z"
   },
   {
    "duration": 178,
    "start_time": "2022-11-04T12:38:20.355Z"
   },
   {
    "duration": 1280,
    "start_time": "2022-11-04T12:40:11.092Z"
   },
   {
    "duration": 227,
    "start_time": "2022-11-04T12:40:18.533Z"
   },
   {
    "duration": 25347,
    "start_time": "2022-11-04T12:43:20.288Z"
   },
   {
    "duration": 144479,
    "start_time": "2022-11-04T12:44:21.535Z"
   },
   {
    "duration": 16,
    "start_time": "2022-11-04T12:47:15.490Z"
   },
   {
    "duration": 13,
    "start_time": "2022-11-04T12:47:20.037Z"
   },
   {
    "duration": 14,
    "start_time": "2022-11-04T12:47:40.549Z"
   },
   {
    "duration": 6,
    "start_time": "2022-11-04T12:48:19.598Z"
   },
   {
    "duration": 115,
    "start_time": "2022-11-04T12:48:37.386Z"
   },
   {
    "duration": 112,
    "start_time": "2022-11-04T12:48:53.722Z"
   },
   {
    "duration": 9,
    "start_time": "2022-11-04T12:49:17.195Z"
   },
   {
    "duration": 7,
    "start_time": "2022-11-04T12:49:28.529Z"
   },
   {
    "duration": 5,
    "start_time": "2022-11-04T12:49:36.088Z"
   },
   {
    "duration": 7,
    "start_time": "2022-11-04T12:50:13.100Z"
   },
   {
    "duration": 7,
    "start_time": "2022-11-04T12:50:28.008Z"
   },
   {
    "duration": 5,
    "start_time": "2022-11-04T12:50:34.654Z"
   },
   {
    "duration": 7,
    "start_time": "2022-11-04T12:51:00.577Z"
   },
   {
    "duration": 30,
    "start_time": "2022-11-04T12:51:20.948Z"
   },
   {
    "duration": 7,
    "start_time": "2022-11-04T12:51:28.370Z"
   },
   {
    "duration": 110,
    "start_time": "2022-11-04T12:51:39.879Z"
   },
   {
    "duration": 7,
    "start_time": "2022-11-04T12:51:52.282Z"
   },
   {
    "duration": 13,
    "start_time": "2022-11-04T12:52:35.591Z"
   },
   {
    "duration": 13,
    "start_time": "2022-11-04T12:52:46.106Z"
   },
   {
    "duration": 8,
    "start_time": "2022-11-04T12:53:00.130Z"
   },
   {
    "duration": 5,
    "start_time": "2022-11-04T12:53:40.576Z"
   },
   {
    "duration": 107,
    "start_time": "2022-11-04T12:53:49.992Z"
   },
   {
    "duration": 80,
    "start_time": "2022-11-04T12:54:15.522Z"
   },
   {
    "duration": 148,
    "start_time": "2022-11-04T12:55:09.439Z"
   },
   {
    "duration": 124,
    "start_time": "2022-11-04T12:55:19.548Z"
   },
   {
    "duration": 87,
    "start_time": "2022-11-04T12:55:27.426Z"
   },
   {
    "duration": 7,
    "start_time": "2022-11-04T14:04:25.480Z"
   },
   {
    "duration": 6,
    "start_time": "2022-11-04T14:04:48.762Z"
   },
   {
    "duration": 62,
    "start_time": "2022-11-04T14:05:02.776Z"
   },
   {
    "duration": 70,
    "start_time": "2022-11-04T14:07:03.794Z"
   },
   {
    "duration": 29075,
    "start_time": "2022-11-04T14:11:04.859Z"
   },
   {
    "duration": 68,
    "start_time": "2022-11-04T14:12:12.425Z"
   },
   {
    "duration": 39,
    "start_time": "2022-11-04T14:12:34.095Z"
   },
   {
    "duration": 153,
    "start_time": "2022-11-04T14:14:05.541Z"
   },
   {
    "duration": 39,
    "start_time": "2022-11-04T14:14:25.258Z"
   },
   {
    "duration": 162,
    "start_time": "2022-11-04T14:15:27.129Z"
   },
   {
    "duration": 151,
    "start_time": "2022-11-04T14:15:32.901Z"
   },
   {
    "duration": 44,
    "start_time": "2022-11-04T14:15:46.156Z"
   },
   {
    "duration": 40,
    "start_time": "2022-11-04T14:16:01.614Z"
   },
   {
    "duration": 48,
    "start_time": "2022-11-04T14:16:12.789Z"
   },
   {
    "duration": 41,
    "start_time": "2022-11-04T14:16:22.963Z"
   },
   {
    "duration": 39,
    "start_time": "2022-11-04T14:16:35.952Z"
   },
   {
    "duration": 274,
    "start_time": "2022-11-04T14:19:51.657Z"
   },
   {
    "duration": 133,
    "start_time": "2022-11-04T14:20:03.540Z"
   },
   {
    "duration": 296,
    "start_time": "2022-11-04T14:20:14.040Z"
   },
   {
    "duration": 518,
    "start_time": "2022-11-04T14:21:13.365Z"
   },
   {
    "duration": 129,
    "start_time": "2022-11-04T14:22:49.805Z"
   },
   {
    "duration": 372,
    "start_time": "2022-11-04T14:26:18.952Z"
   },
   {
    "duration": 44,
    "start_time": "2022-11-04T14:26:29.259Z"
   },
   {
    "duration": 464,
    "start_time": "2022-11-04T14:26:39.531Z"
   },
   {
    "duration": 1021,
    "start_time": "2022-11-04T14:35:42.075Z"
   },
   {
    "duration": 512,
    "start_time": "2022-11-04T14:36:23.919Z"
   },
   {
    "duration": 796,
    "start_time": "2022-11-04T14:36:30.321Z"
   },
   {
    "duration": 847,
    "start_time": "2022-11-04T14:36:38.522Z"
   },
   {
    "duration": 853,
    "start_time": "2022-11-04T14:36:46.460Z"
   },
   {
    "duration": 3382,
    "start_time": "2022-11-04T14:37:12.294Z"
   },
   {
    "duration": 3255,
    "start_time": "2022-11-04T14:37:40.365Z"
   },
   {
    "duration": 3506,
    "start_time": "2022-11-04T14:37:57.222Z"
   },
   {
    "duration": 3373,
    "start_time": "2022-11-04T14:39:09.831Z"
   },
   {
    "duration": 3397,
    "start_time": "2022-11-04T14:39:24.742Z"
   },
   {
    "duration": 3977,
    "start_time": "2022-11-04T14:40:51.565Z"
   },
   {
    "duration": 3363,
    "start_time": "2022-11-04T14:41:11.478Z"
   },
   {
    "duration": 91,
    "start_time": "2022-11-04T14:42:08.821Z"
   },
   {
    "duration": 3407,
    "start_time": "2022-11-04T14:42:12.988Z"
   },
   {
    "duration": 38,
    "start_time": "2022-11-04T14:44:54.934Z"
   },
   {
    "duration": 40,
    "start_time": "2022-11-04T14:45:08.520Z"
   },
   {
    "duration": 40,
    "start_time": "2022-11-04T14:46:41.767Z"
   },
   {
    "duration": 40,
    "start_time": "2022-11-04T14:47:00.335Z"
   },
   {
    "duration": 42,
    "start_time": "2022-11-04T14:51:02.247Z"
   },
   {
    "duration": 724,
    "start_time": "2022-11-04T14:51:17.762Z"
   },
   {
    "duration": 1885,
    "start_time": "2022-11-04T14:51:18.487Z"
   },
   {
    "duration": 8,
    "start_time": "2022-11-04T14:51:20.374Z"
   },
   {
    "duration": 25,
    "start_time": "2022-11-04T14:51:20.384Z"
   },
   {
    "duration": 35,
    "start_time": "2022-11-04T14:51:20.410Z"
   },
   {
    "duration": 10,
    "start_time": "2022-11-04T14:51:20.446Z"
   },
   {
    "duration": 18,
    "start_time": "2022-11-04T14:51:20.457Z"
   },
   {
    "duration": 9,
    "start_time": "2022-11-04T14:51:20.476Z"
   },
   {
    "duration": 31,
    "start_time": "2022-11-04T14:51:20.487Z"
   },
   {
    "duration": 14,
    "start_time": "2022-11-04T14:51:20.520Z"
   },
   {
    "duration": 34,
    "start_time": "2022-11-04T14:51:20.536Z"
   },
   {
    "duration": 23,
    "start_time": "2022-11-04T14:51:20.571Z"
   },
   {
    "duration": 19,
    "start_time": "2022-11-04T14:51:20.596Z"
   },
   {
    "duration": 23,
    "start_time": "2022-11-04T14:51:20.617Z"
   },
   {
    "duration": 12,
    "start_time": "2022-11-04T14:51:20.642Z"
   },
   {
    "duration": 17,
    "start_time": "2022-11-04T14:51:20.655Z"
   },
   {
    "duration": 16,
    "start_time": "2022-11-04T14:51:20.674Z"
   },
   {
    "duration": 4,
    "start_time": "2022-11-04T14:51:20.692Z"
   },
   {
    "duration": 7,
    "start_time": "2022-11-04T14:51:20.697Z"
   },
   {
    "duration": 30,
    "start_time": "2022-11-04T14:51:20.706Z"
   },
   {
    "duration": 8,
    "start_time": "2022-11-04T14:51:20.737Z"
   },
   {
    "duration": 18,
    "start_time": "2022-11-04T14:51:20.747Z"
   },
   {
    "duration": 14,
    "start_time": "2022-11-04T14:51:20.766Z"
   },
   {
    "duration": 9,
    "start_time": "2022-11-04T14:51:20.781Z"
   },
   {
    "duration": 3,
    "start_time": "2022-11-04T14:51:20.792Z"
   },
   {
    "duration": 30,
    "start_time": "2022-11-04T14:51:20.797Z"
   },
   {
    "duration": 4,
    "start_time": "2022-11-04T14:51:20.829Z"
   },
   {
    "duration": 3,
    "start_time": "2022-11-04T14:51:20.838Z"
   },
   {
    "duration": 13,
    "start_time": "2022-11-04T14:51:20.842Z"
   },
   {
    "duration": 5,
    "start_time": "2022-11-04T14:51:20.856Z"
   },
   {
    "duration": 5,
    "start_time": "2022-11-04T14:51:20.863Z"
   },
   {
    "duration": 11,
    "start_time": "2022-11-04T14:51:20.869Z"
   },
   {
    "duration": 4,
    "start_time": "2022-11-04T14:51:20.881Z"
   },
   {
    "duration": 10,
    "start_time": "2022-11-04T14:51:20.886Z"
   },
   {
    "duration": 27,
    "start_time": "2022-11-04T14:51:20.897Z"
   },
   {
    "duration": 13,
    "start_time": "2022-11-04T14:51:20.925Z"
   },
   {
    "duration": 12,
    "start_time": "2022-11-04T14:51:20.940Z"
   },
   {
    "duration": 25,
    "start_time": "2022-11-04T14:51:20.953Z"
   },
   {
    "duration": 6,
    "start_time": "2022-11-04T14:51:20.980Z"
   },
   {
    "duration": 19,
    "start_time": "2022-11-04T14:51:20.988Z"
   },
   {
    "duration": 13,
    "start_time": "2022-11-04T14:51:21.022Z"
   },
   {
    "duration": 28,
    "start_time": "2022-11-04T14:51:21.036Z"
   },
   {
    "duration": 4,
    "start_time": "2022-11-04T14:51:21.066Z"
   },
   {
    "duration": 10,
    "start_time": "2022-11-04T14:51:21.071Z"
   },
   {
    "duration": 8,
    "start_time": "2022-11-04T14:51:21.082Z"
   },
   {
    "duration": 7,
    "start_time": "2022-11-04T14:51:21.092Z"
   },
   {
    "duration": 23,
    "start_time": "2022-11-04T14:51:21.100Z"
   },
   {
    "duration": 97,
    "start_time": "2022-11-04T14:51:21.125Z"
   },
   {
    "duration": 4,
    "start_time": "2022-11-04T14:51:21.224Z"
   },
   {
    "duration": 10,
    "start_time": "2022-11-04T14:51:21.229Z"
   },
   {
    "duration": 335,
    "start_time": "2022-11-04T14:51:21.240Z"
   },
   {
    "duration": 8,
    "start_time": "2022-11-04T14:51:21.576Z"
   },
   {
    "duration": 262,
    "start_time": "2022-11-04T14:51:21.586Z"
   },
   {
    "duration": 7,
    "start_time": "2022-11-04T14:51:21.850Z"
   },
   {
    "duration": 364,
    "start_time": "2022-11-04T14:51:21.859Z"
   },
   {
    "duration": 10,
    "start_time": "2022-11-04T14:51:22.224Z"
   },
   {
    "duration": 270,
    "start_time": "2022-11-04T14:51:22.235Z"
   },
   {
    "duration": 127,
    "start_time": "2022-11-04T14:51:22.506Z"
   },
   {
    "duration": 135,
    "start_time": "2022-11-04T14:51:22.635Z"
   },
   {
    "duration": 138,
    "start_time": "2022-11-04T14:51:22.772Z"
   },
   {
    "duration": 119,
    "start_time": "2022-11-04T14:51:22.912Z"
   },
   {
    "duration": 119,
    "start_time": "2022-11-04T14:51:23.032Z"
   },
   {
    "duration": 118,
    "start_time": "2022-11-04T14:51:23.153Z"
   },
   {
    "duration": 176,
    "start_time": "2022-11-04T14:51:23.272Z"
   },
   {
    "duration": 126,
    "start_time": "2022-11-04T14:51:23.450Z"
   },
   {
    "duration": 85,
    "start_time": "2022-11-04T14:51:23.577Z"
   },
   {
    "duration": 126,
    "start_time": "2022-11-04T14:51:23.664Z"
   },
   {
    "duration": 227,
    "start_time": "2022-11-04T14:51:23.792Z"
   },
   {
    "duration": 9,
    "start_time": "2022-11-04T14:51:24.022Z"
   },
   {
    "duration": 44,
    "start_time": "2022-11-04T14:51:24.032Z"
   },
   {
    "duration": 3,
    "start_time": "2022-11-04T14:53:57.801Z"
   },
   {
    "duration": 115,
    "start_time": "2022-11-04T14:53:58.764Z"
   },
   {
    "duration": 22,
    "start_time": "2022-11-04T14:54:14.596Z"
   },
   {
    "duration": 4,
    "start_time": "2022-11-04T14:54:31.086Z"
   },
   {
    "duration": 100,
    "start_time": "2022-11-04T14:54:31.467Z"
   },
   {
    "duration": 24,
    "start_time": "2022-11-04T14:54:32.108Z"
   },
   {
    "duration": 43,
    "start_time": "2022-11-04T14:54:46.888Z"
   },
   {
    "duration": 104,
    "start_time": "2022-11-04T14:58:36.931Z"
   },
   {
    "duration": 43,
    "start_time": "2022-11-04T14:58:39.644Z"
   },
   {
    "duration": 3,
    "start_time": "2022-11-04T15:01:55.574Z"
   },
   {
    "duration": 114,
    "start_time": "2022-11-04T15:01:55.781Z"
   },
   {
    "duration": 592,
    "start_time": "2022-11-04T15:04:52.948Z"
   },
   {
    "duration": 39,
    "start_time": "2022-11-04T15:07:06.632Z"
   },
   {
    "duration": 776,
    "start_time": "2022-11-04T15:07:23.306Z"
   },
   {
    "duration": 1171,
    "start_time": "2022-11-04T15:07:30.166Z"
   },
   {
    "duration": 12,
    "start_time": "2022-11-04T15:07:51.932Z"
   },
   {
    "duration": 11,
    "start_time": "2022-11-04T15:08:25.930Z"
   },
   {
    "duration": 11,
    "start_time": "2022-11-04T15:08:43.696Z"
   },
   {
    "duration": 11,
    "start_time": "2022-11-04T15:09:14.868Z"
   },
   {
    "duration": 1238,
    "start_time": "2022-11-04T15:09:23.695Z"
   },
   {
    "duration": 1814,
    "start_time": "2022-11-04T15:09:24.935Z"
   },
   {
    "duration": 9,
    "start_time": "2022-11-04T15:09:26.751Z"
   },
   {
    "duration": 12,
    "start_time": "2022-11-04T15:09:26.762Z"
   },
   {
    "duration": 26,
    "start_time": "2022-11-04T15:09:26.775Z"
   },
   {
    "duration": 13,
    "start_time": "2022-11-04T15:09:26.803Z"
   },
   {
    "duration": 14,
    "start_time": "2022-11-04T15:09:26.818Z"
   },
   {
    "duration": 30,
    "start_time": "2022-11-04T15:09:26.834Z"
   },
   {
    "duration": 34,
    "start_time": "2022-11-04T15:09:26.865Z"
   },
   {
    "duration": 13,
    "start_time": "2022-11-04T15:09:26.901Z"
   },
   {
    "duration": 29,
    "start_time": "2022-11-04T15:09:26.915Z"
   },
   {
    "duration": 8,
    "start_time": "2022-11-04T15:09:26.946Z"
   },
   {
    "duration": 22,
    "start_time": "2022-11-04T15:09:26.955Z"
   },
   {
    "duration": 18,
    "start_time": "2022-11-04T15:09:26.979Z"
   },
   {
    "duration": 27,
    "start_time": "2022-11-04T15:09:26.999Z"
   },
   {
    "duration": 17,
    "start_time": "2022-11-04T15:09:27.028Z"
   },
   {
    "duration": 21,
    "start_time": "2022-11-04T15:09:27.047Z"
   },
   {
    "duration": 27,
    "start_time": "2022-11-04T15:09:27.069Z"
   },
   {
    "duration": 24,
    "start_time": "2022-11-04T15:09:27.098Z"
   },
   {
    "duration": 19,
    "start_time": "2022-11-04T15:09:27.123Z"
   },
   {
    "duration": 18,
    "start_time": "2022-11-04T15:09:27.144Z"
   },
   {
    "duration": 29,
    "start_time": "2022-11-04T15:09:27.163Z"
   },
   {
    "duration": 44,
    "start_time": "2022-11-04T15:09:27.193Z"
   },
   {
    "duration": 30,
    "start_time": "2022-11-04T15:09:27.239Z"
   },
   {
    "duration": 30,
    "start_time": "2022-11-04T15:09:27.271Z"
   },
   {
    "duration": 27,
    "start_time": "2022-11-04T15:09:27.302Z"
   },
   {
    "duration": 20,
    "start_time": "2022-11-04T15:09:27.330Z"
   },
   {
    "duration": 22,
    "start_time": "2022-11-04T15:09:27.354Z"
   },
   {
    "duration": 29,
    "start_time": "2022-11-04T15:09:27.377Z"
   },
   {
    "duration": 14,
    "start_time": "2022-11-04T15:09:27.407Z"
   },
   {
    "duration": 15,
    "start_time": "2022-11-04T15:09:27.423Z"
   },
   {
    "duration": 39,
    "start_time": "2022-11-04T15:09:27.439Z"
   },
   {
    "duration": 18,
    "start_time": "2022-11-04T15:09:27.480Z"
   },
   {
    "duration": 34,
    "start_time": "2022-11-04T15:09:27.500Z"
   },
   {
    "duration": 9,
    "start_time": "2022-11-04T15:09:27.536Z"
   },
   {
    "duration": 26,
    "start_time": "2022-11-04T15:09:27.547Z"
   },
   {
    "duration": 22,
    "start_time": "2022-11-04T15:09:27.575Z"
   },
   {
    "duration": 20,
    "start_time": "2022-11-04T15:09:27.598Z"
   },
   {
    "duration": 7,
    "start_time": "2022-11-04T15:09:27.620Z"
   },
   {
    "duration": 43,
    "start_time": "2022-11-04T15:09:27.628Z"
   },
   {
    "duration": 17,
    "start_time": "2022-11-04T15:09:27.672Z"
   },
   {
    "duration": 39,
    "start_time": "2022-11-04T15:09:27.690Z"
   },
   {
    "duration": 5,
    "start_time": "2022-11-04T15:09:27.730Z"
   },
   {
    "duration": 28,
    "start_time": "2022-11-04T15:09:27.736Z"
   },
   {
    "duration": 31,
    "start_time": "2022-11-04T15:09:27.766Z"
   },
   {
    "duration": 20,
    "start_time": "2022-11-04T15:09:27.798Z"
   },
   {
    "duration": 15,
    "start_time": "2022-11-04T15:09:27.819Z"
   },
   {
    "duration": 114,
    "start_time": "2022-11-04T15:09:27.835Z"
   },
   {
    "duration": 3,
    "start_time": "2022-11-04T15:09:27.951Z"
   },
   {
    "duration": 120,
    "start_time": "2022-11-04T15:09:27.955Z"
   },
   {
    "duration": 3,
    "start_time": "2022-11-04T15:09:28.077Z"
   },
   {
    "duration": 28,
    "start_time": "2022-11-04T15:09:28.081Z"
   },
   {
    "duration": 362,
    "start_time": "2022-11-04T15:09:28.110Z"
   },
   {
    "duration": 8,
    "start_time": "2022-11-04T15:09:28.474Z"
   },
   {
    "duration": 280,
    "start_time": "2022-11-04T15:09:28.483Z"
   },
   {
    "duration": 9,
    "start_time": "2022-11-04T15:09:28.764Z"
   },
   {
    "duration": 379,
    "start_time": "2022-11-04T15:09:28.774Z"
   },
   {
    "duration": 8,
    "start_time": "2022-11-04T15:09:29.155Z"
   },
   {
    "duration": 390,
    "start_time": "2022-11-04T15:09:29.164Z"
   },
   {
    "duration": 120,
    "start_time": "2022-11-04T15:09:29.555Z"
   },
   {
    "duration": 132,
    "start_time": "2022-11-04T15:09:29.676Z"
   },
   {
    "duration": 130,
    "start_time": "2022-11-04T15:09:29.810Z"
   },
   {
    "duration": 124,
    "start_time": "2022-11-04T15:09:29.941Z"
   },
   {
    "duration": 120,
    "start_time": "2022-11-04T15:09:30.066Z"
   },
   {
    "duration": 136,
    "start_time": "2022-11-04T15:09:30.188Z"
   },
   {
    "duration": 109,
    "start_time": "2022-11-04T15:09:30.326Z"
   },
   {
    "duration": 129,
    "start_time": "2022-11-04T15:09:30.436Z"
   },
   {
    "duration": 85,
    "start_time": "2022-11-04T15:09:30.567Z"
   },
   {
    "duration": 129,
    "start_time": "2022-11-04T15:09:30.653Z"
   },
   {
    "duration": 327,
    "start_time": "2022-11-04T15:09:30.783Z"
   },
   {
    "duration": 11,
    "start_time": "2022-11-04T15:09:31.112Z"
   },
   {
    "duration": 68,
    "start_time": "2022-11-04T15:09:31.124Z"
   },
   {
    "duration": 13,
    "start_time": "2022-11-04T15:09:31.193Z"
   },
   {
    "duration": 24,
    "start_time": "2022-11-04T15:09:31.208Z"
   },
   {
    "duration": 1189,
    "start_time": "2022-11-04T15:11:50.345Z"
   },
   {
    "duration": 1791,
    "start_time": "2022-11-04T15:11:51.536Z"
   },
   {
    "duration": 10,
    "start_time": "2022-11-04T15:11:53.328Z"
   },
   {
    "duration": 7,
    "start_time": "2022-11-04T15:11:53.339Z"
   },
   {
    "duration": 8,
    "start_time": "2022-11-04T15:11:53.347Z"
   },
   {
    "duration": 6,
    "start_time": "2022-11-04T15:11:53.357Z"
   },
   {
    "duration": 8,
    "start_time": "2022-11-04T15:11:53.364Z"
   },
   {
    "duration": 5,
    "start_time": "2022-11-04T15:11:53.373Z"
   },
   {
    "duration": 9,
    "start_time": "2022-11-04T15:11:53.379Z"
   },
   {
    "duration": 32,
    "start_time": "2022-11-04T15:11:53.390Z"
   },
   {
    "duration": 8,
    "start_time": "2022-11-04T15:11:53.423Z"
   },
   {
    "duration": 5,
    "start_time": "2022-11-04T15:11:53.433Z"
   },
   {
    "duration": 5,
    "start_time": "2022-11-04T15:11:53.439Z"
   },
   {
    "duration": 7,
    "start_time": "2022-11-04T15:11:53.445Z"
   },
   {
    "duration": 9,
    "start_time": "2022-11-04T15:11:53.453Z"
   },
   {
    "duration": 4,
    "start_time": "2022-11-04T15:11:53.463Z"
   },
   {
    "duration": 9,
    "start_time": "2022-11-04T15:11:53.469Z"
   },
   {
    "duration": 4,
    "start_time": "2022-11-04T15:11:53.479Z"
   },
   {
    "duration": 41,
    "start_time": "2022-11-04T15:11:53.484Z"
   },
   {
    "duration": 35,
    "start_time": "2022-11-04T15:11:53.527Z"
   },
   {
    "duration": 10,
    "start_time": "2022-11-04T15:11:53.564Z"
   },
   {
    "duration": 29,
    "start_time": "2022-11-04T15:11:53.576Z"
   },
   {
    "duration": 28,
    "start_time": "2022-11-04T15:11:53.606Z"
   },
   {
    "duration": 27,
    "start_time": "2022-11-04T15:11:53.635Z"
   },
   {
    "duration": 30,
    "start_time": "2022-11-04T15:11:53.664Z"
   },
   {
    "duration": 21,
    "start_time": "2022-11-04T15:11:53.695Z"
   },
   {
    "duration": 4,
    "start_time": "2022-11-04T15:11:53.717Z"
   },
   {
    "duration": 5,
    "start_time": "2022-11-04T15:11:53.725Z"
   },
   {
    "duration": 9,
    "start_time": "2022-11-04T15:11:53.731Z"
   },
   {
    "duration": 3,
    "start_time": "2022-11-04T15:11:53.742Z"
   },
   {
    "duration": 5,
    "start_time": "2022-11-04T15:11:53.746Z"
   },
   {
    "duration": 10,
    "start_time": "2022-11-04T15:11:53.752Z"
   },
   {
    "duration": 3,
    "start_time": "2022-11-04T15:11:53.763Z"
   },
   {
    "duration": 9,
    "start_time": "2022-11-04T15:11:53.767Z"
   },
   {
    "duration": 4,
    "start_time": "2022-11-04T15:11:53.777Z"
   },
   {
    "duration": 41,
    "start_time": "2022-11-04T15:11:53.782Z"
   },
   {
    "duration": 12,
    "start_time": "2022-11-04T15:11:53.824Z"
   },
   {
    "duration": 18,
    "start_time": "2022-11-04T15:11:53.838Z"
   },
   {
    "duration": 7,
    "start_time": "2022-11-04T15:11:53.857Z"
   },
   {
    "duration": 18,
    "start_time": "2022-11-04T15:11:53.865Z"
   },
   {
    "duration": 40,
    "start_time": "2022-11-04T15:11:53.884Z"
   },
   {
    "duration": 27,
    "start_time": "2022-11-04T15:11:53.926Z"
   },
   {
    "duration": 4,
    "start_time": "2022-11-04T15:11:53.955Z"
   },
   {
    "duration": 7,
    "start_time": "2022-11-04T15:11:53.960Z"
   },
   {
    "duration": 6,
    "start_time": "2022-11-04T15:11:53.968Z"
   },
   {
    "duration": 5,
    "start_time": "2022-11-04T15:11:53.975Z"
   },
   {
    "duration": 4,
    "start_time": "2022-11-04T15:11:53.982Z"
   },
   {
    "duration": 126,
    "start_time": "2022-11-04T15:11:53.987Z"
   },
   {
    "duration": 7,
    "start_time": "2022-11-04T15:11:54.115Z"
   },
   {
    "duration": 105,
    "start_time": "2022-11-04T15:11:54.123Z"
   },
   {
    "duration": 4,
    "start_time": "2022-11-04T15:11:54.229Z"
   },
   {
    "duration": 10,
    "start_time": "2022-11-04T15:11:54.235Z"
   },
   {
    "duration": 343,
    "start_time": "2022-11-04T15:11:54.246Z"
   },
   {
    "duration": 8,
    "start_time": "2022-11-04T15:11:54.591Z"
   },
   {
    "duration": 293,
    "start_time": "2022-11-04T15:11:54.601Z"
   },
   {
    "duration": 9,
    "start_time": "2022-11-04T15:11:54.895Z"
   },
   {
    "duration": 280,
    "start_time": "2022-11-04T15:11:54.906Z"
   },
   {
    "duration": 9,
    "start_time": "2022-11-04T15:11:55.188Z"
   },
   {
    "duration": 392,
    "start_time": "2022-11-04T15:11:55.199Z"
   },
   {
    "duration": 152,
    "start_time": "2022-11-04T15:11:55.593Z"
   },
   {
    "duration": 154,
    "start_time": "2022-11-04T15:11:55.747Z"
   },
   {
    "duration": 130,
    "start_time": "2022-11-04T15:11:55.902Z"
   },
   {
    "duration": 111,
    "start_time": "2022-11-04T15:11:56.034Z"
   },
   {
    "duration": 106,
    "start_time": "2022-11-04T15:11:56.146Z"
   },
   {
    "duration": 120,
    "start_time": "2022-11-04T15:11:56.254Z"
   },
   {
    "duration": 105,
    "start_time": "2022-11-04T15:11:56.376Z"
   },
   {
    "duration": 124,
    "start_time": "2022-11-04T15:11:56.482Z"
   },
   {
    "duration": 79,
    "start_time": "2022-11-04T15:11:56.607Z"
   },
   {
    "duration": 130,
    "start_time": "2022-11-04T15:11:56.688Z"
   },
   {
    "duration": 307,
    "start_time": "2022-11-04T15:11:56.819Z"
   },
   {
    "duration": 8,
    "start_time": "2022-11-04T15:11:57.127Z"
   },
   {
    "duration": 47,
    "start_time": "2022-11-04T15:11:57.137Z"
   },
   {
    "duration": 193,
    "start_time": "2022-11-04T15:11:57.185Z"
   },
   {
    "duration": 0,
    "start_time": "2022-11-04T15:11:57.379Z"
   },
   {
    "duration": 111,
    "start_time": "2022-11-04T15:12:49.034Z"
   },
   {
    "duration": 56347,
    "start_time": "2022-11-04T15:12:54.415Z"
   },
   {
    "duration": 0,
    "start_time": "2022-11-04T15:13:50.765Z"
   },
   {
    "duration": 1167,
    "start_time": "2022-11-04T15:13:57.676Z"
   },
   {
    "duration": 1914,
    "start_time": "2022-11-04T15:13:58.845Z"
   },
   {
    "duration": 9,
    "start_time": "2022-11-04T15:14:00.760Z"
   },
   {
    "duration": 14,
    "start_time": "2022-11-04T15:14:00.771Z"
   },
   {
    "duration": 16,
    "start_time": "2022-11-04T15:14:00.786Z"
   },
   {
    "duration": 8,
    "start_time": "2022-11-04T15:14:00.804Z"
   },
   {
    "duration": 17,
    "start_time": "2022-11-04T15:14:00.814Z"
   },
   {
    "duration": 12,
    "start_time": "2022-11-04T15:14:00.833Z"
   },
   {
    "duration": 17,
    "start_time": "2022-11-04T15:14:00.847Z"
   },
   {
    "duration": 14,
    "start_time": "2022-11-04T15:14:00.866Z"
   },
   {
    "duration": 13,
    "start_time": "2022-11-04T15:14:00.881Z"
   },
   {
    "duration": 10,
    "start_time": "2022-11-04T15:14:00.896Z"
   },
   {
    "duration": 21,
    "start_time": "2022-11-04T15:14:00.908Z"
   },
   {
    "duration": 33,
    "start_time": "2022-11-04T15:14:00.930Z"
   },
   {
    "duration": 14,
    "start_time": "2022-11-04T15:14:00.964Z"
   },
   {
    "duration": 7,
    "start_time": "2022-11-04T15:14:00.979Z"
   },
   {
    "duration": 13,
    "start_time": "2022-11-04T15:14:00.988Z"
   },
   {
    "duration": 10,
    "start_time": "2022-11-04T15:14:01.003Z"
   },
   {
    "duration": 20,
    "start_time": "2022-11-04T15:14:01.014Z"
   },
   {
    "duration": 12,
    "start_time": "2022-11-04T15:14:01.035Z"
   },
   {
    "duration": 11,
    "start_time": "2022-11-04T15:14:01.048Z"
   },
   {
    "duration": 43,
    "start_time": "2022-11-04T15:14:01.060Z"
   },
   {
    "duration": 24,
    "start_time": "2022-11-04T15:14:01.105Z"
   },
   {
    "duration": 26,
    "start_time": "2022-11-04T15:14:01.130Z"
   },
   {
    "duration": 7,
    "start_time": "2022-11-04T15:14:01.158Z"
   },
   {
    "duration": 36,
    "start_time": "2022-11-04T15:14:01.166Z"
   },
   {
    "duration": 19,
    "start_time": "2022-11-04T15:14:01.203Z"
   },
   {
    "duration": 19,
    "start_time": "2022-11-04T15:14:01.226Z"
   },
   {
    "duration": 18,
    "start_time": "2022-11-04T15:14:01.247Z"
   },
   {
    "duration": 17,
    "start_time": "2022-11-04T15:14:01.266Z"
   },
   {
    "duration": 45,
    "start_time": "2022-11-04T15:14:01.284Z"
   },
   {
    "duration": 30,
    "start_time": "2022-11-04T15:14:01.331Z"
   },
   {
    "duration": 57,
    "start_time": "2022-11-04T15:14:01.362Z"
   },
   {
    "duration": 37,
    "start_time": "2022-11-04T15:14:01.421Z"
   },
   {
    "duration": 45,
    "start_time": "2022-11-04T15:14:01.460Z"
   },
   {
    "duration": 68,
    "start_time": "2022-11-04T15:14:01.507Z"
   },
   {
    "duration": 32,
    "start_time": "2022-11-04T15:14:01.577Z"
   },
   {
    "duration": 46,
    "start_time": "2022-11-04T15:14:01.611Z"
   },
   {
    "duration": 11,
    "start_time": "2022-11-04T15:14:01.658Z"
   },
   {
    "duration": 45,
    "start_time": "2022-11-04T15:14:01.670Z"
   },
   {
    "duration": 26,
    "start_time": "2022-11-04T15:14:01.716Z"
   },
   {
    "duration": 41,
    "start_time": "2022-11-04T15:14:01.744Z"
   },
   {
    "duration": 15,
    "start_time": "2022-11-04T15:14:01.787Z"
   },
   {
    "duration": 31,
    "start_time": "2022-11-04T15:14:01.803Z"
   },
   {
    "duration": 18,
    "start_time": "2022-11-04T15:14:01.836Z"
   },
   {
    "duration": 7,
    "start_time": "2022-11-04T15:14:01.856Z"
   },
   {
    "duration": 11,
    "start_time": "2022-11-04T15:14:01.864Z"
   },
   {
    "duration": 103,
    "start_time": "2022-11-04T15:14:01.877Z"
   },
   {
    "duration": 3,
    "start_time": "2022-11-04T15:14:01.982Z"
   },
   {
    "duration": 121,
    "start_time": "2022-11-04T15:14:01.986Z"
   },
   {
    "duration": 4,
    "start_time": "2022-11-04T15:14:02.108Z"
   },
   {
    "duration": 19,
    "start_time": "2022-11-04T15:14:02.114Z"
   },
   {
    "duration": 354,
    "start_time": "2022-11-04T15:14:02.134Z"
   },
   {
    "duration": 8,
    "start_time": "2022-11-04T15:14:02.490Z"
   },
   {
    "duration": 276,
    "start_time": "2022-11-04T15:14:02.499Z"
   },
   {
    "duration": 8,
    "start_time": "2022-11-04T15:14:02.777Z"
   },
   {
    "duration": 284,
    "start_time": "2022-11-04T15:14:02.787Z"
   },
   {
    "duration": 18,
    "start_time": "2022-11-04T15:14:03.073Z"
   },
   {
    "duration": 420,
    "start_time": "2022-11-04T15:14:03.093Z"
   },
   {
    "duration": 125,
    "start_time": "2022-11-04T15:14:03.515Z"
   },
   {
    "duration": 135,
    "start_time": "2022-11-04T15:14:03.641Z"
   },
   {
    "duration": 138,
    "start_time": "2022-11-04T15:14:03.777Z"
   },
   {
    "duration": 119,
    "start_time": "2022-11-04T15:14:03.917Z"
   },
   {
    "duration": 119,
    "start_time": "2022-11-04T15:14:04.037Z"
   },
   {
    "duration": 123,
    "start_time": "2022-11-04T15:14:04.157Z"
   },
   {
    "duration": 105,
    "start_time": "2022-11-04T15:14:04.281Z"
   },
   {
    "duration": 136,
    "start_time": "2022-11-04T15:14:04.388Z"
   },
   {
    "duration": 78,
    "start_time": "2022-11-04T15:14:04.525Z"
   },
   {
    "duration": 126,
    "start_time": "2022-11-04T15:14:04.604Z"
   },
   {
    "duration": 302,
    "start_time": "2022-11-04T15:14:04.732Z"
   },
   {
    "duration": 8,
    "start_time": "2022-11-04T15:14:05.035Z"
   },
   {
    "duration": 72,
    "start_time": "2022-11-04T15:14:05.045Z"
   },
   {
    "duration": 172,
    "start_time": "2022-11-04T15:14:05.119Z"
   },
   {
    "duration": 0,
    "start_time": "2022-11-04T15:14:05.293Z"
   },
   {
    "duration": 0,
    "start_time": "2022-11-04T15:14:05.294Z"
   },
   {
    "duration": 3534,
    "start_time": "2022-11-04T15:17:29.755Z"
   },
   {
    "duration": 3621,
    "start_time": "2022-11-04T15:17:43.219Z"
   },
   {
    "duration": 717,
    "start_time": "2022-11-04T15:18:04.426Z"
   },
   {
    "duration": 818,
    "start_time": "2022-11-04T15:18:10.380Z"
   },
   {
    "duration": 769,
    "start_time": "2022-11-04T15:18:28.905Z"
   },
   {
    "duration": 708,
    "start_time": "2022-11-04T15:18:37.943Z"
   },
   {
    "duration": 709,
    "start_time": "2022-11-04T15:18:43.676Z"
   },
   {
    "duration": 838,
    "start_time": "2022-11-04T15:23:57.805Z"
   },
   {
    "duration": 16,
    "start_time": "2022-11-04T15:30:53.518Z"
   },
   {
    "duration": 16,
    "start_time": "2022-11-04T15:31:09.199Z"
   },
   {
    "duration": 8,
    "start_time": "2022-11-04T15:31:41.375Z"
   },
   {
    "duration": 31,
    "start_time": "2022-11-04T15:32:09.884Z"
   },
   {
    "duration": 16,
    "start_time": "2022-11-04T15:32:48.086Z"
   },
   {
    "duration": 15,
    "start_time": "2022-11-04T15:33:01.725Z"
   },
   {
    "duration": 14,
    "start_time": "2022-11-04T15:34:24.179Z"
   },
   {
    "duration": 14,
    "start_time": "2022-11-04T15:34:28.293Z"
   },
   {
    "duration": 14,
    "start_time": "2022-11-04T15:34:59.506Z"
   },
   {
    "duration": 15,
    "start_time": "2022-11-04T15:35:07.202Z"
   },
   {
    "duration": 57,
    "start_time": "2022-11-04T15:35:11.382Z"
   },
   {
    "duration": 48,
    "start_time": "2022-11-04T15:35:17.384Z"
   },
   {
    "duration": 16,
    "start_time": "2022-11-04T15:35:24.938Z"
   },
   {
    "duration": 14,
    "start_time": "2022-11-04T15:35:47.980Z"
   },
   {
    "duration": 25,
    "start_time": "2022-11-04T15:37:16.016Z"
   },
   {
    "duration": 20,
    "start_time": "2022-11-04T15:37:33.234Z"
   },
   {
    "duration": 20,
    "start_time": "2022-11-04T15:37:53.288Z"
   },
   {
    "duration": 10,
    "start_time": "2022-11-04T15:38:16.122Z"
   },
   {
    "duration": 46,
    "start_time": "2022-11-04T15:38:24.989Z"
   },
   {
    "duration": 44,
    "start_time": "2022-11-04T15:38:31.342Z"
   },
   {
    "duration": 43,
    "start_time": "2022-11-04T15:38:41.735Z"
   },
   {
    "duration": 46,
    "start_time": "2022-11-04T15:39:00.483Z"
   },
   {
    "duration": 1241,
    "start_time": "2022-11-04T15:39:08.992Z"
   },
   {
    "duration": 1798,
    "start_time": "2022-11-04T15:39:10.235Z"
   },
   {
    "duration": 9,
    "start_time": "2022-11-04T15:39:12.034Z"
   },
   {
    "duration": 11,
    "start_time": "2022-11-04T15:39:12.045Z"
   },
   {
    "duration": 11,
    "start_time": "2022-11-04T15:39:12.058Z"
   },
   {
    "duration": 6,
    "start_time": "2022-11-04T15:39:12.070Z"
   },
   {
    "duration": 10,
    "start_time": "2022-11-04T15:39:12.077Z"
   },
   {
    "duration": 6,
    "start_time": "2022-11-04T15:39:12.088Z"
   },
   {
    "duration": 10,
    "start_time": "2022-11-04T15:39:12.095Z"
   },
   {
    "duration": 14,
    "start_time": "2022-11-04T15:39:12.108Z"
   },
   {
    "duration": 16,
    "start_time": "2022-11-04T15:39:12.123Z"
   },
   {
    "duration": 7,
    "start_time": "2022-11-04T15:39:12.140Z"
   },
   {
    "duration": 6,
    "start_time": "2022-11-04T15:39:12.148Z"
   },
   {
    "duration": 7,
    "start_time": "2022-11-04T15:39:12.155Z"
   },
   {
    "duration": 10,
    "start_time": "2022-11-04T15:39:12.163Z"
   },
   {
    "duration": 5,
    "start_time": "2022-11-04T15:39:12.175Z"
   },
   {
    "duration": 21,
    "start_time": "2022-11-04T15:39:12.181Z"
   },
   {
    "duration": 20,
    "start_time": "2022-11-04T15:39:12.204Z"
   },
   {
    "duration": 8,
    "start_time": "2022-11-04T15:39:12.226Z"
   },
   {
    "duration": 13,
    "start_time": "2022-11-04T15:39:12.235Z"
   },
   {
    "duration": 8,
    "start_time": "2022-11-04T15:39:12.249Z"
   },
   {
    "duration": 21,
    "start_time": "2022-11-04T15:39:12.258Z"
   },
   {
    "duration": 14,
    "start_time": "2022-11-04T15:39:12.280Z"
   },
   {
    "duration": 32,
    "start_time": "2022-11-04T15:39:12.296Z"
   },
   {
    "duration": 4,
    "start_time": "2022-11-04T15:39:12.329Z"
   },
   {
    "duration": 11,
    "start_time": "2022-11-04T15:39:12.334Z"
   },
   {
    "duration": 3,
    "start_time": "2022-11-04T15:39:12.346Z"
   },
   {
    "duration": 4,
    "start_time": "2022-11-04T15:39:12.353Z"
   },
   {
    "duration": 10,
    "start_time": "2022-11-04T15:39:12.358Z"
   },
   {
    "duration": 4,
    "start_time": "2022-11-04T15:39:12.370Z"
   },
   {
    "duration": 4,
    "start_time": "2022-11-04T15:39:12.375Z"
   },
   {
    "duration": 42,
    "start_time": "2022-11-04T15:39:12.380Z"
   },
   {
    "duration": 3,
    "start_time": "2022-11-04T15:39:12.424Z"
   },
   {
    "duration": 10,
    "start_time": "2022-11-04T15:39:12.429Z"
   },
   {
    "duration": 4,
    "start_time": "2022-11-04T15:39:12.441Z"
   },
   {
    "duration": 10,
    "start_time": "2022-11-04T15:39:12.446Z"
   },
   {
    "duration": 13,
    "start_time": "2022-11-04T15:39:12.457Z"
   },
   {
    "duration": 22,
    "start_time": "2022-11-04T15:39:12.472Z"
   },
   {
    "duration": 28,
    "start_time": "2022-11-04T15:39:12.495Z"
   },
   {
    "duration": 19,
    "start_time": "2022-11-04T15:39:12.525Z"
   },
   {
    "duration": 14,
    "start_time": "2022-11-04T15:39:12.545Z"
   },
   {
    "duration": 8,
    "start_time": "2022-11-04T15:39:12.561Z"
   },
   {
    "duration": 12,
    "start_time": "2022-11-04T15:39:12.570Z"
   },
   {
    "duration": 13,
    "start_time": "2022-11-04T15:39:12.583Z"
   },
   {
    "duration": 6,
    "start_time": "2022-11-04T15:39:12.598Z"
   },
   {
    "duration": 3,
    "start_time": "2022-11-04T15:39:12.605Z"
   },
   {
    "duration": 103,
    "start_time": "2022-11-04T15:39:12.621Z"
   },
   {
    "duration": 3,
    "start_time": "2022-11-04T15:39:12.725Z"
   },
   {
    "duration": 102,
    "start_time": "2022-11-04T15:39:12.729Z"
   },
   {
    "duration": 4,
    "start_time": "2022-11-04T15:39:12.833Z"
   },
   {
    "duration": 11,
    "start_time": "2022-11-04T15:39:12.838Z"
   },
   {
    "duration": 355,
    "start_time": "2022-11-04T15:39:12.851Z"
   },
   {
    "duration": 15,
    "start_time": "2022-11-04T15:39:13.208Z"
   },
   {
    "duration": 253,
    "start_time": "2022-11-04T15:39:13.224Z"
   },
   {
    "duration": 8,
    "start_time": "2022-11-04T15:39:13.478Z"
   },
   {
    "duration": 275,
    "start_time": "2022-11-04T15:39:13.488Z"
   },
   {
    "duration": 8,
    "start_time": "2022-11-04T15:39:13.765Z"
   },
   {
    "duration": 416,
    "start_time": "2022-11-04T15:39:13.774Z"
   },
   {
    "duration": 123,
    "start_time": "2022-11-04T15:39:14.192Z"
   },
   {
    "duration": 134,
    "start_time": "2022-11-04T15:39:14.317Z"
   },
   {
    "duration": 137,
    "start_time": "2022-11-04T15:39:14.452Z"
   },
   {
    "duration": 115,
    "start_time": "2022-11-04T15:39:14.590Z"
   },
   {
    "duration": 117,
    "start_time": "2022-11-04T15:39:14.707Z"
   },
   {
    "duration": 117,
    "start_time": "2022-11-04T15:39:14.826Z"
   },
   {
    "duration": 103,
    "start_time": "2022-11-04T15:39:14.944Z"
   },
   {
    "duration": 142,
    "start_time": "2022-11-04T15:39:15.048Z"
   },
   {
    "duration": 87,
    "start_time": "2022-11-04T15:39:15.192Z"
   },
   {
    "duration": 129,
    "start_time": "2022-11-04T15:39:15.281Z"
   },
   {
    "duration": 329,
    "start_time": "2022-11-04T15:39:15.412Z"
   },
   {
    "duration": 7,
    "start_time": "2022-11-04T15:39:15.743Z"
   },
   {
    "duration": 48,
    "start_time": "2022-11-04T15:39:15.752Z"
   },
   {
    "duration": 850,
    "start_time": "2022-11-04T15:39:15.801Z"
   },
   {
    "duration": 44,
    "start_time": "2022-11-04T15:39:16.653Z"
   },
   {
    "duration": 19,
    "start_time": "2022-11-04T15:39:27.653Z"
   },
   {
    "duration": 42,
    "start_time": "2022-11-04T15:40:52.122Z"
   },
   {
    "duration": 1192,
    "start_time": "2022-11-04T16:01:36.331Z"
   },
   {
    "duration": 1869,
    "start_time": "2022-11-04T16:01:37.525Z"
   },
   {
    "duration": 8,
    "start_time": "2022-11-04T16:01:39.396Z"
   },
   {
    "duration": 13,
    "start_time": "2022-11-04T16:01:39.406Z"
   },
   {
    "duration": 16,
    "start_time": "2022-11-04T16:01:39.420Z"
   },
   {
    "duration": 8,
    "start_time": "2022-11-04T16:01:39.438Z"
   },
   {
    "duration": 8,
    "start_time": "2022-11-04T16:01:39.448Z"
   },
   {
    "duration": 4,
    "start_time": "2022-11-04T16:01:39.457Z"
   },
   {
    "duration": 11,
    "start_time": "2022-11-04T16:01:39.462Z"
   },
   {
    "duration": 4,
    "start_time": "2022-11-04T16:01:39.475Z"
   },
   {
    "duration": 16,
    "start_time": "2022-11-04T16:01:39.480Z"
   },
   {
    "duration": 13,
    "start_time": "2022-11-04T16:01:39.498Z"
   },
   {
    "duration": 11,
    "start_time": "2022-11-04T16:01:39.512Z"
   },
   {
    "duration": 9,
    "start_time": "2022-11-04T16:01:39.525Z"
   },
   {
    "duration": 18,
    "start_time": "2022-11-04T16:01:39.535Z"
   },
   {
    "duration": 7,
    "start_time": "2022-11-04T16:01:39.554Z"
   },
   {
    "duration": 12,
    "start_time": "2022-11-04T16:01:39.562Z"
   },
   {
    "duration": 4,
    "start_time": "2022-11-04T16:01:39.575Z"
   },
   {
    "duration": 6,
    "start_time": "2022-11-04T16:01:39.580Z"
   },
   {
    "duration": 15,
    "start_time": "2022-11-04T16:01:39.588Z"
   },
   {
    "duration": 24,
    "start_time": "2022-11-04T16:01:39.605Z"
   },
   {
    "duration": 30,
    "start_time": "2022-11-04T16:01:39.631Z"
   },
   {
    "duration": 14,
    "start_time": "2022-11-04T16:01:39.663Z"
   },
   {
    "duration": 9,
    "start_time": "2022-11-04T16:01:39.679Z"
   },
   {
    "duration": 4,
    "start_time": "2022-11-04T16:01:39.689Z"
   },
   {
    "duration": 10,
    "start_time": "2022-11-04T16:01:39.694Z"
   },
   {
    "duration": 4,
    "start_time": "2022-11-04T16:01:39.723Z"
   },
   {
    "duration": 4,
    "start_time": "2022-11-04T16:01:39.732Z"
   },
   {
    "duration": 12,
    "start_time": "2022-11-04T16:01:39.737Z"
   },
   {
    "duration": 4,
    "start_time": "2022-11-04T16:01:39.751Z"
   },
   {
    "duration": 5,
    "start_time": "2022-11-04T16:01:39.756Z"
   },
   {
    "duration": 17,
    "start_time": "2022-11-04T16:01:39.763Z"
   },
   {
    "duration": 8,
    "start_time": "2022-11-04T16:01:39.782Z"
   },
   {
    "duration": 31,
    "start_time": "2022-11-04T16:01:39.791Z"
   },
   {
    "duration": 4,
    "start_time": "2022-11-04T16:01:39.824Z"
   },
   {
    "duration": 9,
    "start_time": "2022-11-04T16:01:39.830Z"
   },
   {
    "duration": 12,
    "start_time": "2022-11-04T16:01:39.840Z"
   },
   {
    "duration": 21,
    "start_time": "2022-11-04T16:01:39.853Z"
   },
   {
    "duration": 7,
    "start_time": "2022-11-04T16:01:39.876Z"
   },
   {
    "duration": 47,
    "start_time": "2022-11-04T16:01:39.884Z"
   },
   {
    "duration": 17,
    "start_time": "2022-11-04T16:01:39.933Z"
   },
   {
    "duration": 24,
    "start_time": "2022-11-04T16:01:39.951Z"
   },
   {
    "duration": 12,
    "start_time": "2022-11-04T16:01:39.977Z"
   },
   {
    "duration": 9,
    "start_time": "2022-11-04T16:01:39.991Z"
   },
   {
    "duration": 6,
    "start_time": "2022-11-04T16:01:40.001Z"
   },
   {
    "duration": 19,
    "start_time": "2022-11-04T16:01:40.008Z"
   },
   {
    "duration": 107,
    "start_time": "2022-11-04T16:01:40.028Z"
   },
   {
    "duration": 3,
    "start_time": "2022-11-04T16:01:40.136Z"
   },
   {
    "duration": 104,
    "start_time": "2022-11-04T16:01:40.140Z"
   },
   {
    "duration": 3,
    "start_time": "2022-11-04T16:01:40.246Z"
   },
   {
    "duration": 9,
    "start_time": "2022-11-04T16:01:40.251Z"
   },
   {
    "duration": 328,
    "start_time": "2022-11-04T16:01:40.262Z"
   },
   {
    "duration": 8,
    "start_time": "2022-11-04T16:01:40.591Z"
   },
   {
    "duration": 253,
    "start_time": "2022-11-04T16:01:40.600Z"
   },
   {
    "duration": 8,
    "start_time": "2022-11-04T16:01:40.854Z"
   },
   {
    "duration": 267,
    "start_time": "2022-11-04T16:01:40.863Z"
   },
   {
    "duration": 7,
    "start_time": "2022-11-04T16:01:41.132Z"
   },
   {
    "duration": 372,
    "start_time": "2022-11-04T16:01:41.140Z"
   },
   {
    "duration": 141,
    "start_time": "2022-11-04T16:01:41.514Z"
   },
   {
    "duration": 143,
    "start_time": "2022-11-04T16:01:41.656Z"
   },
   {
    "duration": 124,
    "start_time": "2022-11-04T16:01:41.801Z"
   },
   {
    "duration": 108,
    "start_time": "2022-11-04T16:01:41.927Z"
   },
   {
    "duration": 110,
    "start_time": "2022-11-04T16:01:42.037Z"
   },
   {
    "duration": 122,
    "start_time": "2022-11-04T16:01:42.148Z"
   },
   {
    "duration": 102,
    "start_time": "2022-11-04T16:01:42.272Z"
   },
   {
    "duration": 131,
    "start_time": "2022-11-04T16:01:42.376Z"
   },
   {
    "duration": 82,
    "start_time": "2022-11-04T16:01:42.509Z"
   },
   {
    "duration": 124,
    "start_time": "2022-11-04T16:01:42.593Z"
   },
   {
    "duration": 294,
    "start_time": "2022-11-04T16:01:42.722Z"
   },
   {
    "duration": 10,
    "start_time": "2022-11-04T16:01:43.017Z"
   },
   {
    "duration": 52,
    "start_time": "2022-11-04T16:01:43.029Z"
   },
   {
    "duration": 832,
    "start_time": "2022-11-04T16:01:43.082Z"
   },
   {
    "duration": 48,
    "start_time": "2022-11-04T16:01:43.915Z"
   },
   {
    "duration": 52,
    "start_time": "2022-11-04T16:02:05.135Z"
   },
   {
    "duration": 40,
    "start_time": "2022-11-04T16:02:13.269Z"
   },
   {
    "duration": 43,
    "start_time": "2022-11-04T16:02:21.035Z"
   },
   {
    "duration": 26,
    "start_time": "2022-11-04T16:02:28.956Z"
   },
   {
    "duration": 40,
    "start_time": "2022-11-04T16:02:48.029Z"
   },
   {
    "duration": 53,
    "start_time": "2022-11-04T16:03:06.502Z"
   },
   {
    "duration": 45,
    "start_time": "2022-11-04T16:03:09.587Z"
   },
   {
    "duration": 46,
    "start_time": "2022-11-04T16:03:12.573Z"
   },
   {
    "duration": 50,
    "start_time": "2022-11-04T16:03:19.353Z"
   },
   {
    "duration": 16,
    "start_time": "2022-11-04T16:03:53.190Z"
   },
   {
    "duration": 46,
    "start_time": "2022-11-04T16:04:16.422Z"
   },
   {
    "duration": 39,
    "start_time": "2022-11-04T16:04:36.252Z"
   },
   {
    "duration": 19,
    "start_time": "2022-11-04T16:04:49.771Z"
   },
   {
    "duration": 16,
    "start_time": "2022-11-04T16:05:05.096Z"
   },
   {
    "duration": 19,
    "start_time": "2022-11-04T16:05:11.981Z"
   },
   {
    "duration": 19,
    "start_time": "2022-11-04T16:05:26.042Z"
   },
   {
    "duration": 19,
    "start_time": "2022-11-04T16:05:32.023Z"
   },
   {
    "duration": 38,
    "start_time": "2022-11-04T16:06:01.149Z"
   },
   {
    "duration": 57,
    "start_time": "2022-11-04T16:06:10.541Z"
   },
   {
    "duration": 86,
    "start_time": "2022-11-04T16:06:15.488Z"
   },
   {
    "duration": 19,
    "start_time": "2022-11-04T16:06:25.525Z"
   },
   {
    "duration": 24,
    "start_time": "2022-11-04T16:06:38.894Z"
   },
   {
    "duration": 19,
    "start_time": "2022-11-04T16:06:53.349Z"
   },
   {
    "duration": 20,
    "start_time": "2022-11-04T16:07:38.336Z"
   },
   {
    "duration": 16,
    "start_time": "2022-11-04T16:07:49.537Z"
   },
   {
    "duration": 20,
    "start_time": "2022-11-04T16:07:56.122Z"
   },
   {
    "duration": 15,
    "start_time": "2022-11-04T16:09:58.748Z"
   },
   {
    "duration": 7,
    "start_time": "2022-11-04T16:10:10.382Z"
   },
   {
    "duration": 7,
    "start_time": "2022-11-04T16:10:12.428Z"
   },
   {
    "duration": 16,
    "start_time": "2022-11-04T16:10:52.796Z"
   },
   {
    "duration": 20,
    "start_time": "2022-11-04T16:10:59.800Z"
   },
   {
    "duration": 8,
    "start_time": "2022-11-04T16:13:00.574Z"
   },
   {
    "duration": 7,
    "start_time": "2022-11-04T16:13:12.953Z"
   },
   {
    "duration": 7,
    "start_time": "2022-11-04T16:13:27.382Z"
   },
   {
    "duration": 6,
    "start_time": "2022-11-04T16:13:36.306Z"
   },
   {
    "duration": 89,
    "start_time": "2022-11-04T16:14:03.669Z"
   },
   {
    "duration": 7,
    "start_time": "2022-11-04T16:14:09.829Z"
   },
   {
    "duration": 39,
    "start_time": "2022-11-04T16:16:30.473Z"
   },
   {
    "duration": 120,
    "start_time": "2022-11-04T16:17:54.558Z"
   },
   {
    "duration": 34,
    "start_time": "2022-11-04T16:18:03.745Z"
   },
   {
    "duration": 1278,
    "start_time": "2022-11-04T16:18:18.647Z"
   },
   {
    "duration": 1801,
    "start_time": "2022-11-04T16:18:19.927Z"
   },
   {
    "duration": 9,
    "start_time": "2022-11-04T16:18:21.730Z"
   },
   {
    "duration": 8,
    "start_time": "2022-11-04T16:18:21.740Z"
   },
   {
    "duration": 9,
    "start_time": "2022-11-04T16:18:21.749Z"
   },
   {
    "duration": 6,
    "start_time": "2022-11-04T16:18:21.759Z"
   },
   {
    "duration": 9,
    "start_time": "2022-11-04T16:18:21.766Z"
   },
   {
    "duration": 5,
    "start_time": "2022-11-04T16:18:21.776Z"
   },
   {
    "duration": 9,
    "start_time": "2022-11-04T16:18:21.782Z"
   },
   {
    "duration": 28,
    "start_time": "2022-11-04T16:18:21.794Z"
   },
   {
    "duration": 34,
    "start_time": "2022-11-04T16:18:21.824Z"
   },
   {
    "duration": 17,
    "start_time": "2022-11-04T16:18:21.859Z"
   },
   {
    "duration": 35,
    "start_time": "2022-11-04T16:18:21.877Z"
   },
   {
    "duration": 21,
    "start_time": "2022-11-04T16:18:21.913Z"
   },
   {
    "duration": 21,
    "start_time": "2022-11-04T16:18:21.935Z"
   },
   {
    "duration": 13,
    "start_time": "2022-11-04T16:18:21.958Z"
   },
   {
    "duration": 22,
    "start_time": "2022-11-04T16:18:21.972Z"
   },
   {
    "duration": 13,
    "start_time": "2022-11-04T16:18:21.995Z"
   },
   {
    "duration": 13,
    "start_time": "2022-11-04T16:18:22.009Z"
   },
   {
    "duration": 22,
    "start_time": "2022-11-04T16:18:22.023Z"
   },
   {
    "duration": 17,
    "start_time": "2022-11-04T16:18:22.046Z"
   },
   {
    "duration": 30,
    "start_time": "2022-11-04T16:18:22.064Z"
   },
   {
    "duration": 32,
    "start_time": "2022-11-04T16:18:22.097Z"
   },
   {
    "duration": 18,
    "start_time": "2022-11-04T16:18:22.131Z"
   },
   {
    "duration": 25,
    "start_time": "2022-11-04T16:18:22.151Z"
   },
   {
    "duration": 50,
    "start_time": "2022-11-04T16:18:22.177Z"
   },
   {
    "duration": 16,
    "start_time": "2022-11-04T16:18:22.229Z"
   },
   {
    "duration": 3,
    "start_time": "2022-11-04T16:18:22.250Z"
   },
   {
    "duration": 10,
    "start_time": "2022-11-04T16:18:22.255Z"
   },
   {
    "duration": 4,
    "start_time": "2022-11-04T16:18:22.266Z"
   },
   {
    "duration": 6,
    "start_time": "2022-11-04T16:18:22.271Z"
   },
   {
    "duration": 14,
    "start_time": "2022-11-04T16:18:22.278Z"
   },
   {
    "duration": 4,
    "start_time": "2022-11-04T16:18:22.294Z"
   },
   {
    "duration": 24,
    "start_time": "2022-11-04T16:18:22.300Z"
   },
   {
    "duration": 4,
    "start_time": "2022-11-04T16:18:22.325Z"
   },
   {
    "duration": 11,
    "start_time": "2022-11-04T16:18:22.331Z"
   },
   {
    "duration": 13,
    "start_time": "2022-11-04T16:18:22.343Z"
   },
   {
    "duration": 29,
    "start_time": "2022-11-04T16:18:22.359Z"
   },
   {
    "duration": 8,
    "start_time": "2022-11-04T16:18:22.390Z"
   },
   {
    "duration": 17,
    "start_time": "2022-11-04T16:18:22.422Z"
   },
   {
    "duration": 14,
    "start_time": "2022-11-04T16:18:22.441Z"
   },
   {
    "duration": 7,
    "start_time": "2022-11-04T16:18:22.456Z"
   },
   {
    "duration": 7,
    "start_time": "2022-11-04T16:18:22.464Z"
   },
   {
    "duration": 5,
    "start_time": "2022-11-04T16:18:22.472Z"
   },
   {
    "duration": 8,
    "start_time": "2022-11-04T16:18:22.479Z"
   },
   {
    "duration": 6,
    "start_time": "2022-11-04T16:18:22.489Z"
   },
   {
    "duration": 113,
    "start_time": "2022-11-04T16:18:22.497Z"
   },
   {
    "duration": 3,
    "start_time": "2022-11-04T16:18:22.611Z"
   },
   {
    "duration": 159,
    "start_time": "2022-11-04T16:18:22.615Z"
   },
   {
    "duration": 4,
    "start_time": "2022-11-04T16:18:22.776Z"
   },
   {
    "duration": 43,
    "start_time": "2022-11-04T16:18:22.781Z"
   },
   {
    "duration": 387,
    "start_time": "2022-11-04T16:18:22.826Z"
   },
   {
    "duration": 10,
    "start_time": "2022-11-04T16:18:23.214Z"
   },
   {
    "duration": 290,
    "start_time": "2022-11-04T16:18:23.226Z"
   },
   {
    "duration": 10,
    "start_time": "2022-11-04T16:18:23.518Z"
   },
   {
    "duration": 282,
    "start_time": "2022-11-04T16:18:23.530Z"
   },
   {
    "duration": 9,
    "start_time": "2022-11-04T16:18:23.814Z"
   },
   {
    "duration": 426,
    "start_time": "2022-11-04T16:18:23.824Z"
   },
   {
    "duration": 134,
    "start_time": "2022-11-04T16:18:24.252Z"
   },
   {
    "duration": 143,
    "start_time": "2022-11-04T16:18:24.388Z"
   },
   {
    "duration": 137,
    "start_time": "2022-11-04T16:18:24.533Z"
   },
   {
    "duration": 121,
    "start_time": "2022-11-04T16:18:24.672Z"
   },
   {
    "duration": 116,
    "start_time": "2022-11-04T16:18:24.795Z"
   },
   {
    "duration": 128,
    "start_time": "2022-11-04T16:18:24.913Z"
   },
   {
    "duration": 123,
    "start_time": "2022-11-04T16:18:25.043Z"
   },
   {
    "duration": 138,
    "start_time": "2022-11-04T16:18:25.167Z"
   },
   {
    "duration": 84,
    "start_time": "2022-11-04T16:18:25.306Z"
   },
   {
    "duration": 127,
    "start_time": "2022-11-04T16:18:25.391Z"
   },
   {
    "duration": 331,
    "start_time": "2022-11-04T16:18:25.521Z"
   },
   {
    "duration": 8,
    "start_time": "2022-11-04T16:18:25.854Z"
   },
   {
    "duration": 59,
    "start_time": "2022-11-04T16:18:25.864Z"
   },
   {
    "duration": 838,
    "start_time": "2022-11-04T16:18:25.924Z"
   },
   {
    "duration": 20,
    "start_time": "2022-11-04T16:18:26.763Z"
   },
   {
    "duration": 7,
    "start_time": "2022-11-04T16:18:26.784Z"
   },
   {
    "duration": 9,
    "start_time": "2022-11-04T16:18:26.792Z"
   },
   {
    "duration": 62,
    "start_time": "2022-11-04T16:18:26.803Z"
   },
   {
    "duration": 10,
    "start_time": "2022-11-04T16:20:08.076Z"
   },
   {
    "duration": 9,
    "start_time": "2022-11-04T16:20:49.288Z"
   },
   {
    "duration": 11,
    "start_time": "2022-11-04T16:24:22.664Z"
   },
   {
    "duration": 9,
    "start_time": "2022-11-04T16:24:37.971Z"
   },
   {
    "duration": 23,
    "start_time": "2022-11-04T16:26:56.180Z"
   },
   {
    "duration": 9,
    "start_time": "2022-11-04T16:27:25.268Z"
   },
   {
    "duration": 10,
    "start_time": "2022-11-04T16:27:33.674Z"
   },
   {
    "duration": 13,
    "start_time": "2022-11-04T16:27:57.923Z"
   },
   {
    "duration": 11,
    "start_time": "2022-11-04T16:28:03.446Z"
   },
   {
    "duration": 19,
    "start_time": "2022-11-04T16:28:05.055Z"
   },
   {
    "duration": 15,
    "start_time": "2022-11-04T16:28:54.271Z"
   },
   {
    "duration": 1166,
    "start_time": "2022-11-04T16:29:16.174Z"
   },
   {
    "duration": 1878,
    "start_time": "2022-11-04T16:29:17.342Z"
   },
   {
    "duration": 9,
    "start_time": "2022-11-04T16:29:19.222Z"
   },
   {
    "duration": 7,
    "start_time": "2022-11-04T16:29:19.232Z"
   },
   {
    "duration": 8,
    "start_time": "2022-11-04T16:29:19.241Z"
   },
   {
    "duration": 6,
    "start_time": "2022-11-04T16:29:19.250Z"
   },
   {
    "duration": 8,
    "start_time": "2022-11-04T16:29:19.257Z"
   },
   {
    "duration": 4,
    "start_time": "2022-11-04T16:29:19.266Z"
   },
   {
    "duration": 8,
    "start_time": "2022-11-04T16:29:19.271Z"
   },
   {
    "duration": 4,
    "start_time": "2022-11-04T16:29:19.281Z"
   },
   {
    "duration": 8,
    "start_time": "2022-11-04T16:29:19.322Z"
   },
   {
    "duration": 6,
    "start_time": "2022-11-04T16:29:19.331Z"
   },
   {
    "duration": 6,
    "start_time": "2022-11-04T16:29:19.338Z"
   },
   {
    "duration": 7,
    "start_time": "2022-11-04T16:29:19.345Z"
   },
   {
    "duration": 9,
    "start_time": "2022-11-04T16:29:19.353Z"
   },
   {
    "duration": 5,
    "start_time": "2022-11-04T16:29:19.363Z"
   },
   {
    "duration": 9,
    "start_time": "2022-11-04T16:29:19.369Z"
   },
   {
    "duration": 4,
    "start_time": "2022-11-04T16:29:19.380Z"
   },
   {
    "duration": 4,
    "start_time": "2022-11-04T16:29:19.423Z"
   },
   {
    "duration": 14,
    "start_time": "2022-11-04T16:29:19.428Z"
   },
   {
    "duration": 8,
    "start_time": "2022-11-04T16:29:19.443Z"
   },
   {
    "duration": 19,
    "start_time": "2022-11-04T16:29:19.452Z"
   },
   {
    "duration": 15,
    "start_time": "2022-11-04T16:29:19.472Z"
   },
   {
    "duration": 37,
    "start_time": "2022-11-04T16:29:19.488Z"
   },
   {
    "duration": 4,
    "start_time": "2022-11-04T16:29:19.527Z"
   },
   {
    "duration": 10,
    "start_time": "2022-11-04T16:29:19.532Z"
   },
   {
    "duration": 3,
    "start_time": "2022-11-04T16:29:19.544Z"
   },
   {
    "duration": 3,
    "start_time": "2022-11-04T16:29:19.552Z"
   },
   {
    "duration": 11,
    "start_time": "2022-11-04T16:29:19.556Z"
   },
   {
    "duration": 4,
    "start_time": "2022-11-04T16:29:19.568Z"
   },
   {
    "duration": 4,
    "start_time": "2022-11-04T16:29:19.573Z"
   },
   {
    "duration": 10,
    "start_time": "2022-11-04T16:29:19.578Z"
   },
   {
    "duration": 4,
    "start_time": "2022-11-04T16:29:19.622Z"
   },
   {
    "duration": 11,
    "start_time": "2022-11-04T16:29:19.627Z"
   },
   {
    "duration": 3,
    "start_time": "2022-11-04T16:29:19.640Z"
   },
   {
    "duration": 10,
    "start_time": "2022-11-04T16:29:19.644Z"
   },
   {
    "duration": 12,
    "start_time": "2022-11-04T16:29:19.655Z"
   },
   {
    "duration": 19,
    "start_time": "2022-11-04T16:29:19.669Z"
   },
   {
    "duration": 35,
    "start_time": "2022-11-04T16:29:19.689Z"
   },
   {
    "duration": 19,
    "start_time": "2022-11-04T16:29:19.726Z"
   },
   {
    "duration": 14,
    "start_time": "2022-11-04T16:29:19.746Z"
   },
   {
    "duration": 7,
    "start_time": "2022-11-04T16:29:19.761Z"
   },
   {
    "duration": 8,
    "start_time": "2022-11-04T16:29:19.770Z"
   },
   {
    "duration": 8,
    "start_time": "2022-11-04T16:29:19.779Z"
   },
   {
    "duration": 6,
    "start_time": "2022-11-04T16:29:19.789Z"
   },
   {
    "duration": 26,
    "start_time": "2022-11-04T16:29:19.796Z"
   },
   {
    "duration": 98,
    "start_time": "2022-11-04T16:29:19.824Z"
   },
   {
    "duration": 3,
    "start_time": "2022-11-04T16:29:19.924Z"
   },
   {
    "duration": 105,
    "start_time": "2022-11-04T16:29:19.928Z"
   },
   {
    "duration": 4,
    "start_time": "2022-11-04T16:29:20.035Z"
   },
   {
    "duration": 10,
    "start_time": "2022-11-04T16:29:20.040Z"
   },
   {
    "duration": 337,
    "start_time": "2022-11-04T16:29:20.051Z"
   },
   {
    "duration": 8,
    "start_time": "2022-11-04T16:29:20.390Z"
   },
   {
    "duration": 268,
    "start_time": "2022-11-04T16:29:20.399Z"
   },
   {
    "duration": 8,
    "start_time": "2022-11-04T16:29:20.669Z"
   },
   {
    "duration": 275,
    "start_time": "2022-11-04T16:29:20.678Z"
   },
   {
    "duration": 9,
    "start_time": "2022-11-04T16:29:20.954Z"
   },
   {
    "duration": 433,
    "start_time": "2022-11-04T16:29:20.964Z"
   },
   {
    "duration": 126,
    "start_time": "2022-11-04T16:29:21.398Z"
   },
   {
    "duration": 136,
    "start_time": "2022-11-04T16:29:21.526Z"
   },
   {
    "duration": 136,
    "start_time": "2022-11-04T16:29:21.664Z"
   },
   {
    "duration": 123,
    "start_time": "2022-11-04T16:29:21.802Z"
   },
   {
    "duration": 118,
    "start_time": "2022-11-04T16:29:21.928Z"
   },
   {
    "duration": 130,
    "start_time": "2022-11-04T16:29:22.048Z"
   },
   {
    "duration": 108,
    "start_time": "2022-11-04T16:29:22.180Z"
   },
   {
    "duration": 124,
    "start_time": "2022-11-04T16:29:22.290Z"
   },
   {
    "duration": 79,
    "start_time": "2022-11-04T16:29:22.416Z"
   },
   {
    "duration": 129,
    "start_time": "2022-11-04T16:29:22.497Z"
   },
   {
    "duration": 297,
    "start_time": "2022-11-04T16:29:22.628Z"
   },
   {
    "duration": 8,
    "start_time": "2022-11-04T16:29:22.926Z"
   },
   {
    "duration": 49,
    "start_time": "2022-11-04T16:29:22.935Z"
   },
   {
    "duration": 856,
    "start_time": "2022-11-04T16:29:22.986Z"
   },
   {
    "duration": 20,
    "start_time": "2022-11-04T16:29:23.843Z"
   },
   {
    "duration": 11,
    "start_time": "2022-11-04T16:29:23.864Z"
   },
   {
    "duration": 9,
    "start_time": "2022-11-04T16:29:23.877Z"
   },
   {
    "duration": 113,
    "start_time": "2022-11-04T16:29:23.887Z"
   },
   {
    "duration": 0,
    "start_time": "2022-11-04T16:29:24.001Z"
   },
   {
    "duration": 14,
    "start_time": "2022-11-04T16:30:07.536Z"
   },
   {
    "duration": 11,
    "start_time": "2022-11-04T16:30:14.337Z"
   },
   {
    "duration": 8,
    "start_time": "2022-11-04T16:30:38.738Z"
   },
   {
    "duration": 788,
    "start_time": "2022-11-04T16:30:59.776Z"
   },
   {
    "duration": 790,
    "start_time": "2022-11-04T16:31:03.260Z"
   },
   {
    "duration": 9,
    "start_time": "2022-11-04T16:31:14.344Z"
   },
   {
    "duration": 28,
    "start_time": "2022-11-04T16:31:27.821Z"
   },
   {
    "duration": 19,
    "start_time": "2022-11-04T16:32:57.037Z"
   },
   {
    "duration": 10,
    "start_time": "2022-11-04T16:34:03.168Z"
   },
   {
    "duration": 11,
    "start_time": "2022-11-04T16:34:09.465Z"
   },
   {
    "duration": 10,
    "start_time": "2022-11-04T16:34:31.556Z"
   },
   {
    "duration": 5,
    "start_time": "2022-11-04T16:36:27.864Z"
   },
   {
    "duration": 5,
    "start_time": "2022-11-04T16:38:16.065Z"
   },
   {
    "duration": 5,
    "start_time": "2022-11-04T16:38:19.785Z"
   },
   {
    "duration": 10,
    "start_time": "2022-11-04T16:40:57.913Z"
   },
   {
    "duration": 9,
    "start_time": "2022-11-04T16:41:26.908Z"
   },
   {
    "duration": 6,
    "start_time": "2022-11-04T16:42:06.332Z"
   },
   {
    "duration": 3,
    "start_time": "2022-11-04T16:56:33.670Z"
   },
   {
    "duration": 5,
    "start_time": "2022-11-04T16:56:34.190Z"
   },
   {
    "duration": 133,
    "start_time": "2022-11-04T17:14:50.974Z"
   },
   {
    "duration": 107,
    "start_time": "2022-11-04T17:15:21.294Z"
   },
   {
    "duration": 108,
    "start_time": "2022-11-04T17:15:48.729Z"
   },
   {
    "duration": 870,
    "start_time": "2022-11-04T17:18:02.975Z"
   },
   {
    "duration": 648,
    "start_time": "2022-11-04T17:32:45.408Z"
   },
   {
    "duration": 105,
    "start_time": "2022-11-04T17:32:51.606Z"
   },
   {
    "duration": 40,
    "start_time": "2022-11-04T17:39:40.126Z"
   },
   {
    "duration": 36,
    "start_time": "2022-11-04T17:40:38.678Z"
   },
   {
    "duration": 30,
    "start_time": "2022-11-04T17:40:59.797Z"
   },
   {
    "duration": 21,
    "start_time": "2022-11-04T17:41:03.530Z"
   },
   {
    "duration": 55,
    "start_time": "2022-11-04T17:41:14.942Z"
   },
   {
    "duration": 51,
    "start_time": "2022-11-04T17:41:28.165Z"
   },
   {
    "duration": 1263,
    "start_time": "2022-11-04T17:42:12.660Z"
   },
   {
    "duration": 1989,
    "start_time": "2022-11-04T17:42:13.924Z"
   },
   {
    "duration": 9,
    "start_time": "2022-11-04T17:42:15.914Z"
   },
   {
    "duration": 20,
    "start_time": "2022-11-04T17:42:15.925Z"
   },
   {
    "duration": 30,
    "start_time": "2022-11-04T17:42:15.947Z"
   },
   {
    "duration": 11,
    "start_time": "2022-11-04T17:42:15.979Z"
   },
   {
    "duration": 30,
    "start_time": "2022-11-04T17:42:15.991Z"
   },
   {
    "duration": 34,
    "start_time": "2022-11-04T17:42:16.022Z"
   },
   {
    "duration": 23,
    "start_time": "2022-11-04T17:42:16.057Z"
   },
   {
    "duration": 32,
    "start_time": "2022-11-04T17:42:16.083Z"
   },
   {
    "duration": 41,
    "start_time": "2022-11-04T17:42:16.116Z"
   },
   {
    "duration": 21,
    "start_time": "2022-11-04T17:42:16.159Z"
   },
   {
    "duration": 42,
    "start_time": "2022-11-04T17:42:16.181Z"
   },
   {
    "duration": 39,
    "start_time": "2022-11-04T17:42:16.225Z"
   },
   {
    "duration": 51,
    "start_time": "2022-11-04T17:42:16.266Z"
   },
   {
    "duration": 16,
    "start_time": "2022-11-04T17:42:16.319Z"
   },
   {
    "duration": 23,
    "start_time": "2022-11-04T17:42:16.337Z"
   },
   {
    "duration": 18,
    "start_time": "2022-11-04T17:42:16.362Z"
   },
   {
    "duration": 36,
    "start_time": "2022-11-04T17:42:16.382Z"
   },
   {
    "duration": 26,
    "start_time": "2022-11-04T17:42:16.420Z"
   },
   {
    "duration": 29,
    "start_time": "2022-11-04T17:42:16.447Z"
   },
   {
    "duration": 24,
    "start_time": "2022-11-04T17:42:16.478Z"
   },
   {
    "duration": 18,
    "start_time": "2022-11-04T17:42:16.503Z"
   },
   {
    "duration": 14,
    "start_time": "2022-11-04T17:42:16.522Z"
   },
   {
    "duration": 22,
    "start_time": "2022-11-04T17:42:16.537Z"
   },
   {
    "duration": 16,
    "start_time": "2022-11-04T17:42:16.560Z"
   },
   {
    "duration": 24,
    "start_time": "2022-11-04T17:42:16.578Z"
   },
   {
    "duration": 16,
    "start_time": "2022-11-04T17:42:16.605Z"
   },
   {
    "duration": 13,
    "start_time": "2022-11-04T17:42:16.622Z"
   },
   {
    "duration": 36,
    "start_time": "2022-11-04T17:42:16.636Z"
   },
   {
    "duration": 20,
    "start_time": "2022-11-04T17:42:16.673Z"
   },
   {
    "duration": 8,
    "start_time": "2022-11-04T17:42:16.694Z"
   },
   {
    "duration": 31,
    "start_time": "2022-11-04T17:42:16.703Z"
   },
   {
    "duration": 14,
    "start_time": "2022-11-04T17:42:16.736Z"
   },
   {
    "duration": 23,
    "start_time": "2022-11-04T17:42:16.752Z"
   },
   {
    "duration": 22,
    "start_time": "2022-11-04T17:42:16.776Z"
   },
   {
    "duration": 26,
    "start_time": "2022-11-04T17:42:16.799Z"
   },
   {
    "duration": 14,
    "start_time": "2022-11-04T17:42:16.826Z"
   },
   {
    "duration": 30,
    "start_time": "2022-11-04T17:42:16.842Z"
   },
   {
    "duration": 17,
    "start_time": "2022-11-04T17:42:16.874Z"
   },
   {
    "duration": 13,
    "start_time": "2022-11-04T17:42:16.892Z"
   },
   {
    "duration": 16,
    "start_time": "2022-11-04T17:42:16.906Z"
   },
   {
    "duration": 20,
    "start_time": "2022-11-04T17:42:16.923Z"
   },
   {
    "duration": 17,
    "start_time": "2022-11-04T17:42:16.945Z"
   },
   {
    "duration": 15,
    "start_time": "2022-11-04T17:42:16.964Z"
   },
   {
    "duration": 115,
    "start_time": "2022-11-04T17:42:16.980Z"
   },
   {
    "duration": 4,
    "start_time": "2022-11-04T17:42:17.103Z"
   },
   {
    "duration": 114,
    "start_time": "2022-11-04T17:42:17.109Z"
   },
   {
    "duration": 4,
    "start_time": "2022-11-04T17:42:17.225Z"
   },
   {
    "duration": 10,
    "start_time": "2022-11-04T17:42:17.230Z"
   },
   {
    "duration": 378,
    "start_time": "2022-11-04T17:42:17.242Z"
   },
   {
    "duration": 8,
    "start_time": "2022-11-04T17:42:17.621Z"
   },
   {
    "duration": 266,
    "start_time": "2022-11-04T17:42:17.631Z"
   },
   {
    "duration": 8,
    "start_time": "2022-11-04T17:42:17.899Z"
   },
   {
    "duration": 294,
    "start_time": "2022-11-04T17:42:17.908Z"
   },
   {
    "duration": 20,
    "start_time": "2022-11-04T17:42:18.205Z"
   },
   {
    "duration": 441,
    "start_time": "2022-11-04T17:42:18.227Z"
   },
   {
    "duration": 130,
    "start_time": "2022-11-04T17:42:18.670Z"
   },
   {
    "duration": 172,
    "start_time": "2022-11-04T17:42:18.801Z"
   },
   {
    "duration": 188,
    "start_time": "2022-11-04T17:42:18.977Z"
   },
   {
    "duration": 121,
    "start_time": "2022-11-04T17:42:19.167Z"
   },
   {
    "duration": 125,
    "start_time": "2022-11-04T17:42:19.289Z"
   },
   {
    "duration": 130,
    "start_time": "2022-11-04T17:42:19.416Z"
   },
   {
    "duration": 108,
    "start_time": "2022-11-04T17:42:19.547Z"
   },
   {
    "duration": 130,
    "start_time": "2022-11-04T17:42:19.657Z"
   },
   {
    "duration": 109,
    "start_time": "2022-11-04T17:42:19.789Z"
   },
   {
    "duration": 124,
    "start_time": "2022-11-04T17:42:19.900Z"
   },
   {
    "duration": 322,
    "start_time": "2022-11-04T17:42:20.026Z"
   },
   {
    "duration": 8,
    "start_time": "2022-11-04T17:42:20.350Z"
   },
   {
    "duration": 64,
    "start_time": "2022-11-04T17:42:20.360Z"
   },
   {
    "duration": 862,
    "start_time": "2022-11-04T17:42:20.425Z"
   },
   {
    "duration": 20,
    "start_time": "2022-11-04T17:42:21.289Z"
   },
   {
    "duration": 7,
    "start_time": "2022-11-04T17:42:21.321Z"
   },
   {
    "duration": 36,
    "start_time": "2022-11-04T17:42:21.331Z"
   },
   {
    "duration": 20,
    "start_time": "2022-11-04T17:42:21.369Z"
   },
   {
    "duration": 18,
    "start_time": "2022-11-04T17:42:21.390Z"
   },
   {
    "duration": 1313,
    "start_time": "2022-11-04T17:52:44.725Z"
   },
   {
    "duration": 1812,
    "start_time": "2022-11-04T17:52:46.040Z"
   },
   {
    "duration": 11,
    "start_time": "2022-11-04T17:52:47.854Z"
   },
   {
    "duration": 9,
    "start_time": "2022-11-04T17:52:47.866Z"
   },
   {
    "duration": 8,
    "start_time": "2022-11-04T17:52:47.878Z"
   },
   {
    "duration": 6,
    "start_time": "2022-11-04T17:52:47.888Z"
   },
   {
    "duration": 11,
    "start_time": "2022-11-04T17:52:47.896Z"
   },
   {
    "duration": 5,
    "start_time": "2022-11-04T17:52:47.908Z"
   },
   {
    "duration": 12,
    "start_time": "2022-11-04T17:52:47.914Z"
   },
   {
    "duration": 7,
    "start_time": "2022-11-04T17:52:47.927Z"
   },
   {
    "duration": 10,
    "start_time": "2022-11-04T17:52:47.936Z"
   },
   {
    "duration": 7,
    "start_time": "2022-11-04T17:52:47.948Z"
   },
   {
    "duration": 11,
    "start_time": "2022-11-04T17:52:47.956Z"
   },
   {
    "duration": 15,
    "start_time": "2022-11-04T17:52:47.970Z"
   },
   {
    "duration": 22,
    "start_time": "2022-11-04T17:52:47.986Z"
   },
   {
    "duration": 5,
    "start_time": "2022-11-04T17:52:48.010Z"
   },
   {
    "duration": 9,
    "start_time": "2022-11-04T17:52:48.022Z"
   },
   {
    "duration": 3,
    "start_time": "2022-11-04T17:52:48.033Z"
   },
   {
    "duration": 14,
    "start_time": "2022-11-04T17:52:48.037Z"
   },
   {
    "duration": 7,
    "start_time": "2022-11-04T17:52:48.052Z"
   },
   {
    "duration": 19,
    "start_time": "2022-11-04T17:52:48.061Z"
   },
   {
    "duration": 14,
    "start_time": "2022-11-04T17:52:48.081Z"
   },
   {
    "duration": 32,
    "start_time": "2022-11-04T17:52:48.096Z"
   },
   {
    "duration": 4,
    "start_time": "2022-11-04T17:52:48.129Z"
   },
   {
    "duration": 9,
    "start_time": "2022-11-04T17:52:48.135Z"
   },
   {
    "duration": 4,
    "start_time": "2022-11-04T17:52:48.146Z"
   },
   {
    "duration": 7,
    "start_time": "2022-11-04T17:52:48.151Z"
   },
   {
    "duration": 10,
    "start_time": "2022-11-04T17:52:48.159Z"
   },
   {
    "duration": 4,
    "start_time": "2022-11-04T17:52:48.170Z"
   },
   {
    "duration": 16,
    "start_time": "2022-11-04T17:52:48.176Z"
   },
   {
    "duration": 10,
    "start_time": "2022-11-04T17:52:48.193Z"
   },
   {
    "duration": 19,
    "start_time": "2022-11-04T17:52:48.205Z"
   },
   {
    "duration": 10,
    "start_time": "2022-11-04T17:52:48.225Z"
   },
   {
    "duration": 6,
    "start_time": "2022-11-04T17:52:48.237Z"
   },
   {
    "duration": 13,
    "start_time": "2022-11-04T17:52:48.246Z"
   },
   {
    "duration": 16,
    "start_time": "2022-11-04T17:52:48.261Z"
   },
   {
    "duration": 23,
    "start_time": "2022-11-04T17:52:48.278Z"
   },
   {
    "duration": 7,
    "start_time": "2022-11-04T17:52:48.322Z"
   },
   {
    "duration": 21,
    "start_time": "2022-11-04T17:52:48.331Z"
   },
   {
    "duration": 13,
    "start_time": "2022-11-04T17:52:48.354Z"
   },
   {
    "duration": 11,
    "start_time": "2022-11-04T17:52:48.371Z"
   },
   {
    "duration": 16,
    "start_time": "2022-11-04T17:52:48.384Z"
   },
   {
    "duration": 12,
    "start_time": "2022-11-04T17:52:48.401Z"
   },
   {
    "duration": 14,
    "start_time": "2022-11-04T17:52:48.414Z"
   },
   {
    "duration": 12,
    "start_time": "2022-11-04T17:52:48.429Z"
   },
   {
    "duration": 101,
    "start_time": "2022-11-04T17:52:48.444Z"
   },
   {
    "duration": 3,
    "start_time": "2022-11-04T17:52:48.547Z"
   },
   {
    "duration": 113,
    "start_time": "2022-11-04T17:52:48.552Z"
   },
   {
    "duration": 5,
    "start_time": "2022-11-04T17:52:48.667Z"
   },
   {
    "duration": 12,
    "start_time": "2022-11-04T17:52:48.673Z"
   },
   {
    "duration": 432,
    "start_time": "2022-11-04T17:52:48.687Z"
   },
   {
    "duration": 8,
    "start_time": "2022-11-04T17:52:49.121Z"
   },
   {
    "duration": 264,
    "start_time": "2022-11-04T17:52:49.131Z"
   },
   {
    "duration": 9,
    "start_time": "2022-11-04T17:52:49.397Z"
   },
   {
    "duration": 291,
    "start_time": "2022-11-04T17:52:49.407Z"
   },
   {
    "duration": 10,
    "start_time": "2022-11-04T17:52:49.699Z"
   },
   {
    "duration": 383,
    "start_time": "2022-11-04T17:52:49.722Z"
   },
   {
    "duration": 127,
    "start_time": "2022-11-04T17:52:50.106Z"
   },
   {
    "duration": 137,
    "start_time": "2022-11-04T17:52:50.235Z"
   },
   {
    "duration": 133,
    "start_time": "2022-11-04T17:52:50.373Z"
   },
   {
    "duration": 124,
    "start_time": "2022-11-04T17:52:50.507Z"
   },
   {
    "duration": 109,
    "start_time": "2022-11-04T17:52:50.633Z"
   },
   {
    "duration": 122,
    "start_time": "2022-11-04T17:52:50.744Z"
   },
   {
    "duration": 101,
    "start_time": "2022-11-04T17:52:50.867Z"
   },
   {
    "duration": 129,
    "start_time": "2022-11-04T17:52:50.969Z"
   },
   {
    "duration": 108,
    "start_time": "2022-11-04T17:52:51.100Z"
   },
   {
    "duration": 117,
    "start_time": "2022-11-04T17:52:51.209Z"
   },
   {
    "duration": 296,
    "start_time": "2022-11-04T17:52:51.327Z"
   },
   {
    "duration": 8,
    "start_time": "2022-11-04T17:52:51.625Z"
   },
   {
    "duration": 46,
    "start_time": "2022-11-04T17:52:51.635Z"
   },
   {
    "duration": 828,
    "start_time": "2022-11-04T17:52:51.683Z"
   },
   {
    "duration": 24,
    "start_time": "2022-11-04T17:52:52.513Z"
   },
   {
    "duration": 6,
    "start_time": "2022-11-04T17:52:52.538Z"
   },
   {
    "duration": 10,
    "start_time": "2022-11-04T17:52:52.545Z"
   },
   {
    "duration": 14,
    "start_time": "2022-11-04T17:52:52.556Z"
   },
   {
    "duration": 5,
    "start_time": "2022-11-04T17:52:52.571Z"
   },
   {
    "duration": 1183,
    "start_time": "2022-11-04T18:06:13.885Z"
   },
   {
    "duration": 1941,
    "start_time": "2022-11-04T18:06:15.070Z"
   },
   {
    "duration": 9,
    "start_time": "2022-11-04T18:06:17.013Z"
   },
   {
    "duration": 21,
    "start_time": "2022-11-04T18:06:17.024Z"
   },
   {
    "duration": 11,
    "start_time": "2022-11-04T18:06:17.046Z"
   },
   {
    "duration": 9,
    "start_time": "2022-11-04T18:06:17.059Z"
   },
   {
    "duration": 12,
    "start_time": "2022-11-04T18:06:17.069Z"
   },
   {
    "duration": 11,
    "start_time": "2022-11-04T18:06:17.083Z"
   },
   {
    "duration": 12,
    "start_time": "2022-11-04T18:06:17.095Z"
   },
   {
    "duration": 6,
    "start_time": "2022-11-04T18:06:17.140Z"
   },
   {
    "duration": 28,
    "start_time": "2022-11-04T18:06:17.148Z"
   },
   {
    "duration": 10,
    "start_time": "2022-11-04T18:06:17.178Z"
   },
   {
    "duration": 22,
    "start_time": "2022-11-04T18:06:17.189Z"
   },
   {
    "duration": 6,
    "start_time": "2022-11-04T18:06:17.213Z"
   },
   {
    "duration": 17,
    "start_time": "2022-11-04T18:06:17.221Z"
   },
   {
    "duration": 9,
    "start_time": "2022-11-04T18:06:17.240Z"
   },
   {
    "duration": 17,
    "start_time": "2022-11-04T18:06:17.252Z"
   },
   {
    "duration": 5,
    "start_time": "2022-11-04T18:06:17.271Z"
   },
   {
    "duration": 17,
    "start_time": "2022-11-04T18:06:17.277Z"
   },
   {
    "duration": 9,
    "start_time": "2022-11-04T18:06:17.296Z"
   },
   {
    "duration": 44,
    "start_time": "2022-11-04T18:06:17.308Z"
   },
   {
    "duration": 25,
    "start_time": "2022-11-04T18:06:17.354Z"
   },
   {
    "duration": 16,
    "start_time": "2022-11-04T18:06:17.381Z"
   },
   {
    "duration": 5,
    "start_time": "2022-11-04T18:06:17.399Z"
   },
   {
    "duration": 34,
    "start_time": "2022-11-04T18:06:17.405Z"
   },
   {
    "duration": 11,
    "start_time": "2022-11-04T18:06:17.441Z"
   },
   {
    "duration": 4,
    "start_time": "2022-11-04T18:06:17.454Z"
   },
   {
    "duration": 15,
    "start_time": "2022-11-04T18:06:17.463Z"
   },
   {
    "duration": 5,
    "start_time": "2022-11-04T18:06:17.480Z"
   },
   {
    "duration": 7,
    "start_time": "2022-11-04T18:06:17.487Z"
   },
   {
    "duration": 10,
    "start_time": "2022-11-04T18:06:17.496Z"
   },
   {
    "duration": 31,
    "start_time": "2022-11-04T18:06:17.508Z"
   },
   {
    "duration": 9,
    "start_time": "2022-11-04T18:06:17.540Z"
   },
   {
    "duration": 4,
    "start_time": "2022-11-04T18:06:17.551Z"
   },
   {
    "duration": 9,
    "start_time": "2022-11-04T18:06:17.557Z"
   },
   {
    "duration": 13,
    "start_time": "2022-11-04T18:06:17.567Z"
   },
   {
    "duration": 19,
    "start_time": "2022-11-04T18:06:17.581Z"
   },
   {
    "duration": 38,
    "start_time": "2022-11-04T18:06:17.602Z"
   },
   {
    "duration": 20,
    "start_time": "2022-11-04T18:06:17.641Z"
   },
   {
    "duration": 15,
    "start_time": "2022-11-04T18:06:17.662Z"
   },
   {
    "duration": 9,
    "start_time": "2022-11-04T18:06:17.679Z"
   },
   {
    "duration": 12,
    "start_time": "2022-11-04T18:06:17.689Z"
   },
   {
    "duration": 73,
    "start_time": "2022-11-04T18:06:17.703Z"
   },
   {
    "duration": 8,
    "start_time": "2022-11-04T18:06:17.777Z"
   },
   {
    "duration": 292,
    "start_time": "2022-11-04T18:06:17.787Z"
   },
   {
    "duration": 292,
    "start_time": "2022-11-04T18:06:18.080Z"
   },
   {
    "duration": 15,
    "start_time": "2022-11-04T18:06:18.374Z"
   },
   {
    "duration": 4,
    "start_time": "2022-11-04T18:06:18.391Z"
   },
   {
    "duration": 12,
    "start_time": "2022-11-04T18:06:18.396Z"
   },
   {
    "duration": 8,
    "start_time": "2022-11-04T18:06:18.409Z"
   },
   {
    "duration": 22,
    "start_time": "2022-11-04T18:06:18.418Z"
   },
   {
    "duration": 5,
    "start_time": "2022-11-04T18:06:18.441Z"
   },
   {
    "duration": 112,
    "start_time": "2022-11-04T18:06:18.448Z"
   },
   {
    "duration": 3,
    "start_time": "2022-11-04T18:06:18.562Z"
   },
   {
    "duration": 108,
    "start_time": "2022-11-04T18:06:18.566Z"
   },
   {
    "duration": 4,
    "start_time": "2022-11-04T18:06:18.676Z"
   },
   {
    "duration": 13,
    "start_time": "2022-11-04T18:06:18.682Z"
   },
   {
    "duration": 384,
    "start_time": "2022-11-04T18:06:18.697Z"
   },
   {
    "duration": 9,
    "start_time": "2022-11-04T18:06:19.083Z"
   },
   {
    "duration": 414,
    "start_time": "2022-11-04T18:06:19.095Z"
   },
   {
    "duration": 9,
    "start_time": "2022-11-04T18:06:19.512Z"
   },
   {
    "duration": 300,
    "start_time": "2022-11-04T18:06:19.523Z"
   },
   {
    "duration": 21,
    "start_time": "2022-11-04T18:06:19.825Z"
   },
   {
    "duration": 279,
    "start_time": "2022-11-04T18:06:19.848Z"
   },
   {
    "duration": 126,
    "start_time": "2022-11-04T18:06:20.129Z"
   },
   {
    "duration": 144,
    "start_time": "2022-11-04T18:06:20.256Z"
   },
   {
    "duration": 138,
    "start_time": "2022-11-04T18:06:20.402Z"
   },
   {
    "duration": 237,
    "start_time": "2022-11-04T18:06:20.542Z"
   },
   {
    "duration": 112,
    "start_time": "2022-11-04T18:06:20.780Z"
   },
   {
    "duration": 155,
    "start_time": "2022-11-04T18:06:20.893Z"
   },
   {
    "duration": 111,
    "start_time": "2022-11-04T18:06:21.050Z"
   },
   {
    "duration": 133,
    "start_time": "2022-11-04T18:06:21.163Z"
   },
   {
    "duration": 117,
    "start_time": "2022-11-04T18:06:21.298Z"
   },
   {
    "duration": 121,
    "start_time": "2022-11-04T18:06:21.417Z"
   },
   {
    "duration": 226,
    "start_time": "2022-11-04T18:06:21.540Z"
   },
   {
    "duration": 8,
    "start_time": "2022-11-04T18:06:21.768Z"
   },
   {
    "duration": 62,
    "start_time": "2022-11-04T18:06:21.778Z"
   },
   {
    "duration": 859,
    "start_time": "2022-11-04T18:06:21.841Z"
   },
   {
    "duration": 20,
    "start_time": "2022-11-04T18:06:22.702Z"
   },
   {
    "duration": 20,
    "start_time": "2022-11-04T18:06:22.723Z"
   },
   {
    "duration": 6,
    "start_time": "2022-11-04T18:06:22.744Z"
   },
   {
    "duration": 9,
    "start_time": "2022-11-04T18:06:22.755Z"
   },
   {
    "duration": 6,
    "start_time": "2022-11-04T18:06:22.766Z"
   },
   {
    "duration": 7,
    "start_time": "2022-11-04T18:09:46.153Z"
   },
   {
    "duration": 6,
    "start_time": "2022-11-04T18:17:56.764Z"
   },
   {
    "duration": 4,
    "start_time": "2022-11-04T18:18:12.766Z"
   },
   {
    "duration": 339,
    "start_time": "2022-11-04T18:19:12.088Z"
   },
   {
    "duration": 113,
    "start_time": "2022-11-04T18:19:19.544Z"
   },
   {
    "duration": 252,
    "start_time": "2022-11-04T18:19:30.112Z"
   },
   {
    "duration": 110,
    "start_time": "2022-11-04T18:19:40.065Z"
   },
   {
    "duration": 1325,
    "start_time": "2022-11-04T18:39:44.843Z"
   },
   {
    "duration": 2070,
    "start_time": "2022-11-04T18:39:46.170Z"
   },
   {
    "duration": 13,
    "start_time": "2022-11-04T18:39:48.242Z"
   },
   {
    "duration": 5,
    "start_time": "2022-11-04T18:39:48.258Z"
   },
   {
    "duration": 254,
    "start_time": "2022-11-04T18:39:48.265Z"
   },
   {
    "duration": 18,
    "start_time": "2022-11-04T18:39:48.521Z"
   },
   {
    "duration": 12,
    "start_time": "2022-11-04T18:39:48.542Z"
   },
   {
    "duration": 9,
    "start_time": "2022-11-04T18:39:48.556Z"
   },
   {
    "duration": 8,
    "start_time": "2022-11-04T18:39:48.567Z"
   },
   {
    "duration": 5,
    "start_time": "2022-11-04T18:39:48.578Z"
   },
   {
    "duration": 12,
    "start_time": "2022-11-04T18:39:48.585Z"
   },
   {
    "duration": 40,
    "start_time": "2022-11-04T18:39:48.599Z"
   },
   {
    "duration": 9,
    "start_time": "2022-11-04T18:39:48.641Z"
   },
   {
    "duration": 6,
    "start_time": "2022-11-04T18:39:48.651Z"
   },
   {
    "duration": 4,
    "start_time": "2022-11-04T18:39:48.659Z"
   },
   {
    "duration": 8,
    "start_time": "2022-11-04T18:39:48.665Z"
   },
   {
    "duration": 12,
    "start_time": "2022-11-04T18:39:48.675Z"
   },
   {
    "duration": 5,
    "start_time": "2022-11-04T18:39:48.689Z"
   },
   {
    "duration": 47,
    "start_time": "2022-11-04T18:39:48.696Z"
   },
   {
    "duration": 4,
    "start_time": "2022-11-04T18:39:48.744Z"
   },
   {
    "duration": 12,
    "start_time": "2022-11-04T18:39:48.749Z"
   },
   {
    "duration": 8,
    "start_time": "2022-11-04T18:39:48.762Z"
   },
   {
    "duration": 20,
    "start_time": "2022-11-04T18:39:48.771Z"
   },
   {
    "duration": 46,
    "start_time": "2022-11-04T18:39:48.793Z"
   },
   {
    "duration": 7,
    "start_time": "2022-11-04T18:39:48.841Z"
   },
   {
    "duration": 14,
    "start_time": "2022-11-04T18:39:48.850Z"
   },
   {
    "duration": 4,
    "start_time": "2022-11-04T18:39:48.865Z"
   },
   {
    "duration": 9,
    "start_time": "2022-11-04T18:39:48.873Z"
   },
   {
    "duration": 4,
    "start_time": "2022-11-04T18:39:48.884Z"
   },
   {
    "duration": 11,
    "start_time": "2022-11-04T18:39:48.890Z"
   },
   {
    "duration": 43,
    "start_time": "2022-11-04T18:39:48.902Z"
   },
   {
    "duration": 6,
    "start_time": "2022-11-04T18:39:48.947Z"
   },
   {
    "duration": 5,
    "start_time": "2022-11-04T18:39:48.954Z"
   },
   {
    "duration": 11,
    "start_time": "2022-11-04T18:39:48.960Z"
   },
   {
    "duration": 4,
    "start_time": "2022-11-04T18:39:48.972Z"
   },
   {
    "duration": 12,
    "start_time": "2022-11-04T18:39:48.978Z"
   },
   {
    "duration": 14,
    "start_time": "2022-11-04T18:39:48.991Z"
   },
   {
    "duration": 38,
    "start_time": "2022-11-04T18:39:49.007Z"
   },
   {
    "duration": 12,
    "start_time": "2022-11-04T18:39:49.047Z"
   },
   {
    "duration": 21,
    "start_time": "2022-11-04T18:39:49.061Z"
   },
   {
    "duration": 7,
    "start_time": "2022-11-04T18:39:49.083Z"
   },
   {
    "duration": 52,
    "start_time": "2022-11-04T18:39:49.092Z"
   },
   {
    "duration": 14,
    "start_time": "2022-11-04T18:39:49.146Z"
   },
   {
    "duration": 9,
    "start_time": "2022-11-04T18:39:49.162Z"
   },
   {
    "duration": 13,
    "start_time": "2022-11-04T18:39:49.173Z"
   },
   {
    "duration": 118,
    "start_time": "2022-11-04T18:39:49.189Z"
   },
   {
    "duration": 7,
    "start_time": "2022-11-04T18:39:49.309Z"
   },
   {
    "duration": 320,
    "start_time": "2022-11-04T18:39:49.318Z"
   },
   {
    "duration": 300,
    "start_time": "2022-11-04T18:39:49.640Z"
   },
   {
    "duration": 14,
    "start_time": "2022-11-04T18:39:49.942Z"
   },
   {
    "duration": 4,
    "start_time": "2022-11-04T18:39:49.958Z"
   },
   {
    "duration": 9,
    "start_time": "2022-11-04T18:39:49.963Z"
   },
   {
    "duration": 7,
    "start_time": "2022-11-04T18:39:49.974Z"
   },
   {
    "duration": 7,
    "start_time": "2022-11-04T18:39:49.983Z"
   },
   {
    "duration": 3,
    "start_time": "2022-11-04T18:39:49.992Z"
   },
   {
    "duration": 127,
    "start_time": "2022-11-04T18:39:49.997Z"
   },
   {
    "duration": 4,
    "start_time": "2022-11-04T18:39:50.126Z"
   },
   {
    "duration": 107,
    "start_time": "2022-11-04T18:39:50.131Z"
   },
   {
    "duration": 4,
    "start_time": "2022-11-04T18:39:50.240Z"
   },
   {
    "duration": 8,
    "start_time": "2022-11-04T18:39:50.246Z"
   },
   {
    "duration": 10,
    "start_time": "2022-11-04T18:39:50.255Z"
   },
   {
    "duration": 546,
    "start_time": "2022-11-04T18:39:50.267Z"
   },
   {
    "duration": 10,
    "start_time": "2022-11-04T18:39:50.814Z"
   },
   {
    "duration": 296,
    "start_time": "2022-11-04T18:39:50.839Z"
   },
   {
    "duration": 10,
    "start_time": "2022-11-04T18:39:51.138Z"
   },
   {
    "duration": 326,
    "start_time": "2022-11-04T18:39:51.149Z"
   },
   {
    "duration": 9,
    "start_time": "2022-11-04T18:39:51.476Z"
   },
   {
    "duration": 289,
    "start_time": "2022-11-04T18:39:51.486Z"
   },
   {
    "duration": 147,
    "start_time": "2022-11-04T18:39:51.777Z"
   },
   {
    "duration": 258,
    "start_time": "2022-11-04T18:39:51.926Z"
   },
   {
    "duration": 138,
    "start_time": "2022-11-04T18:39:52.186Z"
   },
   {
    "duration": 130,
    "start_time": "2022-11-04T18:39:52.326Z"
   },
   {
    "duration": 135,
    "start_time": "2022-11-04T18:39:52.458Z"
   },
   {
    "duration": 131,
    "start_time": "2022-11-04T18:39:52.595Z"
   },
   {
    "duration": 121,
    "start_time": "2022-11-04T18:39:52.728Z"
   },
   {
    "duration": 139,
    "start_time": "2022-11-04T18:39:52.850Z"
   },
   {
    "duration": 118,
    "start_time": "2022-11-04T18:39:52.991Z"
   },
   {
    "duration": 127,
    "start_time": "2022-11-04T18:39:53.111Z"
   },
   {
    "duration": 248,
    "start_time": "2022-11-04T18:39:53.239Z"
   },
   {
    "duration": 8,
    "start_time": "2022-11-04T18:39:53.489Z"
   },
   {
    "duration": 65,
    "start_time": "2022-11-04T18:39:53.499Z"
   },
   {
    "duration": 955,
    "start_time": "2022-11-04T18:39:53.569Z"
   },
   {
    "duration": 36,
    "start_time": "2022-11-04T18:39:54.526Z"
   },
   {
    "duration": 7,
    "start_time": "2022-11-04T18:39:54.564Z"
   },
   {
    "duration": 11,
    "start_time": "2022-11-04T18:39:54.573Z"
   },
   {
    "duration": 11,
    "start_time": "2022-11-04T18:39:54.585Z"
   },
   {
    "duration": 6,
    "start_time": "2022-11-04T18:39:54.597Z"
   },
   {
    "duration": 617,
    "start_time": "2022-11-10T01:26:11.465Z"
   },
   {
    "duration": 96,
    "start_time": "2022-11-10T01:26:12.084Z"
   },
   {
    "duration": 0,
    "start_time": "2022-11-10T01:26:12.184Z"
   },
   {
    "duration": 0,
    "start_time": "2022-11-10T01:26:12.186Z"
   },
   {
    "duration": 0,
    "start_time": "2022-11-10T01:26:12.186Z"
   },
   {
    "duration": 0,
    "start_time": "2022-11-10T01:26:12.187Z"
   },
   {
    "duration": 0,
    "start_time": "2022-11-10T01:26:12.188Z"
   },
   {
    "duration": 0,
    "start_time": "2022-11-10T01:26:12.189Z"
   },
   {
    "duration": 0,
    "start_time": "2022-11-10T01:26:12.191Z"
   },
   {
    "duration": 0,
    "start_time": "2022-11-10T01:26:12.192Z"
   },
   {
    "duration": 0,
    "start_time": "2022-11-10T01:26:12.193Z"
   },
   {
    "duration": 0,
    "start_time": "2022-11-10T01:26:12.193Z"
   },
   {
    "duration": 0,
    "start_time": "2022-11-10T01:26:12.194Z"
   },
   {
    "duration": 0,
    "start_time": "2022-11-10T01:26:12.195Z"
   },
   {
    "duration": 0,
    "start_time": "2022-11-10T01:26:12.196Z"
   },
   {
    "duration": 0,
    "start_time": "2022-11-10T01:26:12.197Z"
   },
   {
    "duration": 0,
    "start_time": "2022-11-10T01:26:12.198Z"
   },
   {
    "duration": 0,
    "start_time": "2022-11-10T01:26:12.200Z"
   },
   {
    "duration": 0,
    "start_time": "2022-11-10T01:26:12.200Z"
   },
   {
    "duration": 0,
    "start_time": "2022-11-10T01:26:12.201Z"
   },
   {
    "duration": 0,
    "start_time": "2022-11-10T01:26:12.203Z"
   },
   {
    "duration": 0,
    "start_time": "2022-11-10T01:26:12.204Z"
   },
   {
    "duration": 0,
    "start_time": "2022-11-10T01:26:12.204Z"
   },
   {
    "duration": 0,
    "start_time": "2022-11-10T01:26:12.206Z"
   },
   {
    "duration": 0,
    "start_time": "2022-11-10T01:26:12.206Z"
   },
   {
    "duration": 0,
    "start_time": "2022-11-10T01:26:12.207Z"
   },
   {
    "duration": 0,
    "start_time": "2022-11-10T01:26:12.208Z"
   },
   {
    "duration": 0,
    "start_time": "2022-11-10T01:26:12.209Z"
   },
   {
    "duration": 0,
    "start_time": "2022-11-10T01:26:12.211Z"
   },
   {
    "duration": 0,
    "start_time": "2022-11-10T01:26:12.211Z"
   },
   {
    "duration": 0,
    "start_time": "2022-11-10T01:26:12.212Z"
   },
   {
    "duration": 0,
    "start_time": "2022-11-10T01:26:12.213Z"
   },
   {
    "duration": 0,
    "start_time": "2022-11-10T01:26:12.215Z"
   },
   {
    "duration": 0,
    "start_time": "2022-11-10T01:26:12.216Z"
   },
   {
    "duration": 0,
    "start_time": "2022-11-10T01:26:12.216Z"
   },
   {
    "duration": 0,
    "start_time": "2022-11-10T01:26:12.218Z"
   },
   {
    "duration": 0,
    "start_time": "2022-11-10T01:26:12.218Z"
   },
   {
    "duration": 0,
    "start_time": "2022-11-10T01:26:12.219Z"
   },
   {
    "duration": 0,
    "start_time": "2022-11-10T01:26:12.220Z"
   },
   {
    "duration": 0,
    "start_time": "2022-11-10T01:26:12.221Z"
   },
   {
    "duration": 0,
    "start_time": "2022-11-10T01:26:12.222Z"
   },
   {
    "duration": 0,
    "start_time": "2022-11-10T01:26:12.223Z"
   },
   {
    "duration": 0,
    "start_time": "2022-11-10T01:26:12.223Z"
   },
   {
    "duration": 0,
    "start_time": "2022-11-10T01:26:12.278Z"
   },
   {
    "duration": 0,
    "start_time": "2022-11-10T01:26:12.279Z"
   },
   {
    "duration": 0,
    "start_time": "2022-11-10T01:26:12.280Z"
   },
   {
    "duration": 0,
    "start_time": "2022-11-10T01:26:12.281Z"
   },
   {
    "duration": 0,
    "start_time": "2022-11-10T01:26:12.282Z"
   },
   {
    "duration": 0,
    "start_time": "2022-11-10T01:26:12.283Z"
   },
   {
    "duration": 0,
    "start_time": "2022-11-10T01:26:12.284Z"
   },
   {
    "duration": 0,
    "start_time": "2022-11-10T01:26:12.285Z"
   },
   {
    "duration": 0,
    "start_time": "2022-11-10T01:26:12.286Z"
   },
   {
    "duration": 0,
    "start_time": "2022-11-10T01:26:12.287Z"
   },
   {
    "duration": 0,
    "start_time": "2022-11-10T01:26:12.287Z"
   },
   {
    "duration": 0,
    "start_time": "2022-11-10T01:26:12.288Z"
   },
   {
    "duration": 0,
    "start_time": "2022-11-10T01:26:12.289Z"
   },
   {
    "duration": 0,
    "start_time": "2022-11-10T01:26:12.290Z"
   },
   {
    "duration": 0,
    "start_time": "2022-11-10T01:26:12.291Z"
   },
   {
    "duration": 0,
    "start_time": "2022-11-10T01:26:12.292Z"
   },
   {
    "duration": 0,
    "start_time": "2022-11-10T01:26:12.293Z"
   },
   {
    "duration": 0,
    "start_time": "2022-11-10T01:26:12.294Z"
   },
   {
    "duration": 0,
    "start_time": "2022-11-10T01:26:12.295Z"
   },
   {
    "duration": 0,
    "start_time": "2022-11-10T01:26:12.296Z"
   },
   {
    "duration": 0,
    "start_time": "2022-11-10T01:26:12.297Z"
   },
   {
    "duration": 0,
    "start_time": "2022-11-10T01:26:12.298Z"
   },
   {
    "duration": 0,
    "start_time": "2022-11-10T01:26:12.299Z"
   },
   {
    "duration": 0,
    "start_time": "2022-11-10T01:26:12.300Z"
   },
   {
    "duration": 0,
    "start_time": "2022-11-10T01:26:12.301Z"
   },
   {
    "duration": 0,
    "start_time": "2022-11-10T01:26:12.301Z"
   },
   {
    "duration": 0,
    "start_time": "2022-11-10T01:26:12.302Z"
   },
   {
    "duration": 0,
    "start_time": "2022-11-10T01:26:12.303Z"
   },
   {
    "duration": 0,
    "start_time": "2022-11-10T01:26:12.305Z"
   },
   {
    "duration": 0,
    "start_time": "2022-11-10T01:26:12.306Z"
   },
   {
    "duration": 0,
    "start_time": "2022-11-10T01:26:12.307Z"
   },
   {
    "duration": 0,
    "start_time": "2022-11-10T01:26:12.308Z"
   },
   {
    "duration": 0,
    "start_time": "2022-11-10T01:26:12.309Z"
   },
   {
    "duration": 0,
    "start_time": "2022-11-10T01:26:12.309Z"
   },
   {
    "duration": 0,
    "start_time": "2022-11-10T01:26:12.310Z"
   },
   {
    "duration": 0,
    "start_time": "2022-11-10T01:26:12.311Z"
   },
   {
    "duration": 0,
    "start_time": "2022-11-10T01:26:12.312Z"
   },
   {
    "duration": 0,
    "start_time": "2022-11-10T01:26:12.378Z"
   },
   {
    "duration": 0,
    "start_time": "2022-11-10T01:26:12.379Z"
   },
   {
    "duration": 0,
    "start_time": "2022-11-10T01:26:12.380Z"
   },
   {
    "duration": 0,
    "start_time": "2022-11-10T01:26:12.381Z"
   },
   {
    "duration": 0,
    "start_time": "2022-11-10T01:26:12.381Z"
   },
   {
    "duration": 0,
    "start_time": "2022-11-10T01:26:12.383Z"
   },
   {
    "duration": 0,
    "start_time": "2022-11-10T01:26:12.383Z"
   },
   {
    "duration": 0,
    "start_time": "2022-11-10T01:26:12.384Z"
   },
   {
    "duration": 0,
    "start_time": "2022-11-10T01:26:12.385Z"
   },
   {
    "duration": 0,
    "start_time": "2022-11-10T01:26:12.386Z"
   },
   {
    "duration": 0,
    "start_time": "2022-11-10T01:26:12.387Z"
   },
   {
    "duration": 0,
    "start_time": "2022-11-10T01:26:12.388Z"
   },
   {
    "duration": 0,
    "start_time": "2022-11-10T01:26:12.389Z"
   },
   {
    "duration": 0,
    "start_time": "2022-11-10T01:26:12.390Z"
   },
   {
    "duration": 0,
    "start_time": "2022-11-10T01:26:12.391Z"
   },
   {
    "duration": 0,
    "start_time": "2022-11-10T01:26:12.392Z"
   },
   {
    "duration": 0,
    "start_time": "2022-11-10T01:26:12.393Z"
   },
   {
    "duration": 0,
    "start_time": "2022-11-10T01:26:12.394Z"
   },
   {
    "duration": 0,
    "start_time": "2022-11-10T01:26:12.395Z"
   },
   {
    "duration": 0,
    "start_time": "2022-11-10T01:26:12.396Z"
   },
   {
    "duration": 0,
    "start_time": "2022-11-10T01:26:12.397Z"
   },
   {
    "duration": 0,
    "start_time": "2022-11-10T01:26:12.398Z"
   },
   {
    "duration": 0,
    "start_time": "2022-11-10T01:26:12.399Z"
   },
   {
    "duration": 0,
    "start_time": "2022-11-10T01:26:12.400Z"
   },
   {
    "duration": 0,
    "start_time": "2022-11-10T01:26:12.401Z"
   },
   {
    "duration": 0,
    "start_time": "2022-11-10T01:26:12.402Z"
   },
   {
    "duration": 0,
    "start_time": "2022-11-10T01:26:12.403Z"
   },
   {
    "duration": 0,
    "start_time": "2022-11-10T01:26:12.404Z"
   },
   {
    "duration": 0,
    "start_time": "2022-11-10T01:26:12.406Z"
   },
   {
    "duration": 0,
    "start_time": "2022-11-10T01:26:12.407Z"
   },
   {
    "duration": 0,
    "start_time": "2022-11-10T01:26:12.408Z"
   },
   {
    "duration": 0,
    "start_time": "2022-11-10T01:26:12.409Z"
   },
   {
    "duration": 0,
    "start_time": "2022-11-10T01:26:12.410Z"
   },
   {
    "duration": 0,
    "start_time": "2022-11-10T01:26:12.411Z"
   },
   {
    "duration": 0,
    "start_time": "2022-11-10T01:26:12.412Z"
   },
   {
    "duration": 0,
    "start_time": "2022-11-10T01:26:12.413Z"
   },
   {
    "duration": 0,
    "start_time": "2022-11-10T01:26:12.414Z"
   },
   {
    "duration": 520,
    "start_time": "2022-11-10T01:41:35.434Z"
   },
   {
    "duration": 33,
    "start_time": "2022-11-10T01:41:36.134Z"
   },
   {
    "duration": 546,
    "start_time": "2022-11-10T01:41:41.923Z"
   },
   {
    "duration": 100,
    "start_time": "2022-11-10T01:41:42.479Z"
   },
   {
    "duration": 0,
    "start_time": "2022-11-10T01:41:42.584Z"
   },
   {
    "duration": 0,
    "start_time": "2022-11-10T01:41:42.586Z"
   },
   {
    "duration": 0,
    "start_time": "2022-11-10T01:41:42.587Z"
   },
   {
    "duration": 0,
    "start_time": "2022-11-10T01:41:42.588Z"
   },
   {
    "duration": 0,
    "start_time": "2022-11-10T01:41:42.589Z"
   },
   {
    "duration": 0,
    "start_time": "2022-11-10T01:41:42.591Z"
   },
   {
    "duration": 0,
    "start_time": "2022-11-10T01:41:42.592Z"
   },
   {
    "duration": 0,
    "start_time": "2022-11-10T01:41:42.593Z"
   },
   {
    "duration": 0,
    "start_time": "2022-11-10T01:41:42.594Z"
   },
   {
    "duration": 0,
    "start_time": "2022-11-10T01:41:42.596Z"
   },
   {
    "duration": 0,
    "start_time": "2022-11-10T01:41:42.597Z"
   },
   {
    "duration": 1,
    "start_time": "2022-11-10T01:41:42.598Z"
   },
   {
    "duration": 0,
    "start_time": "2022-11-10T01:41:42.600Z"
   },
   {
    "duration": 0,
    "start_time": "2022-11-10T01:41:42.602Z"
   },
   {
    "duration": 0,
    "start_time": "2022-11-10T01:41:42.603Z"
   },
   {
    "duration": 0,
    "start_time": "2022-11-10T01:41:42.604Z"
   },
   {
    "duration": 0,
    "start_time": "2022-11-10T01:41:42.605Z"
   },
   {
    "duration": 0,
    "start_time": "2022-11-10T01:41:42.607Z"
   },
   {
    "duration": 0,
    "start_time": "2022-11-10T01:41:42.608Z"
   },
   {
    "duration": 0,
    "start_time": "2022-11-10T01:41:42.609Z"
   },
   {
    "duration": 0,
    "start_time": "2022-11-10T01:41:42.611Z"
   },
   {
    "duration": 0,
    "start_time": "2022-11-10T01:41:42.612Z"
   },
   {
    "duration": 0,
    "start_time": "2022-11-10T01:41:42.614Z"
   },
   {
    "duration": 0,
    "start_time": "2022-11-10T01:41:42.615Z"
   },
   {
    "duration": 0,
    "start_time": "2022-11-10T01:41:42.617Z"
   },
   {
    "duration": 0,
    "start_time": "2022-11-10T01:41:42.618Z"
   },
   {
    "duration": 0,
    "start_time": "2022-11-10T01:41:42.619Z"
   },
   {
    "duration": 0,
    "start_time": "2022-11-10T01:41:42.620Z"
   },
   {
    "duration": 0,
    "start_time": "2022-11-10T01:41:42.621Z"
   },
   {
    "duration": 0,
    "start_time": "2022-11-10T01:41:42.622Z"
   },
   {
    "duration": 0,
    "start_time": "2022-11-10T01:41:42.678Z"
   },
   {
    "duration": 0,
    "start_time": "2022-11-10T01:41:42.679Z"
   },
   {
    "duration": 0,
    "start_time": "2022-11-10T01:41:42.681Z"
   },
   {
    "duration": 0,
    "start_time": "2022-11-10T01:41:42.682Z"
   },
   {
    "duration": 0,
    "start_time": "2022-11-10T01:41:42.683Z"
   },
   {
    "duration": 0,
    "start_time": "2022-11-10T01:41:42.685Z"
   },
   {
    "duration": 0,
    "start_time": "2022-11-10T01:41:42.686Z"
   },
   {
    "duration": 0,
    "start_time": "2022-11-10T01:41:42.688Z"
   },
   {
    "duration": 0,
    "start_time": "2022-11-10T01:41:42.689Z"
   },
   {
    "duration": 0,
    "start_time": "2022-11-10T01:41:42.691Z"
   },
   {
    "duration": 0,
    "start_time": "2022-11-10T01:41:42.692Z"
   },
   {
    "duration": 0,
    "start_time": "2022-11-10T01:41:42.693Z"
   },
   {
    "duration": 0,
    "start_time": "2022-11-10T01:41:42.695Z"
   },
   {
    "duration": 0,
    "start_time": "2022-11-10T01:41:42.696Z"
   },
   {
    "duration": 0,
    "start_time": "2022-11-10T01:41:42.697Z"
   },
   {
    "duration": 0,
    "start_time": "2022-11-10T01:41:42.698Z"
   },
   {
    "duration": 0,
    "start_time": "2022-11-10T01:41:42.700Z"
   },
   {
    "duration": 0,
    "start_time": "2022-11-10T01:41:42.701Z"
   },
   {
    "duration": 0,
    "start_time": "2022-11-10T01:41:42.703Z"
   },
   {
    "duration": 0,
    "start_time": "2022-11-10T01:41:42.704Z"
   },
   {
    "duration": 0,
    "start_time": "2022-11-10T01:41:42.705Z"
   },
   {
    "duration": 0,
    "start_time": "2022-11-10T01:41:42.706Z"
   },
   {
    "duration": 0,
    "start_time": "2022-11-10T01:41:42.706Z"
   },
   {
    "duration": 0,
    "start_time": "2022-11-10T01:41:42.707Z"
   },
   {
    "duration": 0,
    "start_time": "2022-11-10T01:41:42.708Z"
   },
   {
    "duration": 0,
    "start_time": "2022-11-10T01:41:42.709Z"
   },
   {
    "duration": 0,
    "start_time": "2022-11-10T01:41:42.710Z"
   },
   {
    "duration": 0,
    "start_time": "2022-11-10T01:41:42.711Z"
   },
   {
    "duration": 0,
    "start_time": "2022-11-10T01:41:42.712Z"
   },
   {
    "duration": 0,
    "start_time": "2022-11-10T01:41:42.713Z"
   },
   {
    "duration": 0,
    "start_time": "2022-11-10T01:41:42.713Z"
   },
   {
    "duration": 0,
    "start_time": "2022-11-10T01:41:42.714Z"
   },
   {
    "duration": 0,
    "start_time": "2022-11-10T01:41:42.715Z"
   },
   {
    "duration": 0,
    "start_time": "2022-11-10T01:41:42.716Z"
   },
   {
    "duration": 0,
    "start_time": "2022-11-10T01:41:42.778Z"
   },
   {
    "duration": 0,
    "start_time": "2022-11-10T01:41:42.779Z"
   },
   {
    "duration": 0,
    "start_time": "2022-11-10T01:41:42.780Z"
   },
   {
    "duration": 0,
    "start_time": "2022-11-10T01:41:42.781Z"
   },
   {
    "duration": 0,
    "start_time": "2022-11-10T01:41:42.782Z"
   },
   {
    "duration": 0,
    "start_time": "2022-11-10T01:41:42.783Z"
   },
   {
    "duration": 0,
    "start_time": "2022-11-10T01:41:42.785Z"
   },
   {
    "duration": 0,
    "start_time": "2022-11-10T01:41:42.785Z"
   },
   {
    "duration": 0,
    "start_time": "2022-11-10T01:41:42.786Z"
   },
   {
    "duration": 0,
    "start_time": "2022-11-10T01:41:42.787Z"
   },
   {
    "duration": 0,
    "start_time": "2022-11-10T01:41:42.788Z"
   },
   {
    "duration": 0,
    "start_time": "2022-11-10T01:41:42.789Z"
   },
   {
    "duration": 1,
    "start_time": "2022-11-10T01:41:42.789Z"
   },
   {
    "duration": 0,
    "start_time": "2022-11-10T01:41:42.790Z"
   },
   {
    "duration": 0,
    "start_time": "2022-11-10T01:41:42.791Z"
   },
   {
    "duration": 0,
    "start_time": "2022-11-10T01:41:42.792Z"
   },
   {
    "duration": 0,
    "start_time": "2022-11-10T01:41:42.793Z"
   },
   {
    "duration": 0,
    "start_time": "2022-11-10T01:41:42.794Z"
   },
   {
    "duration": 0,
    "start_time": "2022-11-10T01:41:42.795Z"
   },
   {
    "duration": 0,
    "start_time": "2022-11-10T01:41:42.796Z"
   },
   {
    "duration": 0,
    "start_time": "2022-11-10T01:41:42.797Z"
   },
   {
    "duration": 0,
    "start_time": "2022-11-10T01:41:42.798Z"
   },
   {
    "duration": 0,
    "start_time": "2022-11-10T01:41:42.799Z"
   },
   {
    "duration": 0,
    "start_time": "2022-11-10T01:41:42.800Z"
   },
   {
    "duration": 1,
    "start_time": "2022-11-10T01:41:42.800Z"
   },
   {
    "duration": 0,
    "start_time": "2022-11-10T01:41:42.802Z"
   },
   {
    "duration": 0,
    "start_time": "2022-11-10T01:41:42.802Z"
   },
   {
    "duration": 0,
    "start_time": "2022-11-10T01:41:42.803Z"
   },
   {
    "duration": 0,
    "start_time": "2022-11-10T01:41:42.804Z"
   },
   {
    "duration": 0,
    "start_time": "2022-11-10T01:41:42.805Z"
   },
   {
    "duration": 0,
    "start_time": "2022-11-10T01:41:42.806Z"
   },
   {
    "duration": 0,
    "start_time": "2022-11-10T01:41:42.807Z"
   },
   {
    "duration": 0,
    "start_time": "2022-11-10T01:41:42.808Z"
   },
   {
    "duration": 0,
    "start_time": "2022-11-10T01:41:42.808Z"
   },
   {
    "duration": 0,
    "start_time": "2022-11-10T01:41:42.809Z"
   },
   {
    "duration": 0,
    "start_time": "2022-11-10T01:41:42.810Z"
   },
   {
    "duration": 0,
    "start_time": "2022-11-10T01:41:42.811Z"
   },
   {
    "duration": 0,
    "start_time": "2022-11-10T01:41:42.812Z"
   },
   {
    "duration": 0,
    "start_time": "2022-11-10T01:41:42.813Z"
   },
   {
    "duration": 0,
    "start_time": "2022-11-10T01:41:42.814Z"
   },
   {
    "duration": 0,
    "start_time": "2022-11-10T01:41:42.877Z"
   },
   {
    "duration": 0,
    "start_time": "2022-11-10T01:41:42.879Z"
   },
   {
    "duration": 0,
    "start_time": "2022-11-10T01:41:42.880Z"
   },
   {
    "duration": 0,
    "start_time": "2022-11-10T01:41:42.880Z"
   },
   {
    "duration": 0,
    "start_time": "2022-11-10T01:41:42.881Z"
   },
   {
    "duration": 0,
    "start_time": "2022-11-10T01:41:42.882Z"
   },
   {
    "duration": 0,
    "start_time": "2022-11-10T01:41:42.883Z"
   },
   {
    "duration": 0,
    "start_time": "2022-11-10T01:41:42.884Z"
   },
   {
    "duration": 0,
    "start_time": "2022-11-10T01:41:42.885Z"
   },
   {
    "duration": 0,
    "start_time": "2022-11-10T01:41:42.886Z"
   },
   {
    "duration": 0,
    "start_time": "2022-11-10T01:41:42.887Z"
   },
   {
    "duration": 0,
    "start_time": "2022-11-10T01:41:42.888Z"
   },
   {
    "duration": 0,
    "start_time": "2022-11-10T01:41:42.888Z"
   },
   {
    "duration": 0,
    "start_time": "2022-11-10T01:41:42.889Z"
   },
   {
    "duration": 0,
    "start_time": "2022-11-10T01:41:42.890Z"
   },
   {
    "duration": 119,
    "start_time": "2022-11-10T01:43:03.876Z"
   },
   {
    "duration": 622,
    "start_time": "2022-11-10T01:43:39.569Z"
   },
   {
    "duration": 117,
    "start_time": "2022-11-10T01:43:40.193Z"
   },
   {
    "duration": 2440,
    "start_time": "2022-11-10T01:43:40.311Z"
   },
   {
    "duration": 8,
    "start_time": "2022-11-10T01:43:42.753Z"
   },
   {
    "duration": 16,
    "start_time": "2022-11-10T01:43:42.762Z"
   },
   {
    "duration": 204,
    "start_time": "2022-11-10T01:43:42.779Z"
   },
   {
    "duration": 6,
    "start_time": "2022-11-10T01:43:42.985Z"
   },
   {
    "duration": 7,
    "start_time": "2022-11-10T01:43:42.993Z"
   },
   {
    "duration": 5,
    "start_time": "2022-11-10T01:43:43.001Z"
   },
   {
    "duration": 5,
    "start_time": "2022-11-10T01:43:43.008Z"
   },
   {
    "duration": 8,
    "start_time": "2022-11-10T01:43:43.014Z"
   },
   {
    "duration": 2,
    "start_time": "2022-11-10T01:43:43.024Z"
   },
   {
    "duration": 12,
    "start_time": "2022-11-10T01:43:43.028Z"
   },
   {
    "duration": 38,
    "start_time": "2022-11-10T01:43:43.041Z"
   },
   {
    "duration": 3,
    "start_time": "2022-11-10T01:43:43.080Z"
   },
   {
    "duration": 11,
    "start_time": "2022-11-10T01:43:43.084Z"
   },
   {
    "duration": 5,
    "start_time": "2022-11-10T01:43:43.097Z"
   },
   {
    "duration": 10,
    "start_time": "2022-11-10T01:43:43.103Z"
   },
   {
    "duration": 3,
    "start_time": "2022-11-10T01:43:43.114Z"
   },
   {
    "duration": 33,
    "start_time": "2022-11-10T01:43:43.118Z"
   },
   {
    "duration": 26,
    "start_time": "2022-11-10T01:43:43.152Z"
   },
   {
    "duration": 3,
    "start_time": "2022-11-10T01:43:43.179Z"
   },
   {
    "duration": 12,
    "start_time": "2022-11-10T01:43:43.183Z"
   },
   {
    "duration": 6,
    "start_time": "2022-11-10T01:43:43.196Z"
   },
   {
    "duration": 10,
    "start_time": "2022-11-10T01:43:43.203Z"
   },
   {
    "duration": 2,
    "start_time": "2022-11-10T01:43:43.214Z"
   },
   {
    "duration": 9,
    "start_time": "2022-11-10T01:43:43.217Z"
   },
   {
    "duration": 3,
    "start_time": "2022-11-10T01:43:43.229Z"
   },
   {
    "duration": 5,
    "start_time": "2022-11-10T01:43:43.233Z"
   },
   {
    "duration": 8,
    "start_time": "2022-11-10T01:43:43.240Z"
   },
   {
    "duration": 3,
    "start_time": "2022-11-10T01:43:43.278Z"
   },
   {
    "duration": 8,
    "start_time": "2022-11-10T01:43:43.282Z"
   },
   {
    "duration": 11,
    "start_time": "2022-11-10T01:43:43.292Z"
   },
   {
    "duration": 3,
    "start_time": "2022-11-10T01:43:43.304Z"
   },
   {
    "duration": 8,
    "start_time": "2022-11-10T01:43:43.308Z"
   },
   {
    "duration": 2,
    "start_time": "2022-11-10T01:43:43.317Z"
   },
   {
    "duration": 139,
    "start_time": "2022-11-10T01:43:43.320Z"
   },
   {
    "duration": 19,
    "start_time": "2022-11-10T01:43:43.461Z"
   },
   {
    "duration": 17,
    "start_time": "2022-11-10T01:43:43.481Z"
   },
   {
    "duration": 5,
    "start_time": "2022-11-10T01:43:43.500Z"
   },
   {
    "duration": 16,
    "start_time": "2022-11-10T01:43:43.507Z"
   },
   {
    "duration": 14,
    "start_time": "2022-11-10T01:43:43.525Z"
   },
   {
    "duration": 9,
    "start_time": "2022-11-10T01:43:43.540Z"
   },
   {
    "duration": 60,
    "start_time": "2022-11-10T01:43:43.550Z"
   },
   {
    "duration": 3,
    "start_time": "2022-11-10T01:43:43.611Z"
   },
   {
    "duration": 12,
    "start_time": "2022-11-10T01:43:43.616Z"
   },
   {
    "duration": 61,
    "start_time": "2022-11-10T01:43:43.630Z"
   },
   {
    "duration": 21,
    "start_time": "2022-11-10T01:43:43.692Z"
   },
   {
    "duration": 6,
    "start_time": "2022-11-10T01:43:43.715Z"
   },
   {
    "duration": 296,
    "start_time": "2022-11-10T01:43:43.722Z"
   },
   {
    "duration": 352,
    "start_time": "2022-11-10T01:43:44.019Z"
   },
   {
    "duration": 16,
    "start_time": "2022-11-10T01:43:44.372Z"
   },
   {
    "duration": 4,
    "start_time": "2022-11-10T01:43:44.389Z"
   },
   {
    "duration": 10,
    "start_time": "2022-11-10T01:43:44.394Z"
   },
   {
    "duration": 5,
    "start_time": "2022-11-10T01:43:44.405Z"
   },
   {
    "duration": 5,
    "start_time": "2022-11-10T01:43:44.412Z"
   },
   {
    "duration": 12,
    "start_time": "2022-11-10T01:43:44.419Z"
   },
   {
    "duration": 6,
    "start_time": "2022-11-10T01:43:44.432Z"
   },
   {
    "duration": 7,
    "start_time": "2022-11-10T01:43:44.440Z"
   },
   {
    "duration": 30,
    "start_time": "2022-11-10T01:43:44.448Z"
   },
   {
    "duration": 22,
    "start_time": "2022-11-10T01:43:44.479Z"
   },
   {
    "duration": 4,
    "start_time": "2022-11-10T01:43:44.502Z"
   },
   {
    "duration": 15,
    "start_time": "2022-11-10T01:43:44.508Z"
   },
   {
    "duration": 4,
    "start_time": "2022-11-10T01:43:44.525Z"
   },
   {
    "duration": 5,
    "start_time": "2022-11-10T01:43:44.530Z"
   },
   {
    "duration": 9,
    "start_time": "2022-11-10T01:43:44.536Z"
   },
   {
    "duration": 273,
    "start_time": "2022-11-10T01:43:44.547Z"
   },
   {
    "duration": 9,
    "start_time": "2022-11-10T01:43:44.821Z"
   },
   {
    "duration": 362,
    "start_time": "2022-11-10T01:43:44.831Z"
   },
   {
    "duration": 7,
    "start_time": "2022-11-10T01:43:45.195Z"
   },
   {
    "duration": 197,
    "start_time": "2022-11-10T01:43:45.203Z"
   },
   {
    "duration": 8,
    "start_time": "2022-11-10T01:43:45.401Z"
   },
   {
    "duration": 376,
    "start_time": "2022-11-10T01:43:45.411Z"
   },
   {
    "duration": 214,
    "start_time": "2022-11-10T01:43:45.788Z"
   },
   {
    "duration": 223,
    "start_time": "2022-11-10T01:43:46.003Z"
   },
   {
    "duration": 251,
    "start_time": "2022-11-10T01:43:46.227Z"
   },
   {
    "duration": 7,
    "start_time": "2022-11-10T01:43:46.479Z"
   },
   {
    "duration": 137,
    "start_time": "2022-11-10T01:43:46.488Z"
   },
   {
    "duration": 340,
    "start_time": "2022-11-10T01:43:46.626Z"
   },
   {
    "duration": 254,
    "start_time": "2022-11-10T01:43:46.968Z"
   },
   {
    "duration": 352,
    "start_time": "2022-11-10T01:43:47.224Z"
   },
   {
    "duration": 264,
    "start_time": "2022-11-10T01:43:47.583Z"
   },
   {
    "duration": 168,
    "start_time": "2022-11-10T01:43:47.848Z"
   },
   {
    "duration": 11,
    "start_time": "2022-11-10T01:43:48.018Z"
   },
   {
    "duration": 148,
    "start_time": "2022-11-10T01:43:48.031Z"
   },
   {
    "duration": 155,
    "start_time": "2022-11-10T01:43:48.181Z"
   },
   {
    "duration": 266,
    "start_time": "2022-11-10T01:43:48.338Z"
   },
   {
    "duration": 12,
    "start_time": "2022-11-10T01:43:48.606Z"
   },
   {
    "duration": 9,
    "start_time": "2022-11-10T01:43:48.620Z"
   },
   {
    "duration": 138,
    "start_time": "2022-11-10T01:43:48.631Z"
   },
   {
    "duration": 153,
    "start_time": "2022-11-10T01:43:48.771Z"
   },
   {
    "duration": 140,
    "start_time": "2022-11-10T01:43:48.926Z"
   },
   {
    "duration": 315,
    "start_time": "2022-11-10T01:43:49.067Z"
   },
   {
    "duration": 9,
    "start_time": "2022-11-10T01:43:49.384Z"
   },
   {
    "duration": 140,
    "start_time": "2022-11-10T01:43:49.394Z"
   },
   {
    "duration": 45,
    "start_time": "2022-11-10T01:43:49.535Z"
   },
   {
    "duration": 3,
    "start_time": "2022-11-10T01:43:49.582Z"
   },
   {
    "duration": 46,
    "start_time": "2022-11-10T01:43:49.586Z"
   },
   {
    "duration": 22,
    "start_time": "2022-11-10T01:43:49.633Z"
   },
   {
    "duration": 517,
    "start_time": "2022-11-10T01:43:49.657Z"
   },
   {
    "duration": 690,
    "start_time": "2022-11-10T01:43:50.177Z"
   },
   {
    "duration": 154,
    "start_time": "2022-11-10T01:43:50.868Z"
   },
   {
    "duration": 136,
    "start_time": "2022-11-10T01:43:51.023Z"
   },
   {
    "duration": 129,
    "start_time": "2022-11-10T01:43:51.161Z"
   },
   {
    "duration": 173,
    "start_time": "2022-11-10T01:43:51.292Z"
   },
   {
    "duration": 135,
    "start_time": "2022-11-10T01:43:51.467Z"
   },
   {
    "duration": 353,
    "start_time": "2022-11-10T01:43:51.603Z"
   },
   {
    "duration": 33,
    "start_time": "2022-11-10T01:43:51.957Z"
   },
   {
    "duration": 21,
    "start_time": "2022-11-10T01:43:51.992Z"
   },
   {
    "duration": 272,
    "start_time": "2022-11-10T01:43:52.014Z"
   },
   {
    "duration": 8,
    "start_time": "2022-11-10T01:43:52.288Z"
   },
   {
    "duration": 195,
    "start_time": "2022-11-10T01:43:52.298Z"
   },
   {
    "duration": 7,
    "start_time": "2022-11-10T01:43:52.494Z"
   },
   {
    "duration": 147,
    "start_time": "2022-11-10T01:43:52.503Z"
   },
   {
    "duration": 236,
    "start_time": "2022-11-10T01:43:52.652Z"
   },
   {
    "duration": 248,
    "start_time": "2022-11-10T01:43:52.889Z"
   },
   {
    "duration": 235,
    "start_time": "2022-11-10T01:43:53.139Z"
   },
   {
    "duration": 554,
    "start_time": "2022-11-10T01:43:53.377Z"
   },
   {
    "duration": 4790,
    "start_time": "2022-11-10T01:43:53.932Z"
   },
   {
    "duration": 766,
    "start_time": "2022-11-10T01:43:58.723Z"
   },
   {
    "duration": 1329,
    "start_time": "2022-11-10T01:43:59.491Z"
   },
   {
    "duration": 17,
    "start_time": "2022-11-10T02:01:43.094Z"
   },
   {
    "duration": 70,
    "start_time": "2022-11-10T02:02:39.511Z"
   },
   {
    "duration": 76,
    "start_time": "2022-11-10T02:02:51.970Z"
   },
   {
    "duration": 119,
    "start_time": "2022-11-10T02:02:59.987Z"
   },
   {
    "duration": 94,
    "start_time": "2022-11-10T02:03:19.592Z"
   },
   {
    "duration": 76,
    "start_time": "2022-11-10T02:03:24.674Z"
   },
   {
    "duration": 79,
    "start_time": "2022-11-10T02:04:17.458Z"
   },
   {
    "duration": 79,
    "start_time": "2022-11-10T02:04:56.797Z"
   },
   {
    "duration": 86,
    "start_time": "2022-11-10T02:05:00.462Z"
   },
   {
    "duration": 4,
    "start_time": "2022-11-10T02:05:11.217Z"
   },
   {
    "duration": 100,
    "start_time": "2022-11-10T02:05:14.717Z"
   },
   {
    "duration": 19,
    "start_time": "2022-11-10T02:07:44.520Z"
   },
   {
    "duration": 21,
    "start_time": "2022-11-10T02:07:57.856Z"
   },
   {
    "duration": 20,
    "start_time": "2022-11-10T02:08:22.476Z"
   },
   {
    "duration": 275,
    "start_time": "2022-11-10T02:09:46.729Z"
   },
   {
    "duration": 160,
    "start_time": "2022-11-10T02:09:57.047Z"
   },
   {
    "duration": 170,
    "start_time": "2022-11-10T02:10:43.056Z"
   },
   {
    "duration": 168,
    "start_time": "2022-11-10T02:10:48.836Z"
   },
   {
    "duration": 154,
    "start_time": "2022-11-10T02:11:04.979Z"
   },
   {
    "duration": 203,
    "start_time": "2022-11-10T02:14:24.756Z"
   },
   {
    "duration": 299,
    "start_time": "2022-11-10T02:14:35.619Z"
   },
   {
    "duration": 261,
    "start_time": "2022-11-10T02:20:06.737Z"
   },
   {
    "duration": 39,
    "start_time": "2022-11-10T02:24:49.720Z"
   },
   {
    "duration": 14,
    "start_time": "2022-11-10T02:25:17.305Z"
   },
   {
    "duration": 14,
    "start_time": "2022-11-10T02:26:15.401Z"
   },
   {
    "duration": 14,
    "start_time": "2022-11-10T02:26:23.427Z"
   },
   {
    "duration": 628,
    "start_time": "2022-11-10T02:29:34.977Z"
   },
   {
    "duration": 129,
    "start_time": "2022-11-10T02:29:35.607Z"
   },
   {
    "duration": 1647,
    "start_time": "2022-11-10T02:29:35.738Z"
   },
   {
    "duration": 9,
    "start_time": "2022-11-10T02:29:37.387Z"
   },
   {
    "duration": 4,
    "start_time": "2022-11-10T02:29:37.397Z"
   },
   {
    "duration": 204,
    "start_time": "2022-11-10T02:29:37.402Z"
   },
   {
    "duration": 7,
    "start_time": "2022-11-10T02:29:37.608Z"
   },
   {
    "duration": 8,
    "start_time": "2022-11-10T02:29:37.616Z"
   },
   {
    "duration": 6,
    "start_time": "2022-11-10T02:29:37.625Z"
   },
   {
    "duration": 6,
    "start_time": "2022-11-10T02:29:37.632Z"
   },
   {
    "duration": 8,
    "start_time": "2022-11-10T02:29:37.639Z"
   },
   {
    "duration": 3,
    "start_time": "2022-11-10T02:29:37.648Z"
   },
   {
    "duration": 13,
    "start_time": "2022-11-10T02:29:37.677Z"
   },
   {
    "duration": 8,
    "start_time": "2022-11-10T02:29:37.692Z"
   },
   {
    "duration": 3,
    "start_time": "2022-11-10T02:29:37.701Z"
   },
   {
    "duration": 7,
    "start_time": "2022-11-10T02:29:37.705Z"
   },
   {
    "duration": 6,
    "start_time": "2022-11-10T02:29:37.713Z"
   },
   {
    "duration": 12,
    "start_time": "2022-11-10T02:29:37.720Z"
   },
   {
    "duration": 4,
    "start_time": "2022-11-10T02:29:37.733Z"
   },
   {
    "duration": 55,
    "start_time": "2022-11-10T02:29:37.738Z"
   },
   {
    "duration": 7,
    "start_time": "2022-11-10T02:29:37.795Z"
   },
   {
    "duration": 4,
    "start_time": "2022-11-10T02:29:37.803Z"
   },
   {
    "duration": 10,
    "start_time": "2022-11-10T02:29:37.809Z"
   },
   {
    "duration": 6,
    "start_time": "2022-11-10T02:29:37.820Z"
   },
   {
    "duration": 8,
    "start_time": "2022-11-10T02:29:37.828Z"
   },
   {
    "duration": 2,
    "start_time": "2022-11-10T02:29:37.838Z"
   },
   {
    "duration": 9,
    "start_time": "2022-11-10T02:29:37.841Z"
   },
   {
    "duration": 3,
    "start_time": "2022-11-10T02:29:37.878Z"
   },
   {
    "duration": 5,
    "start_time": "2022-11-10T02:29:37.882Z"
   },
   {
    "duration": 9,
    "start_time": "2022-11-10T02:29:37.889Z"
   },
   {
    "duration": 2,
    "start_time": "2022-11-10T02:29:37.899Z"
   },
   {
    "duration": 7,
    "start_time": "2022-11-10T02:29:37.902Z"
   },
   {
    "duration": 10,
    "start_time": "2022-11-10T02:29:37.910Z"
   },
   {
    "duration": 3,
    "start_time": "2022-11-10T02:29:37.921Z"
   },
   {
    "duration": 8,
    "start_time": "2022-11-10T02:29:37.925Z"
   },
   {
    "duration": 3,
    "start_time": "2022-11-10T02:29:37.934Z"
   },
   {
    "duration": 150,
    "start_time": "2022-11-10T02:29:37.938Z"
   },
   {
    "duration": 13,
    "start_time": "2022-11-10T02:29:38.090Z"
   },
   {
    "duration": 19,
    "start_time": "2022-11-10T02:29:38.104Z"
   },
   {
    "duration": 7,
    "start_time": "2022-11-10T02:29:38.125Z"
   },
   {
    "duration": 15,
    "start_time": "2022-11-10T02:29:38.137Z"
   },
   {
    "duration": 15,
    "start_time": "2022-11-10T02:29:38.178Z"
   },
   {
    "duration": 9,
    "start_time": "2022-11-10T02:29:38.194Z"
   },
   {
    "duration": 34,
    "start_time": "2022-11-10T02:29:38.205Z"
   },
   {
    "duration": 3,
    "start_time": "2022-11-10T02:29:38.241Z"
   },
   {
    "duration": 33,
    "start_time": "2022-11-10T02:29:38.245Z"
   },
   {
    "duration": 48,
    "start_time": "2022-11-10T02:29:38.279Z"
   },
   {
    "duration": 19,
    "start_time": "2022-11-10T02:29:38.328Z"
   },
   {
    "duration": 34,
    "start_time": "2022-11-10T02:29:38.348Z"
   },
   {
    "duration": 178,
    "start_time": "2022-11-10T02:29:38.384Z"
   },
   {
    "duration": 14,
    "start_time": "2022-11-10T02:29:38.564Z"
   },
   {
    "duration": 248,
    "start_time": "2022-11-10T02:29:38.580Z"
   },
   {
    "duration": 364,
    "start_time": "2022-11-10T02:29:38.831Z"
   },
   {
    "duration": 13,
    "start_time": "2022-11-10T02:29:39.197Z"
   },
   {
    "duration": 4,
    "start_time": "2022-11-10T02:29:39.211Z"
   },
   {
    "duration": 8,
    "start_time": "2022-11-10T02:29:39.216Z"
   },
   {
    "duration": 8,
    "start_time": "2022-11-10T02:29:39.225Z"
   },
   {
    "duration": 4,
    "start_time": "2022-11-10T02:29:39.234Z"
   },
   {
    "duration": 11,
    "start_time": "2022-11-10T02:29:39.240Z"
   },
   {
    "duration": 30,
    "start_time": "2022-11-10T02:29:39.252Z"
   },
   {
    "duration": 7,
    "start_time": "2022-11-10T02:29:39.284Z"
   },
   {
    "duration": 192,
    "start_time": "2022-11-10T02:29:39.293Z"
   },
   {
    "duration": 3,
    "start_time": "2022-11-10T02:29:39.487Z"
   },
   {
    "duration": 23,
    "start_time": "2022-11-10T02:29:39.491Z"
   },
   {
    "duration": 4,
    "start_time": "2022-11-10T02:29:39.516Z"
   },
   {
    "duration": 11,
    "start_time": "2022-11-10T02:29:39.521Z"
   },
   {
    "duration": 4,
    "start_time": "2022-11-10T02:29:39.533Z"
   },
   {
    "duration": 6,
    "start_time": "2022-11-10T02:29:39.539Z"
   },
   {
    "duration": 31,
    "start_time": "2022-11-10T02:29:39.547Z"
   },
   {
    "duration": 267,
    "start_time": "2022-11-10T02:29:39.579Z"
   },
   {
    "duration": 8,
    "start_time": "2022-11-10T02:29:39.847Z"
   },
   {
    "duration": 357,
    "start_time": "2022-11-10T02:29:39.856Z"
   },
   {
    "duration": 8,
    "start_time": "2022-11-10T02:29:40.214Z"
   },
   {
    "duration": 198,
    "start_time": "2022-11-10T02:29:40.224Z"
   },
   {
    "duration": 9,
    "start_time": "2022-11-10T02:29:40.423Z"
   },
   {
    "duration": 444,
    "start_time": "2022-11-10T02:29:40.433Z"
   },
   {
    "duration": 147,
    "start_time": "2022-11-10T02:29:40.879Z"
   },
   {
    "duration": 233,
    "start_time": "2022-11-10T02:29:41.028Z"
   },
   {
    "duration": 260,
    "start_time": "2022-11-10T02:29:41.262Z"
   },
   {
    "duration": 6,
    "start_time": "2022-11-10T02:29:41.524Z"
   },
   {
    "duration": 141,
    "start_time": "2022-11-10T02:29:41.531Z"
   },
   {
    "duration": 338,
    "start_time": "2022-11-10T02:29:41.673Z"
   },
   {
    "duration": 342,
    "start_time": "2022-11-10T02:29:42.012Z"
   },
   {
    "duration": 264,
    "start_time": "2022-11-10T02:29:42.355Z"
   },
   {
    "duration": 260,
    "start_time": "2022-11-10T02:29:42.620Z"
   },
   {
    "duration": 148,
    "start_time": "2022-11-10T02:29:42.882Z"
   },
   {
    "duration": 12,
    "start_time": "2022-11-10T02:29:43.032Z"
   },
   {
    "duration": 151,
    "start_time": "2022-11-10T02:29:43.045Z"
   },
   {
    "duration": 151,
    "start_time": "2022-11-10T02:29:43.197Z"
   },
   {
    "duration": 266,
    "start_time": "2022-11-10T02:29:43.349Z"
   },
   {
    "duration": 13,
    "start_time": "2022-11-10T02:29:43.617Z"
   },
   {
    "duration": 10,
    "start_time": "2022-11-10T02:29:43.632Z"
   },
   {
    "duration": 236,
    "start_time": "2022-11-10T02:29:43.643Z"
   },
   {
    "duration": 156,
    "start_time": "2022-11-10T02:29:43.881Z"
   },
   {
    "duration": 142,
    "start_time": "2022-11-10T02:29:44.038Z"
   },
   {
    "duration": 222,
    "start_time": "2022-11-10T02:29:44.182Z"
   },
   {
    "duration": 8,
    "start_time": "2022-11-10T02:29:44.406Z"
   },
   {
    "duration": 132,
    "start_time": "2022-11-10T02:29:44.415Z"
   },
   {
    "duration": 262,
    "start_time": "2022-11-10T02:29:44.549Z"
   },
   {
    "duration": 39,
    "start_time": "2022-11-10T02:29:44.813Z"
   },
   {
    "duration": 3,
    "start_time": "2022-11-10T02:29:44.853Z"
   },
   {
    "duration": 50,
    "start_time": "2022-11-10T02:29:44.858Z"
   },
   {
    "duration": 21,
    "start_time": "2022-11-10T02:29:44.910Z"
   },
   {
    "duration": 516,
    "start_time": "2022-11-10T02:29:44.933Z"
   },
   {
    "duration": 712,
    "start_time": "2022-11-10T02:29:45.450Z"
   },
   {
    "duration": 217,
    "start_time": "2022-11-10T02:29:46.163Z"
   },
   {
    "duration": 123,
    "start_time": "2022-11-10T02:29:46.382Z"
   },
   {
    "duration": 128,
    "start_time": "2022-11-10T02:29:46.506Z"
   },
   {
    "duration": 166,
    "start_time": "2022-11-10T02:29:46.635Z"
   },
   {
    "duration": 137,
    "start_time": "2022-11-10T02:29:46.803Z"
   },
   {
    "duration": 260,
    "start_time": "2022-11-10T02:29:46.941Z"
   },
   {
    "duration": 25,
    "start_time": "2022-11-10T02:29:47.202Z"
   },
   {
    "duration": 20,
    "start_time": "2022-11-10T02:29:47.228Z"
   },
   {
    "duration": 167,
    "start_time": "2022-11-10T02:29:47.250Z"
   },
   {
    "duration": 7,
    "start_time": "2022-11-10T02:29:47.419Z"
   },
   {
    "duration": 126,
    "start_time": "2022-11-10T02:29:47.427Z"
   },
   {
    "duration": 6,
    "start_time": "2022-11-10T02:29:47.555Z"
   },
   {
    "duration": 141,
    "start_time": "2022-11-10T02:29:47.562Z"
   },
   {
    "duration": 214,
    "start_time": "2022-11-10T02:29:47.705Z"
   },
   {
    "duration": 304,
    "start_time": "2022-11-10T02:29:47.920Z"
   },
   {
    "duration": 207,
    "start_time": "2022-11-10T02:29:48.226Z"
   },
   {
    "duration": 14,
    "start_time": "2022-11-10T02:29:48.438Z"
   },
   {
    "duration": 440,
    "start_time": "2022-11-10T02:29:48.453Z"
   },
   {
    "duration": 2997,
    "start_time": "2022-11-10T02:29:48.895Z"
   },
   {
    "duration": 522,
    "start_time": "2022-11-10T02:29:51.894Z"
   },
   {
    "duration": 966,
    "start_time": "2022-11-10T02:29:52.418Z"
   },
   {
    "duration": 49,
    "start_time": "2022-11-10T05:57:25.484Z"
   },
   {
    "duration": 810,
    "start_time": "2022-11-10T05:57:40.304Z"
   },
   {
    "duration": 353,
    "start_time": "2022-11-10T05:57:41.116Z"
   },
   {
    "duration": 1844,
    "start_time": "2022-11-10T05:57:41.470Z"
   },
   {
    "duration": 9,
    "start_time": "2022-11-10T05:57:43.317Z"
   },
   {
    "duration": 5,
    "start_time": "2022-11-10T05:57:43.327Z"
   },
   {
    "duration": 218,
    "start_time": "2022-11-10T05:57:43.333Z"
   },
   {
    "duration": 7,
    "start_time": "2022-11-10T05:57:43.552Z"
   },
   {
    "duration": 8,
    "start_time": "2022-11-10T05:57:43.561Z"
   },
   {
    "duration": 6,
    "start_time": "2022-11-10T05:57:43.570Z"
   },
   {
    "duration": 3,
    "start_time": "2022-11-10T05:57:43.578Z"
   },
   {
    "duration": 9,
    "start_time": "2022-11-10T05:57:43.582Z"
   },
   {
    "duration": 2,
    "start_time": "2022-11-10T05:57:43.593Z"
   },
   {
    "duration": 47,
    "start_time": "2022-11-10T05:57:43.597Z"
   },
   {
    "duration": 9,
    "start_time": "2022-11-10T05:57:43.645Z"
   },
   {
    "duration": 3,
    "start_time": "2022-11-10T05:57:43.655Z"
   },
   {
    "duration": 8,
    "start_time": "2022-11-10T05:57:43.659Z"
   },
   {
    "duration": 7,
    "start_time": "2022-11-10T05:57:43.668Z"
   },
   {
    "duration": 22,
    "start_time": "2022-11-10T05:57:43.676Z"
   },
   {
    "duration": 4,
    "start_time": "2022-11-10T05:57:43.700Z"
   },
   {
    "duration": 57,
    "start_time": "2022-11-10T05:57:43.706Z"
   },
   {
    "duration": 9,
    "start_time": "2022-11-10T05:57:43.764Z"
   },
   {
    "duration": 7,
    "start_time": "2022-11-10T05:57:43.774Z"
   },
   {
    "duration": 16,
    "start_time": "2022-11-10T05:57:43.783Z"
   },
   {
    "duration": 10,
    "start_time": "2022-11-10T05:57:43.801Z"
   },
   {
    "duration": 22,
    "start_time": "2022-11-10T05:57:43.813Z"
   },
   {
    "duration": 4,
    "start_time": "2022-11-10T05:57:43.837Z"
   },
   {
    "duration": 13,
    "start_time": "2022-11-10T05:57:43.843Z"
   },
   {
    "duration": 4,
    "start_time": "2022-11-10T05:57:43.861Z"
   },
   {
    "duration": 9,
    "start_time": "2022-11-10T05:57:43.867Z"
   },
   {
    "duration": 25,
    "start_time": "2022-11-10T05:57:43.878Z"
   },
   {
    "duration": 7,
    "start_time": "2022-11-10T05:57:43.904Z"
   },
   {
    "duration": 19,
    "start_time": "2022-11-10T05:57:43.912Z"
   },
   {
    "duration": 11,
    "start_time": "2022-11-10T05:57:43.933Z"
   },
   {
    "duration": 5,
    "start_time": "2022-11-10T05:57:43.946Z"
   },
   {
    "duration": 9,
    "start_time": "2022-11-10T05:57:43.952Z"
   },
   {
    "duration": 3,
    "start_time": "2022-11-10T05:57:43.963Z"
   },
   {
    "duration": 164,
    "start_time": "2022-11-10T05:57:43.967Z"
   },
   {
    "duration": 13,
    "start_time": "2022-11-10T05:57:44.133Z"
   },
   {
    "duration": 18,
    "start_time": "2022-11-10T05:57:44.147Z"
   },
   {
    "duration": 8,
    "start_time": "2022-11-10T05:57:44.166Z"
   },
   {
    "duration": 18,
    "start_time": "2022-11-10T05:57:44.175Z"
   },
   {
    "duration": 39,
    "start_time": "2022-11-10T05:57:44.195Z"
   },
   {
    "duration": 9,
    "start_time": "2022-11-10T05:57:44.236Z"
   },
   {
    "duration": 34,
    "start_time": "2022-11-10T05:57:44.246Z"
   },
   {
    "duration": 3,
    "start_time": "2022-11-10T05:57:44.282Z"
   },
   {
    "duration": 18,
    "start_time": "2022-11-10T05:57:44.286Z"
   },
   {
    "duration": 63,
    "start_time": "2022-11-10T05:57:44.306Z"
   },
   {
    "duration": 19,
    "start_time": "2022-11-10T05:57:44.371Z"
   },
   {
    "duration": 14,
    "start_time": "2022-11-10T05:57:44.392Z"
   },
   {
    "duration": 202,
    "start_time": "2022-11-10T05:57:44.408Z"
   },
   {
    "duration": 7,
    "start_time": "2022-11-10T05:57:44.612Z"
   },
   {
    "duration": 428,
    "start_time": "2022-11-10T05:57:44.629Z"
   },
   {
    "duration": 319,
    "start_time": "2022-11-10T05:57:45.060Z"
   },
   {
    "duration": 14,
    "start_time": "2022-11-10T05:57:45.381Z"
   },
   {
    "duration": 4,
    "start_time": "2022-11-10T05:57:45.397Z"
   },
   {
    "duration": 8,
    "start_time": "2022-11-10T05:57:45.402Z"
   },
   {
    "duration": 5,
    "start_time": "2022-11-10T05:57:45.429Z"
   },
   {
    "duration": 5,
    "start_time": "2022-11-10T05:57:45.436Z"
   },
   {
    "duration": 16,
    "start_time": "2022-11-10T05:57:45.443Z"
   },
   {
    "duration": 7,
    "start_time": "2022-11-10T05:57:45.460Z"
   },
   {
    "duration": 7,
    "start_time": "2022-11-10T05:57:45.469Z"
   },
   {
    "duration": 237,
    "start_time": "2022-11-10T05:57:45.477Z"
   },
   {
    "duration": 3,
    "start_time": "2022-11-10T05:57:45.715Z"
   },
   {
    "duration": 29,
    "start_time": "2022-11-10T05:57:45.720Z"
   },
   {
    "duration": 5,
    "start_time": "2022-11-10T05:57:45.750Z"
   },
   {
    "duration": 11,
    "start_time": "2022-11-10T05:57:45.756Z"
   },
   {
    "duration": 5,
    "start_time": "2022-11-10T05:57:45.768Z"
   },
   {
    "duration": 5,
    "start_time": "2022-11-10T05:57:45.774Z"
   },
   {
    "duration": 13,
    "start_time": "2022-11-10T05:57:45.781Z"
   },
   {
    "duration": 301,
    "start_time": "2022-11-10T05:57:45.796Z"
   },
   {
    "duration": 8,
    "start_time": "2022-11-10T05:57:46.099Z"
   },
   {
    "duration": 479,
    "start_time": "2022-11-10T05:57:46.108Z"
   },
   {
    "duration": 9,
    "start_time": "2022-11-10T05:57:46.589Z"
   },
   {
    "duration": 236,
    "start_time": "2022-11-10T05:57:46.599Z"
   },
   {
    "duration": 9,
    "start_time": "2022-11-10T05:57:46.837Z"
   },
   {
    "duration": 432,
    "start_time": "2022-11-10T05:57:46.848Z"
   },
   {
    "duration": 156,
    "start_time": "2022-11-10T05:57:47.282Z"
   },
   {
    "duration": 260,
    "start_time": "2022-11-10T05:57:47.440Z"
   },
   {
    "duration": 298,
    "start_time": "2022-11-10T05:57:47.702Z"
   },
   {
    "duration": 8,
    "start_time": "2022-11-10T05:57:48.002Z"
   },
   {
    "duration": 239,
    "start_time": "2022-11-10T05:57:48.011Z"
   },
   {
    "duration": 390,
    "start_time": "2022-11-10T05:57:48.255Z"
   },
   {
    "duration": 324,
    "start_time": "2022-11-10T05:57:48.648Z"
   },
   {
    "duration": 359,
    "start_time": "2022-11-10T05:57:48.974Z"
   },
   {
    "duration": 291,
    "start_time": "2022-11-10T05:57:49.335Z"
   },
   {
    "duration": 165,
    "start_time": "2022-11-10T05:57:49.629Z"
   },
   {
    "duration": 12,
    "start_time": "2022-11-10T05:57:49.795Z"
   },
   {
    "duration": 171,
    "start_time": "2022-11-10T05:57:49.808Z"
   },
   {
    "duration": 278,
    "start_time": "2022-11-10T05:57:49.980Z"
   },
   {
    "duration": 297,
    "start_time": "2022-11-10T05:57:50.259Z"
   },
   {
    "duration": 12,
    "start_time": "2022-11-10T05:57:50.557Z"
   },
   {
    "duration": 11,
    "start_time": "2022-11-10T05:57:50.570Z"
   },
   {
    "duration": 151,
    "start_time": "2022-11-10T05:57:50.583Z"
   },
   {
    "duration": 161,
    "start_time": "2022-11-10T05:57:50.736Z"
   },
   {
    "duration": 154,
    "start_time": "2022-11-10T05:57:50.898Z"
   },
   {
    "duration": 231,
    "start_time": "2022-11-10T05:57:51.054Z"
   },
   {
    "duration": 8,
    "start_time": "2022-11-10T05:57:51.286Z"
   },
   {
    "duration": 153,
    "start_time": "2022-11-10T05:57:51.296Z"
   },
   {
    "duration": 273,
    "start_time": "2022-11-10T05:57:51.450Z"
   },
   {
    "duration": 37,
    "start_time": "2022-11-10T05:57:51.729Z"
   },
   {
    "duration": 3,
    "start_time": "2022-11-10T05:57:51.767Z"
   },
   {
    "duration": 47,
    "start_time": "2022-11-10T05:57:51.771Z"
   },
   {
    "duration": 22,
    "start_time": "2022-11-10T05:57:51.829Z"
   },
   {
    "duration": 642,
    "start_time": "2022-11-10T05:57:51.853Z"
   },
   {
    "duration": 786,
    "start_time": "2022-11-10T05:57:52.497Z"
   },
   {
    "duration": 158,
    "start_time": "2022-11-10T05:57:53.285Z"
   },
   {
    "duration": 154,
    "start_time": "2022-11-10T05:57:53.445Z"
   },
   {
    "duration": 136,
    "start_time": "2022-11-10T05:57:53.600Z"
   },
   {
    "duration": 207,
    "start_time": "2022-11-10T05:57:53.738Z"
   },
   {
    "duration": 156,
    "start_time": "2022-11-10T05:57:53.947Z"
   },
   {
    "duration": 270,
    "start_time": "2022-11-10T05:57:54.104Z"
   },
   {
    "duration": 23,
    "start_time": "2022-11-10T05:57:54.376Z"
   },
   {
    "duration": 35,
    "start_time": "2022-11-10T05:57:54.401Z"
   },
   {
    "duration": 160,
    "start_time": "2022-11-10T05:57:54.438Z"
   },
   {
    "duration": 7,
    "start_time": "2022-11-10T05:57:54.599Z"
   },
   {
    "duration": 209,
    "start_time": "2022-11-10T05:57:54.607Z"
   },
   {
    "duration": 11,
    "start_time": "2022-11-10T05:57:54.819Z"
   },
   {
    "duration": 206,
    "start_time": "2022-11-10T05:57:54.832Z"
   },
   {
    "duration": 237,
    "start_time": "2022-11-10T05:57:55.040Z"
   },
   {
    "duration": 262,
    "start_time": "2022-11-10T05:57:55.278Z"
   },
   {
    "duration": 238,
    "start_time": "2022-11-10T05:57:55.542Z"
   },
   {
    "duration": 16,
    "start_time": "2022-11-10T05:57:55.782Z"
   },
   {
    "duration": 544,
    "start_time": "2022-11-10T05:57:55.800Z"
   },
   {
    "duration": 3344,
    "start_time": "2022-11-10T05:57:56.345Z"
   },
   {
    "duration": 412,
    "start_time": "2022-11-10T05:57:59.691Z"
   },
   {
    "duration": 962,
    "start_time": "2022-11-10T05:58:00.104Z"
   },
   {
    "duration": 165,
    "start_time": "2022-11-10T05:58:45.836Z"
   },
   {
    "duration": 164,
    "start_time": "2022-11-10T05:58:55.946Z"
   },
   {
    "duration": 216,
    "start_time": "2022-11-10T06:00:49.669Z"
   },
   {
    "duration": 236,
    "start_time": "2022-11-10T06:00:59.540Z"
   },
   {
    "duration": 319,
    "start_time": "2022-11-10T06:01:19.304Z"
   },
   {
    "duration": 210,
    "start_time": "2022-11-10T06:01:39.529Z"
   },
   {
    "duration": 209,
    "start_time": "2022-11-10T06:02:19.710Z"
   },
   {
    "duration": 210,
    "start_time": "2022-11-10T06:02:26.864Z"
   },
   {
    "duration": 225,
    "start_time": "2022-11-10T06:02:33.797Z"
   },
   {
    "duration": 158,
    "start_time": "2022-11-10T06:02:37.534Z"
   },
   {
    "duration": 121,
    "start_time": "2022-11-10T06:02:43.181Z"
   },
   {
    "duration": 137,
    "start_time": "2022-11-10T06:02:52.635Z"
   },
   {
    "duration": 142,
    "start_time": "2022-11-10T06:03:00.226Z"
   },
   {
    "duration": 134,
    "start_time": "2022-11-10T06:03:16.446Z"
   },
   {
    "duration": 154,
    "start_time": "2022-11-10T06:03:21.018Z"
   },
   {
    "duration": 248,
    "start_time": "2022-11-10T06:03:27.447Z"
   },
   {
    "duration": 175,
    "start_time": "2022-11-10T06:03:44.922Z"
   },
   {
    "duration": 146,
    "start_time": "2022-11-10T06:03:55.641Z"
   },
   {
    "duration": 143,
    "start_time": "2022-11-10T06:04:01.364Z"
   },
   {
    "duration": 152,
    "start_time": "2022-11-10T06:09:04.884Z"
   },
   {
    "duration": 397,
    "start_time": "2022-11-10T06:14:05.165Z"
   },
   {
    "duration": 366,
    "start_time": "2022-11-10T06:14:12.344Z"
   },
   {
    "duration": 385,
    "start_time": "2022-11-10T06:14:17.300Z"
   },
   {
    "duration": 456,
    "start_time": "2022-11-10T06:14:29.131Z"
   },
   {
    "duration": 362,
    "start_time": "2022-11-10T06:14:37.378Z"
   },
   {
    "duration": 445,
    "start_time": "2022-11-10T06:15:34.805Z"
   }
  ],
  "kernelspec": {
   "display_name": "Python 3 (ipykernel)",
   "language": "python",
   "name": "python3"
  },
  "language_info": {
   "codemirror_mode": {
    "name": "ipython",
    "version": 3
   },
   "file_extension": ".py",
   "mimetype": "text/x-python",
   "name": "python",
   "nbconvert_exporter": "python",
   "pygments_lexer": "ipython3",
   "version": "3.9.12"
  },
  "toc": {
   "base_numbering": 1,
   "nav_menu": {},
   "number_sections": true,
   "sideBar": true,
   "skip_h1_title": true,
   "title_cell": "Table of Contents",
   "title_sidebar": "Contents",
   "toc_cell": false,
   "toc_position": {
    "height": "calc(100% - 180px)",
    "left": "10px",
    "top": "150px",
    "width": "279.375px"
   },
   "toc_section_display": true,
   "toc_window_display": true
  }
 },
 "nbformat": 4,
 "nbformat_minor": 2
}
