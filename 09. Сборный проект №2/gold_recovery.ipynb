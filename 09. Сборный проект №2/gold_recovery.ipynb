{
 "cells": [
  {
   "cell_type": "markdown",
   "metadata": {},
   "source": [
    "# Восстановление золота из руды"
   ]
  },
  {
   "cell_type": "markdown",
   "metadata": {},
   "source": [
    "# Введение"
   ]
  },
  {
   "cell_type": "markdown",
   "metadata": {},
   "source": [
    "### Описание проекта \n",
    "Проект нацелен на подготовку прототипа модели машинного обучения для компании «Цифры», которая разрабатывает решения для эффективной работы промышленных предприятий. Модель поможет оптимизировать производство, чтобы не запускать предприятие с убыточными характеристиками.\n",
    "### Цель проекта\n",
    "Используя данные с параметрами добычи и очистки, создать модель предсказания коэффициента восстановления золота из золотосодержащей руды.\n",
    "### Описание данных\n",
    "**Нам предоставлены сырые данные, выгруженные из хранилища.**   \n",
    "\n",
    "\n",
    "Данные находятся в трёх файлах:\n",
    " - gold_recovery_train_new.csv — обучающая выборка;\n",
    " - gold_recovery_test_new.csv — тестовая выборка;\n",
    " - gold_recovery_full_new.csv — исходные данные.  \n",
    "\n",
    "**Признаки:**\n",
    "\n",
    "Технологический процесс:\n",
    "- Rougher feed — исходное сырье\n",
    "- Rougher additions (или reagent additions) — флотационные реагенты: Xanthate, Sulphate, Depressant\n",
    "  - Xanthate — ксантогенат (промотер, или активатор флотации);\n",
    "  - Sulphate — сульфат (на данном производстве сульфид натрия);\n",
    "  - Depressant — депрессант (силикат натрия).\n",
    "- Rougher process (англ. «грубый процесс») — флотация\n",
    "- Rougher tails — отвальные хвосты\n",
    "- Float banks — флотационная установка\n",
    "- Cleaner process — очистка\n",
    "- Rougher Au — черновой концентрат золота\n",
    "- Final Au — финальный концентрат золота\n",
    "Параметры этапов:\n",
    "- air amount — объём воздуха\n",
    "- fluid levels — уровень жидкости\n",
    "- feed size — размер гранул сырья\n",
    "- feed rate — скорость подачи\n",
    "\n",
    "\n",
    "**Целевые признаки:**\n",
    " - rougher.output.recovery - эффективность обогащения чернового концентрата\n",
    " - final.output.recovery - эффективность обогащения финального концентрата \n",
    "\n",
    "**Метрикой качества является sMAPE (англ. Symmetric Mean Absolute Percentage Error, «симметричное среднее абсолютное процентное отклонение»).**\n",
    "\n",
    "**Итоговая метрика рассчитывается по формуле:**\n",
    "\n",
    "итоговое sMAPE = 25% * sMAPE(rougher) + 75% * sMAPE(final)\n",
    "\n",
    "### План работы\n",
    "1. [Загрузка и подготовка данных](#section_1)\n",
    "2. [Исследовательский анализ данных](#section_2)  \n",
    "3. [Создание модели](#section_3)  \n",
    "4. [Общий вывод](#section_4)"
   ]
  },
  {
   "cell_type": "markdown",
   "metadata": {},
   "source": [
    "<a id='section_1'></a>\n",
    "## Загрузка и подготовка данных"
   ]
  },
  {
   "cell_type": "markdown",
   "metadata": {},
   "source": [
    "Произведём загрузку необходимых библиотек."
   ]
  },
  {
   "cell_type": "code",
   "execution_count": 1,
   "metadata": {},
   "outputs": [],
   "source": [
    "# анализ данных\n",
    "import pandas as pd\n",
    "import numpy as np\n",
    "from scipy import stats as st\n",
    "\n",
    "# визуализация\n",
    "import seaborn as sns\n",
    "import matplotlib.pyplot as plt\n",
    "\n",
    "# модель машинного обучения\n",
    "from sklearn.linear_model import LinearRegression\n",
    "from sklearn.ensemble import RandomForestRegressor\n",
    "from sklearn.tree import DecisionTreeRegressor\n",
    "\n",
    "# вспомогательные средства \n",
    "from sklearn.metrics import mean_squared_error, mean_absolute_error, r2_score\n",
    "from sklearn.model_selection import train_test_split\n",
    "from sklearn.dummy import DummyRegressor\n",
    "from sklearn.preprocessing import StandardScaler\n",
    "from sklearn.impute import KNNImputer\n",
    "from sklearn.model_selection import cross_val_score\n",
    "from sklearn.experimental import enable_halving_search_cv\n",
    "from sklearn.model_selection import HalvingRandomSearchCV\n",
    "from sklearn.model_selection import GridSearchCV\n",
    "from sklearn.model_selection import RandomizedSearchCV\n",
    "from sklearn.metrics import make_scorer"
   ]
  },
  {
   "cell_type": "markdown",
   "metadata": {},
   "source": [
    "### Загрузка исходных данных"
   ]
  },
  {
   "cell_type": "code",
   "execution_count": 2,
   "metadata": {},
   "outputs": [],
   "source": [
    "try:\n",
    "    train = pd.read_csv(r'D:\\projects_data\\gold_recovery\\gold_recovery_train_new.csv').set_index('date')\n",
    "    test = pd.read_csv(r'D:\\projects_data\\gold_recovery\\gold_recovery_test_new.csv').set_index('date')\n",
    "    full = pd.read_csv(r'D:\\projects_data\\gold_recovery\\gold_recovery_full_new.csv').set_index('date')\n",
    "except:\n",
    "    train = pd.read_csv('/datasets/gold_recovery_train_new.csv').set_index('date')\n",
    "    test = pd.read_csv('/datasets/gold_recovery_test_new.csv').set_index('date')\n",
    "    full = pd.read_csv('/datasets/gold_recovery_full_new.csv').set_index('date')"
   ]
  },
  {
   "cell_type": "code",
   "execution_count": 3,
   "metadata": {},
   "outputs": [],
   "source": [
    "# настройка отображения всех столбцов и строк таблицы\n",
    "pd.set_option('display.max_columns', None)\n",
    "pd.set_option('display.max_rows', None)"
   ]
  },
  {
   "cell_type": "code",
   "execution_count": 4,
   "metadata": {
    "scrolled": false
   },
   "outputs": [
    {
     "data": {
      "text/html": [
       "<div>\n",
       "<style scoped>\n",
       "    .dataframe tbody tr th:only-of-type {\n",
       "        vertical-align: middle;\n",
       "    }\n",
       "\n",
       "    .dataframe tbody tr th {\n",
       "        vertical-align: top;\n",
       "    }\n",
       "\n",
       "    .dataframe thead th {\n",
       "        text-align: right;\n",
       "    }\n",
       "</style>\n",
       "<table border=\"1\" class=\"dataframe\">\n",
       "  <thead>\n",
       "    <tr style=\"text-align: right;\">\n",
       "      <th></th>\n",
       "      <th>final.output.concentrate_ag</th>\n",
       "      <th>final.output.concentrate_pb</th>\n",
       "      <th>final.output.concentrate_sol</th>\n",
       "      <th>final.output.concentrate_au</th>\n",
       "      <th>final.output.recovery</th>\n",
       "      <th>final.output.tail_ag</th>\n",
       "      <th>final.output.tail_pb</th>\n",
       "      <th>final.output.tail_sol</th>\n",
       "      <th>final.output.tail_au</th>\n",
       "      <th>primary_cleaner.input.sulfate</th>\n",
       "      <th>primary_cleaner.input.depressant</th>\n",
       "      <th>primary_cleaner.input.feed_size</th>\n",
       "      <th>primary_cleaner.input.xanthate</th>\n",
       "      <th>primary_cleaner.output.concentrate_ag</th>\n",
       "      <th>primary_cleaner.output.concentrate_pb</th>\n",
       "      <th>primary_cleaner.output.concentrate_sol</th>\n",
       "      <th>primary_cleaner.output.concentrate_au</th>\n",
       "      <th>primary_cleaner.output.tail_ag</th>\n",
       "      <th>primary_cleaner.output.tail_pb</th>\n",
       "      <th>primary_cleaner.output.tail_sol</th>\n",
       "      <th>primary_cleaner.output.tail_au</th>\n",
       "      <th>primary_cleaner.state.floatbank8_a_air</th>\n",
       "      <th>primary_cleaner.state.floatbank8_a_level</th>\n",
       "      <th>primary_cleaner.state.floatbank8_b_air</th>\n",
       "      <th>primary_cleaner.state.floatbank8_b_level</th>\n",
       "      <th>primary_cleaner.state.floatbank8_c_air</th>\n",
       "      <th>primary_cleaner.state.floatbank8_c_level</th>\n",
       "      <th>primary_cleaner.state.floatbank8_d_air</th>\n",
       "      <th>primary_cleaner.state.floatbank8_d_level</th>\n",
       "      <th>rougher.calculation.sulfate_to_au_concentrate</th>\n",
       "      <th>rougher.calculation.floatbank10_sulfate_to_au_feed</th>\n",
       "      <th>rougher.calculation.floatbank11_sulfate_to_au_feed</th>\n",
       "      <th>rougher.calculation.au_pb_ratio</th>\n",
       "      <th>rougher.input.feed_ag</th>\n",
       "      <th>rougher.input.feed_pb</th>\n",
       "      <th>rougher.input.feed_rate</th>\n",
       "      <th>rougher.input.feed_size</th>\n",
       "      <th>rougher.input.feed_sol</th>\n",
       "      <th>rougher.input.feed_au</th>\n",
       "      <th>rougher.input.floatbank10_sulfate</th>\n",
       "      <th>rougher.input.floatbank10_xanthate</th>\n",
       "      <th>rougher.input.floatbank11_sulfate</th>\n",
       "      <th>rougher.input.floatbank11_xanthate</th>\n",
       "      <th>rougher.output.concentrate_ag</th>\n",
       "      <th>rougher.output.concentrate_pb</th>\n",
       "      <th>rougher.output.concentrate_sol</th>\n",
       "      <th>rougher.output.concentrate_au</th>\n",
       "      <th>rougher.output.recovery</th>\n",
       "      <th>rougher.output.tail_ag</th>\n",
       "      <th>rougher.output.tail_pb</th>\n",
       "      <th>rougher.output.tail_sol</th>\n",
       "      <th>rougher.output.tail_au</th>\n",
       "      <th>rougher.state.floatbank10_a_air</th>\n",
       "      <th>rougher.state.floatbank10_a_level</th>\n",
       "      <th>rougher.state.floatbank10_b_air</th>\n",
       "      <th>rougher.state.floatbank10_b_level</th>\n",
       "      <th>rougher.state.floatbank10_c_air</th>\n",
       "      <th>rougher.state.floatbank10_c_level</th>\n",
       "      <th>rougher.state.floatbank10_d_air</th>\n",
       "      <th>rougher.state.floatbank10_d_level</th>\n",
       "      <th>rougher.state.floatbank10_e_air</th>\n",
       "      <th>rougher.state.floatbank10_e_level</th>\n",
       "      <th>rougher.state.floatbank10_f_air</th>\n",
       "      <th>rougher.state.floatbank10_f_level</th>\n",
       "      <th>secondary_cleaner.output.tail_ag</th>\n",
       "      <th>secondary_cleaner.output.tail_pb</th>\n",
       "      <th>secondary_cleaner.output.tail_sol</th>\n",
       "      <th>secondary_cleaner.output.tail_au</th>\n",
       "      <th>secondary_cleaner.state.floatbank2_a_air</th>\n",
       "      <th>secondary_cleaner.state.floatbank2_a_level</th>\n",
       "      <th>secondary_cleaner.state.floatbank2_b_air</th>\n",
       "      <th>secondary_cleaner.state.floatbank2_b_level</th>\n",
       "      <th>secondary_cleaner.state.floatbank3_a_air</th>\n",
       "      <th>secondary_cleaner.state.floatbank3_a_level</th>\n",
       "      <th>secondary_cleaner.state.floatbank3_b_air</th>\n",
       "      <th>secondary_cleaner.state.floatbank3_b_level</th>\n",
       "      <th>secondary_cleaner.state.floatbank4_a_air</th>\n",
       "      <th>secondary_cleaner.state.floatbank4_a_level</th>\n",
       "      <th>secondary_cleaner.state.floatbank4_b_air</th>\n",
       "      <th>secondary_cleaner.state.floatbank4_b_level</th>\n",
       "      <th>secondary_cleaner.state.floatbank5_a_air</th>\n",
       "      <th>secondary_cleaner.state.floatbank5_a_level</th>\n",
       "      <th>secondary_cleaner.state.floatbank5_b_air</th>\n",
       "      <th>secondary_cleaner.state.floatbank5_b_level</th>\n",
       "      <th>secondary_cleaner.state.floatbank6_a_air</th>\n",
       "      <th>secondary_cleaner.state.floatbank6_a_level</th>\n",
       "    </tr>\n",
       "    <tr>\n",
       "      <th>date</th>\n",
       "      <th></th>\n",
       "      <th></th>\n",
       "      <th></th>\n",
       "      <th></th>\n",
       "      <th></th>\n",
       "      <th></th>\n",
       "      <th></th>\n",
       "      <th></th>\n",
       "      <th></th>\n",
       "      <th></th>\n",
       "      <th></th>\n",
       "      <th></th>\n",
       "      <th></th>\n",
       "      <th></th>\n",
       "      <th></th>\n",
       "      <th></th>\n",
       "      <th></th>\n",
       "      <th></th>\n",
       "      <th></th>\n",
       "      <th></th>\n",
       "      <th></th>\n",
       "      <th></th>\n",
       "      <th></th>\n",
       "      <th></th>\n",
       "      <th></th>\n",
       "      <th></th>\n",
       "      <th></th>\n",
       "      <th></th>\n",
       "      <th></th>\n",
       "      <th></th>\n",
       "      <th></th>\n",
       "      <th></th>\n",
       "      <th></th>\n",
       "      <th></th>\n",
       "      <th></th>\n",
       "      <th></th>\n",
       "      <th></th>\n",
       "      <th></th>\n",
       "      <th></th>\n",
       "      <th></th>\n",
       "      <th></th>\n",
       "      <th></th>\n",
       "      <th></th>\n",
       "      <th></th>\n",
       "      <th></th>\n",
       "      <th></th>\n",
       "      <th></th>\n",
       "      <th></th>\n",
       "      <th></th>\n",
       "      <th></th>\n",
       "      <th></th>\n",
       "      <th></th>\n",
       "      <th></th>\n",
       "      <th></th>\n",
       "      <th></th>\n",
       "      <th></th>\n",
       "      <th></th>\n",
       "      <th></th>\n",
       "      <th></th>\n",
       "      <th></th>\n",
       "      <th></th>\n",
       "      <th></th>\n",
       "      <th></th>\n",
       "      <th></th>\n",
       "      <th></th>\n",
       "      <th></th>\n",
       "      <th></th>\n",
       "      <th></th>\n",
       "      <th></th>\n",
       "      <th></th>\n",
       "      <th></th>\n",
       "      <th></th>\n",
       "      <th></th>\n",
       "      <th></th>\n",
       "      <th></th>\n",
       "      <th></th>\n",
       "      <th></th>\n",
       "      <th></th>\n",
       "      <th></th>\n",
       "      <th></th>\n",
       "      <th></th>\n",
       "      <th></th>\n",
       "      <th></th>\n",
       "      <th></th>\n",
       "      <th></th>\n",
       "      <th></th>\n",
       "    </tr>\n",
       "  </thead>\n",
       "  <tbody>\n",
       "    <tr>\n",
       "      <th>2016-01-15 00:00:00</th>\n",
       "      <td>6.055403</td>\n",
       "      <td>9.889648</td>\n",
       "      <td>5.507324</td>\n",
       "      <td>42.192020</td>\n",
       "      <td>70.541216</td>\n",
       "      <td>10.411962</td>\n",
       "      <td>0.895447</td>\n",
       "      <td>16.904297</td>\n",
       "      <td>2.143149</td>\n",
       "      <td>127.092003</td>\n",
       "      <td>10.128295</td>\n",
       "      <td>7.25</td>\n",
       "      <td>0.988759</td>\n",
       "      <td>8.547551</td>\n",
       "      <td>10.389648</td>\n",
       "      <td>19.529297</td>\n",
       "      <td>34.174427</td>\n",
       "      <td>14.936526</td>\n",
       "      <td>2.534912</td>\n",
       "      <td>7.476074</td>\n",
       "      <td>2.106679</td>\n",
       "      <td>1549.775757</td>\n",
       "      <td>-498.912140</td>\n",
       "      <td>1551.434204</td>\n",
       "      <td>-516.403442</td>\n",
       "      <td>1549.873901</td>\n",
       "      <td>-498.666595</td>\n",
       "      <td>1554.367432</td>\n",
       "      <td>-493.428131</td>\n",
       "      <td>41885.707031</td>\n",
       "      <td>3481.779053</td>\n",
       "      <td>3520.337158</td>\n",
       "      <td>2.838687</td>\n",
       "      <td>6.100378</td>\n",
       "      <td>2.284912</td>\n",
       "      <td>523.546326</td>\n",
       "      <td>55.486599</td>\n",
       "      <td>36.808594</td>\n",
       "      <td>6.486150</td>\n",
       "      <td>11.986616</td>\n",
       "      <td>6.007990</td>\n",
       "      <td>11.836743</td>\n",
       "      <td>6.005818</td>\n",
       "      <td>11.500771</td>\n",
       "      <td>7.101074</td>\n",
       "      <td>28.029297</td>\n",
       "      <td>19.793808</td>\n",
       "      <td>87.107763</td>\n",
       "      <td>5.008018</td>\n",
       "      <td>0.508728</td>\n",
       "      <td>19.154297</td>\n",
       "      <td>1.170244</td>\n",
       "      <td>999.706909</td>\n",
       "      <td>-404.066986</td>\n",
       "      <td>1603.011353</td>\n",
       "      <td>-434.715027</td>\n",
       "      <td>1602.375000</td>\n",
       "      <td>-442.204468</td>\n",
       "      <td>1598.937256</td>\n",
       "      <td>-451.294128</td>\n",
       "      <td>1404.472046</td>\n",
       "      <td>-455.462982</td>\n",
       "      <td>1416.354980</td>\n",
       "      <td>-451.939636</td>\n",
       "      <td>14.500184</td>\n",
       "      <td>4.694824</td>\n",
       "      <td>8.764648</td>\n",
       "      <td>2.606185</td>\n",
       "      <td>25.853109</td>\n",
       "      <td>-498.526489</td>\n",
       "      <td>23.893660</td>\n",
       "      <td>-501.406281</td>\n",
       "      <td>23.961798</td>\n",
       "      <td>-495.262817</td>\n",
       "      <td>21.940409</td>\n",
       "      <td>-499.340973</td>\n",
       "      <td>14.016835</td>\n",
       "      <td>-502.488007</td>\n",
       "      <td>12.099931</td>\n",
       "      <td>-504.715942</td>\n",
       "      <td>9.925633</td>\n",
       "      <td>-498.310211</td>\n",
       "      <td>8.079666</td>\n",
       "      <td>-500.470978</td>\n",
       "      <td>14.151341</td>\n",
       "      <td>-605.841980</td>\n",
       "    </tr>\n",
       "    <tr>\n",
       "      <th>2016-01-15 01:00:00</th>\n",
       "      <td>6.029369</td>\n",
       "      <td>9.968944</td>\n",
       "      <td>5.257781</td>\n",
       "      <td>42.701629</td>\n",
       "      <td>69.266198</td>\n",
       "      <td>10.462676</td>\n",
       "      <td>0.927452</td>\n",
       "      <td>16.634514</td>\n",
       "      <td>2.224930</td>\n",
       "      <td>125.629232</td>\n",
       "      <td>10.296251</td>\n",
       "      <td>7.25</td>\n",
       "      <td>1.002663</td>\n",
       "      <td>8.558743</td>\n",
       "      <td>10.497069</td>\n",
       "      <td>19.369147</td>\n",
       "      <td>34.118526</td>\n",
       "      <td>16.250511</td>\n",
       "      <td>3.049646</td>\n",
       "      <td>6.733907</td>\n",
       "      <td>2.353017</td>\n",
       "      <td>1576.166671</td>\n",
       "      <td>-500.904965</td>\n",
       "      <td>1575.950626</td>\n",
       "      <td>-499.865889</td>\n",
       "      <td>1575.994189</td>\n",
       "      <td>-499.315107</td>\n",
       "      <td>1574.479259</td>\n",
       "      <td>-498.931665</td>\n",
       "      <td>42050.861809</td>\n",
       "      <td>3498.370979</td>\n",
       "      <td>3489.981857</td>\n",
       "      <td>2.858998</td>\n",
       "      <td>6.161113</td>\n",
       "      <td>2.266033</td>\n",
       "      <td>525.290581</td>\n",
       "      <td>57.278666</td>\n",
       "      <td>35.753385</td>\n",
       "      <td>6.478583</td>\n",
       "      <td>11.971193</td>\n",
       "      <td>6.005766</td>\n",
       "      <td>11.996163</td>\n",
       "      <td>6.012594</td>\n",
       "      <td>11.615865</td>\n",
       "      <td>7.278807</td>\n",
       "      <td>28.067063</td>\n",
       "      <td>20.050975</td>\n",
       "      <td>86.843261</td>\n",
       "      <td>4.955378</td>\n",
       "      <td>0.536689</td>\n",
       "      <td>18.965234</td>\n",
       "      <td>1.184827</td>\n",
       "      <td>1000.286398</td>\n",
       "      <td>-400.065196</td>\n",
       "      <td>1600.754587</td>\n",
       "      <td>-449.953435</td>\n",
       "      <td>1600.479580</td>\n",
       "      <td>-449.830646</td>\n",
       "      <td>1600.527589</td>\n",
       "      <td>-449.953649</td>\n",
       "      <td>1399.227084</td>\n",
       "      <td>-450.869848</td>\n",
       "      <td>1399.719514</td>\n",
       "      <td>-450.119001</td>\n",
       "      <td>14.265474</td>\n",
       "      <td>4.592547</td>\n",
       "      <td>9.001494</td>\n",
       "      <td>2.488248</td>\n",
       "      <td>25.880539</td>\n",
       "      <td>-499.989656</td>\n",
       "      <td>23.889530</td>\n",
       "      <td>-500.372428</td>\n",
       "      <td>23.970550</td>\n",
       "      <td>-500.085473</td>\n",
       "      <td>22.085714</td>\n",
       "      <td>-499.446897</td>\n",
       "      <td>13.992281</td>\n",
       "      <td>-505.503262</td>\n",
       "      <td>11.950531</td>\n",
       "      <td>-501.331529</td>\n",
       "      <td>10.039245</td>\n",
       "      <td>-500.169983</td>\n",
       "      <td>7.984757</td>\n",
       "      <td>-500.582168</td>\n",
       "      <td>13.998353</td>\n",
       "      <td>-599.787184</td>\n",
       "    </tr>\n",
       "    <tr>\n",
       "      <th>2016-01-15 02:00:00</th>\n",
       "      <td>6.055926</td>\n",
       "      <td>10.213995</td>\n",
       "      <td>5.383759</td>\n",
       "      <td>42.657501</td>\n",
       "      <td>68.116445</td>\n",
       "      <td>10.507046</td>\n",
       "      <td>0.953716</td>\n",
       "      <td>16.208849</td>\n",
       "      <td>2.257889</td>\n",
       "      <td>123.819808</td>\n",
       "      <td>11.316280</td>\n",
       "      <td>7.25</td>\n",
       "      <td>0.991265</td>\n",
       "      <td>8.603505</td>\n",
       "      <td>10.354494</td>\n",
       "      <td>19.167579</td>\n",
       "      <td>33.969464</td>\n",
       "      <td>16.491823</td>\n",
       "      <td>3.124664</td>\n",
       "      <td>6.471768</td>\n",
       "      <td>2.416800</td>\n",
       "      <td>1601.556163</td>\n",
       "      <td>-499.997791</td>\n",
       "      <td>1600.386685</td>\n",
       "      <td>-500.607762</td>\n",
       "      <td>1602.003542</td>\n",
       "      <td>-500.870069</td>\n",
       "      <td>1599.541515</td>\n",
       "      <td>-499.827444</td>\n",
       "      <td>42018.101184</td>\n",
       "      <td>3495.348910</td>\n",
       "      <td>3502.359819</td>\n",
       "      <td>2.945989</td>\n",
       "      <td>6.116455</td>\n",
       "      <td>2.159622</td>\n",
       "      <td>530.026610</td>\n",
       "      <td>57.510649</td>\n",
       "      <td>35.971630</td>\n",
       "      <td>6.362222</td>\n",
       "      <td>11.920603</td>\n",
       "      <td>6.197377</td>\n",
       "      <td>11.920305</td>\n",
       "      <td>6.204633</td>\n",
       "      <td>11.695753</td>\n",
       "      <td>7.216833</td>\n",
       "      <td>27.454037</td>\n",
       "      <td>19.737170</td>\n",
       "      <td>86.842308</td>\n",
       "      <td>4.843460</td>\n",
       "      <td>0.546416</td>\n",
       "      <td>18.808533</td>\n",
       "      <td>1.162562</td>\n",
       "      <td>999.719565</td>\n",
       "      <td>-400.074028</td>\n",
       "      <td>1599.337330</td>\n",
       "      <td>-450.008530</td>\n",
       "      <td>1599.672797</td>\n",
       "      <td>-449.954491</td>\n",
       "      <td>1599.849325</td>\n",
       "      <td>-449.954185</td>\n",
       "      <td>1399.180945</td>\n",
       "      <td>-449.937588</td>\n",
       "      <td>1400.316682</td>\n",
       "      <td>-450.527147</td>\n",
       "      <td>14.115662</td>\n",
       "      <td>4.624775</td>\n",
       "      <td>8.842896</td>\n",
       "      <td>2.458187</td>\n",
       "      <td>26.005245</td>\n",
       "      <td>-499.929616</td>\n",
       "      <td>23.886657</td>\n",
       "      <td>-499.951928</td>\n",
       "      <td>23.913535</td>\n",
       "      <td>-499.442343</td>\n",
       "      <td>23.957717</td>\n",
       "      <td>-499.901982</td>\n",
       "      <td>14.015015</td>\n",
       "      <td>-502.520901</td>\n",
       "      <td>11.912783</td>\n",
       "      <td>-501.133383</td>\n",
       "      <td>10.070913</td>\n",
       "      <td>-500.129135</td>\n",
       "      <td>8.013877</td>\n",
       "      <td>-500.517572</td>\n",
       "      <td>14.028663</td>\n",
       "      <td>-601.427363</td>\n",
       "    </tr>\n",
       "    <tr>\n",
       "      <th>2016-01-15 03:00:00</th>\n",
       "      <td>6.047977</td>\n",
       "      <td>9.977019</td>\n",
       "      <td>4.858634</td>\n",
       "      <td>42.689819</td>\n",
       "      <td>68.347543</td>\n",
       "      <td>10.422762</td>\n",
       "      <td>0.883763</td>\n",
       "      <td>16.532835</td>\n",
       "      <td>2.146849</td>\n",
       "      <td>122.270188</td>\n",
       "      <td>11.322140</td>\n",
       "      <td>7.25</td>\n",
       "      <td>0.996739</td>\n",
       "      <td>7.221879</td>\n",
       "      <td>8.496563</td>\n",
       "      <td>15.978538</td>\n",
       "      <td>28.260743</td>\n",
       "      <td>16.024359</td>\n",
       "      <td>2.960362</td>\n",
       "      <td>6.843791</td>\n",
       "      <td>2.262051</td>\n",
       "      <td>1599.968720</td>\n",
       "      <td>-500.951778</td>\n",
       "      <td>1600.659236</td>\n",
       "      <td>-499.677094</td>\n",
       "      <td>1600.304144</td>\n",
       "      <td>-500.727997</td>\n",
       "      <td>1600.449520</td>\n",
       "      <td>-500.052575</td>\n",
       "      <td>42029.447991</td>\n",
       "      <td>3498.578313</td>\n",
       "      <td>3499.162912</td>\n",
       "      <td>3.002340</td>\n",
       "      <td>6.043309</td>\n",
       "      <td>2.037807</td>\n",
       "      <td>542.590390</td>\n",
       "      <td>57.792734</td>\n",
       "      <td>36.862241</td>\n",
       "      <td>6.118189</td>\n",
       "      <td>11.630094</td>\n",
       "      <td>6.203177</td>\n",
       "      <td>11.692450</td>\n",
       "      <td>6.196578</td>\n",
       "      <td>11.915047</td>\n",
       "      <td>7.175616</td>\n",
       "      <td>27.341277</td>\n",
       "      <td>19.320810</td>\n",
       "      <td>87.226430</td>\n",
       "      <td>4.655288</td>\n",
       "      <td>0.542525</td>\n",
       "      <td>19.330200</td>\n",
       "      <td>1.079755</td>\n",
       "      <td>999.814770</td>\n",
       "      <td>-400.200179</td>\n",
       "      <td>1600.059442</td>\n",
       "      <td>-450.619948</td>\n",
       "      <td>1600.012842</td>\n",
       "      <td>-449.910497</td>\n",
       "      <td>1597.725177</td>\n",
       "      <td>-450.130127</td>\n",
       "      <td>1400.943157</td>\n",
       "      <td>-450.030142</td>\n",
       "      <td>1400.234743</td>\n",
       "      <td>-449.790835</td>\n",
       "      <td>13.732071</td>\n",
       "      <td>4.482453</td>\n",
       "      <td>9.122857</td>\n",
       "      <td>2.322062</td>\n",
       "      <td>25.942508</td>\n",
       "      <td>-499.176749</td>\n",
       "      <td>23.955516</td>\n",
       "      <td>-499.848796</td>\n",
       "      <td>23.966838</td>\n",
       "      <td>-500.008812</td>\n",
       "      <td>23.954443</td>\n",
       "      <td>-499.944710</td>\n",
       "      <td>14.036510</td>\n",
       "      <td>-500.857308</td>\n",
       "      <td>11.999550</td>\n",
       "      <td>-501.193686</td>\n",
       "      <td>9.970366</td>\n",
       "      <td>-499.201640</td>\n",
       "      <td>7.977324</td>\n",
       "      <td>-500.255908</td>\n",
       "      <td>14.005551</td>\n",
       "      <td>-599.996129</td>\n",
       "    </tr>\n",
       "    <tr>\n",
       "      <th>2016-01-15 04:00:00</th>\n",
       "      <td>6.148599</td>\n",
       "      <td>10.142511</td>\n",
       "      <td>4.939416</td>\n",
       "      <td>42.774141</td>\n",
       "      <td>66.927016</td>\n",
       "      <td>10.360302</td>\n",
       "      <td>0.792826</td>\n",
       "      <td>16.525686</td>\n",
       "      <td>2.055292</td>\n",
       "      <td>117.988169</td>\n",
       "      <td>11.913613</td>\n",
       "      <td>7.25</td>\n",
       "      <td>1.009869</td>\n",
       "      <td>9.089428</td>\n",
       "      <td>9.986786</td>\n",
       "      <td>19.199864</td>\n",
       "      <td>33.044932</td>\n",
       "      <td>16.480185</td>\n",
       "      <td>3.112100</td>\n",
       "      <td>6.550154</td>\n",
       "      <td>2.277073</td>\n",
       "      <td>1601.339707</td>\n",
       "      <td>-498.975456</td>\n",
       "      <td>1601.437854</td>\n",
       "      <td>-500.323246</td>\n",
       "      <td>1599.581894</td>\n",
       "      <td>-500.888152</td>\n",
       "      <td>1602.649541</td>\n",
       "      <td>-500.593010</td>\n",
       "      <td>42125.354245</td>\n",
       "      <td>3494.800771</td>\n",
       "      <td>3506.679315</td>\n",
       "      <td>3.169615</td>\n",
       "      <td>6.060915</td>\n",
       "      <td>1.786875</td>\n",
       "      <td>540.531893</td>\n",
       "      <td>56.047189</td>\n",
       "      <td>34.347666</td>\n",
       "      <td>5.663707</td>\n",
       "      <td>10.957755</td>\n",
       "      <td>6.198826</td>\n",
       "      <td>10.960521</td>\n",
       "      <td>6.194897</td>\n",
       "      <td>12.411054</td>\n",
       "      <td>7.240205</td>\n",
       "      <td>27.041023</td>\n",
       "      <td>19.216101</td>\n",
       "      <td>86.688794</td>\n",
       "      <td>4.552800</td>\n",
       "      <td>0.515438</td>\n",
       "      <td>19.267422</td>\n",
       "      <td>1.012642</td>\n",
       "      <td>999.678690</td>\n",
       "      <td>-399.752729</td>\n",
       "      <td>1600.208824</td>\n",
       "      <td>-449.599614</td>\n",
       "      <td>1600.357732</td>\n",
       "      <td>-450.034364</td>\n",
       "      <td>1599.759049</td>\n",
       "      <td>-449.909799</td>\n",
       "      <td>1401.560902</td>\n",
       "      <td>-448.877187</td>\n",
       "      <td>1401.160227</td>\n",
       "      <td>-450.407128</td>\n",
       "      <td>14.079996</td>\n",
       "      <td>4.470737</td>\n",
       "      <td>8.871028</td>\n",
       "      <td>2.330448</td>\n",
       "      <td>26.024787</td>\n",
       "      <td>-500.279091</td>\n",
       "      <td>23.955345</td>\n",
       "      <td>-500.593614</td>\n",
       "      <td>23.985703</td>\n",
       "      <td>-500.083811</td>\n",
       "      <td>23.958945</td>\n",
       "      <td>-499.990309</td>\n",
       "      <td>14.027298</td>\n",
       "      <td>-499.838632</td>\n",
       "      <td>11.953070</td>\n",
       "      <td>-501.053894</td>\n",
       "      <td>9.925709</td>\n",
       "      <td>-501.686727</td>\n",
       "      <td>7.894242</td>\n",
       "      <td>-500.356035</td>\n",
       "      <td>13.996647</td>\n",
       "      <td>-601.496691</td>\n",
       "    </tr>\n",
       "  </tbody>\n",
       "</table>\n",
       "</div>"
      ],
      "text/plain": [
       "                     final.output.concentrate_ag  final.output.concentrate_pb  \\\n",
       "date                                                                            \n",
       "2016-01-15 00:00:00                     6.055403                     9.889648   \n",
       "2016-01-15 01:00:00                     6.029369                     9.968944   \n",
       "2016-01-15 02:00:00                     6.055926                    10.213995   \n",
       "2016-01-15 03:00:00                     6.047977                     9.977019   \n",
       "2016-01-15 04:00:00                     6.148599                    10.142511   \n",
       "\n",
       "                     final.output.concentrate_sol  \\\n",
       "date                                                \n",
       "2016-01-15 00:00:00                      5.507324   \n",
       "2016-01-15 01:00:00                      5.257781   \n",
       "2016-01-15 02:00:00                      5.383759   \n",
       "2016-01-15 03:00:00                      4.858634   \n",
       "2016-01-15 04:00:00                      4.939416   \n",
       "\n",
       "                     final.output.concentrate_au  final.output.recovery  \\\n",
       "date                                                                      \n",
       "2016-01-15 00:00:00                    42.192020              70.541216   \n",
       "2016-01-15 01:00:00                    42.701629              69.266198   \n",
       "2016-01-15 02:00:00                    42.657501              68.116445   \n",
       "2016-01-15 03:00:00                    42.689819              68.347543   \n",
       "2016-01-15 04:00:00                    42.774141              66.927016   \n",
       "\n",
       "                     final.output.tail_ag  final.output.tail_pb  \\\n",
       "date                                                              \n",
       "2016-01-15 00:00:00             10.411962              0.895447   \n",
       "2016-01-15 01:00:00             10.462676              0.927452   \n",
       "2016-01-15 02:00:00             10.507046              0.953716   \n",
       "2016-01-15 03:00:00             10.422762              0.883763   \n",
       "2016-01-15 04:00:00             10.360302              0.792826   \n",
       "\n",
       "                     final.output.tail_sol  final.output.tail_au  \\\n",
       "date                                                               \n",
       "2016-01-15 00:00:00              16.904297              2.143149   \n",
       "2016-01-15 01:00:00              16.634514              2.224930   \n",
       "2016-01-15 02:00:00              16.208849              2.257889   \n",
       "2016-01-15 03:00:00              16.532835              2.146849   \n",
       "2016-01-15 04:00:00              16.525686              2.055292   \n",
       "\n",
       "                     primary_cleaner.input.sulfate  \\\n",
       "date                                                 \n",
       "2016-01-15 00:00:00                     127.092003   \n",
       "2016-01-15 01:00:00                     125.629232   \n",
       "2016-01-15 02:00:00                     123.819808   \n",
       "2016-01-15 03:00:00                     122.270188   \n",
       "2016-01-15 04:00:00                     117.988169   \n",
       "\n",
       "                     primary_cleaner.input.depressant  \\\n",
       "date                                                    \n",
       "2016-01-15 00:00:00                         10.128295   \n",
       "2016-01-15 01:00:00                         10.296251   \n",
       "2016-01-15 02:00:00                         11.316280   \n",
       "2016-01-15 03:00:00                         11.322140   \n",
       "2016-01-15 04:00:00                         11.913613   \n",
       "\n",
       "                     primary_cleaner.input.feed_size  \\\n",
       "date                                                   \n",
       "2016-01-15 00:00:00                             7.25   \n",
       "2016-01-15 01:00:00                             7.25   \n",
       "2016-01-15 02:00:00                             7.25   \n",
       "2016-01-15 03:00:00                             7.25   \n",
       "2016-01-15 04:00:00                             7.25   \n",
       "\n",
       "                     primary_cleaner.input.xanthate  \\\n",
       "date                                                  \n",
       "2016-01-15 00:00:00                        0.988759   \n",
       "2016-01-15 01:00:00                        1.002663   \n",
       "2016-01-15 02:00:00                        0.991265   \n",
       "2016-01-15 03:00:00                        0.996739   \n",
       "2016-01-15 04:00:00                        1.009869   \n",
       "\n",
       "                     primary_cleaner.output.concentrate_ag  \\\n",
       "date                                                         \n",
       "2016-01-15 00:00:00                               8.547551   \n",
       "2016-01-15 01:00:00                               8.558743   \n",
       "2016-01-15 02:00:00                               8.603505   \n",
       "2016-01-15 03:00:00                               7.221879   \n",
       "2016-01-15 04:00:00                               9.089428   \n",
       "\n",
       "                     primary_cleaner.output.concentrate_pb  \\\n",
       "date                                                         \n",
       "2016-01-15 00:00:00                              10.389648   \n",
       "2016-01-15 01:00:00                              10.497069   \n",
       "2016-01-15 02:00:00                              10.354494   \n",
       "2016-01-15 03:00:00                               8.496563   \n",
       "2016-01-15 04:00:00                               9.986786   \n",
       "\n",
       "                     primary_cleaner.output.concentrate_sol  \\\n",
       "date                                                          \n",
       "2016-01-15 00:00:00                               19.529297   \n",
       "2016-01-15 01:00:00                               19.369147   \n",
       "2016-01-15 02:00:00                               19.167579   \n",
       "2016-01-15 03:00:00                               15.978538   \n",
       "2016-01-15 04:00:00                               19.199864   \n",
       "\n",
       "                     primary_cleaner.output.concentrate_au  \\\n",
       "date                                                         \n",
       "2016-01-15 00:00:00                              34.174427   \n",
       "2016-01-15 01:00:00                              34.118526   \n",
       "2016-01-15 02:00:00                              33.969464   \n",
       "2016-01-15 03:00:00                              28.260743   \n",
       "2016-01-15 04:00:00                              33.044932   \n",
       "\n",
       "                     primary_cleaner.output.tail_ag  \\\n",
       "date                                                  \n",
       "2016-01-15 00:00:00                       14.936526   \n",
       "2016-01-15 01:00:00                       16.250511   \n",
       "2016-01-15 02:00:00                       16.491823   \n",
       "2016-01-15 03:00:00                       16.024359   \n",
       "2016-01-15 04:00:00                       16.480185   \n",
       "\n",
       "                     primary_cleaner.output.tail_pb  \\\n",
       "date                                                  \n",
       "2016-01-15 00:00:00                        2.534912   \n",
       "2016-01-15 01:00:00                        3.049646   \n",
       "2016-01-15 02:00:00                        3.124664   \n",
       "2016-01-15 03:00:00                        2.960362   \n",
       "2016-01-15 04:00:00                        3.112100   \n",
       "\n",
       "                     primary_cleaner.output.tail_sol  \\\n",
       "date                                                   \n",
       "2016-01-15 00:00:00                         7.476074   \n",
       "2016-01-15 01:00:00                         6.733907   \n",
       "2016-01-15 02:00:00                         6.471768   \n",
       "2016-01-15 03:00:00                         6.843791   \n",
       "2016-01-15 04:00:00                         6.550154   \n",
       "\n",
       "                     primary_cleaner.output.tail_au  \\\n",
       "date                                                  \n",
       "2016-01-15 00:00:00                        2.106679   \n",
       "2016-01-15 01:00:00                        2.353017   \n",
       "2016-01-15 02:00:00                        2.416800   \n",
       "2016-01-15 03:00:00                        2.262051   \n",
       "2016-01-15 04:00:00                        2.277073   \n",
       "\n",
       "                     primary_cleaner.state.floatbank8_a_air  \\\n",
       "date                                                          \n",
       "2016-01-15 00:00:00                             1549.775757   \n",
       "2016-01-15 01:00:00                             1576.166671   \n",
       "2016-01-15 02:00:00                             1601.556163   \n",
       "2016-01-15 03:00:00                             1599.968720   \n",
       "2016-01-15 04:00:00                             1601.339707   \n",
       "\n",
       "                     primary_cleaner.state.floatbank8_a_level  \\\n",
       "date                                                            \n",
       "2016-01-15 00:00:00                               -498.912140   \n",
       "2016-01-15 01:00:00                               -500.904965   \n",
       "2016-01-15 02:00:00                               -499.997791   \n",
       "2016-01-15 03:00:00                               -500.951778   \n",
       "2016-01-15 04:00:00                               -498.975456   \n",
       "\n",
       "                     primary_cleaner.state.floatbank8_b_air  \\\n",
       "date                                                          \n",
       "2016-01-15 00:00:00                             1551.434204   \n",
       "2016-01-15 01:00:00                             1575.950626   \n",
       "2016-01-15 02:00:00                             1600.386685   \n",
       "2016-01-15 03:00:00                             1600.659236   \n",
       "2016-01-15 04:00:00                             1601.437854   \n",
       "\n",
       "                     primary_cleaner.state.floatbank8_b_level  \\\n",
       "date                                                            \n",
       "2016-01-15 00:00:00                               -516.403442   \n",
       "2016-01-15 01:00:00                               -499.865889   \n",
       "2016-01-15 02:00:00                               -500.607762   \n",
       "2016-01-15 03:00:00                               -499.677094   \n",
       "2016-01-15 04:00:00                               -500.323246   \n",
       "\n",
       "                     primary_cleaner.state.floatbank8_c_air  \\\n",
       "date                                                          \n",
       "2016-01-15 00:00:00                             1549.873901   \n",
       "2016-01-15 01:00:00                             1575.994189   \n",
       "2016-01-15 02:00:00                             1602.003542   \n",
       "2016-01-15 03:00:00                             1600.304144   \n",
       "2016-01-15 04:00:00                             1599.581894   \n",
       "\n",
       "                     primary_cleaner.state.floatbank8_c_level  \\\n",
       "date                                                            \n",
       "2016-01-15 00:00:00                               -498.666595   \n",
       "2016-01-15 01:00:00                               -499.315107   \n",
       "2016-01-15 02:00:00                               -500.870069   \n",
       "2016-01-15 03:00:00                               -500.727997   \n",
       "2016-01-15 04:00:00                               -500.888152   \n",
       "\n",
       "                     primary_cleaner.state.floatbank8_d_air  \\\n",
       "date                                                          \n",
       "2016-01-15 00:00:00                             1554.367432   \n",
       "2016-01-15 01:00:00                             1574.479259   \n",
       "2016-01-15 02:00:00                             1599.541515   \n",
       "2016-01-15 03:00:00                             1600.449520   \n",
       "2016-01-15 04:00:00                             1602.649541   \n",
       "\n",
       "                     primary_cleaner.state.floatbank8_d_level  \\\n",
       "date                                                            \n",
       "2016-01-15 00:00:00                               -493.428131   \n",
       "2016-01-15 01:00:00                               -498.931665   \n",
       "2016-01-15 02:00:00                               -499.827444   \n",
       "2016-01-15 03:00:00                               -500.052575   \n",
       "2016-01-15 04:00:00                               -500.593010   \n",
       "\n",
       "                     rougher.calculation.sulfate_to_au_concentrate  \\\n",
       "date                                                                 \n",
       "2016-01-15 00:00:00                                   41885.707031   \n",
       "2016-01-15 01:00:00                                   42050.861809   \n",
       "2016-01-15 02:00:00                                   42018.101184   \n",
       "2016-01-15 03:00:00                                   42029.447991   \n",
       "2016-01-15 04:00:00                                   42125.354245   \n",
       "\n",
       "                     rougher.calculation.floatbank10_sulfate_to_au_feed  \\\n",
       "date                                                                      \n",
       "2016-01-15 00:00:00                                        3481.779053    \n",
       "2016-01-15 01:00:00                                        3498.370979    \n",
       "2016-01-15 02:00:00                                        3495.348910    \n",
       "2016-01-15 03:00:00                                        3498.578313    \n",
       "2016-01-15 04:00:00                                        3494.800771    \n",
       "\n",
       "                     rougher.calculation.floatbank11_sulfate_to_au_feed  \\\n",
       "date                                                                      \n",
       "2016-01-15 00:00:00                                        3520.337158    \n",
       "2016-01-15 01:00:00                                        3489.981857    \n",
       "2016-01-15 02:00:00                                        3502.359819    \n",
       "2016-01-15 03:00:00                                        3499.162912    \n",
       "2016-01-15 04:00:00                                        3506.679315    \n",
       "\n",
       "                     rougher.calculation.au_pb_ratio  rougher.input.feed_ag  \\\n",
       "date                                                                          \n",
       "2016-01-15 00:00:00                         2.838687               6.100378   \n",
       "2016-01-15 01:00:00                         2.858998               6.161113   \n",
       "2016-01-15 02:00:00                         2.945989               6.116455   \n",
       "2016-01-15 03:00:00                         3.002340               6.043309   \n",
       "2016-01-15 04:00:00                         3.169615               6.060915   \n",
       "\n",
       "                     rougher.input.feed_pb  rougher.input.feed_rate  \\\n",
       "date                                                                  \n",
       "2016-01-15 00:00:00               2.284912               523.546326   \n",
       "2016-01-15 01:00:00               2.266033               525.290581   \n",
       "2016-01-15 02:00:00               2.159622               530.026610   \n",
       "2016-01-15 03:00:00               2.037807               542.590390   \n",
       "2016-01-15 04:00:00               1.786875               540.531893   \n",
       "\n",
       "                     rougher.input.feed_size  rougher.input.feed_sol  \\\n",
       "date                                                                   \n",
       "2016-01-15 00:00:00                55.486599               36.808594   \n",
       "2016-01-15 01:00:00                57.278666               35.753385   \n",
       "2016-01-15 02:00:00                57.510649               35.971630   \n",
       "2016-01-15 03:00:00                57.792734               36.862241   \n",
       "2016-01-15 04:00:00                56.047189               34.347666   \n",
       "\n",
       "                     rougher.input.feed_au  rougher.input.floatbank10_sulfate  \\\n",
       "date                                                                            \n",
       "2016-01-15 00:00:00               6.486150                          11.986616   \n",
       "2016-01-15 01:00:00               6.478583                          11.971193   \n",
       "2016-01-15 02:00:00               6.362222                          11.920603   \n",
       "2016-01-15 03:00:00               6.118189                          11.630094   \n",
       "2016-01-15 04:00:00               5.663707                          10.957755   \n",
       "\n",
       "                     rougher.input.floatbank10_xanthate  \\\n",
       "date                                                      \n",
       "2016-01-15 00:00:00                            6.007990   \n",
       "2016-01-15 01:00:00                            6.005766   \n",
       "2016-01-15 02:00:00                            6.197377   \n",
       "2016-01-15 03:00:00                            6.203177   \n",
       "2016-01-15 04:00:00                            6.198826   \n",
       "\n",
       "                     rougher.input.floatbank11_sulfate  \\\n",
       "date                                                     \n",
       "2016-01-15 00:00:00                          11.836743   \n",
       "2016-01-15 01:00:00                          11.996163   \n",
       "2016-01-15 02:00:00                          11.920305   \n",
       "2016-01-15 03:00:00                          11.692450   \n",
       "2016-01-15 04:00:00                          10.960521   \n",
       "\n",
       "                     rougher.input.floatbank11_xanthate  \\\n",
       "date                                                      \n",
       "2016-01-15 00:00:00                            6.005818   \n",
       "2016-01-15 01:00:00                            6.012594   \n",
       "2016-01-15 02:00:00                            6.204633   \n",
       "2016-01-15 03:00:00                            6.196578   \n",
       "2016-01-15 04:00:00                            6.194897   \n",
       "\n",
       "                     rougher.output.concentrate_ag  \\\n",
       "date                                                 \n",
       "2016-01-15 00:00:00                      11.500771   \n",
       "2016-01-15 01:00:00                      11.615865   \n",
       "2016-01-15 02:00:00                      11.695753   \n",
       "2016-01-15 03:00:00                      11.915047   \n",
       "2016-01-15 04:00:00                      12.411054   \n",
       "\n",
       "                     rougher.output.concentrate_pb  \\\n",
       "date                                                 \n",
       "2016-01-15 00:00:00                       7.101074   \n",
       "2016-01-15 01:00:00                       7.278807   \n",
       "2016-01-15 02:00:00                       7.216833   \n",
       "2016-01-15 03:00:00                       7.175616   \n",
       "2016-01-15 04:00:00                       7.240205   \n",
       "\n",
       "                     rougher.output.concentrate_sol  \\\n",
       "date                                                  \n",
       "2016-01-15 00:00:00                       28.029297   \n",
       "2016-01-15 01:00:00                       28.067063   \n",
       "2016-01-15 02:00:00                       27.454037   \n",
       "2016-01-15 03:00:00                       27.341277   \n",
       "2016-01-15 04:00:00                       27.041023   \n",
       "\n",
       "                     rougher.output.concentrate_au  rougher.output.recovery  \\\n",
       "date                                                                          \n",
       "2016-01-15 00:00:00                      19.793808                87.107763   \n",
       "2016-01-15 01:00:00                      20.050975                86.843261   \n",
       "2016-01-15 02:00:00                      19.737170                86.842308   \n",
       "2016-01-15 03:00:00                      19.320810                87.226430   \n",
       "2016-01-15 04:00:00                      19.216101                86.688794   \n",
       "\n",
       "                     rougher.output.tail_ag  rougher.output.tail_pb  \\\n",
       "date                                                                  \n",
       "2016-01-15 00:00:00                5.008018                0.508728   \n",
       "2016-01-15 01:00:00                4.955378                0.536689   \n",
       "2016-01-15 02:00:00                4.843460                0.546416   \n",
       "2016-01-15 03:00:00                4.655288                0.542525   \n",
       "2016-01-15 04:00:00                4.552800                0.515438   \n",
       "\n",
       "                     rougher.output.tail_sol  rougher.output.tail_au  \\\n",
       "date                                                                   \n",
       "2016-01-15 00:00:00                19.154297                1.170244   \n",
       "2016-01-15 01:00:00                18.965234                1.184827   \n",
       "2016-01-15 02:00:00                18.808533                1.162562   \n",
       "2016-01-15 03:00:00                19.330200                1.079755   \n",
       "2016-01-15 04:00:00                19.267422                1.012642   \n",
       "\n",
       "                     rougher.state.floatbank10_a_air  \\\n",
       "date                                                   \n",
       "2016-01-15 00:00:00                       999.706909   \n",
       "2016-01-15 01:00:00                      1000.286398   \n",
       "2016-01-15 02:00:00                       999.719565   \n",
       "2016-01-15 03:00:00                       999.814770   \n",
       "2016-01-15 04:00:00                       999.678690   \n",
       "\n",
       "                     rougher.state.floatbank10_a_level  \\\n",
       "date                                                     \n",
       "2016-01-15 00:00:00                        -404.066986   \n",
       "2016-01-15 01:00:00                        -400.065196   \n",
       "2016-01-15 02:00:00                        -400.074028   \n",
       "2016-01-15 03:00:00                        -400.200179   \n",
       "2016-01-15 04:00:00                        -399.752729   \n",
       "\n",
       "                     rougher.state.floatbank10_b_air  \\\n",
       "date                                                   \n",
       "2016-01-15 00:00:00                      1603.011353   \n",
       "2016-01-15 01:00:00                      1600.754587   \n",
       "2016-01-15 02:00:00                      1599.337330   \n",
       "2016-01-15 03:00:00                      1600.059442   \n",
       "2016-01-15 04:00:00                      1600.208824   \n",
       "\n",
       "                     rougher.state.floatbank10_b_level  \\\n",
       "date                                                     \n",
       "2016-01-15 00:00:00                        -434.715027   \n",
       "2016-01-15 01:00:00                        -449.953435   \n",
       "2016-01-15 02:00:00                        -450.008530   \n",
       "2016-01-15 03:00:00                        -450.619948   \n",
       "2016-01-15 04:00:00                        -449.599614   \n",
       "\n",
       "                     rougher.state.floatbank10_c_air  \\\n",
       "date                                                   \n",
       "2016-01-15 00:00:00                      1602.375000   \n",
       "2016-01-15 01:00:00                      1600.479580   \n",
       "2016-01-15 02:00:00                      1599.672797   \n",
       "2016-01-15 03:00:00                      1600.012842   \n",
       "2016-01-15 04:00:00                      1600.357732   \n",
       "\n",
       "                     rougher.state.floatbank10_c_level  \\\n",
       "date                                                     \n",
       "2016-01-15 00:00:00                        -442.204468   \n",
       "2016-01-15 01:00:00                        -449.830646   \n",
       "2016-01-15 02:00:00                        -449.954491   \n",
       "2016-01-15 03:00:00                        -449.910497   \n",
       "2016-01-15 04:00:00                        -450.034364   \n",
       "\n",
       "                     rougher.state.floatbank10_d_air  \\\n",
       "date                                                   \n",
       "2016-01-15 00:00:00                      1598.937256   \n",
       "2016-01-15 01:00:00                      1600.527589   \n",
       "2016-01-15 02:00:00                      1599.849325   \n",
       "2016-01-15 03:00:00                      1597.725177   \n",
       "2016-01-15 04:00:00                      1599.759049   \n",
       "\n",
       "                     rougher.state.floatbank10_d_level  \\\n",
       "date                                                     \n",
       "2016-01-15 00:00:00                        -451.294128   \n",
       "2016-01-15 01:00:00                        -449.953649   \n",
       "2016-01-15 02:00:00                        -449.954185   \n",
       "2016-01-15 03:00:00                        -450.130127   \n",
       "2016-01-15 04:00:00                        -449.909799   \n",
       "\n",
       "                     rougher.state.floatbank10_e_air  \\\n",
       "date                                                   \n",
       "2016-01-15 00:00:00                      1404.472046   \n",
       "2016-01-15 01:00:00                      1399.227084   \n",
       "2016-01-15 02:00:00                      1399.180945   \n",
       "2016-01-15 03:00:00                      1400.943157   \n",
       "2016-01-15 04:00:00                      1401.560902   \n",
       "\n",
       "                     rougher.state.floatbank10_e_level  \\\n",
       "date                                                     \n",
       "2016-01-15 00:00:00                        -455.462982   \n",
       "2016-01-15 01:00:00                        -450.869848   \n",
       "2016-01-15 02:00:00                        -449.937588   \n",
       "2016-01-15 03:00:00                        -450.030142   \n",
       "2016-01-15 04:00:00                        -448.877187   \n",
       "\n",
       "                     rougher.state.floatbank10_f_air  \\\n",
       "date                                                   \n",
       "2016-01-15 00:00:00                      1416.354980   \n",
       "2016-01-15 01:00:00                      1399.719514   \n",
       "2016-01-15 02:00:00                      1400.316682   \n",
       "2016-01-15 03:00:00                      1400.234743   \n",
       "2016-01-15 04:00:00                      1401.160227   \n",
       "\n",
       "                     rougher.state.floatbank10_f_level  \\\n",
       "date                                                     \n",
       "2016-01-15 00:00:00                        -451.939636   \n",
       "2016-01-15 01:00:00                        -450.119001   \n",
       "2016-01-15 02:00:00                        -450.527147   \n",
       "2016-01-15 03:00:00                        -449.790835   \n",
       "2016-01-15 04:00:00                        -450.407128   \n",
       "\n",
       "                     secondary_cleaner.output.tail_ag  \\\n",
       "date                                                    \n",
       "2016-01-15 00:00:00                         14.500184   \n",
       "2016-01-15 01:00:00                         14.265474   \n",
       "2016-01-15 02:00:00                         14.115662   \n",
       "2016-01-15 03:00:00                         13.732071   \n",
       "2016-01-15 04:00:00                         14.079996   \n",
       "\n",
       "                     secondary_cleaner.output.tail_pb  \\\n",
       "date                                                    \n",
       "2016-01-15 00:00:00                          4.694824   \n",
       "2016-01-15 01:00:00                          4.592547   \n",
       "2016-01-15 02:00:00                          4.624775   \n",
       "2016-01-15 03:00:00                          4.482453   \n",
       "2016-01-15 04:00:00                          4.470737   \n",
       "\n",
       "                     secondary_cleaner.output.tail_sol  \\\n",
       "date                                                     \n",
       "2016-01-15 00:00:00                           8.764648   \n",
       "2016-01-15 01:00:00                           9.001494   \n",
       "2016-01-15 02:00:00                           8.842896   \n",
       "2016-01-15 03:00:00                           9.122857   \n",
       "2016-01-15 04:00:00                           8.871028   \n",
       "\n",
       "                     secondary_cleaner.output.tail_au  \\\n",
       "date                                                    \n",
       "2016-01-15 00:00:00                          2.606185   \n",
       "2016-01-15 01:00:00                          2.488248   \n",
       "2016-01-15 02:00:00                          2.458187   \n",
       "2016-01-15 03:00:00                          2.322062   \n",
       "2016-01-15 04:00:00                          2.330448   \n",
       "\n",
       "                     secondary_cleaner.state.floatbank2_a_air  \\\n",
       "date                                                            \n",
       "2016-01-15 00:00:00                                 25.853109   \n",
       "2016-01-15 01:00:00                                 25.880539   \n",
       "2016-01-15 02:00:00                                 26.005245   \n",
       "2016-01-15 03:00:00                                 25.942508   \n",
       "2016-01-15 04:00:00                                 26.024787   \n",
       "\n",
       "                     secondary_cleaner.state.floatbank2_a_level  \\\n",
       "date                                                              \n",
       "2016-01-15 00:00:00                                 -498.526489   \n",
       "2016-01-15 01:00:00                                 -499.989656   \n",
       "2016-01-15 02:00:00                                 -499.929616   \n",
       "2016-01-15 03:00:00                                 -499.176749   \n",
       "2016-01-15 04:00:00                                 -500.279091   \n",
       "\n",
       "                     secondary_cleaner.state.floatbank2_b_air  \\\n",
       "date                                                            \n",
       "2016-01-15 00:00:00                                 23.893660   \n",
       "2016-01-15 01:00:00                                 23.889530   \n",
       "2016-01-15 02:00:00                                 23.886657   \n",
       "2016-01-15 03:00:00                                 23.955516   \n",
       "2016-01-15 04:00:00                                 23.955345   \n",
       "\n",
       "                     secondary_cleaner.state.floatbank2_b_level  \\\n",
       "date                                                              \n",
       "2016-01-15 00:00:00                                 -501.406281   \n",
       "2016-01-15 01:00:00                                 -500.372428   \n",
       "2016-01-15 02:00:00                                 -499.951928   \n",
       "2016-01-15 03:00:00                                 -499.848796   \n",
       "2016-01-15 04:00:00                                 -500.593614   \n",
       "\n",
       "                     secondary_cleaner.state.floatbank3_a_air  \\\n",
       "date                                                            \n",
       "2016-01-15 00:00:00                                 23.961798   \n",
       "2016-01-15 01:00:00                                 23.970550   \n",
       "2016-01-15 02:00:00                                 23.913535   \n",
       "2016-01-15 03:00:00                                 23.966838   \n",
       "2016-01-15 04:00:00                                 23.985703   \n",
       "\n",
       "                     secondary_cleaner.state.floatbank3_a_level  \\\n",
       "date                                                              \n",
       "2016-01-15 00:00:00                                 -495.262817   \n",
       "2016-01-15 01:00:00                                 -500.085473   \n",
       "2016-01-15 02:00:00                                 -499.442343   \n",
       "2016-01-15 03:00:00                                 -500.008812   \n",
       "2016-01-15 04:00:00                                 -500.083811   \n",
       "\n",
       "                     secondary_cleaner.state.floatbank3_b_air  \\\n",
       "date                                                            \n",
       "2016-01-15 00:00:00                                 21.940409   \n",
       "2016-01-15 01:00:00                                 22.085714   \n",
       "2016-01-15 02:00:00                                 23.957717   \n",
       "2016-01-15 03:00:00                                 23.954443   \n",
       "2016-01-15 04:00:00                                 23.958945   \n",
       "\n",
       "                     secondary_cleaner.state.floatbank3_b_level  \\\n",
       "date                                                              \n",
       "2016-01-15 00:00:00                                 -499.340973   \n",
       "2016-01-15 01:00:00                                 -499.446897   \n",
       "2016-01-15 02:00:00                                 -499.901982   \n",
       "2016-01-15 03:00:00                                 -499.944710   \n",
       "2016-01-15 04:00:00                                 -499.990309   \n",
       "\n",
       "                     secondary_cleaner.state.floatbank4_a_air  \\\n",
       "date                                                            \n",
       "2016-01-15 00:00:00                                 14.016835   \n",
       "2016-01-15 01:00:00                                 13.992281   \n",
       "2016-01-15 02:00:00                                 14.015015   \n",
       "2016-01-15 03:00:00                                 14.036510   \n",
       "2016-01-15 04:00:00                                 14.027298   \n",
       "\n",
       "                     secondary_cleaner.state.floatbank4_a_level  \\\n",
       "date                                                              \n",
       "2016-01-15 00:00:00                                 -502.488007   \n",
       "2016-01-15 01:00:00                                 -505.503262   \n",
       "2016-01-15 02:00:00                                 -502.520901   \n",
       "2016-01-15 03:00:00                                 -500.857308   \n",
       "2016-01-15 04:00:00                                 -499.838632   \n",
       "\n",
       "                     secondary_cleaner.state.floatbank4_b_air  \\\n",
       "date                                                            \n",
       "2016-01-15 00:00:00                                 12.099931   \n",
       "2016-01-15 01:00:00                                 11.950531   \n",
       "2016-01-15 02:00:00                                 11.912783   \n",
       "2016-01-15 03:00:00                                 11.999550   \n",
       "2016-01-15 04:00:00                                 11.953070   \n",
       "\n",
       "                     secondary_cleaner.state.floatbank4_b_level  \\\n",
       "date                                                              \n",
       "2016-01-15 00:00:00                                 -504.715942   \n",
       "2016-01-15 01:00:00                                 -501.331529   \n",
       "2016-01-15 02:00:00                                 -501.133383   \n",
       "2016-01-15 03:00:00                                 -501.193686   \n",
       "2016-01-15 04:00:00                                 -501.053894   \n",
       "\n",
       "                     secondary_cleaner.state.floatbank5_a_air  \\\n",
       "date                                                            \n",
       "2016-01-15 00:00:00                                  9.925633   \n",
       "2016-01-15 01:00:00                                 10.039245   \n",
       "2016-01-15 02:00:00                                 10.070913   \n",
       "2016-01-15 03:00:00                                  9.970366   \n",
       "2016-01-15 04:00:00                                  9.925709   \n",
       "\n",
       "                     secondary_cleaner.state.floatbank5_a_level  \\\n",
       "date                                                              \n",
       "2016-01-15 00:00:00                                 -498.310211   \n",
       "2016-01-15 01:00:00                                 -500.169983   \n",
       "2016-01-15 02:00:00                                 -500.129135   \n",
       "2016-01-15 03:00:00                                 -499.201640   \n",
       "2016-01-15 04:00:00                                 -501.686727   \n",
       "\n",
       "                     secondary_cleaner.state.floatbank5_b_air  \\\n",
       "date                                                            \n",
       "2016-01-15 00:00:00                                  8.079666   \n",
       "2016-01-15 01:00:00                                  7.984757   \n",
       "2016-01-15 02:00:00                                  8.013877   \n",
       "2016-01-15 03:00:00                                  7.977324   \n",
       "2016-01-15 04:00:00                                  7.894242   \n",
       "\n",
       "                     secondary_cleaner.state.floatbank5_b_level  \\\n",
       "date                                                              \n",
       "2016-01-15 00:00:00                                 -500.470978   \n",
       "2016-01-15 01:00:00                                 -500.582168   \n",
       "2016-01-15 02:00:00                                 -500.517572   \n",
       "2016-01-15 03:00:00                                 -500.255908   \n",
       "2016-01-15 04:00:00                                 -500.356035   \n",
       "\n",
       "                     secondary_cleaner.state.floatbank6_a_air  \\\n",
       "date                                                            \n",
       "2016-01-15 00:00:00                                 14.151341   \n",
       "2016-01-15 01:00:00                                 13.998353   \n",
       "2016-01-15 02:00:00                                 14.028663   \n",
       "2016-01-15 03:00:00                                 14.005551   \n",
       "2016-01-15 04:00:00                                 13.996647   \n",
       "\n",
       "                     secondary_cleaner.state.floatbank6_a_level  \n",
       "date                                                             \n",
       "2016-01-15 00:00:00                                 -605.841980  \n",
       "2016-01-15 01:00:00                                 -599.787184  \n",
       "2016-01-15 02:00:00                                 -601.427363  \n",
       "2016-01-15 03:00:00                                 -599.996129  \n",
       "2016-01-15 04:00:00                                 -601.496691  "
      ]
     },
     "execution_count": 4,
     "metadata": {},
     "output_type": "execute_result"
    }
   ],
   "source": [
    "full.head()"
   ]
  },
  {
   "cell_type": "markdown",
   "metadata": {},
   "source": [
    "### Проверка формулы рассчёта эффективности обогащения"
   ]
  },
  {
   "cell_type": "markdown",
   "metadata": {},
   "source": [
    "Создадим функцию рассчёта эффективности восстановления золота из золотосодержащей руды. "
   ]
  },
  {
   "cell_type": "code",
   "execution_count": 5,
   "metadata": {},
   "outputs": [],
   "source": [
    "def recovery_calc(c,f,t):\n",
    "    \"\"\"\n",
    "    C — доля золота в концентрате после флотации/очистки;\n",
    "    F — доля золота в сырье/концентрате до флотации/очистки;\n",
    "    T — доля золота в отвальных хвостах после флотации/очистки.\n",
    "    \"\"\"\n",
    "    total_recovery = (c * (f - t)) / (f * (c - t)) * 100\n",
    "    return total_recovery"
   ]
  },
  {
   "cell_type": "code",
   "execution_count": 6,
   "metadata": {},
   "outputs": [],
   "source": [
    "formula_flotation_results = recovery_calc(train['rougher.output.concentrate_au'],\n",
    "                                          train['rougher.input.feed_au'],\n",
    "                                          train['rougher.output.tail_au'])\n",
    "true_flotation_results = train['rougher.output.recovery']"
   ]
  },
  {
   "cell_type": "code",
   "execution_count": 7,
   "metadata": {},
   "outputs": [
    {
     "name": "stdout",
     "output_type": "stream",
     "text": [
      "MAE для флотации составляет: 9.73512347450521e-15\n"
     ]
    }
   ],
   "source": [
    "print('MAE для флотации составляет:', mean_absolute_error(formula_flotation_results, true_flotation_results))"
   ]
  },
  {
   "cell_type": "markdown",
   "metadata": {},
   "source": [
    "Как мы видим, значение средней абсолютной ошибки очень близко к нулю, следовательно, использовать данную формулу рассчёта эффективности обогащения целесообразно."
   ]
  },
  {
   "cell_type": "markdown",
   "metadata": {},
   "source": [
    "### Анализ признаков тестового файла"
   ]
  },
  {
   "cell_type": "markdown",
   "metadata": {},
   "source": [
    "Изучим отличия тренировочного и тестового файлов."
   ]
  },
  {
   "cell_type": "code",
   "execution_count": 8,
   "metadata": {},
   "outputs": [
    {
     "data": {
      "text/plain": [
       "{'final.output.concentrate_ag',\n",
       " 'final.output.concentrate_au',\n",
       " 'final.output.concentrate_pb',\n",
       " 'final.output.concentrate_sol',\n",
       " 'final.output.recovery',\n",
       " 'final.output.tail_ag',\n",
       " 'final.output.tail_au',\n",
       " 'final.output.tail_pb',\n",
       " 'final.output.tail_sol',\n",
       " 'primary_cleaner.output.concentrate_ag',\n",
       " 'primary_cleaner.output.concentrate_au',\n",
       " 'primary_cleaner.output.concentrate_pb',\n",
       " 'primary_cleaner.output.concentrate_sol',\n",
       " 'primary_cleaner.output.tail_ag',\n",
       " 'primary_cleaner.output.tail_au',\n",
       " 'primary_cleaner.output.tail_pb',\n",
       " 'primary_cleaner.output.tail_sol',\n",
       " 'rougher.calculation.au_pb_ratio',\n",
       " 'rougher.calculation.floatbank10_sulfate_to_au_feed',\n",
       " 'rougher.calculation.floatbank11_sulfate_to_au_feed',\n",
       " 'rougher.calculation.sulfate_to_au_concentrate',\n",
       " 'rougher.output.concentrate_ag',\n",
       " 'rougher.output.concentrate_au',\n",
       " 'rougher.output.concentrate_pb',\n",
       " 'rougher.output.concentrate_sol',\n",
       " 'rougher.output.recovery',\n",
       " 'rougher.output.tail_ag',\n",
       " 'rougher.output.tail_au',\n",
       " 'rougher.output.tail_pb',\n",
       " 'rougher.output.tail_sol',\n",
       " 'secondary_cleaner.output.tail_ag',\n",
       " 'secondary_cleaner.output.tail_au',\n",
       " 'secondary_cleaner.output.tail_pb',\n",
       " 'secondary_cleaner.output.tail_sol'}"
      ]
     },
     "execution_count": 8,
     "metadata": {},
     "output_type": "execute_result"
    }
   ],
   "source": [
    "difference = set(train.columns) - set(test.columns)\n",
    "difference"
   ]
  },
  {
   "cell_type": "markdown",
   "metadata": {},
   "source": [
    "В файле с тестовыми данными отсутствуют выходные параметры (output)."
   ]
  },
  {
   "cell_type": "markdown",
   "metadata": {},
   "source": [
    "### Предобработка данных"
   ]
  },
  {
   "cell_type": "markdown",
   "metadata": {},
   "source": [
    "#### Проверка на дубликаты"
   ]
  },
  {
   "cell_type": "code",
   "execution_count": 9,
   "metadata": {},
   "outputs": [],
   "source": [
    "train.name = 'train'\n",
    "test.name = 'test'\n",
    "full.name = 'full'"
   ]
  },
  {
   "cell_type": "code",
   "execution_count": 10,
   "metadata": {},
   "outputs": [
    {
     "name": "stdout",
     "output_type": "stream",
     "text": [
      "В файле train 0 дубликатов\n",
      "В файле test 0 дубликатов\n",
      "В файле full 0 дубликатов\n"
     ]
    }
   ],
   "source": [
    "for df in train,test,full:\n",
    "    duplicated_sum = df.duplicated().sum().sum()\n",
    "    print(f'В файле {df.name} {duplicated_sum} дубликатов')"
   ]
  },
  {
   "cell_type": "markdown",
   "metadata": {},
   "source": [
    "#### Проверка на пропуски"
   ]
  },
  {
   "cell_type": "code",
   "execution_count": 11,
   "metadata": {
    "scrolled": true
   },
   "outputs": [
    {
     "name": "stdout",
     "output_type": "stream",
     "text": [
      "В файле train 4100 пропусков, размер (14149, 86)\n",
      "В файле test 90 пропусков, размер (5290, 52)\n",
      "В файле full 4481 пропусков, размер (19439, 86)\n"
     ]
    }
   ],
   "source": [
    "for df in train,test,full:\n",
    "    missing_sum = df.isna().sum().sum()\n",
    "    print(f'В файле {df.name} {missing_sum} пропусков, размер {df.shape}')"
   ]
  },
  {
   "cell_type": "markdown",
   "metadata": {},
   "source": [
    "Так как из условия известно, что соседние по времени параметры зачастую схожи представляется целесообразным не отбрасывать строки с пропущенными значениями, а заменить их методом интерполяции."
   ]
  },
  {
   "cell_type": "code",
   "execution_count": 12,
   "metadata": {},
   "outputs": [],
   "source": [
    "train, test, full = train.interpolate(), test.interpolate(), full.interpolate()"
   ]
  },
  {
   "cell_type": "code",
   "execution_count": 13,
   "metadata": {},
   "outputs": [],
   "source": [
    "train.name = 'train'\n",
    "test.name = 'test'\n",
    "full.name = 'full'"
   ]
  },
  {
   "cell_type": "code",
   "execution_count": 14,
   "metadata": {},
   "outputs": [
    {
     "name": "stdout",
     "output_type": "stream",
     "text": [
      "В файле train 0 пропусков, размер (14149, 86)\n",
      "В файле test 0 пропусков, размер (5290, 52)\n",
      "В файле full 0 пропусков, размер (19439, 86)\n"
     ]
    }
   ],
   "source": [
    "for df in train,test,full:\n",
    "    missing_sum = df.isna().sum().sum()\n",
    "    print(f'В файле {df.name} {missing_sum} пропусков, размер {df.shape}')"
   ]
  },
  {
   "cell_type": "markdown",
   "metadata": {},
   "source": [
    "<a id='section_2'></a>\n",
    "## Исследовательский анализ данных"
   ]
  },
  {
   "cell_type": "markdown",
   "metadata": {},
   "source": [
    "### Изменение концентрации металлов (Au, Ag, Pb) на различных этапах очистки"
   ]
  },
  {
   "cell_type": "markdown",
   "metadata": {},
   "source": [
    "Исследуем концентрации на выходах процессов очистки и в остаточных хвостах."
   ]
  },
  {
   "cell_type": "code",
   "execution_count": 15,
   "metadata": {},
   "outputs": [],
   "source": [
    "import warnings\n",
    "warnings.simplefilter(action='ignore', category=FutureWarning)"
   ]
  },
  {
   "cell_type": "code",
   "execution_count": 16,
   "metadata": {},
   "outputs": [
    {
     "data": {
      "image/png": "[encoded data removed]",
      "text/plain": [
       "<Figure size 1080x288 with 3 Axes>"
      ]
     },
     "metadata": {
      "needs_background": "light"
     },
     "output_type": "display_data"
    }
   ],
   "source": [
    "process = ['rougher.input.feed',\n",
    "           'rougher.output.concentrate',\n",
    "           'primary_cleaner.output.concentrate',\n",
    "           'final.output.concentrate']\n",
    "metals = ['au', 'ag', 'pb']\n",
    "\n",
    "fig, axs = plt.subplots(1, 3, figsize=(15,4), layout=\"constrained\")\n",
    "fig.suptitle('Концентрация металлов на различных этапах обработки', fontsize=20)\n",
    "\n",
    "for metal, ax in zip(metals, axs):\n",
    "    ax.set_title(metal)\n",
    "    for stage in process:        \n",
    "        cols = full.columns.str.contains(stage+'_'+metal)\n",
    "        sns.histplot(full.loc[:, cols], bins=20, label=stage, ax=ax, kde=True)\n",
    "        \n",
    "plt.legend()\n",
    "plt.show()"
   ]
  },
  {
   "cell_type": "code",
   "execution_count": 17,
   "metadata": {},
   "outputs": [
    {
     "data": {
      "image/png": "[encoded data removed]",
      "text/plain": [
       "<Figure size 1080x288 with 3 Axes>"
      ]
     },
     "metadata": {
      "needs_background": "light"
     },
     "output_type": "display_data"
    }
   ],
   "source": [
    "process = ['rougher.input.feed',\n",
    "           'rougher.output.concentrate',\n",
    "           'primary_cleaner.output.concentrate',\n",
    "           'final.output.concentrate']\n",
    "metals = ['au', 'ag', 'pb']\n",
    "\n",
    "fig, axs = plt.subplots(1, 3, figsize=(15,4), layout=\"constrained\")\n",
    "fig.suptitle('Концентрация металлов на различных этапах обработки', fontsize=20)\n",
    "\n",
    "for metal, ax in zip(metals, axs):\n",
    "    ax.set_title(metal)\n",
    "    for stage in process:        \n",
    "        cols = full.columns.str.contains(stage+'_'+metal)\n",
    "        sns.distplot(full.loc[:, cols], bins=20, label=stage, ax=ax, kde=True)\n",
    "        \n",
    "plt.legend()\n",
    "plt.show()"
   ]
  },
  {
   "cell_type": "code",
   "execution_count": 18,
   "metadata": {},
   "outputs": [
    {
     "data": {
      "image/png": "[encoded data removed]",
      "text/plain": [
       "<Figure size 1080x360 with 3 Axes>"
      ]
     },
     "metadata": {
      "needs_background": "light"
     },
     "output_type": "display_data"
    }
   ],
   "source": [
    "process = ['rougher.input.feed',\n",
    "           'rougher.output.concentrate',\n",
    "           'primary_cleaner.output.concentrate',\n",
    "           'final.output.concentrate']\n",
    "colors = ['#1E90FF', '#BDB76B', '#FF6347', '#DA70D6']\n",
    "metals = ['au', 'ag', 'pb']\n",
    "\n",
    "fig, axs = plt.subplots(1, 3, figsize=(15,5), layout=\"constrained\")\n",
    "for metal, ax in zip(metals, axs):\n",
    "    ax.set_title(metal, size=15)\n",
    "    ax.set_xlabel('Concentration, %')\n",
    "    for stage, color in zip(process, colors):\n",
    "        sns.histplot(full[stage+'_'+metal], bins=30, color=color, label=stage, ax=ax, kde=True)\n",
    "        \n",
    "fig.suptitle('Концентрация металлов на различных этапах обработки', fontsize=20)\n",
    "plt.legend()\n",
    "plt.show()"
   ]
  },
  {
   "cell_type": "markdown",
   "metadata": {},
   "source": [
    "На графиках видно увеличение относительного количества золота в концентрате."
   ]
  },
  {
   "cell_type": "markdown",
   "metadata": {},
   "source": [
    "### Сравнение распределения размеров гранул сырья на обучающей и тестовой выборках"
   ]
  },
  {
   "cell_type": "code",
   "execution_count": 19,
   "metadata": {},
   "outputs": [
    {
     "data": {
      "image/png": "[encoded data removed]",
      "text/plain": [
       "<Figure size 1080x288 with 2 Axes>"
      ]
     },
     "metadata": {
      "needs_background": "light"
     },
     "output_type": "display_data"
    }
   ],
   "source": [
    "process = ['rougher.input.feed_size',\n",
    "           'primary_cleaner.input.feed_size']\n",
    "colors = ['r', 'g']\n",
    "\n",
    "fig, axs = plt.subplots(1, 2, figsize=(15,4)) #, layout=\"constrained\")\n",
    "fig.suptitle('Распределение размеров гранул на различных этапах по файлам', fontsize=20)\n",
    "\n",
    "for stage, ax in zip(process, axs):\n",
    "    for df,color in zip([train, test], colors):        \n",
    "        sns_ax = sns.distplot(df.loc[:, stage], label=df.name, color=color, ax=ax, kde=True)\n",
    "plt.legend()\n",
    "plt.show()"
   ]
  },
  {
   "cell_type": "markdown",
   "metadata": {},
   "source": [
    "Распределения размеров гранул в тренировочном и тестовом датасете отличаются не сильно, следовательно, ошибка модели будет небольшой."
   ]
  },
  {
   "cell_type": "markdown",
   "metadata": {},
   "source": [
    "### Анализ суммарной концентрации всех веществ на разных стадиях"
   ]
  },
  {
   "cell_type": "code",
   "execution_count": 20,
   "metadata": {},
   "outputs": [],
   "source": [
    "total_feed = full['rougher.input.feed_ag'] + full['rougher.input.feed_au'] + \\\n",
    "             full['rougher.input.feed_pb'] + full['rougher.input.feed_sol']\n",
    "\n",
    "total_rougher_concentrate = full['rougher.output.concentrate_ag'] + full['rougher.output.concentrate_au'] + \\\n",
    "                            full['rougher.output.concentrate_pb'] + full['rougher.output.concentrate_sol']\n",
    "\n",
    "total_final_concentrate = full['final.output.concentrate_ag'] + full['final.output.concentrate_au'] + \\\n",
    "                          full['final.output.concentrate_pb'] + full['final.output.concentrate_sol']\n",
    "total_feed.name = 'total_feed'\n",
    "total_rougher_concentrate.name = 'total_rougher_concentrate'\n",
    "total_final_concentrate.name = 'total_final_concentrate'"
   ]
  },
  {
   "cell_type": "code",
   "execution_count": 21,
   "metadata": {},
   "outputs": [
    {
     "data": {
      "image/png": "[encoded data removed]",
      "text/plain": [
       "<Figure size 720x360 with 1 Axes>"
      ]
     },
     "metadata": {
      "needs_background": "light"
     },
     "output_type": "display_data"
    }
   ],
   "source": [
    "total_values = [total_feed, total_rougher_concentrate, total_final_concentrate]\n",
    "colors = ['r', 'g', 'b']\n",
    "\n",
    "fig, ax = plt.subplots(figsize=(10,5))\n",
    "for summary, color in zip(total_values, colors):\n",
    "    sns.distplot(summary, color=color, label=summary.name)\n",
    "    \n",
    "ax.set_xlabel('Суммарная концентрация')\n",
    "plt.legend()\n",
    "plt.show()"
   ]
  },
  {
   "cell_type": "markdown",
   "metadata": {},
   "source": [
    "На графике видно, что концентрация веществ после прохождения всех этапов значительно увеличивается. Более узкое распределение концентрата после финального этапа говорит о том, что процесс очистки выдаёт стабильный результат. При этом наблюдаются выбросы в районе нулевого значения, которые по логике являются сбоем измерительного оборудования, либо связаны с ошибками при выгрузке данных. Следовательно, необходимо избавиться от нулевых значений в тренировочной выборке, чтобы избежать погрешностей при обучении моделей."
   ]
  },
  {
   "cell_type": "code",
   "execution_count": 22,
   "metadata": {},
   "outputs": [],
   "source": [
    "total_feed = train['rougher.input.feed_ag'] + train['rougher.input.feed_au'] + \\\n",
    "             train['rougher.input.feed_pb'] + train['rougher.input.feed_sol']\n",
    "\n",
    "total_rougher_concentrate = train['rougher.output.concentrate_ag'] + train['rougher.output.concentrate_au'] + \\\n",
    "                            train['rougher.output.concentrate_pb'] + train['rougher.output.concentrate_sol']\n",
    "\n",
    "total_final_concentrate = train['final.output.concentrate_ag'] + train['final.output.concentrate_au'] + \\\n",
    "                          train['final.output.concentrate_pb'] + train['final.output.concentrate_sol']\n",
    "total_feed.name = 'total_feed'\n",
    "total_rougher_concentrate.name = 'total_rougher_concentrate'\n",
    "total_final_concentrate.name = 'total_final_concentrate'"
   ]
  },
  {
   "cell_type": "code",
   "execution_count": 23,
   "metadata": {},
   "outputs": [
    {
     "name": "stderr",
     "output_type": "stream",
     "text": [
      "C:\\Users\\Egor\\AppData\\Local\\Temp\\ipykernel_6588\\2335936335.py:3: UserWarning: Boolean Series key will be reindexed to match DataFrame index.\n",
      "  train = train[total_final_concentrate > 0]\n"
     ]
    }
   ],
   "source": [
    "train = train[total_feed > 0]\n",
    "train = train[total_rougher_concentrate > 0]\n",
    "train = train[total_final_concentrate > 0]"
   ]
  },
  {
   "cell_type": "code",
   "execution_count": 24,
   "metadata": {},
   "outputs": [
    {
     "data": {
      "image/png": "[encoded data removed]",
      "text/plain": [
       "<Figure size 720x360 with 1 Axes>"
      ]
     },
     "metadata": {
      "needs_background": "light"
     },
     "output_type": "display_data"
    }
   ],
   "source": [
    "total_values = [total_feed, total_rougher_concentrate, total_final_concentrate]\n",
    "colors = ['r', 'g', 'b']\n",
    "\n",
    "fig, ax = plt.subplots(figsize=(10,5))\n",
    "for summary, color in zip(total_values, colors):\n",
    "    sns.distplot(summary, color=color, label=summary.name)\n",
    "    \n",
    "ax.set_xlabel('Суммарная концентрация')\n",
    "plt.legend()\n",
    "plt.show()"
   ]
  },
  {
   "cell_type": "code",
   "execution_count": 25,
   "metadata": {},
   "outputs": [
    {
     "data": {
      "text/plain": [
       "(13795, 86)"
      ]
     },
     "execution_count": 25,
     "metadata": {},
     "output_type": "execute_result"
    }
   ],
   "source": [
    "train.shape"
   ]
  },
  {
   "cell_type": "markdown",
   "metadata": {},
   "source": [
    "<a id='section_3'></a>\n",
    "## Создание модели"
   ]
  },
  {
   "cell_type": "markdown",
   "metadata": {},
   "source": [
    "### Подготовка признаков"
   ]
  },
  {
   "cell_type": "markdown",
   "metadata": {},
   "source": [
    "Так как в тестовой выборке отсутсвуют все выходные параметры, в обучающей выборке от них тоже необходимо избавиться."
   ]
  },
  {
   "cell_type": "code",
   "execution_count": 26,
   "metadata": {},
   "outputs": [],
   "source": [
    "y_train = train[['rougher.output.recovery', 'final.output.recovery']]\n",
    "y_test = full[full.index.isin(test.index)][['rougher.output.recovery', 'final.output.recovery']]\n",
    "X_train = train.drop(difference, axis=1)\n",
    "X_test = test"
   ]
  },
  {
   "cell_type": "code",
   "execution_count": 27,
   "metadata": {},
   "outputs": [],
   "source": [
    "feature_scaler = StandardScaler()\n",
    "\n",
    "feature_scaler.fit(X_train)\n",
    "\n",
    "X_train = pd.DataFrame(feature_scaler.transform(X_train), columns=X_train.columns)\n",
    "X_test = pd.DataFrame(feature_scaler.transform(X_test), columns=X_test.columns)\n",
    "\n",
    "y_1_train, y_2_train = y_train['rougher.output.recovery'], y_train['final.output.recovery']\n",
    "y_1_test, y_2_test = y_test['rougher.output.recovery'], y_test['final.output.recovery']"
   ]
  },
  {
   "cell_type": "code",
   "execution_count": 28,
   "metadata": {},
   "outputs": [
    {
     "data": {
      "text/plain": [
       "((13795, 52), (5290, 52))"
      ]
     },
     "execution_count": 28,
     "metadata": {},
     "output_type": "execute_result"
    }
   ],
   "source": [
    "# проверка\n",
    "X_train.shape, X_test.shape"
   ]
  },
  {
   "cell_type": "markdown",
   "metadata": {},
   "source": [
    "### Функция рассчёта sMAPE"
   ]
  },
  {
   "cell_type": "markdown",
   "metadata": {},
   "source": [
    "Для оценки качества модели будем использовать метрику sMAPE."
   ]
  },
  {
   "cell_type": "code",
   "execution_count": 29,
   "metadata": {},
   "outputs": [],
   "source": [
    "def smape(y_true, y_pred):\n",
    "    return 100/len(y_true) * np.sum(2 * np.abs(y_pred - y_true) / (np.abs(y_true) + np.abs(y_pred)))"
   ]
  },
  {
   "cell_type": "code",
   "execution_count": 30,
   "metadata": {},
   "outputs": [],
   "source": [
    " def total_smape_info(y_true, y_pred):\n",
    "    print(f'Итоговый sMAPE: {round(0.25 * smape(y_true, y_pred)[0] + 0.75 * smape(y_true, y_pred)[1], 2)} %')"
   ]
  },
  {
   "cell_type": "code",
   "execution_count": 31,
   "metadata": {},
   "outputs": [],
   "source": [
    "def total_smape(y_true, y_pred):\n",
    "    rougher_smape = smape(y_true, y_pred)[0]\n",
    "    final_smape = smape(y_true, y_pred)[1]\n",
    "    return 0.25 * rougher_smape + 0.75 * final_smape"
   ]
  },
  {
   "cell_type": "code",
   "execution_count": 32,
   "metadata": {},
   "outputs": [],
   "source": [
    "my_scorer = make_scorer(total_smape, greater_is_better=False)"
   ]
  },
  {
   "cell_type": "markdown",
   "metadata": {},
   "source": [
    "### Линейная регрессия"
   ]
  },
  {
   "cell_type": "code",
   "execution_count": 33,
   "metadata": {},
   "outputs": [
    {
     "name": "stdout",
     "output_type": "stream",
     "text": [
      "Оценка модели после кросс валидации: 10.09\n"
     ]
    }
   ],
   "source": [
    "lr = LinearRegression()\n",
    "\n",
    "scores = cross_val_score(lr, X_train, y_train, cv=5, scoring=my_scorer)\n",
    "final_score = pd.Series(scores).mean()\n",
    "\n",
    "print('Оценка модели после кросс валидации:', round(np.abs(final_score), 2))"
   ]
  },
  {
   "cell_type": "markdown",
   "metadata": {},
   "source": [
    "### Decision Tree"
   ]
  },
  {
   "cell_type": "code",
   "execution_count": 34,
   "metadata": {},
   "outputs": [
    {
     "name": "stderr",
     "output_type": "stream",
     "text": [
      "C:\\Anaconda\\lib\\site-packages\\sklearn\\model_selection\\_search.py:292: UserWarning: The total space of parameters 625 is smaller than n_iter=2299. Running 625 iterations. For exhaustive searches, use GridSearchCV.\n",
      "  warnings.warn(\n"
     ]
    },
    {
     "name": "stdout",
     "output_type": "stream",
     "text": [
      "Оценка модели после кросс валидации: 10.33\n",
      "CPU times: total: 5.58 s\n",
      "Wall time: 13 s\n"
     ]
    },
    {
     "data": {
      "text/plain": [
       "{'min_samples_split': 7, 'min_samples_leaf': 7, 'max_depth': 3}"
      ]
     },
     "execution_count": 34,
     "metadata": {},
     "output_type": "execute_result"
    }
   ],
   "source": [
    "%%time\n",
    "dt = DecisionTreeRegressor()\n",
    "\n",
    "param_grid = {'max_depth': [int(x) for x in np.linspace(1, 25, num = 25)],\n",
    "              'min_samples_split': [2,3,5,7,9],\n",
    "              'min_samples_leaf': [1,3,5,7,9]}\n",
    "\n",
    "dt_hrs = HalvingRandomSearchCV(DecisionTreeRegressor(random_state=12345), \n",
    "                                param_grid, \n",
    "                                cv=3,\n",
    "                                scoring=my_scorer,\n",
    "                                n_jobs=-1,\n",
    "                                random_state=12345)\n",
    "\n",
    "dt_hrs.fit(X_train, y_train)\n",
    "print('Оценка модели после кросс валидации:', round(np.abs(dt_hrs.best_score_), 2))\n",
    "dt_hrs.best_params_"
   ]
  },
  {
   "cell_type": "markdown",
   "metadata": {},
   "source": [
    "### Random Forest"
   ]
  },
  {
   "cell_type": "markdown",
   "metadata": {},
   "source": [
    "Обучим моедль RandomForestRegressor с методом подбора гиперпараметров HalvingRandomSearchCV."
   ]
  },
  {
   "cell_type": "code",
   "execution_count": 35,
   "metadata": {},
   "outputs": [
    {
     "name": "stdout",
     "output_type": "stream",
     "text": [
      "Оценка модели после кросс валидации: 9.52\n",
      "CPU times: total: 18.1 s\n",
      "Wall time: 2min 13s\n"
     ]
    },
    {
     "data": {
      "text/plain": [
       "{'n_estimators': 100,\n",
       " 'min_samples_split': 5,\n",
       " 'min_samples_leaf': 3,\n",
       " 'max_features': 'sqrt',\n",
       " 'max_depth': 4}"
      ]
     },
     "execution_count": 35,
     "metadata": {},
     "output_type": "execute_result"
    }
   ],
   "source": [
    "%%time\n",
    "param_grid = {'n_estimators': [int(x) for x in np.linspace(start = 1, stop = 100, num = 10)],\n",
    "              'max_features': ['auto', 'sqrt'],\n",
    "              'max_depth': [int(x) for x in np.linspace(1, 25, num = 25)],\n",
    "              'min_samples_split': [2,3,5,7,9],\n",
    "              'min_samples_leaf': [1,3,5,7,9]}\n",
    "\n",
    "rfr_hrs = HalvingRandomSearchCV(RandomForestRegressor(random_state=12345), \n",
    "                                param_grid, \n",
    "                                cv=3, \n",
    "                                scoring=my_scorer,\n",
    "                                n_jobs=-1,\n",
    "                                max_resources=10000,\n",
    "                                random_state=12345)\n",
    "\n",
    "rfr_hrs.fit(X_train, y_train)\n",
    "print('Оценка модели после кросс валидации:', round(np.abs(rfr_hrs.best_score_), 2))\n",
    "rfr_hrs.best_params_"
   ]
  },
  {
   "cell_type": "markdown",
   "metadata": {},
   "source": [
    "Как мы видим, модель RandomForestRegressor с методом подбора гиперпараметров HalvingRandomSearchCV продемонстрировала наилучшую оценку, следовательно, она будет использоваться для проверки на тестовой выборке."
   ]
  },
  {
   "cell_type": "markdown",
   "metadata": {},
   "source": [
    "### Проверка"
   ]
  },
  {
   "cell_type": "code",
   "execution_count": 36,
   "metadata": {},
   "outputs": [
    {
     "name": "stdout",
     "output_type": "stream",
     "text": [
      "Итоговый sMAPE: 8.79 %\n"
     ]
    }
   ],
   "source": [
    "y_pred = rfr_hrs.predict(X_test)\n",
    "total_smape_info(y_test, y_pred)"
   ]
  },
  {
   "cell_type": "markdown",
   "metadata": {},
   "source": [
    "Для проверки модели на адекватность сравним результаты модели с простейшей моделью, предсказывающей целевые признаки по средним значениям."
   ]
  },
  {
   "cell_type": "code",
   "execution_count": 37,
   "metadata": {},
   "outputs": [
    {
     "name": "stdout",
     "output_type": "stream",
     "text": [
      "Итоговый sMAPE: 9.82 %\n"
     ]
    }
   ],
   "source": [
    "dummy = DummyRegressor(strategy='mean')\n",
    "dummy.fit(X_train, y_train)\n",
    "y_pred = dummy.predict(X_test)\n",
    "total_smape_info(y_test, y_pred)"
   ]
  },
  {
   "cell_type": "markdown",
   "metadata": {},
   "source": [
    "На тестовой выборке модель продемонстрировала результат в 8.79 %, что на 1,03 % лучше, чем предсказание константной модели. "
   ]
  },
  {
   "cell_type": "markdown",
   "metadata": {},
   "source": [
    "<a id='section_4'></a>\n",
    "## Общий вывод"
   ]
  },
  {
   "cell_type": "markdown",
   "metadata": {},
   "source": [
    "В ходе исследования были обработаны и проанализированы данные с параметрами очистки золота. \n",
    "Были изучены данные о изменениии концентрации метоллов на различных этапах переработки, созданы модели предсказания содержания золота в концентрате после флотации и финальной очистки, а также сделаны выводы и рекомендации. \n",
    "\n",
    "**После проделанного исследования можно сделать следующие выводы:**\n",
    "\n",
    "1. Выявленые в файлах пропуски необходимо заполнять методом интерполяции.\n",
    "2. Формула рассчёта эффективности обогащения показала высокую точность. \n",
    "3. В тестовой выборке отсутсвуют данные выходных параметров каждого из этапов обработки.\n",
    "4. Выявлено значительное увеличение концентрации веществ после прохождения всех этапов обработки.\n",
    "5. После проведения обработки сырья доля золота увеличивается в 6 раз.\n",
    "6. Создана модель, способная с погрешностью в 9% определять эффективность восстановления золота из золотосодержащей руды.\n",
    "\n",
    "**Рекомендации:**\n",
    "1. Обратить внимание на наличие аномальных значений в столбцах, связанных с концентрацией веществ.\n",
    "2. Использовать итоговую модель прогнозирования эффективности обогащения золотой руды."
   ]
  }
 ],
 "metadata": {
  "ExecuteTimeLog": [
   {
    "duration": 1062,
    "start_time": "2023-02-02T15:46:15.790Z"
   },
   {
    "duration": 0,
    "start_time": "2023-02-02T15:46:16.854Z"
   },
   {
    "duration": 0,
    "start_time": "2023-02-02T15:46:16.855Z"
   },
   {
    "duration": 0,
    "start_time": "2023-02-02T15:46:16.857Z"
   },
   {
    "duration": 0,
    "start_time": "2023-02-02T15:46:16.858Z"
   },
   {
    "duration": 0,
    "start_time": "2023-02-02T15:46:16.859Z"
   },
   {
    "duration": 0,
    "start_time": "2023-02-02T15:46:16.860Z"
   },
   {
    "duration": 0,
    "start_time": "2023-02-02T15:46:16.861Z"
   },
   {
    "duration": 0,
    "start_time": "2023-02-02T15:46:16.862Z"
   },
   {
    "duration": 1,
    "start_time": "2023-02-02T15:46:16.863Z"
   },
   {
    "duration": 0,
    "start_time": "2023-02-02T15:46:16.865Z"
   },
   {
    "duration": 0,
    "start_time": "2023-02-02T15:46:16.866Z"
   },
   {
    "duration": 0,
    "start_time": "2023-02-02T15:46:16.867Z"
   },
   {
    "duration": 0,
    "start_time": "2023-02-02T15:46:16.892Z"
   },
   {
    "duration": 0,
    "start_time": "2023-02-02T15:46:16.893Z"
   },
   {
    "duration": 0,
    "start_time": "2023-02-02T15:46:16.894Z"
   },
   {
    "duration": 1461,
    "start_time": "2023-02-02T15:46:45.245Z"
   },
   {
    "duration": 6,
    "start_time": "2023-02-02T15:47:18.887Z"
   },
   {
    "duration": 2969,
    "start_time": "2023-02-02T15:47:18.895Z"
   },
   {
    "duration": 3,
    "start_time": "2023-02-02T15:47:21.866Z"
   },
   {
    "duration": 75,
    "start_time": "2023-02-02T15:47:21.871Z"
   },
   {
    "duration": 4,
    "start_time": "2023-02-02T15:47:21.947Z"
   },
   {
    "duration": 27,
    "start_time": "2023-02-02T15:47:21.953Z"
   },
   {
    "duration": 10,
    "start_time": "2023-02-02T15:47:21.981Z"
   },
   {
    "duration": 7,
    "start_time": "2023-02-02T15:47:21.993Z"
   },
   {
    "duration": 5,
    "start_time": "2023-02-02T15:47:22.002Z"
   },
   {
    "duration": 261,
    "start_time": "2023-02-02T15:47:22.009Z"
   },
   {
    "duration": 24,
    "start_time": "2023-02-02T15:47:22.271Z"
   },
   {
    "duration": 96,
    "start_time": "2023-02-02T15:47:22.296Z"
   },
   {
    "duration": 3,
    "start_time": "2023-02-02T15:47:22.394Z"
   },
   {
    "duration": 24,
    "start_time": "2023-02-02T15:47:22.398Z"
   },
   {
    "duration": 15,
    "start_time": "2023-02-02T15:47:22.424Z"
   },
   {
    "duration": 55,
    "start_time": "2023-02-02T15:47:22.441Z"
   },
   {
    "duration": 13998,
    "start_time": "2023-02-02T15:48:06.773Z"
   },
   {
    "duration": 13939,
    "start_time": "2023-02-02T15:54:35.985Z"
   },
   {
    "duration": 13373,
    "start_time": "2023-02-02T16:01:43.907Z"
   },
   {
    "duration": 13734,
    "start_time": "2023-02-02T16:02:09.091Z"
   },
   {
    "duration": 7057,
    "start_time": "2023-02-02T16:06:28.301Z"
   },
   {
    "duration": 334,
    "start_time": "2023-02-02T16:08:19.624Z"
   },
   {
    "duration": 2388,
    "start_time": "2023-02-02T16:37:15.822Z"
   },
   {
    "duration": 3867,
    "start_time": "2023-02-02T16:37:18.212Z"
   },
   {
    "duration": 3,
    "start_time": "2023-02-02T16:37:22.081Z"
   },
   {
    "duration": 73,
    "start_time": "2023-02-02T16:37:22.085Z"
   },
   {
    "duration": 3,
    "start_time": "2023-02-02T16:37:22.160Z"
   },
   {
    "duration": 13,
    "start_time": "2023-02-02T16:37:22.164Z"
   },
   {
    "duration": 7,
    "start_time": "2023-02-02T16:37:22.179Z"
   },
   {
    "duration": 8,
    "start_time": "2023-02-02T16:37:22.187Z"
   },
   {
    "duration": 6,
    "start_time": "2023-02-02T16:37:22.197Z"
   },
   {
    "duration": 247,
    "start_time": "2023-02-02T16:37:22.205Z"
   },
   {
    "duration": 12,
    "start_time": "2023-02-02T16:37:22.453Z"
   },
   {
    "duration": 96,
    "start_time": "2023-02-02T16:37:22.466Z"
   },
   {
    "duration": 4,
    "start_time": "2023-02-02T16:37:22.564Z"
   },
   {
    "duration": 15,
    "start_time": "2023-02-02T16:37:22.571Z"
   },
   {
    "duration": 3,
    "start_time": "2023-02-02T16:37:22.588Z"
   },
   {
    "duration": 481,
    "start_time": "2023-02-02T16:37:22.593Z"
   },
   {
    "duration": 7189,
    "start_time": "2023-02-02T16:38:21.462Z"
   },
   {
    "duration": 7353,
    "start_time": "2023-02-02T16:38:58.580Z"
   },
   {
    "duration": 439,
    "start_time": "2023-02-02T16:40:15.321Z"
   },
   {
    "duration": 456,
    "start_time": "2023-02-02T16:41:36.343Z"
   },
   {
    "duration": 71,
    "start_time": "2023-02-02T16:47:48.308Z"
   },
   {
    "duration": 337,
    "start_time": "2023-02-02T16:48:10.652Z"
   },
   {
    "duration": 529,
    "start_time": "2023-02-02T16:48:33.997Z"
   },
   {
    "duration": 378,
    "start_time": "2023-02-02T16:49:36.284Z"
   },
   {
    "duration": 486,
    "start_time": "2023-02-02T16:50:13.264Z"
   },
   {
    "duration": 366,
    "start_time": "2023-02-02T16:51:57.929Z"
   },
   {
    "duration": 384,
    "start_time": "2023-02-02T16:54:11.733Z"
   },
   {
    "duration": 363,
    "start_time": "2023-02-02T16:56:42.750Z"
   },
   {
    "duration": 353,
    "start_time": "2023-02-02T16:58:53.758Z"
   },
   {
    "duration": 351,
    "start_time": "2023-02-02T17:00:18.612Z"
   },
   {
    "duration": 501,
    "start_time": "2023-02-02T17:00:47.796Z"
   },
   {
    "duration": 376,
    "start_time": "2023-02-02T17:01:05.937Z"
   },
   {
    "duration": 357,
    "start_time": "2023-02-02T17:01:31.583Z"
   },
   {
    "duration": 343,
    "start_time": "2023-02-02T17:02:47.885Z"
   },
   {
    "duration": 347,
    "start_time": "2023-02-02T17:03:09.339Z"
   },
   {
    "duration": 344,
    "start_time": "2023-02-02T17:04:14.800Z"
   },
   {
    "duration": 346,
    "start_time": "2023-02-02T17:04:50.846Z"
   },
   {
    "duration": 7366,
    "start_time": "2023-02-02T17:06:51.360Z"
   },
   {
    "duration": 16,
    "start_time": "2023-02-02T17:11:06.474Z"
   },
   {
    "duration": 334,
    "start_time": "2023-02-02T17:11:57.925Z"
   },
   {
    "duration": 8257,
    "start_time": "2023-02-02T17:12:13.045Z"
   },
   {
    "duration": 20,
    "start_time": "2023-02-02T17:13:05.937Z"
   },
   {
    "duration": 7496,
    "start_time": "2023-02-02T17:18:32.199Z"
   },
   {
    "duration": 7516,
    "start_time": "2023-02-02T17:19:02.945Z"
   },
   {
    "duration": 7012,
    "start_time": "2023-02-02T17:21:12.899Z"
   },
   {
    "duration": 7745,
    "start_time": "2023-02-02T17:21:44.983Z"
   },
   {
    "duration": 7375,
    "start_time": "2023-02-02T17:30:25.489Z"
   },
   {
    "duration": 6203,
    "start_time": "2023-02-02T17:31:12.410Z"
   },
   {
    "duration": 6980,
    "start_time": "2023-02-02T17:31:31.084Z"
   },
   {
    "duration": 7249,
    "start_time": "2023-02-02T17:32:10.868Z"
   },
   {
    "duration": 328,
    "start_time": "2023-02-02T17:49:54.382Z"
   },
   {
    "duration": 116,
    "start_time": "2023-02-02T17:59:27.147Z"
   },
   {
    "duration": 112,
    "start_time": "2023-02-02T17:59:53.984Z"
   },
   {
    "duration": 126,
    "start_time": "2023-02-02T18:00:43.216Z"
   },
   {
    "duration": 261,
    "start_time": "2023-02-02T18:02:20.153Z"
   },
   {
    "duration": 113,
    "start_time": "2023-02-02T18:03:10.118Z"
   },
   {
    "duration": 119,
    "start_time": "2023-02-02T18:04:34.854Z"
   },
   {
    "duration": 121,
    "start_time": "2023-02-02T18:05:18.056Z"
   },
   {
    "duration": 468,
    "start_time": "2023-02-02T18:07:02.580Z"
   },
   {
    "duration": 80,
    "start_time": "2023-02-02T18:08:39.063Z"
   },
   {
    "duration": 444,
    "start_time": "2023-02-02T18:08:52.286Z"
   },
   {
    "duration": 736,
    "start_time": "2023-02-02T18:09:31.363Z"
   },
   {
    "duration": 3060,
    "start_time": "2023-02-02T18:10:02.683Z"
   },
   {
    "duration": 2589,
    "start_time": "2023-02-02T18:11:59.648Z"
   },
   {
    "duration": 2210,
    "start_time": "2023-02-02T18:12:35.957Z"
   },
   {
    "duration": 3317,
    "start_time": "2023-02-02T18:21:15.594Z"
   },
   {
    "duration": 2065,
    "start_time": "2023-02-02T18:40:56.764Z"
   },
   {
    "duration": 740,
    "start_time": "2023-02-02T18:40:58.831Z"
   },
   {
    "duration": 3,
    "start_time": "2023-02-02T18:40:59.572Z"
   },
   {
    "duration": 73,
    "start_time": "2023-02-02T18:40:59.577Z"
   },
   {
    "duration": 3,
    "start_time": "2023-02-02T18:40:59.653Z"
   },
   {
    "duration": 8,
    "start_time": "2023-02-02T18:40:59.658Z"
   },
   {
    "duration": 9,
    "start_time": "2023-02-02T18:40:59.668Z"
   },
   {
    "duration": 15,
    "start_time": "2023-02-02T18:40:59.679Z"
   },
   {
    "duration": 16,
    "start_time": "2023-02-02T18:40:59.696Z"
   },
   {
    "duration": 241,
    "start_time": "2023-02-02T18:40:59.714Z"
   },
   {
    "duration": 12,
    "start_time": "2023-02-02T18:40:59.956Z"
   },
   {
    "duration": 97,
    "start_time": "2023-02-02T18:40:59.969Z"
   },
   {
    "duration": 3,
    "start_time": "2023-02-02T18:41:00.067Z"
   },
   {
    "duration": 18,
    "start_time": "2023-02-02T18:41:00.072Z"
   },
   {
    "duration": 5,
    "start_time": "2023-02-02T18:41:00.092Z"
   },
   {
    "duration": 138,
    "start_time": "2023-02-02T18:41:00.098Z"
   },
   {
    "duration": 0,
    "start_time": "2023-02-02T18:41:00.238Z"
   },
   {
    "duration": 0,
    "start_time": "2023-02-02T18:41:00.239Z"
   },
   {
    "duration": 0,
    "start_time": "2023-02-02T18:41:00.240Z"
   },
   {
    "duration": 0,
    "start_time": "2023-02-02T18:41:00.249Z"
   },
   {
    "duration": 0,
    "start_time": "2023-02-02T18:41:00.250Z"
   },
   {
    "duration": 0,
    "start_time": "2023-02-02T18:41:00.251Z"
   },
   {
    "duration": 0,
    "start_time": "2023-02-02T18:41:00.252Z"
   },
   {
    "duration": 0,
    "start_time": "2023-02-02T18:41:00.253Z"
   },
   {
    "duration": 0,
    "start_time": "2023-02-02T18:41:00.254Z"
   },
   {
    "duration": 0,
    "start_time": "2023-02-02T18:41:00.256Z"
   },
   {
    "duration": 0,
    "start_time": "2023-02-02T18:41:00.257Z"
   },
   {
    "duration": 0,
    "start_time": "2023-02-02T18:41:00.259Z"
   },
   {
    "duration": 8926,
    "start_time": "2023-02-02T18:42:05.781Z"
   },
   {
    "duration": 2194,
    "start_time": "2023-02-02T18:42:36.240Z"
   },
   {
    "duration": 739,
    "start_time": "2023-02-02T18:42:38.436Z"
   },
   {
    "duration": 3,
    "start_time": "2023-02-02T18:42:39.176Z"
   },
   {
    "duration": 76,
    "start_time": "2023-02-02T18:42:39.180Z"
   },
   {
    "duration": 3,
    "start_time": "2023-02-02T18:42:39.258Z"
   },
   {
    "duration": 22,
    "start_time": "2023-02-02T18:42:39.262Z"
   },
   {
    "duration": 8,
    "start_time": "2023-02-02T18:42:39.286Z"
   },
   {
    "duration": 23,
    "start_time": "2023-02-02T18:42:39.296Z"
   },
   {
    "duration": 9,
    "start_time": "2023-02-02T18:42:39.320Z"
   },
   {
    "duration": 240,
    "start_time": "2023-02-02T18:42:39.331Z"
   },
   {
    "duration": 12,
    "start_time": "2023-02-02T18:42:39.573Z"
   },
   {
    "duration": 102,
    "start_time": "2023-02-02T18:42:39.586Z"
   },
   {
    "duration": 4,
    "start_time": "2023-02-02T18:42:39.690Z"
   },
   {
    "duration": 23,
    "start_time": "2023-02-02T18:42:39.696Z"
   },
   {
    "duration": 4,
    "start_time": "2023-02-02T18:42:39.720Z"
   },
   {
    "duration": 8989,
    "start_time": "2023-02-02T18:42:39.726Z"
   },
   {
    "duration": 119,
    "start_time": "2023-02-02T18:42:48.717Z"
   },
   {
    "duration": 0,
    "start_time": "2023-02-02T18:42:48.838Z"
   },
   {
    "duration": 0,
    "start_time": "2023-02-02T18:42:48.839Z"
   },
   {
    "duration": 0,
    "start_time": "2023-02-02T18:42:48.840Z"
   },
   {
    "duration": 0,
    "start_time": "2023-02-02T18:42:48.841Z"
   },
   {
    "duration": 0,
    "start_time": "2023-02-02T18:42:48.848Z"
   },
   {
    "duration": 0,
    "start_time": "2023-02-02T18:42:48.849Z"
   },
   {
    "duration": 0,
    "start_time": "2023-02-02T18:42:48.850Z"
   },
   {
    "duration": 0,
    "start_time": "2023-02-02T18:42:48.850Z"
   },
   {
    "duration": 0,
    "start_time": "2023-02-02T18:42:48.851Z"
   },
   {
    "duration": 0,
    "start_time": "2023-02-02T18:42:48.852Z"
   },
   {
    "duration": 0,
    "start_time": "2023-02-02T18:42:48.853Z"
   },
   {
    "duration": 1073,
    "start_time": "2023-02-02T18:44:14.421Z"
   },
   {
    "duration": 8,
    "start_time": "2023-02-02T18:44:17.136Z"
   },
   {
    "duration": 1184,
    "start_time": "2023-02-02T18:44:17.896Z"
   },
   {
    "duration": 13,
    "start_time": "2023-02-02T18:44:20.691Z"
   },
   {
    "duration": 4,
    "start_time": "2023-02-02T18:44:21.388Z"
   },
   {
    "duration": 3,
    "start_time": "2023-02-02T18:44:22.536Z"
   },
   {
    "duration": 3,
    "start_time": "2023-02-02T18:44:23.623Z"
   },
   {
    "duration": 3,
    "start_time": "2023-02-02T18:44:24.256Z"
   },
   {
    "duration": 4,
    "start_time": "2023-02-02T18:44:24.816Z"
   },
   {
    "duration": 2,
    "start_time": "2023-02-02T18:44:26.083Z"
   },
   {
    "duration": 1418,
    "start_time": "2023-02-02T18:44:28.040Z"
   },
   {
    "duration": 33407,
    "start_time": "2023-02-02T18:44:29.460Z"
   },
   {
    "duration": 2301,
    "start_time": "2023-02-04T09:16:47.238Z"
   },
   {
    "duration": 768,
    "start_time": "2023-02-04T09:16:49.541Z"
   },
   {
    "duration": 6,
    "start_time": "2023-02-04T09:16:50.311Z"
   },
   {
    "duration": 94,
    "start_time": "2023-02-04T09:16:50.324Z"
   },
   {
    "duration": 4,
    "start_time": "2023-02-04T09:16:50.422Z"
   },
   {
    "duration": 10,
    "start_time": "2023-02-04T09:16:50.428Z"
   },
   {
    "duration": 18,
    "start_time": "2023-02-04T09:16:50.441Z"
   },
   {
    "duration": 10,
    "start_time": "2023-02-04T09:16:50.461Z"
   },
   {
    "duration": 6,
    "start_time": "2023-02-04T09:16:50.473Z"
   },
   {
    "duration": 262,
    "start_time": "2023-02-04T09:16:50.481Z"
   },
   {
    "duration": 14,
    "start_time": "2023-02-04T09:16:50.745Z"
   },
   {
    "duration": 111,
    "start_time": "2023-02-04T09:16:50.762Z"
   },
   {
    "duration": 4,
    "start_time": "2023-02-04T09:16:50.875Z"
   },
   {
    "duration": 28,
    "start_time": "2023-02-04T09:16:50.882Z"
   },
   {
    "duration": 7,
    "start_time": "2023-02-04T09:16:50.917Z"
   },
   {
    "duration": 136,
    "start_time": "2023-02-04T09:16:50.926Z"
   },
   {
    "duration": 0,
    "start_time": "2023-02-04T09:16:51.064Z"
   },
   {
    "duration": 0,
    "start_time": "2023-02-04T09:16:51.066Z"
   },
   {
    "duration": 0,
    "start_time": "2023-02-04T09:16:51.068Z"
   },
   {
    "duration": 0,
    "start_time": "2023-02-04T09:16:51.069Z"
   },
   {
    "duration": 0,
    "start_time": "2023-02-04T09:16:51.071Z"
   },
   {
    "duration": 0,
    "start_time": "2023-02-04T09:16:51.072Z"
   },
   {
    "duration": 0,
    "start_time": "2023-02-04T09:16:51.074Z"
   },
   {
    "duration": 0,
    "start_time": "2023-02-04T09:16:51.076Z"
   },
   {
    "duration": 9,
    "start_time": "2023-02-04T09:17:09.739Z"
   },
   {
    "duration": 1234,
    "start_time": "2023-02-04T09:17:10.456Z"
   },
   {
    "duration": 17,
    "start_time": "2023-02-04T09:17:14.496Z"
   },
   {
    "duration": 16,
    "start_time": "2023-02-04T09:17:22.634Z"
   },
   {
    "duration": 1398,
    "start_time": "2023-02-04T09:17:23.879Z"
   },
   {
    "duration": 18,
    "start_time": "2023-02-04T09:18:22.233Z"
   },
   {
    "duration": 1643,
    "start_time": "2023-02-04T09:19:11.500Z"
   },
   {
    "duration": 620,
    "start_time": "2023-02-04T09:20:07.329Z"
   },
   {
    "duration": 12,
    "start_time": "2023-02-04T09:20:34.134Z"
   },
   {
    "duration": 4,
    "start_time": "2023-02-04T09:21:11.738Z"
   }
  ],
  "kernelspec": {
   "display_name": "Python 3 (ipykernel)",
   "language": "python",
   "name": "python3"
  },
  "language_info": {
   "codemirror_mode": {
    "name": "ipython",
    "version": 3
   },
   "file_extension": ".py",
   "mimetype": "text/x-python",
   "name": "python",
   "nbconvert_exporter": "python",
   "pygments_lexer": "ipython3",
   "version": "3.9.12"
  },
  "toc": {
   "base_numbering": 1,
   "nav_menu": {},
   "number_sections": true,
   "sideBar": true,
   "skip_h1_title": true,
   "title_cell": "Содержание",
   "title_sidebar": "Contents",
   "toc_cell": false,
   "toc_position": {
    "height": "calc(100% - 180px)",
    "left": "10px",
    "top": "150px",
    "width": "280.128px"
   },
   "toc_section_display": true,
   "toc_window_display": true
  }
 },
 "nbformat": 4,
 "nbformat_minor": 2
}
