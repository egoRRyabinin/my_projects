{
 "cells": [
  {
   "cell_type": "markdown",
   "id": "d252805c",
   "metadata": {},
   "source": [
    "# Исследование видеоигр"
   ]
  },
  {
   "cell_type": "markdown",
   "id": "0e8f7498",
   "metadata": {},
   "source": [
    "# Введение"
   ]
  },
  {
   "cell_type": "markdown",
   "id": "97bc9379",
   "metadata": {},
   "source": [
    "### Описание проекта \n",
    "Проект нацелен на анализ данных об играх из открытых источников для того, чтобы установить параметры, которые позволят сделать ставку на потенциально популярный продукт и спланировать рекламные кампании.\n",
    "### Цель проекта\n",
    "Выявить определяющие успешность игры закономерности.\n",
    "### Описание данных\n",
    "**Из открытых источников доступны исторические данные до 2016 года о продажах игр, оценки пользователей и экспертов, жанры и платформы.**  \n",
    "\n",
    "В таблице представлены следующие значения:\n",
    "- Name — название игры\n",
    "- Platform — платформа\n",
    "- Year_of_Release — год выпуска\n",
    "- Genre — жанр игры\n",
    "- NA_sales — продажи в Северной Америке (миллионы проданных копий)\n",
    "- EU_sales — продажи в Европе (миллионы проданных копий)\n",
    "- JP_sales — продажи в Японии (миллионы проданных копий)\n",
    "- Other_sales — продажи в других странах (миллионы проданных копий)\n",
    "- Critic_Score — оценка критиков (максимум 100)\n",
    "- User_Score — оценка пользователей (максимум 10)\n",
    "- Rating — рейтинг от организации ESRB (англ. Entertainment Software Rating Board). Эта ассоциация определяет рейтинг компьютерных игр и присваивает им подходящую возрастную категорию.\n",
    "\n",
    "### План работы\n",
    "1. [Изучение общей информации о данных](#section_1)\n",
    "2. [Предобработка данных](#section_2)\n",
    "  - [Переименование столбцов](#section_2_1)\n",
    "  - [Обработка дубликатов](#section_2_2)\n",
    "  - [Преобразование типов данных](#section_2_3)\n",
    "  - [Обработка пропусков](#section_2_4)  \n",
    "3. [Исследовательский анализ данных](#section_3)\n",
    "  - [Выпуск игр по годам](#section_3_1)\n",
    "  - [Изменение продаж в зависимости от платформы](#section_3_2)\n",
    "  - [Формирование прогноза по данным на актуальный период](#section_3_3)\n",
    "  - [Определение потенциально прибыльных платформ](#section_3_4)\n",
    "  - [Изучение глобальных продаж игр в разбивке по платформам](#section_3_5)\n",
    "  - [Влияние на продажи внутри платформ отзывов пользователей и критиков](#section_3_6)\n",
    "  - [Изучение распределений игр по жанрам](#section_3_7)  \n",
    "4. [Составление портрета пользователя каждого региона (NA, EU, JP)](#section_4)\n",
    "  - [Самые популярные платформы (топ-5)](#section_4_1)\n",
    "  - [Самые популярные жанры (топ-5)](#section_4_2)\n",
    "  - [Влияние рейтинга ESRB на продажи в отдельных регионах](#section_4_2)\n",
    "5. [Проверка гипотез](#section_5)\n",
    "  - [Гипотеза №1. Средние пользовательские рейтинги платформ Xbox One и PC одинаковые](#section_5_1)\n",
    "  - [Гипотеза №2. Средние пользовательские рейтинги жанров Action и Sports разные](#section_5_2)\n",
    "6. [Общий вывод](#section_6)"
   ]
  },
  {
   "cell_type": "markdown",
   "id": "cac59c59",
   "metadata": {},
   "source": [
    "<a id='section_1'></a>\n",
    "## Изучение общей информации о данных "
   ]
  },
  {
   "cell_type": "markdown",
   "id": "7e9d5161",
   "metadata": {},
   "source": [
    "### Импортируем необходимые библиотеки и изучим основную информацию о предоставленных данных"
   ]
  },
  {
   "cell_type": "code",
   "execution_count": 1,
   "id": "24394da3",
   "metadata": {},
   "outputs": [],
   "source": [
    "import pandas as pd\n",
    "import matplotlib.pyplot as plt\n",
    "import numpy as np\n",
    "import seaborn as sns"
   ]
  },
  {
   "cell_type": "code",
   "execution_count": 2,
   "id": "1f6dacd5",
   "metadata": {
    "scrolled": true
   },
   "outputs": [
    {
     "name": "stdout",
     "output_type": "stream",
     "text": [
      "<class 'pandas.core.frame.DataFrame'>\n",
      "RangeIndex: 16715 entries, 0 to 16714\n",
      "Data columns (total 11 columns):\n",
      " #   Column           Non-Null Count  Dtype  \n",
      "---  ------           --------------  -----  \n",
      " 0   Name             16713 non-null  object \n",
      " 1   Platform         16715 non-null  object \n",
      " 2   Year_of_Release  16446 non-null  float64\n",
      " 3   Genre            16713 non-null  object \n",
      " 4   NA_sales         16715 non-null  float64\n",
      " 5   EU_sales         16715 non-null  float64\n",
      " 6   JP_sales         16715 non-null  float64\n",
      " 7   Other_sales      16715 non-null  float64\n",
      " 8   Critic_Score     8137 non-null   float64\n",
      " 9   User_Score       10014 non-null  object \n",
      " 10  Rating           9949 non-null   object \n",
      "dtypes: float64(6), object(5)\n",
      "memory usage: 1.4+ MB\n"
     ]
    }
   ],
   "source": [
    "try:\n",
    "    data = pd.read_csv(r'D:\\projects_data\\games.csv')\n",
    "except:\n",
    "    data = pd.read_csv('/datasets/games.csv')\n",
    "\n",
    "pd.set_option('display.max_columns', None)\n",
    "\n",
    "raw_data = data.copy(deep=True)\n",
    "\n",
    "data.info()"
   ]
  },
  {
   "cell_type": "code",
   "execution_count": 3,
   "id": "c70e6bc1",
   "metadata": {
    "scrolled": true
   },
   "outputs": [
    {
     "data": {
      "text/html": [
       "<div>\n",
       "<style scoped>\n",
       "    .dataframe tbody tr th:only-of-type {\n",
       "        vertical-align: middle;\n",
       "    }\n",
       "\n",
       "    .dataframe tbody tr th {\n",
       "        vertical-align: top;\n",
       "    }\n",
       "\n",
       "    .dataframe thead th {\n",
       "        text-align: right;\n",
       "    }\n",
       "</style>\n",
       "<table border=\"1\" class=\"dataframe\">\n",
       "  <thead>\n",
       "    <tr style=\"text-align: right;\">\n",
       "      <th></th>\n",
       "      <th>Name</th>\n",
       "      <th>Platform</th>\n",
       "      <th>Year_of_Release</th>\n",
       "      <th>Genre</th>\n",
       "      <th>NA_sales</th>\n",
       "      <th>EU_sales</th>\n",
       "      <th>JP_sales</th>\n",
       "      <th>Other_sales</th>\n",
       "      <th>Critic_Score</th>\n",
       "      <th>User_Score</th>\n",
       "      <th>Rating</th>\n",
       "    </tr>\n",
       "  </thead>\n",
       "  <tbody>\n",
       "    <tr>\n",
       "      <th>0</th>\n",
       "      <td>Wii Sports</td>\n",
       "      <td>Wii</td>\n",
       "      <td>2006.0</td>\n",
       "      <td>Sports</td>\n",
       "      <td>41.36</td>\n",
       "      <td>28.96</td>\n",
       "      <td>3.77</td>\n",
       "      <td>8.45</td>\n",
       "      <td>76.0</td>\n",
       "      <td>8</td>\n",
       "      <td>E</td>\n",
       "    </tr>\n",
       "    <tr>\n",
       "      <th>1</th>\n",
       "      <td>Super Mario Bros.</td>\n",
       "      <td>NES</td>\n",
       "      <td>1985.0</td>\n",
       "      <td>Platform</td>\n",
       "      <td>29.08</td>\n",
       "      <td>3.58</td>\n",
       "      <td>6.81</td>\n",
       "      <td>0.77</td>\n",
       "      <td>NaN</td>\n",
       "      <td>NaN</td>\n",
       "      <td>NaN</td>\n",
       "    </tr>\n",
       "    <tr>\n",
       "      <th>2</th>\n",
       "      <td>Mario Kart Wii</td>\n",
       "      <td>Wii</td>\n",
       "      <td>2008.0</td>\n",
       "      <td>Racing</td>\n",
       "      <td>15.68</td>\n",
       "      <td>12.76</td>\n",
       "      <td>3.79</td>\n",
       "      <td>3.29</td>\n",
       "      <td>82.0</td>\n",
       "      <td>8.3</td>\n",
       "      <td>E</td>\n",
       "    </tr>\n",
       "    <tr>\n",
       "      <th>3</th>\n",
       "      <td>Wii Sports Resort</td>\n",
       "      <td>Wii</td>\n",
       "      <td>2009.0</td>\n",
       "      <td>Sports</td>\n",
       "      <td>15.61</td>\n",
       "      <td>10.93</td>\n",
       "      <td>3.28</td>\n",
       "      <td>2.95</td>\n",
       "      <td>80.0</td>\n",
       "      <td>8</td>\n",
       "      <td>E</td>\n",
       "    </tr>\n",
       "    <tr>\n",
       "      <th>4</th>\n",
       "      <td>Pokemon Red/Pokemon Blue</td>\n",
       "      <td>GB</td>\n",
       "      <td>1996.0</td>\n",
       "      <td>Role-Playing</td>\n",
       "      <td>11.27</td>\n",
       "      <td>8.89</td>\n",
       "      <td>10.22</td>\n",
       "      <td>1.00</td>\n",
       "      <td>NaN</td>\n",
       "      <td>NaN</td>\n",
       "      <td>NaN</td>\n",
       "    </tr>\n",
       "    <tr>\n",
       "      <th>5</th>\n",
       "      <td>Tetris</td>\n",
       "      <td>GB</td>\n",
       "      <td>1989.0</td>\n",
       "      <td>Puzzle</td>\n",
       "      <td>23.20</td>\n",
       "      <td>2.26</td>\n",
       "      <td>4.22</td>\n",
       "      <td>0.58</td>\n",
       "      <td>NaN</td>\n",
       "      <td>NaN</td>\n",
       "      <td>NaN</td>\n",
       "    </tr>\n",
       "    <tr>\n",
       "      <th>6</th>\n",
       "      <td>New Super Mario Bros.</td>\n",
       "      <td>DS</td>\n",
       "      <td>2006.0</td>\n",
       "      <td>Platform</td>\n",
       "      <td>11.28</td>\n",
       "      <td>9.14</td>\n",
       "      <td>6.50</td>\n",
       "      <td>2.88</td>\n",
       "      <td>89.0</td>\n",
       "      <td>8.5</td>\n",
       "      <td>E</td>\n",
       "    </tr>\n",
       "    <tr>\n",
       "      <th>7</th>\n",
       "      <td>Wii Play</td>\n",
       "      <td>Wii</td>\n",
       "      <td>2006.0</td>\n",
       "      <td>Misc</td>\n",
       "      <td>13.96</td>\n",
       "      <td>9.18</td>\n",
       "      <td>2.93</td>\n",
       "      <td>2.84</td>\n",
       "      <td>58.0</td>\n",
       "      <td>6.6</td>\n",
       "      <td>E</td>\n",
       "    </tr>\n",
       "    <tr>\n",
       "      <th>8</th>\n",
       "      <td>New Super Mario Bros. Wii</td>\n",
       "      <td>Wii</td>\n",
       "      <td>2009.0</td>\n",
       "      <td>Platform</td>\n",
       "      <td>14.44</td>\n",
       "      <td>6.94</td>\n",
       "      <td>4.70</td>\n",
       "      <td>2.24</td>\n",
       "      <td>87.0</td>\n",
       "      <td>8.4</td>\n",
       "      <td>E</td>\n",
       "    </tr>\n",
       "    <tr>\n",
       "      <th>9</th>\n",
       "      <td>Duck Hunt</td>\n",
       "      <td>NES</td>\n",
       "      <td>1984.0</td>\n",
       "      <td>Shooter</td>\n",
       "      <td>26.93</td>\n",
       "      <td>0.63</td>\n",
       "      <td>0.28</td>\n",
       "      <td>0.47</td>\n",
       "      <td>NaN</td>\n",
       "      <td>NaN</td>\n",
       "      <td>NaN</td>\n",
       "    </tr>\n",
       "  </tbody>\n",
       "</table>\n",
       "</div>"
      ],
      "text/plain": [
       "                        Name Platform  Year_of_Release         Genre  \\\n",
       "0                 Wii Sports      Wii           2006.0        Sports   \n",
       "1          Super Mario Bros.      NES           1985.0      Platform   \n",
       "2             Mario Kart Wii      Wii           2008.0        Racing   \n",
       "3          Wii Sports Resort      Wii           2009.0        Sports   \n",
       "4   Pokemon Red/Pokemon Blue       GB           1996.0  Role-Playing   \n",
       "5                     Tetris       GB           1989.0        Puzzle   \n",
       "6      New Super Mario Bros.       DS           2006.0      Platform   \n",
       "7                   Wii Play      Wii           2006.0          Misc   \n",
       "8  New Super Mario Bros. Wii      Wii           2009.0      Platform   \n",
       "9                  Duck Hunt      NES           1984.0       Shooter   \n",
       "\n",
       "   NA_sales  EU_sales  JP_sales  Other_sales  Critic_Score User_Score Rating  \n",
       "0     41.36     28.96      3.77         8.45          76.0          8      E  \n",
       "1     29.08      3.58      6.81         0.77           NaN        NaN    NaN  \n",
       "2     15.68     12.76      3.79         3.29          82.0        8.3      E  \n",
       "3     15.61     10.93      3.28         2.95          80.0          8      E  \n",
       "4     11.27      8.89     10.22         1.00           NaN        NaN    NaN  \n",
       "5     23.20      2.26      4.22         0.58           NaN        NaN    NaN  \n",
       "6     11.28      9.14      6.50         2.88          89.0        8.5      E  \n",
       "7     13.96      9.18      2.93         2.84          58.0        6.6      E  \n",
       "8     14.44      6.94      4.70         2.24          87.0        8.4      E  \n",
       "9     26.93      0.63      0.28         0.47           NaN        NaN    NaN  "
      ]
     },
     "execution_count": 3,
     "metadata": {},
     "output_type": "execute_result"
    }
   ],
   "source": [
    "data.head(10)"
   ]
  },
  {
   "cell_type": "markdown",
   "id": "c3cf518b",
   "metadata": {},
   "source": [
    "<a id='section_2'></a>\n",
    "## Предобработка данных"
   ]
  },
  {
   "cell_type": "markdown",
   "id": "c22205a9",
   "metadata": {},
   "source": [
    "<a id='section_2_1'></a>\n",
    "### Переименование столбцов "
   ]
  },
  {
   "cell_type": "code",
   "execution_count": 4,
   "id": "b1d78fc7",
   "metadata": {},
   "outputs": [],
   "source": [
    "data.columns = data.columns.str.lower()"
   ]
  },
  {
   "cell_type": "markdown",
   "id": "5de3892b",
   "metadata": {},
   "source": [
    "<a id='section_2_2'></a>\n",
    "### Обработка дубликатов"
   ]
  },
  {
   "cell_type": "code",
   "execution_count": 5,
   "id": "e003a009",
   "metadata": {},
   "outputs": [
    {
     "data": {
      "text/plain": [
       "0"
      ]
     },
     "execution_count": 5,
     "metadata": {},
     "output_type": "execute_result"
    }
   ],
   "source": [
    "data.duplicated().sum()"
   ]
  },
  {
   "cell_type": "markdown",
   "id": "4c180403",
   "metadata": {},
   "source": [
    "Явных дубликатов не обнаружено."
   ]
  },
  {
   "cell_type": "markdown",
   "id": "d1100697",
   "metadata": {},
   "source": [
    "<a id='section_2_4'></a>\n",
    "### Обработка пропусков"
   ]
  },
  {
   "cell_type": "code",
   "execution_count": 6,
   "id": "ee3c9dc9",
   "metadata": {},
   "outputs": [
    {
     "data": {
      "text/html": [
       "<style type=\"text/css\">\n",
       "#T_ce882_row0_col0, #T_ce882_row1_col0, #T_ce882_row3_col0, #T_ce882_row4_col0, #T_ce882_row5_col0, #T_ce882_row6_col0, #T_ce882_row7_col0 {\n",
       "  background-color: #3b4cc0;\n",
       "  color: #f1f1f1;\n",
       "}\n",
       "#T_ce882_row2_col0 {\n",
       "  background-color: #4358cb;\n",
       "  color: #f1f1f1;\n",
       "}\n",
       "#T_ce882_row8_col0 {\n",
       "  background-color: #b40426;\n",
       "  color: #f1f1f1;\n",
       "}\n",
       "#T_ce882_row9_col0 {\n",
       "  background-color: #f08b6e;\n",
       "  color: #f1f1f1;\n",
       "}\n",
       "#T_ce882_row10_col0 {\n",
       "  background-color: #ef886b;\n",
       "  color: #f1f1f1;\n",
       "}\n",
       "</style>\n",
       "<table id=\"T_ce882\">\n",
       "  <thead>\n",
       "    <tr>\n",
       "      <th class=\"blank level0\" >&nbsp;</th>\n",
       "      <th id=\"T_ce882_level0_col0\" class=\"col_heading level0 col0\" >0</th>\n",
       "    </tr>\n",
       "  </thead>\n",
       "  <tbody>\n",
       "    <tr>\n",
       "      <th id=\"T_ce882_level0_row0\" class=\"row_heading level0 row0\" >name</th>\n",
       "      <td id=\"T_ce882_row0_col0\" class=\"data row0 col0\" >0.000000</td>\n",
       "    </tr>\n",
       "    <tr>\n",
       "      <th id=\"T_ce882_level0_row1\" class=\"row_heading level0 row1\" >platform</th>\n",
       "      <td id=\"T_ce882_row1_col0\" class=\"data row1 col0\" >0.000000</td>\n",
       "    </tr>\n",
       "    <tr>\n",
       "      <th id=\"T_ce882_level0_row2\" class=\"row_heading level0 row2\" >year_of_release</th>\n",
       "      <td id=\"T_ce882_row2_col0\" class=\"data row2 col0\" >1.600000</td>\n",
       "    </tr>\n",
       "    <tr>\n",
       "      <th id=\"T_ce882_level0_row3\" class=\"row_heading level0 row3\" >genre</th>\n",
       "      <td id=\"T_ce882_row3_col0\" class=\"data row3 col0\" >0.000000</td>\n",
       "    </tr>\n",
       "    <tr>\n",
       "      <th id=\"T_ce882_level0_row4\" class=\"row_heading level0 row4\" >na_sales</th>\n",
       "      <td id=\"T_ce882_row4_col0\" class=\"data row4 col0\" >0.000000</td>\n",
       "    </tr>\n",
       "    <tr>\n",
       "      <th id=\"T_ce882_level0_row5\" class=\"row_heading level0 row5\" >eu_sales</th>\n",
       "      <td id=\"T_ce882_row5_col0\" class=\"data row5 col0\" >0.000000</td>\n",
       "    </tr>\n",
       "    <tr>\n",
       "      <th id=\"T_ce882_level0_row6\" class=\"row_heading level0 row6\" >jp_sales</th>\n",
       "      <td id=\"T_ce882_row6_col0\" class=\"data row6 col0\" >0.000000</td>\n",
       "    </tr>\n",
       "    <tr>\n",
       "      <th id=\"T_ce882_level0_row7\" class=\"row_heading level0 row7\" >other_sales</th>\n",
       "      <td id=\"T_ce882_row7_col0\" class=\"data row7 col0\" >0.000000</td>\n",
       "    </tr>\n",
       "    <tr>\n",
       "      <th id=\"T_ce882_level0_row8\" class=\"row_heading level0 row8\" >critic_score</th>\n",
       "      <td id=\"T_ce882_row8_col0\" class=\"data row8 col0\" >51.300000</td>\n",
       "    </tr>\n",
       "    <tr>\n",
       "      <th id=\"T_ce882_level0_row9\" class=\"row_heading level0 row9\" >user_score</th>\n",
       "      <td id=\"T_ce882_row9_col0\" class=\"data row9 col0\" >40.100000</td>\n",
       "    </tr>\n",
       "    <tr>\n",
       "      <th id=\"T_ce882_level0_row10\" class=\"row_heading level0 row10\" >rating</th>\n",
       "      <td id=\"T_ce882_row10_col0\" class=\"data row10 col0\" >40.500000</td>\n",
       "    </tr>\n",
       "  </tbody>\n",
       "</table>\n"
      ],
      "text/plain": [
       "<pandas.io.formats.style.Styler at 0x245abde8f70>"
      ]
     },
     "execution_count": 6,
     "metadata": {},
     "output_type": "execute_result"
    }
   ],
   "source": [
    "pd.DataFrame(round(data.isna().mean()*100,1)).style.background_gradient('coolwarm')"
   ]
  },
  {
   "cell_type": "markdown",
   "id": "42189469",
   "metadata": {},
   "source": [
    "В столбце user_score присутствуют строки с аббревиатурой tbd , которая означает, что оценка подлежит уточнению. Так как нам для исследования эта информация не пригодится, заменим аббревиатуру значением NaN."
   ]
  },
  {
   "cell_type": "code",
   "execution_count": 7,
   "id": "dd528e1c",
   "metadata": {},
   "outputs": [
    {
     "data": {
      "text/html": [
       "<div>\n",
       "<style scoped>\n",
       "    .dataframe tbody tr th:only-of-type {\n",
       "        vertical-align: middle;\n",
       "    }\n",
       "\n",
       "    .dataframe tbody tr th {\n",
       "        vertical-align: top;\n",
       "    }\n",
       "\n",
       "    .dataframe thead th {\n",
       "        text-align: right;\n",
       "    }\n",
       "</style>\n",
       "<table border=\"1\" class=\"dataframe\">\n",
       "  <thead>\n",
       "    <tr style=\"text-align: right;\">\n",
       "      <th></th>\n",
       "      <th>name</th>\n",
       "      <th>platform</th>\n",
       "      <th>year_of_release</th>\n",
       "      <th>genre</th>\n",
       "      <th>na_sales</th>\n",
       "      <th>eu_sales</th>\n",
       "      <th>jp_sales</th>\n",
       "      <th>other_sales</th>\n",
       "      <th>critic_score</th>\n",
       "      <th>user_score</th>\n",
       "      <th>rating</th>\n",
       "    </tr>\n",
       "  </thead>\n",
       "  <tbody>\n",
       "    <tr>\n",
       "      <th>119</th>\n",
       "      <td>Zumba Fitness</td>\n",
       "      <td>Wii</td>\n",
       "      <td>2010.0</td>\n",
       "      <td>Sports</td>\n",
       "      <td>3.45</td>\n",
       "      <td>2.59</td>\n",
       "      <td>0.0</td>\n",
       "      <td>0.66</td>\n",
       "      <td>NaN</td>\n",
       "      <td>tbd</td>\n",
       "      <td>E</td>\n",
       "    </tr>\n",
       "    <tr>\n",
       "      <th>301</th>\n",
       "      <td>Namco Museum: 50th Anniversary</td>\n",
       "      <td>PS2</td>\n",
       "      <td>2005.0</td>\n",
       "      <td>Misc</td>\n",
       "      <td>2.08</td>\n",
       "      <td>1.35</td>\n",
       "      <td>0.0</td>\n",
       "      <td>0.54</td>\n",
       "      <td>61.0</td>\n",
       "      <td>tbd</td>\n",
       "      <td>E10+</td>\n",
       "    </tr>\n",
       "    <tr>\n",
       "      <th>520</th>\n",
       "      <td>Zumba Fitness 2</td>\n",
       "      <td>Wii</td>\n",
       "      <td>2011.0</td>\n",
       "      <td>Sports</td>\n",
       "      <td>1.51</td>\n",
       "      <td>1.03</td>\n",
       "      <td>0.0</td>\n",
       "      <td>0.27</td>\n",
       "      <td>NaN</td>\n",
       "      <td>tbd</td>\n",
       "      <td>T</td>\n",
       "    </tr>\n",
       "    <tr>\n",
       "      <th>645</th>\n",
       "      <td>uDraw Studio</td>\n",
       "      <td>Wii</td>\n",
       "      <td>2010.0</td>\n",
       "      <td>Misc</td>\n",
       "      <td>1.65</td>\n",
       "      <td>0.57</td>\n",
       "      <td>0.0</td>\n",
       "      <td>0.20</td>\n",
       "      <td>71.0</td>\n",
       "      <td>tbd</td>\n",
       "      <td>E</td>\n",
       "    </tr>\n",
       "    <tr>\n",
       "      <th>657</th>\n",
       "      <td>Frogger's Adventures: Temple of the Frog</td>\n",
       "      <td>GBA</td>\n",
       "      <td>NaN</td>\n",
       "      <td>Adventure</td>\n",
       "      <td>2.15</td>\n",
       "      <td>0.18</td>\n",
       "      <td>0.0</td>\n",
       "      <td>0.07</td>\n",
       "      <td>73.0</td>\n",
       "      <td>tbd</td>\n",
       "      <td>E</td>\n",
       "    </tr>\n",
       "    <tr>\n",
       "      <th>...</th>\n",
       "      <td>...</td>\n",
       "      <td>...</td>\n",
       "      <td>...</td>\n",
       "      <td>...</td>\n",
       "      <td>...</td>\n",
       "      <td>...</td>\n",
       "      <td>...</td>\n",
       "      <td>...</td>\n",
       "      <td>...</td>\n",
       "      <td>...</td>\n",
       "      <td>...</td>\n",
       "    </tr>\n",
       "    <tr>\n",
       "      <th>16695</th>\n",
       "      <td>Planet Monsters</td>\n",
       "      <td>GBA</td>\n",
       "      <td>2001.0</td>\n",
       "      <td>Action</td>\n",
       "      <td>0.01</td>\n",
       "      <td>0.00</td>\n",
       "      <td>0.0</td>\n",
       "      <td>0.00</td>\n",
       "      <td>67.0</td>\n",
       "      <td>tbd</td>\n",
       "      <td>E</td>\n",
       "    </tr>\n",
       "    <tr>\n",
       "      <th>16697</th>\n",
       "      <td>Bust-A-Move 3000</td>\n",
       "      <td>GC</td>\n",
       "      <td>2003.0</td>\n",
       "      <td>Puzzle</td>\n",
       "      <td>0.01</td>\n",
       "      <td>0.00</td>\n",
       "      <td>0.0</td>\n",
       "      <td>0.00</td>\n",
       "      <td>53.0</td>\n",
       "      <td>tbd</td>\n",
       "      <td>E</td>\n",
       "    </tr>\n",
       "    <tr>\n",
       "      <th>16698</th>\n",
       "      <td>Mega Brain Boost</td>\n",
       "      <td>DS</td>\n",
       "      <td>2008.0</td>\n",
       "      <td>Puzzle</td>\n",
       "      <td>0.01</td>\n",
       "      <td>0.00</td>\n",
       "      <td>0.0</td>\n",
       "      <td>0.00</td>\n",
       "      <td>48.0</td>\n",
       "      <td>tbd</td>\n",
       "      <td>E</td>\n",
       "    </tr>\n",
       "    <tr>\n",
       "      <th>16704</th>\n",
       "      <td>Plushees</td>\n",
       "      <td>DS</td>\n",
       "      <td>2008.0</td>\n",
       "      <td>Simulation</td>\n",
       "      <td>0.01</td>\n",
       "      <td>0.00</td>\n",
       "      <td>0.0</td>\n",
       "      <td>0.00</td>\n",
       "      <td>NaN</td>\n",
       "      <td>tbd</td>\n",
       "      <td>E</td>\n",
       "    </tr>\n",
       "    <tr>\n",
       "      <th>16706</th>\n",
       "      <td>Men in Black II: Alien Escape</td>\n",
       "      <td>GC</td>\n",
       "      <td>2003.0</td>\n",
       "      <td>Shooter</td>\n",
       "      <td>0.01</td>\n",
       "      <td>0.00</td>\n",
       "      <td>0.0</td>\n",
       "      <td>0.00</td>\n",
       "      <td>NaN</td>\n",
       "      <td>tbd</td>\n",
       "      <td>T</td>\n",
       "    </tr>\n",
       "  </tbody>\n",
       "</table>\n",
       "<p>2424 rows × 11 columns</p>\n",
       "</div>"
      ],
      "text/plain": [
       "                                           name platform  year_of_release  \\\n",
       "119                               Zumba Fitness      Wii           2010.0   \n",
       "301              Namco Museum: 50th Anniversary      PS2           2005.0   \n",
       "520                             Zumba Fitness 2      Wii           2011.0   \n",
       "645                                uDraw Studio      Wii           2010.0   \n",
       "657    Frogger's Adventures: Temple of the Frog      GBA              NaN   \n",
       "...                                         ...      ...              ...   \n",
       "16695                           Planet Monsters      GBA           2001.0   \n",
       "16697                          Bust-A-Move 3000       GC           2003.0   \n",
       "16698                          Mega Brain Boost       DS           2008.0   \n",
       "16704                                  Plushees       DS           2008.0   \n",
       "16706             Men in Black II: Alien Escape       GC           2003.0   \n",
       "\n",
       "            genre  na_sales  eu_sales  jp_sales  other_sales  critic_score  \\\n",
       "119        Sports      3.45      2.59       0.0         0.66           NaN   \n",
       "301          Misc      2.08      1.35       0.0         0.54          61.0   \n",
       "520        Sports      1.51      1.03       0.0         0.27           NaN   \n",
       "645          Misc      1.65      0.57       0.0         0.20          71.0   \n",
       "657     Adventure      2.15      0.18       0.0         0.07          73.0   \n",
       "...           ...       ...       ...       ...          ...           ...   \n",
       "16695      Action      0.01      0.00       0.0         0.00          67.0   \n",
       "16697      Puzzle      0.01      0.00       0.0         0.00          53.0   \n",
       "16698      Puzzle      0.01      0.00       0.0         0.00          48.0   \n",
       "16704  Simulation      0.01      0.00       0.0         0.00           NaN   \n",
       "16706     Shooter      0.01      0.00       0.0         0.00           NaN   \n",
       "\n",
       "      user_score rating  \n",
       "119          tbd      E  \n",
       "301          tbd   E10+  \n",
       "520          tbd      T  \n",
       "645          tbd      E  \n",
       "657          tbd      E  \n",
       "...          ...    ...  \n",
       "16695        tbd      E  \n",
       "16697        tbd      E  \n",
       "16698        tbd      E  \n",
       "16704        tbd      E  \n",
       "16706        tbd      T  \n",
       "\n",
       "[2424 rows x 11 columns]"
      ]
     },
     "execution_count": 7,
     "metadata": {},
     "output_type": "execute_result"
    }
   ],
   "source": [
    "data[data['user_score'] == 'tbd']"
   ]
  },
  {
   "cell_type": "code",
   "execution_count": 8,
   "id": "c9dbc0b9",
   "metadata": {},
   "outputs": [],
   "source": [
    "data['user_score'] = data['user_score'].replace('tbd',-1)"
   ]
  },
  {
   "cell_type": "code",
   "execution_count": 9,
   "id": "e456019c",
   "metadata": {},
   "outputs": [],
   "source": [
    "def pass_value_barh(df):\n",
    "    try:\n",
    "        (\n",
    "            (df.isna().mean()*100)\n",
    "            .to_frame()\n",
    "            .rename(columns = {0:'space'})\n",
    "            .query('space > 0')\n",
    "            .sort_values(by = 'space', ascending = True)\n",
    "            .plot(kind = 'barh', figsize = (19,6), legend = False, fontsize = 16)\n",
    "            .set_title('Количество пропусков в %'+\"\\n\", fontsize = 22, color = 'SteelBlue')    \n",
    "        );    \n",
    "    except:\n",
    "        print('Пропусков не осталось')"
   ]
  },
  {
   "cell_type": "code",
   "execution_count": 10,
   "id": "fdf356f2",
   "metadata": {
    "scrolled": true
   },
   "outputs": [
    {
     "data": {
      "image/png": "[encoded data removed]",
      "text/plain": [
       "<Figure size 1368x432 with 1 Axes>"
      ]
     },
     "metadata": {
      "needs_background": "light"
     },
     "output_type": "display_data"
    }
   ],
   "source": [
    "pass_value_barh(data)"
   ]
  },
  {
   "cell_type": "markdown",
   "id": "eff1cf0a",
   "metadata": {},
   "source": [
    "Пропуски в столбцах `genre` , `name` и `year_of_release` восстановить невозможно, но так как в сумме их менее 5%, удаление этих строк не повлияет на результат исследования."
   ]
  },
  {
   "cell_type": "code",
   "execution_count": 11,
   "id": "511c7adb",
   "metadata": {},
   "outputs": [],
   "source": [
    "data = data.loc[~data['genre'].isna() & ~data['name'].isna() & ~data['year_of_release'].isna()].reset_index(drop=True)"
   ]
  },
  {
   "cell_type": "code",
   "execution_count": 12,
   "id": "7cf48c5b",
   "metadata": {},
   "outputs": [
    {
     "data": {
      "text/plain": [
       "name                  0\n",
       "platform              0\n",
       "year_of_release       0\n",
       "genre                 0\n",
       "na_sales              0\n",
       "eu_sales              0\n",
       "jp_sales              0\n",
       "other_sales           0\n",
       "critic_score       8461\n",
       "user_score         6605\n",
       "rating             6676\n",
       "dtype: int64"
      ]
     },
     "execution_count": 12,
     "metadata": {},
     "output_type": "execute_result"
    }
   ],
   "source": [
    "data.isna().sum()"
   ]
  },
  {
   "cell_type": "markdown",
   "id": "9422f316",
   "metadata": {},
   "source": [
    "A вот пропуски в остальных столбцах составляют не менее 40% от общего числа записей. Поэтому необходимо оценить распределение этих пропусков."
   ]
  },
  {
   "cell_type": "code",
   "execution_count": 13,
   "id": "4c31c6f2",
   "metadata": {},
   "outputs": [
    {
     "data": {
      "text/plain": [
       "(6534, 3)"
      ]
     },
     "execution_count": 13,
     "metadata": {},
     "output_type": "execute_result"
    }
   ],
   "source": [
    "(\n",
    "    data\n",
    "    .loc[data['critic_score'].isna() & \n",
    "         data['user_score'].isna() & \n",
    "         data['rating'].isna()][['critic_score','user_score','rating']]\n",
    "    .shape\n",
    ")"
   ]
  },
  {
   "cell_type": "markdown",
   "id": "28f86330",
   "metadata": {},
   "source": [
    "Видно, что практически все пропуски оценок и рейтинга встречаются одновременно, а именно в 6534 строках, можно было бы предположить, что непопулярные игры не получают оценок и рейтинга, но в списке есть и игры со значительным количеством продаж, которые не могли бы остаться незамеченными. Скорее всего пропуски связаны с ошибкой при выгрузке данных и никак не могут быть восстановлены, так как замена средним или медианой сильно скажется на результатах анализа."
   ]
  },
  {
   "cell_type": "markdown",
   "id": "f5893d7d",
   "metadata": {},
   "source": [
    "Так как рейтинг ESRB присваивается играм в США и Канаде, следовательно, не все игры могут иметь этот рейтинг, потому что их попросту нет на североамериканском рынке."
   ]
  },
  {
   "cell_type": "code",
   "execution_count": 14,
   "id": "52a0957b",
   "metadata": {},
   "outputs": [],
   "source": [
    "data['rating'] = data['rating'].fillna('unknown')"
   ]
  },
  {
   "cell_type": "markdown",
   "id": "f1b88a20",
   "metadata": {},
   "source": [
    "<a id='section_2_3'></a>\n",
    "### Преобразование типов данных"
   ]
  },
  {
   "cell_type": "code",
   "execution_count": 15,
   "id": "aefc73f3",
   "metadata": {},
   "outputs": [],
   "source": [
    "data['year_of_release'] = data['year_of_release'].astype(int)\n",
    "data['user_score'] = pd.to_numeric(data['user_score'], errors='ignore')"
   ]
  },
  {
   "cell_type": "code",
   "execution_count": 16,
   "id": "e518e8d8",
   "metadata": {},
   "outputs": [
    {
     "data": {
      "text/plain": [
       "7.1263298941444955"
      ]
     },
     "execution_count": 16,
     "metadata": {},
     "output_type": "execute_result"
    }
   ],
   "source": [
    "data[(data['user_score'] != 'tbd') & ((data['user_score'] != -1))]['user_score'].mean()"
   ]
  },
  {
   "cell_type": "markdown",
   "id": "f16530e9",
   "metadata": {},
   "source": [
    "Были изменён тип данных в столбце `year_of_release` на целочисленный тип, так как он содержит информацию о годе выпуска игры, и в столбце `user_score` c `object` на `float`."
   ]
  },
  {
   "cell_type": "code",
   "execution_count": 17,
   "id": "b38eb22f",
   "metadata": {},
   "outputs": [
    {
     "name": "stdout",
     "output_type": "stream",
     "text": [
      "<class 'pandas.core.frame.DataFrame'>\n",
      "RangeIndex: 16444 entries, 0 to 16443\n",
      "Data columns (total 11 columns):\n",
      " #   Column           Non-Null Count  Dtype  \n",
      "---  ------           --------------  -----  \n",
      " 0   name             16444 non-null  object \n",
      " 1   platform         16444 non-null  object \n",
      " 2   year_of_release  16444 non-null  int32  \n",
      " 3   genre            16444 non-null  object \n",
      " 4   na_sales         16444 non-null  float64\n",
      " 5   eu_sales         16444 non-null  float64\n",
      " 6   jp_sales         16444 non-null  float64\n",
      " 7   other_sales      16444 non-null  float64\n",
      " 8   critic_score     7983 non-null   float64\n",
      " 9   user_score       9839 non-null   float64\n",
      " 10  rating           16444 non-null  object \n",
      "dtypes: float64(6), int32(1), object(4)\n",
      "memory usage: 1.3+ MB\n"
     ]
    }
   ],
   "source": [
    "data.info()"
   ]
  },
  {
   "cell_type": "markdown",
   "id": "9e7bf53f",
   "metadata": {},
   "source": [
    "<a id='section_2_5'></a>\n",
    "### Подсчитаем глобальные продажи"
   ]
  },
  {
   "cell_type": "code",
   "execution_count": 18,
   "id": "2f874125",
   "metadata": {},
   "outputs": [],
   "source": [
    "total_sales = data[['na_sales','eu_sales','jp_sales', 'other_sales']].sum(axis = 1)"
   ]
  },
  {
   "cell_type": "code",
   "execution_count": 19,
   "id": "1a87e75c",
   "metadata": {},
   "outputs": [],
   "source": [
    "data.insert(8, \"total_sales\", total_sales)"
   ]
  },
  {
   "cell_type": "code",
   "execution_count": 20,
   "id": "4d6bc2b4",
   "metadata": {
    "scrolled": true
   },
   "outputs": [
    {
     "data": {
      "text/html": [
       "<div>\n",
       "<style scoped>\n",
       "    .dataframe tbody tr th:only-of-type {\n",
       "        vertical-align: middle;\n",
       "    }\n",
       "\n",
       "    .dataframe tbody tr th {\n",
       "        vertical-align: top;\n",
       "    }\n",
       "\n",
       "    .dataframe thead th {\n",
       "        text-align: right;\n",
       "    }\n",
       "</style>\n",
       "<table border=\"1\" class=\"dataframe\">\n",
       "  <thead>\n",
       "    <tr style=\"text-align: right;\">\n",
       "      <th></th>\n",
       "      <th>name</th>\n",
       "      <th>platform</th>\n",
       "      <th>year_of_release</th>\n",
       "      <th>genre</th>\n",
       "      <th>na_sales</th>\n",
       "      <th>eu_sales</th>\n",
       "      <th>jp_sales</th>\n",
       "      <th>other_sales</th>\n",
       "      <th>total_sales</th>\n",
       "      <th>critic_score</th>\n",
       "      <th>user_score</th>\n",
       "      <th>rating</th>\n",
       "    </tr>\n",
       "  </thead>\n",
       "  <tbody>\n",
       "    <tr>\n",
       "      <th>0</th>\n",
       "      <td>Wii Sports</td>\n",
       "      <td>Wii</td>\n",
       "      <td>2006</td>\n",
       "      <td>Sports</td>\n",
       "      <td>41.36</td>\n",
       "      <td>28.96</td>\n",
       "      <td>3.77</td>\n",
       "      <td>8.45</td>\n",
       "      <td>82.54</td>\n",
       "      <td>76.0</td>\n",
       "      <td>8.0</td>\n",
       "      <td>E</td>\n",
       "    </tr>\n",
       "    <tr>\n",
       "      <th>1</th>\n",
       "      <td>Super Mario Bros.</td>\n",
       "      <td>NES</td>\n",
       "      <td>1985</td>\n",
       "      <td>Platform</td>\n",
       "      <td>29.08</td>\n",
       "      <td>3.58</td>\n",
       "      <td>6.81</td>\n",
       "      <td>0.77</td>\n",
       "      <td>40.24</td>\n",
       "      <td>NaN</td>\n",
       "      <td>NaN</td>\n",
       "      <td>unknown</td>\n",
       "    </tr>\n",
       "    <tr>\n",
       "      <th>2</th>\n",
       "      <td>Mario Kart Wii</td>\n",
       "      <td>Wii</td>\n",
       "      <td>2008</td>\n",
       "      <td>Racing</td>\n",
       "      <td>15.68</td>\n",
       "      <td>12.76</td>\n",
       "      <td>3.79</td>\n",
       "      <td>3.29</td>\n",
       "      <td>35.52</td>\n",
       "      <td>82.0</td>\n",
       "      <td>8.3</td>\n",
       "      <td>E</td>\n",
       "    </tr>\n",
       "    <tr>\n",
       "      <th>3</th>\n",
       "      <td>Wii Sports Resort</td>\n",
       "      <td>Wii</td>\n",
       "      <td>2009</td>\n",
       "      <td>Sports</td>\n",
       "      <td>15.61</td>\n",
       "      <td>10.93</td>\n",
       "      <td>3.28</td>\n",
       "      <td>2.95</td>\n",
       "      <td>32.77</td>\n",
       "      <td>80.0</td>\n",
       "      <td>8.0</td>\n",
       "      <td>E</td>\n",
       "    </tr>\n",
       "    <tr>\n",
       "      <th>4</th>\n",
       "      <td>Pokemon Red/Pokemon Blue</td>\n",
       "      <td>GB</td>\n",
       "      <td>1996</td>\n",
       "      <td>Role-Playing</td>\n",
       "      <td>11.27</td>\n",
       "      <td>8.89</td>\n",
       "      <td>10.22</td>\n",
       "      <td>1.00</td>\n",
       "      <td>31.38</td>\n",
       "      <td>NaN</td>\n",
       "      <td>NaN</td>\n",
       "      <td>unknown</td>\n",
       "    </tr>\n",
       "  </tbody>\n",
       "</table>\n",
       "</div>"
      ],
      "text/plain": [
       "                       name platform  year_of_release         genre  na_sales  \\\n",
       "0                Wii Sports      Wii             2006        Sports     41.36   \n",
       "1         Super Mario Bros.      NES             1985      Platform     29.08   \n",
       "2            Mario Kart Wii      Wii             2008        Racing     15.68   \n",
       "3         Wii Sports Resort      Wii             2009        Sports     15.61   \n",
       "4  Pokemon Red/Pokemon Blue       GB             1996  Role-Playing     11.27   \n",
       "\n",
       "   eu_sales  jp_sales  other_sales  total_sales  critic_score  user_score  \\\n",
       "0     28.96      3.77         8.45        82.54          76.0         8.0   \n",
       "1      3.58      6.81         0.77        40.24           NaN         NaN   \n",
       "2     12.76      3.79         3.29        35.52          82.0         8.3   \n",
       "3     10.93      3.28         2.95        32.77          80.0         8.0   \n",
       "4      8.89     10.22         1.00        31.38           NaN         NaN   \n",
       "\n",
       "    rating  \n",
       "0        E  \n",
       "1  unknown  \n",
       "2        E  \n",
       "3        E  \n",
       "4  unknown  "
      ]
     },
     "execution_count": 20,
     "metadata": {},
     "output_type": "execute_result"
    }
   ],
   "source": [
    "data.head()"
   ]
  },
  {
   "cell_type": "markdown",
   "id": "100e13f4",
   "metadata": {},
   "source": [
    "<a id='section_3'></a>\n",
    "## Исследовательский анализ данных"
   ]
  },
  {
   "cell_type": "markdown",
   "id": "a698cd22",
   "metadata": {},
   "source": [
    "<a id='section_3_1'></a>\n",
    "### Выпуск игр по годам"
   ]
  },
  {
   "cell_type": "code",
   "execution_count": 21,
   "id": "4a92dd7e",
   "metadata": {},
   "outputs": [
    {
     "data": {
      "image/png": "[encoded data removed]",
      "text/plain": [
       "<Figure size 1080x360 with 1 Axes>"
      ]
     },
     "metadata": {
      "needs_background": "light"
     },
     "output_type": "display_data"
    }
   ],
   "source": [
    "fig, ax = plt.subplots()\n",
    "(\n",
    "    data\n",
    "    .groupby('year_of_release')['name']\n",
    "    .count()\n",
    "    .plot(kind='line', style='o-' ,grid=True, figsize=(15,5))\n",
    ")\n",
    "\n",
    "ax.set_title('Распределение количества выпущенных игр по годам'+\"\\n\", size=14)\n",
    "\n",
    "ax.set_xlabel('Год', size=12)\n",
    "ax.set_ylabel('Количество', size=12)\n",
    "\n",
    "ax.locator_params(axis='x', nbins=20)\n",
    "\n",
    "plt.show()"
   ]
  },
  {
   "cell_type": "markdown",
   "id": "3db7ef30",
   "metadata": {},
   "source": [
    "На графике мы можем наблюдать длинный левый хвост, который говорит нам о практически незначимом количества продаж до 1993 года."
   ]
  },
  {
   "cell_type": "markdown",
   "id": "0c7c3801",
   "metadata": {},
   "source": [
    "<a id='section_3_2'></a>\n",
    "### Изменение продаж по годам в зависимости от платформы"
   ]
  },
  {
   "cell_type": "code",
   "execution_count": 22,
   "id": "4d5d9a8a",
   "metadata": {},
   "outputs": [
    {
     "data": {
      "image/png": "[encoded data removed]",
      "text/plain": [
       "<Figure size 1080x360 with 1 Axes>"
      ]
     },
     "metadata": {
      "needs_background": "light"
     },
     "output_type": "display_data"
    }
   ],
   "source": [
    "fig, ax = plt.subplots()\n",
    "\n",
    "(\n",
    "    data\n",
    "    .groupby('platform')['total_sales']\n",
    "    .sum()\n",
    "    .sort_values(ascending=False)\n",
    "    .plot(kind='bar', grid=True, figsize=(15,5))\n",
    ")\n",
    "\n",
    "ax.set_title('Глобальные продажи игр по типу платформы'+\"\\n\", fontsize=14)\n",
    "\n",
    "ax.set_xlabel('Платформа', fontsize=12)\n",
    "ax.set_ylabel('Продажи, млн.', fontsize=12)\n",
    "\n",
    "plt.xticks(rotation=0)\n",
    "\n",
    "plt.show()"
   ]
  },
  {
   "cell_type": "markdown",
   "id": "3166251f",
   "metadata": {},
   "source": [
    "Возьмём 6 самых популярных игровых платформ."
   ]
  },
  {
   "cell_type": "code",
   "execution_count": 23,
   "id": "019fc596",
   "metadata": {},
   "outputs": [],
   "source": [
    "top = ['PS2','X360','PS3','Wii','DS','PS']"
   ]
  },
  {
   "cell_type": "code",
   "execution_count": 24,
   "id": "2c7c33ef",
   "metadata": {},
   "outputs": [
    {
     "data": {
      "image/png": "[encoded data removed]",
      "text/plain": [
       "<Figure size 1080x360 with 1 Axes>"
      ]
     },
     "metadata": {
      "needs_background": "light"
     },
     "output_type": "display_data"
    }
   ],
   "source": [
    "(\n",
    "    data[data['platform'].isin(top)]\n",
    "    .pivot_table(index='year_of_release', columns='platform', values='total_sales', aggfunc='sum')\n",
    "    .plot(kind='line', style='o-',stacked=False, grid=True, figsize=(15,5))\n",
    ")\n",
    "plt.title('Популярность платформ по годам'+\"\\n\")\n",
    "plt.xlabel('Год')\n",
    "plt.ylabel('Продажи, млн.')\n",
    "\n",
    "plt.locator_params(axis='x', nbins=30)\n",
    "\n",
    "plt.xlim(1993,2017)\n",
    "\n",
    "plt.show()"
   ]
  },
  {
   "cell_type": "markdown",
   "id": "f8a14299",
   "metadata": {},
   "source": [
    "Исходя из графика можно сделать вывод, что популярные платформы появляются и исчезают в среднем примерно за 10 лет."
   ]
  },
  {
   "cell_type": "markdown",
   "id": "aa9a4be4",
   "metadata": {},
   "source": [
    "<a id='section_3_3'></a>\n",
    "### Формирование прогноза по данным на актуальный период"
   ]
  },
  {
   "cell_type": "markdown",
   "id": "7ae9b107",
   "metadata": {},
   "source": [
    "Возьмём крайние 5 лет за актуальный период, так мы сможем точнее определить тренды на рынке видеоигр."
   ]
  },
  {
   "cell_type": "code",
   "execution_count": 25,
   "id": "e2463f51",
   "metadata": {},
   "outputs": [],
   "source": [
    "valid_data = data[data['year_of_release'] >= 2012]"
   ]
  },
  {
   "cell_type": "markdown",
   "id": "776da77f",
   "metadata": {},
   "source": [
    "<a id='section_3_4'></a>\n",
    "### Определение потенциально прибыльных платформ"
   ]
  },
  {
   "cell_type": "code",
   "execution_count": 26,
   "id": "1329b9fd",
   "metadata": {},
   "outputs": [
    {
     "data": {
      "image/png": "[encoded data removed]",
      "text/plain": [
       "<Figure size 720x720 with 1 Axes>"
      ]
     },
     "metadata": {
      "needs_background": "light"
     },
     "output_type": "display_data"
    }
   ],
   "source": [
    "(\n",
    "    valid_data\n",
    "    .pivot_table(index='year_of_release', columns='platform', values='total_sales', aggfunc='sum')\n",
    "    .plot(kind='line', style='o-', grid=True, figsize=(10,10))\n",
    ")\n",
    "\n",
    "plt.title('Продажи по годам'+\"\\n\", fontsize=14)\n",
    "\n",
    "plt.xlabel('Год', fontsize=12)\n",
    "plt.ylabel('Продажи, млн.', fontsize=12)\n",
    "\n",
    "plt.legend(loc='upper left')\n",
    "\n",
    "plt.locator_params(axis='x', nbins=6)\n",
    "\n",
    "plt.xticks(rotation=0)\n",
    "\n",
    "plt.show()"
   ]
  },
  {
   "cell_type": "code",
   "execution_count": 27,
   "id": "db23a0fa",
   "metadata": {},
   "outputs": [
    {
     "data": {
      "image/png": "[encoded data removed]",
      "text/plain": [
       "<Figure size 720x720 with 1 Axes>"
      ]
     },
     "metadata": {
      "needs_background": "light"
     },
     "output_type": "display_data"
    }
   ],
   "source": [
    "(\n",
    "    valid_data\n",
    "    .pivot_table(index='year_of_release', columns='platform', values='name', aggfunc='count')\n",
    "    .plot(kind='line', style='o-', grid=True, figsize=(10,10))\n",
    ")\n",
    "\n",
    "plt.title('Количество релизов по годам'+\"\\n\", fontsize=14)\n",
    "\n",
    "plt.xlabel('Год', fontsize=12)\n",
    "plt.ylabel('Количество релизов', fontsize=12)\n",
    "\n",
    "plt.legend(loc='upper left')\n",
    "\n",
    "plt.locator_params(axis='x', nbins=6)\n",
    "\n",
    "plt.xticks(rotation=0)\n",
    "\n",
    "plt.show()"
   ]
  },
  {
   "cell_type": "markdown",
   "id": "34cbb11a",
   "metadata": {},
   "source": [
    "На графике продаж по платформам видно, что в индустрии происходит спад, продажи падают, но на графике количества релизов видно, что оно увеличивается на некоторых платформах, следовательно, в будущем они могут быть более популярными и прибыльными.   \n",
    "На момент 2016 года лидером продаж являются платформы PS4, XONE и 3DS. Потенциально прибыльными будут возможно PS4 и XONE за счёт увелчения количества релизов в будущем."
   ]
  },
  {
   "cell_type": "markdown",
   "id": "e64d87b9",
   "metadata": {},
   "source": [
    "<a id='section_3_5'></a>\n",
    "### Изучение глобальных продаж игр в разбивке по платформам"
   ]
  },
  {
   "cell_type": "code",
   "execution_count": 28,
   "id": "8ce9c174",
   "metadata": {},
   "outputs": [
    {
     "data": {
      "image/png": "[encoded data removed]",
      "text/plain": [
       "<Figure size 1080x360 with 1 Axes>"
      ]
     },
     "metadata": {
      "needs_background": "light"
     },
     "output_type": "display_data"
    }
   ],
   "source": [
    "fig, ax = plt.subplots()\n",
    "\n",
    "(\n",
    "    valid_data\n",
    "    .groupby('platform')['total_sales']\n",
    "    .sum()\n",
    "    .sort_values(ascending=False)\n",
    "    .plot(kind='bar', grid=True, figsize=(15,5))\n",
    ")\n",
    "\n",
    "ax.set_title('Распределение глобальных продаж по платформам за 5 лет'+\"\\n\", fontsize=14)\n",
    "\n",
    "ax.set_xlabel('Платформа', fontsize=12)\n",
    "ax.set_ylabel('Продажи, млн.', fontsize=12)\n",
    "\n",
    "plt.xticks(rotation=0)\n",
    "\n",
    "plt.show()"
   ]
  },
  {
   "cell_type": "code",
   "execution_count": 29,
   "id": "37262175",
   "metadata": {},
   "outputs": [
    {
     "data": {
      "image/png": "[encoded data removed]",
      "text/plain": [
       "<Figure size 1080x720 with 1 Axes>"
      ]
     },
     "metadata": {
      "needs_background": "light"
     },
     "output_type": "display_data"
    },
    {
     "data": {
      "image/png": "[encoded data removed]",
      "text/plain": [
       "<Figure size 1080x720 with 1 Axes>"
      ]
     },
     "metadata": {
      "needs_background": "light"
     },
     "output_type": "display_data"
    }
   ],
   "source": [
    "fig, ax = plt.subplots(figsize=(15,10))\n",
    "\n",
    "sns.boxplot(x=valid_data['platform'], y=valid_data['total_sales'])\n",
    "\n",
    "plt.title('Продажи игр по платформам'+\"\\n\", fontsize=16)\n",
    "\n",
    "plt.xlabel('Платформа', fontsize=16)\n",
    "plt.ylabel('Продажи', fontsize=16)\n",
    "\n",
    "plt.xticks(rotation=0)\n",
    "\n",
    "fig, ax = plt.subplots(figsize=(15,10))\n",
    "\n",
    "sns.boxplot(x=valid_data['platform'], y=valid_data['total_sales'])\n",
    "\n",
    "plt.title('Продажи игр по платформам. Масштаб 0-2'+\"\\n\", fontsize=16)\n",
    "\n",
    "plt.xlabel('Платформа', fontsize=16)\n",
    "plt.ylabel('Продажи', fontsize=16)\n",
    "\n",
    "plt.xticks(rotation=0)\n",
    "\n",
    "plt.ylim(0,2)\n",
    "\n",
    "plt.show()"
   ]
  },
  {
   "cell_type": "markdown",
   "id": "9dc1e569",
   "metadata": {},
   "source": [
    "<a id='section_3_6'></a>\n",
    "### Влияние на продажи внутри платформы PS4 отзывов пользователей и критиков"
   ]
  },
  {
   "cell_type": "code",
   "execution_count": 30,
   "id": "3ab268fb",
   "metadata": {},
   "outputs": [],
   "source": [
    "data_ps4 = valid_data[valid_data['platform'] == 'PS4']"
   ]
  },
  {
   "cell_type": "code",
   "execution_count": 31,
   "id": "41ec955d",
   "metadata": {},
   "outputs": [
    {
     "data": {
      "image/png": "[encoded data removed]",
      "text/plain": [
       "<Figure size 504x504 with 1 Axes>"
      ]
     },
     "metadata": {
      "needs_background": "light"
     },
     "output_type": "display_data"
    }
   ],
   "source": [
    "data_ps4.plot(kind='scatter', x='critic_score', y='total_sales', figsize=(7,7))\n",
    "\n",
    "plt.title('Зависимость между глобальными продажами и оценкой критиков'+\"\\n\", fontsize=14)\n",
    "\n",
    "plt.xlabel('Оценка критиков', fontsize=12)\n",
    "plt.ylabel('Продажи, млн.', fontsize=12)\n",
    "\n",
    "plt.show()"
   ]
  },
  {
   "cell_type": "code",
   "execution_count": 32,
   "id": "8023f6bd",
   "metadata": {},
   "outputs": [
    {
     "data": {
      "image/png": "[encoded data removed]",
      "text/plain": [
       "<Figure size 504x504 with 1 Axes>"
      ]
     },
     "metadata": {
      "needs_background": "light"
     },
     "output_type": "display_data"
    }
   ],
   "source": [
    "data_ps4.plot(kind='scatter', x='user_score', y='total_sales', figsize=(7,7))\n",
    "\n",
    "plt.title('Зависимость между глобальными продажами и оценкой пользоателей'+\"\\n\", fontsize=14)\n",
    "plt.xlabel('Оценка пользователей', fontsize=12)\n",
    "plt.ylabel('Продажи, млн.', fontsize=12)\n",
    "\n",
    "plt.show()"
   ]
  },
  {
   "cell_type": "code",
   "execution_count": 33,
   "id": "40b9c13e",
   "metadata": {},
   "outputs": [
    {
     "data": {
      "text/html": [
       "<div>\n",
       "<style scoped>\n",
       "    .dataframe tbody tr th:only-of-type {\n",
       "        vertical-align: middle;\n",
       "    }\n",
       "\n",
       "    .dataframe tbody tr th {\n",
       "        vertical-align: top;\n",
       "    }\n",
       "\n",
       "    .dataframe thead th {\n",
       "        text-align: right;\n",
       "    }\n",
       "</style>\n",
       "<table border=\"1\" class=\"dataframe\">\n",
       "  <thead>\n",
       "    <tr style=\"text-align: right;\">\n",
       "      <th></th>\n",
       "      <th>user_score</th>\n",
       "      <th>critic_score</th>\n",
       "      <th>total_sales</th>\n",
       "    </tr>\n",
       "  </thead>\n",
       "  <tbody>\n",
       "    <tr>\n",
       "      <th>user_score</th>\n",
       "      <td>1.000000</td>\n",
       "      <td>0.509843</td>\n",
       "      <td>0.029110</td>\n",
       "    </tr>\n",
       "    <tr>\n",
       "      <th>critic_score</th>\n",
       "      <td>0.509843</td>\n",
       "      <td>1.000000</td>\n",
       "      <td>0.406568</td>\n",
       "    </tr>\n",
       "    <tr>\n",
       "      <th>total_sales</th>\n",
       "      <td>0.029110</td>\n",
       "      <td>0.406568</td>\n",
       "      <td>1.000000</td>\n",
       "    </tr>\n",
       "  </tbody>\n",
       "</table>\n",
       "</div>"
      ],
      "text/plain": [
       "              user_score  critic_score  total_sales\n",
       "user_score      1.000000      0.509843     0.029110\n",
       "critic_score    0.509843      1.000000     0.406568\n",
       "total_sales     0.029110      0.406568     1.000000"
      ]
     },
     "execution_count": 33,
     "metadata": {},
     "output_type": "execute_result"
    }
   ],
   "source": [
    "data_ps4['user_score'].astype(float)\n",
    "data_ps4['critic_score'].astype(float)\n",
    "data_ps4[['user_score', 'critic_score','total_sales']].corr()"
   ]
  },
  {
   "cell_type": "markdown",
   "id": "deb2158e",
   "metadata": {},
   "source": [
    "Как мы видим между оценками пользователей и оценками критиков наблюдается средний уровень корреляции, между оценками критиков и глобальными продажами средний, а вот между оценками пользователей и продажами корреляции нет."
   ]
  },
  {
   "cell_type": "markdown",
   "id": "6a36e805",
   "metadata": {},
   "source": [
    "Сравним с показателями платформ PS3 и X360."
   ]
  },
  {
   "cell_type": "code",
   "execution_count": 34,
   "id": "0d3f1d22",
   "metadata": {},
   "outputs": [],
   "source": [
    "data_ps3 = valid_data[valid_data['platform'] == 'PS3']\n",
    "data_x360 = valid_data[valid_data['platform'] == 'X360']"
   ]
  },
  {
   "cell_type": "code",
   "execution_count": 35,
   "id": "b12423a7",
   "metadata": {},
   "outputs": [
    {
     "data": {
      "text/html": [
       "<div>\n",
       "<style scoped>\n",
       "    .dataframe tbody tr th:only-of-type {\n",
       "        vertical-align: middle;\n",
       "    }\n",
       "\n",
       "    .dataframe tbody tr th {\n",
       "        vertical-align: top;\n",
       "    }\n",
       "\n",
       "    .dataframe thead th {\n",
       "        text-align: right;\n",
       "    }\n",
       "</style>\n",
       "<table border=\"1\" class=\"dataframe\">\n",
       "  <thead>\n",
       "    <tr style=\"text-align: right;\">\n",
       "      <th></th>\n",
       "      <th>user_score</th>\n",
       "      <th>critic_score</th>\n",
       "      <th>total_sales</th>\n",
       "    </tr>\n",
       "  </thead>\n",
       "  <tbody>\n",
       "    <tr>\n",
       "      <th>user_score</th>\n",
       "      <td>1.000000</td>\n",
       "      <td>0.558547</td>\n",
       "      <td>0.100366</td>\n",
       "    </tr>\n",
       "    <tr>\n",
       "      <th>critic_score</th>\n",
       "      <td>0.558547</td>\n",
       "      <td>1.000000</td>\n",
       "      <td>0.331497</td>\n",
       "    </tr>\n",
       "    <tr>\n",
       "      <th>total_sales</th>\n",
       "      <td>0.100366</td>\n",
       "      <td>0.331497</td>\n",
       "      <td>1.000000</td>\n",
       "    </tr>\n",
       "  </tbody>\n",
       "</table>\n",
       "</div>"
      ],
      "text/plain": [
       "              user_score  critic_score  total_sales\n",
       "user_score      1.000000      0.558547     0.100366\n",
       "critic_score    0.558547      1.000000     0.331497\n",
       "total_sales     0.100366      0.331497     1.000000"
      ]
     },
     "execution_count": 35,
     "metadata": {},
     "output_type": "execute_result"
    }
   ],
   "source": [
    "data_ps3[['user_score', 'critic_score','total_sales']].corr()"
   ]
  },
  {
   "cell_type": "code",
   "execution_count": 36,
   "id": "03da3d26",
   "metadata": {},
   "outputs": [
    {
     "data": {
      "text/html": [
       "<div>\n",
       "<style scoped>\n",
       "    .dataframe tbody tr th:only-of-type {\n",
       "        vertical-align: middle;\n",
       "    }\n",
       "\n",
       "    .dataframe tbody tr th {\n",
       "        vertical-align: top;\n",
       "    }\n",
       "\n",
       "    .dataframe thead th {\n",
       "        text-align: right;\n",
       "    }\n",
       "</style>\n",
       "<table border=\"1\" class=\"dataframe\">\n",
       "  <thead>\n",
       "    <tr style=\"text-align: right;\">\n",
       "      <th></th>\n",
       "      <th>user_score</th>\n",
       "      <th>critic_score</th>\n",
       "      <th>total_sales</th>\n",
       "    </tr>\n",
       "  </thead>\n",
       "  <tbody>\n",
       "    <tr>\n",
       "      <th>user_score</th>\n",
       "      <td>1.000000</td>\n",
       "      <td>0.557352</td>\n",
       "      <td>0.066849</td>\n",
       "    </tr>\n",
       "    <tr>\n",
       "      <th>critic_score</th>\n",
       "      <td>0.557352</td>\n",
       "      <td>1.000000</td>\n",
       "      <td>0.360573</td>\n",
       "    </tr>\n",
       "    <tr>\n",
       "      <th>total_sales</th>\n",
       "      <td>0.066849</td>\n",
       "      <td>0.360573</td>\n",
       "      <td>1.000000</td>\n",
       "    </tr>\n",
       "  </tbody>\n",
       "</table>\n",
       "</div>"
      ],
      "text/plain": [
       "              user_score  critic_score  total_sales\n",
       "user_score      1.000000      0.557352     0.066849\n",
       "critic_score    0.557352      1.000000     0.360573\n",
       "total_sales     0.066849      0.360573     1.000000"
      ]
     },
     "execution_count": 36,
     "metadata": {},
     "output_type": "execute_result"
    }
   ],
   "source": [
    "data_x360[['user_score', 'critic_score','total_sales']].corr()"
   ]
  },
  {
   "cell_type": "markdown",
   "id": "9332dcec",
   "metadata": {},
   "source": [
    "Как мы видим показатели корреляции отличаются незначительно."
   ]
  },
  {
   "cell_type": "markdown",
   "id": "d009a5db",
   "metadata": {},
   "source": [
    "<a id='section_3_7'></a>\n",
    "### Изучение распределений продаж по жанрам игр"
   ]
  },
  {
   "cell_type": "code",
   "execution_count": 37,
   "id": "c4c80351",
   "metadata": {},
   "outputs": [
    {
     "data": {
      "image/png": "[encoded data removed]",
      "text/plain": [
       "<Figure size 1080x360 with 1 Axes>"
      ]
     },
     "metadata": {
      "needs_background": "light"
     },
     "output_type": "display_data"
    }
   ],
   "source": [
    "(\n",
    "    valid_data\n",
    "    .groupby('genre')['total_sales']\n",
    "    .median()\n",
    "    .sort_values(ascending=False)\n",
    "    .plot(kind='bar', grid=True, figsize=(15,5))\n",
    ")\n",
    "\n",
    "ax.set_title('Медианное количество продаж по жанру'+\"\\n\", fontsize=14)\n",
    "\n",
    "ax.set_xlabel('Жанр', fontsize=12)\n",
    "ax.set_ylabel('Количество', fontsize=12)\n",
    "\n",
    "plt.xticks(rotation=0)\n",
    "\n",
    "plt.show()"
   ]
  },
  {
   "cell_type": "code",
   "execution_count": 38,
   "id": "29377d88",
   "metadata": {},
   "outputs": [
    {
     "data": {
      "image/png": "[encoded data removed]",
      "text/plain": [
       "<Figure size 1080x720 with 1 Axes>"
      ]
     },
     "metadata": {
      "needs_background": "light"
     },
     "output_type": "display_data"
    }
   ],
   "source": [
    "fig, ax = plt.subplots(figsize=(15,10))\n",
    "\n",
    "sns.boxplot(x=valid_data['genre'], y = valid_data['total_sales'])\n",
    "\n",
    "plt.title('Продажи игр по жанрам'+\"\\n\", fontsize=16)\n",
    "\n",
    "plt.xlabel('Жанр', fontsize=16)\n",
    "plt.ylabel('Продажи', fontsize=16)\n",
    "\n",
    "plt.xticks(rotation=0)\n",
    "\n",
    "plt.ylim(0,2)\n",
    "\n",
    "plt.show()"
   ]
  },
  {
   "cell_type": "markdown",
   "id": "a6f2697d",
   "metadata": {},
   "source": [
    "Из графика распределения количества продаж по жанрам можно сделать вывод, что большим спросом пользуются игры, требующие большей активности от пользователей в процессе игры, а вот игры с размеренным темпом являются самыми низкодоходными.\n",
    "Больше всех устойчивым спросом пользуются жанры `Shooter`, `Sports`, `Platform`."
   ]
  },
  {
   "cell_type": "markdown",
   "id": "5d89e937",
   "metadata": {},
   "source": [
    "<a id='section_4'></a>\n",
    "## Составление портрета пользователя каждого региона (NA, EU, JP)"
   ]
  },
  {
   "cell_type": "markdown",
   "id": "e901a849",
   "metadata": {},
   "source": [
    "Рассмотрим топы за крайние 5 лет."
   ]
  },
  {
   "cell_type": "markdown",
   "id": "760dc083",
   "metadata": {},
   "source": [
    "<a id='section_4_1'></a>\n",
    "### Самые популярные платформы (топ-5)"
   ]
  },
  {
   "cell_type": "code",
   "execution_count": 39,
   "id": "8622e2a2",
   "metadata": {},
   "outputs": [],
   "source": [
    "def top_5_by_platform(region):\n",
    "    (\n",
    "        valid_data\n",
    "        .groupby('platform')[region+'_sales']\n",
    "        .sum()\n",
    "        .sort_values(ascending=False)\n",
    "        .head()\n",
    "        .plot(kind='bar', grid=True, figsize=(10,5))\n",
    "    )\n",
    "    plt.title(f'Топ-5 {region.upper()}')\n",
    "\n",
    "    plt.xlabel('Платформа', fontsize=12)\n",
    "    plt.ylabel('Продажи', fontsize=12)\n",
    "\n",
    "    plt.xticks(rotation=0)\n",
    "\n",
    "    plt.ylim(0,200)\n",
    "    plt.show()"
   ]
  },
  {
   "cell_type": "markdown",
   "id": "256c4829",
   "metadata": {},
   "source": [
    "#### Toп-5 NA"
   ]
  },
  {
   "cell_type": "code",
   "execution_count": 40,
   "id": "6df32078",
   "metadata": {},
   "outputs": [
    {
     "data": {
      "image/png": "[encoded data removed]",
      "text/plain": [
       "<Figure size 720x360 with 1 Axes>"
      ]
     },
     "metadata": {
      "needs_background": "light"
     },
     "output_type": "display_data"
    }
   ],
   "source": [
    "top_5_by_platform('na')"
   ]
  },
  {
   "cell_type": "markdown",
   "id": "a1949237",
   "metadata": {},
   "source": [
    "#### Toп-5 EU"
   ]
  },
  {
   "cell_type": "code",
   "execution_count": 41,
   "id": "3cfaf2f0",
   "metadata": {},
   "outputs": [
    {
     "data": {
      "image/png": "[encoded data removed]",
      "text/plain": [
       "<Figure size 720x360 with 1 Axes>"
      ]
     },
     "metadata": {
      "needs_background": "light"
     },
     "output_type": "display_data"
    }
   ],
   "source": [
    "top_5_by_platform('eu')"
   ]
  },
  {
   "cell_type": "markdown",
   "id": "585fb873",
   "metadata": {},
   "source": [
    "#### Toп-5 JP"
   ]
  },
  {
   "cell_type": "code",
   "execution_count": 42,
   "id": "08679e3e",
   "metadata": {},
   "outputs": [
    {
     "data": {
      "image/png": "[encoded data removed]",
      "text/plain": [
       "<Figure size 720x360 with 1 Axes>"
      ]
     },
     "metadata": {
      "needs_background": "light"
     },
     "output_type": "display_data"
    }
   ],
   "source": [
    "top_5_by_platform('jp')"
   ]
  },
  {
   "cell_type": "markdown",
   "id": "87fa4585",
   "metadata": {},
   "source": [
    "На японском рынке продажи значительно ниже, чем на европейском или североамериканском, при этом есть различия в самых популярных платформах, в Японии платформа `3DS` занимает первое место, тогда как на рынке Европы и Америки она находится на 5 месте. На европеймком рынке лидирует `PS4`, а на североамериканском `X360`."
   ]
  },
  {
   "cell_type": "markdown",
   "id": "7a3e0674",
   "metadata": {},
   "source": [
    "<a id='section_4_2'></a>\n",
    "### Самые популярные жанры (топ-5)"
   ]
  },
  {
   "cell_type": "code",
   "execution_count": 43,
   "id": "11b01a14",
   "metadata": {},
   "outputs": [],
   "source": [
    "def top_5_by_genre(region):\n",
    "    (\n",
    "        valid_data\n",
    "        .groupby('genre')[region+'_sales']\n",
    "        .sum()\n",
    "        .sort_values(ascending=False)\n",
    "        .head()\n",
    "        .plot(kind='bar', grid=True, figsize=(10,5))\n",
    "    )\n",
    "    plt.title(f'Топ-5 {region.upper()}')\n",
    "\n",
    "    plt.xlabel('Платформа', fontsize=12)\n",
    "    plt.ylabel('Продажи', fontsize=12)\n",
    "\n",
    "    plt.xticks(rotation=0)\n",
    "\n",
    "    plt.ylim(0,200)\n",
    "    plt.show()"
   ]
  },
  {
   "cell_type": "markdown",
   "id": "32217123",
   "metadata": {},
   "source": [
    "#### Toп-5 NA"
   ]
  },
  {
   "cell_type": "code",
   "execution_count": 44,
   "id": "f07d13fc",
   "metadata": {},
   "outputs": [
    {
     "data": {
      "image/png": "[encoded data removed]",
      "text/plain": [
       "<Figure size 720x360 with 1 Axes>"
      ]
     },
     "metadata": {
      "needs_background": "light"
     },
     "output_type": "display_data"
    }
   ],
   "source": [
    "top_5_by_genre('na')"
   ]
  },
  {
   "cell_type": "markdown",
   "id": "1ca1264d",
   "metadata": {},
   "source": [
    "#### Toп-5 EU"
   ]
  },
  {
   "cell_type": "code",
   "execution_count": 45,
   "id": "94731daf",
   "metadata": {},
   "outputs": [
    {
     "data": {
      "image/png": "[encoded data removed]",
      "text/plain": [
       "<Figure size 720x360 with 1 Axes>"
      ]
     },
     "metadata": {
      "needs_background": "light"
     },
     "output_type": "display_data"
    }
   ],
   "source": [
    "top_5_by_genre('eu')"
   ]
  },
  {
   "cell_type": "markdown",
   "id": "5f1051d7",
   "metadata": {},
   "source": [
    "#### Toп-5 JP"
   ]
  },
  {
   "cell_type": "code",
   "execution_count": 46,
   "id": "4e956b58",
   "metadata": {},
   "outputs": [
    {
     "data": {
      "image/png": "[encoded data removed]",
      "text/plain": [
       "<Figure size 720x360 with 1 Axes>"
      ]
     },
     "metadata": {
      "needs_background": "light"
     },
     "output_type": "display_data"
    }
   ],
   "source": [
    "top_5_by_genre('jp')"
   ]
  },
  {
   "cell_type": "markdown",
   "id": "3ce18cf3",
   "metadata": {},
   "source": [
    "Как мы видим, пользователи из Европы и Америки очень схожи в жанровых предпочтениях, лидирует жанр `Action`, а вот в Японии больше любят `Role-Playing`."
   ]
  },
  {
   "cell_type": "markdown",
   "id": "8471df34",
   "metadata": {},
   "source": [
    "<a id='section_4_3'></a>\n",
    "### Влияние рейтинга ESRB на продажи в отдельных регионах"
   ]
  },
  {
   "cell_type": "markdown",
   "id": "7ec07196",
   "metadata": {},
   "source": [
    "Взглянем, как распределены продажи по рейтингу."
   ]
  },
  {
   "cell_type": "code",
   "execution_count": 47,
   "id": "771d7bf0",
   "metadata": {},
   "outputs": [
    {
     "data": {
      "image/png": "[encoded data removed]",
      "text/plain": [
       "<Figure size 720x360 with 1 Axes>"
      ]
     },
     "metadata": {
      "needs_background": "light"
     },
     "output_type": "display_data"
    }
   ],
   "source": [
    "data.groupby('rating')['total_sales'].sum().sort_values(ascending=False).plot(kind='bar', grid=True, figsize=(10,5))\n",
    "\n",
    "plt.xlabel('Рейтинг', fontsize=12)\n",
    "plt.ylabel('Продажи', fontsize=12)\n",
    "\n",
    "plt.xticks(rotation=0)\n",
    "\n",
    "plt.ylim(0,)\n",
    "plt.show()"
   ]
  },
  {
   "cell_type": "code",
   "execution_count": 48,
   "id": "ced4c53e",
   "metadata": {},
   "outputs": [],
   "source": [
    "def rating(region):\n",
    "    (\n",
    "        data\n",
    "        .groupby('rating')[region+'_sales']\n",
    "        .sum()\n",
    "        .sort_values(ascending=False)\n",
    "        .plot(kind='bar', grid=True, figsize=(10,5))\n",
    "    )\n",
    "    \n",
    "    plt.title(f'Продажи по рейтингам в {region.upper()}')\n",
    "\n",
    "    plt.xlabel('Платформа', fontsize=12)\n",
    "    plt.ylabel('Продажи', fontsize=12)\n",
    "\n",
    "    plt.xticks(rotation=0)\n",
    "\n",
    "    plt.show()"
   ]
  },
  {
   "cell_type": "markdown",
   "id": "e3bfe055",
   "metadata": {},
   "source": [
    "#### Влияние рейтинга в NA"
   ]
  },
  {
   "cell_type": "code",
   "execution_count": 49,
   "id": "c112a864",
   "metadata": {},
   "outputs": [
    {
     "data": {
      "image/png": "[encoded data removed]",
      "text/plain": [
       "<Figure size 720x360 with 1 Axes>"
      ]
     },
     "metadata": {
      "needs_background": "light"
     },
     "output_type": "display_data"
    }
   ],
   "source": [
    "rating('na')"
   ]
  },
  {
   "cell_type": "markdown",
   "id": "ff525ae1",
   "metadata": {},
   "source": [
    "#### Влияние рейтинга в EU"
   ]
  },
  {
   "cell_type": "code",
   "execution_count": 50,
   "id": "91fabd7d",
   "metadata": {},
   "outputs": [
    {
     "data": {
      "image/png": "[encoded data removed]",
      "text/plain": [
       "<Figure size 720x360 with 1 Axes>"
      ]
     },
     "metadata": {
      "needs_background": "light"
     },
     "output_type": "display_data"
    }
   ],
   "source": [
    "rating('eu')"
   ]
  },
  {
   "cell_type": "markdown",
   "id": "1108ef30",
   "metadata": {},
   "source": [
    "#### Влияние рейтинга в JP"
   ]
  },
  {
   "cell_type": "code",
   "execution_count": 51,
   "id": "c155c4fa",
   "metadata": {},
   "outputs": [
    {
     "data": {
      "image/png": "[encoded data removed]",
      "text/plain": [
       "<Figure size 720x360 with 1 Axes>"
      ]
     },
     "metadata": {
      "needs_background": "light"
     },
     "output_type": "display_data"
    }
   ],
   "source": [
    "rating('jp')"
   ]
  },
  {
   "cell_type": "markdown",
   "id": "efcac23d",
   "metadata": {},
   "source": [
    "Во всех регионах первые четыре места продажам занимают игры с рейтингом:\n",
    "  - «E» («Everyone») — «Для всех»\n",
    "  - «T» («Teen») — «Подросткам»\n",
    "  - «M» («Mature») — «Для взрослых»\n",
    "  - «E10+» («Everyone 10 and older») — «Для всех от 10 лет и старше»"
   ]
  },
  {
   "cell_type": "markdown",
   "id": "29421816",
   "metadata": {},
   "source": [
    "Продажи по регионам NA и EU распределены похожим образом, отличаются только объёмы продаж, так что, можно сделать вывод, что рейтинг не сильно сказывается на данных регионах, а вот в регионе JP рейтинг «M» — «Для взрослых» значительно уступает рейтингу «T» — «Подросткам», а также значительно выбиваются игры с неизвестным рейтингом, так как в Японии игры с рейтингом ESRB пользуются не таким большим спросом."
   ]
  },
  {
   "cell_type": "code",
   "execution_count": 52,
   "id": "495955db",
   "metadata": {},
   "outputs": [],
   "source": [
    "data_rating = data[~((data['critic_score'].isna()) & \n",
    "                     (data['user_score'].isna()) & \n",
    "                     (data['rating'] == 'unknown'))]"
   ]
  },
  {
   "cell_type": "code",
   "execution_count": 53,
   "id": "1cebb54d",
   "metadata": {},
   "outputs": [],
   "source": [
    "def rating_1(region):\n",
    "    (\n",
    "        data_rating\n",
    "        .groupby('rating')[region+'_sales']\n",
    "        .sum()\n",
    "        .sort_values(ascending=False)\n",
    "        .plot(kind='bar', grid=True, figsize=(10,5))\n",
    "    )\n",
    "    \n",
    "    plt.title(f'Продажи по рейтингам в {region.upper()}')\n",
    "\n",
    "    plt.xlabel('Платформа', fontsize=12)\n",
    "    plt.ylabel('Продажи', fontsize=12)\n",
    "\n",
    "    plt.xticks(rotation=0)\n",
    "\n",
    "    plt.show()"
   ]
  },
  {
   "cell_type": "code",
   "execution_count": 54,
   "id": "adc4c7ed",
   "metadata": {},
   "outputs": [
    {
     "data": {
      "image/png": "[encoded data removed]",
      "text/plain": [
       "<Figure size 720x360 with 1 Axes>"
      ]
     },
     "metadata": {
      "needs_background": "light"
     },
     "output_type": "display_data"
    },
    {
     "data": {
      "image/png": "[encoded data removed]",
      "text/plain": [
       "<Figure size 720x360 with 1 Axes>"
      ]
     },
     "metadata": {
      "needs_background": "light"
     },
     "output_type": "display_data"
    },
    {
     "data": {
      "image/png": "[encoded data removed]",
      "text/plain": [
       "<Figure size 720x360 with 1 Axes>"
      ]
     },
     "metadata": {
      "needs_background": "light"
     },
     "output_type": "display_data"
    }
   ],
   "source": [
    "rating_1('na')\n",
    "rating_1('eu')\n",
    "rating_1('jp')"
   ]
  },
  {
   "cell_type": "markdown",
   "id": "0374b383",
   "metadata": {},
   "source": [
    "<a id='section_5'></a>\n",
    "## Проверка гипотез"
   ]
  },
  {
   "cell_type": "markdown",
   "id": "8e20c881",
   "metadata": {},
   "source": [
    "<a id='section_5_1'></a>\n",
    "### Гипотеза №1. Средние пользовательские рейтинги платформ Xbox One и PC одинаковые"
   ]
  },
  {
   "cell_type": "markdown",
   "id": "55c191c4",
   "metadata": {},
   "source": [
    "- Н0: Средние пользовательские рейтинги платформ Xbox One и PC одинаковые\n",
    "- Н1: Средние пользовательские рейтинги платформ Xbox One и PC отличаются"
   ]
  },
  {
   "cell_type": "code",
   "execution_count": 55,
   "id": "0861a2ad",
   "metadata": {},
   "outputs": [
    {
     "name": "stdout",
     "output_type": "stream",
     "text": [
      "Средние пользовательские рейтинги платформ Xbox One и PC не одинаковые: PC=6.3, XOne=6.1\n"
     ]
    }
   ],
   "source": [
    "xone = valid_data[valid_data['platform'] == 'XOne']['user_score'].mean()\n",
    "pc = valid_data[valid_data['platform'] == 'PC']['user_score'].mean()\n",
    "\n",
    "if xone == pc:\n",
    "    print(f'Средние пользовательские рейтинги платформ Xbox One и PC одинаковые: PC={round(pc,1)}, XOne={round(xone,1)}')\n",
    "else:\n",
    "    print(f'Средние пользовательские рейтинги платформ Xbox One и PC не одинаковые: PC={round(pc,1)}, XOne={round(xone,1)}')"
   ]
  },
  {
   "cell_type": "code",
   "execution_count": 56,
   "id": "f26245ce",
   "metadata": {},
   "outputs": [],
   "source": [
    "from scipy import stats as st"
   ]
  },
  {
   "cell_type": "code",
   "execution_count": 57,
   "id": "adc429c4",
   "metadata": {},
   "outputs": [],
   "source": [
    "data_test = valid_data[~((valid_data['user_score'].isna()) | (valid_data['user_score'] == -1))]"
   ]
  },
  {
   "cell_type": "code",
   "execution_count": 58,
   "id": "966f0d17",
   "metadata": {},
   "outputs": [
    {
     "name": "stdout",
     "output_type": "stream",
     "text": [
      "Отвергнуть нулевую гипотезу не получилось, p-значение: 0.5535080500643661\n"
     ]
    }
   ],
   "source": [
    "sample_1 = data_test[data_test['platform'] == 'XOne']['user_score']\n",
    "sample_2 = data_test[data_test['platform'] == 'PC']['user_score']\n",
    "\n",
    "alpha = 0.05\n",
    "\n",
    "results = st.ttest_ind(sample_1,sample_2)\n",
    "\n",
    "if results.pvalue < alpha:\n",
    "    print('Отвергаем нулевую гипотезу, p-значение:', results.pvalue)\n",
    "else: \n",
    "    print('Отвергнуть нулевую гипотезу не получилось, p-значение:', results.pvalue)"
   ]
  },
  {
   "cell_type": "code",
   "execution_count": 59,
   "id": "d280541a",
   "metadata": {},
   "outputs": [
    {
     "data": {
      "image/png": "[encoded data removed]",
      "text/plain": [
       "<Figure size 1080x720 with 1 Axes>"
      ]
     },
     "metadata": {
      "needs_background": "light"
     },
     "output_type": "display_data"
    }
   ],
   "source": [
    "fig, ax = plt.subplots(figsize=(15,10))\n",
    "\n",
    "sns.boxplot(x=data_test[(data_test['platform'] == 'XOne') | (data_test['platform'] == 'PC')]['platform'], \n",
    "            y=data_test['user_score'])\n",
    "\n",
    "plt.title('Распределение оценок пользователей по платформам'+\"\\n\", fontsize=16)\n",
    "\n",
    "plt.xlabel('Жанр', fontsize=16)\n",
    "plt.ylabel('Оценки пользователей', fontsize=16)\n",
    "\n",
    "plt.xticks(rotation=0)\n",
    "\n",
    "plt.show()"
   ]
  },
  {
   "cell_type": "markdown",
   "id": "9e470105",
   "metadata": {},
   "source": [
    "<a id='section_5_2'></a>\n",
    "### Гипотеза №2. Средние пользовательские рейтинги жанров Action и Sports разные"
   ]
  },
  {
   "cell_type": "markdown",
   "id": "91472d93",
   "metadata": {},
   "source": [
    "- Н0: Средние пользовательские рейтинги жанров Action и Sports разные\n",
    "- Н1: Средние пользовательские рейтинги жанров Action и Sports одинаковые"
   ]
  },
  {
   "cell_type": "code",
   "execution_count": 60,
   "id": "46c27081",
   "metadata": {},
   "outputs": [
    {
     "name": "stdout",
     "output_type": "stream",
     "text": [
      "Отвергнуть нулевую гипотезу не получилось, p-значение: 1.0\n"
     ]
    }
   ],
   "source": [
    "sample_1 = data_test[data_test['genre'] == 'Action']['user_score']\n",
    "sample_2 = data_test[data_test['genre'] == 'Sports']['user_score']\n",
    "\n",
    "alpha = 0.05\n",
    "\n",
    "results = st.ttest_ind(sample_1,sample_2)\n",
    "\n",
    "if 1-results.pvalue < alpha:\n",
    "    print('Отвергаем нулевую гипотезу, p-значение:', 1-results.pvalue)\n",
    "else: \n",
    "    print('Отвергнуть нулевую гипотезу не получилось, p-значение:', 1-results.pvalue)"
   ]
  },
  {
   "cell_type": "code",
   "execution_count": 61,
   "id": "9952735b",
   "metadata": {},
   "outputs": [
    {
     "data": {
      "image/png": "[encoded data removed]",
      "text/plain": [
       "<Figure size 1080x720 with 1 Axes>"
      ]
     },
     "metadata": {
      "needs_background": "light"
     },
     "output_type": "display_data"
    }
   ],
   "source": [
    "fig, ax = plt.subplots(figsize=(15,10))\n",
    "\n",
    "sns.boxplot(x=data_test[(data_test['genre'] == 'Action') | (data_test['genre'] == 'Sports')]['genre'], \n",
    "            y=data_test['user_score'])\n",
    "\n",
    "plt.title('Распределение оценок по жанрам'+\"\\n\", fontsize=16)\n",
    "\n",
    "plt.xlabel('Жанр', fontsize=16)\n",
    "plt.ylabel('Оценки пользователей', fontsize=16)\n",
    "\n",
    "plt.xticks(rotation=0)\n",
    "\n",
    "plt.show()"
   ]
  },
  {
   "cell_type": "markdown",
   "id": "70ef033d",
   "metadata": {},
   "source": [
    "Гипотеза №1:\n",
    "  - Н0: Средние пользовательские рейтинги платформ Xbox One и PC одинаковые\n",
    "  - Н1: Средние пользовательские рейтинги платформ Xbox One и PC отличаются  \n",
    "  \n",
    "Гипотеза №2:\n",
    "  - Н0: Средние пользовательские рейтинги жанров Action и Sports разные\n",
    "  - Н1: Средние пользовательские рейтинги жанров Action и Sports одинаковые \n",
    "  \n",
    "Для проверки гипотез применяется критерий равенства средних двух генеральных совокупностей."
   ]
  },
  {
   "cell_type": "markdown",
   "id": "2adcf0aa",
   "metadata": {},
   "source": [
    "<a id='section_6'></a>\n",
    "## Общий вывод"
   ]
  },
  {
   "cell_type": "markdown",
   "id": "8343097d",
   "metadata": {},
   "source": [
    "В ходе исследования были обработаны и проанализированы данные из открытых источников о продажах игр до 2016 года включительно. \n",
    "На этапе подготовки данных были заменены названия столбцов, удалены пропуски, не подлежащие восстановлению и изменены соответствующие типы данных.  \n",
    "Затем было проведено исследование зависимотей в соответствии с целью проекта, составлены портреты пользователей из различных регионов, проверены гипотезы, а также сделаны выводы и рекомендации. \n",
    "\n",
    "**После проделанного исследования можно сделать следующие выводы:**\n",
    "1. Пик релизов на рынке видеоигр приходится на 2008-2009 годы.\n",
    "2. На момент 2016 года наблюдается значительная рецессия выпуска и продаж.\n",
    "3. На момент 2016 года лидером продаж являются платформы PS4, XONE и 3DS. \n",
    "4. Потенциально прибыльными являются платформы PS4, XONE и РС за счёт положительного тренда релизов.\n",
    "5. Самыми популярными платформами с 2012 года являются:\n",
    "  - PS4\n",
    "  - PS3\n",
    "  - X360\n",
    "  - 3DS\n",
    "  - XOne\n",
    "6. Оценки критиков находятся в средней корреляции с продажами игр.\n",
    "7. Оценки пользователей не коррелируют с продажами.\n",
    "8. Популярность жанра зависит от требовательности игры к активному участию пользователя в процессе.\n",
    "9. Самый популярный жанр - `Sports`, самый непопулярный - `Adventure`.\n",
    "10. Самым большим коэффициентом продаж в зависимости от выпущенных игр обладает жанр `Platform`.\n",
    "11. Предпочтения пользователей из Японии значительно отличаются от предпочтений европейцев и американцев, которые в свою очередь, имеют схожие вкусы как в выборе платформ, так и жанров игр.\n",
    "12. Выпуск игр категории «M» («Mature») — «Для взрослых» в Японии значительно ниже, чем в среднем по миру.\n",
    "**Рекомендации:**\n",
    "1. Обратить внимание на процесс выгрузки информации, так как в столбцах `critic_score`,`user_score`,`rating` одновремнно отсутствует часть данных об оценках."
   ]
  }
 ],
 "metadata": {
  "ExecuteTimeLog": [
   {
    "duration": 1100,
    "start_time": "2022-11-30T08:22:23.501Z"
   },
   {
    "duration": 96,
    "start_time": "2022-11-30T08:22:24.603Z"
   },
   {
    "duration": 17,
    "start_time": "2022-11-30T08:22:24.700Z"
   },
   {
    "duration": 3,
    "start_time": "2022-11-30T08:22:24.718Z"
   },
   {
    "duration": 19,
    "start_time": "2022-11-30T08:22:24.723Z"
   },
   {
    "duration": 13,
    "start_time": "2022-11-30T08:22:24.743Z"
   },
   {
    "duration": 35,
    "start_time": "2022-11-30T08:22:24.758Z"
   },
   {
    "duration": 8,
    "start_time": "2022-11-30T08:22:24.794Z"
   },
   {
    "duration": 7,
    "start_time": "2022-11-30T08:22:24.803Z"
   },
   {
    "duration": 184,
    "start_time": "2022-11-30T08:22:24.811Z"
   },
   {
    "duration": 9,
    "start_time": "2022-11-30T08:22:24.997Z"
   },
   {
    "duration": 8,
    "start_time": "2022-11-30T08:22:25.007Z"
   },
   {
    "duration": 8,
    "start_time": "2022-11-30T08:22:25.017Z"
   },
   {
    "duration": 2,
    "start_time": "2022-11-30T08:22:25.028Z"
   },
   {
    "duration": 21,
    "start_time": "2022-11-30T08:22:25.032Z"
   },
   {
    "duration": 31,
    "start_time": "2022-11-30T08:22:25.055Z"
   },
   {
    "duration": 4,
    "start_time": "2022-11-30T08:22:25.088Z"
   },
   {
    "duration": 5,
    "start_time": "2022-11-30T08:22:25.093Z"
   },
   {
    "duration": 15,
    "start_time": "2022-11-30T08:22:25.100Z"
   },
   {
    "duration": 223,
    "start_time": "2022-11-30T08:22:25.117Z"
   },
   {
    "duration": 274,
    "start_time": "2022-11-30T08:22:25.342Z"
   },
   {
    "duration": 3,
    "start_time": "2022-11-30T08:22:25.618Z"
   },
   {
    "duration": 381,
    "start_time": "2022-11-30T08:22:25.622Z"
   },
   {
    "duration": 4,
    "start_time": "2022-11-30T08:22:26.004Z"
   },
   {
    "duration": 298,
    "start_time": "2022-11-30T08:22:26.010Z"
   },
   {
    "duration": 283,
    "start_time": "2022-11-30T08:22:26.310Z"
   },
   {
    "duration": 268,
    "start_time": "2022-11-30T08:22:26.594Z"
   },
   {
    "duration": 15,
    "start_time": "2022-11-30T08:22:26.864Z"
   },
   {
    "duration": 25,
    "start_time": "2022-11-30T08:22:26.881Z"
   },
   {
    "duration": 20,
    "start_time": "2022-11-30T08:22:26.908Z"
   },
   {
    "duration": 176,
    "start_time": "2022-11-30T08:22:26.930Z"
   },
   {
    "duration": 186,
    "start_time": "2022-11-30T08:22:27.108Z"
   },
   {
    "duration": 11,
    "start_time": "2022-11-30T08:22:27.296Z"
   },
   {
    "duration": 16,
    "start_time": "2022-11-30T08:22:27.309Z"
   },
   {
    "duration": 20,
    "start_time": "2022-11-30T08:22:27.326Z"
   },
   {
    "duration": 19,
    "start_time": "2022-11-30T08:22:27.348Z"
   },
   {
    "duration": 191,
    "start_time": "2022-11-30T08:22:27.368Z"
   },
   {
    "duration": 50,
    "start_time": "2022-11-30T08:22:27.562Z"
   },
   {
    "duration": 194,
    "start_time": "2022-11-30T08:22:27.614Z"
   },
   {
    "duration": 152,
    "start_time": "2022-11-30T08:22:27.810Z"
   },
   {
    "duration": 149,
    "start_time": "2022-11-30T08:22:27.967Z"
   },
   {
    "duration": 143,
    "start_time": "2022-11-30T08:22:28.118Z"
   },
   {
    "duration": 149,
    "start_time": "2022-11-30T08:22:28.263Z"
   },
   {
    "duration": 141,
    "start_time": "2022-11-30T08:22:28.414Z"
   },
   {
    "duration": 133,
    "start_time": "2022-11-30T08:22:28.557Z"
   },
   {
    "duration": 207,
    "start_time": "2022-11-30T08:22:28.692Z"
   },
   {
    "duration": 148,
    "start_time": "2022-11-30T08:22:28.901Z"
   },
   {
    "duration": 139,
    "start_time": "2022-11-30T08:22:29.051Z"
   },
   {
    "duration": 146,
    "start_time": "2022-11-30T08:22:29.192Z"
   },
   {
    "duration": 8,
    "start_time": "2022-11-30T08:22:29.340Z"
   },
   {
    "duration": 22,
    "start_time": "2022-11-30T08:22:29.350Z"
   },
   {
    "duration": 28,
    "start_time": "2022-11-30T08:22:29.373Z"
   },
   {
    "duration": 13,
    "start_time": "2022-11-30T08:22:29.403Z"
   },
   {
    "duration": 210,
    "start_time": "2022-11-30T08:54:26.120Z"
   },
   {
    "duration": 2,
    "start_time": "2022-11-30T08:54:49.341Z"
   },
   {
    "duration": 224,
    "start_time": "2022-11-30T08:57:00.769Z"
   },
   {
    "duration": 3,
    "start_time": "2022-11-30T08:57:40.689Z"
   },
   {
    "duration": 60,
    "start_time": "2022-11-30T10:28:10.509Z"
   },
   {
    "duration": 1282,
    "start_time": "2022-11-30T11:11:25.624Z"
   },
   {
    "duration": 227,
    "start_time": "2022-11-30T11:11:26.908Z"
   },
   {
    "duration": 18,
    "start_time": "2022-11-30T11:11:27.136Z"
   },
   {
    "duration": 3,
    "start_time": "2022-11-30T11:11:28.378Z"
   },
   {
    "duration": 17,
    "start_time": "2022-11-30T11:11:29.015Z"
   },
   {
    "duration": 9,
    "start_time": "2022-11-30T11:11:32.308Z"
   },
   {
    "duration": 51,
    "start_time": "2022-11-30T11:11:34.532Z"
   },
   {
    "duration": 14,
    "start_time": "2022-11-30T11:12:19.698Z"
   },
   {
    "duration": 22,
    "start_time": "2022-11-30T11:12:24.783Z"
   },
   {
    "duration": 4,
    "start_time": "2022-11-30T11:16:23.814Z"
   },
   {
    "duration": 169,
    "start_time": "2022-11-30T11:16:28.475Z"
   },
   {
    "duration": 169,
    "start_time": "2022-11-30T11:16:52.064Z"
   },
   {
    "duration": 8,
    "start_time": "2022-11-30T11:16:53.128Z"
   },
   {
    "duration": 10,
    "start_time": "2022-11-30T11:16:53.966Z"
   },
   {
    "duration": 8,
    "start_time": "2022-11-30T11:17:06.829Z"
   },
   {
    "duration": 4,
    "start_time": "2022-11-30T11:22:17.855Z"
   },
   {
    "duration": 100,
    "start_time": "2022-11-30T11:22:27.061Z"
   },
   {
    "duration": 11,
    "start_time": "2022-11-30T11:23:05.087Z"
   },
   {
    "duration": 14,
    "start_time": "2022-11-30T11:23:42.340Z"
   },
   {
    "duration": 10,
    "start_time": "2022-11-30T11:24:08.118Z"
   },
   {
    "duration": 1107,
    "start_time": "2022-11-30T11:24:21.976Z"
   },
   {
    "duration": 94,
    "start_time": "2022-11-30T11:24:23.085Z"
   },
   {
    "duration": 19,
    "start_time": "2022-11-30T11:24:23.437Z"
   },
   {
    "duration": 3,
    "start_time": "2022-11-30T11:24:24.037Z"
   },
   {
    "duration": 15,
    "start_time": "2022-11-30T11:24:24.346Z"
   },
   {
    "duration": 47,
    "start_time": "2022-11-30T11:24:25.270Z"
   },
   {
    "duration": 22,
    "start_time": "2022-11-30T11:24:26.019Z"
   },
   {
    "duration": 3,
    "start_time": "2022-11-30T11:24:26.200Z"
   },
   {
    "duration": 4,
    "start_time": "2022-11-30T11:24:26.829Z"
   },
   {
    "duration": 187,
    "start_time": "2022-11-30T11:24:26.988Z"
   },
   {
    "duration": 12,
    "start_time": "2022-11-30T11:24:27.774Z"
   },
   {
    "duration": 14,
    "start_time": "2022-11-30T11:24:28.270Z"
   },
   {
    "duration": 9,
    "start_time": "2022-11-30T11:24:29.417Z"
   },
   {
    "duration": 4,
    "start_time": "2022-11-30T11:24:31.119Z"
   },
   {
    "duration": 98,
    "start_time": "2022-11-30T11:24:31.889Z"
   },
   {
    "duration": 13,
    "start_time": "2022-11-30T11:24:48.639Z"
   },
   {
    "duration": 11,
    "start_time": "2022-11-30T11:25:01.021Z"
   },
   {
    "duration": 1095,
    "start_time": "2022-11-30T11:25:23.197Z"
   },
   {
    "duration": 96,
    "start_time": "2022-11-30T11:25:24.294Z"
   },
   {
    "duration": 19,
    "start_time": "2022-11-30T11:25:24.392Z"
   },
   {
    "duration": 3,
    "start_time": "2022-11-30T11:25:24.413Z"
   },
   {
    "duration": 18,
    "start_time": "2022-11-30T11:25:24.417Z"
   },
   {
    "duration": 91,
    "start_time": "2022-11-30T11:25:24.437Z"
   },
   {
    "duration": 22,
    "start_time": "2022-11-30T11:25:24.530Z"
   },
   {
    "duration": 2,
    "start_time": "2022-11-30T11:25:24.553Z"
   },
   {
    "duration": 5,
    "start_time": "2022-11-30T11:25:24.557Z"
   },
   {
    "duration": 187,
    "start_time": "2022-11-30T11:25:24.563Z"
   },
   {
    "duration": 9,
    "start_time": "2022-11-30T11:25:24.752Z"
   },
   {
    "duration": 10,
    "start_time": "2022-11-30T11:25:24.833Z"
   },
   {
    "duration": 9,
    "start_time": "2022-11-30T11:25:25.392Z"
   },
   {
    "duration": 4,
    "start_time": "2022-11-30T11:25:26.253Z"
   },
   {
    "duration": 6,
    "start_time": "2022-11-30T11:25:26.598Z"
   },
   {
    "duration": 4,
    "start_time": "2022-11-30T11:25:26.962Z"
   },
   {
    "duration": 4,
    "start_time": "2022-11-30T11:25:27.114Z"
   },
   {
    "duration": 19,
    "start_time": "2022-11-30T11:25:27.773Z"
   },
   {
    "duration": 5,
    "start_time": "2022-11-30T11:25:28.353Z"
   },
   {
    "duration": 3,
    "start_time": "2022-11-30T11:25:29.225Z"
   },
   {
    "duration": 13,
    "start_time": "2022-11-30T11:25:29.577Z"
   },
   {
    "duration": 5,
    "start_time": "2022-11-30T11:25:52.157Z"
   },
   {
    "duration": 141,
    "start_time": "2022-11-30T11:26:24.148Z"
   },
   {
    "duration": 20,
    "start_time": "2022-11-30T11:26:48.953Z"
   },
   {
    "duration": 5,
    "start_time": "2022-11-30T11:27:50.500Z"
   },
   {
    "duration": 19,
    "start_time": "2022-11-30T11:27:57.675Z"
   },
   {
    "duration": 7,
    "start_time": "2022-11-30T11:28:00.298Z"
   },
   {
    "duration": 9,
    "start_time": "2022-11-30T11:28:01.065Z"
   },
   {
    "duration": 82,
    "start_time": "2022-11-30T11:28:26.984Z"
   },
   {
    "duration": 8,
    "start_time": "2022-11-30T11:28:34.861Z"
   },
   {
    "duration": 14,
    "start_time": "2022-11-30T11:28:53.038Z"
   },
   {
    "duration": 5,
    "start_time": "2022-11-30T11:29:22.424Z"
   },
   {
    "duration": 12,
    "start_time": "2022-11-30T11:29:23.337Z"
   },
   {
    "duration": 13,
    "start_time": "2022-11-30T11:29:34.558Z"
   },
   {
    "duration": 209,
    "start_time": "2022-11-30T11:29:47.068Z"
   },
   {
    "duration": 273,
    "start_time": "2022-11-30T11:29:49.714Z"
   },
   {
    "duration": 2,
    "start_time": "2022-11-30T11:29:51.704Z"
   },
   {
    "duration": 319,
    "start_time": "2022-11-30T11:29:52.110Z"
   },
   {
    "duration": 6,
    "start_time": "2022-11-30T11:29:56.495Z"
   },
   {
    "duration": 269,
    "start_time": "2022-11-30T11:30:01.302Z"
   },
   {
    "duration": 342,
    "start_time": "2022-11-30T11:30:02.668Z"
   },
   {
    "duration": 164,
    "start_time": "2022-11-30T11:32:50.722Z"
   },
   {
    "duration": 7,
    "start_time": "2022-11-30T11:32:51.130Z"
   },
   {
    "duration": 10,
    "start_time": "2022-11-30T11:32:56.494Z"
   },
   {
    "duration": 103,
    "start_time": "2022-11-30T11:35:49.005Z"
   },
   {
    "duration": 4,
    "start_time": "2022-11-30T11:36:29.674Z"
   },
   {
    "duration": 5,
    "start_time": "2022-11-30T11:36:39.949Z"
   },
   {
    "duration": 4,
    "start_time": "2022-11-30T11:37:00.328Z"
   },
   {
    "duration": 6,
    "start_time": "2022-11-30T11:37:22.268Z"
   },
   {
    "duration": 76,
    "start_time": "2022-11-30T11:38:09.962Z"
   },
   {
    "duration": 68,
    "start_time": "2022-11-30T11:38:16.839Z"
   },
   {
    "duration": 4,
    "start_time": "2022-11-30T11:38:27.674Z"
   },
   {
    "duration": 181,
    "start_time": "2022-11-30T11:38:53.490Z"
   },
   {
    "duration": 464,
    "start_time": "2022-11-30T11:40:11.469Z"
   },
   {
    "duration": 290,
    "start_time": "2022-11-30T11:40:24.040Z"
   },
   {
    "duration": 241,
    "start_time": "2022-11-30T11:41:18.157Z"
   },
   {
    "duration": 198,
    "start_time": "2022-11-30T11:41:25.080Z"
   },
   {
    "duration": 212,
    "start_time": "2022-11-30T11:42:08.249Z"
   },
   {
    "duration": 68,
    "start_time": "2022-11-30T11:42:19.615Z"
   },
   {
    "duration": 207,
    "start_time": "2022-11-30T11:42:34.714Z"
   },
   {
    "duration": 213,
    "start_time": "2022-11-30T11:42:45.666Z"
   },
   {
    "duration": 303,
    "start_time": "2022-11-30T11:43:29.435Z"
   },
   {
    "duration": 211,
    "start_time": "2022-11-30T11:43:53.344Z"
   },
   {
    "duration": 255,
    "start_time": "2022-11-30T11:44:06.463Z"
   },
   {
    "duration": 234,
    "start_time": "2022-11-30T11:44:21.388Z"
   },
   {
    "duration": 214,
    "start_time": "2022-11-30T11:44:40.473Z"
   },
   {
    "duration": 321,
    "start_time": "2022-11-30T11:45:11.903Z"
   },
   {
    "duration": 230,
    "start_time": "2022-11-30T11:45:21.371Z"
   },
   {
    "duration": 522,
    "start_time": "2022-11-30T11:45:43.787Z"
   },
   {
    "duration": 526,
    "start_time": "2022-11-30T11:45:55.942Z"
   },
   {
    "duration": 659,
    "start_time": "2022-11-30T11:46:27.154Z"
   },
   {
    "duration": 494,
    "start_time": "2022-11-30T11:46:35.703Z"
   },
   {
    "duration": 507,
    "start_time": "2022-11-30T11:46:43.272Z"
   },
   {
    "duration": 524,
    "start_time": "2022-11-30T11:46:55.521Z"
   },
   {
    "duration": 593,
    "start_time": "2022-11-30T11:47:04.094Z"
   },
   {
    "duration": 504,
    "start_time": "2022-11-30T11:47:30.851Z"
   },
   {
    "duration": 498,
    "start_time": "2022-11-30T11:48:11.282Z"
   },
   {
    "duration": 615,
    "start_time": "2022-11-30T11:48:24.654Z"
   },
   {
    "duration": 507,
    "start_time": "2022-11-30T11:48:51.942Z"
   },
   {
    "duration": 549,
    "start_time": "2022-11-30T11:48:59.862Z"
   },
   {
    "duration": 518,
    "start_time": "2022-11-30T11:49:13.586Z"
   },
   {
    "duration": 678,
    "start_time": "2022-11-30T11:49:55.966Z"
   },
   {
    "duration": 565,
    "start_time": "2022-11-30T11:50:05.718Z"
   },
   {
    "duration": 520,
    "start_time": "2022-11-30T11:50:23.519Z"
   },
   {
    "duration": 4,
    "start_time": "2022-11-30T11:50:32.707Z"
   },
   {
    "duration": 151,
    "start_time": "2022-11-30T11:50:33.441Z"
   },
   {
    "duration": 139,
    "start_time": "2022-11-30T11:50:40.615Z"
   },
   {
    "duration": 10,
    "start_time": "2022-11-30T11:50:40.887Z"
   },
   {
    "duration": 5,
    "start_time": "2022-11-30T11:50:47.291Z"
   },
   {
    "duration": 13,
    "start_time": "2022-11-30T11:50:47.501Z"
   },
   {
    "duration": 8,
    "start_time": "2022-11-30T11:50:47.802Z"
   },
   {
    "duration": 172,
    "start_time": "2022-11-30T11:50:53.242Z"
   },
   {
    "duration": 42,
    "start_time": "2022-11-30T11:52:09.845Z"
   },
   {
    "duration": 291,
    "start_time": "2022-11-30T11:52:09.889Z"
   },
   {
    "duration": 275,
    "start_time": "2022-11-30T12:42:36.409Z"
   },
   {
    "duration": 7,
    "start_time": "2022-11-30T12:45:08.518Z"
   },
   {
    "duration": 9,
    "start_time": "2022-11-30T12:46:00.367Z"
   },
   {
    "duration": 300,
    "start_time": "2022-11-30T12:46:07.642Z"
   },
   {
    "duration": 280,
    "start_time": "2022-11-30T12:46:28.065Z"
   },
   {
    "duration": 231,
    "start_time": "2022-11-30T12:46:37.736Z"
   },
   {
    "duration": 258,
    "start_time": "2022-11-30T12:46:45.612Z"
   },
   {
    "duration": 382,
    "start_time": "2022-11-30T12:46:59.985Z"
   },
   {
    "duration": 283,
    "start_time": "2022-11-30T12:47:17.826Z"
   },
   {
    "duration": 303,
    "start_time": "2022-11-30T12:47:23.331Z"
   },
   {
    "duration": 296,
    "start_time": "2022-11-30T12:47:55.980Z"
   },
   {
    "duration": 8,
    "start_time": "2022-11-30T12:48:23.001Z"
   },
   {
    "duration": 9,
    "start_time": "2022-11-30T12:48:36.182Z"
   },
   {
    "duration": 169,
    "start_time": "2022-11-30T12:49:49.248Z"
   },
   {
    "duration": 182,
    "start_time": "2022-11-30T12:49:59.851Z"
   },
   {
    "duration": 178,
    "start_time": "2022-11-30T12:51:30.326Z"
   },
   {
    "duration": 386,
    "start_time": "2022-11-30T12:52:33.744Z"
   },
   {
    "duration": 296,
    "start_time": "2022-11-30T12:52:40.477Z"
   },
   {
    "duration": 9,
    "start_time": "2022-11-30T13:02:38.155Z"
   },
   {
    "duration": 10,
    "start_time": "2022-11-30T13:03:10.030Z"
   },
   {
    "duration": 8,
    "start_time": "2022-11-30T13:03:24.778Z"
   },
   {
    "duration": 26,
    "start_time": "2022-11-30T13:03:41.581Z"
   },
   {
    "duration": 184,
    "start_time": "2022-11-30T13:03:44.626Z"
   },
   {
    "duration": 27,
    "start_time": "2022-11-30T13:03:59.791Z"
   },
   {
    "duration": 172,
    "start_time": "2022-11-30T13:04:02.230Z"
   },
   {
    "duration": 168,
    "start_time": "2022-11-30T13:05:50.605Z"
   },
   {
    "duration": 2,
    "start_time": "2022-11-30T13:09:50.716Z"
   },
   {
    "duration": 5,
    "start_time": "2022-11-30T13:09:58.236Z"
   },
   {
    "duration": 5,
    "start_time": "2022-11-30T13:11:11.752Z"
   },
   {
    "duration": 9,
    "start_time": "2022-11-30T13:11:24.323Z"
   },
   {
    "duration": 4,
    "start_time": "2022-11-30T13:11:50.601Z"
   },
   {
    "duration": 4,
    "start_time": "2022-11-30T13:12:03.925Z"
   },
   {
    "duration": 8,
    "start_time": "2022-11-30T13:12:19.544Z"
   },
   {
    "duration": 146,
    "start_time": "2022-11-30T13:12:26.784Z"
   },
   {
    "duration": 135,
    "start_time": "2022-11-30T13:12:40.476Z"
   },
   {
    "duration": 4,
    "start_time": "2022-11-30T13:15:54.375Z"
   },
   {
    "duration": 130,
    "start_time": "2022-11-30T13:15:55.817Z"
   },
   {
    "duration": 4,
    "start_time": "2022-11-30T13:16:15.542Z"
   },
   {
    "duration": 4,
    "start_time": "2022-11-30T13:16:25.658Z"
   },
   {
    "duration": 127,
    "start_time": "2022-11-30T13:16:26.397Z"
   },
   {
    "duration": 4,
    "start_time": "2022-11-30T13:16:36.841Z"
   },
   {
    "duration": 255,
    "start_time": "2022-11-30T13:16:38.238Z"
   },
   {
    "duration": 4,
    "start_time": "2022-11-30T13:16:51.665Z"
   },
   {
    "duration": 5,
    "start_time": "2022-11-30T13:17:54.230Z"
   },
   {
    "duration": 9,
    "start_time": "2022-11-30T13:17:58.593Z"
   },
   {
    "duration": 3,
    "start_time": "2022-11-30T13:18:12.787Z"
   },
   {
    "duration": 133,
    "start_time": "2022-11-30T13:18:13.451Z"
   },
   {
    "duration": 126,
    "start_time": "2022-11-30T13:18:32.825Z"
   },
   {
    "duration": 126,
    "start_time": "2022-11-30T13:18:39.312Z"
   },
   {
    "duration": 6,
    "start_time": "2022-11-30T13:21:20.902Z"
   },
   {
    "duration": 134,
    "start_time": "2022-11-30T13:21:59.181Z"
   },
   {
    "duration": 129,
    "start_time": "2022-11-30T13:21:59.753Z"
   },
   {
    "duration": 128,
    "start_time": "2022-11-30T13:22:00.798Z"
   },
   {
    "duration": 4,
    "start_time": "2022-11-30T13:24:05.927Z"
   },
   {
    "duration": 125,
    "start_time": "2022-11-30T13:24:20.281Z"
   },
   {
    "duration": 134,
    "start_time": "2022-11-30T13:24:42.819Z"
   },
   {
    "duration": 5,
    "start_time": "2022-11-30T13:26:09.675Z"
   },
   {
    "duration": 132,
    "start_time": "2022-11-30T13:26:22.773Z"
   },
   {
    "duration": 5,
    "start_time": "2022-11-30T13:28:19.000Z"
   },
   {
    "duration": 164,
    "start_time": "2022-11-30T13:28:29.547Z"
   },
   {
    "duration": 4,
    "start_time": "2022-11-30T13:28:34.189Z"
   },
   {
    "duration": 149,
    "start_time": "2022-11-30T13:28:36.217Z"
   },
   {
    "duration": 141,
    "start_time": "2022-11-30T13:28:39.380Z"
   },
   {
    "duration": 5,
    "start_time": "2022-11-30T13:29:26.575Z"
   },
   {
    "duration": 174,
    "start_time": "2022-11-30T13:29:27.416Z"
   },
   {
    "duration": 268,
    "start_time": "2022-11-30T13:29:36.512Z"
   },
   {
    "duration": 5,
    "start_time": "2022-11-30T13:30:05.475Z"
   },
   {
    "duration": 160,
    "start_time": "2022-11-30T13:30:06.161Z"
   },
   {
    "duration": 172,
    "start_time": "2022-11-30T13:30:09.857Z"
   },
   {
    "duration": 173,
    "start_time": "2022-11-30T13:30:28.200Z"
   },
   {
    "duration": 12,
    "start_time": "2022-11-30T13:38:54.606Z"
   },
   {
    "duration": 8,
    "start_time": "2022-11-30T13:39:10.416Z"
   },
   {
    "duration": 18,
    "start_time": "2022-11-30T13:39:16.573Z"
   },
   {
    "duration": 11,
    "start_time": "2022-11-30T13:39:32.884Z"
   },
   {
    "duration": 4,
    "start_time": "2022-11-30T13:39:53.048Z"
   },
   {
    "duration": 32,
    "start_time": "2022-11-30T13:39:56.329Z"
   },
   {
    "duration": 71,
    "start_time": "2022-11-30T13:40:58.109Z"
   },
   {
    "duration": 13,
    "start_time": "2022-11-30T13:41:03.299Z"
   },
   {
    "duration": 11,
    "start_time": "2022-11-30T13:41:25.566Z"
   },
   {
    "duration": 21,
    "start_time": "2022-11-30T13:42:30.936Z"
   },
   {
    "duration": 21,
    "start_time": "2022-11-30T13:42:40.005Z"
   },
   {
    "duration": 21,
    "start_time": "2022-11-30T13:42:53.160Z"
   },
   {
    "duration": 11,
    "start_time": "2022-11-30T13:43:20.119Z"
   },
   {
    "duration": 31,
    "start_time": "2022-11-30T13:43:28.986Z"
   },
   {
    "duration": 31,
    "start_time": "2022-11-30T13:44:24.374Z"
   },
   {
    "duration": 19,
    "start_time": "2022-11-30T13:44:33.303Z"
   },
   {
    "duration": 32,
    "start_time": "2022-11-30T13:44:46.385Z"
   },
   {
    "duration": 24,
    "start_time": "2022-11-30T13:45:03.091Z"
   },
   {
    "duration": 9,
    "start_time": "2022-11-30T13:45:38.224Z"
   },
   {
    "duration": 4,
    "start_time": "2022-11-30T13:46:11.672Z"
   },
   {
    "duration": 152,
    "start_time": "2022-11-30T13:46:31.084Z"
   },
   {
    "duration": 311,
    "start_time": "2022-11-30T13:47:07.982Z"
   },
   {
    "duration": 532,
    "start_time": "2022-11-30T13:47:17.249Z"
   },
   {
    "duration": 10,
    "start_time": "2022-11-30T13:54:59.557Z"
   },
   {
    "duration": 3,
    "start_time": "2022-11-30T13:55:02.795Z"
   },
   {
    "duration": 13,
    "start_time": "2022-11-30T13:55:03.258Z"
   },
   {
    "duration": 11,
    "start_time": "2022-11-30T14:00:57.404Z"
   },
   {
    "duration": 1212,
    "start_time": "2022-11-30T14:01:03.302Z"
   },
   {
    "duration": 108,
    "start_time": "2022-11-30T14:01:04.516Z"
   },
   {
    "duration": 26,
    "start_time": "2022-11-30T14:01:04.626Z"
   },
   {
    "duration": 4,
    "start_time": "2022-11-30T14:01:04.654Z"
   },
   {
    "duration": 29,
    "start_time": "2022-11-30T14:01:04.660Z"
   },
   {
    "duration": 60,
    "start_time": "2022-11-30T14:01:04.691Z"
   },
   {
    "duration": 22,
    "start_time": "2022-11-30T14:01:04.752Z"
   },
   {
    "duration": 29,
    "start_time": "2022-11-30T14:01:04.776Z"
   },
   {
    "duration": 8,
    "start_time": "2022-11-30T14:01:04.807Z"
   },
   {
    "duration": 187,
    "start_time": "2022-11-30T14:01:04.818Z"
   },
   {
    "duration": 11,
    "start_time": "2022-11-30T14:01:05.007Z"
   },
   {
    "duration": 22,
    "start_time": "2022-11-30T14:01:05.020Z"
   },
   {
    "duration": 21,
    "start_time": "2022-11-30T14:01:05.045Z"
   },
   {
    "duration": 16,
    "start_time": "2022-11-30T14:01:05.070Z"
   },
   {
    "duration": 10,
    "start_time": "2022-11-30T14:01:05.088Z"
   },
   {
    "duration": 7,
    "start_time": "2022-11-30T14:01:05.100Z"
   },
   {
    "duration": 13,
    "start_time": "2022-11-30T14:01:05.109Z"
   },
   {
    "duration": 18,
    "start_time": "2022-11-30T14:01:05.124Z"
   },
   {
    "duration": 23,
    "start_time": "2022-11-30T14:01:05.144Z"
   },
   {
    "duration": 19,
    "start_time": "2022-11-30T14:01:05.169Z"
   },
   {
    "duration": 226,
    "start_time": "2022-11-30T14:01:05.190Z"
   },
   {
    "duration": 299,
    "start_time": "2022-11-30T14:01:05.418Z"
   },
   {
    "duration": 3,
    "start_time": "2022-11-30T14:01:05.719Z"
   },
   {
    "duration": 371,
    "start_time": "2022-11-30T14:01:05.723Z"
   },
   {
    "duration": 6,
    "start_time": "2022-11-30T14:01:06.095Z"
   },
   {
    "duration": 363,
    "start_time": "2022-11-30T14:01:06.103Z"
   },
   {
    "duration": 385,
    "start_time": "2022-11-30T14:01:06.468Z"
   },
   {
    "duration": 226,
    "start_time": "2022-11-30T14:01:06.857Z"
   },
   {
    "duration": 674,
    "start_time": "2022-11-30T14:01:07.085Z"
   },
   {
    "duration": 4,
    "start_time": "2022-11-30T14:01:07.761Z"
   },
   {
    "duration": 174,
    "start_time": "2022-11-30T14:01:07.766Z"
   },
   {
    "duration": 171,
    "start_time": "2022-11-30T14:01:07.942Z"
   },
   {
    "duration": 10,
    "start_time": "2022-11-30T14:01:08.115Z"
   },
   {
    "duration": 9,
    "start_time": "2022-11-30T14:01:08.127Z"
   },
   {
    "duration": 16,
    "start_time": "2022-11-30T14:01:08.137Z"
   },
   {
    "duration": 17,
    "start_time": "2022-11-30T14:01:08.155Z"
   },
   {
    "duration": 203,
    "start_time": "2022-11-30T14:01:08.174Z"
   },
   {
    "duration": 350,
    "start_time": "2022-11-30T14:01:08.378Z"
   },
   {
    "duration": 5,
    "start_time": "2022-11-30T14:01:08.729Z"
   },
   {
    "duration": 247,
    "start_time": "2022-11-30T14:01:08.735Z"
   },
   {
    "duration": 160,
    "start_time": "2022-11-30T14:01:08.984Z"
   },
   {
    "duration": 169,
    "start_time": "2022-11-30T14:01:09.146Z"
   },
   {
    "duration": 4,
    "start_time": "2022-11-30T14:01:09.318Z"
   },
   {
    "duration": 153,
    "start_time": "2022-11-30T14:01:09.324Z"
   },
   {
    "duration": 166,
    "start_time": "2022-11-30T14:01:09.478Z"
   },
   {
    "duration": 142,
    "start_time": "2022-11-30T14:01:09.646Z"
   },
   {
    "duration": 148,
    "start_time": "2022-11-30T14:01:09.790Z"
   },
   {
    "duration": 4,
    "start_time": "2022-11-30T14:01:09.940Z"
   },
   {
    "duration": 190,
    "start_time": "2022-11-30T14:01:09.946Z"
   },
   {
    "duration": 199,
    "start_time": "2022-11-30T14:01:10.138Z"
   },
   {
    "duration": 167,
    "start_time": "2022-11-30T14:01:10.339Z"
   },
   {
    "duration": 7,
    "start_time": "2022-11-30T14:01:10.508Z"
   },
   {
    "duration": 20,
    "start_time": "2022-11-30T14:01:10.516Z"
   },
   {
    "duration": 569,
    "start_time": "2022-11-30T14:01:10.537Z"
   },
   {
    "duration": 10,
    "start_time": "2022-11-30T14:01:11.108Z"
   },
   {
    "duration": 40,
    "start_time": "2022-11-30T14:01:11.119Z"
   },
   {
    "duration": 22,
    "start_time": "2022-11-30T14:01:11.160Z"
   },
   {
    "duration": 44,
    "start_time": "2022-11-30T14:01:11.183Z"
   },
   {
    "duration": 29,
    "start_time": "2022-11-30T14:01:11.228Z"
   },
   {
    "duration": 6,
    "start_time": "2022-11-30T14:01:36.543Z"
   },
   {
    "duration": 10,
    "start_time": "2022-11-30T14:01:38.775Z"
   },
   {
    "duration": 10,
    "start_time": "2022-11-30T14:01:40.790Z"
   },
   {
    "duration": 28,
    "start_time": "2022-11-30T14:02:16.663Z"
   },
   {
    "duration": 25,
    "start_time": "2022-11-30T14:02:34.844Z"
   },
   {
    "duration": 7,
    "start_time": "2022-11-30T14:02:45.888Z"
   },
   {
    "duration": 8,
    "start_time": "2022-11-30T14:02:48.803Z"
   },
   {
    "duration": 8,
    "start_time": "2022-11-30T14:02:55.019Z"
   },
   {
    "duration": 5,
    "start_time": "2022-11-30T14:03:45.008Z"
   },
   {
    "duration": 6,
    "start_time": "2022-11-30T14:03:57.439Z"
   },
   {
    "duration": 4,
    "start_time": "2022-11-30T14:36:54.150Z"
   },
   {
    "duration": 10,
    "start_time": "2022-11-30T14:44:25.365Z"
   },
   {
    "duration": 6,
    "start_time": "2022-11-30T14:44:42.489Z"
   },
   {
    "duration": 7,
    "start_time": "2022-11-30T14:59:12.471Z"
   },
   {
    "duration": 7,
    "start_time": "2022-11-30T14:59:31.801Z"
   },
   {
    "duration": 9,
    "start_time": "2022-11-30T14:59:43.761Z"
   },
   {
    "duration": 7,
    "start_time": "2022-11-30T15:01:09.896Z"
   },
   {
    "duration": 274,
    "start_time": "2022-11-30T15:37:04.879Z"
   },
   {
    "duration": 1296,
    "start_time": "2022-11-30T15:37:29.904Z"
   },
   {
    "duration": 231,
    "start_time": "2022-11-30T15:37:48.596Z"
   },
   {
    "duration": 733,
    "start_time": "2022-11-30T15:38:32.107Z"
   },
   {
    "duration": 140,
    "start_time": "2022-11-30T15:39:02.089Z"
   },
   {
    "duration": 148,
    "start_time": "2022-11-30T15:39:31.403Z"
   },
   {
    "duration": 147,
    "start_time": "2022-11-30T15:40:14.472Z"
   },
   {
    "duration": 124,
    "start_time": "2022-11-30T15:40:19.732Z"
   },
   {
    "duration": 122,
    "start_time": "2022-11-30T15:40:25.943Z"
   },
   {
    "duration": 165,
    "start_time": "2022-11-30T15:40:56.348Z"
   },
   {
    "duration": 152,
    "start_time": "2022-11-30T15:41:26.899Z"
   },
   {
    "duration": 244,
    "start_time": "2022-11-30T15:42:27.350Z"
   },
   {
    "duration": 166,
    "start_time": "2022-11-30T15:43:20.673Z"
   },
   {
    "duration": 296,
    "start_time": "2022-11-30T15:59:43.334Z"
   },
   {
    "duration": 248,
    "start_time": "2022-11-30T16:00:23.461Z"
   },
   {
    "duration": 7,
    "start_time": "2022-11-30T16:03:23.664Z"
   },
   {
    "duration": 8,
    "start_time": "2022-11-30T16:03:49.063Z"
   },
   {
    "duration": 7,
    "start_time": "2022-11-30T16:03:55.881Z"
   },
   {
    "duration": 9,
    "start_time": "2022-11-30T16:04:09.306Z"
   },
   {
    "duration": 1198,
    "start_time": "2022-11-30T16:17:49.119Z"
   },
   {
    "duration": 129,
    "start_time": "2022-11-30T16:17:50.318Z"
   },
   {
    "duration": 20,
    "start_time": "2022-11-30T16:17:50.449Z"
   },
   {
    "duration": 5,
    "start_time": "2022-11-30T16:17:50.470Z"
   },
   {
    "duration": 35,
    "start_time": "2022-11-30T16:17:50.478Z"
   },
   {
    "duration": 55,
    "start_time": "2022-11-30T16:17:50.515Z"
   },
   {
    "duration": 41,
    "start_time": "2022-11-30T16:17:50.571Z"
   },
   {
    "duration": 6,
    "start_time": "2022-11-30T16:17:50.614Z"
   },
   {
    "duration": 7,
    "start_time": "2022-11-30T16:17:50.622Z"
   },
   {
    "duration": 184,
    "start_time": "2022-11-30T16:17:50.631Z"
   },
   {
    "duration": 10,
    "start_time": "2022-11-30T16:17:50.818Z"
   },
   {
    "duration": 9,
    "start_time": "2022-11-30T16:17:50.830Z"
   },
   {
    "duration": 8,
    "start_time": "2022-11-30T16:17:50.840Z"
   },
   {
    "duration": 7,
    "start_time": "2022-11-30T16:17:50.851Z"
   },
   {
    "duration": 21,
    "start_time": "2022-11-30T16:17:50.859Z"
   },
   {
    "duration": 10,
    "start_time": "2022-11-30T16:17:50.882Z"
   },
   {
    "duration": 13,
    "start_time": "2022-11-30T16:17:50.905Z"
   },
   {
    "duration": 4,
    "start_time": "2022-11-30T16:17:50.919Z"
   },
   {
    "duration": 16,
    "start_time": "2022-11-30T16:17:50.924Z"
   },
   {
    "duration": 16,
    "start_time": "2022-11-30T16:17:50.941Z"
   },
   {
    "duration": 227,
    "start_time": "2022-11-30T16:17:50.959Z"
   },
   {
    "duration": 276,
    "start_time": "2022-11-30T16:17:51.188Z"
   },
   {
    "duration": 2,
    "start_time": "2022-11-30T16:17:51.466Z"
   },
   {
    "duration": 320,
    "start_time": "2022-11-30T16:17:51.469Z"
   },
   {
    "duration": 4,
    "start_time": "2022-11-30T16:17:51.791Z"
   },
   {
    "duration": 281,
    "start_time": "2022-11-30T16:17:51.796Z"
   },
   {
    "duration": 374,
    "start_time": "2022-11-30T16:17:52.078Z"
   },
   {
    "duration": 189,
    "start_time": "2022-11-30T16:17:52.454Z"
   },
   {
    "duration": 577,
    "start_time": "2022-11-30T16:17:52.645Z"
   },
   {
    "duration": 5,
    "start_time": "2022-11-30T16:17:53.224Z"
   },
   {
    "duration": 159,
    "start_time": "2022-11-30T16:17:53.230Z"
   },
   {
    "duration": 154,
    "start_time": "2022-11-30T16:17:53.391Z"
   },
   {
    "duration": 11,
    "start_time": "2022-11-30T16:17:53.546Z"
   },
   {
    "duration": 16,
    "start_time": "2022-11-30T16:17:53.559Z"
   },
   {
    "duration": 11,
    "start_time": "2022-11-30T16:17:53.577Z"
   },
   {
    "duration": 20,
    "start_time": "2022-11-30T16:17:53.590Z"
   },
   {
    "duration": 169,
    "start_time": "2022-11-30T16:17:53.612Z"
   },
   {
    "duration": 304,
    "start_time": "2022-11-30T16:17:53.783Z"
   },
   {
    "duration": 4,
    "start_time": "2022-11-30T16:17:54.089Z"
   },
   {
    "duration": 225,
    "start_time": "2022-11-30T16:17:54.095Z"
   },
   {
    "duration": 136,
    "start_time": "2022-11-30T16:17:54.325Z"
   },
   {
    "duration": 143,
    "start_time": "2022-11-30T16:17:54.463Z"
   },
   {
    "duration": 5,
    "start_time": "2022-11-30T16:17:54.607Z"
   },
   {
    "duration": 145,
    "start_time": "2022-11-30T16:17:54.613Z"
   },
   {
    "duration": 140,
    "start_time": "2022-11-30T16:17:54.759Z"
   },
   {
    "duration": 149,
    "start_time": "2022-11-30T16:17:54.900Z"
   },
   {
    "duration": 143,
    "start_time": "2022-11-30T16:17:55.051Z"
   },
   {
    "duration": 8,
    "start_time": "2022-11-30T16:17:55.196Z"
   },
   {
    "duration": 141,
    "start_time": "2022-11-30T16:17:55.206Z"
   },
   {
    "duration": 157,
    "start_time": "2022-11-30T16:17:55.349Z"
   },
   {
    "duration": 155,
    "start_time": "2022-11-30T16:17:55.508Z"
   },
   {
    "duration": 6,
    "start_time": "2022-11-30T16:17:55.665Z"
   },
   {
    "duration": 6,
    "start_time": "2022-11-30T16:17:55.673Z"
   },
   {
    "duration": 542,
    "start_time": "2022-11-30T16:17:55.681Z"
   },
   {
    "duration": 7,
    "start_time": "2022-11-30T16:17:56.225Z"
   },
   {
    "duration": 12,
    "start_time": "2022-11-30T16:17:56.233Z"
   },
   {
    "duration": 6,
    "start_time": "2022-11-30T16:17:56.247Z"
   },
   {
    "duration": 8,
    "start_time": "2022-11-30T16:17:56.255Z"
   },
   {
    "duration": 179,
    "start_time": "2022-11-30T16:17:56.264Z"
   },
   {
    "duration": 8,
    "start_time": "2022-11-30T16:17:56.444Z"
   },
   {
    "duration": 170,
    "start_time": "2022-11-30T16:17:56.453Z"
   },
   {
    "duration": 1290,
    "start_time": "2022-11-30T17:48:52.595Z"
   },
   {
    "duration": 277,
    "start_time": "2022-11-30T17:48:53.886Z"
   },
   {
    "duration": 26,
    "start_time": "2022-11-30T17:48:54.165Z"
   },
   {
    "duration": 4,
    "start_time": "2022-11-30T17:48:54.193Z"
   },
   {
    "duration": 20,
    "start_time": "2022-11-30T17:48:54.198Z"
   },
   {
    "duration": 63,
    "start_time": "2022-11-30T17:48:54.219Z"
   },
   {
    "duration": 22,
    "start_time": "2022-11-30T17:48:54.283Z"
   },
   {
    "duration": 4,
    "start_time": "2022-11-30T17:48:54.307Z"
   },
   {
    "duration": 5,
    "start_time": "2022-11-30T17:48:54.312Z"
   },
   {
    "duration": 186,
    "start_time": "2022-11-30T17:48:54.319Z"
   },
   {
    "duration": 10,
    "start_time": "2022-11-30T17:48:54.506Z"
   },
   {
    "duration": 8,
    "start_time": "2022-11-30T17:48:54.518Z"
   },
   {
    "duration": 9,
    "start_time": "2022-11-30T17:48:54.528Z"
   },
   {
    "duration": 4,
    "start_time": "2022-11-30T17:48:54.538Z"
   },
   {
    "duration": 35,
    "start_time": "2022-11-30T17:48:54.544Z"
   },
   {
    "duration": 7,
    "start_time": "2022-11-30T17:48:54.580Z"
   },
   {
    "duration": 14,
    "start_time": "2022-11-30T17:48:54.589Z"
   },
   {
    "duration": 4,
    "start_time": "2022-11-30T17:48:54.605Z"
   },
   {
    "duration": 4,
    "start_time": "2022-11-30T17:48:54.610Z"
   },
   {
    "duration": 14,
    "start_time": "2022-11-30T17:48:54.616Z"
   },
   {
    "duration": 227,
    "start_time": "2022-11-30T17:48:54.631Z"
   },
   {
    "duration": 284,
    "start_time": "2022-11-30T17:48:54.860Z"
   },
   {
    "duration": 2,
    "start_time": "2022-11-30T17:48:55.146Z"
   },
   {
    "duration": 296,
    "start_time": "2022-11-30T17:48:55.149Z"
   },
   {
    "duration": 5,
    "start_time": "2022-11-30T17:48:55.447Z"
   },
   {
    "duration": 274,
    "start_time": "2022-11-30T17:48:55.453Z"
   },
   {
    "duration": 342,
    "start_time": "2022-11-30T17:48:55.729Z"
   },
   {
    "duration": 175,
    "start_time": "2022-11-30T17:48:56.074Z"
   },
   {
    "duration": 559,
    "start_time": "2022-11-30T17:48:56.251Z"
   },
   {
    "duration": 3,
    "start_time": "2022-11-30T17:48:56.812Z"
   },
   {
    "duration": 150,
    "start_time": "2022-11-30T17:48:56.817Z"
   },
   {
    "duration": 146,
    "start_time": "2022-11-30T17:48:56.977Z"
   },
   {
    "duration": 10,
    "start_time": "2022-11-30T17:48:57.124Z"
   },
   {
    "duration": 7,
    "start_time": "2022-11-30T17:48:57.135Z"
   },
   {
    "duration": 12,
    "start_time": "2022-11-30T17:48:57.143Z"
   },
   {
    "duration": 26,
    "start_time": "2022-11-30T17:48:57.156Z"
   },
   {
    "duration": 148,
    "start_time": "2022-11-30T17:48:57.184Z"
   },
   {
    "duration": 299,
    "start_time": "2022-11-30T17:48:57.334Z"
   },
   {
    "duration": 5,
    "start_time": "2022-11-30T17:48:57.635Z"
   },
   {
    "duration": 226,
    "start_time": "2022-11-30T17:48:57.641Z"
   },
   {
    "duration": 135,
    "start_time": "2022-11-30T17:48:57.868Z"
   },
   {
    "duration": 134,
    "start_time": "2022-11-30T17:48:58.005Z"
   },
   {
    "duration": 4,
    "start_time": "2022-11-30T17:48:58.140Z"
   },
   {
    "duration": 143,
    "start_time": "2022-11-30T17:48:58.146Z"
   },
   {
    "duration": 139,
    "start_time": "2022-11-30T17:48:58.290Z"
   },
   {
    "duration": 147,
    "start_time": "2022-11-30T17:48:58.431Z"
   },
   {
    "duration": 144,
    "start_time": "2022-11-30T17:48:58.579Z"
   },
   {
    "duration": 4,
    "start_time": "2022-11-30T17:48:58.724Z"
   },
   {
    "duration": 143,
    "start_time": "2022-11-30T17:48:58.729Z"
   },
   {
    "duration": 149,
    "start_time": "2022-11-30T17:48:58.873Z"
   },
   {
    "duration": 180,
    "start_time": "2022-11-30T17:48:59.023Z"
   },
   {
    "duration": 8,
    "start_time": "2022-11-30T17:48:59.204Z"
   },
   {
    "duration": 6,
    "start_time": "2022-11-30T17:48:59.213Z"
   },
   {
    "duration": 522,
    "start_time": "2022-11-30T17:48:59.220Z"
   },
   {
    "duration": 8,
    "start_time": "2022-11-30T17:48:59.743Z"
   },
   {
    "duration": 10,
    "start_time": "2022-11-30T17:48:59.752Z"
   },
   {
    "duration": 15,
    "start_time": "2022-11-30T17:48:59.763Z"
   },
   {
    "duration": 7,
    "start_time": "2022-11-30T17:48:59.779Z"
   },
   {
    "duration": 166,
    "start_time": "2022-11-30T17:48:59.787Z"
   },
   {
    "duration": 7,
    "start_time": "2022-11-30T17:48:59.955Z"
   },
   {
    "duration": 161,
    "start_time": "2022-11-30T17:48:59.963Z"
   },
   {
    "duration": 8,
    "start_time": "2022-11-30T17:55:09.059Z"
   },
   {
    "duration": 45,
    "start_time": "2022-12-01T04:21:22.485Z"
   },
   {
    "duration": 1283,
    "start_time": "2022-12-01T04:21:29.414Z"
   },
   {
    "duration": 142,
    "start_time": "2022-12-01T04:21:30.699Z"
   },
   {
    "duration": 17,
    "start_time": "2022-12-01T04:21:30.843Z"
   },
   {
    "duration": 9,
    "start_time": "2022-12-01T04:21:30.861Z"
   },
   {
    "duration": 55,
    "start_time": "2022-12-01T04:21:30.871Z"
   },
   {
    "duration": 67,
    "start_time": "2022-12-01T04:21:30.927Z"
   },
   {
    "duration": 20,
    "start_time": "2022-12-01T04:21:30.995Z"
   },
   {
    "duration": 23,
    "start_time": "2022-12-01T04:21:31.016Z"
   },
   {
    "duration": 27,
    "start_time": "2022-12-01T04:21:31.040Z"
   },
   {
    "duration": 182,
    "start_time": "2022-12-01T04:21:31.069Z"
   },
   {
    "duration": 10,
    "start_time": "2022-12-01T04:21:31.252Z"
   },
   {
    "duration": 17,
    "start_time": "2022-12-01T04:21:31.263Z"
   },
   {
    "duration": 18,
    "start_time": "2022-12-01T04:21:31.282Z"
   },
   {
    "duration": 27,
    "start_time": "2022-12-01T04:21:31.301Z"
   },
   {
    "duration": 23,
    "start_time": "2022-12-01T04:21:31.329Z"
   },
   {
    "duration": 15,
    "start_time": "2022-12-01T04:21:31.353Z"
   },
   {
    "duration": 32,
    "start_time": "2022-12-01T04:21:31.369Z"
   },
   {
    "duration": 23,
    "start_time": "2022-12-01T04:21:31.403Z"
   },
   {
    "duration": 15,
    "start_time": "2022-12-01T04:21:31.427Z"
   },
   {
    "duration": 30,
    "start_time": "2022-12-01T04:21:31.444Z"
   },
   {
    "duration": 223,
    "start_time": "2022-12-01T04:21:31.476Z"
   },
   {
    "duration": 278,
    "start_time": "2022-12-01T04:21:31.701Z"
   },
   {
    "duration": 3,
    "start_time": "2022-12-01T04:21:31.981Z"
   },
   {
    "duration": 325,
    "start_time": "2022-12-01T04:21:31.985Z"
   },
   {
    "duration": 6,
    "start_time": "2022-12-01T04:21:32.312Z"
   },
   {
    "duration": 256,
    "start_time": "2022-12-01T04:21:32.319Z"
   },
   {
    "duration": 324,
    "start_time": "2022-12-01T04:21:32.577Z"
   },
   {
    "duration": 166,
    "start_time": "2022-12-01T04:21:32.904Z"
   },
   {
    "duration": 547,
    "start_time": "2022-12-01T04:21:33.071Z"
   },
   {
    "duration": 5,
    "start_time": "2022-12-01T04:21:33.620Z"
   },
   {
    "duration": 298,
    "start_time": "2022-12-01T04:21:33.626Z"
   },
   {
    "duration": 293,
    "start_time": "2022-12-01T04:21:33.926Z"
   },
   {
    "duration": 9,
    "start_time": "2022-12-01T04:21:34.220Z"
   },
   {
    "duration": 8,
    "start_time": "2022-12-01T04:21:34.230Z"
   },
   {
    "duration": 63,
    "start_time": "2022-12-01T04:21:34.239Z"
   },
   {
    "duration": 8,
    "start_time": "2022-12-01T04:21:34.304Z"
   },
   {
    "duration": 332,
    "start_time": "2022-12-01T04:21:34.313Z"
   },
   {
    "duration": 600,
    "start_time": "2022-12-01T04:21:34.698Z"
   },
   {
    "duration": 5,
    "start_time": "2022-12-01T04:21:35.299Z"
   },
   {
    "duration": 209,
    "start_time": "2022-12-01T04:21:35.306Z"
   },
   {
    "duration": 132,
    "start_time": "2022-12-01T04:21:35.516Z"
   },
   {
    "duration": 131,
    "start_time": "2022-12-01T04:21:35.649Z"
   },
   {
    "duration": 4,
    "start_time": "2022-12-01T04:21:35.781Z"
   },
   {
    "duration": 135,
    "start_time": "2022-12-01T04:21:35.786Z"
   },
   {
    "duration": 129,
    "start_time": "2022-12-01T04:21:35.922Z"
   },
   {
    "duration": 135,
    "start_time": "2022-12-01T04:21:36.053Z"
   },
   {
    "duration": 169,
    "start_time": "2022-12-01T04:21:36.190Z"
   },
   {
    "duration": 3,
    "start_time": "2022-12-01T04:21:36.360Z"
   },
   {
    "duration": 138,
    "start_time": "2022-12-01T04:21:36.365Z"
   },
   {
    "duration": 207,
    "start_time": "2022-12-01T04:21:36.504Z"
   },
   {
    "duration": 214,
    "start_time": "2022-12-01T04:21:36.713Z"
   },
   {
    "duration": 6,
    "start_time": "2022-12-01T04:21:36.928Z"
   },
   {
    "duration": 5,
    "start_time": "2022-12-01T04:21:36.936Z"
   },
   {
    "duration": 493,
    "start_time": "2022-12-01T04:21:36.942Z"
   },
   {
    "duration": 7,
    "start_time": "2022-12-01T04:21:37.437Z"
   },
   {
    "duration": 9,
    "start_time": "2022-12-01T04:21:37.445Z"
   },
   {
    "duration": 8,
    "start_time": "2022-12-01T04:21:37.455Z"
   },
   {
    "duration": 8,
    "start_time": "2022-12-01T04:21:37.464Z"
   },
   {
    "duration": 166,
    "start_time": "2022-12-01T04:21:37.473Z"
   },
   {
    "duration": 8,
    "start_time": "2022-12-01T04:21:37.641Z"
   },
   {
    "duration": 154,
    "start_time": "2022-12-01T04:21:37.650Z"
   },
   {
    "duration": 146,
    "start_time": "2022-12-01T05:03:34.752Z"
   },
   {
    "duration": 4,
    "start_time": "2022-12-01T05:03:55.670Z"
   },
   {
    "duration": 16,
    "start_time": "2022-12-01T05:04:41.563Z"
   },
   {
    "duration": 9,
    "start_time": "2022-12-01T05:05:12.037Z"
   },
   {
    "duration": 2,
    "start_time": "2022-12-01T05:05:33.246Z"
   },
   {
    "duration": 4,
    "start_time": "2022-12-01T05:05:33.878Z"
   },
   {
    "duration": 15,
    "start_time": "2022-12-01T05:05:34.435Z"
   },
   {
    "duration": 7,
    "start_time": "2022-12-01T05:07:18.353Z"
   },
   {
    "duration": 4,
    "start_time": "2022-12-01T05:09:11.640Z"
   }
  ],
  "kernelspec": {
   "display_name": "Python 3 (ipykernel)",
   "language": "python",
   "name": "python3"
  },
  "language_info": {
   "codemirror_mode": {
    "name": "ipython",
    "version": 3
   },
   "file_extension": ".py",
   "mimetype": "text/x-python",
   "name": "python",
   "nbconvert_exporter": "python",
   "pygments_lexer": "ipython3",
   "version": "3.9.12"
  },
  "toc": {
   "base_numbering": 1,
   "nav_menu": {
    "height": "136px",
    "width": "160px"
   },
   "number_sections": true,
   "sideBar": true,
   "skip_h1_title": true,
   "title_cell": "Table of Contents",
   "title_sidebar": "Contents",
   "toc_cell": false,
   "toc_position": {
    "height": "calc(100% - 180px)",
    "left": "10px",
    "top": "150px",
    "width": "320px"
   },
   "toc_section_display": true,
   "toc_window_display": true
  }
 },
 "nbformat": 4,
 "nbformat_minor": 5
}
