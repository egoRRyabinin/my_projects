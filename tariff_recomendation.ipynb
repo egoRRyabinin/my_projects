{
 "cells": [
  {
   "cell_type": "markdown",
   "metadata": {},
   "source": [
    "# Рекомендация тарифов"
   ]
  },
  {
   "cell_type": "markdown",
   "metadata": {},
   "source": [
    "# Введение"
   ]
  },
  {
   "cell_type": "markdown",
   "metadata": {},
   "source": [
    "### Описание проекта \n",
    "Проект нацелен на то, чтобы разработать систему, способную проанализировать поведение клиентов и предложить пользователям новый тариф.\n",
    "### Цель проекта\n",
    "Построить модель для задачи классификации, которая сможет определить подходящий тариф с точностью не менее 0.75.\n",
    "### Описание данных\n",
    "**В нашем распоряжении данные о поведении клиентов, которые уже перешли на тарифы «Ультра» и «Смарт».**  \n",
    "\n",
    "В таблице представлены следующие данные:\n",
    "- сalls — количество звонков,\n",
    "- minutes — суммарная длительность звонков в минутах,\n",
    "- messages — количество sms-сообщений,\n",
    "- mb_used — израсходованный интернет-трафик в Мб,\n",
    "- is_ultra — каким тарифом пользовался в течение месяца («Ультра» — 1, «Смарт» — 0).\n",
    "\n",
    "### План работы\n",
    "1. Изучение общей информации о данных\n",
    "2. Разбивка данных на выборки\n",
    "  - Создание выборки для тренировки\n",
    "  - Создание валидационной выборки\n",
    "  - Создание тестовой выборки\n",
    "3. Исследование моделей\n",
    "  - Модель дерева принятия решений\n",
    "  - Модель рандомного леса\n",
    "  - Модель логистической регрессии\n",
    "4. Проверка моделей на тестовой выборке\n",
    "5. Проверка моделей на адекватность\n",
    "6. Общий вывод"
   ]
  },
  {
   "cell_type": "markdown",
   "metadata": {},
   "source": [
    "## Откройте и изучите файл"
   ]
  },
  {
   "cell_type": "markdown",
   "metadata": {},
   "source": [
    "Импортируем необходимые библиотеки."
   ]
  },
  {
   "cell_type": "code",
   "execution_count": 1,
   "metadata": {},
   "outputs": [],
   "source": [
    "import pandas as pd\n",
    "import numpy as np\n",
    "import matplotlib.pyplot as plt\n",
    "from sklearn.tree import DecisionTreeClassifier\n",
    "from sklearn.ensemble import RandomForestClassifier\n",
    "from sklearn.linear_model import LogisticRegression\n",
    "from sklearn.dummy import DummyClassifier\n",
    "from sklearn.model_selection import train_test_split\n",
    "from sklearn.metrics import accuracy_score\n",
    "from sklearn.model_selection import GridSearchCV\n",
    "from sklearn.model_selection import RandomizedSearchCV\n",
    "from sklearn.experimental import enable_halving_search_cv\n",
    "from sklearn.model_selection import HalvingGridSearchCV\n",
    "from sklearn.model_selection import HalvingRandomSearchCV"
   ]
  },
  {
   "cell_type": "markdown",
   "metadata": {},
   "source": [
    "Запишем датасет в переменную."
   ]
  },
  {
   "cell_type": "code",
   "execution_count": 2,
   "metadata": {},
   "outputs": [],
   "source": [
    "try:\n",
    "    df = pd.read_csv('/datasets/users_behavior.csv')\n",
    "except:\n",
    "    df = pd.read_csv(r'D:\\projects_data\\users_behavior.csv')"
   ]
  },
  {
   "cell_type": "markdown",
   "metadata": {},
   "source": [
    "Выведем общую информацию о таблице."
   ]
  },
  {
   "cell_type": "code",
   "execution_count": 3,
   "metadata": {},
   "outputs": [
    {
     "name": "stdout",
     "output_type": "stream",
     "text": [
      "<class 'pandas.core.frame.DataFrame'>\n",
      "RangeIndex: 3214 entries, 0 to 3213\n",
      "Data columns (total 5 columns):\n",
      " #   Column    Non-Null Count  Dtype  \n",
      "---  ------    --------------  -----  \n",
      " 0   calls     3214 non-null   float64\n",
      " 1   minutes   3214 non-null   float64\n",
      " 2   messages  3214 non-null   float64\n",
      " 3   mb_used   3214 non-null   float64\n",
      " 4   is_ultra  3214 non-null   int64  \n",
      "dtypes: float64(4), int64(1)\n",
      "memory usage: 125.7 KB\n"
     ]
    }
   ],
   "source": [
    "df.info()"
   ]
  },
  {
   "cell_type": "code",
   "execution_count": 4,
   "metadata": {},
   "outputs": [
    {
     "data": {
      "text/plain": [
       "0    2229\n",
       "1     985\n",
       "Name: is_ultra, dtype: int64"
      ]
     },
     "execution_count": 4,
     "metadata": {},
     "output_type": "execute_result"
    }
   ],
   "source": [
    "# Код ревьюера\n",
    "df['is_ultra'].value_counts()"
   ]
  },
  {
   "cell_type": "markdown",
   "metadata": {},
   "source": [
    "Посмотрим, какая часть пользователей пользуется тарифом «Ультра»."
   ]
  },
  {
   "cell_type": "code",
   "execution_count": 5,
   "metadata": {},
   "outputs": [
    {
     "name": "stdout",
     "output_type": "stream",
     "text": [
      "Доля пользователей с тарифом «Ультра» составляет: 30.65 %\n"
     ]
    }
   ],
   "source": [
    "print('Доля пользователей с тарифом «Ультра» составляет:', round(df['is_ultra'].mean()*100, 2),'%')"
   ]
  },
  {
   "cell_type": "markdown",
   "metadata": {},
   "source": [
    "## Деление датасета на выборки"
   ]
  },
  {
   "cell_type": "markdown",
   "metadata": {},
   "source": [
    "Подготовим признаки и целевые значения."
   ]
  },
  {
   "cell_type": "code",
   "execution_count": 6,
   "metadata": {},
   "outputs": [],
   "source": [
    "features = df.drop('is_ultra', axis=1)\n",
    "target = df['is_ultra']"
   ]
  },
  {
   "cell_type": "markdown",
   "metadata": {},
   "source": [
    "Разделим датасет на выборки в пропорциях 50%, 25% и 25%, где 50% займет выборка для обучения моделей (`train`), а по 25% будут иметь валидационная (`valid`) и тестовая (`test`) выборки."
   ]
  },
  {
   "cell_type": "code",
   "execution_count": 7,
   "metadata": {},
   "outputs": [],
   "source": [
    "features_train, f_test, target_train, t_test = \\\n",
    "train_test_split(features, target, test_size=0.5, random_state=1)\n",
    "\n",
    "features_valid, features_test, target_valid, target_test = \\\n",
    "train_test_split(f_test, t_test, test_size=0.5, random_state=1)"
   ]
  },
  {
   "cell_type": "code",
   "execution_count": 8,
   "metadata": {},
   "outputs": [
    {
     "data": {
      "text/plain": [
       "(1607, 4)"
      ]
     },
     "metadata": {},
     "output_type": "display_data"
    },
    {
     "data": {
      "text/plain": [
       "(803, 4)"
      ]
     },
     "metadata": {},
     "output_type": "display_data"
    },
    {
     "data": {
      "text/plain": [
       "(804, 4)"
      ]
     },
     "metadata": {},
     "output_type": "display_data"
    }
   ],
   "source": [
    "# Код ревьюера\n",
    "display(features_train.shape)\n",
    "display(features_valid.shape)\n",
    "display(features_test.shape)"
   ]
  },
  {
   "cell_type": "markdown",
   "metadata": {},
   "source": [
    "## Исследование моделей"
   ]
  },
  {
   "cell_type": "markdown",
   "metadata": {},
   "source": [
    "### Исследуем модель дерева принятия решений, изменяя гиперпараметр глубины дерева"
   ]
  },
  {
   "cell_type": "code",
   "execution_count": 9,
   "metadata": {},
   "outputs": [
    {
     "name": "stdout",
     "output_type": "stream",
     "text": [
      "Лучшая модель с глубиной = 4, точность: 0.7957658779576587\n"
     ]
    }
   ],
   "source": [
    "best_model = None\n",
    "best_accuracy = 0\n",
    "result_tree = {}\n",
    "for depth in range(1,10):\n",
    "    model = DecisionTreeClassifier(random_state=1, max_depth = depth)\n",
    "    model.fit(features_train, target_train)\n",
    "    predictions_valid = model.predict(features_valid)\n",
    "    accuracy = accuracy_score(target_valid, predictions_valid)\n",
    "    result_tree[depth] = accuracy\n",
    "    if accuracy > best_accuracy:\n",
    "        optimal_depth = depth\n",
    "        best_accuracy = accuracy\n",
    "        best_tree_model = model\n",
    "print(f'Лучшая модель с глубиной = {optimal_depth}, точность: {best_accuracy}')"
   ]
  },
  {
   "cell_type": "code",
   "execution_count": 10,
   "metadata": {},
   "outputs": [
    {
     "data": {
      "image/png": "[encoded data removed]",
      "text/plain": [
       "<Figure size 720x360 with 1 Axes>"
      ]
     },
     "metadata": {
      "needs_background": "light"
     },
     "output_type": "display_data"
    }
   ],
   "source": [
    "pd.DataFrame.from_dict(result_tree, orient='index').plot(grid=True, figsize=(10,5))\n",
    "plt.title('Зависимость точности от глубины деревьев'+\"\\n\", size = 16)\n",
    "plt.xlabel('Глубина дерева', size=14)\n",
    "plt.show()"
   ]
  },
  {
   "cell_type": "markdown",
   "metadata": {},
   "source": [
    "Как мы видим глубина 1 не превышает заданный условием порог в 0.75, а с глубины равной 2 и далее точность колеблется примерно на одном, удовлетворяющем условию, уровне."
   ]
  },
  {
   "cell_type": "markdown",
   "metadata": {},
   "source": [
    "### Исследуем модель рандомного леса, изменяя гиперпараметр количества оценщиков"
   ]
  },
  {
   "cell_type": "code",
   "execution_count": 11,
   "metadata": {},
   "outputs": [
    {
     "name": "stdout",
     "output_type": "stream",
     "text": [
      "Лучшая модель с количеством оценщиков = 36, точность: 0.8032378580323786\n"
     ]
    }
   ],
   "source": [
    "best_model = None\n",
    "best_accuracy = 0\n",
    "result_forest = {}\n",
    "\n",
    "for est in range(1, 52, 5):\n",
    "    model = RandomForestClassifier(random_state=1, n_estimators = est)\n",
    "    model.fit(features_train, target_train)\n",
    "    predictions_valid = model.predict(features_valid)\n",
    "    accuracy = accuracy_score(target_valid, predictions_valid)\n",
    "    result_forest[est] = accuracy\n",
    "    if accuracy > best_accuracy:\n",
    "        optimal_est = est\n",
    "        best_accuracy = accuracy\n",
    "        best_forest_model = model\n",
    "print(f'Лучшая модель с количеством оценщиков = {optimal_est}, точность: {best_accuracy}')"
   ]
  },
  {
   "cell_type": "code",
   "execution_count": 12,
   "metadata": {},
   "outputs": [
    {
     "data": {
      "image/png": "[encoded data removed]",
      "text/plain": [
       "<Figure size 720x360 with 1 Axes>"
      ]
     },
     "metadata": {
      "needs_background": "light"
     },
     "output_type": "display_data"
    }
   ],
   "source": [
    "pd.DataFrame.from_dict(result_forest, orient='index').plot(grid=True, figsize=(10,5))\n",
    "plt.title('Зависимость точности от количества оценщиков'+\"\\n\", size = 16)\n",
    "plt.xlabel('Количество оценщиков', size=14)\n",
    "plt.xticks(np.arange(0, 55, 2))\n",
    "plt.show()"
   ]
  },
  {
   "cell_type": "markdown",
   "metadata": {},
   "source": [
    "На графике видно, что требуемая точность достигается уже при количестве оценщиков равном 3, а затем выходит на плато 0.79-0.80."
   ]
  },
  {
   "cell_type": "markdown",
   "metadata": {},
   "source": [
    "### Исследуем модель логистической регрессии"
   ]
  },
  {
   "cell_type": "code",
   "execution_count": 13,
   "metadata": {},
   "outputs": [
    {
     "name": "stdout",
     "output_type": "stream",
     "text": [
      "Точность модели логистической регрессии равна: 0.7471980074719801\n"
     ]
    }
   ],
   "source": [
    "log_model = LogisticRegression(random_state=1)\n",
    "log_model.fit(features_train, target_train)\n",
    "result = log_model.predict(features_valid)\n",
    "accuracy = accuracy_score(target_valid,result)\n",
    "print('Точность модели логистической регрессии равна:', accuracy)"
   ]
  },
  {
   "cell_type": "markdown",
   "metadata": {},
   "source": [
    "Точность данной модели ниже порогового значения."
   ]
  },
  {
   "cell_type": "markdown",
   "metadata": {},
   "source": [
    "### Исследование модели рандомного леса с использованием RandomizedSearchCV"
   ]
  },
  {
   "cell_type": "markdown",
   "metadata": {},
   "source": [
    "Воспользуемся алгоритмом RandomizedSearchCV для подбора наилучших гиперпараметров модели."
   ]
  },
  {
   "cell_type": "code",
   "execution_count": 14,
   "metadata": {},
   "outputs": [
    {
     "name": "stdout",
     "output_type": "stream",
     "text": [
      "Точность модели рандомного леса с использованием алгоритма подбора гиперпараметров равна: 0.7945205479452054\n"
     ]
    }
   ],
   "source": [
    "rf_grid = {'n_estimators': [int(x) for x in np.linspace(start = 10, stop = 50, num = 10)],\n",
    "           'max_features': ['auto', 'sqrt'],\n",
    "           'max_depth': [int(x) for x in np.linspace(3, 33, num = 11)],\n",
    "           'min_samples_split': [2, 5, 10],\n",
    "           'min_samples_leaf': [1, 2, 4]}\n",
    "\n",
    "model = RandomizedSearchCV(estimator = RandomForestClassifier(random_state=1), \n",
    "                   param_distributions = rf_grid, \n",
    "                   cv = 5, n_iter = 10)\n",
    "\n",
    "model.fit(features_train, target_train)\n",
    "result = model.predict(features_valid)\n",
    "\n",
    "print('Точность модели рандомного леса с использованием алгоритма подбора гиперпараметров равна:', \n",
    "      accuracy_score(target_valid, result))"
   ]
  },
  {
   "cell_type": "markdown",
   "metadata": {},
   "source": [
    "### Исследование модели рандомного леса с использованием HalvingGridSearchCV"
   ]
  },
  {
   "cell_type": "code",
   "execution_count": 15,
   "metadata": {},
   "outputs": [
    {
     "name": "stdout",
     "output_type": "stream",
     "text": [
      "{'max_depth': 6, 'max_features': 'auto', 'min_samples_leaf': 2, 'min_samples_split': 10, 'n_estimators': 50}\n",
      "Точность модели рандомного леса с использованием алгоритма HalvingGridSearchCV равна: 0.8032378580323786\n",
      "{'max_depth': 3, 'max_features': 'auto', 'min_samples_leaf': 2, 'min_samples_split': 5, 'n_estimators': 18}\n",
      "Точность модели рандомного леса с использованием алгоритма HalvingGridSearchCV равна: 0.7858032378580324\n",
      "{'max_depth': 3, 'max_features': 'sqrt', 'min_samples_leaf': 1, 'min_samples_split': 10, 'n_estimators': 18}\n",
      "Точность модели рандомного леса с использованием алгоритма HalvingGridSearchCV равна: 0.7858032378580324\n"
     ]
    }
   ],
   "source": [
    "rf_grid = {'n_estimators': [int(x) for x in np.linspace(start = 10, stop = 50, num = 10)],\n",
    "           'max_features': ['auto', 'sqrt'],\n",
    "           'max_depth': [int(x) for x in np.linspace(3, 33, num = 11)],\n",
    "           'min_samples_split': [2, 5, 10],\n",
    "           'min_samples_leaf': [1, 2, 4]}\n",
    "\n",
    "model = HalvingGridSearchCV(RandomForestClassifier(random_state=1), \n",
    "                            rf_grid, \n",
    "                            scoring=\"accuracy\", \n",
    "                            n_jobs=-1, \n",
    "                            min_resources=\"exhaust\", \n",
    "                            factor=3)\n",
    "for i in range(3):\n",
    "    model.fit(features_train, target_train)\n",
    "    print(model.best_params_)\n",
    "    result = model.predict(features_valid)\n",
    "    print('Точность модели рандомного леса с использованием алгоритма HalvingGridSearchCV равна:', \n",
    "          accuracy_score(target_valid, result))"
   ]
  },
  {
   "cell_type": "markdown",
   "metadata": {},
   "source": [
    "### Исследование модели рандомного леса с использованием HalvingRandomSearchCV"
   ]
  },
  {
   "cell_type": "code",
   "execution_count": 16,
   "metadata": {},
   "outputs": [
    {
     "name": "stdout",
     "output_type": "stream",
     "text": [
      "{'n_estimators': 36, 'min_samples_split': 2, 'min_samples_leaf': 4, 'max_features': 'sqrt', 'max_depth': 3}\n",
      "Точность модели рандомного леса с использованием алгоритма HalvingRandomSearchCV равна: 0.788293897882939\n",
      "{'n_estimators': 36, 'min_samples_split': 2, 'min_samples_leaf': 4, 'max_features': 'sqrt', 'max_depth': 3}\n",
      "Точность модели рандомного леса с использованием алгоритма HalvingRandomSearchCV равна: 0.788293897882939\n",
      "{'n_estimators': 36, 'min_samples_split': 2, 'min_samples_leaf': 4, 'max_features': 'sqrt', 'max_depth': 3}\n",
      "Точность модели рандомного леса с использованием алгоритма HalvingRandomSearchCV равна: 0.788293897882939\n"
     ]
    }
   ],
   "source": [
    "rf_grid = {'n_estimators': [int(x) for x in np.linspace(start = 10, stop = 50, num = 10)],\n",
    "           'max_features': ['auto', 'sqrt'],\n",
    "           'max_depth': [int(x) for x in np.linspace(3, 33, num = 11)],\n",
    "           'min_samples_split': [2, 5, 10],\n",
    "           'min_samples_leaf': [1, 2, 4]}\n",
    "\n",
    "model = HalvingRandomSearchCV(RandomForestClassifier(random_state=0), \n",
    "                               rf_grid, \n",
    "                               random_state=0)\n",
    "for i in range(3):\n",
    "    model.fit(features_train, target_train)\n",
    "    print(model.best_params_)\n",
    "    result = model.predict(features_valid)\n",
    "    print('Точность модели рандомного леса с использованием алгоритма HalvingRandomSearchCV равна:', \n",
    "            accuracy_score(target_valid, result))"
   ]
  },
  {
   "cell_type": "markdown",
   "metadata": {},
   "source": [
    "**После сравнения показателей точности выяснилось, что наибольшей точностью обладает модель, в которой использовался алгоритм RandomForestClassifier. Следовательно, целесообразно выбрать именно эту модель для проверки на тестовой выборке.**"
   ]
  },
  {
   "cell_type": "markdown",
   "metadata": {},
   "source": [
    "## Проверка модели на тестовой выборке"
   ]
  },
  {
   "cell_type": "markdown",
   "metadata": {},
   "source": [
    "**Проверка модели на основе RandomForestClassifier с количеством оценщиков = 36 .**"
   ]
  },
  {
   "cell_type": "code",
   "execution_count": 17,
   "metadata": {},
   "outputs": [
    {
     "name": "stdout",
     "output_type": "stream",
     "text": [
      "Точность модели на тестовой выборке равна: 0.7935323383084577\n"
     ]
    }
   ],
   "source": [
    "result = best_forest_model.predict(features_test)\n",
    "print('Точность модели на тестовой выборке равна:', accuracy_score(target_test, result))"
   ]
  },
  {
   "cell_type": "markdown",
   "metadata": {},
   "source": [
    "**На тестовой выборке модель показала точность 0.79, что удовлетворяет условию исследования о пороге точности.**"
   ]
  },
  {
   "cell_type": "markdown",
   "metadata": {},
   "source": [
    "## Проверка модели на адекватность"
   ]
  },
  {
   "cell_type": "markdown",
   "metadata": {},
   "source": [
    "Чтобы проверить адекватность исследования, произведём сравнение модели рандомный лес с моделью, которая предлагает самый часто встречающийся вариант целевого параметра."
   ]
  },
  {
   "cell_type": "code",
   "execution_count": 18,
   "metadata": {},
   "outputs": [
    {
     "name": "stdout",
     "output_type": "stream",
     "text": [
      "Точность простейшей модели равна: 0.6791044776119403\n"
     ]
    }
   ],
   "source": [
    "dummy_model = DummyClassifier(strategy=\"most_frequent\")\n",
    "dummy_model.fit(features_train, target_train)\n",
    "result = dummy_model.predict(features_test)\n",
    "dummy_accuracy = accuracy_score(target_test, result)\n",
    "print('Точность простейшей модели равна:', dummy_accuracy)"
   ]
  },
  {
   "cell_type": "markdown",
   "metadata": {},
   "source": [
    "**Результат сравнеия точности модели рандомного леса и простейшей модели говорит о том, что самая точная, из выбранных нами моделей, работает значительно лучше, чем если бы мы просто брали самое частое значение целевого параметра, следовательно, она выдаёт адекватные результаты.**"
   ]
  },
  {
   "cell_type": "markdown",
   "metadata": {},
   "source": [
    "## Общий вывод"
   ]
  },
  {
   "cell_type": "markdown",
   "metadata": {},
   "source": [
    "В ходе исследования были проанализированы данные о пользователях компании мобильной связи. Затем проведена подготовка выборок для создания моделей классификации пользователей по тарифным планам.   \n",
    "Протестированы различные модели машинного обучения с разными настройками гиперпараметров.   \n",
    "По итогу тестирования была определена наилучшая по точности модель, которая основана на алгоритме рандомного леса. На тестовой выборке данная модель показала результат, полностью соответсвующий цели исследования. Точность выбранной модели значительно превышает результат простейшей модели, что говорит о целесообразности её применения."
   ]
  }
 ],
 "metadata": {
  "ExecuteTimeLog": [
   {
    "duration": 406,
    "start_time": "2022-12-13T09:37:34.082Z"
   },
   {
    "duration": 73,
    "start_time": "2022-12-13T09:38:00.070Z"
   },
   {
    "duration": 11,
    "start_time": "2022-12-13T09:38:13.093Z"
   },
   {
    "duration": 16,
    "start_time": "2022-12-13T09:38:19.944Z"
   },
   {
    "duration": 652,
    "start_time": "2022-12-13T09:50:11.913Z"
   },
   {
    "duration": 102,
    "start_time": "2022-12-13T09:50:16.278Z"
   },
   {
    "duration": 4,
    "start_time": "2022-12-13T09:50:27.376Z"
   },
   {
    "duration": 74,
    "start_time": "2022-12-13T09:50:28.008Z"
   },
   {
    "duration": 6,
    "start_time": "2022-12-13T09:50:31.983Z"
   },
   {
    "duration": 1759,
    "start_time": "2022-12-13T17:30:17.149Z"
   },
   {
    "duration": 80,
    "start_time": "2022-12-13T17:30:20.849Z"
   },
   {
    "duration": 13,
    "start_time": "2022-12-13T17:30:22.533Z"
   },
   {
    "duration": 14,
    "start_time": "2022-12-13T17:30:23.217Z"
   },
   {
    "duration": 4,
    "start_time": "2022-12-13T17:30:25.400Z"
   },
   {
    "duration": 7,
    "start_time": "2022-12-13T17:30:26.474Z"
   },
   {
    "duration": 5,
    "start_time": "2022-12-13T17:31:22.362Z"
   },
   {
    "duration": 50,
    "start_time": "2022-12-14T05:41:36.795Z"
   },
   {
    "duration": 1591,
    "start_time": "2022-12-14T05:41:40.569Z"
   },
   {
    "duration": 125,
    "start_time": "2022-12-14T05:41:42.161Z"
   },
   {
    "duration": 14,
    "start_time": "2022-12-14T05:41:42.288Z"
   },
   {
    "duration": 19,
    "start_time": "2022-12-14T05:41:43.336Z"
   },
   {
    "duration": 5,
    "start_time": "2022-12-14T05:41:45.042Z"
   },
   {
    "duration": 5,
    "start_time": "2022-12-14T05:42:28.280Z"
   },
   {
    "duration": 4,
    "start_time": "2022-12-14T05:42:42.004Z"
   },
   {
    "duration": 4,
    "start_time": "2022-12-14T05:44:04.417Z"
   },
   {
    "duration": 5,
    "start_time": "2022-12-14T05:44:09.750Z"
   },
   {
    "duration": 5,
    "start_time": "2022-12-14T05:44:15.686Z"
   },
   {
    "duration": 5,
    "start_time": "2022-12-14T05:44:33.895Z"
   },
   {
    "duration": 4,
    "start_time": "2022-12-14T05:44:37.525Z"
   },
   {
    "duration": 4,
    "start_time": "2022-12-14T05:44:45.752Z"
   },
   {
    "duration": 4,
    "start_time": "2022-12-14T05:44:49.552Z"
   },
   {
    "duration": 10,
    "start_time": "2022-12-14T06:22:50.934Z"
   },
   {
    "duration": 76,
    "start_time": "2022-12-14T06:30:23.567Z"
   },
   {
    "duration": 11,
    "start_time": "2022-12-14T06:31:25.704Z"
   },
   {
    "duration": 12,
    "start_time": "2022-12-14T06:31:35.499Z"
   },
   {
    "duration": 1332,
    "start_time": "2022-12-14T06:32:25.550Z"
   },
   {
    "duration": 30,
    "start_time": "2022-12-14T06:32:26.884Z"
   },
   {
    "duration": 12,
    "start_time": "2022-12-14T06:32:27.039Z"
   },
   {
    "duration": 13,
    "start_time": "2022-12-14T06:32:27.290Z"
   },
   {
    "duration": 5,
    "start_time": "2022-12-14T06:32:28.123Z"
   },
   {
    "duration": 4,
    "start_time": "2022-12-14T06:32:28.783Z"
   },
   {
    "duration": 7,
    "start_time": "2022-12-14T06:32:29.188Z"
   },
   {
    "duration": 7,
    "start_time": "2022-12-14T06:32:29.390Z"
   },
   {
    "duration": 63,
    "start_time": "2022-12-14T06:32:30.273Z"
   },
   {
    "duration": 184,
    "start_time": "2022-12-14T06:32:30.863Z"
   },
   {
    "duration": 1071,
    "start_time": "2022-12-14T06:32:32.113Z"
   },
   {
    "duration": 263,
    "start_time": "2022-12-14T06:32:33.186Z"
   },
   {
    "duration": 31,
    "start_time": "2022-12-14T06:32:35.601Z"
   },
   {
    "duration": 17638,
    "start_time": "2022-12-14T06:32:38.344Z"
   },
   {
    "duration": 12,
    "start_time": "2022-12-14T06:35:41.145Z"
   },
   {
    "duration": 12,
    "start_time": "2022-12-14T06:36:26.125Z"
   },
   {
    "duration": 5,
    "start_time": "2022-12-14T06:36:53.991Z"
   },
   {
    "duration": 11,
    "start_time": "2022-12-14T06:36:57.912Z"
   },
   {
    "duration": 13,
    "start_time": "2022-12-14T06:37:23.959Z"
   },
   {
    "duration": 11,
    "start_time": "2022-12-14T06:38:14.700Z"
   },
   {
    "duration": 0,
    "start_time": "2022-12-14T06:38:59.330Z"
   },
   {
    "duration": 92477,
    "start_time": "2022-12-14T06:39:44.058Z"
   },
   {
    "duration": 2123,
    "start_time": "2022-12-14T12:36:33.669Z"
   },
   {
    "duration": 143,
    "start_time": "2022-12-14T12:36:35.795Z"
   },
   {
    "duration": 16,
    "start_time": "2022-12-14T12:36:39.210Z"
   },
   {
    "duration": 10,
    "start_time": "2022-12-14T12:36:44.233Z"
   }
  ],
  "kernelspec": {
   "display_name": "Python 3 (ipykernel)",
   "language": "python",
   "name": "python3"
  },
  "language_info": {
   "codemirror_mode": {
    "name": "ipython",
    "version": 3
   },
   "file_extension": ".py",
   "mimetype": "text/x-python",
   "name": "python",
   "nbconvert_exporter": "python",
   "pygments_lexer": "ipython3",
   "version": "3.9.12"
  },
  "toc": {
   "base_numbering": 1,
   "nav_menu": {},
   "number_sections": true,
   "sideBar": true,
   "skip_h1_title": true,
   "title_cell": "Table of Contents",
   "title_sidebar": "Contents",
   "toc_cell": false,
   "toc_position": {
    "height": "calc(100% - 180px)",
    "left": "10px",
    "top": "150px",
    "width": "340px"
   },
   "toc_section_display": true,
   "toc_window_display": true
  }
 },
 "nbformat": 4,
 "nbformat_minor": 2
}
