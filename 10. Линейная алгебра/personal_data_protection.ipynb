{
 "cells": [
  {
   "cell_type": "markdown",
   "metadata": {},
   "source": [
    "# Защита персональных данных клиентов"
   ]
  },
  {
   "cell_type": "markdown",
   "metadata": {},
   "source": [
    "# Введение"
   ]
  },
  {
   "cell_type": "markdown",
   "metadata": {},
   "source": [
    "### Описание проекта \n",
    "Проект нацелен на защиту данных клиентов страховой компании «Хоть потоп».\n",
    "### Цель проекта\n",
    "Разработать такой метод преобразования данных, чтобы по ним было сложно восстановить персональную информацию.\n",
    "### Описание данных\n",
    "**Нам предоставили данные клиентов страховой компании «Хоть потоп».**   \n",
    "\n",
    "\n",
    "В таблице данных представлены следующие параметры:  \n",
    "\n",
    "**Признаки:**\n",
    "- Пол — пол клиента;\n",
    "- Возраст — возраст клиента;\n",
    "- Зарплата — размер зарплаты клиента;\n",
    "- Члены семьи — количество членов семьи клиента.\n",
    "\n",
    "**Целевой признак:**\n",
    "- Страховые выплаты — количество страховых выплат клиенту за последние 5 лет.\n",
    "\n",
    "### Инструкция по выполнению \n",
    "\n",
    "\n",
    "1. Загрузить и изучить данные.\n",
    "2. Ответить на вопрос и обосновать решение.   \n",
    "Признаки умножаются на обратимую матрицу. Изменится ли качество линейной регрессии? (Её можно обучить заново.)\n",
    " - a. Изменится. Приведите примеры матриц.\n",
    " - b. Не изменится. Укажите, как связаны параметры линейной регрессии в исходной задаче и в преобразованной.\n",
    "3. Предложить алгоритм преобразования данных для решения задачи. Обосновать, почему качество линейной регрессии не поменяется.\n",
    "4. Запрограммировать этот алгоритм, применив матричные операции. Проверить, что качество линейной регрессии из sklearn не отличается до и после преобразования. Применить метрику R2.\n",
    "\n",
    "### План работы\n",
    "1. [Загрузка и подготовка данных](#section_1)\n",
    "2. [Умножение матриц](#section_2)  \n",
    "3. [Алгоритм преобразования](#section_3)  \n",
    "4. [Проверка алгоритма](#section_4)\n",
    "5. [Общий вывод](#section_5)"
   ]
  },
  {
   "cell_type": "markdown",
   "metadata": {},
   "source": [
    "<a id='section_1'></a>\n",
    "## Загрузка данных"
   ]
  },
  {
   "cell_type": "markdown",
   "metadata": {},
   "source": [
    "Загрузим необходимые библиотеки."
   ]
  },
  {
   "cell_type": "code",
   "execution_count": 1,
   "metadata": {},
   "outputs": [],
   "source": [
    "# анализ данных\n",
    "import pandas as pd\n",
    "import numpy as np\n",
    "\n",
    "# модель машинного обучения\n",
    "from sklearn.linear_model import LinearRegression\n",
    "\n",
    "# вспомогательные средства \n",
    "from sklearn.metrics import r2_score"
   ]
  },
  {
   "cell_type": "markdown",
   "metadata": {},
   "source": [
    "Загрузим файл с данными."
   ]
  },
  {
   "cell_type": "code",
   "execution_count": 2,
   "metadata": {},
   "outputs": [],
   "source": [
    "try:\n",
    "    data = pd.read_csv(r'D:\\projects_data\\insurance.csv')\n",
    "except:\n",
    "    data = pd.read_csv('/datasets/insurance.csv')"
   ]
  },
  {
   "cell_type": "markdown",
   "metadata": {},
   "source": [
    "Посмотрим на общую информацию о данных."
   ]
  },
  {
   "cell_type": "code",
   "execution_count": 3,
   "metadata": {},
   "outputs": [
    {
     "name": "stdout",
     "output_type": "stream",
     "text": [
      "<class 'pandas.core.frame.DataFrame'>\n",
      "RangeIndex: 5000 entries, 0 to 4999\n",
      "Data columns (total 5 columns):\n",
      " #   Column             Non-Null Count  Dtype  \n",
      "---  ------             --------------  -----  \n",
      " 0   Пол                5000 non-null   int64  \n",
      " 1   Возраст            5000 non-null   float64\n",
      " 2   Зарплата           5000 non-null   float64\n",
      " 3   Члены семьи        5000 non-null   int64  \n",
      " 4   Страховые выплаты  5000 non-null   int64  \n",
      "dtypes: float64(2), int64(3)\n",
      "memory usage: 195.4 KB\n"
     ]
    }
   ],
   "source": [
    "data.info()"
   ]
  },
  {
   "cell_type": "code",
   "execution_count": 4,
   "metadata": {},
   "outputs": [
    {
     "data": {
      "text/html": [
       "<div>\n",
       "<style scoped>\n",
       "    .dataframe tbody tr th:only-of-type {\n",
       "        vertical-align: middle;\n",
       "    }\n",
       "\n",
       "    .dataframe tbody tr th {\n",
       "        vertical-align: top;\n",
       "    }\n",
       "\n",
       "    .dataframe thead th {\n",
       "        text-align: right;\n",
       "    }\n",
       "</style>\n",
       "<table border=\"1\" class=\"dataframe\">\n",
       "  <thead>\n",
       "    <tr style=\"text-align: right;\">\n",
       "      <th></th>\n",
       "      <th>Пол</th>\n",
       "      <th>Возраст</th>\n",
       "      <th>Зарплата</th>\n",
       "      <th>Члены семьи</th>\n",
       "      <th>Страховые выплаты</th>\n",
       "    </tr>\n",
       "  </thead>\n",
       "  <tbody>\n",
       "    <tr>\n",
       "      <th>196</th>\n",
       "      <td>0</td>\n",
       "      <td>18.0</td>\n",
       "      <td>39800.0</td>\n",
       "      <td>4</td>\n",
       "      <td>0</td>\n",
       "    </tr>\n",
       "    <tr>\n",
       "      <th>3530</th>\n",
       "      <td>1</td>\n",
       "      <td>24.0</td>\n",
       "      <td>45600.0</td>\n",
       "      <td>3</td>\n",
       "      <td>0</td>\n",
       "    </tr>\n",
       "    <tr>\n",
       "      <th>2880</th>\n",
       "      <td>1</td>\n",
       "      <td>27.0</td>\n",
       "      <td>37900.0</td>\n",
       "      <td>0</td>\n",
       "      <td>0</td>\n",
       "    </tr>\n",
       "    <tr>\n",
       "      <th>1296</th>\n",
       "      <td>0</td>\n",
       "      <td>20.0</td>\n",
       "      <td>32800.0</td>\n",
       "      <td>3</td>\n",
       "      <td>0</td>\n",
       "    </tr>\n",
       "    <tr>\n",
       "      <th>1553</th>\n",
       "      <td>0</td>\n",
       "      <td>33.0</td>\n",
       "      <td>18400.0</td>\n",
       "      <td>0</td>\n",
       "      <td>0</td>\n",
       "    </tr>\n",
       "    <tr>\n",
       "      <th>3008</th>\n",
       "      <td>0</td>\n",
       "      <td>44.0</td>\n",
       "      <td>35800.0</td>\n",
       "      <td>1</td>\n",
       "      <td>1</td>\n",
       "    </tr>\n",
       "    <tr>\n",
       "      <th>368</th>\n",
       "      <td>0</td>\n",
       "      <td>40.0</td>\n",
       "      <td>29700.0</td>\n",
       "      <td>0</td>\n",
       "      <td>0</td>\n",
       "    </tr>\n",
       "    <tr>\n",
       "      <th>4803</th>\n",
       "      <td>0</td>\n",
       "      <td>38.0</td>\n",
       "      <td>53000.0</td>\n",
       "      <td>3</td>\n",
       "      <td>0</td>\n",
       "    </tr>\n",
       "    <tr>\n",
       "      <th>1230</th>\n",
       "      <td>1</td>\n",
       "      <td>32.0</td>\n",
       "      <td>46500.0</td>\n",
       "      <td>0</td>\n",
       "      <td>0</td>\n",
       "    </tr>\n",
       "    <tr>\n",
       "      <th>2484</th>\n",
       "      <td>1</td>\n",
       "      <td>31.0</td>\n",
       "      <td>38700.0</td>\n",
       "      <td>4</td>\n",
       "      <td>0</td>\n",
       "    </tr>\n",
       "  </tbody>\n",
       "</table>\n",
       "</div>"
      ],
      "text/plain": [
       "      Пол  Возраст  Зарплата  Члены семьи  Страховые выплаты\n",
       "196     0     18.0   39800.0            4                  0\n",
       "3530    1     24.0   45600.0            3                  0\n",
       "2880    1     27.0   37900.0            0                  0\n",
       "1296    0     20.0   32800.0            3                  0\n",
       "1553    0     33.0   18400.0            0                  0\n",
       "3008    0     44.0   35800.0            1                  1\n",
       "368     0     40.0   29700.0            0                  0\n",
       "4803    0     38.0   53000.0            3                  0\n",
       "1230    1     32.0   46500.0            0                  0\n",
       "2484    1     31.0   38700.0            4                  0"
      ]
     },
     "execution_count": 4,
     "metadata": {},
     "output_type": "execute_result"
    }
   ],
   "source": [
    "data.sample(10)"
   ]
  },
  {
   "cell_type": "code",
   "execution_count": 5,
   "metadata": {},
   "outputs": [
    {
     "data": {
      "text/plain": [
       "Пол                  0.0\n",
       "Возраст              0.0\n",
       "Зарплата             0.0\n",
       "Члены семьи          0.0\n",
       "Страховые выплаты    0.0\n",
       "dtype: float64"
      ]
     },
     "execution_count": 5,
     "metadata": {},
     "output_type": "execute_result"
    }
   ],
   "source": [
    "data.isna().mean()"
   ]
  },
  {
   "cell_type": "markdown",
   "metadata": {},
   "source": [
    "<a id='section_2'></a>\n",
    "## Умножение матриц"
   ]
  },
  {
   "cell_type": "markdown",
   "metadata": {},
   "source": [
    "В этом задании вы можете записывать формулы в *Jupyter Notebook.*\n",
    "\n",
    "Чтобы записать формулу внутри текста, окружите её символами доллара \\\\$; если снаружи —  двойными символами \\\\$\\\\$. Эти формулы записываются на языке вёрстки *LaTeX.* \n",
    "\n",
    "Для примера мы записали формулы линейной регрессии. Можете их скопировать и отредактировать, чтобы решить задачу.\n",
    "\n",
    "Работать в *LaTeX* необязательно."
   ]
  },
  {
   "cell_type": "markdown",
   "metadata": {},
   "source": [
    "Обозначения:\n",
    "\n",
    "- $X$ — матрица признаков (нулевой столбец состоит из единиц)\n",
    "\n",
    "- $y$ — вектор целевого признака\n",
    "\n",
    "- $P$ — матрица, на которую умножаются признаки\n",
    "\n",
    "- $w$ — вектор весов линейной регрессии (нулевой элемент равен сдвигу)"
   ]
  },
  {
   "cell_type": "markdown",
   "metadata": {},
   "source": [
    "Предсказания:\n",
    "\n",
    "$$\n",
    "a = Xw\n",
    "$$\n",
    "\n",
    "Задача обучения:\n",
    "\n",
    "$$\n",
    "w = \\arg\\min_w MSE(Xw, y)\n",
    "$$\n",
    "\n",
    "Формула обучения:\n",
    "\n",
    "$$\n",
    "w = (X^T X)^{-1} X^T y\n",
    "$$"
   ]
  },
  {
   "cell_type": "markdown",
   "metadata": {},
   "source": [
    "**Ответ:** качество линейной регрессии не изменится.\n",
    "\n",
    "**Обоснование:** \n",
    "\n",
    "\n",
    "Формула предсказания в матричном виде:\n",
    "\n",
    "$$\n",
    "a = Xw= X(X^T X)^{-1} X^T y \n",
    "$$\n",
    "\n",
    "Необходимые формулы:\n",
    "$$\n",
    "(AB)^{-1} = B^{-1}A^{-1}\\tag 1\n",
    "$$\n",
    "\n",
    "$$\n",
    "(AB)^{T} = B^{T}A^{T}\\tag 2\n",
    "$$\n",
    "\n",
    "$$\n",
    "A^{-1}A = AA^{-1} = E\\tag 3\n",
    "$$\n",
    "\n",
    "$$\n",
    "AE = EA = A\\tag 4\n",
    "$$\n",
    "\n",
    "Запишем новые предсказания в матричном виде домножив матрицу $X_{mxn}$ на квадратную матрицу $P_{nxn}$ :\n",
    "\n",
    "$$\n",
    "a' = XP((XP)^T XP)^{-1} (XP)^T y \n",
    "$$\n",
    "\n",
    "Используя свойства упростим формулу:\n",
    "+ Свойство №2\n",
    "$$\n",
    "a' = XP (P^T X^T XP)^{-1} P^T X^T y \n",
    "$$\n",
    "+ Свойство №1\n",
    "$$\n",
    "a' = XP P^{-1} (X^TX)^{-1} (P^T)^{-1} P^T X^T  y \n",
    "$$\n",
    "+ Свойство №3\n",
    "$$\n",
    "a' = X E (X^TX)^{-1} E X^T y \n",
    "$$\n",
    "+ Свойство №4\n",
    "$$\n",
    "a' = X (X^TX)^{-1} X^T y = Xw\n",
    "$$\n",
    "\n",
    "$$\n",
    "a' = a\n",
    "$$"
   ]
  },
  {
   "cell_type": "markdown",
   "metadata": {},
   "source": [
    "<a id='section_3'></a>\n",
    "## Алгоритм преобразования"
   ]
  },
  {
   "cell_type": "markdown",
   "metadata": {},
   "source": [
    "**Алгоритм**\n",
    "\n",
    "1. Подготовка признаков для обучения и целевого признака.\n",
    "2. Создание обратомой квадратной матрицы размерности n со случайными значеними.\n",
    "3. Умножение матрицы признаков на матрицу со случайными значениями.\n",
    "4. Обучение моделей на исходных и преобразованных признаках.\n",
    "5. Сравнение качества моделей с помощью метрики R2."
   ]
  },
  {
   "cell_type": "markdown",
   "metadata": {},
   "source": [
    "**Обоснование**\n",
    "\n",
    "Исходя из пункта №2 шифрование не изменит качества линейной регрессии, следовательно, такой алгоритм можно использовать для кодировки данных."
   ]
  },
  {
   "cell_type": "markdown",
   "metadata": {},
   "source": [
    "<a id='section_4'></a>\n",
    "## Проверка алгоритма"
   ]
  },
  {
   "cell_type": "markdown",
   "metadata": {},
   "source": [
    "Разделим датасет на признаки объектов и целевые признаки."
   ]
  },
  {
   "cell_type": "code",
   "execution_count": 6,
   "metadata": {},
   "outputs": [],
   "source": [
    "X = data.drop('Страховые выплаты', axis = 1)\n",
    "y = data['Страховые выплаты']"
   ]
  },
  {
   "cell_type": "markdown",
   "metadata": {},
   "source": [
    "Создадим функцию преобразования признаков путём домножения на невырожденную квадратную матрицу размером с количество объектов. Для создадим специальную матрицу, на которую будет производиться домножение. Она же будет являться уникальным ключом для восстановления преобразованных данных."
   ]
  },
  {
   "cell_type": "code",
   "execution_count": 7,
   "metadata": {},
   "outputs": [],
   "source": [
    "def transform(X):\n",
    "    matrix_size = X.shape[1]\n",
    "    np.random.seed(12345)\n",
    "    Z = np.random.normal(size=(matrix_size, matrix_size))\n",
    "    try:\n",
    "        inv = np.linalg.inv(Z)\n",
    "    except np.linalg.LinAlgError:\n",
    "        pass\n",
    "    else:    \n",
    "        return X.dot(Z)"
   ]
  },
  {
   "cell_type": "markdown",
   "metadata": {},
   "source": [
    "Преобразуем признаки."
   ]
  },
  {
   "cell_type": "code",
   "execution_count": 8,
   "metadata": {},
   "outputs": [],
   "source": [
    "X_transformed = transform(X)"
   ]
  },
  {
   "cell_type": "code",
   "execution_count": 9,
   "metadata": {},
   "outputs": [
    {
     "data": {
      "text/plain": [
       "((5000, 4), (5000, 4))"
      ]
     },
     "execution_count": 9,
     "metadata": {},
     "output_type": "execute_result"
    }
   ],
   "source": [
    "# проверка размеров\n",
    "X.shape, X_transformed.shape"
   ]
  },
  {
   "cell_type": "markdown",
   "metadata": {},
   "source": [
    "Модель, обученная на исходных данных."
   ]
  },
  {
   "cell_type": "code",
   "execution_count": 10,
   "metadata": {},
   "outputs": [],
   "source": [
    "model = LinearRegression()\n",
    "model.fit(X, y)\n",
    "predicted_1 = model.predict(X)\n",
    "r2_score_1 = r2_score(y, predicted_1).round(10)"
   ]
  },
  {
   "cell_type": "markdown",
   "metadata": {},
   "source": [
    "Модель, обученная на преобразованных данных."
   ]
  },
  {
   "cell_type": "code",
   "execution_count": 11,
   "metadata": {},
   "outputs": [],
   "source": [
    "model = LinearRegression()\n",
    "model.fit(X_transformed, y)\n",
    "predicted_2 = model.predict(X_transformed)\n",
    "r2_score_2 = r2_score(y, predicted_2).round(10)"
   ]
  },
  {
   "cell_type": "code",
   "execution_count": 12,
   "metadata": {},
   "outputs": [
    {
     "name": "stdout",
     "output_type": "stream",
     "text": [
      "R2 обеих моделей равна: 0.4249455029\n"
     ]
    }
   ],
   "source": [
    "if r2_score_1 == r2_score_2:\n",
    "    print('R2 обеих моделей равна:', r2_score_1)\n",
    "else:\n",
    "    print('R2 моделей отличаются:', r2_score_1, r2_score_2)"
   ]
  },
  {
   "cell_type": "markdown",
   "metadata": {},
   "source": [
    "Метрики обеих моделей совпадают, что подтверждает изначальную гипотезу."
   ]
  },
  {
   "cell_type": "markdown",
   "metadata": {},
   "source": [
    "<a id='section_5'></a>\n",
    "## Общий вывод"
   ]
  },
  {
   "cell_type": "markdown",
   "metadata": {},
   "source": [
    "В ходе исследования был предложен метод кодировки данных с помощью операций линейной алгебры. \n",
    "\n",
    "**После проделанного исследования можно сделать следующие выводы:**\n",
    "1. Умножение матрицы MxN на квадратную матрицу размером NxN не приводит к изменению качества линейной регрессии.\n",
    "2. Алгоритм преобразования данных с использованием матрицы в качестве ключа целесообразно применять для шифровки данных."
   ]
  }
 ],
 "metadata": {
  "ExecuteTimeLog": [
   {
    "duration": 539,
    "start_time": "2023-02-16T20:05:29.644Z"
   },
   {
    "duration": 0,
    "start_time": "2023-02-16T20:05:30.186Z"
   },
   {
    "duration": 0,
    "start_time": "2023-02-16T20:05:30.189Z"
   },
   {
    "duration": 0,
    "start_time": "2023-02-16T20:05:30.192Z"
   },
   {
    "duration": 0,
    "start_time": "2023-02-16T20:05:30.193Z"
   },
   {
    "duration": 0,
    "start_time": "2023-02-16T20:05:30.194Z"
   },
   {
    "duration": 0,
    "start_time": "2023-02-16T20:05:30.195Z"
   },
   {
    "duration": 0,
    "start_time": "2023-02-16T20:05:30.196Z"
   },
   {
    "duration": 0,
    "start_time": "2023-02-16T20:05:30.197Z"
   },
   {
    "duration": 0,
    "start_time": "2023-02-16T20:05:30.198Z"
   },
   {
    "duration": 19327,
    "start_time": "2023-02-16T20:06:17.014Z"
   },
   {
    "duration": 22,
    "start_time": "2023-02-16T20:06:36.344Z"
   },
   {
    "duration": 3721,
    "start_time": "2023-02-16T20:06:44.657Z"
   },
   {
    "duration": 78,
    "start_time": "2023-02-16T20:07:06.440Z"
   },
   {
    "duration": 7836,
    "start_time": "2023-02-16T20:07:08.063Z"
   },
   {
    "duration": 2,
    "start_time": "2023-02-16T20:07:37.377Z"
   },
   {
    "duration": 4,
    "start_time": "2023-02-16T20:10:54.825Z"
   },
   {
    "duration": 5,
    "start_time": "2023-02-16T20:10:55.299Z"
   },
   {
    "duration": 6,
    "start_time": "2023-02-16T20:10:55.989Z"
   },
   {
    "duration": 4,
    "start_time": "2023-02-16T20:10:56.274Z"
   },
   {
    "duration": 150,
    "start_time": "2023-02-16T20:10:56.799Z"
   },
   {
    "duration": 9,
    "start_time": "2023-02-16T20:10:57.310Z"
   },
   {
    "duration": 4,
    "start_time": "2023-02-16T20:10:57.481Z"
   },
   {
    "duration": 5,
    "start_time": "2023-02-17T07:16:13.554Z"
   },
   {
    "duration": 611,
    "start_time": "2023-02-17T07:16:13.561Z"
   },
   {
    "duration": 0,
    "start_time": "2023-02-17T07:16:14.174Z"
   },
   {
    "duration": 0,
    "start_time": "2023-02-17T07:16:14.176Z"
   },
   {
    "duration": 0,
    "start_time": "2023-02-17T07:16:14.178Z"
   },
   {
    "duration": 0,
    "start_time": "2023-02-17T07:16:14.179Z"
   },
   {
    "duration": 0,
    "start_time": "2023-02-17T07:16:14.181Z"
   },
   {
    "duration": 0,
    "start_time": "2023-02-17T07:16:14.182Z"
   },
   {
    "duration": 0,
    "start_time": "2023-02-17T07:16:14.183Z"
   },
   {
    "duration": 0,
    "start_time": "2023-02-17T07:16:14.185Z"
   },
   {
    "duration": 1,
    "start_time": "2023-02-17T07:16:14.185Z"
   },
   {
    "duration": 17526,
    "start_time": "2023-02-17T07:16:30.103Z"
   },
   {
    "duration": 552,
    "start_time": "2023-02-17T07:16:47.631Z"
   },
   {
    "duration": 0,
    "start_time": "2023-02-17T07:16:48.186Z"
   },
   {
    "duration": 0,
    "start_time": "2023-02-17T07:16:48.187Z"
   },
   {
    "duration": 0,
    "start_time": "2023-02-17T07:16:48.189Z"
   },
   {
    "duration": 0,
    "start_time": "2023-02-17T07:16:48.190Z"
   },
   {
    "duration": 0,
    "start_time": "2023-02-17T07:16:48.192Z"
   },
   {
    "duration": 0,
    "start_time": "2023-02-17T07:16:48.193Z"
   },
   {
    "duration": 0,
    "start_time": "2023-02-17T07:16:48.195Z"
   },
   {
    "duration": 0,
    "start_time": "2023-02-17T07:16:48.196Z"
   },
   {
    "duration": 0,
    "start_time": "2023-02-17T07:16:48.198Z"
   },
   {
    "duration": 2655,
    "start_time": "2023-02-17T07:18:30.223Z"
   },
   {
    "duration": 16,
    "start_time": "2023-02-17T07:18:40.082Z"
   },
   {
    "duration": 2685,
    "start_time": "2023-02-17T07:19:21.754Z"
   },
   {
    "duration": 16,
    "start_time": "2023-02-17T07:19:24.442Z"
   },
   {
    "duration": 8,
    "start_time": "2023-02-17T07:19:36.561Z"
   },
   {
    "duration": 12,
    "start_time": "2023-02-17T07:21:35.761Z"
   },
   {
    "duration": 13,
    "start_time": "2023-02-17T07:21:44.139Z"
   },
   {
    "duration": 2525,
    "start_time": "2023-02-17T07:22:03.749Z"
   },
   {
    "duration": 17,
    "start_time": "2023-02-17T07:22:22.395Z"
   },
   {
    "duration": 110,
    "start_time": "2023-02-17T07:22:25.730Z"
   },
   {
    "duration": 15,
    "start_time": "2023-02-17T07:22:26.548Z"
   },
   {
    "duration": 3594,
    "start_time": "2023-02-17T07:25:31.034Z"
   },
   {
    "duration": 17,
    "start_time": "2023-02-17T07:25:39.072Z"
   }
  ],
  "kernelspec": {
   "display_name": "Python 3 (ipykernel)",
   "language": "python",
   "name": "python3"
  },
  "language_info": {
   "codemirror_mode": {
    "name": "ipython",
    "version": 3
   },
   "file_extension": ".py",
   "mimetype": "text/x-python",
   "name": "python",
   "nbconvert_exporter": "python",
   "pygments_lexer": "ipython3",
   "version": "3.9.12"
  },
  "toc": {
   "base_numbering": 1,
   "nav_menu": {},
   "number_sections": true,
   "sideBar": true,
   "skip_h1_title": true,
   "title_cell": "Содержание",
   "title_sidebar": "Contents",
   "toc_cell": false,
   "toc_position": {
    "height": "calc(100% - 180px)",
    "left": "10px",
    "top": "150px",
    "width": "290.27px"
   },
   "toc_section_display": true,
   "toc_window_display": true
  }
 },
 "nbformat": 4,
 "nbformat_minor": 2
}
